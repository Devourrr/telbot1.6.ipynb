{
 "cells": [
  {
   "cell_type": "markdown",
   "metadata": {},
   "source": [
    "### Oracle - cx_Oracle"
   ]
  },
  {
   "cell_type": "markdown",
   "metadata": {},
   "source": [
    "#### 1. Connecting to Oracle"
   ]
  },
  {
   "cell_type": "code",
   "execution_count": 1,
   "metadata": {},
   "outputs": [
    {
     "name": "stdout",
     "output_type": "stream",
     "text": [
      "Requirement already satisfied: cx_oracle in c:\\users\\user01\\anaconda3\\lib\\site-packages (8.1.0)\n"
     ]
    }
   ],
   "source": [
    "!pip install cx_oracle"
   ]
  },
  {
   "cell_type": "code",
   "execution_count": 2,
   "metadata": {},
   "outputs": [
    {
     "name": "stdout",
     "output_type": "stream",
     "text": [
      "(10, 'ACCOUNTING', 'NEW YORK')\n",
      "(20, 'RESEARCH', 'DALLAS')\n",
      "(30, 'SALES', 'CHICAGO')\n",
      "(40, 'OPERATIONS', 'BOSTON')\n"
     ]
    }
   ],
   "source": [
    "'''\n",
    "https://oracle.github.io/python-cx_Oracle\n",
    "https://oracle.github.io/python-cx_Oracle/samples/tutorial/Python-and-Oracle-Database-Scripting-for-the-Future.html\n",
    "'''\n",
    "\n",
    "import cx_Oracle    # pip install cx_oracle\n",
    "\n",
    "# 오라클 서비스 시작 후 실행\n",
    "con = cx_Oracle.connect(user='scott', password='tiger', dsn='localhost:1522/orcl')\n",
    "\n",
    "cur = con.cursor()   # SQL 수행 결과를 담을 메모리 공간\n",
    "cur.execute(\"\"\"\n",
    "            SELECT *\n",
    "            FROM DEPT\n",
    "        \"\"\")\n",
    "res = cur.fetchall()  # 커서에 담긴 내용을 모두 꺼내옴\n",
    "for row in res:\n",
    "    print(row)\n"
   ]
  },
  {
   "cell_type": "markdown",
   "metadata": {},
   "source": [
    "#### 2. Connection Pooling"
   ]
  },
  {
   "cell_type": "code",
   "execution_count": 3,
   "metadata": {},
   "outputs": [
    {
     "name": "stdout",
     "output_type": "stream",
     "text": [
      "ThreadThread #1 fetched sequence = 0\n",
      " #2 fetched sequence = 0\n",
      "Thread #2 fetched sequence = 1\n",
      "Thread #2 fetched sequence = 2\n",
      "Thread #2 fetched sequence = 3\n",
      "Thread #1 fetched sequence = 1\n",
      "Thread #1 fetched sequence = 2\n",
      "Thread #1 fetched sequence = 3\n",
      "All done!\n"
     ]
    }
   ],
   "source": [
    "'''\n",
    "https://oracle.github.io/python-cx_Oracle\n",
    "https://oracle.github.io/python-cx_Oracle/samples/tutorial/Python-and-Oracle-Database-Scripting-for-the-Future.html\n",
    "'''\n",
    "\n",
    "import cx_Oracle    # pip install cx_oracle\n",
    "import threading\n",
    "\n",
    "\n",
    "pool = cx_Oracle.SessionPool('scott', 'tiger', 'localhost:1522/orcl',\n",
    "                             min = 2, max = 5, increment = 1, threaded = True,\n",
    "                             getmode = cx_Oracle.SPOOL_ATTRVAL_WAIT)\n",
    "\n",
    "\n",
    "def Query():\n",
    "    con = pool.acquire()\n",
    "    cur = con.cursor()\n",
    "    for i in range(4):\n",
    "        cur.execute(f\"\"\"\n",
    "                    SELECT {i}\n",
    "                      FROM DUAL\n",
    "                \"\"\")\n",
    "                \n",
    "        seqval, = cur.fetchone()\n",
    "        print(\"Thread\",\n",
    "              threading.current_thread().name,\n",
    "              \"fetched sequence =\", seqval)\n",
    "\n",
    "\n",
    "thread1 = threading.Thread(name='#1', target=Query)\n",
    "thread1.start()\n",
    "\n",
    "thread2 = threading.Thread(name='#2', target=Query)\n",
    "thread2.start()\n",
    "\n",
    "thread1.join()\n",
    "thread2.join()\n",
    "\n",
    "print(\"All done!\")\n"
   ]
  },
  {
   "cell_type": "markdown",
   "metadata": {},
   "source": [
    "#### 스레딩 연습"
   ]
  },
  {
   "cell_type": "code",
   "execution_count": 4,
   "metadata": {},
   "outputs": [
    {
     "name": "stdout",
     "output_type": "stream",
     "text": [
      "Start\n",
      "working:0\n",
      "\n",
      "working:1\n",
      "\n",
      "working:2\n",
      "\n",
      "working:3\n",
      "\n",
      "working:4\n",
      "\n",
      "working:0\n",
      "\n",
      "working:1\n",
      "\n",
      "working:2\n",
      "\n",
      "working:3\n",
      "\n",
      "working:4\n",
      "\n",
      "working:0\n",
      "\n",
      "working:1\n",
      "\n",
      "working:2\n",
      "\n",
      "working:3\n",
      "\n",
      "working:4\n",
      "\n",
      "working:0\n",
      "\n",
      "working:1\n",
      "\n",
      "working:2\n",
      "\n",
      "working:3\n",
      "\n",
      "working:4\n",
      "\n",
      "working:0\n",
      "\n",
      "working:1\n",
      "\n",
      "working:2\n",
      "\n",
      "working:3\n",
      "\n",
      "working:4\n",
      "\n",
      "End\n"
     ]
    }
   ],
   "source": [
    "# thread_test.py\n",
    "import time\n",
    "\n",
    "def long_task():  # 5초의 시간이 걸리는 함수\n",
    "    for i in range(5):\n",
    "        time.sleep(1)  # 1초간 대기한다.\n",
    "        print(\"working:%s\\n\" % i)\n",
    "\n",
    "print(\"Start\")\n",
    "\n",
    "for i in range(5):  # long_task를 5회 수행한다.\n",
    "    long_task()\n",
    "\n",
    "print(\"End\")"
   ]
  },
  {
   "cell_type": "code",
   "execution_count": 6,
   "metadata": {},
   "outputs": [
    {
     "name": "stdout",
     "output_type": "stream",
     "text": [
      "Start\n",
      "working:0\n",
      "\n",
      "working:0\n",
      "working:0\n",
      "\n",
      "\n",
      "working:0\n",
      "\n",
      "working:0\n",
      "\n",
      "working:1\n",
      "\n",
      "working:1\n",
      "\n",
      "working:1\n",
      "working:1\n",
      "\n",
      "\n",
      "working:1\n",
      "\n",
      "working:2\n",
      "\n",
      "working:2\n",
      "\n",
      "working:2\n",
      "working:2\n",
      "\n",
      "\n",
      "working:2\n",
      "\n",
      "working:3\n",
      "\n",
      "working:3\n",
      "working:3\n",
      "\n",
      "working:3\n",
      "\n",
      "\n",
      "working:3\n",
      "\n",
      "working:4\n",
      "\n",
      "working:4\n",
      "\n",
      "working:4\n",
      "working:4\n",
      "\n",
      "\n",
      "working:4\n",
      "\n",
      "End\n"
     ]
    }
   ],
   "source": [
    "import time\n",
    "import threading  # 스레드를 생성하기 위해서는 threading 모듈이 필요하다.\n",
    "\n",
    "def long_task():\n",
    "    for i in range(5):\n",
    "        time.sleep(1)\n",
    "        print(\"working:%s\\n\" % i)\n",
    "\n",
    "print(\"Start\")\n",
    "\n",
    "threads = []\n",
    "for i in range(5):\n",
    "    t = threading.Thread(target=long_task)  # 스레드를 생성한다.\n",
    "    threads.append(t) \n",
    "\n",
    "for t in threads:\n",
    "    t.start()  # 스레드를 실행한다.\n",
    "\n",
    "for t in threads:\n",
    "    t.join()  # join으로 스레드가 종료될때까지 기다린다.\n",
    "    \n",
    "print(\"End\")"
   ]
  },
  {
   "cell_type": "markdown",
   "metadata": {},
   "source": [
    "#### 3. Fetching Data"
   ]
  },
  {
   "cell_type": "markdown",
   "metadata": {},
   "source": [
    "##### 3.1 A simple query"
   ]
  },
  {
   "cell_type": "code",
   "execution_count": 7,
   "metadata": {
    "scrolled": true
   },
   "outputs": [
    {
     "name": "stdout",
     "output_type": "stream",
     "text": [
      "Department number:  10\n",
      "Department name:  ACCOUNTING\n",
      "Department location: NEW YORK\n",
      "\n",
      "Department number:  20\n",
      "Department name:  RESEARCH\n",
      "Department location: DALLAS\n",
      "\n",
      "Department number:  30\n",
      "Department name:  SALES\n",
      "Department location: CHICAGO\n",
      "\n",
      "Department number:  40\n",
      "Department name:  OPERATIONS\n",
      "Department location: BOSTON\n",
      "\n"
     ]
    }
   ],
   "source": [
    "'''\n",
    "https://oracle.github.io/python-cx_Oracle\n",
    "https://oracle.github.io/python-cx_Oracle/samples/tutorial/Python-and-Oracle-Database-Scripting-for-the-Future.html\n",
    "'''\n",
    "\n",
    "import cx_Oracle    # pip install cx_oracle\n",
    "import threading\n",
    "\n",
    "\n",
    "pool = cx_Oracle.SessionPool('scott', 'tiger', 'localhost:1522/orcl',\n",
    "                             min = 2, max = 5, increment = 1, threaded = True,\n",
    "                             getmode = cx_Oracle.SPOOL_ATTRVAL_WAIT)\n",
    "\n",
    "\n",
    "con = pool.acquire()\n",
    "cur = con.cursor()\n",
    "\n",
    "cur.execute(\"\"\"\n",
    "            SELECT *\n",
    "              FROM DEPT\n",
    "            ORDER BY DEPTNO\n",
    "        \"\"\")\n",
    "\n",
    "for deptno, dname, loc in cur:\n",
    "    print(\"Department number: \", deptno)\n",
    "    print(\"Department name: \", dname)\n",
    "    print(\"Department location:\", loc)\n",
    "    print()\n"
   ]
  },
  {
   "cell_type": "markdown",
   "metadata": {},
   "source": [
    "##### 3.2 Using fetchone()"
   ]
  },
  {
   "cell_type": "code",
   "execution_count": 8,
   "metadata": {},
   "outputs": [
    {
     "name": "stdout",
     "output_type": "stream",
     "text": [
      "(10, 'ACCOUNTING', 'NEW YORK')\n",
      "(20, 'RESEARCH', 'DALLAS')\n"
     ]
    }
   ],
   "source": [
    "'''\n",
    "https://oracle.github.io/python-cx_Oracle\n",
    "https://oracle.github.io/python-cx_Oracle/samples/tutorial/Python-and-Oracle-Database-Scripting-for-the-Future.html\n",
    "'''\n",
    "\n",
    "import cx_Oracle    # pip install cx_oracle\n",
    "import threading\n",
    "\n",
    "\n",
    "pool = cx_Oracle.SessionPool('scott', 'tiger', 'localhost:1522/orcl',\n",
    "                             min = 2, max = 5, increment = 1, threaded = True,\n",
    "                             getmode = cx_Oracle.SPOOL_ATTRVAL_WAIT)\n",
    "\n",
    "\n",
    "con = pool.acquire()\n",
    "cur = con.cursor()\n",
    "\n",
    "cur.execute(\"\"\"\n",
    "            SELECT *\n",
    "              FROM DEPT\n",
    "            ORDER BY DEPTNO\n",
    "        \"\"\")\n",
    "\n",
    "row = cur.fetchone()\n",
    "print(row)\n",
    "\n",
    "row = cur.fetchone()\n",
    "print(row)\n"
   ]
  },
  {
   "cell_type": "markdown",
   "metadata": {},
   "source": [
    "##### 3.3 Using fetchmany()"
   ]
  },
  {
   "cell_type": "code",
   "execution_count": 10,
   "metadata": {
    "scrolled": true
   },
   "outputs": [
    {
     "name": "stdout",
     "output_type": "stream",
     "text": [
      "[(10, 'ACCOUNTING', 'NEW YORK'), (20, 'RESEARCH', 'DALLAS'), (30, 'SALES', 'CHICAGO')]\n",
      "\n",
      "(10, 'ACCOUNTING', 'NEW YORK')\n",
      "\n",
      "ACCOUNTING\n"
     ]
    }
   ],
   "source": [
    "'''\n",
    "https://oracle.github.io/python-cx_Oracle\n",
    "https://oracle.github.io/python-cx_Oracle/samples/tutorial/Python-and-Oracle-Database-Scripting-for-the-Future.html\n",
    "'''\n",
    "\n",
    "import cx_Oracle    # pip install cx_oracle\n",
    "import threading\n",
    "\n",
    "\n",
    "pool = cx_Oracle.SessionPool('scott', 'tiger', 'localhost:1522/orcl',\n",
    "                             min = 2, max = 5, increment = 1, threaded = True,\n",
    "                             getmode = cx_Oracle.SPOOL_ATTRVAL_WAIT)\n",
    "\n",
    "\n",
    "con = pool.acquire()\n",
    "cur = con.cursor()\n",
    "\n",
    "cur.execute(\"\"\"\n",
    "            SELECT *\n",
    "              FROM DEPT\n",
    "            ORDER BY DEPTNO\n",
    "        \"\"\")\n",
    "\n",
    "res = cur.fetchmany(numRows = 3)\n",
    "print(res)\n",
    "print()\n",
    "print(res[0])    # first row\n",
    "print()\n",
    "print(res[0][1]) # second element of first row\n"
   ]
  },
  {
   "cell_type": "markdown",
   "metadata": {},
   "source": [
    "#### 4. Binding Data"
   ]
  },
  {
   "cell_type": "markdown",
   "metadata": {},
   "source": [
    "##### 4.1 Binding in queries"
   ]
  },
  {
   "cell_type": "code",
   "execution_count": 12,
   "metadata": {},
   "outputs": [
    {
     "name": "stdout",
     "output_type": "stream",
     "text": [
      "[(20, 'RESEARCH', 'DALLAS')]\n",
      "[(10, 'ACCOUNTING', 'NEW YORK')]\n"
     ]
    }
   ],
   "source": [
    "'''\n",
    "https://oracle.github.io/python-cx_Oracle\n",
    "https://oracle.github.io/python-cx_Oracle/samples/tutorial/Python-and-Oracle-Database-Scripting-for-the-Future.html\n",
    "'''\n",
    "\n",
    "import cx_Oracle    # pip install cx_oracle\n",
    "import threading\n",
    "\n",
    "\n",
    "pool = cx_Oracle.SessionPool('scott', 'tiger', 'localhost:1522/orcl',\n",
    "                             min = 2, max = 5, increment = 1, threaded = True,\n",
    "                             getmode = cx_Oracle.SPOOL_ATTRVAL_WAIT)\n",
    "\n",
    "\n",
    "con = pool.acquire()\n",
    "cur = con.cursor()\n",
    "\n",
    "sql = \"\"\"\n",
    "    SELECT *\n",
    "      FROM DEPT\n",
    "     WHERE DEPTNO = :id\n",
    "    ORDER BY DEPTNO\n",
    "\"\"\"\n",
    "\n",
    "cur.execute(sql, id = 20)\n",
    "res = cur.fetchall()\n",
    "print(res)\n",
    "\n",
    "cur.execute(sql, id = 10)\n",
    "res = cur.fetchall()\n",
    "print(res)\n"
   ]
  },
  {
   "cell_type": "markdown",
   "metadata": {},
   "source": [
    "##### 4.2 Binding in inserts"
   ]
  },
  {
   "cell_type": "code",
   "execution_count": 13,
   "metadata": {},
   "outputs": [
    {
     "name": "stdout",
     "output_type": "stream",
     "text": [
      "[(1, 'First'), (2, 'Second'), (3, 'Third'), (4, 'Fourth'), (5, 'Fifth'), (6, 'Sixth'), (7, 'Seventh')]\n"
     ]
    }
   ],
   "source": [
    "'''\n",
    "https://oracle.github.io/python-cx_Oracle\n",
    "https://oracle.github.io/python-cx_Oracle/samples/tutorial/Python-and-Oracle-Database-Scripting-for-the-Future.html\n",
    "'''\n",
    "\n",
    "import cx_Oracle    # pip install cx_oracle\n",
    "import threading\n",
    "\n",
    "\n",
    "pool = cx_Oracle.SessionPool('scott', 'tiger', 'localhost:1522/orcl',\n",
    "                             min = 2, max = 5, increment = 1, threaded = True,\n",
    "                             getmode = cx_Oracle.SPOOL_ATTRVAL_WAIT)\n",
    "\n",
    "\n",
    "con = pool.acquire()\n",
    "cur = con.cursor()\n",
    "\n",
    "# Create temporary table\n",
    "cur.execute(\"DROP TABLE MYTAB\")\n",
    "cur.execute(\"CREATE TABLE MYTAB (ID NUMBER, DATA VARCHAR2(100) UNIQUE)\")\n",
    "\n",
    "rows = [ (1, \"First\" ),\n",
    "         (2, \"Second\" ),\n",
    "         (3, \"Third\" ),\n",
    "         (4, \"Fourth\" ),\n",
    "         (5, \"Fifth\" ),\n",
    "         (6, \"Sixth\" ),\n",
    "         (7, \"Seventh\" ) ]\n",
    "\n",
    "# Insert data\n",
    "cur.executemany(\"\"\"\n",
    "                INSERT INTO MYTAB (id, data)\n",
    "                           VALUES (:1, :2)\n",
    "                \"\"\"\n",
    "                , rows)\n",
    "\n",
    "# con.commit()\n",
    "# con.rollback()\n",
    "\n",
    "# Now query the results back\n",
    "cur.execute(\"SELECT * FROM MYTAB\")\n",
    "res = cur.fetchall()\n",
    "print(res)\n"
   ]
  },
  {
   "cell_type": "markdown",
   "metadata": {},
   "source": [
    "##### 4.3 Batcherrors"
   ]
  },
  {
   "cell_type": "code",
   "execution_count": 14,
   "metadata": {},
   "outputs": [
    {
     "name": "stdout",
     "output_type": "stream",
     "text": [
      "Error ORA-00001: 무결성 제약 조건(SCOTT.SYS_C0011161)에 위배됩니다 at row offset 4\n",
      "[(1, 'First'), (2, 'Second'), (3, 'Third'), (4, 'Fourth'), (6, 'Sixth'), (7, 'Seventh')]\n"
     ]
    }
   ],
   "source": [
    "'''\n",
    "https://oracle.github.io/python-cx_Oracle\n",
    "https://oracle.github.io/python-cx_Oracle/samples/tutorial/Python-and-Oracle-Database-Scripting-for-the-Future.html\n",
    "'''\n",
    "\n",
    "import cx_Oracle    # pip install cx_oracle\n",
    "import threading\n",
    "\n",
    "\n",
    "pool = cx_Oracle.SessionPool('scott', 'tiger', 'localhost:1522/orcl',\n",
    "                             min = 2, max = 5, increment = 1, threaded = True,\n",
    "                             getmode = cx_Oracle.SPOOL_ATTRVAL_WAIT)\n",
    "\n",
    "\n",
    "con = pool.acquire()\n",
    "cur = con.cursor()\n",
    "\n",
    "# Create temporary table\n",
    "cur.execute(\"DROP TABLE MYTAB\")\n",
    "cur.execute(\"CREATE TABLE MYTAB (ID NUMBER, DATA VARCHAR2(100) UNIQUE)\")\n",
    "\n",
    "rows = [ (1, \"First\" ), (2, \"Second\" ),\n",
    "         (3, \"Third\" ), (4, \"Fourth\" ),\n",
    "         (5, \"Third\" ), (6, \"Sixth\" ),\n",
    "         (7, \"Seventh\" ) ]\n",
    "\n",
    "# Insert data\n",
    "cur.executemany(\"\"\"\n",
    "                INSERT INTO MYTAB (id, data)\n",
    "                           VALUES (:1, :2)\n",
    "                \"\"\"\n",
    "                , rows\n",
    "                , batcherrors=True)\n",
    "\n",
    "for error in cur.getbatcherrors():\n",
    "    print(\"Error\", error.message.rstrip(), \"at row offset\", error.offset)\n",
    "\n",
    "# con.commit()\n",
    "# con.rollback()\n",
    "\n",
    "# Now query the results back\n",
    "cur.execute(\"SELECT * FROM MYTAB\")\n",
    "res = cur.fetchall()\n",
    "print(res)\n"
   ]
  },
  {
   "cell_type": "markdown",
   "metadata": {},
   "source": [
    "#### DB - Pandas 연동"
   ]
  },
  {
   "cell_type": "code",
   "execution_count": 16,
   "metadata": {},
   "outputs": [
    {
     "name": "stdout",
     "output_type": "stream",
     "text": [
      "[(1, 'First'), (2, 'Second'), (3, 'Third'), (4, 'Fourth'), (5, 'Fifth'), (6, 'Sixth'), (7, 'Seventh')]\n"
     ]
    },
    {
     "data": {
      "text/html": [
       "<div>\n",
       "<style scoped>\n",
       "    .dataframe tbody tr th:only-of-type {\n",
       "        vertical-align: middle;\n",
       "    }\n",
       "\n",
       "    .dataframe tbody tr th {\n",
       "        vertical-align: top;\n",
       "    }\n",
       "\n",
       "    .dataframe thead th {\n",
       "        text-align: right;\n",
       "    }\n",
       "</style>\n",
       "<table border=\"1\" class=\"dataframe\">\n",
       "  <thead>\n",
       "    <tr style=\"text-align: right;\">\n",
       "      <th></th>\n",
       "      <th>ID</th>\n",
       "      <th>DATA</th>\n",
       "    </tr>\n",
       "  </thead>\n",
       "  <tbody>\n",
       "    <tr>\n",
       "      <th>0</th>\n",
       "      <td>1</td>\n",
       "      <td>First</td>\n",
       "    </tr>\n",
       "    <tr>\n",
       "      <th>1</th>\n",
       "      <td>2</td>\n",
       "      <td>Second</td>\n",
       "    </tr>\n",
       "    <tr>\n",
       "      <th>2</th>\n",
       "      <td>3</td>\n",
       "      <td>Third</td>\n",
       "    </tr>\n",
       "    <tr>\n",
       "      <th>3</th>\n",
       "      <td>4</td>\n",
       "      <td>Fourth</td>\n",
       "    </tr>\n",
       "    <tr>\n",
       "      <th>4</th>\n",
       "      <td>5</td>\n",
       "      <td>Fifth</td>\n",
       "    </tr>\n",
       "    <tr>\n",
       "      <th>5</th>\n",
       "      <td>6</td>\n",
       "      <td>Sixth</td>\n",
       "    </tr>\n",
       "    <tr>\n",
       "      <th>6</th>\n",
       "      <td>7</td>\n",
       "      <td>Seventh</td>\n",
       "    </tr>\n",
       "  </tbody>\n",
       "</table>\n",
       "</div>"
      ],
      "text/plain": [
       "   ID     DATA\n",
       "0   1    First\n",
       "1   2   Second\n",
       "2   3    Third\n",
       "3   4   Fourth\n",
       "4   5    Fifth\n",
       "5   6    Sixth\n",
       "6   7  Seventh"
      ]
     },
     "execution_count": 16,
     "metadata": {},
     "output_type": "execute_result"
    }
   ],
   "source": [
    "'''\n",
    "https://oracle.github.io/python-cx_Oracle\n",
    "https://oracle.github.io/python-cx_Oracle/samples/tutorial/Python-and-Oracle-Database-Scripting-for-the-Future.html\n",
    "'''\n",
    "\n",
    "import cx_Oracle    # pip install cx_oracle\n",
    "import threading\n",
    "import pandas as pd\n",
    "\n",
    "\n",
    "pool = cx_Oracle.SessionPool('scott', 'tiger', 'localhost:1522/orcl',\n",
    "                             min = 2, max = 5, increment = 1, threaded = True,\n",
    "                             getmode = cx_Oracle.SPOOL_ATTRVAL_WAIT)\n",
    "\n",
    "\n",
    "con = pool.acquire()\n",
    "cur = con.cursor()\n",
    "\n",
    "# Create temporary table\n",
    "cur.execute(\"DROP TABLE MYTAB\")\n",
    "cur.execute(\"CREATE TABLE MYTAB (ID NUMBER, DATA VARCHAR2(100) UNIQUE)\")\n",
    "\n",
    "rows = [ (1, \"First\" ), (2, \"Second\" ),\n",
    "         (3, \"Third\" ), (4, \"Fourth\" ),\n",
    "         (5, \"Fifth\" ), (6, \"Sixth\" ),\n",
    "         (7, \"Seventh\" ) ]\n",
    "\n",
    "# Insert data\n",
    "cur.executemany(\"\"\"\n",
    "                INSERT INTO MYTAB (id, data)\n",
    "                           VALUES (:1, :2)\n",
    "                \"\"\"\n",
    "                , rows)\n",
    "\n",
    "# con.commit()\n",
    "# con.rollback()\n",
    "\n",
    "# Now query the results back\n",
    "cur.execute(\"SELECT * FROM MYTAB\")\n",
    "res = cur.fetchall()\n",
    "print(res)\n",
    "\n",
    "df = pd.read_sql(\"SELECT * FROM MYTAB\", con)\n",
    "df\n"
   ]
  },
  {
   "cell_type": "markdown",
   "metadata": {},
   "source": [
    "### SQLite"
   ]
  },
  {
   "cell_type": "markdown",
   "metadata": {},
   "source": [
    "- https://docs.python.org/ko/3/library/sqlite3.html\n",
    "- https://wikidocs.net/book/1530"
   ]
  },
  {
   "cell_type": "markdown",
   "metadata": {},
   "source": [
    "#### 1. Connection"
   ]
  },
  {
   "cell_type": "code",
   "execution_count": 1,
   "metadata": {},
   "outputs": [],
   "source": [
    "'''\n",
    "https://docs.python.org/ko/3/library/sqlite3.html\n",
    "'''\n",
    "\n",
    "import sqlite3\n",
    "\n",
    "\n",
    "con = sqlite3.connect('example.db')\n"
   ]
  },
  {
   "cell_type": "markdown",
   "metadata": {},
   "source": [
    "#### 2. Data"
   ]
  },
  {
   "cell_type": "code",
   "execution_count": 3,
   "metadata": {
    "collapsed": true
   },
   "outputs": [
    {
     "ename": "OperationalError",
     "evalue": "table STOCKS already exists",
     "output_type": "error",
     "traceback": [
      "\u001b[1;31m---------------------------------------------------------------------------\u001b[0m",
      "\u001b[1;31mOperationalError\u001b[0m                          Traceback (most recent call last)",
      "\u001b[1;32m<ipython-input-3-79a5b0afd7ac>\u001b[0m in \u001b[0;36m<module>\u001b[1;34m\u001b[0m\n\u001b[0;32m     10\u001b[0m \u001b[1;33m\u001b[0m\u001b[0m\n\u001b[0;32m     11\u001b[0m \u001b[1;31m# Create table\u001b[0m\u001b[1;33m\u001b[0m\u001b[1;33m\u001b[0m\u001b[1;33m\u001b[0m\u001b[0m\n\u001b[1;32m---> 12\u001b[1;33m cur.execute('''CREATE TABLE STOCKS\n\u001b[0m\u001b[0;32m     13\u001b[0m                (DATE TEXT, TRANS TEXT, SYMBOL TEXT, QTY REAL, PRICE REAL)''')\n\u001b[0;32m     14\u001b[0m \u001b[1;33m\u001b[0m\u001b[0m\n",
      "\u001b[1;31mOperationalError\u001b[0m: table STOCKS already exists"
     ]
    }
   ],
   "source": [
    "'''\n",
    "https://docs.python.org/ko/3/library/sqlite3.html\n",
    "'''\n",
    "\n",
    "import sqlite3\n",
    "\n",
    "\n",
    "con = sqlite3.connect('example.db')\n",
    "cur = con.cursor()\n",
    "\n",
    "# Create table\n",
    "cur.execute('''CREATE TABLE STOCKS\n",
    "               (DATE TEXT, TRANS TEXT, SYMBOL TEXT, QTY REAL, PRICE REAL)''')\n",
    "\n",
    "# Insert a row of data\n",
    "cur.execute(\"INSERT INTO STOCKS VALUES ('2006-01-05', 'BUY', 'RHAT', 100, 35.14)\")\n",
    "\n",
    "# Save (commit) the changes\n",
    "con.commit()\n",
    "\n",
    "# We can also close the connection if we are done with it.\n",
    "# Just be sure any changes have been committed or they will be lost.\n",
    "con.close()\n"
   ]
  },
  {
   "cell_type": "markdown",
   "metadata": {},
   "source": [
    "#### 2. Selection"
   ]
  },
  {
   "cell_type": "code",
   "execution_count": 4,
   "metadata": {},
   "outputs": [
    {
     "name": "stdout",
     "output_type": "stream",
     "text": [
      "('2006-01-05', 'BUY', 'RHAT', 100.0, 35.14)\n"
     ]
    }
   ],
   "source": [
    "'''\n",
    "https://docs.python.org/ko/3/library/sqlite3.html\n",
    "'''\n",
    "\n",
    "import sqlite3\n",
    "\n",
    "\n",
    "con = sqlite3.connect('example.db')\n",
    "cur = con.cursor()\n",
    "\n",
    "for row in cur.execute('SELECT * FROM STOCKS ORDER BY PRICE'):\n",
    "    print(row)\n"
   ]
  },
  {
   "cell_type": "markdown",
   "metadata": {},
   "source": [
    "#### 3. Database in Memory"
   ]
  },
  {
   "cell_type": "code",
   "execution_count": 8,
   "metadata": {},
   "outputs": [
    {
     "name": "stdout",
     "output_type": "stream",
     "text": [
      "[('C', 1972)]\n"
     ]
    }
   ],
   "source": [
    "'''\n",
    "https://docs.python.org/ko/3/library/sqlite3.html\n",
    "'''\n",
    "\n",
    "import sqlite3\n",
    "\n",
    "\n",
    "con = sqlite3.connect(\":memory:\")\n",
    "cur = con.cursor()\n",
    "\n",
    "cur.execute(\"CREATE TABLE LANG (NAME, FIRST_APPEARED)\")\n",
    "\n",
    "# This is the qmark style:\n",
    "cur.execute(\"INSERT INTO LANG VALUES (?, ?)\", (\"C\", 1972))\n",
    "\n",
    "# The qmark style used with executemany():\n",
    "lang_list = [\n",
    "    (\"Fortran\", 1957),\n",
    "    (\"Python\", 1991),\n",
    "    (\"Go\", 2009),\n",
    "]\n",
    "cur.executemany(\"INSERT INTO LANG VALUES (?, ?)\", lang_list)\n",
    "\n",
    "# And this is the named style:\n",
    "cur.execute(\"SELECT * FROM LANG WHERE FIRST_APPEARED=:year\", {\"year\": 1972})\n",
    "print(cur.fetchall())\n",
    "\n",
    "con.close()\n"
   ]
  },
  {
   "cell_type": "markdown",
   "metadata": {},
   "source": [
    "#### DB - Pandas 연동"
   ]
  },
  {
   "cell_type": "code",
   "execution_count": 10,
   "metadata": {},
   "outputs": [
    {
     "name": "stdout",
     "output_type": "stream",
     "text": [
      "[('C', 1972)]\n"
     ]
    },
    {
     "data": {
      "text/html": [
       "<div>\n",
       "<style scoped>\n",
       "    .dataframe tbody tr th:only-of-type {\n",
       "        vertical-align: middle;\n",
       "    }\n",
       "\n",
       "    .dataframe tbody tr th {\n",
       "        vertical-align: top;\n",
       "    }\n",
       "\n",
       "    .dataframe thead th {\n",
       "        text-align: right;\n",
       "    }\n",
       "</style>\n",
       "<table border=\"1\" class=\"dataframe\">\n",
       "  <thead>\n",
       "    <tr style=\"text-align: right;\">\n",
       "      <th></th>\n",
       "      <th>NAME</th>\n",
       "      <th>FIRST_APPEARED</th>\n",
       "    </tr>\n",
       "  </thead>\n",
       "  <tbody>\n",
       "    <tr>\n",
       "      <th>0</th>\n",
       "      <td>C</td>\n",
       "      <td>1972</td>\n",
       "    </tr>\n",
       "  </tbody>\n",
       "</table>\n",
       "</div>"
      ],
      "text/plain": [
       "  NAME  FIRST_APPEARED\n",
       "0    C            1972"
      ]
     },
     "execution_count": 10,
     "metadata": {},
     "output_type": "execute_result"
    }
   ],
   "source": [
    "'''\n",
    "https://docs.python.org/ko/3/library/sqlite3.html\n",
    "'''\n",
    "\n",
    "import sqlite3\n",
    "import pandas as pd\n",
    "\n",
    "\n",
    "con = sqlite3.connect(\":memory:\")\n",
    "cur = con.cursor()\n",
    "\n",
    "cur.execute(\"CREATE TABLE LANG (NAME, FIRST_APPEARED)\")\n",
    "\n",
    "# This is the qmark style:\n",
    "cur.execute(\"INSERT INTO LANG VALUES (?, ?)\", (\"C\", 1972))\n",
    "\n",
    "# The qmark style used with executemany():\n",
    "lang_list = [\n",
    "    (\"Fortran\", 1957),\n",
    "    (\"Python\", 1991),\n",
    "    (\"Go\", 2009),\n",
    "]\n",
    "cur.executemany(\"INSERT INTO LANG VALUES (?, ?)\", lang_list)\n",
    "\n",
    "# And this is the named style:\n",
    "cur.execute(\"SELECT * FROM LANG WHERE FIRST_APPEARED=:year\", {\"year\": 1972})\n",
    "rows = cur.fetchall()\n",
    "print(rows)\n",
    "\n",
    "df = pd.read_sql(\"SELECT * FROM LANG WHERE FIRST_APPEARED=1972\", con)\n",
    "\n",
    "con.close()\n",
    "\n",
    "df\n"
   ]
  },
  {
   "cell_type": "markdown",
   "metadata": {},
   "source": [
    "## APScheduler 모듈\n",
    "- Advaned Python Scheduler의 약자\n",
    "- 파이썬 코드를 주기적으로 실행\n",
    "- 작업 기간, 일시 정지, 다시 시작, 삭제 등이 가능함\n",
    "- MongoDB,"
   ]
  },
  {
   "cell_type": "code",
   "execution_count": 1,
   "metadata": {},
   "outputs": [
    {
     "name": "stdout",
     "output_type": "stream",
     "text": [
      "Collecting apscheduler\n",
      "  Downloading APScheduler-3.7.0-py2.py3-none-any.whl (59 kB)\n",
      "Requirement already satisfied: pytz in c:\\users\\cjh\\anaconda3\\lib\\site-packages (from apscheduler) (2021.1)\n",
      "Requirement already satisfied: setuptools>=0.7 in c:\\users\\cjh\\anaconda3\\lib\\site-packages (from apscheduler) (52.0.0.post20210125)\n",
      "Requirement already satisfied: six>=1.4.0 in c:\\users\\cjh\\anaconda3\\lib\\site-packages (from apscheduler) (1.15.0)\n",
      "Collecting tzlocal~=2.0\n",
      "  Using cached tzlocal-2.1-py2.py3-none-any.whl (16 kB)\n",
      "Installing collected packages: tzlocal, apscheduler\n",
      "Successfully installed apscheduler-3.7.0 tzlocal-2.1\n"
     ]
    }
   ],
   "source": [
    "!pip install apscheduler"
   ]
  },
  {
   "cell_type": "markdown",
   "metadata": {},
   "source": [
    "## 세 가지 수행 방식\n",
    "- Interval 방식 : 일정 주기마다 코드 수행\n",
    "- Date 방식 : 특정 날짜에 코드 수행\n",
    "- Cron 방식 : Cron 표현식으로 코드 수행"
   ]
  },
  {
   "cell_type": "markdown",
   "metadata": {},
   "source": [
    "## 스케줄러의 종류\n",
    "- BlockingScheduler: 단일 작업 수행시 사용\n",
    "- BackgroundScheduler : 다수 작업 수행시 사용"
   ]
  },
  {
   "cell_type": "markdown",
   "metadata": {},
   "source": [
    "## 사용법\n",
    "1. 스케줄러 객체 생성\n",
    "2.\n",
    "3."
   ]
  },
  {
   "cell_type": "code",
   "execution_count": null,
   "metadata": {},
   "outputs": [
    {
     "name": "stdout",
     "output_type": "stream",
     "text": [
      "Start\n",
      "Hello World!\n",
      "Hello World!\n",
      "Hello World!\n",
      "Hello World!\n",
      "Hello World!\n",
      "Hello World!\n",
      "Hello World!\n",
      "Hello World!\n",
      "Hello World!\n",
      "Hello World!\n",
      "Hello World!\n",
      "Hello World!\n",
      "Hello World!\n",
      "Hello World!\n",
      "Hello World!\n",
      "Hello World!\n",
      "Hello World!\n",
      "Hello World!\n",
      "Hello World!\n",
      "Hello World!\n",
      "Hello World!\n"
     ]
    }
   ],
   "source": [
    "from apscheduler.schedulers.blocking import BlockingScheduler\n",
    "\n",
    "def job():\n",
    "    print('Hello World!')\n",
    "    \n",
    "sched = BlockingScheduler()\n",
    "\n",
    "sched.add_job(job, 'interval'\n",
    "              ,start_date='2021-06-02 14:31:00'\n",
    "              ,end_date='2021-06-02 14:32:00'\n",
    "              ,seconds=3) # 매 3초 간격으로 실행\n",
    "\n",
    "print('Start')\n",
    "sched.start()\n",
    "print('End')"
   ]
  },
  {
   "cell_type": "markdown",
   "metadata": {},
   "source": [
    "## date 방식 사용법\n",
    "- 특정 시각"
   ]
  },
  {
   "cell_type": "code",
   "execution_count": null,
   "metadata": {},
   "outputs": [
    {
     "name": "stdout",
     "output_type": "stream",
     "text": [
      "Start\n",
      "('abc',)\n"
     ]
    }
   ],
   "source": [
    "from apscheduler.schedulers.blocking import BlockingScheduler\n",
    "import datetime\n",
    "\n",
    "def job(*args):\n",
    "    print(args)\n",
    "    \n",
    "sched = BlockingScheduler()\n",
    "\n",
    "sched.add_job(job, 'date'\n",
    "              , run_date = datetime.datetime(2021,6,2,14,39,0)\n",
    "              , args=['abc'])\n",
    "\n",
    "print('Start')\n",
    "sched.start()\n",
    "print('End')"
   ]
  },
  {
   "cell_type": "markdown",
   "metadata": {},
   "source": [
    "## Cron 사용법"
   ]
  },
  {
   "cell_type": "code",
   "execution_count": null,
   "metadata": {},
   "outputs": [
    {
     "name": "stdout",
     "output_type": "stream",
     "text": [
      "Start\n",
      "test\n"
     ]
    }
   ],
   "source": [
    "from apscheduler.schedulers.blocking import BlockingScheduler\n",
    "\n",
    "def job():\n",
    "    print('test')\n",
    "    \n",
    "shced = BlockingScheduler()\n",
    "\n",
    "shced.add_job(job,'cron',month = '6-8,11-12', day = 2\n",
    "              , hour='14-15', minute=46, second=20)\n",
    "\n",
    "print('Start')\n",
    "shced.start()\n",
    "print('End')"
   ]
  },
  {
   "cell_type": "markdown",
   "metadata": {},
   "source": [
    "## 네이버 뉴스 수집 및 저장 프로그램 스케줄링\n",
    "1. 웹 스크래핑\n",
    "2. DB 저장\n",
    "3. 스케줄 등록"
   ]
  },
  {
   "cell_type": "code",
   "execution_count": 8,
   "metadata": {},
   "outputs": [
    {
     "name": "stdout",
     "output_type": "stream",
     "text": [
      "200\n",
      "[(datetime.datetime(2021, 6, 3, 14, 28, 49, 318012), '이용구 “1000만원 합의금, 폭행영상 삭제 대가 아냐”', 'https://news.naver.com/main/read.nhn?mode=LSD&mid=shm&sid1=102&oid=005&aid=0001444533'), (datetime.datetime(2021, 6, 3, 14, 28, 49, 318012), '文대통령 \"절망스러웠을 피해자 생각하면 가슴 아프다\"', 'https://news.naver.com/main/read.nhn?mode=LSD&mid=shm&sid1=100&oid=079&aid=0003511504'), (datetime.datetime(2021, 6, 3, 14, 28, 49, 319018), \"6월 모평 국어 작년 수능과 난이도 비슷…'언어와매체' 더 어려워\", 'https://news.naver.com/main/read.nhn?mode=LSD&mid=shm&sid1=102&oid=277&aid=0004913993'), (datetime.datetime(2021, 6, 3, 14, 28, 49, 319018), \"'동학·서학개미 생큐'…증권사 1분기 순익 3조 '사상 최대'\", 'https://news.naver.com/main/read.nhn?mode=LSD&mid=shm&sid1=101&oid=421&aid=0005391189'), (datetime.datetime(2021, 6, 3, 14, 28, 49, 319018), '대구시 화이자백신 사기당할 뻔? 정부 \"정품 아니다. 국제수사 협력\"', 'https://news.naver.com/main/read.nhn?mode=LSD&mid=shm&sid1=102&oid=469&aid=0000608522')]\n"
     ]
    }
   ],
   "source": [
    "# BeautifulSoup 으로 뉴스 헤드라인 기사 제목과 링크를 수집해보세요\n",
    "import requests\n",
    "from bs4 import BeautifulSoup\n",
    "import datetime\n",
    "\n",
    "url = 'https://news.naver.com'\n",
    "\n",
    "headers = {\n",
    "    'user-agent': 'Mozilla/5.0 (Windows NT 10.0; Win64; x64) AppleWebKit/537.36 (KHTML, like Gecko) Chrome/91.0.4472.77 Safari/537.36'\n",
    "}\n",
    "\n",
    "res = requests.get(url, headers=headers)\n",
    "print(res.status_code)\n",
    "\n",
    "bs = BeautifulSoup(res.text, 'lxml')\n",
    "\n",
    "ul = bs.select_one('#today_main_news > div.hdline_news > ul')\n",
    "lis = ul.select('li')\n",
    "news_list = [] # 뉴스 기사를 담을 리스트\n",
    "for li in lis:\n",
    "    title = li.select_one('div.hdline_article_tit > a').get_text().strip()\n",
    "    link = url + li.select_one('div.hdline_article_tit > a').get('href', '')\n",
    "#     print(title, link)\n",
    "    \n",
    "    news_list.append((datetime.datetime.now(),title, link))\n",
    "    \n",
    "print(news_list)\n",
    "    "
   ]
  },
  {
   "cell_type": "markdown",
   "metadata": {},
   "source": [
    "## DB 저장"
   ]
  },
  {
   "cell_type": "code",
   "execution_count": 25,
   "metadata": {},
   "outputs": [],
   "source": [
    "import sqlite3 as sq\n",
    "\n",
    "\n",
    "con = sq.connect(\"naver_news.db\")\n",
    "cur = con.cursor()\n",
    "\n",
    "\n",
    "# cur.execute(\"DROP TABLE NAVER_NEWS\")\n",
    "\n",
    "cur.execute(\"CREATE TABLE IF NOT EXISTS NAVER_NEWS (REG_DATE TEXT, TITLE TEXT, LINK TEXT)\")\n",
    "\n",
    "con.close()"
   ]
  },
  {
   "cell_type": "code",
   "execution_count": 5,
   "metadata": {},
   "outputs": [
    {
     "data": {
      "text/plain": [
       "<sqlite3.Cursor at 0x223b46bab20>"
      ]
     },
     "execution_count": 5,
     "metadata": {},
     "output_type": "execute_result"
    }
   ],
   "source": [
    "cur.execute('SELECT * FROM NAVER_NEWS')"
   ]
  },
  {
   "cell_type": "code",
   "execution_count": 24,
   "metadata": {},
   "outputs": [
    {
     "data": {
      "text/html": [
       "<div>\n",
       "<style scoped>\n",
       "    .dataframe tbody tr th:only-of-type {\n",
       "        vertical-align: middle;\n",
       "    }\n",
       "\n",
       "    .dataframe tbody tr th {\n",
       "        vertical-align: top;\n",
       "    }\n",
       "\n",
       "    .dataframe thead th {\n",
       "        text-align: right;\n",
       "    }\n",
       "</style>\n",
       "<table border=\"1\" class=\"dataframe\">\n",
       "  <thead>\n",
       "    <tr style=\"text-align: right;\">\n",
       "      <th></th>\n",
       "      <th>REG_DATE</th>\n",
       "      <th>TITLE</th>\n",
       "      <th>LINK</th>\n",
       "    </tr>\n",
       "  </thead>\n",
       "  <tbody>\n",
       "    <tr>\n",
       "      <th>15</th>\n",
       "      <td>2021-06-03 14:28:49.318012</td>\n",
       "      <td>이용구 “1000만원 합의금, 폭행영상 삭제 대가 아냐”</td>\n",
       "      <td>https://news.naver.com/main/read.nhn?mode=LSD&amp;...</td>\n",
       "    </tr>\n",
       "    <tr>\n",
       "      <th>16</th>\n",
       "      <td>2021-06-03 14:28:49.318012</td>\n",
       "      <td>文대통령 \"절망스러웠을 피해자 생각하면 가슴 아프다\"</td>\n",
       "      <td>https://news.naver.com/main/read.nhn?mode=LSD&amp;...</td>\n",
       "    </tr>\n",
       "    <tr>\n",
       "      <th>17</th>\n",
       "      <td>2021-06-03 14:28:49.319018</td>\n",
       "      <td>6월 모평 국어 작년 수능과 난이도 비슷…'언어와매체' 더 어려워</td>\n",
       "      <td>https://news.naver.com/main/read.nhn?mode=LSD&amp;...</td>\n",
       "    </tr>\n",
       "    <tr>\n",
       "      <th>18</th>\n",
       "      <td>2021-06-03 14:28:49.319018</td>\n",
       "      <td>'동학·서학개미 생큐'…증권사 1분기 순익 3조 '사상 최대'</td>\n",
       "      <td>https://news.naver.com/main/read.nhn?mode=LSD&amp;...</td>\n",
       "    </tr>\n",
       "    <tr>\n",
       "      <th>19</th>\n",
       "      <td>2021-06-03 14:28:49.319018</td>\n",
       "      <td>대구시 화이자백신 사기당할 뻔? 정부 \"정품 아니다. 국제수사 협력\"</td>\n",
       "      <td>https://news.naver.com/main/read.nhn?mode=LSD&amp;...</td>\n",
       "    </tr>\n",
       "  </tbody>\n",
       "</table>\n",
       "</div>"
      ],
      "text/plain": [
       "                      REG_DATE                                   TITLE  \\\n",
       "15  2021-06-03 14:28:49.318012         이용구 “1000만원 합의금, 폭행영상 삭제 대가 아냐”   \n",
       "16  2021-06-03 14:28:49.318012           文대통령 \"절망스러웠을 피해자 생각하면 가슴 아프다\"   \n",
       "17  2021-06-03 14:28:49.319018    6월 모평 국어 작년 수능과 난이도 비슷…'언어와매체' 더 어려워   \n",
       "18  2021-06-03 14:28:49.319018      '동학·서학개미 생큐'…증권사 1분기 순익 3조 '사상 최대'   \n",
       "19  2021-06-03 14:28:49.319018  대구시 화이자백신 사기당할 뻔? 정부 \"정품 아니다. 국제수사 협력\"   \n",
       "\n",
       "                                                 LINK  \n",
       "15  https://news.naver.com/main/read.nhn?mode=LSD&...  \n",
       "16  https://news.naver.com/main/read.nhn?mode=LSD&...  \n",
       "17  https://news.naver.com/main/read.nhn?mode=LSD&...  \n",
       "18  https://news.naver.com/main/read.nhn?mode=LSD&...  \n",
       "19  https://news.naver.com/main/read.nhn?mode=LSD&...  "
      ]
     },
     "execution_count": 24,
     "metadata": {},
     "output_type": "execute_result"
    }
   ],
   "source": [
    "import sqlite3 as sq\n",
    "import pandas as pd\n",
    "\n",
    "con = sq.connect(\"naver_news.db\")\n",
    "cur = con.cursor()\n",
    "\n",
    "cur.executemany('''\n",
    "                INSERT INTO NAVER_NEWS(REG_DATE, TITLE, LINK) VALUES(?,?,?)\n",
    "                '''\n",
    "               , news_list\n",
    "               )\n",
    "\n",
    "con.commit()\n",
    "\n",
    "df = pd.read_sql('SELECT*FROM NAVER_NEWS', con)\n",
    "df = df.drop_duplicates(subset='TITLE',keep='last')\n",
    "\n",
    "con.close()\n",
    "\n",
    "df"
   ]
  },
  {
   "cell_type": "code",
   "execution_count": 28,
   "metadata": {},
   "outputs": [
    {
     "name": "stdout",
     "output_type": "stream",
     "text": [
      "200\n",
      "[(datetime.datetime(2021, 6, 3, 15, 10, 4, 94575), '이용구 \"합의금 1천만원, 블랙박스 영상삭제 대가 아냐\"', 'https://news.naver.com/main/read.nhn?mode=LSD&mid=shm&sid1=102&oid=003&aid=0010531199'), (datetime.datetime(2021, 6, 3, 15, 10, 4, 94575), '전국에 비…밤에 대부분 그쳐요[오후날씨 꿀팁]', 'https://news.naver.com/main/read.nhn?mode=LSD&mid=shm&sid1=103&oid=056&aid=0011056586'), (datetime.datetime(2021, 6, 3, 15, 10, 4, 94575), '윤건영 “올림픽 보이콧 생각해야” VS 최문순 “日 전술에 말려드는 것”', 'https://news.naver.com/main/read.nhn?mode=LSD&mid=shm&sid1=100&oid=022&aid=0003587146'), (datetime.datetime(2021, 6, 3, 15, 10, 4, 95574), \"국방부 '군검찰 수사심의위' 설치…부사관 사망 사건부터 적용\", 'https://news.naver.com/main/read.nhn?mode=LSD&mid=shm&sid1=100&oid=421&aid=0005391225'), (datetime.datetime(2021, 6, 3, 15, 10, 4, 95574), '문대통령 \"진보, 단합할 때 지지 만들어져\"…내부 결속 강조(종합)', 'https://news.naver.com/main/read.nhn?mode=LSD&mid=shm&sid1=100&oid=421&aid=0005391618')]\n",
      "200\n",
      "[(datetime.datetime(2021, 6, 3, 15, 10, 4, 230203), '이용구 \"합의금 1천만원, 블랙박스 영상삭제 대가 아냐\"', 'https://news.naver.com/main/read.nhn?mode=LSD&mid=shm&sid1=102&oid=003&aid=0010531199'), (datetime.datetime(2021, 6, 3, 15, 10, 4, 231205), '전국에 비…밤에 대부분 그쳐요[오후날씨 꿀팁]', 'https://news.naver.com/main/read.nhn?mode=LSD&mid=shm&sid1=103&oid=056&aid=0011056586'), (datetime.datetime(2021, 6, 3, 15, 10, 4, 231205), '윤건영 “올림픽 보이콧 생각해야” VS 최문순 “日 전술에 말려드는 것”', 'https://news.naver.com/main/read.nhn?mode=LSD&mid=shm&sid1=100&oid=022&aid=0003587146'), (datetime.datetime(2021, 6, 3, 15, 10, 4, 231205), \"국방부 '군검찰 수사심의위' 설치…부사관 사망 사건부터 적용\", 'https://news.naver.com/main/read.nhn?mode=LSD&mid=shm&sid1=100&oid=421&aid=0005391225'), (datetime.datetime(2021, 6, 3, 15, 10, 4, 231205), '문대통령 \"진보, 단합할 때 지지 만들어져\"…내부 결속 강조(종합)', 'https://news.naver.com/main/read.nhn?mode=LSD&mid=shm&sid1=100&oid=421&aid=0005391618')]\n",
      "200\n",
      "[(datetime.datetime(2021, 6, 3, 15, 10, 9, 389792), '“보이콧도 검토해야”…의원 132명, ‘日지도 독도 표기’ 규탄결의 발의', 'https://news.naver.com/main/read.nhn?mode=LSD&mid=shm&sid1=100&oid=081&aid=0003191352'), (datetime.datetime(2021, 6, 3, 15, 10, 9, 389792), '與 초선 만난 文 \"경제 성과 있으나 국민 고통 마음 아프다\"', 'https://news.naver.com/main/read.nhn?mode=LSD&mid=shm&sid1=100&oid=025&aid=0003106825'), (datetime.datetime(2021, 6, 3, 15, 10, 9, 389792), \"네이버 통유리 사옥 10년 '반사광' 소송…주민들이 이겼다\", 'https://news.naver.com/main/read.nhn?mode=LSD&mid=shm&sid1=102&oid=009&aid=0004803625'), (datetime.datetime(2021, 6, 3, 15, 10, 9, 389792), '공군 부사관 유족 측 “피해 사례 더 있어”…부사관 3명 추가 고소', 'https://news.naver.com/main/read.nhn?mode=LSD&mid=shm&sid1=100&oid=081&aid=0003191325'), (datetime.datetime(2021, 6, 3, 15, 10, 9, 389792), '재개 한 달 맞은 공매도, 외국인 쏠림 심화', 'https://news.naver.com/main/read.nhn?mode=LSD&mid=shm&sid1=101&oid=011&aid=0003918660')]\n",
      "200\n",
      "[(datetime.datetime(2021, 6, 3, 15, 10, 9, 544802), '[현장영상] 與 초선의원 68명, 대통령과 간담회...어떤 이야기 오갔나', 'https://news.naver.com/main/read.nhn?mode=LSD&mid=shm&sid1=100&oid=052&aid=0001596403'), (datetime.datetime(2021, 6, 3, 15, 10, 9, 544802), \"접종후 확진 '돌파감염' 5명 늘어 누적 9명…모두 화이자 접종\", 'https://news.naver.com/main/read.nhn?mode=LSD&mid=shm&sid1=102&oid=001&aid=0012435912'), (datetime.datetime(2021, 6, 3, 15, 10, 9, 544802), 'SK㈜, 美 모놀리스 투자...친환경 수소사업 확장', 'https://news.naver.com/main/read.nhn?mode=LSD&mid=shm&sid1=101&oid=030&aid=0002948592'), (datetime.datetime(2021, 6, 3, 15, 10, 9, 545790), \"기업 34.5% 영업익으로 이자도 못내…작년 부실기업 비중 '사상 최대'\", 'https://news.naver.com/main/read.nhn?mode=LSD&mid=shm&sid1=101&oid=421&aid=0005391187'), (datetime.datetime(2021, 6, 3, 15, 10, 9, 545790), '‘공군 성추행’ 피의자 구속…군검찰·민간참여 수사심의위 구성', 'https://news.naver.com/main/read.nhn?mode=LSD&mid=shm&sid1=100&oid=056&aid=0011056583')]\n",
      "200\n",
      "[(datetime.datetime(2021, 6, 3, 15, 10, 14, 758348), '메가스터디 \"6월 모평 수학, 공통과목서 변별력·선택과목 평이\"', 'https://news.naver.com/main/read.nhn?mode=LSD&mid=shm&sid1=102&oid=008&aid=0004596670'), (datetime.datetime(2021, 6, 3, 15, 10, 14, 758348), '네이버 \\'통유리 사옥\\' 태양광 피해... 대법 \"판단 다시\"', 'https://news.naver.com/main/read.nhn?mode=LSD&mid=shm&sid1=102&oid=014&aid=0004650582'), (datetime.datetime(2021, 6, 3, 15, 10, 14, 758348), '\"1천만 원은 합의금…영상 삭제 대가 아니야\"', 'https://news.naver.com/main/read.nhn?mode=LSD&mid=shm&sid1=102&oid=214&aid=0001122831'), (datetime.datetime(2021, 6, 3, 15, 10, 14, 758348), '민주·정의 132명 의원들 \"도쿄올림픽 \\'독도 표기\\' 규탄\"', 'https://news.naver.com/main/read.nhn?mode=LSD&mid=shm&sid1=100&oid=448&aid=0000329976'), (datetime.datetime(2021, 6, 3, 15, 10, 14, 758348), '軍 합동 수사단·민간인 포함 檢 수사심의위 구성', 'https://news.naver.com/main/read.nhn?mode=LSD&mid=shm&sid1=100&oid=052&aid=0001596389')]\n",
      "200\n",
      "[(datetime.datetime(2021, 6, 3, 15, 10, 14, 898191), '메가스터디 \"6월 모평 수학, 공통과목서 변별력·선택과목 평이\"', 'https://news.naver.com/main/read.nhn?mode=LSD&mid=shm&sid1=102&oid=008&aid=0004596670'), (datetime.datetime(2021, 6, 3, 15, 10, 14, 898191), '네이버 \\'통유리 사옥\\' 태양광 피해... 대법 \"판단 다시\"', 'https://news.naver.com/main/read.nhn?mode=LSD&mid=shm&sid1=102&oid=014&aid=0004650582'), (datetime.datetime(2021, 6, 3, 15, 10, 14, 899191), '\"1천만 원은 합의금…영상 삭제 대가 아니야\"', 'https://news.naver.com/main/read.nhn?mode=LSD&mid=shm&sid1=102&oid=214&aid=0001122831'), (datetime.datetime(2021, 6, 3, 15, 10, 14, 899191), '민주·정의 132명 의원들 \"도쿄올림픽 \\'독도 표기\\' 규탄\"', 'https://news.naver.com/main/read.nhn?mode=LSD&mid=shm&sid1=100&oid=448&aid=0000329976'), (datetime.datetime(2021, 6, 3, 15, 10, 14, 899191), '軍 합동 수사단·민간인 포함 檢 수사심의위 구성', 'https://news.naver.com/main/read.nhn?mode=LSD&mid=shm&sid1=100&oid=052&aid=0001596389')]\n",
      "200\n",
      "[(datetime.datetime(2021, 6, 3, 15, 10, 15, 130424), '메가스터디 \"6월 모평 수학, 공통과목서 변별력·선택과목 평이\"', 'https://news.naver.com/main/read.nhn?mode=LSD&mid=shm&sid1=102&oid=008&aid=0004596670'), (datetime.datetime(2021, 6, 3, 15, 10, 15, 130424), '네이버 \\'통유리 사옥\\' 태양광 피해... 대법 \"판단 다시\"', 'https://news.naver.com/main/read.nhn?mode=LSD&mid=shm&sid1=102&oid=014&aid=0004650582'), (datetime.datetime(2021, 6, 3, 15, 10, 15, 130424), '\"1천만 원은 합의금…영상 삭제 대가 아니야\"', 'https://news.naver.com/main/read.nhn?mode=LSD&mid=shm&sid1=102&oid=214&aid=0001122831'), (datetime.datetime(2021, 6, 3, 15, 10, 15, 130424), '민주·정의 132명 의원들 \"도쿄올림픽 \\'독도 표기\\' 규탄\"', 'https://news.naver.com/main/read.nhn?mode=LSD&mid=shm&sid1=100&oid=448&aid=0000329976'), (datetime.datetime(2021, 6, 3, 15, 10, 15, 130424), '軍 합동 수사단·민간인 포함 檢 수사심의위 구성', 'https://news.naver.com/main/read.nhn?mode=LSD&mid=shm&sid1=100&oid=052&aid=0001596389')]\n",
      "200\n",
      "[(datetime.datetime(2021, 6, 3, 15, 10, 15, 281693), '메가스터디 \"6월 모평 수학, 공통과목서 변별력·선택과목 평이\"', 'https://news.naver.com/main/read.nhn?mode=LSD&mid=shm&sid1=102&oid=008&aid=0004596670'), (datetime.datetime(2021, 6, 3, 15, 10, 15, 281693), '네이버 \\'통유리 사옥\\' 태양광 피해... 대법 \"판단 다시\"', 'https://news.naver.com/main/read.nhn?mode=LSD&mid=shm&sid1=102&oid=014&aid=0004650582'), (datetime.datetime(2021, 6, 3, 15, 10, 15, 281693), '\"1천만 원은 합의금…영상 삭제 대가 아니야\"', 'https://news.naver.com/main/read.nhn?mode=LSD&mid=shm&sid1=102&oid=214&aid=0001122831'), (datetime.datetime(2021, 6, 3, 15, 10, 15, 281693), '민주·정의 132명 의원들 \"도쿄올림픽 \\'독도 표기\\' 규탄\"', 'https://news.naver.com/main/read.nhn?mode=LSD&mid=shm&sid1=100&oid=448&aid=0000329976'), (datetime.datetime(2021, 6, 3, 15, 10, 15, 281693), '軍 합동 수사단·민간인 포함 檢 수사심의위 구성', 'https://news.naver.com/main/read.nhn?mode=LSD&mid=shm&sid1=100&oid=052&aid=0001596389')]\n",
      "200\n",
      "[(datetime.datetime(2021, 6, 3, 15, 10, 20, 560573), '文 대통령 만난 민주당 초선들…”LH, 더 혁신적으로 개편해야”', 'https://news.naver.com/main/read.nhn?mode=LSD&mid=shm&sid1=100&oid=016&aid=0001843875'), (datetime.datetime(2021, 6, 3, 15, 10, 20, 560573), '초선들 만난 문 대통령 “내부 단합하고 외연 확장할 때 지지 만들어져”', 'https://news.naver.com/main/read.nhn?mode=LSD&mid=shm&sid1=100&oid=032&aid=0003077992'), (datetime.datetime(2021, 6, 3, 15, 10, 20, 560573), '질병청 \"접종완료후 \\'돌파감염\\' 5명 추가, 모두 화이자…누적 9명\"[현장연결]', 'https://news.naver.com/main/read.nhn?mode=LSD&mid=shm&sid1=101&oid=422&aid=0000488198'), (datetime.datetime(2021, 6, 3, 15, 10, 20, 560573), '文대통령 “절망스러웠을 女부사관 생각하면 가슴 아파”', 'https://news.naver.com/main/read.nhn?mode=LSD&mid=shm&sid1=100&oid=081&aid=0003191315'), (datetime.datetime(2021, 6, 3, 15, 10, 20, 560573), '尹측 \"무리한 부인 수사 1년3개월째…정치 공작\"(종합)', 'https://news.naver.com/main/read.nhn?mode=LSD&mid=shm&sid1=100&oid=001&aid=0012435389')]\n",
      "200\n",
      "[(datetime.datetime(2021, 6, 3, 15, 10, 20, 705038), '이용구 “거짓 진술 요구는 사실…합의금은 영상 삭제 대가 아냐”', 'https://news.naver.com/main/read.nhn?mode=LSD&mid=shm&sid1=102&oid=056&aid=0011056577'), (datetime.datetime(2021, 6, 3, 15, 10, 20, 705038), '문대통령, 공군 부사관 성폭력 사망 엄정처리 지시…\"가슴 아파\"(종합)', 'https://news.naver.com/main/read.nhn?mode=LSD&mid=shm&sid1=100&oid=421&aid=0005391324'), (datetime.datetime(2021, 6, 3, 15, 10, 20, 705038), '軍, 성추행 사망 사건 수사심의위 구성…부대 관계자 줄소환 예정', 'https://news.naver.com/main/read.nhn?mode=LSD&mid=shm&sid1=100&oid=079&aid=0003511505'), (datetime.datetime(2021, 6, 3, 15, 10, 20, 705038), '[영상]당국 \"대구시 주선 화이자, 공식 유통 아냐…도입 않기로\"', 'https://news.naver.com/main/read.nhn?mode=LSD&mid=shm&sid1=102&oid=079&aid=0003511545'), (datetime.datetime(2021, 6, 3, 15, 10, 20, 706038), '오후에 강한 비…여름 더위 한풀 꺾여[날씨]', 'https://news.naver.com/main/read.nhn?mode=LSD&mid=shm&sid1=115&oid=449&aid=0000209721')]\n"
     ]
    },
    {
     "name": "stdout",
     "output_type": "stream",
     "text": [
      "200\n",
      "[(datetime.datetime(2021, 6, 3, 15, 10, 25, 912222), '\"어젠 그냥 여름이던데 오늘은 시원하려나\"[날씨톡톡]', 'https://news.naver.com/main/read.nhn?mode=LSD&mid=shm&sid1=103&oid=422&aid=0000488170'), (datetime.datetime(2021, 6, 3, 15, 10, 25, 912222), '이용구 \"합의금 1천만원, 블랙박스 영상삭제 대가 아냐\"', 'https://news.naver.com/main/read.nhn?mode=LSD&mid=shm&sid1=102&oid=003&aid=0010531199'), (datetime.datetime(2021, 6, 3, 15, 10, 25, 912222), '공정위, 삼성웰스토리 동의의결 기각', 'https://news.naver.com/main/read.nhn?mode=LSD&mid=shm&sid1=101&oid=011&aid=0003918630'), (datetime.datetime(2021, 6, 3, 15, 10, 25, 912222), '文 \"성추행 피해 부사관의 절망, 가슴 아파… 엄정 수사·조치하라\"', 'https://news.naver.com/main/read.nhn?mode=LSD&mid=shm&sid1=100&oid=469&aid=0000608514'), (datetime.datetime(2021, 6, 3, 15, 10, 25, 912222), '[현장영상] 與 초선의원 68명, 대통령과 간담회...어떤 이야기 오갔나', 'https://news.naver.com/main/read.nhn?mode=LSD&mid=shm&sid1=100&oid=052&aid=0001596403')]\n",
      "200\n",
      "[(datetime.datetime(2021, 6, 3, 15, 10, 26, 54395), '\"어젠 그냥 여름이던데 오늘은 시원하려나\"[날씨톡톡]', 'https://news.naver.com/main/read.nhn?mode=LSD&mid=shm&sid1=103&oid=422&aid=0000488170'), (datetime.datetime(2021, 6, 3, 15, 10, 26, 54395), '이용구 \"합의금 1천만원, 블랙박스 영상삭제 대가 아냐\"', 'https://news.naver.com/main/read.nhn?mode=LSD&mid=shm&sid1=102&oid=003&aid=0010531199'), (datetime.datetime(2021, 6, 3, 15, 10, 26, 54395), '공정위, 삼성웰스토리 동의의결 기각', 'https://news.naver.com/main/read.nhn?mode=LSD&mid=shm&sid1=101&oid=011&aid=0003918630'), (datetime.datetime(2021, 6, 3, 15, 10, 26, 54395), '文 \"성추행 피해 부사관의 절망, 가슴 아파… 엄정 수사·조치하라\"', 'https://news.naver.com/main/read.nhn?mode=LSD&mid=shm&sid1=100&oid=469&aid=0000608514'), (datetime.datetime(2021, 6, 3, 15, 10, 26, 54395), '[현장영상] 與 초선의원 68명, 대통령과 간담회...어떤 이야기 오갔나', 'https://news.naver.com/main/read.nhn?mode=LSD&mid=shm&sid1=100&oid=052&aid=0001596403')]\n",
      "200\n",
      "[(datetime.datetime(2021, 6, 3, 15, 10, 26, 201426), '\"어젠 그냥 여름이던데 오늘은 시원하려나\"[날씨톡톡]', 'https://news.naver.com/main/read.nhn?mode=LSD&mid=shm&sid1=103&oid=422&aid=0000488170'), (datetime.datetime(2021, 6, 3, 15, 10, 26, 201426), '이용구 \"합의금 1천만원, 블랙박스 영상삭제 대가 아냐\"', 'https://news.naver.com/main/read.nhn?mode=LSD&mid=shm&sid1=102&oid=003&aid=0010531199'), (datetime.datetime(2021, 6, 3, 15, 10, 26, 201426), '공정위, 삼성웰스토리 동의의결 기각', 'https://news.naver.com/main/read.nhn?mode=LSD&mid=shm&sid1=101&oid=011&aid=0003918630'), (datetime.datetime(2021, 6, 3, 15, 10, 26, 201426), '文 \"성추행 피해 부사관의 절망, 가슴 아파… 엄정 수사·조치하라\"', 'https://news.naver.com/main/read.nhn?mode=LSD&mid=shm&sid1=100&oid=469&aid=0000608514'), (datetime.datetime(2021, 6, 3, 15, 10, 26, 201426), '[현장영상] 與 초선의원 68명, 대통령과 간담회...어떤 이야기 오갔나', 'https://news.naver.com/main/read.nhn?mode=LSD&mid=shm&sid1=100&oid=052&aid=0001596403')]\n",
      "200\n",
      "[(datetime.datetime(2021, 6, 3, 15, 10, 26, 339931), '\"어젠 그냥 여름이던데 오늘은 시원하려나\"[날씨톡톡]', 'https://news.naver.com/main/read.nhn?mode=LSD&mid=shm&sid1=103&oid=422&aid=0000488170'), (datetime.datetime(2021, 6, 3, 15, 10, 26, 339931), '이용구 \"합의금 1천만원, 블랙박스 영상삭제 대가 아냐\"', 'https://news.naver.com/main/read.nhn?mode=LSD&mid=shm&sid1=102&oid=003&aid=0010531199'), (datetime.datetime(2021, 6, 3, 15, 10, 26, 339931), '공정위, 삼성웰스토리 동의의결 기각', 'https://news.naver.com/main/read.nhn?mode=LSD&mid=shm&sid1=101&oid=011&aid=0003918630'), (datetime.datetime(2021, 6, 3, 15, 10, 26, 340931), '文 \"성추행 피해 부사관의 절망, 가슴 아파… 엄정 수사·조치하라\"', 'https://news.naver.com/main/read.nhn?mode=LSD&mid=shm&sid1=100&oid=469&aid=0000608514'), (datetime.datetime(2021, 6, 3, 15, 10, 26, 340931), '[현장영상] 與 초선의원 68명, 대통령과 간담회...어떤 이야기 오갔나', 'https://news.naver.com/main/read.nhn?mode=LSD&mid=shm&sid1=100&oid=052&aid=0001596403')]\n",
      "200\n",
      "[(datetime.datetime(2021, 6, 3, 15, 10, 31, 612867), '공정위, 삼성그룹 일감몰아주기 ‘동의의결’ 신청 퇴짜…임·직원 檢 고발 수순 밟나', 'https://news.naver.com/main/read.nhn?mode=LSD&mid=shm&sid1=101&oid=366&aid=0000727495'), (datetime.datetime(2021, 6, 3, 15, 10, 31, 612867), '대법 \"네이버 사옥 통유리 반사광…피해 주민에 배상하라\"', 'https://news.naver.com/main/read.nhn?mode=LSD&mid=shm&sid1=102&oid=055&aid=0000898370'), (datetime.datetime(2021, 6, 3, 15, 10, 31, 613867), 'SK㈜, 美모놀리스에 투자…수소사업 확장 가속화', 'https://news.naver.com/main/read.nhn?mode=LSD&mid=shm&sid1=101&oid=031&aid=0000602249'), (datetime.datetime(2021, 6, 3, 15, 10, 31, 613867), \"'보복운전 혐의' 아워홈 구본성, 1심서 징역형 집행유예\", 'https://news.naver.com/main/read.nhn?mode=LSD&mid=shm&sid1=102&oid=018&aid=0004946591'), (datetime.datetime(2021, 6, 3, 15, 10, 31, 613867), '\\'뜨거운 감자\\' 공매도…금융위 \"원활하게 안착했다\"', 'https://news.naver.com/main/read.nhn?mode=LSD&mid=shm&sid1=101&oid=008&aid=0004596729')]\n",
      "200\n",
      "[(datetime.datetime(2021, 6, 3, 15, 10, 31, 757455), '공정위, 삼성그룹 일감몰아주기 ‘동의의결’ 신청 퇴짜…임·직원 檢 고발 수순 밟나', 'https://news.naver.com/main/read.nhn?mode=LSD&mid=shm&sid1=101&oid=366&aid=0000727495'), (datetime.datetime(2021, 6, 3, 15, 10, 31, 758453), '대법 \"네이버 사옥 통유리 반사광…피해 주민에 배상하라\"', 'https://news.naver.com/main/read.nhn?mode=LSD&mid=shm&sid1=102&oid=055&aid=0000898370'), (datetime.datetime(2021, 6, 3, 15, 10, 31, 758453), 'SK㈜, 美모놀리스에 투자…수소사업 확장 가속화', 'https://news.naver.com/main/read.nhn?mode=LSD&mid=shm&sid1=101&oid=031&aid=0000602249'), (datetime.datetime(2021, 6, 3, 15, 10, 31, 758453), \"'보복운전 혐의' 아워홈 구본성, 1심서 징역형 집행유예\", 'https://news.naver.com/main/read.nhn?mode=LSD&mid=shm&sid1=102&oid=018&aid=0004946591'), (datetime.datetime(2021, 6, 3, 15, 10, 31, 758453), '\\'뜨거운 감자\\' 공매도…금융위 \"원활하게 안착했다\"', 'https://news.naver.com/main/read.nhn?mode=LSD&mid=shm&sid1=101&oid=008&aid=0004596729')]\n",
      "200\n",
      "[(datetime.datetime(2021, 6, 3, 15, 10, 36, 928100), '전국 곳곳에 벼락·강풍 동반한 요란한 비...언제 그칠까[날씨]', 'https://news.naver.com/main/read.nhn?mode=LSD&mid=shm&sid1=103&oid=052&aid=0001596471'), (datetime.datetime(2021, 6, 3, 15, 10, 36, 928100), '공군 부사관 유족측, 3명 추가 고소…“성추행 피해 더있다”', 'https://news.naver.com/main/read.nhn?mode=LSD&mid=shm&sid1=100&oid=032&aid=0003077969'), (datetime.datetime(2021, 6, 3, 15, 10, 36, 928100), '日 도쿄올림픽 홈피에 \\'독도 표기\\'... 백혜련 \"영유권 침해, 삭제하라\"', 'https://news.naver.com/main/read.nhn?mode=LSD&mid=shm&sid1=100&oid=469&aid=0000608498'), (datetime.datetime(2021, 6, 3, 15, 10, 36, 928100), '윤석열 측 \"언행 도 넘었다\"…정세균·송영길·최강욱 싸잡아 비판', 'https://news.naver.com/main/read.nhn?mode=LSD&mid=shm&sid1=100&oid=016&aid=0001843813'), (datetime.datetime(2021, 6, 3, 15, 10, 36, 928100), '문대통령 만난 與 초선 의원들…간담회 브리핑[현장연결]', 'https://news.naver.com/main/read.nhn?mode=LSD&mid=shm&sid1=100&oid=422&aid=0000488190')]\n",
      "200\n",
      "[(datetime.datetime(2021, 6, 3, 15, 10, 37, 61985), '전국 곳곳에 벼락·강풍 동반한 요란한 비...언제 그칠까[날씨]', 'https://news.naver.com/main/read.nhn?mode=LSD&mid=shm&sid1=103&oid=052&aid=0001596471'), (datetime.datetime(2021, 6, 3, 15, 10, 37, 61985), '공군 부사관 유족측, 3명 추가 고소…“성추행 피해 더있다”', 'https://news.naver.com/main/read.nhn?mode=LSD&mid=shm&sid1=100&oid=032&aid=0003077969'), (datetime.datetime(2021, 6, 3, 15, 10, 37, 61985), '日 도쿄올림픽 홈피에 \\'독도 표기\\'... 백혜련 \"영유권 침해, 삭제하라\"', 'https://news.naver.com/main/read.nhn?mode=LSD&mid=shm&sid1=100&oid=469&aid=0000608498'), (datetime.datetime(2021, 6, 3, 15, 10, 37, 61985), '윤석열 측 \"언행 도 넘었다\"…정세균·송영길·최강욱 싸잡아 비판', 'https://news.naver.com/main/read.nhn?mode=LSD&mid=shm&sid1=100&oid=016&aid=0001843813'), (datetime.datetime(2021, 6, 3, 15, 10, 37, 61985), '문대통령 만난 與 초선 의원들…간담회 브리핑[현장연결]', 'https://news.naver.com/main/read.nhn?mode=LSD&mid=shm&sid1=100&oid=422&aid=0000488190')]\n",
      "200\n",
      "[(datetime.datetime(2021, 6, 3, 15, 10, 37, 223989), '전국 곳곳에 벼락·강풍 동반한 요란한 비...언제 그칠까[날씨]', 'https://news.naver.com/main/read.nhn?mode=LSD&mid=shm&sid1=103&oid=052&aid=0001596471'), (datetime.datetime(2021, 6, 3, 15, 10, 37, 223989), '공군 부사관 유족측, 3명 추가 고소…“성추행 피해 더있다”', 'https://news.naver.com/main/read.nhn?mode=LSD&mid=shm&sid1=100&oid=032&aid=0003077969'), (datetime.datetime(2021, 6, 3, 15, 10, 37, 223989), '日 도쿄올림픽 홈피에 \\'독도 표기\\'... 백혜련 \"영유권 침해, 삭제하라\"', 'https://news.naver.com/main/read.nhn?mode=LSD&mid=shm&sid1=100&oid=469&aid=0000608498'), (datetime.datetime(2021, 6, 3, 15, 10, 37, 224989), '윤석열 측 \"언행 도 넘었다\"…정세균·송영길·최강욱 싸잡아 비판', 'https://news.naver.com/main/read.nhn?mode=LSD&mid=shm&sid1=100&oid=016&aid=0001843813'), (datetime.datetime(2021, 6, 3, 15, 10, 37, 224989), '문대통령 만난 與 초선 의원들…간담회 브리핑[현장연결]', 'https://news.naver.com/main/read.nhn?mode=LSD&mid=shm&sid1=100&oid=422&aid=0000488190')]\n",
      "200\n",
      "[(datetime.datetime(2021, 6, 3, 15, 10, 37, 440065), '전국 곳곳에 벼락·강풍 동반한 요란한 비...언제 그칠까[날씨]', 'https://news.naver.com/main/read.nhn?mode=LSD&mid=shm&sid1=103&oid=052&aid=0001596471'), (datetime.datetime(2021, 6, 3, 15, 10, 37, 440065), '공군 부사관 유족측, 3명 추가 고소…“성추행 피해 더있다”', 'https://news.naver.com/main/read.nhn?mode=LSD&mid=shm&sid1=100&oid=032&aid=0003077969'), (datetime.datetime(2021, 6, 3, 15, 10, 37, 440065), '日 도쿄올림픽 홈피에 \\'독도 표기\\'... 백혜련 \"영유권 침해, 삭제하라\"', 'https://news.naver.com/main/read.nhn?mode=LSD&mid=shm&sid1=100&oid=469&aid=0000608498'), (datetime.datetime(2021, 6, 3, 15, 10, 37, 440065), '윤석열 측 \"언행 도 넘었다\"…정세균·송영길·최강욱 싸잡아 비판', 'https://news.naver.com/main/read.nhn?mode=LSD&mid=shm&sid1=100&oid=016&aid=0001843813'), (datetime.datetime(2021, 6, 3, 15, 10, 37, 440065), '문대통령 만난 與 초선 의원들…간담회 브리핑[현장연결]', 'https://news.naver.com/main/read.nhn?mode=LSD&mid=shm&sid1=100&oid=422&aid=0000488190')]\n"
     ]
    },
    {
     "name": "stdout",
     "output_type": "stream",
     "text": [
      "200\n",
      "[(datetime.datetime(2021, 6, 3, 15, 10, 42, 598102), '‘네이버 통유리 사옥’ 태양반사광 주민피해 소송… 대법 “다시 재판해야”', 'https://news.naver.com/main/read.nhn?mode=LSD&mid=shm&sid1=102&oid=366&aid=0000727366'), (datetime.datetime(2021, 6, 3, 15, 10, 42, 598102), '정부 “대구시 도입하려는 화이자 백신 진위 의심… 추진 않기로”', 'https://news.naver.com/main/read.nhn?mode=LSD&mid=shm&sid1=102&oid=022&aid=0003587149'), (datetime.datetime(2021, 6, 3, 15, 10, 42, 598102), '국회의원 132명, 일본 올림픽 페이지 독도 표기 규탄 성명', 'https://news.naver.com/main/read.nhn?mode=LSD&mid=shm&sid1=100&oid=025&aid=0003106781'), (datetime.datetime(2021, 6, 3, 15, 10, 42, 598102), '文대통령 \"백신 접종 속도 내고 있어, 집단면역시기 당겨질 것\"', 'https://news.naver.com/main/read.nhn?mode=LSD&mid=shm&sid1=100&oid=016&aid=0001843873'), (datetime.datetime(2021, 6, 3, 15, 10, 42, 599100), '6000억 넘는 M&A, 공정위 심사 받는다…소규모 비상장사는 공시의무 면제', 'https://news.naver.com/main/read.nhn?mode=LSD&mid=shm&sid1=101&oid=366&aid=0000727404')]\n",
      "200\n",
      "[(datetime.datetime(2021, 6, 3, 15, 10, 42, 752116), '‘네이버 통유리 사옥’ 태양반사광 주민피해 소송… 대법 “다시 재판해야”', 'https://news.naver.com/main/read.nhn?mode=LSD&mid=shm&sid1=102&oid=366&aid=0000727366'), (datetime.datetime(2021, 6, 3, 15, 10, 42, 752116), '정부 “대구시 도입하려는 화이자 백신 진위 의심… 추진 않기로”', 'https://news.naver.com/main/read.nhn?mode=LSD&mid=shm&sid1=102&oid=022&aid=0003587149'), (datetime.datetime(2021, 6, 3, 15, 10, 42, 753116), '국회의원 132명, 일본 올림픽 페이지 독도 표기 규탄 성명', 'https://news.naver.com/main/read.nhn?mode=LSD&mid=shm&sid1=100&oid=025&aid=0003106781'), (datetime.datetime(2021, 6, 3, 15, 10, 42, 753116), '文대통령 \"백신 접종 속도 내고 있어, 집단면역시기 당겨질 것\"', 'https://news.naver.com/main/read.nhn?mode=LSD&mid=shm&sid1=100&oid=016&aid=0001843873'), (datetime.datetime(2021, 6, 3, 15, 10, 42, 753116), '6000억 넘는 M&A, 공정위 심사 받는다…소규모 비상장사는 공시의무 면제', 'https://news.naver.com/main/read.nhn?mode=LSD&mid=shm&sid1=101&oid=366&aid=0000727404')]\n",
      "200\n",
      "[(datetime.datetime(2021, 6, 3, 15, 10, 48, 33634), '작년 기업 10곳 중 3곳, 영업 이익으로 대출 이자도 못 내', 'https://news.naver.com/main/read.nhn?mode=LSD&mid=shm&sid1=101&oid=028&aid=0002547037'), (datetime.datetime(2021, 6, 3, 15, 10, 48, 34617), 'SK㈜, 美 모놀리스 투자...친환경 수소사업 확장', 'https://news.naver.com/main/read.nhn?mode=LSD&mid=shm&sid1=101&oid=030&aid=0002948592'), (datetime.datetime(2021, 6, 3, 15, 10, 48, 34617), '2000억 규모 상생지원안 내놨지만…삼성웰스토리 부당지원, 동의의결 실패', 'https://news.naver.com/main/read.nhn?mode=LSD&mid=shm&sid1=101&oid=016&aid=0001843835'), (datetime.datetime(2021, 6, 3, 15, 10, 48, 34617), '문 대통령 \"공군 성폭력 사건 가슴 아프다…엄정 처리\"', 'https://news.naver.com/main/read.nhn?mode=LSD&mid=shm&sid1=100&oid=055&aid=0000898362'), (datetime.datetime(2021, 6, 3, 15, 10, 48, 34617), '\"어젠 그냥 여름이던데 오늘은 시원하려나\"[날씨톡톡]', 'https://news.naver.com/main/read.nhn?mode=LSD&mid=shm&sid1=103&oid=422&aid=0000488170')]\n",
      "200\n",
      "[(datetime.datetime(2021, 6, 3, 15, 10, 48, 183613), '작년 기업 10곳 중 3곳, 영업 이익으로 대출 이자도 못 내', 'https://news.naver.com/main/read.nhn?mode=LSD&mid=shm&sid1=101&oid=028&aid=0002547037'), (datetime.datetime(2021, 6, 3, 15, 10, 48, 183613), 'SK㈜, 美 모놀리스 투자...친환경 수소사업 확장', 'https://news.naver.com/main/read.nhn?mode=LSD&mid=shm&sid1=101&oid=030&aid=0002948592'), (datetime.datetime(2021, 6, 3, 15, 10, 48, 183613), '2000억 규모 상생지원안 내놨지만…삼성웰스토리 부당지원, 동의의결 실패', 'https://news.naver.com/main/read.nhn?mode=LSD&mid=shm&sid1=101&oid=016&aid=0001843835'), (datetime.datetime(2021, 6, 3, 15, 10, 48, 183613), '문 대통령 \"공군 성폭력 사건 가슴 아프다…엄정 처리\"', 'https://news.naver.com/main/read.nhn?mode=LSD&mid=shm&sid1=100&oid=055&aid=0000898362'), (datetime.datetime(2021, 6, 3, 15, 10, 48, 184616), '\"어젠 그냥 여름이던데 오늘은 시원하려나\"[날씨톡톡]', 'https://news.naver.com/main/read.nhn?mode=LSD&mid=shm&sid1=103&oid=422&aid=0000488170')]\n",
      "200\n",
      "[(datetime.datetime(2021, 6, 3, 15, 10, 48, 342639), '작년 기업 10곳 중 3곳, 영업 이익으로 대출 이자도 못 내', 'https://news.naver.com/main/read.nhn?mode=LSD&mid=shm&sid1=101&oid=028&aid=0002547037'), (datetime.datetime(2021, 6, 3, 15, 10, 48, 342639), 'SK㈜, 美 모놀리스 투자...친환경 수소사업 확장', 'https://news.naver.com/main/read.nhn?mode=LSD&mid=shm&sid1=101&oid=030&aid=0002948592'), (datetime.datetime(2021, 6, 3, 15, 10, 48, 342639), '2000억 규모 상생지원안 내놨지만…삼성웰스토리 부당지원, 동의의결 실패', 'https://news.naver.com/main/read.nhn?mode=LSD&mid=shm&sid1=101&oid=016&aid=0001843835'), (datetime.datetime(2021, 6, 3, 15, 10, 48, 342639), '문 대통령 \"공군 성폭력 사건 가슴 아프다…엄정 처리\"', 'https://news.naver.com/main/read.nhn?mode=LSD&mid=shm&sid1=100&oid=055&aid=0000898362'), (datetime.datetime(2021, 6, 3, 15, 10, 48, 343631), '\"어젠 그냥 여름이던데 오늘은 시원하려나\"[날씨톡톡]', 'https://news.naver.com/main/read.nhn?mode=LSD&mid=shm&sid1=103&oid=422&aid=0000488170')]\n",
      "200\n",
      "[(datetime.datetime(2021, 6, 3, 15, 10, 48, 515616), '작년 기업 10곳 중 3곳, 영업 이익으로 대출 이자도 못 내', 'https://news.naver.com/main/read.nhn?mode=LSD&mid=shm&sid1=101&oid=028&aid=0002547037'), (datetime.datetime(2021, 6, 3, 15, 10, 48, 515616), 'SK㈜, 美 모놀리스 투자...친환경 수소사업 확장', 'https://news.naver.com/main/read.nhn?mode=LSD&mid=shm&sid1=101&oid=030&aid=0002948592'), (datetime.datetime(2021, 6, 3, 15, 10, 48, 516615), '2000억 규모 상생지원안 내놨지만…삼성웰스토리 부당지원, 동의의결 실패', 'https://news.naver.com/main/read.nhn?mode=LSD&mid=shm&sid1=101&oid=016&aid=0001843835'), (datetime.datetime(2021, 6, 3, 15, 10, 48, 516615), '문 대통령 \"공군 성폭력 사건 가슴 아프다…엄정 처리\"', 'https://news.naver.com/main/read.nhn?mode=LSD&mid=shm&sid1=100&oid=055&aid=0000898362'), (datetime.datetime(2021, 6, 3, 15, 10, 48, 516615), '\"어젠 그냥 여름이던데 오늘은 시원하려나\"[날씨톡톡]', 'https://news.naver.com/main/read.nhn?mode=LSD&mid=shm&sid1=103&oid=422&aid=0000488170')]\n",
      "200\n",
      "[(datetime.datetime(2021, 6, 3, 15, 10, 53, 717678), '대법 \"네이버 사옥 통유리 반사광 주민 피해 배상하라\"', 'https://news.naver.com/main/read.nhn?mode=LSD&mid=shm&sid1=102&oid=001&aid=0012435326'), (datetime.datetime(2021, 6, 3, 15, 10, 53, 718681), \"'수소사업 속도' SK, 세계 첫 청록수소 생산기업에 투자\", 'https://news.naver.com/main/read.nhn?mode=LSD&mid=shm&sid1=101&oid=015&aid=0004556725'), (datetime.datetime(2021, 6, 3, 15, 10, 53, 718681), '국내 접종완료자 104만명 중 돌파감염 9명…\"외국보다 드물어\"', 'https://news.naver.com/main/read.nhn?mode=LSD&mid=shm&sid1=102&oid=003&aid=0010532096'), (datetime.datetime(2021, 6, 3, 15, 10, 53, 718681), '군검찰 `부사관 성추행` 원점서 수사…“회유·은폐 가담자 모두 소환”', 'https://news.naver.com/main/read.nhn?mode=LSD&mid=shm&sid1=100&oid=018&aid=0004946285'), (datetime.datetime(2021, 6, 3, 15, 10, 53, 718681), '정부 “대구 화이자 신뢰성 문제… 도입 않기로”', 'https://news.naver.com/main/read.nhn?mode=LSD&mid=shm&sid1=102&oid=366&aid=0000727398')]\n",
      "200\n",
      "[(datetime.datetime(2021, 6, 3, 15, 10, 53, 934989), '대법 \"네이버 사옥 통유리 반사광 주민 피해 배상하라\"', 'https://news.naver.com/main/read.nhn?mode=LSD&mid=shm&sid1=102&oid=001&aid=0012435326'), (datetime.datetime(2021, 6, 3, 15, 10, 53, 934989), \"'수소사업 속도' SK, 세계 첫 청록수소 생산기업에 투자\", 'https://news.naver.com/main/read.nhn?mode=LSD&mid=shm&sid1=101&oid=015&aid=0004556725'), (datetime.datetime(2021, 6, 3, 15, 10, 53, 934989), '국내 접종완료자 104만명 중 돌파감염 9명…\"외국보다 드물어\"', 'https://news.naver.com/main/read.nhn?mode=LSD&mid=shm&sid1=102&oid=003&aid=0010532096'), (datetime.datetime(2021, 6, 3, 15, 10, 53, 934989), '군검찰 `부사관 성추행` 원점서 수사…“회유·은폐 가담자 모두 소환”', 'https://news.naver.com/main/read.nhn?mode=LSD&mid=shm&sid1=100&oid=018&aid=0004946285'), (datetime.datetime(2021, 6, 3, 15, 10, 53, 934989), '정부 “대구 화이자 신뢰성 문제… 도입 않기로”', 'https://news.naver.com/main/read.nhn?mode=LSD&mid=shm&sid1=102&oid=366&aid=0000727398')]\n",
      "200\n",
      "[(datetime.datetime(2021, 6, 3, 15, 10, 59, 113793), '정부 \"대구시 주선 화이자 백신 진위 의심…구매 안한다\"', 'https://news.naver.com/main/read.nhn?mode=LSD&mid=shm&sid1=102&oid=001&aid=0012435457'), (datetime.datetime(2021, 6, 3, 15, 10, 59, 114795), '‘네이버 통유리 사옥’ 태양반사광 주민피해 소송… 대법 “다시 재판해야”', 'https://news.naver.com/main/read.nhn?mode=LSD&mid=shm&sid1=102&oid=366&aid=0000727366'), (datetime.datetime(2021, 6, 3, 15, 10, 59, 114795), '문 대통령, ‘공군 부사관 성추행’ 사건에 엄정 수사 지시…“가슴 아파”', 'https://news.naver.com/main/read.nhn?mode=LSD&mid=shm&sid1=100&oid=025&aid=0003106795'), (datetime.datetime(2021, 6, 3, 15, 10, 59, 114795), '이용구 법무차관 “택시기사 준 1000만원, 영상 삭제 대가 아닌 합의금”', 'https://news.naver.com/main/read.nhn?mode=LSD&mid=shm&sid1=102&oid=015&aid=0004556629'), (datetime.datetime(2021, 6, 3, 15, 10, 59, 114795), '군검찰 `부사관 성추행` 원점서 수사…“회유·은폐 가담자 모두 소환”', 'https://news.naver.com/main/read.nhn?mode=LSD&mid=shm&sid1=100&oid=018&aid=0004946285')]\n",
      "200\n",
      "[(datetime.datetime(2021, 6, 3, 15, 10, 59, 270797), '정부 \"대구시 주선 화이자 백신 진위 의심…구매 안한다\"', 'https://news.naver.com/main/read.nhn?mode=LSD&mid=shm&sid1=102&oid=001&aid=0012435457'), (datetime.datetime(2021, 6, 3, 15, 10, 59, 271794), '‘네이버 통유리 사옥’ 태양반사광 주민피해 소송… 대법 “다시 재판해야”', 'https://news.naver.com/main/read.nhn?mode=LSD&mid=shm&sid1=102&oid=366&aid=0000727366'), (datetime.datetime(2021, 6, 3, 15, 10, 59, 271794), '문 대통령, ‘공군 부사관 성추행’ 사건에 엄정 수사 지시…“가슴 아파”', 'https://news.naver.com/main/read.nhn?mode=LSD&mid=shm&sid1=100&oid=025&aid=0003106795'), (datetime.datetime(2021, 6, 3, 15, 10, 59, 271794), '이용구 법무차관 “택시기사 준 1000만원, 영상 삭제 대가 아닌 합의금”', 'https://news.naver.com/main/read.nhn?mode=LSD&mid=shm&sid1=102&oid=015&aid=0004556629'), (datetime.datetime(2021, 6, 3, 15, 10, 59, 271794), '군검찰 `부사관 성추행` 원점서 수사…“회유·은폐 가담자 모두 소환”', 'https://news.naver.com/main/read.nhn?mode=LSD&mid=shm&sid1=100&oid=018&aid=0004946285')]\n",
      "200\n"
     ]
    },
    {
     "name": "stdout",
     "output_type": "stream",
     "text": [
      "[(datetime.datetime(2021, 6, 3, 15, 10, 59, 509800), '정부 \"대구시 주선 화이자 백신 진위 의심…구매 안한다\"', 'https://news.naver.com/main/read.nhn?mode=LSD&mid=shm&sid1=102&oid=001&aid=0012435457'), (datetime.datetime(2021, 6, 3, 15, 10, 59, 509800), '‘네이버 통유리 사옥’ 태양반사광 주민피해 소송… 대법 “다시 재판해야”', 'https://news.naver.com/main/read.nhn?mode=LSD&mid=shm&sid1=102&oid=366&aid=0000727366'), (datetime.datetime(2021, 6, 3, 15, 10, 59, 509800), '문 대통령, ‘공군 부사관 성추행’ 사건에 엄정 수사 지시…“가슴 아파”', 'https://news.naver.com/main/read.nhn?mode=LSD&mid=shm&sid1=100&oid=025&aid=0003106795'), (datetime.datetime(2021, 6, 3, 15, 10, 59, 510800), '이용구 법무차관 “택시기사 준 1000만원, 영상 삭제 대가 아닌 합의금”', 'https://news.naver.com/main/read.nhn?mode=LSD&mid=shm&sid1=102&oid=015&aid=0004556629'), (datetime.datetime(2021, 6, 3, 15, 10, 59, 510800), '군검찰 `부사관 성추행` 원점서 수사…“회유·은폐 가담자 모두 소환”', 'https://news.naver.com/main/read.nhn?mode=LSD&mid=shm&sid1=100&oid=018&aid=0004946285')]\n",
      "200\n",
      "[(datetime.datetime(2021, 6, 3, 15, 10, 59, 656790), '[속보]文대통령 \"성추행 피해 부사관, 가슴 아파...엄중 수사하라\"', 'https://news.naver.com/main/read.nhn?mode=LSD&mid=shm&sid1=100&oid=014&aid=0004650564'), (datetime.datetime(2021, 6, 3, 15, 10, 59, 656790), '주식 열풍에 증권사 1분기 순익 3조…사상 최대 경신', 'https://news.naver.com/main/read.nhn?mode=LSD&mid=shm&sid1=101&oid=001&aid=0012435461'), (datetime.datetime(2021, 6, 3, 15, 10, 59, 656790), '정부 \"대구시 주선 화이자 백신 진위 의심…구매 안 해\"', 'https://news.naver.com/main/read.nhn?mode=LSD&mid=shm&sid1=100&oid=055&aid=0000898374'), (datetime.datetime(2021, 6, 3, 15, 10, 59, 656790), '공정위, 삼성의 동의의결 개시 신청 기각', 'https://news.naver.com/main/read.nhn?mode=LSD&mid=shm&sid1=101&oid=079&aid=0003511582'), (datetime.datetime(2021, 6, 3, 15, 10, 59, 656790), '문대통령 \"경제 성과 있으나 국민 고통…마음 아프다\"', 'https://news.naver.com/main/read.nhn?mode=LSD&mid=shm&sid1=100&oid=001&aid=0012435548')]\n",
      "200\n",
      "[(datetime.datetime(2021, 6, 3, 15, 11, 4, 811571), '화이자 \"대구시 제안받은 백신 정품 아닌 듯\"…정부 \"도입 협의 안 해\"', 'https://news.naver.com/main/read.nhn?mode=LSD&mid=shm&sid1=102&oid=003&aid=0010531759'), (datetime.datetime(2021, 6, 3, 15, 11, 4, 811571), '[속보] 이용구 \"택시기사에 거듭 사과...영상 유포 우려해 삭제 요청\"', 'https://news.naver.com/main/read.nhn?mode=LSD&mid=shm&sid1=102&oid=052&aid=0001596275'), (datetime.datetime(2021, 6, 3, 15, 11, 4, 811571), '오후에 강한 비…여름 더위 한풀 꺾여[날씨]', 'https://news.naver.com/main/read.nhn?mode=LSD&mid=shm&sid1=115&oid=449&aid=0000209721'), (datetime.datetime(2021, 6, 3, 15, 11, 4, 811571), '\"2850% 폭등한 AMC처럼\"…한국판 \\'공매도 전쟁\\' 가능할까?', 'https://news.naver.com/main/read.nhn?mode=LSD&mid=shm&sid1=101&oid=015&aid=0004556640'), (datetime.datetime(2021, 6, 3, 15, 11, 4, 811571), '평창 땐 독도 빼라던 IOC, 日 \"독도는 일본 땅\" 억지에도 \\'침묵\\'', 'https://news.naver.com/main/read.nhn?mode=LSD&mid=shm&sid1=104&oid=277&aid=0004914029')]\n",
      "200\n",
      "[(datetime.datetime(2021, 6, 3, 15, 11, 4, 965694), '화이자 \"대구시 제안받은 백신 정품 아닌 듯\"…정부 \"도입 협의 안 해\"', 'https://news.naver.com/main/read.nhn?mode=LSD&mid=shm&sid1=102&oid=003&aid=0010531759'), (datetime.datetime(2021, 6, 3, 15, 11, 4, 966695), '[속보] 이용구 \"택시기사에 거듭 사과...영상 유포 우려해 삭제 요청\"', 'https://news.naver.com/main/read.nhn?mode=LSD&mid=shm&sid1=102&oid=052&aid=0001596275'), (datetime.datetime(2021, 6, 3, 15, 11, 4, 966695), '오후에 강한 비…여름 더위 한풀 꺾여[날씨]', 'https://news.naver.com/main/read.nhn?mode=LSD&mid=shm&sid1=115&oid=449&aid=0000209721'), (datetime.datetime(2021, 6, 3, 15, 11, 4, 966695), '\"2850% 폭등한 AMC처럼\"…한국판 \\'공매도 전쟁\\' 가능할까?', 'https://news.naver.com/main/read.nhn?mode=LSD&mid=shm&sid1=101&oid=015&aid=0004556640'), (datetime.datetime(2021, 6, 3, 15, 11, 4, 966695), '평창 땐 독도 빼라던 IOC, 日 \"독도는 일본 땅\" 억지에도 \\'침묵\\'', 'https://news.naver.com/main/read.nhn?mode=LSD&mid=shm&sid1=104&oid=277&aid=0004914029')]\n",
      "200\n",
      "[(datetime.datetime(2021, 6, 3, 15, 11, 10, 182476), '日 \"독도는 우리 영토…韓 항의 절대 받아들일 수 없다\"', 'https://news.naver.com/main/read.nhn?mode=LSD&mid=shm&sid1=102&oid=015&aid=0004556578'), (datetime.datetime(2021, 6, 3, 15, 11, 10, 182476), '송영길 ‘윤석열 가족수사’ 언급에… 尹측 “도 넘었다”', 'https://news.naver.com/main/read.nhn?mode=LSD&mid=shm&sid1=100&oid=021&aid=0002473306'), (datetime.datetime(2021, 6, 3, 15, 11, 10, 182476), 'SK, 美청록수소 생산기업 투자...수소 생태계 확장', 'https://news.naver.com/main/read.nhn?mode=LSD&mid=shm&sid1=101&oid=014&aid=0004650533'), (datetime.datetime(2021, 6, 3, 15, 11, 10, 182476), '군 검경·국방부, 합동 수사…첫 수사심의위', 'https://news.naver.com/main/read.nhn?mode=LSD&mid=shm&sid1=100&oid=214&aid=0001122857'), (datetime.datetime(2021, 6, 3, 15, 11, 10, 182476), '문 대통령 “공군 부사관 사망 건, 최고상급자까지 지휘부도 살펴라”', 'https://news.naver.com/main/read.nhn?mode=LSD&mid=shm&sid1=100&oid=028&aid=0002547034')]\n",
      "200\n",
      "[(datetime.datetime(2021, 6, 3, 15, 11, 10, 339114), '日 \"독도는 우리 영토…韓 항의 절대 받아들일 수 없다\"', 'https://news.naver.com/main/read.nhn?mode=LSD&mid=shm&sid1=102&oid=015&aid=0004556578'), (datetime.datetime(2021, 6, 3, 15, 11, 10, 339114), '송영길 ‘윤석열 가족수사’ 언급에… 尹측 “도 넘었다”', 'https://news.naver.com/main/read.nhn?mode=LSD&mid=shm&sid1=100&oid=021&aid=0002473306'), (datetime.datetime(2021, 6, 3, 15, 11, 10, 339114), 'SK, 美청록수소 생산기업 투자...수소 생태계 확장', 'https://news.naver.com/main/read.nhn?mode=LSD&mid=shm&sid1=101&oid=014&aid=0004650533'), (datetime.datetime(2021, 6, 3, 15, 11, 10, 339114), '군 검경·국방부, 합동 수사…첫 수사심의위', 'https://news.naver.com/main/read.nhn?mode=LSD&mid=shm&sid1=100&oid=214&aid=0001122857'), (datetime.datetime(2021, 6, 3, 15, 11, 10, 339114), '문 대통령 “공군 부사관 사망 건, 최고상급자까지 지휘부도 살펴라”', 'https://news.naver.com/main/read.nhn?mode=LSD&mid=shm&sid1=100&oid=028&aid=0002547034')]\n",
      "200\n",
      "[(datetime.datetime(2021, 6, 3, 15, 11, 10, 480414), '日 \"독도는 우리 영토…韓 항의 절대 받아들일 수 없다\"', 'https://news.naver.com/main/read.nhn?mode=LSD&mid=shm&sid1=102&oid=015&aid=0004556578'), (datetime.datetime(2021, 6, 3, 15, 11, 10, 480414), '송영길 ‘윤석열 가족수사’ 언급에… 尹측 “도 넘었다”', 'https://news.naver.com/main/read.nhn?mode=LSD&mid=shm&sid1=100&oid=021&aid=0002473306'), (datetime.datetime(2021, 6, 3, 15, 11, 10, 480414), 'SK, 美청록수소 생산기업 투자...수소 생태계 확장', 'https://news.naver.com/main/read.nhn?mode=LSD&mid=shm&sid1=101&oid=014&aid=0004650533'), (datetime.datetime(2021, 6, 3, 15, 11, 10, 480414), '군 검경·국방부, 합동 수사…첫 수사심의위', 'https://news.naver.com/main/read.nhn?mode=LSD&mid=shm&sid1=100&oid=214&aid=0001122857'), (datetime.datetime(2021, 6, 3, 15, 11, 10, 480414), '문 대통령 “공군 부사관 사망 건, 최고상급자까지 지휘부도 살펴라”', 'https://news.naver.com/main/read.nhn?mode=LSD&mid=shm&sid1=100&oid=028&aid=0002547034')]\n",
      "200\n",
      "[(datetime.datetime(2021, 6, 3, 15, 11, 10, 648574), '중앙방역대책본부 브리핑 (6월 3일)', 'https://news.naver.com/main/read.nhn?mode=LSD&mid=shm&sid1=100&oid=052&aid=0001596472'), (datetime.datetime(2021, 6, 3, 15, 11, 10, 648574), '화이자사 \"대구시 제안한 화이자 백신 가짜 의심···법적 조치 취할 예정\"', 'https://news.naver.com/main/read.nhn?mode=LSD&mid=shm&sid1=102&oid=032&aid=0003077966'), (datetime.datetime(2021, 6, 3, 15, 11, 10, 648574), '메가스터디 \"6월 모평 수학, 공통과목서 변별력·선택과목 평이\"', 'https://news.naver.com/main/read.nhn?mode=LSD&mid=shm&sid1=102&oid=008&aid=0004596670'), (datetime.datetime(2021, 6, 3, 15, 11, 10, 648574), '대법 \"사옥 햇빛 반사로 주민 피해, 네이버 배상책임\"', 'https://news.naver.com/main/read.nhn?mode=LSD&mid=shm&sid1=102&oid=052&aid=0001596438'), (datetime.datetime(2021, 6, 3, 15, 11, 10, 648574), 'SK㈜, 美 수소기업 모놀리스에 투자…청록수소 사업 진출', 'https://news.naver.com/main/read.nhn?mode=LSD&mid=shm&sid1=101&oid=025&aid=0003106829')]\n",
      "200\n",
      "[(datetime.datetime(2021, 6, 3, 15, 11, 15, 944197), '공정위 M&A 심사대상 개정…\"인수금액 6천억 + 월 100만명 이용\"', 'https://news.naver.com/main/read.nhn?mode=LSD&mid=shm&sid1=101&oid=001&aid=0012435455'), (datetime.datetime(2021, 6, 3, 15, 11, 15, 944197), '\"어젠 그냥 여름이던데 오늘은 시원하려나\"[날씨톡톡]', 'https://news.naver.com/main/read.nhn?mode=LSD&mid=shm&sid1=103&oid=422&aid=0000488170'), (datetime.datetime(2021, 6, 3, 15, 11, 15, 944197), \"증권사 순익 또 '껑충'…1분기 3조원 벌었다\", 'https://news.naver.com/main/read.nhn?mode=LSD&mid=shm&sid1=101&oid=374&aid=0000246412'), (datetime.datetime(2021, 6, 3, 15, 11, 15, 944197), '정부 \"대구시 제안 화이자 진위 불분명...계약 추진 안 할 것\"', 'https://news.naver.com/main/read.nhn?mode=LSD&mid=shm&sid1=102&oid=025&aid=0003106805'), (datetime.datetime(2021, 6, 3, 15, 11, 15, 944197), '삼성 “2000억원 들여 부당지원 시정”…공정위 “기각한다”', 'https://news.naver.com/main/read.nhn?mode=LSD&mid=shm&sid1=101&oid=025&aid=0003106828')]\n",
      "200\n",
      "[(datetime.datetime(2021, 6, 3, 15, 11, 16, 145044), '공정위 M&A 심사대상 개정…\"인수금액 6천억 + 월 100만명 이용\"', 'https://news.naver.com/main/read.nhn?mode=LSD&mid=shm&sid1=101&oid=001&aid=0012435455'), (datetime.datetime(2021, 6, 3, 15, 11, 16, 145044), '\"어젠 그냥 여름이던데 오늘은 시원하려나\"[날씨톡톡]', 'https://news.naver.com/main/read.nhn?mode=LSD&mid=shm&sid1=103&oid=422&aid=0000488170'), (datetime.datetime(2021, 6, 3, 15, 11, 16, 145044), \"증권사 순익 또 '껑충'…1분기 3조원 벌었다\", 'https://news.naver.com/main/read.nhn?mode=LSD&mid=shm&sid1=101&oid=374&aid=0000246412'), (datetime.datetime(2021, 6, 3, 15, 11, 16, 145044), '정부 \"대구시 제안 화이자 진위 불분명...계약 추진 안 할 것\"', 'https://news.naver.com/main/read.nhn?mode=LSD&mid=shm&sid1=102&oid=025&aid=0003106805'), (datetime.datetime(2021, 6, 3, 15, 11, 16, 145044), '삼성 “2000억원 들여 부당지원 시정”…공정위 “기각한다”', 'https://news.naver.com/main/read.nhn?mode=LSD&mid=shm&sid1=101&oid=025&aid=0003106828')]\n"
     ]
    },
    {
     "name": "stdout",
     "output_type": "stream",
     "text": [
      "200\n",
      "[(datetime.datetime(2021, 6, 3, 15, 11, 21, 401832), \"'반사광 최대 2.9만배' 네이버 유리사옥 법정다툼, 주민들 이겼다\", 'https://news.naver.com/main/read.nhn?mode=LSD&mid=shm&sid1=102&oid=008&aid=0004596631'), (datetime.datetime(2021, 6, 3, 15, 11, 21, 401832), '공군 부사관 유족측, 3명 추가 고소…“성추행 피해 더있다”', 'https://news.naver.com/main/read.nhn?mode=LSD&mid=shm&sid1=100&oid=032&aid=0003077969'), (datetime.datetime(2021, 6, 3, 15, 11, 21, 401832), '이용구 \"택시기사, 억울하게 증거인멸죄로 입건돼 죄송\"', 'https://news.naver.com/main/read.nhn?mode=LSD&mid=shm&sid1=102&oid=055&aid=0000898333'), (datetime.datetime(2021, 6, 3, 15, 11, 21, 401832), '문 대통령 “경제 성과에도 국민 고통에 마음 아파”', 'https://news.naver.com/main/read.nhn?mode=LSD&mid=shm&sid1=100&oid=015&aid=0004556729'), (datetime.datetime(2021, 6, 3, 15, 11, 21, 401832), '화이자 백신 접종하는 어르신들', 'https://news.naver.com/main/read.nhn?mode=LSD&mid=shm&sid1=102&oid=421&aid=0005391556')]\n",
      "200\n",
      "[(datetime.datetime(2021, 6, 3, 15, 11, 21, 614570), '文대통령, 공군 성폭력피해사건 “최고 상급자 등 지휘라인 문제 살펴야”', 'https://news.naver.com/main/read.nhn?mode=LSD&mid=shm&sid1=100&oid=016&aid=0001843860'), (datetime.datetime(2021, 6, 3, 15, 11, 21, 614570), '오늘 또 비 소식…더위 주춤[굿모닝 날씨]', 'https://news.naver.com/main/read.nhn?mode=LSD&mid=shm&sid1=103&oid=056&aid=0011056458'), (datetime.datetime(2021, 6, 3, 15, 11, 21, 614570), 'SK㈜, 美 수소기업 모놀리스에 투자…청록수소 사업 진출', 'https://news.naver.com/main/read.nhn?mode=LSD&mid=shm&sid1=101&oid=025&aid=0003106829'), (datetime.datetime(2021, 6, 3, 15, 11, 21, 614570), '금융당국 \"공매도 재개 따른 시장불안심리?이상징후 없어\"', 'https://news.naver.com/main/read.nhn?mode=LSD&mid=shm&sid1=101&oid=014&aid=0004650671'), (datetime.datetime(2021, 6, 3, 15, 11, 21, 615570), '국내 증권사 당기순이익 113.2% 증가...증시 활황 영향', 'https://news.naver.com/main/read.nhn?mode=LSD&mid=shm&sid1=101&oid=366&aid=0000727402')]\n",
      "200\n",
      "[(datetime.datetime(2021, 6, 3, 15, 11, 21, 754383), '文대통령, 공군 성폭력피해사건 “최고 상급자 등 지휘라인 문제 살펴야”', 'https://news.naver.com/main/read.nhn?mode=LSD&mid=shm&sid1=100&oid=016&aid=0001843860'), (datetime.datetime(2021, 6, 3, 15, 11, 21, 755383), '오늘 또 비 소식…더위 주춤[굿모닝 날씨]', 'https://news.naver.com/main/read.nhn?mode=LSD&mid=shm&sid1=103&oid=056&aid=0011056458'), (datetime.datetime(2021, 6, 3, 15, 11, 21, 755383), 'SK㈜, 美 수소기업 모놀리스에 투자…청록수소 사업 진출', 'https://news.naver.com/main/read.nhn?mode=LSD&mid=shm&sid1=101&oid=025&aid=0003106829'), (datetime.datetime(2021, 6, 3, 15, 11, 21, 755383), '금융당국 \"공매도 재개 따른 시장불안심리?이상징후 없어\"', 'https://news.naver.com/main/read.nhn?mode=LSD&mid=shm&sid1=101&oid=014&aid=0004650671'), (datetime.datetime(2021, 6, 3, 15, 11, 21, 755383), '국내 증권사 당기순이익 113.2% 증가...증시 활황 영향', 'https://news.naver.com/main/read.nhn?mode=LSD&mid=shm&sid1=101&oid=366&aid=0000727402')]\n",
      "200\n",
      "[(datetime.datetime(2021, 6, 3, 15, 11, 21, 890818), '文대통령, 공군 성폭력피해사건 “최고 상급자 등 지휘라인 문제 살펴야”', 'https://news.naver.com/main/read.nhn?mode=LSD&mid=shm&sid1=100&oid=016&aid=0001843860'), (datetime.datetime(2021, 6, 3, 15, 11, 21, 890818), '오늘 또 비 소식…더위 주춤[굿모닝 날씨]', 'https://news.naver.com/main/read.nhn?mode=LSD&mid=shm&sid1=103&oid=056&aid=0011056458'), (datetime.datetime(2021, 6, 3, 15, 11, 21, 891819), 'SK㈜, 美 수소기업 모놀리스에 투자…청록수소 사업 진출', 'https://news.naver.com/main/read.nhn?mode=LSD&mid=shm&sid1=101&oid=025&aid=0003106829'), (datetime.datetime(2021, 6, 3, 15, 11, 21, 891819), '금융당국 \"공매도 재개 따른 시장불안심리?이상징후 없어\"', 'https://news.naver.com/main/read.nhn?mode=LSD&mid=shm&sid1=101&oid=014&aid=0004650671'), (datetime.datetime(2021, 6, 3, 15, 11, 21, 891819), '국내 증권사 당기순이익 113.2% 증가...증시 활황 영향', 'https://news.naver.com/main/read.nhn?mode=LSD&mid=shm&sid1=101&oid=366&aid=0000727402')]\n",
      "200\n",
      "[(datetime.datetime(2021, 6, 3, 15, 11, 27, 72035), '이용구 \"공수처장 후보 거론돼 합의금 1천만 원 줬다\"', 'https://news.naver.com/main/read.nhn?mode=LSD&mid=shm&sid1=102&oid=079&aid=0003511408'), (datetime.datetime(2021, 6, 3, 15, 11, 27, 72035), '평창 땐 독도 빼라던 IOC, 日 \"독도는 일본 땅\" 억지에도 \\'침묵\\'', 'https://news.naver.com/main/read.nhn?mode=LSD&mid=shm&sid1=104&oid=277&aid=0004914029'), (datetime.datetime(2021, 6, 3, 15, 11, 27, 72035), '군 검경·국방부, 합동 수사…첫 수사심의위', 'https://news.naver.com/main/read.nhn?mode=LSD&mid=shm&sid1=100&oid=214&aid=0001122857'), (datetime.datetime(2021, 6, 3, 15, 11, 27, 72035), \"오늘 전국 '최대 40mm' 비…한낮에도 서늘[날씨]\", 'https://news.naver.com/main/read.nhn?mode=LSD&mid=shm&sid1=103&oid=055&aid=0000898383'), (datetime.datetime(2021, 6, 3, 15, 11, 27, 73036), '“상반기 1300만명+α 백신 1차 접종’ 목표 충분히 달성 가능”', 'https://news.naver.com/main/read.nhn?mode=LSD&mid=shm&sid1=102&oid=032&aid=0003077970')]\n",
      "200\n",
      "[(datetime.datetime(2021, 6, 3, 15, 11, 27, 213124), '이용구 \"공수처장 후보 거론돼 합의금 1천만 원 줬다\"', 'https://news.naver.com/main/read.nhn?mode=LSD&mid=shm&sid1=102&oid=079&aid=0003511408'), (datetime.datetime(2021, 6, 3, 15, 11, 27, 213124), '평창 땐 독도 빼라던 IOC, 日 \"독도는 일본 땅\" 억지에도 \\'침묵\\'', 'https://news.naver.com/main/read.nhn?mode=LSD&mid=shm&sid1=104&oid=277&aid=0004914029'), (datetime.datetime(2021, 6, 3, 15, 11, 27, 213124), '군 검경·국방부, 합동 수사…첫 수사심의위', 'https://news.naver.com/main/read.nhn?mode=LSD&mid=shm&sid1=100&oid=214&aid=0001122857'), (datetime.datetime(2021, 6, 3, 15, 11, 27, 213124), \"오늘 전국 '최대 40mm' 비…한낮에도 서늘[날씨]\", 'https://news.naver.com/main/read.nhn?mode=LSD&mid=shm&sid1=103&oid=055&aid=0000898383'), (datetime.datetime(2021, 6, 3, 15, 11, 27, 213124), '“상반기 1300만명+α 백신 1차 접종’ 목표 충분히 달성 가능”', 'https://news.naver.com/main/read.nhn?mode=LSD&mid=shm&sid1=102&oid=032&aid=0003077970')]\n",
      "200\n",
      "[(datetime.datetime(2021, 6, 3, 15, 11, 32, 465192), '경남도 기업 3곳 ‘수소전문기업’에 지정돼', 'https://news.naver.com/main/read.nhn?mode=LSD&mid=shm&sid1=102&oid=277&aid=0004913860'), (datetime.datetime(2021, 6, 3, 15, 11, 32, 465192), '금융위, \"공매도 원활히 안착\"…무차입 의심거래 720건 감리(종합)', 'https://news.naver.com/main/read.nhn?mode=LSD&mid=shm&sid1=101&oid=277&aid=0004914092'), (datetime.datetime(2021, 6, 3, 15, 11, 32, 466192), '정부 \"대구시 주선 화이자 백신 진위 의심…구매 안한다\"', 'https://news.naver.com/main/read.nhn?mode=LSD&mid=shm&sid1=102&oid=001&aid=0012435457'), (datetime.datetime(2021, 6, 3, 15, 11, 32, 466192), '윤석열 측 \"일부 정치인 언행 도 넘었다…대응할 것\"', 'https://news.naver.com/main/read.nhn?mode=LSD&mid=shm&sid1=100&oid=437&aid=0000267939'), (datetime.datetime(2021, 6, 3, 15, 11, 32, 466192), '6월 모평, 수학도 공통과목이 어려웠다… 문과 불리할 듯', 'https://news.naver.com/main/read.nhn?mode=LSD&mid=shm&sid1=102&oid=008&aid=0004596698')]\n",
      "200\n",
      "[(datetime.datetime(2021, 6, 3, 15, 11, 32, 600600), '尹 측, 송영길에 \"도 넘은 언행…사법제도에 대한 예의 아냐\"', 'https://news.naver.com/main/read.nhn?mode=LSD&mid=shm&sid1=100&oid=055&aid=0000898352'), (datetime.datetime(2021, 6, 3, 15, 11, 32, 600600), '[속보] 文 대통령, 공군 부사관 성폭력 \\'엄정 처리\\' 지시…\"가슴이 아프다\"', 'https://news.naver.com/main/read.nhn?mode=LSD&mid=shm&sid1=100&oid=277&aid=0004913957'), (datetime.datetime(2021, 6, 3, 15, 11, 32, 600600), '백혜련 등 민주당 의원 132명, 日도쿄올림픽조직위 독도 표기 규탄 결의안 제출', 'https://news.naver.com/main/read.nhn?mode=LSD&mid=shm&sid1=100&oid=032&aid=0003077917'), (datetime.datetime(2021, 6, 3, 15, 11, 32, 600600), 'SK㈜, \\'청록수소\\' 생산 회사에 투자…\"수소사업 확장 가속\"', 'https://news.naver.com/main/read.nhn?mode=LSD&mid=shm&sid1=101&oid=421&aid=0005390870'), (datetime.datetime(2021, 6, 3, 15, 11, 32, 600600), '증권회사 1분기 영업실적 3조 원 육박…사상 최고', 'https://news.naver.com/main/read.nhn?mode=LSD&mid=shm&sid1=101&oid=056&aid=0011056573')]\n",
      "200\n",
      "[(datetime.datetime(2021, 6, 3, 15, 11, 32, 735910), '尹 측, 송영길에 \"도 넘은 언행…사법제도에 대한 예의 아냐\"', 'https://news.naver.com/main/read.nhn?mode=LSD&mid=shm&sid1=100&oid=055&aid=0000898352'), (datetime.datetime(2021, 6, 3, 15, 11, 32, 736910), '[속보] 文 대통령, 공군 부사관 성폭력 \\'엄정 처리\\' 지시…\"가슴이 아프다\"', 'https://news.naver.com/main/read.nhn?mode=LSD&mid=shm&sid1=100&oid=277&aid=0004913957'), (datetime.datetime(2021, 6, 3, 15, 11, 32, 736910), '백혜련 등 민주당 의원 132명, 日도쿄올림픽조직위 독도 표기 규탄 결의안 제출', 'https://news.naver.com/main/read.nhn?mode=LSD&mid=shm&sid1=100&oid=032&aid=0003077917'), (datetime.datetime(2021, 6, 3, 15, 11, 32, 736910), 'SK㈜, \\'청록수소\\' 생산 회사에 투자…\"수소사업 확장 가속\"', 'https://news.naver.com/main/read.nhn?mode=LSD&mid=shm&sid1=101&oid=421&aid=0005390870'), (datetime.datetime(2021, 6, 3, 15, 11, 32, 736910), '증권회사 1분기 영업실적 3조 원 육박…사상 최고', 'https://news.naver.com/main/read.nhn?mode=LSD&mid=shm&sid1=101&oid=056&aid=0011056573')]\n",
      "200\n",
      "[(datetime.datetime(2021, 6, 3, 15, 11, 32, 881803), '尹 측, 송영길에 \"도 넘은 언행…사법제도에 대한 예의 아냐\"', 'https://news.naver.com/main/read.nhn?mode=LSD&mid=shm&sid1=100&oid=055&aid=0000898352'), (datetime.datetime(2021, 6, 3, 15, 11, 32, 881803), '[속보] 文 대통령, 공군 부사관 성폭력 \\'엄정 처리\\' 지시…\"가슴이 아프다\"', 'https://news.naver.com/main/read.nhn?mode=LSD&mid=shm&sid1=100&oid=277&aid=0004913957'), (datetime.datetime(2021, 6, 3, 15, 11, 32, 881803), '백혜련 등 민주당 의원 132명, 日도쿄올림픽조직위 독도 표기 규탄 결의안 제출', 'https://news.naver.com/main/read.nhn?mode=LSD&mid=shm&sid1=100&oid=032&aid=0003077917'), (datetime.datetime(2021, 6, 3, 15, 11, 32, 881803), 'SK㈜, \\'청록수소\\' 생산 회사에 투자…\"수소사업 확장 가속\"', 'https://news.naver.com/main/read.nhn?mode=LSD&mid=shm&sid1=101&oid=421&aid=0005390870'), (datetime.datetime(2021, 6, 3, 15, 11, 32, 882813), '증권회사 1분기 영업실적 3조 원 육박…사상 최고', 'https://news.naver.com/main/read.nhn?mode=LSD&mid=shm&sid1=101&oid=056&aid=0011056573')]\n"
     ]
    },
    {
     "name": "stdout",
     "output_type": "stream",
     "text": [
      "200\n",
      "[(datetime.datetime(2021, 6, 3, 15, 11, 38, 86004), \"6월 모평 국어 작년 수능과 난이도 비슷…'언어와매체' 더 어려워\", 'https://news.naver.com/main/read.nhn?mode=LSD&mid=shm&sid1=102&oid=277&aid=0004913993'), (datetime.datetime(2021, 6, 3, 15, 11, 38, 87003), '\"거래금액 6,000억 넘는 M&A...공정위 신고해야\"', 'https://news.naver.com/main/read.nhn?mode=LSD&mid=shm&sid1=101&oid=011&aid=0003918589'), (datetime.datetime(2021, 6, 3, 15, 11, 38, 87003), '文대통령, 공군 성폭력피해사건 “최고 상급자 등 지휘라인 문제 살펴야”', 'https://news.naver.com/main/read.nhn?mode=LSD&mid=shm&sid1=100&oid=016&aid=0001843860'), (datetime.datetime(2021, 6, 3, 15, 11, 38, 87003), '女중사 유족 “다른 상관 성추행 피해 최소 2차례 더 있었다” 고소장 제출', 'https://news.naver.com/main/read.nhn?mode=LSD&mid=shm&sid1=102&oid=366&aid=0000727474'), (datetime.datetime(2021, 6, 3, 15, 11, 38, 87003), '증권회사 1분기 영업실적 3조 원 육박…사상 최고', 'https://news.naver.com/main/read.nhn?mode=LSD&mid=shm&sid1=101&oid=056&aid=0011056573')]\n",
      "200\n",
      "[(datetime.datetime(2021, 6, 3, 15, 11, 38, 262600), \"6월 모평 국어 작년 수능과 난이도 비슷…'언어와매체' 더 어려워\", 'https://news.naver.com/main/read.nhn?mode=LSD&mid=shm&sid1=102&oid=277&aid=0004913993'), (datetime.datetime(2021, 6, 3, 15, 11, 38, 262600), '\"거래금액 6,000억 넘는 M&A...공정위 신고해야\"', 'https://news.naver.com/main/read.nhn?mode=LSD&mid=shm&sid1=101&oid=011&aid=0003918589'), (datetime.datetime(2021, 6, 3, 15, 11, 38, 262600), '文대통령, 공군 성폭력피해사건 “최고 상급자 등 지휘라인 문제 살펴야”', 'https://news.naver.com/main/read.nhn?mode=LSD&mid=shm&sid1=100&oid=016&aid=0001843860'), (datetime.datetime(2021, 6, 3, 15, 11, 38, 262600), '女중사 유족 “다른 상관 성추행 피해 최소 2차례 더 있었다” 고소장 제출', 'https://news.naver.com/main/read.nhn?mode=LSD&mid=shm&sid1=102&oid=366&aid=0000727474'), (datetime.datetime(2021, 6, 3, 15, 11, 38, 262600), '증권회사 1분기 영업실적 3조 원 육박…사상 최고', 'https://news.naver.com/main/read.nhn?mode=LSD&mid=shm&sid1=101&oid=056&aid=0011056573')]\n",
      "200\n",
      "[(datetime.datetime(2021, 6, 3, 15, 11, 43, 441166), \"군, '공군 성추행' 사상 최초 수사심의위 설치…유족 오늘 추가 고소\", 'https://news.naver.com/main/read.nhn?mode=LSD&mid=shm&sid1=100&oid=214&aid=0001122811'), (datetime.datetime(2021, 6, 3, 15, 11, 43, 441166), '공정위, 개정 공정거래법 시행 위한 시행령 발표', 'https://news.naver.com/main/read.nhn?mode=LSD&mid=shm&sid1=101&oid=214&aid=0001122843'), (datetime.datetime(2021, 6, 3, 15, 11, 43, 442156), '중수본 \"대구시 화이자 백신 진위 의심돼, 화이자 법적조치 예정\"', 'https://news.naver.com/main/read.nhn?mode=LSD&mid=shm&sid1=102&oid=421&aid=0005391147'), (datetime.datetime(2021, 6, 3, 15, 11, 43, 442156), '‘프로포폴 투약’ 하정우, 벌금형 처분…“안일한 판단 반성”', 'https://news.naver.com/main/read.nhn?mode=LSD&mid=shm&sid1=102&oid=119&aid=0002498675'), (datetime.datetime(2021, 6, 3, 15, 11, 43, 442156), '文대통령, 공군 성폭력피해사건 “최고 상급자 등 지휘라인 문제 살펴야”', 'https://news.naver.com/main/read.nhn?mode=LSD&mid=shm&sid1=100&oid=016&aid=0001843860')]\n",
      "200\n",
      "[(datetime.datetime(2021, 6, 3, 15, 11, 43, 581845), '女부사관 성폭력 사건 일파만파에 文 \"엄정 처리\" 지시', 'https://news.naver.com/main/read.nhn?mode=LSD&mid=shm&sid1=100&oid=009&aid=0004803578'), (datetime.datetime(2021, 6, 3, 15, 11, 43, 581845), '코로나19 대응 중앙방역대책본부 브리핑', 'https://news.naver.com/main/read.nhn?mode=LSD&mid=shm&sid1=102&oid=214&aid=0001122865'), (datetime.datetime(2021, 6, 3, 15, 11, 43, 581845), \"국회의원 132명, 도쿄올림픽 '독도 표기' 규탄\", 'https://news.naver.com/main/read.nhn?mode=LSD&mid=shm&sid1=100&oid=214&aid=0001122836'), (datetime.datetime(2021, 6, 3, 15, 11, 43, 581845), '‘보복운전’ 범LG가 3세 구본성 부회장 1심서 집행유예', 'https://news.naver.com/main/read.nhn?mode=LSD&mid=shm&sid1=102&oid=056&aid=0011056645'), (datetime.datetime(2021, 6, 3, 15, 11, 43, 581845), '이용구 “합의금 줬지만, 영상 삭제 대가 아니야”', 'https://news.naver.com/main/read.nhn?mode=LSD&mid=shm&sid1=102&oid=056&aid=0011056441')]\n",
      "200\n",
      "[(datetime.datetime(2021, 6, 3, 15, 11, 43, 800496), '女부사관 성폭력 사건 일파만파에 文 \"엄정 처리\" 지시', 'https://news.naver.com/main/read.nhn?mode=LSD&mid=shm&sid1=100&oid=009&aid=0004803578'), (datetime.datetime(2021, 6, 3, 15, 11, 43, 800496), '코로나19 대응 중앙방역대책본부 브리핑', 'https://news.naver.com/main/read.nhn?mode=LSD&mid=shm&sid1=102&oid=214&aid=0001122865'), (datetime.datetime(2021, 6, 3, 15, 11, 43, 801496), \"국회의원 132명, 도쿄올림픽 '독도 표기' 규탄\", 'https://news.naver.com/main/read.nhn?mode=LSD&mid=shm&sid1=100&oid=214&aid=0001122836'), (datetime.datetime(2021, 6, 3, 15, 11, 43, 801496), '‘보복운전’ 범LG가 3세 구본성 부회장 1심서 집행유예', 'https://news.naver.com/main/read.nhn?mode=LSD&mid=shm&sid1=102&oid=056&aid=0011056645'), (datetime.datetime(2021, 6, 3, 15, 11, 43, 801496), '이용구 “합의금 줬지만, 영상 삭제 대가 아니야”', 'https://news.naver.com/main/read.nhn?mode=LSD&mid=shm&sid1=102&oid=056&aid=0011056441')]\n",
      "200\n",
      "[(datetime.datetime(2021, 6, 3, 15, 11, 43, 946885), '女부사관 성폭력 사건 일파만파에 文 \"엄정 처리\" 지시', 'https://news.naver.com/main/read.nhn?mode=LSD&mid=shm&sid1=100&oid=009&aid=0004803578'), (datetime.datetime(2021, 6, 3, 15, 11, 43, 946885), '코로나19 대응 중앙방역대책본부 브리핑', 'https://news.naver.com/main/read.nhn?mode=LSD&mid=shm&sid1=102&oid=214&aid=0001122865'), (datetime.datetime(2021, 6, 3, 15, 11, 43, 947887), \"국회의원 132명, 도쿄올림픽 '독도 표기' 규탄\", 'https://news.naver.com/main/read.nhn?mode=LSD&mid=shm&sid1=100&oid=214&aid=0001122836'), (datetime.datetime(2021, 6, 3, 15, 11, 43, 947887), '‘보복운전’ 범LG가 3세 구본성 부회장 1심서 집행유예', 'https://news.naver.com/main/read.nhn?mode=LSD&mid=shm&sid1=102&oid=056&aid=0011056645'), (datetime.datetime(2021, 6, 3, 15, 11, 43, 947887), '이용구 “합의금 줬지만, 영상 삭제 대가 아니야”', 'https://news.naver.com/main/read.nhn?mode=LSD&mid=shm&sid1=102&oid=056&aid=0011056441')]\n",
      "200\n",
      "[(datetime.datetime(2021, 6, 3, 15, 11, 49, 132780), '증시활황 영향…증권사 올해 1분기 순이익 3조원 육박', 'https://news.naver.com/main/read.nhn?mode=LSD&mid=shm&sid1=101&oid=018&aid=0004946438'), (datetime.datetime(2021, 6, 3, 15, 11, 49, 133780), '\"공군 부사관 성폭력 사건 엄정 처리\" 문 대통령 지시', 'https://news.naver.com/main/read.nhn?mode=LSD&mid=shm&sid1=100&oid=055&aid=0000898375'), (datetime.datetime(2021, 6, 3, 15, 11, 49, 133780), '日 도쿄올림픽 홈피에 \\'독도 표기\\'... 백혜련 \"영유권 침해, 삭제하라\"', 'https://news.naver.com/main/read.nhn?mode=LSD&mid=shm&sid1=100&oid=469&aid=0000608498'), (datetime.datetime(2021, 6, 3, 15, 11, 49, 133780), \"'수소사업 속도' SK, 세계 첫 청록수소 생산기업에 투자\", 'https://news.naver.com/main/read.nhn?mode=LSD&mid=shm&sid1=101&oid=015&aid=0004556725'), (datetime.datetime(2021, 6, 3, 15, 11, 49, 133780), '입시업계 \"6월 모의평가 국어 \\'독서\\' 어려워…\\'킬러\\'는 PCR 17번\"', 'https://news.naver.com/main/read.nhn?mode=LSD&mid=shm&sid1=102&oid=003&aid=0010531674')]\n",
      "200\n",
      "[(datetime.datetime(2021, 6, 3, 15, 11, 49, 273310), '증시활황 영향…증권사 올해 1분기 순이익 3조원 육박', 'https://news.naver.com/main/read.nhn?mode=LSD&mid=shm&sid1=101&oid=018&aid=0004946438'), (datetime.datetime(2021, 6, 3, 15, 11, 49, 273310), '\"공군 부사관 성폭력 사건 엄정 처리\" 문 대통령 지시', 'https://news.naver.com/main/read.nhn?mode=LSD&mid=shm&sid1=100&oid=055&aid=0000898375'), (datetime.datetime(2021, 6, 3, 15, 11, 49, 273310), '日 도쿄올림픽 홈피에 \\'독도 표기\\'... 백혜련 \"영유권 침해, 삭제하라\"', 'https://news.naver.com/main/read.nhn?mode=LSD&mid=shm&sid1=100&oid=469&aid=0000608498'), (datetime.datetime(2021, 6, 3, 15, 11, 49, 273310), \"'수소사업 속도' SK, 세계 첫 청록수소 생산기업에 투자\", 'https://news.naver.com/main/read.nhn?mode=LSD&mid=shm&sid1=101&oid=015&aid=0004556725'), (datetime.datetime(2021, 6, 3, 15, 11, 49, 274309), '입시업계 \"6월 모의평가 국어 \\'독서\\' 어려워…\\'킬러\\'는 PCR 17번\"', 'https://news.naver.com/main/read.nhn?mode=LSD&mid=shm&sid1=102&oid=003&aid=0010531674')]\n",
      "200\n",
      "[(datetime.datetime(2021, 6, 3, 15, 11, 54, 488190), \"'보복운전 혐의' 구본성 아워홈 부회장 1심서 집행유예\", 'https://news.naver.com/main/read.nhn?mode=LSD&mid=shm&sid1=102&oid=014&aid=0004650728'), (datetime.datetime(2021, 6, 3, 15, 11, 54, 488190), 'SK(주), 세계 첫 ‘청록수소’ 생산 회사 투자', 'https://news.naver.com/main/read.nhn?mode=LSD&mid=shm&sid1=101&oid=028&aid=0002547027'), (datetime.datetime(2021, 6, 3, 15, 11, 54, 488190), '공군 부사관 유족측, 3명 추가 고소…“성추행 피해 더있다”', 'https://news.naver.com/main/read.nhn?mode=LSD&mid=shm&sid1=100&oid=032&aid=0003077969'), (datetime.datetime(2021, 6, 3, 15, 11, 54, 488190), '택시기사 \"이용구, 차량 멈춘 뒤 폭행한 걸로 해달라 요청\"', 'https://news.naver.com/main/read.nhn?mode=LSD&mid=shm&sid1=102&oid=052&aid=0001596307'), (datetime.datetime(2021, 6, 3, 15, 11, 54, 489190), '하정우, \\'프로포폴 불법 투약\\' 벌금형… \"안일한 판단 반성\"', 'https://news.naver.com/main/read.nhn?mode=LSD&mid=shm&sid1=102&oid=082&aid=0001095849')]\n",
      "200\n",
      "[(datetime.datetime(2021, 6, 3, 15, 11, 54, 660436), '‘좀비기업’ 34.5%, 2013년 이후 최대', 'https://news.naver.com/main/read.nhn?mode=LSD&mid=shm&sid1=101&oid=032&aid=0003077980'), (datetime.datetime(2021, 6, 3, 15, 11, 54, 660436), '대구시 구매주선 백신에 화이자 측 \"진위여부 의심\"…정부, 도입 않기로', 'https://news.naver.com/main/read.nhn?mode=LSD&mid=shm&sid1=102&oid=018&aid=0004946426'), (datetime.datetime(2021, 6, 3, 15, 11, 54, 660436), '일본 도쿄올림픽조직위원회의 규탄 기자회견', 'https://news.naver.com/main/read.nhn?mode=LSD&mid=shm&sid1=100&oid=015&aid=0004556534'), (datetime.datetime(2021, 6, 3, 15, 11, 54, 660436), '공군 부사관 유족 측 “피해 사례 더 있어”…부사관 3명 추가 고소', 'https://news.naver.com/main/read.nhn?mode=LSD&mid=shm&sid1=100&oid=081&aid=0003191325'), (datetime.datetime(2021, 6, 3, 15, 11, 54, 660436), '文대통령 \"절망스러웠을 피해자 생각하면 가슴 아프다\"', 'https://news.naver.com/main/read.nhn?mode=LSD&mid=shm&sid1=100&oid=079&aid=0003511504')]\n",
      "200\n",
      "[(datetime.datetime(2021, 6, 3, 15, 11, 54, 798435), '‘좀비기업’ 34.5%, 2013년 이후 최대', 'https://news.naver.com/main/read.nhn?mode=LSD&mid=shm&sid1=101&oid=032&aid=0003077980'), (datetime.datetime(2021, 6, 3, 15, 11, 54, 799434), '대구시 구매주선 백신에 화이자 측 \"진위여부 의심\"…정부, 도입 않기로', 'https://news.naver.com/main/read.nhn?mode=LSD&mid=shm&sid1=102&oid=018&aid=0004946426'), (datetime.datetime(2021, 6, 3, 15, 11, 54, 799434), '일본 도쿄올림픽조직위원회의 규탄 기자회견', 'https://news.naver.com/main/read.nhn?mode=LSD&mid=shm&sid1=100&oid=015&aid=0004556534'), (datetime.datetime(2021, 6, 3, 15, 11, 54, 799434), '공군 부사관 유족 측 “피해 사례 더 있어”…부사관 3명 추가 고소', 'https://news.naver.com/main/read.nhn?mode=LSD&mid=shm&sid1=100&oid=081&aid=0003191325'), (datetime.datetime(2021, 6, 3, 15, 11, 54, 799434), '文대통령 \"절망스러웠을 피해자 생각하면 가슴 아프다\"', 'https://news.naver.com/main/read.nhn?mode=LSD&mid=shm&sid1=100&oid=079&aid=0003511504')]\n"
     ]
    },
    {
     "name": "stdout",
     "output_type": "stream",
     "text": [
      "200\n",
      "[(datetime.datetime(2021, 6, 3, 15, 11, 54, 931590), '‘좀비기업’ 34.5%, 2013년 이후 최대', 'https://news.naver.com/main/read.nhn?mode=LSD&mid=shm&sid1=101&oid=032&aid=0003077980'), (datetime.datetime(2021, 6, 3, 15, 11, 54, 932588), '대구시 구매주선 백신에 화이자 측 \"진위여부 의심\"…정부, 도입 않기로', 'https://news.naver.com/main/read.nhn?mode=LSD&mid=shm&sid1=102&oid=018&aid=0004946426'), (datetime.datetime(2021, 6, 3, 15, 11, 54, 932588), '일본 도쿄올림픽조직위원회의 규탄 기자회견', 'https://news.naver.com/main/read.nhn?mode=LSD&mid=shm&sid1=100&oid=015&aid=0004556534'), (datetime.datetime(2021, 6, 3, 15, 11, 54, 932588), '공군 부사관 유족 측 “피해 사례 더 있어”…부사관 3명 추가 고소', 'https://news.naver.com/main/read.nhn?mode=LSD&mid=shm&sid1=100&oid=081&aid=0003191325'), (datetime.datetime(2021, 6, 3, 15, 11, 54, 932588), '文대통령 \"절망스러웠을 피해자 생각하면 가슴 아프다\"', 'https://news.naver.com/main/read.nhn?mode=LSD&mid=shm&sid1=100&oid=079&aid=0003511504')]\n",
      "200\n",
      "[(datetime.datetime(2021, 6, 3, 15, 12, 0, 209000), '전국 차츰 비…더위 누그러져[날씨]', 'https://news.naver.com/main/read.nhn?mode=LSD&mid=shm&sid1=103&oid=214&aid=0001122791'), (datetime.datetime(2021, 6, 3, 15, 12, 0, 209000), \"군 검경·국방부, '공군 성추행' 합동수사…사상 첫 수사심의위(종합)\", 'https://news.naver.com/main/read.nhn?mode=LSD&mid=shm&sid1=100&oid=001&aid=0012434946'), (datetime.datetime(2021, 6, 3, 15, 12, 0, 210000), '‘이XX놈’ 이용구 영상 반년간 뭉갠 檢…“靑·이성윤도 뭉갰다”', 'https://news.naver.com/main/read.nhn?mode=LSD&mid=shm&sid1=102&oid=025&aid=0003106835'), (datetime.datetime(2021, 6, 3, 15, 12, 0, 210000), '대구시 화이자백신 사기당할 뻔? 정부 \"정품 아니다. 국제수사 협력\"', 'https://news.naver.com/main/read.nhn?mode=LSD&mid=shm&sid1=102&oid=469&aid=0000608522'), (datetime.datetime(2021, 6, 3, 15, 12, 0, 210000), '백혜련 등 민주당 의원 132명, 도쿄올림픽 독도 日영토 표기 규탄', 'https://news.naver.com/main/read.nhn?mode=LSD&mid=shm&sid1=100&oid=119&aid=0002498649')]\n",
      "200\n",
      "[(datetime.datetime(2021, 6, 3, 15, 12, 0, 348089), '전국 차츰 비…더위 누그러져[날씨]', 'https://news.naver.com/main/read.nhn?mode=LSD&mid=shm&sid1=103&oid=214&aid=0001122791'), (datetime.datetime(2021, 6, 3, 15, 12, 0, 348089), \"군 검경·국방부, '공군 성추행' 합동수사…사상 첫 수사심의위(종합)\", 'https://news.naver.com/main/read.nhn?mode=LSD&mid=shm&sid1=100&oid=001&aid=0012434946'), (datetime.datetime(2021, 6, 3, 15, 12, 0, 348089), '‘이XX놈’ 이용구 영상 반년간 뭉갠 檢…“靑·이성윤도 뭉갰다”', 'https://news.naver.com/main/read.nhn?mode=LSD&mid=shm&sid1=102&oid=025&aid=0003106835'), (datetime.datetime(2021, 6, 3, 15, 12, 0, 348089), '대구시 화이자백신 사기당할 뻔? 정부 \"정품 아니다. 국제수사 협력\"', 'https://news.naver.com/main/read.nhn?mode=LSD&mid=shm&sid1=102&oid=469&aid=0000608522'), (datetime.datetime(2021, 6, 3, 15, 12, 0, 348089), '백혜련 등 민주당 의원 132명, 도쿄올림픽 독도 日영토 표기 규탄', 'https://news.naver.com/main/read.nhn?mode=LSD&mid=shm&sid1=100&oid=119&aid=0002498649')]\n",
      "200\n",
      "[(datetime.datetime(2021, 6, 3, 15, 12, 5, 521993), '광주·전남 밤까지 곳곳 비…최대 40㎜[날씨]', 'https://news.naver.com/main/read.nhn?mode=LSD&mid=shm&sid1=103&oid=056&aid=0011056391'), (datetime.datetime(2021, 6, 3, 15, 12, 5, 521993), 'AZ 백신 고령층 예약률 80% 넘길까 ... 3일 밤 12시 예약 마감', 'https://news.naver.com/main/read.nhn?mode=LSD&mid=shm&sid1=102&oid=469&aid=0000608558'), (datetime.datetime(2021, 6, 3, 15, 12, 5, 521993), \"'부사관 성추행' 수사 팔 걷었다…軍 최초 '수사심의위' 설치\", 'https://news.naver.com/main/read.nhn?mode=LSD&mid=shm&sid1=102&oid=025&aid=0003106766'), (datetime.datetime(2021, 6, 3, 15, 12, 5, 521993), '대구시 구매주선 백신에 화이자 측 \"진위여부 의심\"…정부, 도입 않기로', 'https://news.naver.com/main/read.nhn?mode=LSD&mid=shm&sid1=102&oid=018&aid=0004946426'), (datetime.datetime(2021, 6, 3, 15, 12, 5, 521993), \"범여권 132명 ‘日 독도영토 표기' 규탄… 일각선 “올림픽 보이콧”\", 'https://news.naver.com/main/read.nhn?mode=LSD&mid=shm&sid1=100&oid=023&aid=0003617957')]\n",
      "200\n",
      "[(datetime.datetime(2021, 6, 3, 15, 12, 5, 651279), '전국 차츰 비…더위 누그러져[날씨]', 'https://news.naver.com/main/read.nhn?mode=LSD&mid=shm&sid1=103&oid=214&aid=0001122791'), (datetime.datetime(2021, 6, 3, 15, 12, 5, 651279), '정부 “대구시 주선 화이자, 도입 않기로”…화이자 “고발 검토”', 'https://news.naver.com/main/read.nhn?mode=LSD&mid=shm&sid1=102&oid=449&aid=0000209722'), (datetime.datetime(2021, 6, 3, 15, 12, 5, 651279), '대법, ‘네이버 통유리 사옥’ 빛 반사 배상책임 인정…파기환송', 'https://news.naver.com/main/read.nhn?mode=LSD&mid=shm&sid1=102&oid=056&aid=0011056567'), (datetime.datetime(2021, 6, 3, 15, 12, 5, 651279), '女중사 유족 \"성추행 피해 최소 2차례 더 있다\"…고소장 제출(종합)', 'https://news.naver.com/main/read.nhn?mode=LSD&mid=shm&sid1=100&oid=001&aid=0012435542'), (datetime.datetime(2021, 6, 3, 15, 12, 5, 652256), '윤석열측 \"與 일방적인 비방, 도를 넘어…이제 대응 나서겠다\"', 'https://news.naver.com/main/read.nhn?mode=LSD&mid=shm&sid1=100&oid=119&aid=0002498698')]\n",
      "200\n",
      "[(datetime.datetime(2021, 6, 3, 15, 12, 5, 816916), '전국 차츰 비…더위 누그러져[날씨]', 'https://news.naver.com/main/read.nhn?mode=LSD&mid=shm&sid1=103&oid=214&aid=0001122791'), (datetime.datetime(2021, 6, 3, 15, 12, 5, 816916), '정부 “대구시 주선 화이자, 도입 않기로”…화이자 “고발 검토”', 'https://news.naver.com/main/read.nhn?mode=LSD&mid=shm&sid1=102&oid=449&aid=0000209722'), (datetime.datetime(2021, 6, 3, 15, 12, 5, 816916), '대법, ‘네이버 통유리 사옥’ 빛 반사 배상책임 인정…파기환송', 'https://news.naver.com/main/read.nhn?mode=LSD&mid=shm&sid1=102&oid=056&aid=0011056567'), (datetime.datetime(2021, 6, 3, 15, 12, 5, 816916), '女중사 유족 \"성추행 피해 최소 2차례 더 있다\"…고소장 제출(종합)', 'https://news.naver.com/main/read.nhn?mode=LSD&mid=shm&sid1=100&oid=001&aid=0012435542'), (datetime.datetime(2021, 6, 3, 15, 12, 5, 816916), '윤석열측 \"與 일방적인 비방, 도를 넘어…이제 대응 나서겠다\"', 'https://news.naver.com/main/read.nhn?mode=LSD&mid=shm&sid1=100&oid=119&aid=0002498698')]\n",
      "200\n",
      "[(datetime.datetime(2021, 6, 3, 15, 12, 5, 982915), '전국 차츰 비…더위 누그러져[날씨]', 'https://news.naver.com/main/read.nhn?mode=LSD&mid=shm&sid1=103&oid=214&aid=0001122791'), (datetime.datetime(2021, 6, 3, 15, 12, 5, 982915), '정부 “대구시 주선 화이자, 도입 않기로”…화이자 “고발 검토”', 'https://news.naver.com/main/read.nhn?mode=LSD&mid=shm&sid1=102&oid=449&aid=0000209722'), (datetime.datetime(2021, 6, 3, 15, 12, 5, 984917), '대법, ‘네이버 통유리 사옥’ 빛 반사 배상책임 인정…파기환송', 'https://news.naver.com/main/read.nhn?mode=LSD&mid=shm&sid1=102&oid=056&aid=0011056567'), (datetime.datetime(2021, 6, 3, 15, 12, 5, 985914), '女중사 유족 \"성추행 피해 최소 2차례 더 있다\"…고소장 제출(종합)', 'https://news.naver.com/main/read.nhn?mode=LSD&mid=shm&sid1=100&oid=001&aid=0012435542'), (datetime.datetime(2021, 6, 3, 15, 12, 5, 985914), '윤석열측 \"與 일방적인 비방, 도를 넘어…이제 대응 나서겠다\"', 'https://news.naver.com/main/read.nhn?mode=LSD&mid=shm&sid1=100&oid=119&aid=0002498698')]\n",
      "200\n",
      "[(datetime.datetime(2021, 6, 3, 15, 12, 11, 141931), '“뒷문 열고 깨우다 멱살잡힌 걸로” 이용구, 거짓진술 요구 인정', 'https://news.naver.com/main/read.nhn?mode=LSD&mid=shm&sid1=102&oid=005&aid=0001444544'), (datetime.datetime(2021, 6, 3, 15, 12, 11, 141931), 'SK㈜, 美 수소기업 모놀리스에 투자…청록수소 사업 진출', 'https://news.naver.com/main/read.nhn?mode=LSD&mid=shm&sid1=101&oid=025&aid=0003106829'), (datetime.datetime(2021, 6, 3, 15, 12, 11, 141931), '전국 곳곳에 벼락·강풍 동반한 요란한 비...언제 그칠까[날씨]', 'https://news.naver.com/main/read.nhn?mode=LSD&mid=shm&sid1=103&oid=052&aid=0001596471'), (datetime.datetime(2021, 6, 3, 15, 12, 11, 141931), '“보이콧도 검토해야”…의원 132명, ‘日지도 독도 표기’ 규탄결의 발의', 'https://news.naver.com/main/read.nhn?mode=LSD&mid=shm&sid1=100&oid=081&aid=0003191352'), (datetime.datetime(2021, 6, 3, 15, 12, 11, 141931), \"국방부, 이재용도 요청했던 '수사심의위' 군검찰에 도입한다\", 'https://news.naver.com/main/read.nhn?mode=LSD&mid=shm&sid1=100&oid=015&aid=0004556541')]\n",
      "200\n",
      "[(datetime.datetime(2021, 6, 3, 15, 12, 11, 286930), '“뒷문 열고 깨우다 멱살잡힌 걸로” 이용구, 거짓진술 요구 인정', 'https://news.naver.com/main/read.nhn?mode=LSD&mid=shm&sid1=102&oid=005&aid=0001444544'), (datetime.datetime(2021, 6, 3, 15, 12, 11, 286930), 'SK㈜, 美 수소기업 모놀리스에 투자…청록수소 사업 진출', 'https://news.naver.com/main/read.nhn?mode=LSD&mid=shm&sid1=101&oid=025&aid=0003106829'), (datetime.datetime(2021, 6, 3, 15, 12, 11, 286930), '전국 곳곳에 벼락·강풍 동반한 요란한 비...언제 그칠까[날씨]', 'https://news.naver.com/main/read.nhn?mode=LSD&mid=shm&sid1=103&oid=052&aid=0001596471'), (datetime.datetime(2021, 6, 3, 15, 12, 11, 286930), '“보이콧도 검토해야”…의원 132명, ‘日지도 독도 표기’ 규탄결의 발의', 'https://news.naver.com/main/read.nhn?mode=LSD&mid=shm&sid1=100&oid=081&aid=0003191352'), (datetime.datetime(2021, 6, 3, 15, 12, 11, 286930), \"국방부, 이재용도 요청했던 '수사심의위' 군검찰에 도입한다\", 'https://news.naver.com/main/read.nhn?mode=LSD&mid=shm&sid1=100&oid=015&aid=0004556541')]\n",
      "200\n",
      "[(datetime.datetime(2021, 6, 3, 15, 12, 16, 528955), \"'수소사업 속도' SK, 세계 첫 청록수소 생산기업에 투자\", 'https://news.naver.com/main/read.nhn?mode=LSD&mid=shm&sid1=101&oid=015&aid=0004556725'), (datetime.datetime(2021, 6, 3, 15, 12, 16, 528955), '정부 \"대구시 제안 화이자 진위 불분명...계약 추진 안 할 것\"', 'https://news.naver.com/main/read.nhn?mode=LSD&mid=shm&sid1=102&oid=025&aid=0003106805'), (datetime.datetime(2021, 6, 3, 15, 12, 16, 528955), '\"너 뭐야 XXX\" 이용구 폭행·욕설 담긴 블랙박스 영상 파문', 'https://news.naver.com/main/read.nhn?mode=LSD&mid=shm&sid1=102&oid=057&aid=0001581619'), (datetime.datetime(2021, 6, 3, 15, 12, 16, 528955), '초선들 만난 문 대통령 “내부 단합하고 외연 확장할 때 지지 만들어져”', 'https://news.naver.com/main/read.nhn?mode=LSD&mid=shm&sid1=100&oid=032&aid=0003077992'), (datetime.datetime(2021, 6, 3, 15, 12, 16, 528955), '하정우, 프로포폴 약식기소 “안일한 판단 반성” [전문]', 'https://news.naver.com/main/read.nhn?mode=LSD&mid=shm&sid1=102&oid=005&aid=0001444603')]\n"
     ]
    },
    {
     "name": "stdout",
     "output_type": "stream",
     "text": [
      "200\n",
      "[(datetime.datetime(2021, 6, 3, 15, 12, 16, 692971), '문 대통령 “공군 부사관 사망 건, 최고상급자까지 지휘부도 살펴라”', 'https://news.naver.com/main/read.nhn?mode=LSD&mid=shm&sid1=100&oid=028&aid=0002547034'), (datetime.datetime(2021, 6, 3, 15, 12, 16, 692971), 'SK㈜, 세계 첫 청록수소 생산 美모놀리스에 투자…수소사업 확장', 'https://news.naver.com/main/read.nhn?mode=LSD&mid=shm&sid1=101&oid=001&aid=0012435130'), (datetime.datetime(2021, 6, 3, 15, 12, 16, 692971), '공매도 재개 한 달, 외국인 비중 늘고 기관 줄었다', 'https://news.naver.com/main/read.nhn?mode=LSD&mid=shm&sid1=101&oid=028&aid=0002547056'), (datetime.datetime(2021, 6, 3, 15, 12, 16, 693988), '정부 \"대구시 주선 화이자 백신 진위 의심…구매 않기로\"', 'https://news.naver.com/main/read.nhn?mode=LSD&mid=shm&sid1=102&oid=214&aid=0001122850'), (datetime.datetime(2021, 6, 3, 15, 12, 16, 693988), \"국회의원 132명, 도쿄올림픽 '독도 표기' 규탄\", 'https://news.naver.com/main/read.nhn?mode=LSD&mid=shm&sid1=100&oid=214&aid=0001122836')]\n",
      "200\n",
      "[(datetime.datetime(2021, 6, 3, 15, 12, 16, 855969), '문 대통령 “공군 부사관 사망 건, 최고상급자까지 지휘부도 살펴라”', 'https://news.naver.com/main/read.nhn?mode=LSD&mid=shm&sid1=100&oid=028&aid=0002547034'), (datetime.datetime(2021, 6, 3, 15, 12, 16, 855969), 'SK㈜, 세계 첫 청록수소 생산 美모놀리스에 투자…수소사업 확장', 'https://news.naver.com/main/read.nhn?mode=LSD&mid=shm&sid1=101&oid=001&aid=0012435130'), (datetime.datetime(2021, 6, 3, 15, 12, 16, 855969), '공매도 재개 한 달, 외국인 비중 늘고 기관 줄었다', 'https://news.naver.com/main/read.nhn?mode=LSD&mid=shm&sid1=101&oid=028&aid=0002547056'), (datetime.datetime(2021, 6, 3, 15, 12, 16, 856969), '정부 \"대구시 주선 화이자 백신 진위 의심…구매 않기로\"', 'https://news.naver.com/main/read.nhn?mode=LSD&mid=shm&sid1=102&oid=214&aid=0001122850'), (datetime.datetime(2021, 6, 3, 15, 12, 16, 856969), \"국회의원 132명, 도쿄올림픽 '독도 표기' 규탄\", 'https://news.naver.com/main/read.nhn?mode=LSD&mid=shm&sid1=100&oid=214&aid=0001122836')]\n",
      "200\n",
      "[(datetime.datetime(2021, 6, 3, 15, 12, 17, 18972), '문 대통령 “공군 부사관 사망 건, 최고상급자까지 지휘부도 살펴라”', 'https://news.naver.com/main/read.nhn?mode=LSD&mid=shm&sid1=100&oid=028&aid=0002547034'), (datetime.datetime(2021, 6, 3, 15, 12, 17, 19970), 'SK㈜, 세계 첫 청록수소 생산 美모놀리스에 투자…수소사업 확장', 'https://news.naver.com/main/read.nhn?mode=LSD&mid=shm&sid1=101&oid=001&aid=0012435130'), (datetime.datetime(2021, 6, 3, 15, 12, 17, 19970), '공매도 재개 한 달, 외국인 비중 늘고 기관 줄었다', 'https://news.naver.com/main/read.nhn?mode=LSD&mid=shm&sid1=101&oid=028&aid=0002547056'), (datetime.datetime(2021, 6, 3, 15, 12, 17, 19970), '정부 \"대구시 주선 화이자 백신 진위 의심…구매 않기로\"', 'https://news.naver.com/main/read.nhn?mode=LSD&mid=shm&sid1=102&oid=214&aid=0001122850'), (datetime.datetime(2021, 6, 3, 15, 12, 17, 19970), \"국회의원 132명, 도쿄올림픽 '독도 표기' 규탄\", 'https://news.naver.com/main/read.nhn?mode=LSD&mid=shm&sid1=100&oid=214&aid=0001122836')]\n",
      "200\n",
      "[(datetime.datetime(2021, 6, 3, 15, 12, 22, 194309), '[2보] 이용구 \"1천만원은 합의금…영상 삭제 대가 아냐\"', 'https://news.naver.com/main/read.nhn?mode=LSD&mid=shm&sid1=102&oid=001&aid=0012434692'), (datetime.datetime(2021, 6, 3, 15, 12, 22, 194309), '정부 \"대구시 제안 화이자 진위 불분명...계약 추진 안 할 것\"', 'https://news.naver.com/main/read.nhn?mode=LSD&mid=shm&sid1=102&oid=025&aid=0003106805'), (datetime.datetime(2021, 6, 3, 15, 12, 22, 194309), '상반기 백신 접종 목표 달성 자신하는 당국', 'https://news.naver.com/main/read.nhn?mode=LSD&mid=shm&sid1=102&oid=421&aid=0005391545'), (datetime.datetime(2021, 6, 3, 15, 12, 22, 194309), '문대통령 \"경제 성과 있으나 국민 고통…마음 아프다\"', 'https://news.naver.com/main/read.nhn?mode=LSD&mid=shm&sid1=100&oid=001&aid=0012435548'), (datetime.datetime(2021, 6, 3, 15, 12, 22, 194309), \"삼성·하이닉스 빼면 1000원 팔아 46원 남겨..3곳 중 1곳 좀비기업 '역대 최대'\", 'https://news.naver.com/main/read.nhn?mode=LSD&mid=shm&sid1=101&oid=018&aid=0004946448')]\n",
      "200\n",
      "[(datetime.datetime(2021, 6, 3, 15, 12, 22, 419311), '[2보] 이용구 \"1천만원은 합의금…영상 삭제 대가 아냐\"', 'https://news.naver.com/main/read.nhn?mode=LSD&mid=shm&sid1=102&oid=001&aid=0012434692'), (datetime.datetime(2021, 6, 3, 15, 12, 22, 420312), '정부 \"대구시 제안 화이자 진위 불분명...계약 추진 안 할 것\"', 'https://news.naver.com/main/read.nhn?mode=LSD&mid=shm&sid1=102&oid=025&aid=0003106805'), (datetime.datetime(2021, 6, 3, 15, 12, 22, 420312), '상반기 백신 접종 목표 달성 자신하는 당국', 'https://news.naver.com/main/read.nhn?mode=LSD&mid=shm&sid1=102&oid=421&aid=0005391545'), (datetime.datetime(2021, 6, 3, 15, 12, 22, 421313), '문대통령 \"경제 성과 있으나 국민 고통…마음 아프다\"', 'https://news.naver.com/main/read.nhn?mode=LSD&mid=shm&sid1=100&oid=001&aid=0012435548'), (datetime.datetime(2021, 6, 3, 15, 12, 22, 421313), \"삼성·하이닉스 빼면 1000원 팔아 46원 남겨..3곳 중 1곳 좀비기업 '역대 최대'\", 'https://news.naver.com/main/read.nhn?mode=LSD&mid=shm&sid1=101&oid=018&aid=0004946448')]\n",
      "200\n",
      "[(datetime.datetime(2021, 6, 3, 15, 12, 27, 611280), '이용구 “택시기사에 1천만원 합의금, 영상삭제 대가 아냐”', 'https://news.naver.com/main/read.nhn?mode=LSD&mid=shm&sid1=102&oid=028&aid=0002547015'), (datetime.datetime(2021, 6, 3, 15, 12, 27, 611280), \"'보복운전 혐의' 구본성 아워홈 부회장 1심서 집행유예\", 'https://news.naver.com/main/read.nhn?mode=LSD&mid=shm&sid1=102&oid=014&aid=0004650728'), (datetime.datetime(2021, 6, 3, 15, 12, 27, 611280), '정부 \"대구시 주선 화이자 백신 진위 의심…구매 않기로\"', 'https://news.naver.com/main/read.nhn?mode=LSD&mid=shm&sid1=102&oid=214&aid=0001122850'), (datetime.datetime(2021, 6, 3, 15, 12, 27, 611280), '[속보] 文, 여성 부사관 사건에 \"가슴 아파\"…엄정수사 지시', 'https://news.naver.com/main/read.nhn?mode=LSD&mid=shm&sid1=100&oid=015&aid=0004556621'), (datetime.datetime(2021, 6, 3, 15, 12, 27, 612290), \"접종후 확진 '돌파감염' 5명 늘어 누적 9명…모두 화이자 접종\", 'https://news.naver.com/main/read.nhn?mode=LSD&mid=shm&sid1=102&oid=001&aid=0012435912')]\n",
      "200\n",
      "[(datetime.datetime(2021, 6, 3, 15, 12, 27, 757277), '이용구 “택시기사에 1천만원 합의금, 영상삭제 대가 아냐”', 'https://news.naver.com/main/read.nhn?mode=LSD&mid=shm&sid1=102&oid=028&aid=0002547015'), (datetime.datetime(2021, 6, 3, 15, 12, 27, 757277), \"'보복운전 혐의' 구본성 아워홈 부회장 1심서 집행유예\", 'https://news.naver.com/main/read.nhn?mode=LSD&mid=shm&sid1=102&oid=014&aid=0004650728'), (datetime.datetime(2021, 6, 3, 15, 12, 27, 757277), '정부 \"대구시 주선 화이자 백신 진위 의심…구매 않기로\"', 'https://news.naver.com/main/read.nhn?mode=LSD&mid=shm&sid1=102&oid=214&aid=0001122850'), (datetime.datetime(2021, 6, 3, 15, 12, 27, 757277), '[속보] 文, 여성 부사관 사건에 \"가슴 아파\"…엄정수사 지시', 'https://news.naver.com/main/read.nhn?mode=LSD&mid=shm&sid1=100&oid=015&aid=0004556621'), (datetime.datetime(2021, 6, 3, 15, 12, 27, 758278), \"접종후 확진 '돌파감염' 5명 늘어 누적 9명…모두 화이자 접종\", 'https://news.naver.com/main/read.nhn?mode=LSD&mid=shm&sid1=102&oid=001&aid=0012435912')]\n",
      "200\n",
      "[(datetime.datetime(2021, 6, 3, 15, 12, 28, 47429), '이용구 “택시기사에 1천만원 합의금, 영상삭제 대가 아냐”', 'https://news.naver.com/main/read.nhn?mode=LSD&mid=shm&sid1=102&oid=028&aid=0002547015'), (datetime.datetime(2021, 6, 3, 15, 12, 28, 47429), \"'보복운전 혐의' 구본성 아워홈 부회장 1심서 집행유예\", 'https://news.naver.com/main/read.nhn?mode=LSD&mid=shm&sid1=102&oid=014&aid=0004650728'), (datetime.datetime(2021, 6, 3, 15, 12, 28, 47429), '정부 \"대구시 주선 화이자 백신 진위 의심…구매 않기로\"', 'https://news.naver.com/main/read.nhn?mode=LSD&mid=shm&sid1=102&oid=214&aid=0001122850'), (datetime.datetime(2021, 6, 3, 15, 12, 28, 47429), '[속보] 文, 여성 부사관 사건에 \"가슴 아파\"…엄정수사 지시', 'https://news.naver.com/main/read.nhn?mode=LSD&mid=shm&sid1=100&oid=015&aid=0004556621'), (datetime.datetime(2021, 6, 3, 15, 12, 28, 47429), \"접종후 확진 '돌파감염' 5명 늘어 누적 9명…모두 화이자 접종\", 'https://news.naver.com/main/read.nhn?mode=LSD&mid=shm&sid1=102&oid=001&aid=0012435912')]\n",
      "200\n",
      "[(datetime.datetime(2021, 6, 3, 15, 12, 28, 211422), '이용구 “택시기사에 1천만원 합의금, 영상삭제 대가 아냐”', 'https://news.naver.com/main/read.nhn?mode=LSD&mid=shm&sid1=102&oid=028&aid=0002547015'), (datetime.datetime(2021, 6, 3, 15, 12, 28, 211422), \"'보복운전 혐의' 구본성 아워홈 부회장 1심서 집행유예\", 'https://news.naver.com/main/read.nhn?mode=LSD&mid=shm&sid1=102&oid=014&aid=0004650728'), (datetime.datetime(2021, 6, 3, 15, 12, 28, 211422), '정부 \"대구시 주선 화이자 백신 진위 의심…구매 않기로\"', 'https://news.naver.com/main/read.nhn?mode=LSD&mid=shm&sid1=102&oid=214&aid=0001122850'), (datetime.datetime(2021, 6, 3, 15, 12, 28, 211422), '[속보] 文, 여성 부사관 사건에 \"가슴 아파\"…엄정수사 지시', 'https://news.naver.com/main/read.nhn?mode=LSD&mid=shm&sid1=100&oid=015&aid=0004556621'), (datetime.datetime(2021, 6, 3, 15, 12, 28, 211422), \"접종후 확진 '돌파감염' 5명 늘어 누적 9명…모두 화이자 접종\", 'https://news.naver.com/main/read.nhn?mode=LSD&mid=shm&sid1=102&oid=001&aid=0012435912')]\n",
      "200\n",
      "[(datetime.datetime(2021, 6, 3, 15, 12, 33, 391293), '모의평가 수학 \"선택과목 평이, 공통과목서 변별력 확보\"', 'https://news.naver.com/main/read.nhn?mode=LSD&mid=shm&sid1=102&oid=018&aid=0004946519'), (datetime.datetime(2021, 6, 3, 15, 12, 33, 391293), '文대통령 “초선의원들이 지지자들과 손 맞잡아달라”(상보)', 'https://news.naver.com/main/read.nhn?mode=LSD&mid=shm&sid1=100&oid=018&aid=0004946579'), (datetime.datetime(2021, 6, 3, 15, 12, 33, 391293), '日 도쿄올림픽 홈피에 \\'독도 표기\\'... 백혜련 \"영유권 침해, 삭제하라\"', 'https://news.naver.com/main/read.nhn?mode=LSD&mid=shm&sid1=100&oid=469&aid=0000608498'), (datetime.datetime(2021, 6, 3, 15, 12, 33, 391293), 'SK㈜, \\'청록수소\\' 생산 회사에 투자 \"수소 사업 확장 속도\"', 'https://news.naver.com/main/read.nhn?mode=LSD&mid=shm&sid1=101&oid=629&aid=0000086940'), (datetime.datetime(2021, 6, 3, 15, 12, 33, 391293), '공군 부사관 유족측, 3명 추가 고소…“성추행 피해 더있다”', 'https://news.naver.com/main/read.nhn?mode=LSD&mid=shm&sid1=100&oid=032&aid=0003077969')]\n",
      "200\n"
     ]
    },
    {
     "name": "stdout",
     "output_type": "stream",
     "text": [
      "[(datetime.datetime(2021, 6, 3, 15, 12, 33, 540299), '문 대통령, 與 지도부에도 초선들에도 \"단합\"', 'https://news.naver.com/main/read.nhn?mode=LSD&mid=shm&sid1=100&oid=215&aid=0000962326'), (datetime.datetime(2021, 6, 3, 15, 12, 33, 540299), '전국 곳곳에 벼락·강풍 동반한 요란한 비...언제 그칠까[날씨]', 'https://news.naver.com/main/read.nhn?mode=LSD&mid=shm&sid1=103&oid=052&aid=0001596471'), (datetime.datetime(2021, 6, 3, 15, 12, 33, 540299), '입시업계 “6월 모의평가 국어·수학 공통과목 어려워”', 'https://news.naver.com/main/read.nhn?mode=LSD&mid=shm&sid1=102&oid=366&aid=0000727506'), (datetime.datetime(2021, 6, 3, 15, 12, 33, 540299), '작년 기업 10곳 중 3곳, 영업 이익으로 대출 이자도 못 내', 'https://news.naver.com/main/read.nhn?mode=LSD&mid=shm&sid1=101&oid=028&aid=0002547037'), (datetime.datetime(2021, 6, 3, 15, 12, 33, 540299), '국내 접종완료자 104만명 중 돌파감염 9명…\"외국보다 드물어\"', 'https://news.naver.com/main/read.nhn?mode=LSD&mid=shm&sid1=102&oid=003&aid=0010532096')]\n",
      "200\n",
      "[(datetime.datetime(2021, 6, 3, 15, 12, 38, 690741), '[속보]文대통령 \"성추행 피해 부사관, 가슴 아파...엄중 수사하라\"', 'https://news.naver.com/main/read.nhn?mode=LSD&mid=shm&sid1=100&oid=014&aid=0004650564'), (datetime.datetime(2021, 6, 3, 15, 12, 38, 690741), \"국방부, '부사관 성추행' 수사심의위원회 설치…군 사건 최초\", 'https://news.naver.com/main/read.nhn?mode=LSD&mid=shm&sid1=102&oid=055&aid=0000898343'), (datetime.datetime(2021, 6, 3, 15, 12, 38, 690741), \"접종후 확진 '돌파감염' 5명 늘어 누적 9명…모두 화이자 접종\", 'https://news.naver.com/main/read.nhn?mode=LSD&mid=shm&sid1=102&oid=001&aid=0012435912'), (datetime.datetime(2021, 6, 3, 15, 12, 38, 690741), '전국에 비…밤에 대부분 그쳐요[오후날씨 꿀팁]', 'https://news.naver.com/main/read.nhn?mode=LSD&mid=shm&sid1=103&oid=056&aid=0011056586'), (datetime.datetime(2021, 6, 3, 15, 12, 38, 690741), '尹측, 송영길에 \"도 넘은 언행…사법제도에 대한 예의 아냐\"', 'https://news.naver.com/main/read.nhn?mode=LSD&mid=shm&sid1=100&oid=001&aid=0012434792')]\n",
      "200\n",
      "[(datetime.datetime(2021, 6, 3, 15, 12, 38, 852881), '[속보]文대통령 \"성추행 피해 부사관, 가슴 아파...엄중 수사하라\"', 'https://news.naver.com/main/read.nhn?mode=LSD&mid=shm&sid1=100&oid=014&aid=0004650564'), (datetime.datetime(2021, 6, 3, 15, 12, 38, 852881), \"국방부, '부사관 성추행' 수사심의위원회 설치…군 사건 최초\", 'https://news.naver.com/main/read.nhn?mode=LSD&mid=shm&sid1=102&oid=055&aid=0000898343'), (datetime.datetime(2021, 6, 3, 15, 12, 38, 852881), \"접종후 확진 '돌파감염' 5명 늘어 누적 9명…모두 화이자 접종\", 'https://news.naver.com/main/read.nhn?mode=LSD&mid=shm&sid1=102&oid=001&aid=0012435912'), (datetime.datetime(2021, 6, 3, 15, 12, 38, 853874), '전국에 비…밤에 대부분 그쳐요[오후날씨 꿀팁]', 'https://news.naver.com/main/read.nhn?mode=LSD&mid=shm&sid1=103&oid=056&aid=0011056586'), (datetime.datetime(2021, 6, 3, 15, 12, 38, 853874), '尹측, 송영길에 \"도 넘은 언행…사법제도에 대한 예의 아냐\"', 'https://news.naver.com/main/read.nhn?mode=LSD&mid=shm&sid1=100&oid=001&aid=0012434792')]\n",
      "200\n",
      "[(datetime.datetime(2021, 6, 3, 15, 12, 39, 14881), '[속보]文대통령 \"성추행 피해 부사관, 가슴 아파...엄중 수사하라\"', 'https://news.naver.com/main/read.nhn?mode=LSD&mid=shm&sid1=100&oid=014&aid=0004650564'), (datetime.datetime(2021, 6, 3, 15, 12, 39, 14881), \"국방부, '부사관 성추행' 수사심의위원회 설치…군 사건 최초\", 'https://news.naver.com/main/read.nhn?mode=LSD&mid=shm&sid1=102&oid=055&aid=0000898343'), (datetime.datetime(2021, 6, 3, 15, 12, 39, 14881), \"접종후 확진 '돌파감염' 5명 늘어 누적 9명…모두 화이자 접종\", 'https://news.naver.com/main/read.nhn?mode=LSD&mid=shm&sid1=102&oid=001&aid=0012435912'), (datetime.datetime(2021, 6, 3, 15, 12, 39, 14881), '전국에 비…밤에 대부분 그쳐요[오후날씨 꿀팁]', 'https://news.naver.com/main/read.nhn?mode=LSD&mid=shm&sid1=103&oid=056&aid=0011056586'), (datetime.datetime(2021, 6, 3, 15, 12, 39, 14881), '尹측, 송영길에 \"도 넘은 언행…사법제도에 대한 예의 아냐\"', 'https://news.naver.com/main/read.nhn?mode=LSD&mid=shm&sid1=100&oid=001&aid=0012434792')]\n",
      "200\n",
      "[(datetime.datetime(2021, 6, 3, 15, 12, 39, 187869), '[속보]文대통령 \"성추행 피해 부사관, 가슴 아파...엄중 수사하라\"', 'https://news.naver.com/main/read.nhn?mode=LSD&mid=shm&sid1=100&oid=014&aid=0004650564'), (datetime.datetime(2021, 6, 3, 15, 12, 39, 187869), \"국방부, '부사관 성추행' 수사심의위원회 설치…군 사건 최초\", 'https://news.naver.com/main/read.nhn?mode=LSD&mid=shm&sid1=102&oid=055&aid=0000898343'), (datetime.datetime(2021, 6, 3, 15, 12, 39, 187869), \"접종후 확진 '돌파감염' 5명 늘어 누적 9명…모두 화이자 접종\", 'https://news.naver.com/main/read.nhn?mode=LSD&mid=shm&sid1=102&oid=001&aid=0012435912'), (datetime.datetime(2021, 6, 3, 15, 12, 39, 187869), '전국에 비…밤에 대부분 그쳐요[오후날씨 꿀팁]', 'https://news.naver.com/main/read.nhn?mode=LSD&mid=shm&sid1=103&oid=056&aid=0011056586'), (datetime.datetime(2021, 6, 3, 15, 12, 39, 187869), '尹측, 송영길에 \"도 넘은 언행…사법제도에 대한 예의 아냐\"', 'https://news.naver.com/main/read.nhn?mode=LSD&mid=shm&sid1=100&oid=001&aid=0012434792')]\n",
      "200\n",
      "[(datetime.datetime(2021, 6, 3, 15, 12, 44, 484575), '하정우 프로포폴 불법 투약, 벌금형 약식 기소', 'https://news.naver.com/main/read.nhn?mode=LSD&mid=shm&sid1=102&oid=023&aid=0003617958'), (datetime.datetime(2021, 6, 3, 15, 12, 44, 484575), '증권사 1분기 순익 3조…종전 최대치 대비 38.6%↑', 'https://news.naver.com/main/read.nhn?mode=LSD&mid=shm&sid1=101&oid=016&aid=0001843812'), (datetime.datetime(2021, 6, 3, 15, 12, 44, 484575), '정부 \"대구 주선 화이자 백신 \\'직구\\' 추진 안해\" (종합)', 'https://news.naver.com/main/read.nhn?mode=LSD&mid=shm&sid1=102&oid=011&aid=0003918587'), (datetime.datetime(2021, 6, 3, 15, 12, 44, 485576), '무차입 공매도 의심거래 720건 감리…금융위 \"11일 공매도 종목 변경 주의\"', 'https://news.naver.com/main/read.nhn?mode=LSD&mid=shm&sid1=101&oid=277&aid=0004914075'), (datetime.datetime(2021, 6, 3, 15, 12, 44, 485576), \"접종후 확진 '돌파감염' 5명 늘어 누적 9명…모두 화이자 접종\", 'https://news.naver.com/main/read.nhn?mode=LSD&mid=shm&sid1=102&oid=001&aid=0012435912')]\n",
      "200\n",
      "[(datetime.datetime(2021, 6, 3, 15, 12, 44, 658577), '이용구 “합의금 줬지만, 영상 삭제 대가 아니야”', 'https://news.naver.com/main/read.nhn?mode=LSD&mid=shm&sid1=102&oid=056&aid=0011056441'), (datetime.datetime(2021, 6, 3, 15, 12, 44, 658577), '윤석열 측, 공개적 맞대응...송영길·정세균 겨냥 \"도 넘은 언행\"', 'https://news.naver.com/main/read.nhn?mode=LSD&mid=shm&sid1=100&oid=057&aid=0001581719'), (datetime.datetime(2021, 6, 3, 15, 12, 44, 658577), '비 내리며 더위 주춤...곳곳 돌풍·벼락 동반[날씨]', 'https://news.naver.com/main/read.nhn?mode=LSD&mid=shm&sid1=103&oid=052&aid=0001596353'), (datetime.datetime(2021, 6, 3, 15, 12, 44, 658577), '정부 \"대구시 제안 화이자 진위 불분명...계약 추진 안 할 것\"', 'https://news.naver.com/main/read.nhn?mode=LSD&mid=shm&sid1=102&oid=025&aid=0003106805'), (datetime.datetime(2021, 6, 3, 15, 12, 44, 658577), \"'좀비기업' 31.0%→34.5%…2013년 이후 최대\", 'https://news.naver.com/main/read.nhn?mode=LSD&mid=shm&sid1=101&oid=001&aid=0012435458')]\n",
      "200\n",
      "[(datetime.datetime(2021, 6, 3, 15, 12, 49, 851830), '출제기관 \"수학, 복잡한 계산·공식 단순적용은 지양\"[6월 모평]', 'https://news.naver.com/main/read.nhn?mode=LSD&mid=shm&sid1=102&oid=421&aid=0005391466'), (datetime.datetime(2021, 6, 3, 15, 12, 49, 851830), '화이자 \"대구시 제안받은 백신 정품 아닌 듯\"…정부 \"도입 협의 안 해\"', 'https://news.naver.com/main/read.nhn?mode=LSD&mid=shm&sid1=102&oid=003&aid=0010531759'), (datetime.datetime(2021, 6, 3, 15, 12, 49, 851830), \"'네이버 통유리' 놓고 10년 법정싸움…결국 네이버가 졌다\", 'https://news.naver.com/main/read.nhn?mode=LSD&mid=shm&sid1=102&oid=025&aid=0003106798'), (datetime.datetime(2021, 6, 3, 15, 12, 49, 851830), '[속보] 문대통령, 女부사관 사건에 \"가슴 아파\"…엄정수사 지시', 'https://news.naver.com/main/read.nhn?mode=LSD&mid=shm&sid1=100&oid=088&aid=0000705845'), (datetime.datetime(2021, 6, 3, 15, 12, 49, 851830), '[영상]민주당 \"日올림픽조직위, 독도 영유권 침해…특단 조치 생각\"', 'https://news.naver.com/main/read.nhn?mode=LSD&mid=shm&sid1=100&oid=079&aid=0003511485')]\n",
      "200\n",
      "[(datetime.datetime(2021, 6, 3, 15, 12, 50, 1705), '출제기관 \"수학, 복잡한 계산·공식 단순적용은 지양\"[6월 모평]', 'https://news.naver.com/main/read.nhn?mode=LSD&mid=shm&sid1=102&oid=421&aid=0005391466'), (datetime.datetime(2021, 6, 3, 15, 12, 50, 1705), '화이자 \"대구시 제안받은 백신 정품 아닌 듯\"…정부 \"도입 협의 안 해\"', 'https://news.naver.com/main/read.nhn?mode=LSD&mid=shm&sid1=102&oid=003&aid=0010531759'), (datetime.datetime(2021, 6, 3, 15, 12, 50, 2705), \"'네이버 통유리' 놓고 10년 법정싸움…결국 네이버가 졌다\", 'https://news.naver.com/main/read.nhn?mode=LSD&mid=shm&sid1=102&oid=025&aid=0003106798'), (datetime.datetime(2021, 6, 3, 15, 12, 50, 2705), '[속보] 문대통령, 女부사관 사건에 \"가슴 아파\"…엄정수사 지시', 'https://news.naver.com/main/read.nhn?mode=LSD&mid=shm&sid1=100&oid=088&aid=0000705845'), (datetime.datetime(2021, 6, 3, 15, 12, 50, 2705), '[영상]민주당 \"日올림픽조직위, 독도 영유권 침해…특단 조치 생각\"', 'https://news.naver.com/main/read.nhn?mode=LSD&mid=shm&sid1=100&oid=079&aid=0003511485')]\n",
      "200\n",
      "[(datetime.datetime(2021, 6, 3, 15, 12, 50, 140238), '출제기관 \"수학, 복잡한 계산·공식 단순적용은 지양\"[6월 모평]', 'https://news.naver.com/main/read.nhn?mode=LSD&mid=shm&sid1=102&oid=421&aid=0005391466'), (datetime.datetime(2021, 6, 3, 15, 12, 50, 140238), '화이자 \"대구시 제안받은 백신 정품 아닌 듯\"…정부 \"도입 협의 안 해\"', 'https://news.naver.com/main/read.nhn?mode=LSD&mid=shm&sid1=102&oid=003&aid=0010531759'), (datetime.datetime(2021, 6, 3, 15, 12, 50, 140238), \"'네이버 통유리' 놓고 10년 법정싸움…결국 네이버가 졌다\", 'https://news.naver.com/main/read.nhn?mode=LSD&mid=shm&sid1=102&oid=025&aid=0003106798'), (datetime.datetime(2021, 6, 3, 15, 12, 50, 140238), '[속보] 문대통령, 女부사관 사건에 \"가슴 아파\"…엄정수사 지시', 'https://news.naver.com/main/read.nhn?mode=LSD&mid=shm&sid1=100&oid=088&aid=0000705845'), (datetime.datetime(2021, 6, 3, 15, 12, 50, 140238), '민주당 \"日올림픽조직위, 독도 영유권 침해…특단 조치 생각\"', 'https://news.naver.com/main/read.nhn?mode=LSD&mid=shm&sid1=100&oid=079&aid=0003511485')]\n",
      "200\n"
     ]
    },
    {
     "name": "stdout",
     "output_type": "stream",
     "text": [
      "[(datetime.datetime(2021, 6, 3, 15, 12, 50, 317500), '출제기관 \"수학, 복잡한 계산·공식 단순적용은 지양\"[6월 모평]', 'https://news.naver.com/main/read.nhn?mode=LSD&mid=shm&sid1=102&oid=421&aid=0005391466'), (datetime.datetime(2021, 6, 3, 15, 12, 50, 317500), '화이자 \"대구시 제안받은 백신 정품 아닌 듯\"…정부 \"도입 협의 안 해\"', 'https://news.naver.com/main/read.nhn?mode=LSD&mid=shm&sid1=102&oid=003&aid=0010531759'), (datetime.datetime(2021, 6, 3, 15, 12, 50, 317500), \"'네이버 통유리' 놓고 10년 법정싸움…결국 네이버가 졌다\", 'https://news.naver.com/main/read.nhn?mode=LSD&mid=shm&sid1=102&oid=025&aid=0003106798'), (datetime.datetime(2021, 6, 3, 15, 12, 50, 317500), '[속보] 문대통령, 女부사관 사건에 \"가슴 아파\"…엄정수사 지시', 'https://news.naver.com/main/read.nhn?mode=LSD&mid=shm&sid1=100&oid=088&aid=0000705845'), (datetime.datetime(2021, 6, 3, 15, 12, 50, 317500), '민주당 \"日올림픽조직위, 독도 영유권 침해…특단 조치 생각\"', 'https://news.naver.com/main/read.nhn?mode=LSD&mid=shm&sid1=100&oid=079&aid=0003511485')]\n",
      "200\n",
      "[(datetime.datetime(2021, 6, 3, 15, 12, 55, 484387), '대구시 화이자백신 사기당할 뻔? 정부 \"정품 아니다. 국제수사 협력\"', 'https://news.naver.com/main/read.nhn?mode=LSD&mid=shm&sid1=102&oid=469&aid=0000608522'), (datetime.datetime(2021, 6, 3, 15, 12, 55, 484387), \"'보복운전 혐의' 구본성 아워홈 부회장 1심서 집행유예\", 'https://news.naver.com/main/read.nhn?mode=LSD&mid=shm&sid1=102&oid=014&aid=0004650728'), (datetime.datetime(2021, 6, 3, 15, 12, 55, 484387), '윤석열 쪽, 여권 처가 수사 언급에 “도 넘은 언행”', 'https://news.naver.com/main/read.nhn?mode=LSD&mid=shm&sid1=100&oid=028&aid=0002547041'), (datetime.datetime(2021, 6, 3, 15, 12, 55, 484387), '이용구 \"공수처장 후보 거론돼 합의금 1천만 원 줬다\"', 'https://news.naver.com/main/read.nhn?mode=LSD&mid=shm&sid1=102&oid=079&aid=0003511408'), (datetime.datetime(2021, 6, 3, 15, 12, 55, 484387), '\"2850% 폭등한 AMC처럼\"…한국판 \\'공매도 전쟁\\' 가능할까?', 'https://news.naver.com/main/read.nhn?mode=LSD&mid=shm&sid1=101&oid=015&aid=0004556640')]\n",
      "200\n",
      "[(datetime.datetime(2021, 6, 3, 15, 12, 55, 635385), '국회의원 132명, 일본 올림픽 페이지 독도 표기 규탄 성명', 'https://news.naver.com/main/read.nhn?mode=LSD&mid=shm&sid1=100&oid=025&aid=0003106781'), (datetime.datetime(2021, 6, 3, 15, 12, 55, 635385), '화이자사 \"대구시 제안한 화이자 백신 가짜 의심···법적 조치 취할 예정\"', 'https://news.naver.com/main/read.nhn?mode=LSD&mid=shm&sid1=102&oid=032&aid=0003077966'), (datetime.datetime(2021, 6, 3, 15, 12, 55, 636391), '하정우, 프로포폴 벌금형…“겸허히 받아들이겠다” 사과 [전문]', 'https://news.naver.com/main/read.nhn?mode=LSD&mid=shm&sid1=102&oid=057&aid=0001581700'), (datetime.datetime(2021, 6, 3, 15, 12, 55, 636391), '\"2850% 폭등한 AMC처럼\"…한국판 \\'공매도 전쟁\\' 가능할까?', 'https://news.naver.com/main/read.nhn?mode=LSD&mid=shm&sid1=101&oid=015&aid=0004556640'), (datetime.datetime(2021, 6, 3, 15, 12, 55, 636391), '‘좀비기업’ 34.5%, 2013년 이후 최대', 'https://news.naver.com/main/read.nhn?mode=LSD&mid=shm&sid1=101&oid=032&aid=0003077980')]\n",
      "200\n",
      "[(datetime.datetime(2021, 6, 3, 15, 13, 0, 948707), '이용구 \"택시기사에 거듭 사과...영상 유포 우려해 삭제 요청\"', 'https://news.naver.com/main/read.nhn?mode=LSD&mid=shm&sid1=102&oid=052&aid=0001596289'), (datetime.datetime(2021, 6, 3, 15, 13, 0, 948707), \"'아워홈' 구본성 부회장, 보복운전으로 1심 집행유예\", 'https://news.naver.com/main/read.nhn?mode=LSD&mid=shm&sid1=102&oid=055&aid=0000898401'), (datetime.datetime(2021, 6, 3, 15, 13, 0, 948707), '尹측, 장모 겨눈 송영길·정세균에 \"정치인 도 넘은 비방…적극 대응\"', 'https://news.naver.com/main/read.nhn?mode=LSD&mid=shm&sid1=100&oid=421&aid=0005391022'), (datetime.datetime(2021, 6, 3, 15, 13, 0, 948707), 'SK, 美청록수소 생산기업 투자...수소 생태계 확장', 'https://news.naver.com/main/read.nhn?mode=LSD&mid=shm&sid1=101&oid=014&aid=0004650533'), (datetime.datetime(2021, 6, 3, 15, 13, 0, 948707), '비 내리며 더위 주춤...곳곳 돌풍·벼락 동반[날씨]', 'https://news.naver.com/main/read.nhn?mode=LSD&mid=shm&sid1=103&oid=052&aid=0001596353')]\n",
      "200\n",
      "[(datetime.datetime(2021, 6, 3, 15, 13, 1, 144689), '이용구 \"택시기사에 거듭 사과...영상 유포 우려해 삭제 요청\"', 'https://news.naver.com/main/read.nhn?mode=LSD&mid=shm&sid1=102&oid=052&aid=0001596289'), (datetime.datetime(2021, 6, 3, 15, 13, 1, 144689), '‘LG家 3세’ 아워홈 구본성 부회장, 보복운전 1심 집행유예', 'https://news.naver.com/main/read.nhn?mode=LSD&mid=shm&sid1=102&oid=081&aid=0003191368'), (datetime.datetime(2021, 6, 3, 15, 13, 1, 144689), '尹측, 장모 겨눈 송영길·정세균에 \"정치인 도 넘은 비방…적극 대응\"', 'https://news.naver.com/main/read.nhn?mode=LSD&mid=shm&sid1=100&oid=421&aid=0005391022'), (datetime.datetime(2021, 6, 3, 15, 13, 1, 144689), 'SK, 美청록수소 생산기업 투자...수소 생태계 확장', 'https://news.naver.com/main/read.nhn?mode=LSD&mid=shm&sid1=101&oid=014&aid=0004650533'), (datetime.datetime(2021, 6, 3, 15, 13, 1, 144689), '비 내리며 더위 주춤...곳곳 돌풍·벼락 동반[날씨]', 'https://news.naver.com/main/read.nhn?mode=LSD&mid=shm&sid1=103&oid=052&aid=0001596353')]\n",
      "200\n",
      "[(datetime.datetime(2021, 6, 3, 15, 13, 1, 288879), '이용구 \"택시기사에 거듭 사과...영상 유포 우려해 삭제 요청\"', 'https://news.naver.com/main/read.nhn?mode=LSD&mid=shm&sid1=102&oid=052&aid=0001596289'), (datetime.datetime(2021, 6, 3, 15, 13, 1, 288879), \"'아워홈' 구본성 부회장, 보복운전으로 1심 집행유예\", 'https://news.naver.com/main/read.nhn?mode=LSD&mid=shm&sid1=102&oid=055&aid=0000898401'), (datetime.datetime(2021, 6, 3, 15, 13, 1, 288879), '尹측, 장모 겨눈 송영길·정세균에 \"정치인 도 넘은 비방…적극 대응\"', 'https://news.naver.com/main/read.nhn?mode=LSD&mid=shm&sid1=100&oid=421&aid=0005391022'), (datetime.datetime(2021, 6, 3, 15, 13, 1, 288879), 'SK, 美청록수소 생산기업 투자...수소 생태계 확장', 'https://news.naver.com/main/read.nhn?mode=LSD&mid=shm&sid1=101&oid=014&aid=0004650533'), (datetime.datetime(2021, 6, 3, 15, 13, 1, 288879), '비 내리며 더위 주춤...곳곳 돌풍·벼락 동반[날씨]', 'https://news.naver.com/main/read.nhn?mode=LSD&mid=shm&sid1=103&oid=052&aid=0001596353')]\n",
      "200\n",
      "[(datetime.datetime(2021, 6, 3, 15, 13, 1, 450801), '이용구 \"택시기사에 거듭 사과...영상 유포 우려해 삭제 요청\"', 'https://news.naver.com/main/read.nhn?mode=LSD&mid=shm&sid1=102&oid=052&aid=0001596289'), (datetime.datetime(2021, 6, 3, 15, 13, 1, 450801), \"'아워홈' 구본성 부회장, 보복운전으로 1심 집행유예\", 'https://news.naver.com/main/read.nhn?mode=LSD&mid=shm&sid1=102&oid=055&aid=0000898401'), (datetime.datetime(2021, 6, 3, 15, 13, 1, 450801), '尹측, 장모 겨눈 송영길·정세균에 \"정치인 도 넘은 비방…적극 대응\"', 'https://news.naver.com/main/read.nhn?mode=LSD&mid=shm&sid1=100&oid=421&aid=0005391022'), (datetime.datetime(2021, 6, 3, 15, 13, 1, 450801), 'SK, 美청록수소 생산기업 투자...수소 생태계 확장', 'https://news.naver.com/main/read.nhn?mode=LSD&mid=shm&sid1=101&oid=014&aid=0004650533'), (datetime.datetime(2021, 6, 3, 15, 13, 1, 450801), '비 내리며 더위 주춤...곳곳 돌풍·벼락 동반[날씨]', 'https://news.naver.com/main/read.nhn?mode=LSD&mid=shm&sid1=103&oid=052&aid=0001596353')]\n",
      "200\n",
      "[(datetime.datetime(2021, 6, 3, 15, 13, 6, 649054), '오늘 또 비 소식…더위 주춤[굿모닝 날씨]', 'https://news.naver.com/main/read.nhn?mode=LSD&mid=shm&sid1=103&oid=056&aid=0011056458'), (datetime.datetime(2021, 6, 3, 15, 13, 6, 649054), '정부 “대구시 주선 화이자 백신 진위 의심…구매 안해”', 'https://news.naver.com/main/read.nhn?mode=LSD&mid=shm&sid1=102&oid=005&aid=0001444595'), (datetime.datetime(2021, 6, 3, 15, 13, 6, 649054), '기업 100곳 중 35곳은 이자도 못 내···코로나19에 역대 최대', 'https://news.naver.com/main/read.nhn?mode=LSD&mid=shm&sid1=101&oid=011&aid=0003918585'), (datetime.datetime(2021, 6, 3, 15, 13, 6, 649054), '문 대통령 “내부단합·외연확장 때 지지 만들어져”', 'https://news.naver.com/main/read.nhn?mode=LSD&mid=shm&sid1=100&oid=056&aid=0011056643'), (datetime.datetime(2021, 6, 3, 15, 13, 6, 649054), '증권사 1분기 순익 3조 육박...역대 분기 실적 또 경신', 'https://news.naver.com/main/read.nhn?mode=LSD&mid=shm&sid1=101&oid=277&aid=0004913997')]\n",
      "200\n",
      "[(datetime.datetime(2021, 6, 3, 15, 13, 6, 792215), '오늘 또 비 소식…더위 주춤[굿모닝 날씨]', 'https://news.naver.com/main/read.nhn?mode=LSD&mid=shm&sid1=103&oid=056&aid=0011056458'), (datetime.datetime(2021, 6, 3, 15, 13, 6, 792215), '정부 “대구시 주선 화이자 백신 진위 의심…구매 안해”', 'https://news.naver.com/main/read.nhn?mode=LSD&mid=shm&sid1=102&oid=005&aid=0001444595'), (datetime.datetime(2021, 6, 3, 15, 13, 6, 792215), '기업 100곳 중 35곳은 이자도 못 내···코로나19에 역대 최대', 'https://news.naver.com/main/read.nhn?mode=LSD&mid=shm&sid1=101&oid=011&aid=0003918585'), (datetime.datetime(2021, 6, 3, 15, 13, 6, 792215), '문 대통령 “내부단합·외연확장 때 지지 만들어져”', 'https://news.naver.com/main/read.nhn?mode=LSD&mid=shm&sid1=100&oid=056&aid=0011056643'), (datetime.datetime(2021, 6, 3, 15, 13, 6, 792215), '증권사 1분기 순익 3조 육박...역대 분기 실적 또 경신', 'https://news.naver.com/main/read.nhn?mode=LSD&mid=shm&sid1=101&oid=277&aid=0004913997')]\n",
      "200\n",
      "[(datetime.datetime(2021, 6, 3, 15, 13, 11, 944056), '이용구 \"택시기사 합의금 1천만원…영상삭제 대가 아냐\"(종합)', 'https://news.naver.com/main/read.nhn?mode=LSD&mid=shm&sid1=102&oid=003&aid=0010531369'), (datetime.datetime(2021, 6, 3, 15, 13, 11, 944056), '공매도 재개 한달…금융당국 \"주가와 유의미한 관계 안 나타나\"', 'https://news.naver.com/main/read.nhn?mode=LSD&mid=shm&sid1=101&oid=001&aid=0012435681'), (datetime.datetime(2021, 6, 3, 15, 13, 11, 944056), '文대통령 “공군 女부사관 사건, 가슴 아파”…엄정 수사 지시', 'https://news.naver.com/main/read.nhn?mode=LSD&mid=shm&sid1=100&oid=020&aid=0003361610'), (datetime.datetime(2021, 6, 3, 15, 13, 11, 944056), '‘네이버 통유리 사옥’ 빛 반사 피해 인정… 파기환송', 'https://news.naver.com/main/read.nhn?mode=LSD&mid=shm&sid1=102&oid=005&aid=0001444616'), (datetime.datetime(2021, 6, 3, 15, 13, 11, 944056), '주식 열풍에 증권사 1분기 순익 3조…사상 최대 경신', 'https://news.naver.com/main/read.nhn?mode=LSD&mid=shm&sid1=101&oid=001&aid=0012435461')]\n",
      "200\n",
      "[(datetime.datetime(2021, 6, 3, 15, 13, 12, 87124), '이용구 \"택시기사 합의금 1천만원…영상삭제 대가 아냐\"(종합)', 'https://news.naver.com/main/read.nhn?mode=LSD&mid=shm&sid1=102&oid=003&aid=0010531369'), (datetime.datetime(2021, 6, 3, 15, 13, 12, 87124), '공매도 재개 한달…금융당국 \"주가와 유의미한 관계 안 나타나\"', 'https://news.naver.com/main/read.nhn?mode=LSD&mid=shm&sid1=101&oid=001&aid=0012435681'), (datetime.datetime(2021, 6, 3, 15, 13, 12, 88123), '文대통령 “공군 女부사관 사건, 가슴 아파”…엄정 수사 지시', 'https://news.naver.com/main/read.nhn?mode=LSD&mid=shm&sid1=100&oid=020&aid=0003361610'), (datetime.datetime(2021, 6, 3, 15, 13, 12, 88123), '‘네이버 통유리 사옥’ 빛 반사 피해 인정… 파기환송', 'https://news.naver.com/main/read.nhn?mode=LSD&mid=shm&sid1=102&oid=005&aid=0001444616'), (datetime.datetime(2021, 6, 3, 15, 13, 12, 88123), '주식 열풍에 증권사 1분기 순익 3조…사상 최대 경신', 'https://news.naver.com/main/read.nhn?mode=LSD&mid=shm&sid1=101&oid=001&aid=0012435461')]\n"
     ]
    },
    {
     "name": "stdout",
     "output_type": "stream",
     "text": [
      "200\n",
      "[(datetime.datetime(2021, 6, 3, 15, 13, 12, 308006), '이용구 \"택시기사 합의금 1천만원…영상삭제 대가 아냐\"(종합)', 'https://news.naver.com/main/read.nhn?mode=LSD&mid=shm&sid1=102&oid=003&aid=0010531369'), (datetime.datetime(2021, 6, 3, 15, 13, 12, 308006), '공매도 재개 한달…금융당국 \"주가와 유의미한 관계 안 나타나\"', 'https://news.naver.com/main/read.nhn?mode=LSD&mid=shm&sid1=101&oid=001&aid=0012435681'), (datetime.datetime(2021, 6, 3, 15, 13, 12, 308006), '文대통령 “공군 女부사관 사건, 가슴 아파”…엄정 수사 지시', 'https://news.naver.com/main/read.nhn?mode=LSD&mid=shm&sid1=100&oid=020&aid=0003361610'), (datetime.datetime(2021, 6, 3, 15, 13, 12, 308006), '‘네이버 통유리 사옥’ 빛 반사 피해 인정… 파기환송', 'https://news.naver.com/main/read.nhn?mode=LSD&mid=shm&sid1=102&oid=005&aid=0001444616'), (datetime.datetime(2021, 6, 3, 15, 13, 12, 308006), '주식 열풍에 증권사 1분기 순익 3조…사상 최대 경신', 'https://news.naver.com/main/read.nhn?mode=LSD&mid=shm&sid1=101&oid=001&aid=0012435461')]\n",
      "200\n",
      "[(datetime.datetime(2021, 6, 3, 15, 13, 12, 448706), '이용구 \"택시기사 합의금 1천만원…영상삭제 대가 아냐\"(종합)', 'https://news.naver.com/main/read.nhn?mode=LSD&mid=shm&sid1=102&oid=003&aid=0010531369'), (datetime.datetime(2021, 6, 3, 15, 13, 12, 448706), '공매도 재개 한달…금융당국 \"주가와 유의미한 관계 안 나타나\"', 'https://news.naver.com/main/read.nhn?mode=LSD&mid=shm&sid1=101&oid=001&aid=0012435681'), (datetime.datetime(2021, 6, 3, 15, 13, 12, 448706), '文대통령 “공군 女부사관 사건, 가슴 아파”…엄정 수사 지시', 'https://news.naver.com/main/read.nhn?mode=LSD&mid=shm&sid1=100&oid=020&aid=0003361610'), (datetime.datetime(2021, 6, 3, 15, 13, 12, 448706), '‘네이버 통유리 사옥’ 빛 반사 피해 인정… 파기환송', 'https://news.naver.com/main/read.nhn?mode=LSD&mid=shm&sid1=102&oid=005&aid=0001444616'), (datetime.datetime(2021, 6, 3, 15, 13, 12, 449706), '주식 열풍에 증권사 1분기 순익 3조…사상 최대 경신', 'https://news.naver.com/main/read.nhn?mode=LSD&mid=shm&sid1=101&oid=001&aid=0012435461')]\n",
      "200\n",
      "[(datetime.datetime(2021, 6, 3, 15, 13, 17, 596723), '주식 열풍에 증권사 1분기 순익 3조…사상 최대 경신', 'https://news.naver.com/main/read.nhn?mode=LSD&mid=shm&sid1=101&oid=001&aid=0012435461'), (datetime.datetime(2021, 6, 3, 15, 13, 17, 596723), '공정위 M&A 심사대상 개정…\"인수금액 6천억 + 월 100만명 이용\"', 'https://news.naver.com/main/read.nhn?mode=LSD&mid=shm&sid1=101&oid=001&aid=0012435455'), (datetime.datetime(2021, 6, 3, 15, 13, 17, 596723), '전국 곳곳에 벼락·강풍 동반한 요란한 비...언제 그칠까[날씨]', 'https://news.naver.com/main/read.nhn?mode=LSD&mid=shm&sid1=103&oid=052&aid=0001596471'), (datetime.datetime(2021, 6, 3, 15, 13, 17, 596723), '대법 \"통유리 네이버 사옥, 태양반사광 생활 방해 인정\"', 'https://news.naver.com/main/read.nhn?mode=LSD&mid=shm&sid1=102&oid=032&aid=0003077959'), (datetime.datetime(2021, 6, 3, 15, 13, 17, 596723), '“하지마세요” 블랙박스 속 女부사관 절규 무시한 공군…수사심의위 열린다', 'https://news.naver.com/main/read.nhn?mode=LSD&mid=shm&sid1=102&oid=016&aid=0001843693')]\n",
      "200\n",
      "[(datetime.datetime(2021, 6, 3, 15, 13, 17, 758217), '주식 열풍에 증권사 1분기 순익 3조…사상 최대 경신', 'https://news.naver.com/main/read.nhn?mode=LSD&mid=shm&sid1=101&oid=001&aid=0012435461'), (datetime.datetime(2021, 6, 3, 15, 13, 17, 758217), '공정위 M&A 심사대상 개정…\"인수금액 6천억 + 월 100만명 이용\"', 'https://news.naver.com/main/read.nhn?mode=LSD&mid=shm&sid1=101&oid=001&aid=0012435455'), (datetime.datetime(2021, 6, 3, 15, 13, 17, 758217), '전국 곳곳에 벼락·강풍 동반한 요란한 비...언제 그칠까[날씨]', 'https://news.naver.com/main/read.nhn?mode=LSD&mid=shm&sid1=103&oid=052&aid=0001596471'), (datetime.datetime(2021, 6, 3, 15, 13, 17, 758217), '대법 \"통유리 네이버 사옥, 태양반사광 생활 방해 인정\"', 'https://news.naver.com/main/read.nhn?mode=LSD&mid=shm&sid1=102&oid=032&aid=0003077959'), (datetime.datetime(2021, 6, 3, 15, 13, 17, 758217), '“하지마세요” 블랙박스 속 女부사관 절규 무시한 공군…수사심의위 열린다', 'https://news.naver.com/main/read.nhn?mode=LSD&mid=shm&sid1=102&oid=016&aid=0001843693')]\n",
      "200\n",
      "[(datetime.datetime(2021, 6, 3, 15, 13, 22, 977106), '더불어민주당, “도쿄 올림픽 조직위 ‘독도 표기’ 규탄” 성명', 'https://news.naver.com/main/read.nhn?mode=LSD&mid=shm&sid1=100&oid=056&aid=0011056597'), (datetime.datetime(2021, 6, 3, 15, 13, 22, 977106), '\\'뜨거운 감자\\' 공매도…금융위 \"원활하게 안착했다\"', 'https://news.naver.com/main/read.nhn?mode=LSD&mid=shm&sid1=101&oid=008&aid=0004596729'), (datetime.datetime(2021, 6, 3, 15, 13, 22, 977106), \"대법원, '네이버 사옥 반사광' 피해 호소 주민들 손 들어줬다\", 'https://news.naver.com/main/read.nhn?mode=LSD&mid=shm&sid1=102&oid=022&aid=0003587139'), (datetime.datetime(2021, 6, 3, 15, 13, 22, 977106), '기업 3곳 중 1곳 돈 벌어 이자도 못 갚아…매출액 2년째 뒷걸음질', 'https://news.naver.com/main/read.nhn?mode=LSD&mid=shm&sid1=101&oid=056&aid=0011056569'), (datetime.datetime(2021, 6, 3, 15, 13, 22, 977106), '女부사관 성폭력 사건 일파만파에 文 \"엄정 처리\" 지시', 'https://news.naver.com/main/read.nhn?mode=LSD&mid=shm&sid1=100&oid=009&aid=0004803578')]\n",
      "200\n",
      "[(datetime.datetime(2021, 6, 3, 15, 13, 23, 142064), '더불어민주당, “도쿄 올림픽 조직위 ‘독도 표기’ 규탄” 성명', 'https://news.naver.com/main/read.nhn?mode=LSD&mid=shm&sid1=100&oid=056&aid=0011056597'), (datetime.datetime(2021, 6, 3, 15, 13, 23, 142064), '\\'뜨거운 감자\\' 공매도…금융위 \"원활하게 안착했다\"', 'https://news.naver.com/main/read.nhn?mode=LSD&mid=shm&sid1=101&oid=008&aid=0004596729'), (datetime.datetime(2021, 6, 3, 15, 13, 23, 142064), \"대법원, '네이버 사옥 반사광' 피해 호소 주민들 손 들어줬다\", 'https://news.naver.com/main/read.nhn?mode=LSD&mid=shm&sid1=102&oid=022&aid=0003587139'), (datetime.datetime(2021, 6, 3, 15, 13, 23, 142064), '기업 3곳 중 1곳 돈 벌어 이자도 못 갚아…매출액 2년째 뒷걸음질', 'https://news.naver.com/main/read.nhn?mode=LSD&mid=shm&sid1=101&oid=056&aid=0011056569'), (datetime.datetime(2021, 6, 3, 15, 13, 23, 142064), '女부사관 성폭력 사건 일파만파에 文 \"엄정 처리\" 지시', 'https://news.naver.com/main/read.nhn?mode=LSD&mid=shm&sid1=100&oid=009&aid=0004803578')]\n",
      "200\n",
      "[(datetime.datetime(2021, 6, 3, 15, 13, 23, 278329), '더불어민주당, “도쿄 올림픽 조직위 ‘독도 표기’ 규탄” 성명', 'https://news.naver.com/main/read.nhn?mode=LSD&mid=shm&sid1=100&oid=056&aid=0011056597'), (datetime.datetime(2021, 6, 3, 15, 13, 23, 278329), '\\'뜨거운 감자\\' 공매도…금융위 \"원활하게 안착했다\"', 'https://news.naver.com/main/read.nhn?mode=LSD&mid=shm&sid1=101&oid=008&aid=0004596729'), (datetime.datetime(2021, 6, 3, 15, 13, 23, 278329), \"대법원, '네이버 사옥 반사광' 피해 호소 주민들 손 들어줬다\", 'https://news.naver.com/main/read.nhn?mode=LSD&mid=shm&sid1=102&oid=022&aid=0003587139'), (datetime.datetime(2021, 6, 3, 15, 13, 23, 278329), '기업 3곳 중 1곳 돈 벌어 이자도 못 갚아…매출액 2년째 뒷걸음질', 'https://news.naver.com/main/read.nhn?mode=LSD&mid=shm&sid1=101&oid=056&aid=0011056569'), (datetime.datetime(2021, 6, 3, 15, 13, 23, 278329), '女부사관 성폭력 사건 일파만파에 文 \"엄정 처리\" 지시', 'https://news.naver.com/main/read.nhn?mode=LSD&mid=shm&sid1=100&oid=009&aid=0004803578')]\n",
      "200\n",
      "[(datetime.datetime(2021, 6, 3, 15, 13, 23, 420275), '더불어민주당, “도쿄 올림픽 조직위 ‘독도 표기’ 규탄” 성명', 'https://news.naver.com/main/read.nhn?mode=LSD&mid=shm&sid1=100&oid=056&aid=0011056597'), (datetime.datetime(2021, 6, 3, 15, 13, 23, 420275), '\\'뜨거운 감자\\' 공매도…금융위 \"원활하게 안착했다\"', 'https://news.naver.com/main/read.nhn?mode=LSD&mid=shm&sid1=101&oid=008&aid=0004596729'), (datetime.datetime(2021, 6, 3, 15, 13, 23, 421293), \"대법원, '네이버 사옥 반사광' 피해 호소 주민들 손 들어줬다\", 'https://news.naver.com/main/read.nhn?mode=LSD&mid=shm&sid1=102&oid=022&aid=0003587139'), (datetime.datetime(2021, 6, 3, 15, 13, 23, 421293), '기업 3곳 중 1곳 돈 벌어 이자도 못 갚아…매출액 2년째 뒷걸음질', 'https://news.naver.com/main/read.nhn?mode=LSD&mid=shm&sid1=101&oid=056&aid=0011056569'), (datetime.datetime(2021, 6, 3, 15, 13, 23, 421293), '女부사관 성폭력 사건 일파만파에 文 \"엄정 처리\" 지시', 'https://news.naver.com/main/read.nhn?mode=LSD&mid=shm&sid1=100&oid=009&aid=0004803578')]\n",
      "200\n",
      "[(datetime.datetime(2021, 6, 3, 15, 13, 28, 675040), '문대통령, 女부사관 사건 엄정수사 지시…\"최상급자까지\"(종합2보)', 'https://news.naver.com/main/read.nhn?mode=LSD&mid=shm&sid1=100&oid=001&aid=0012435504'), (datetime.datetime(2021, 6, 3, 15, 13, 28, 675040), \"국방부 '군검찰 수사심의위' 설치…부사관 사망 사건부터 적용\", 'https://news.naver.com/main/read.nhn?mode=LSD&mid=shm&sid1=100&oid=421&aid=0005391225'), (datetime.datetime(2021, 6, 3, 15, 13, 28, 675040), '\\'이용구 폭행 영상\\' 본 법조인들 \"단순폭행 아닌 특가법 적용해야\"', 'https://news.naver.com/main/read.nhn?mode=LSD&mid=shm&sid1=102&oid=008&aid=0004596748'), (datetime.datetime(2021, 6, 3, 15, 13, 28, 675040), '정부 \"대구 주선 화이자 백신 \\'직구\\' 추진 안해\" (종합)', 'https://news.naver.com/main/read.nhn?mode=LSD&mid=shm&sid1=102&oid=011&aid=0003918587'), (datetime.datetime(2021, 6, 3, 15, 13, 28, 676040), '윤건영 “올림픽 보이콧 생각해야” VS 최문순 “日 전술에 말려드는 것”', 'https://news.naver.com/main/read.nhn?mode=LSD&mid=shm&sid1=100&oid=022&aid=0003587146')]\n",
      "200\n",
      "[(datetime.datetime(2021, 6, 3, 15, 13, 28, 815377), '문대통령, 女부사관 사건 엄정수사 지시…\"최상급자까지\"(종합2보)', 'https://news.naver.com/main/read.nhn?mode=LSD&mid=shm&sid1=100&oid=001&aid=0012435504'), (datetime.datetime(2021, 6, 3, 15, 13, 28, 815377), \"국방부 '군검찰 수사심의위' 설치…부사관 사망 사건부터 적용\", 'https://news.naver.com/main/read.nhn?mode=LSD&mid=shm&sid1=100&oid=421&aid=0005391225'), (datetime.datetime(2021, 6, 3, 15, 13, 28, 816384), '\\'이용구 폭행 영상\\' 본 법조인들 \"단순폭행 아닌 특가법 적용해야\"', 'https://news.naver.com/main/read.nhn?mode=LSD&mid=shm&sid1=102&oid=008&aid=0004596748'), (datetime.datetime(2021, 6, 3, 15, 13, 28, 816384), '정부 \"대구 주선 화이자 백신 \\'직구\\' 추진 안해\" (종합)', 'https://news.naver.com/main/read.nhn?mode=LSD&mid=shm&sid1=102&oid=011&aid=0003918587'), (datetime.datetime(2021, 6, 3, 15, 13, 28, 816384), '윤건영 “올림픽 보이콧 생각해야” VS 최문순 “日 전술에 말려드는 것”', 'https://news.naver.com/main/read.nhn?mode=LSD&mid=shm&sid1=100&oid=022&aid=0003587146')]\n"
     ]
    },
    {
     "name": "stdout",
     "output_type": "stream",
     "text": [
      "200\n",
      "[(datetime.datetime(2021, 6, 3, 15, 13, 34, 60715), '軍 검찰 수사심의위 설치·운영...민간 전문가 참여', 'https://news.naver.com/main/read.nhn?mode=LSD&mid=shm&sid1=100&oid=052&aid=0001596318'), (datetime.datetime(2021, 6, 3, 15, 13, 34, 60715), \"'반사광 최대 2.9만배' 네이버 유리사옥 법정다툼, 주민들 이겼다\", 'https://news.naver.com/main/read.nhn?mode=LSD&mid=shm&sid1=102&oid=008&aid=0004596631'), (datetime.datetime(2021, 6, 3, 15, 13, 34, 60715), '이용구 \"1천만 원은 합의금…영상 삭제 대가 아냐\"', 'https://news.naver.com/main/read.nhn?mode=LSD&mid=shm&sid1=102&oid=214&aid=0001122797'), (datetime.datetime(2021, 6, 3, 15, 13, 34, 60715), \"화이자 2번 맞았는데…국내 '돌파감염' 총 9명\", 'https://news.naver.com/main/read.nhn?mode=LSD&mid=shm&sid1=102&oid=215&aid=0000962328'), (datetime.datetime(2021, 6, 3, 15, 13, 34, 61715), '文 \"성추행 피해 부사관의 절망, 가슴 아파… 엄정 수사·조치하라\"', 'https://news.naver.com/main/read.nhn?mode=LSD&mid=shm&sid1=100&oid=469&aid=0000608514')]\n",
      "200\n",
      "[(datetime.datetime(2021, 6, 3, 15, 13, 34, 232527), '軍 검찰 수사심의위 설치·운영...민간 전문가 참여', 'https://news.naver.com/main/read.nhn?mode=LSD&mid=shm&sid1=100&oid=052&aid=0001596318'), (datetime.datetime(2021, 6, 3, 15, 13, 34, 232527), \"'반사광 최대 2.9만배' 네이버 유리사옥 법정다툼, 주민들 이겼다\", 'https://news.naver.com/main/read.nhn?mode=LSD&mid=shm&sid1=102&oid=008&aid=0004596631'), (datetime.datetime(2021, 6, 3, 15, 13, 34, 233543), '이용구 \"1천만 원은 합의금…영상 삭제 대가 아냐\"', 'https://news.naver.com/main/read.nhn?mode=LSD&mid=shm&sid1=102&oid=214&aid=0001122797'), (datetime.datetime(2021, 6, 3, 15, 13, 34, 233543), \"화이자 2번 맞았는데…국내 '돌파감염' 총 9명\", 'https://news.naver.com/main/read.nhn?mode=LSD&mid=shm&sid1=102&oid=215&aid=0000962328'), (datetime.datetime(2021, 6, 3, 15, 13, 34, 233543), '文 \"성추행 피해 부사관의 절망, 가슴 아파… 엄정 수사·조치하라\"', 'https://news.naver.com/main/read.nhn?mode=LSD&mid=shm&sid1=100&oid=469&aid=0000608514')]\n",
      "200\n",
      "[(datetime.datetime(2021, 6, 3, 15, 13, 34, 377525), '軍 검찰 수사심의위 설치·운영...민간 전문가 참여', 'https://news.naver.com/main/read.nhn?mode=LSD&mid=shm&sid1=100&oid=052&aid=0001596318'), (datetime.datetime(2021, 6, 3, 15, 13, 34, 377525), \"'반사광 최대 2.9만배' 네이버 유리사옥 법정다툼, 주민들 이겼다\", 'https://news.naver.com/main/read.nhn?mode=LSD&mid=shm&sid1=102&oid=008&aid=0004596631'), (datetime.datetime(2021, 6, 3, 15, 13, 34, 377525), '이용구 \"1천만 원은 합의금…영상 삭제 대가 아냐\"', 'https://news.naver.com/main/read.nhn?mode=LSD&mid=shm&sid1=102&oid=214&aid=0001122797'), (datetime.datetime(2021, 6, 3, 15, 13, 34, 377525), \"화이자 2번 맞았는데…국내 '돌파감염' 총 9명\", 'https://news.naver.com/main/read.nhn?mode=LSD&mid=shm&sid1=102&oid=215&aid=0000962328'), (datetime.datetime(2021, 6, 3, 15, 13, 34, 377525), '文 \"성추행 피해 부사관의 절망, 가슴 아파… 엄정 수사·조치하라\"', 'https://news.naver.com/main/read.nhn?mode=LSD&mid=shm&sid1=100&oid=469&aid=0000608514')]\n",
      "200\n",
      "[(datetime.datetime(2021, 6, 3, 15, 13, 34, 514524), '대구시 독자 백신 확보 추진에...정부 \"사기 가능성 있다\"', 'https://news.naver.com/main/read.nhn?mode=LSD&mid=shm&sid1=102&oid=469&aid=0000608528'), (datetime.datetime(2021, 6, 3, 15, 13, 34, 514524), '코로나19 대응 중앙방역대책본부 브리핑', 'https://news.naver.com/main/read.nhn?mode=LSD&mid=shm&sid1=102&oid=214&aid=0001122865'), (datetime.datetime(2021, 6, 3, 15, 13, 34, 514524), '女부사관 성폭력 사건 일파만파에 文 \"엄정 처리\" 지시', 'https://news.naver.com/main/read.nhn?mode=LSD&mid=shm&sid1=100&oid=009&aid=0004803578'), (datetime.datetime(2021, 6, 3, 15, 13, 34, 515524), '이용구 “1000만원은 영상 삭제 대가 아니다”', 'https://news.naver.com/main/read.nhn?mode=LSD&mid=shm&sid1=102&oid=366&aid=0000727190'), (datetime.datetime(2021, 6, 3, 15, 13, 34, 515524), '‘인수금액 6000억 + 월 100만명 이용’ 공정위 M&A 심사 대상', 'https://news.naver.com/main/read.nhn?mode=LSD&mid=shm&sid1=101&oid=016&aid=0001843841')]\n",
      "200\n",
      "[(datetime.datetime(2021, 6, 3, 15, 13, 39, 691557), '윤석열 측 “일부 정치인 도 넘은 언행…적절한 대응 나설 것”', 'https://news.naver.com/main/read.nhn?mode=LSD&mid=shm&sid1=100&oid=056&aid=0011056498'), (datetime.datetime(2021, 6, 3, 15, 13, 39, 691557), '‘보복운전’ 범LG가 3세 구본성 부회장 1심서 집행유예', 'https://news.naver.com/main/read.nhn?mode=LSD&mid=shm&sid1=102&oid=056&aid=0011056645'), (datetime.datetime(2021, 6, 3, 15, 13, 39, 691557), '기업 3곳 중 1곳 돈 벌어 이자도 못 갚아…매출액 2년째 뒷걸음질', 'https://news.naver.com/main/read.nhn?mode=LSD&mid=shm&sid1=101&oid=056&aid=0011056569'), (datetime.datetime(2021, 6, 3, 15, 13, 39, 691557), '정부 \"대구시 주선 화이자 백신 진위 의심…구매 안한다\"', 'https://news.naver.com/main/read.nhn?mode=LSD&mid=shm&sid1=102&oid=001&aid=0012435457'), (datetime.datetime(2021, 6, 3, 15, 13, 39, 692557), \"국방부, '공군 성추행 피해자 사망사건' 수사심의위 설치키로\", 'https://news.naver.com/main/read.nhn?mode=LSD&mid=shm&sid1=100&oid=015&aid=0004556562')]\n",
      "200\n",
      "[(datetime.datetime(2021, 6, 3, 15, 13, 39, 845084), '윤석열 측 “일부 정치인 도 넘은 언행…적절한 대응 나설 것”', 'https://news.naver.com/main/read.nhn?mode=LSD&mid=shm&sid1=100&oid=056&aid=0011056498'), (datetime.datetime(2021, 6, 3, 15, 13, 39, 846084), \"'보복운전 혐의' 아워홈 구본성 부회장…1심서 집행유예\", 'https://news.naver.com/main/read.nhn?mode=LSD&mid=shm&sid1=102&oid=003&aid=0010532136'), (datetime.datetime(2021, 6, 3, 15, 13, 39, 846084), '기업 3곳 중 1곳 돈 벌어 이자도 못 갚아…매출액 2년째 뒷걸음질', 'https://news.naver.com/main/read.nhn?mode=LSD&mid=shm&sid1=101&oid=056&aid=0011056569'), (datetime.datetime(2021, 6, 3, 15, 13, 39, 846084), '정부 \"대구시 주선 화이자 백신 진위 의심…구매 안한다\"', 'https://news.naver.com/main/read.nhn?mode=LSD&mid=shm&sid1=102&oid=001&aid=0012435457'), (datetime.datetime(2021, 6, 3, 15, 13, 39, 846084), \"국방부, '공군 성추행 피해자 사망사건' 수사심의위 설치키로\", 'https://news.naver.com/main/read.nhn?mode=LSD&mid=shm&sid1=100&oid=015&aid=0004556562')]\n",
      "200\n",
      "[(datetime.datetime(2021, 6, 3, 15, 13, 45, 125370), 'SK㈜, 美 수소기업 모놀리스에 투자…청록수소 사업 진출', 'https://news.naver.com/main/read.nhn?mode=LSD&mid=shm&sid1=101&oid=025&aid=0003106829'), (datetime.datetime(2021, 6, 3, 15, 13, 45, 126370), '국회의원 132명, 일본 올림픽 페이지 독도 표기 규탄 성명', 'https://news.naver.com/main/read.nhn?mode=LSD&mid=shm&sid1=100&oid=025&aid=0003106781'), (datetime.datetime(2021, 6, 3, 15, 13, 45, 126370), '\"2850% 폭등한 AMC처럼\"…한국판 \\'공매도 전쟁\\' 가능할까?', 'https://news.naver.com/main/read.nhn?mode=LSD&mid=shm&sid1=101&oid=015&aid=0004556640'), (datetime.datetime(2021, 6, 3, 15, 13, 45, 126370), '문 대통령 “내부단합·외연확장 때 지지 만들어져”', 'https://news.naver.com/main/read.nhn?mode=LSD&mid=shm&sid1=100&oid=056&aid=0011056643'), (datetime.datetime(2021, 6, 3, 15, 13, 45, 126370), '[속보] 이용구 \"택시기사에 거듭 사과...영상 유포 우려해 삭제 요청\"', 'https://news.naver.com/main/read.nhn?mode=LSD&mid=shm&sid1=102&oid=052&aid=0001596275')]\n",
      "200\n",
      "[(datetime.datetime(2021, 6, 3, 15, 13, 45, 266215), 'SK㈜, 美 수소기업 모놀리스에 투자…청록수소 사업 진출', 'https://news.naver.com/main/read.nhn?mode=LSD&mid=shm&sid1=101&oid=025&aid=0003106829'), (datetime.datetime(2021, 6, 3, 15, 13, 45, 266215), '국회의원 132명, 일본 올림픽 페이지 독도 표기 규탄 성명', 'https://news.naver.com/main/read.nhn?mode=LSD&mid=shm&sid1=100&oid=025&aid=0003106781'), (datetime.datetime(2021, 6, 3, 15, 13, 45, 266215), '\"2850% 폭등한 AMC처럼\"…한국판 \\'공매도 전쟁\\' 가능할까?', 'https://news.naver.com/main/read.nhn?mode=LSD&mid=shm&sid1=101&oid=015&aid=0004556640'), (datetime.datetime(2021, 6, 3, 15, 13, 45, 266215), '문 대통령 “내부단합·외연확장 때 지지 만들어져”', 'https://news.naver.com/main/read.nhn?mode=LSD&mid=shm&sid1=100&oid=056&aid=0011056643'), (datetime.datetime(2021, 6, 3, 15, 13, 45, 266215), '[속보] 이용구 \"택시기사에 거듭 사과...영상 유포 우려해 삭제 요청\"', 'https://news.naver.com/main/read.nhn?mode=LSD&mid=shm&sid1=102&oid=052&aid=0001596275')]\n",
      "200\n",
      "[(datetime.datetime(2021, 6, 3, 15, 13, 45, 411432), 'SK㈜, 美 수소기업 모놀리스에 투자…청록수소 사업 진출', 'https://news.naver.com/main/read.nhn?mode=LSD&mid=shm&sid1=101&oid=025&aid=0003106829'), (datetime.datetime(2021, 6, 3, 15, 13, 45, 411432), '국회의원 132명, 일본 올림픽 페이지 독도 표기 규탄 성명', 'https://news.naver.com/main/read.nhn?mode=LSD&mid=shm&sid1=100&oid=025&aid=0003106781'), (datetime.datetime(2021, 6, 3, 15, 13, 45, 412446), '\"2850% 폭등한 AMC처럼\"…한국판 \\'공매도 전쟁\\' 가능할까?', 'https://news.naver.com/main/read.nhn?mode=LSD&mid=shm&sid1=101&oid=015&aid=0004556640'), (datetime.datetime(2021, 6, 3, 15, 13, 45, 412446), '문 대통령 “내부단합·외연확장 때 지지 만들어져”', 'https://news.naver.com/main/read.nhn?mode=LSD&mid=shm&sid1=100&oid=056&aid=0011056643'), (datetime.datetime(2021, 6, 3, 15, 13, 45, 412446), '[속보] 이용구 \"택시기사에 거듭 사과...영상 유포 우려해 삭제 요청\"', 'https://news.naver.com/main/read.nhn?mode=LSD&mid=shm&sid1=102&oid=052&aid=0001596275')]\n",
      "200\n",
      "[(datetime.datetime(2021, 6, 3, 15, 13, 45, 596592), '軍 합동 수사단·민간인 포함 檢 수사심의위 구성', 'https://news.naver.com/main/read.nhn?mode=LSD&mid=shm&sid1=100&oid=052&aid=0001596389'), (datetime.datetime(2021, 6, 3, 15, 13, 45, 596592), '\"상반기 \\'1천300만명+α\\' 1차접종 가능…70∼74세 예약률 80.7%\"', 'https://news.naver.com/main/read.nhn?mode=LSD&mid=shm&sid1=100&oid=001&aid=0012435460'), (datetime.datetime(2021, 6, 3, 15, 13, 45, 596592), '정부 \"대구시 제안 화이자 진위 불분명...계약 추진 안 할 것\"', 'https://news.naver.com/main/read.nhn?mode=LSD&mid=shm&sid1=102&oid=025&aid=0003106805'), (datetime.datetime(2021, 6, 3, 15, 13, 45, 596592), '코로나로 식어버린 성장엔진, 작년 기업 매출 ‘역대 최악’…3곳 중 1곳은 이자도 못낸다', 'https://news.naver.com/main/read.nhn?mode=LSD&mid=shm&sid1=101&oid=025&aid=0003106813'), (datetime.datetime(2021, 6, 3, 15, 13, 45, 596592), '\"너 뭐야 XXX\" 이용구 폭행·욕설 담긴 블랙박스 영상 파문', 'https://news.naver.com/main/read.nhn?mode=LSD&mid=shm&sid1=102&oid=057&aid=0001581619')]\n"
     ]
    },
    {
     "name": "stdout",
     "output_type": "stream",
     "text": [
      "200\n",
      "[(datetime.datetime(2021, 6, 3, 15, 13, 50, 809089), '증권회사 1분기 영업실적 3조 원 육박…사상 최고', 'https://news.naver.com/main/read.nhn?mode=LSD&mid=shm&sid1=101&oid=056&aid=0011056573'), (datetime.datetime(2021, 6, 3, 15, 13, 50, 809089), \"'범LG家 3세' 아워홈 구본성, 보복운전으로 1심 집행유예\", 'https://news.naver.com/main/read.nhn?mode=LSD&mid=shm&sid1=102&oid=001&aid=0012435881'), (datetime.datetime(2021, 6, 3, 15, 13, 50, 810090), '‘부사관 성추행’ 군검찰 수사심의위 설치…민간 전문가 위촉', 'https://news.naver.com/main/read.nhn?mode=LSD&mid=shm&sid1=100&oid=056&aid=0011056461'), (datetime.datetime(2021, 6, 3, 15, 13, 50, 810090), '女부사관 성폭력 사건 일파만파에 文 \"엄정 처리\" 지시', 'https://news.naver.com/main/read.nhn?mode=LSD&mid=shm&sid1=100&oid=009&aid=0004803578'), (datetime.datetime(2021, 6, 3, 15, 13, 50, 810090), '택시기사 \"이용구, 차량 멈춘 뒤 폭행한 걸로 해달라 요청\"', 'https://news.naver.com/main/read.nhn?mode=LSD&mid=shm&sid1=102&oid=052&aid=0001596307')]\n",
      "200\n",
      "[(datetime.datetime(2021, 6, 3, 15, 13, 50, 965992), '증권회사 1분기 영업실적 3조 원 육박…사상 최고', 'https://news.naver.com/main/read.nhn?mode=LSD&mid=shm&sid1=101&oid=056&aid=0011056573'), (datetime.datetime(2021, 6, 3, 15, 13, 50, 965992), '\\'보복운전\\' 구본성 1심 집유… 선고 뒤 \"빨리 가자\" 재촉', 'https://news.naver.com/main/read.nhn?mode=LSD&mid=shm&sid1=102&oid=277&aid=0004914105'), (datetime.datetime(2021, 6, 3, 15, 13, 50, 965992), '‘부사관 성추행’ 군검찰 수사심의위 설치…민간 전문가 위촉', 'https://news.naver.com/main/read.nhn?mode=LSD&mid=shm&sid1=100&oid=056&aid=0011056461'), (datetime.datetime(2021, 6, 3, 15, 13, 50, 965992), '女부사관 성폭력 사건 일파만파에 文 \"엄정 처리\" 지시', 'https://news.naver.com/main/read.nhn?mode=LSD&mid=shm&sid1=100&oid=009&aid=0004803578'), (datetime.datetime(2021, 6, 3, 15, 13, 50, 965992), '택시기사 \"이용구, 차량 멈춘 뒤 폭행한 걸로 해달라 요청\"', 'https://news.naver.com/main/read.nhn?mode=LSD&mid=shm&sid1=102&oid=052&aid=0001596307')]\n",
      "200\n",
      "[(datetime.datetime(2021, 6, 3, 15, 13, 56, 156750), '軍 합동 수사단·민간인 포함 檢 수사심의위 구성', 'https://news.naver.com/main/read.nhn?mode=LSD&mid=shm&sid1=100&oid=052&aid=0001596389'), (datetime.datetime(2021, 6, 3, 15, 13, 56, 156750), 'SK㈜, 美 청록수소 기업 투자… 수소사업 확장 가속화', 'https://news.naver.com/main/read.nhn?mode=LSD&mid=shm&sid1=101&oid=366&aid=0000727335'), (datetime.datetime(2021, 6, 3, 15, 13, 56, 156750), '성추행 피해 중사 유족 “다른 성추행 2차례 더 있어”…고소장 제출', 'https://news.naver.com/main/read.nhn?mode=LSD&mid=shm&sid1=100&oid=056&aid=0011056624'), (datetime.datetime(2021, 6, 3, 15, 13, 56, 156750), '‘좀비기업’ 34.5%, 2013년 이후 최대', 'https://news.naver.com/main/read.nhn?mode=LSD&mid=shm&sid1=101&oid=032&aid=0003077980'), (datetime.datetime(2021, 6, 3, 15, 13, 56, 156750), '정부 “대구시 주선 화이자 백신 진위 의심…도입 안 해”', 'https://news.naver.com/main/read.nhn?mode=LSD&mid=shm&sid1=102&oid=056&aid=0011056614')]\n",
      "200\n",
      "[(datetime.datetime(2021, 6, 3, 15, 13, 56, 292776), '軍 합동 수사단·민간인 포함 檢 수사심의위 구성', 'https://news.naver.com/main/read.nhn?mode=LSD&mid=shm&sid1=100&oid=052&aid=0001596389'), (datetime.datetime(2021, 6, 3, 15, 13, 56, 292776), 'SK㈜, 美 청록수소 기업 투자… 수소사업 확장 가속화', 'https://news.naver.com/main/read.nhn?mode=LSD&mid=shm&sid1=101&oid=366&aid=0000727335'), (datetime.datetime(2021, 6, 3, 15, 13, 56, 292776), '성추행 피해 중사 유족 “다른 성추행 2차례 더 있어”…고소장 제출', 'https://news.naver.com/main/read.nhn?mode=LSD&mid=shm&sid1=100&oid=056&aid=0011056624'), (datetime.datetime(2021, 6, 3, 15, 13, 56, 292776), '‘좀비기업’ 34.5%, 2013년 이후 최대', 'https://news.naver.com/main/read.nhn?mode=LSD&mid=shm&sid1=101&oid=032&aid=0003077980'), (datetime.datetime(2021, 6, 3, 15, 13, 56, 292776), '정부 “대구시 주선 화이자 백신 진위 의심…도입 안 해”', 'https://news.naver.com/main/read.nhn?mode=LSD&mid=shm&sid1=102&oid=056&aid=0011056614')]\n",
      "200\n",
      "[(datetime.datetime(2021, 6, 3, 15, 13, 56, 541294), '軍 합동 수사단·민간인 포함 檢 수사심의위 구성', 'https://news.naver.com/main/read.nhn?mode=LSD&mid=shm&sid1=100&oid=052&aid=0001596389'), (datetime.datetime(2021, 6, 3, 15, 13, 56, 541294), 'SK㈜, 美 청록수소 기업 투자… 수소사업 확장 가속화', 'https://news.naver.com/main/read.nhn?mode=LSD&mid=shm&sid1=101&oid=366&aid=0000727335'), (datetime.datetime(2021, 6, 3, 15, 13, 56, 541294), '성추행 피해 중사 유족 “다른 성추행 2차례 더 있어”…고소장 제출', 'https://news.naver.com/main/read.nhn?mode=LSD&mid=shm&sid1=100&oid=056&aid=0011056624'), (datetime.datetime(2021, 6, 3, 15, 13, 56, 541294), '‘좀비기업’ 34.5%, 2013년 이후 최대', 'https://news.naver.com/main/read.nhn?mode=LSD&mid=shm&sid1=101&oid=032&aid=0003077980'), (datetime.datetime(2021, 6, 3, 15, 13, 56, 541294), '정부 “대구시 주선 화이자 백신 진위 의심…도입 안 해”', 'https://news.naver.com/main/read.nhn?mode=LSD&mid=shm&sid1=102&oid=056&aid=0011056614')]\n",
      "200\n",
      "[(datetime.datetime(2021, 6, 3, 15, 13, 56, 699509), '이용구 “택시기사 1천만원은 합의금…영상 삭제 대가 아냐”', 'https://news.naver.com/main/read.nhn?mode=LSD&mid=shm&sid1=102&oid=081&aid=0003191281'), (datetime.datetime(2021, 6, 3, 15, 13, 56, 699509), \"이자도 못갚는 좀비기업 '역대 최대'...코로나19 매출악화\", 'https://news.naver.com/main/read.nhn?mode=LSD&mid=shm&sid1=101&oid=014&aid=0004650593'), (datetime.datetime(2021, 6, 3, 15, 13, 56, 699509), '경남도, 수소전문기업 3곳 선정', 'https://news.naver.com/main/read.nhn?mode=LSD&mid=shm&sid1=102&oid=011&aid=0003918535'), (datetime.datetime(2021, 6, 3, 15, 13, 56, 700493), '이투스교육, \"22학년도 6월 모평 수학, 선택 과목별 난이도 차이 있었다\"', 'https://news.naver.com/main/read.nhn?mode=LSD&mid=shm&sid1=102&oid=417&aid=0000700521'), (datetime.datetime(2021, 6, 3, 15, 13, 56, 700493), '‘LG家 3세’ 아워홈 구본성 부회장, 보복운전 1심 집행유예', 'https://news.naver.com/main/read.nhn?mode=LSD&mid=shm&sid1=102&oid=081&aid=0003191368')]\n",
      "200\n",
      "[(datetime.datetime(2021, 6, 3, 15, 14, 1, 881254), '[속보] 이용구 \"1000만원은 합의금…영상 삭제 대가 아냐\"', 'https://news.naver.com/main/read.nhn?mode=LSD&mid=shm&sid1=102&oid=082&aid=0001095723'), (datetime.datetime(2021, 6, 3, 15, 14, 1, 881254), '윤석열 측, 송영길 겨냥 \"법조인 출신 정치인들 언행 도 넘어\"', 'https://news.naver.com/main/read.nhn?mode=LSD&mid=shm&sid1=100&oid=008&aid=0004596647'), (datetime.datetime(2021, 6, 3, 15, 14, 1, 881254), '\"보이콧도 검토\"…의원 132명, 도쿄올림픽 \\'독도 표기\\' 규탄', 'https://news.naver.com/main/read.nhn?mode=LSD&mid=shm&sid1=100&oid=215&aid=0000962312'), (datetime.datetime(2021, 6, 3, 15, 14, 1, 882253), '금융당국 \"공매도 재개 원활히 정착…주가간 유의미한 관계 無\"', 'https://news.naver.com/main/read.nhn?mode=LSD&mid=shm&sid1=101&oid=003&aid=0010532024'), (datetime.datetime(2021, 6, 3, 15, 14, 1, 882253), '“네이버 ‘통유리’ 빛반사 피해” 10년 법정다툼, 네이버 졌다', 'https://news.naver.com/main/read.nhn?mode=LSD&mid=shm&sid1=102&oid=005&aid=0001444641')]\n",
      "200\n",
      "[(datetime.datetime(2021, 6, 3, 15, 14, 2, 23803), '[속보] 이용구 \"1000만원은 합의금…영상 삭제 대가 아냐\"', 'https://news.naver.com/main/read.nhn?mode=LSD&mid=shm&sid1=102&oid=082&aid=0001095723'), (datetime.datetime(2021, 6, 3, 15, 14, 2, 23803), '윤석열 측, 송영길 겨냥 \"법조인 출신 정치인들 언행 도 넘어\"', 'https://news.naver.com/main/read.nhn?mode=LSD&mid=shm&sid1=100&oid=008&aid=0004596647'), (datetime.datetime(2021, 6, 3, 15, 14, 2, 23803), '\"보이콧도 검토\"…의원 132명, 도쿄올림픽 \\'독도 표기\\' 규탄', 'https://news.naver.com/main/read.nhn?mode=LSD&mid=shm&sid1=100&oid=215&aid=0000962312'), (datetime.datetime(2021, 6, 3, 15, 14, 2, 23803), '금융당국 \"공매도 재개 원활히 정착…주가간 유의미한 관계 無\"', 'https://news.naver.com/main/read.nhn?mode=LSD&mid=shm&sid1=101&oid=003&aid=0010532024'), (datetime.datetime(2021, 6, 3, 15, 14, 2, 23803), '“네이버 ‘통유리’ 빛반사 피해” 10년 법정다툼, 네이버 졌다', 'https://news.naver.com/main/read.nhn?mode=LSD&mid=shm&sid1=102&oid=005&aid=0001444641')]\n",
      "200\n",
      "[(datetime.datetime(2021, 6, 3, 15, 14, 7, 175905), '대구시 구매주선 백신에 화이자 측 \"진위여부 의심\"…정부, 도입 않기로', 'https://news.naver.com/main/read.nhn?mode=LSD&mid=shm&sid1=102&oid=018&aid=0004946426'), (datetime.datetime(2021, 6, 3, 15, 14, 7, 175905), '수학 공통과목 난도 높아...\"문과생 불리할 듯\"[6월 모의평가]', 'https://news.naver.com/main/read.nhn?mode=LSD&mid=shm&sid1=102&oid=011&aid=0003918635'), (datetime.datetime(2021, 6, 3, 15, 14, 7, 175905), \"[속보] 화이자 접종 완료 후 확진→ '돌파감염' 5명 추가… 누적 9명\", 'https://news.naver.com/main/read.nhn?mode=LSD&mid=shm&sid1=102&oid=082&aid=0001095866'), (datetime.datetime(2021, 6, 3, 15, 14, 7, 175905), '문 대통령, 여부사관 사건에 \"가슴 아파\"…엄정 수사 지시', 'https://news.naver.com/main/read.nhn?mode=LSD&mid=shm&sid1=100&oid=437&aid=0000267943'), (datetime.datetime(2021, 6, 3, 15, 14, 7, 175905), '女중사 유족 “다른 상관 성추행 피해 최소 2차례 더 있었다” 고소장 제출', 'https://news.naver.com/main/read.nhn?mode=LSD&mid=shm&sid1=102&oid=366&aid=0000727474')]\n",
      "200\n",
      "[(datetime.datetime(2021, 6, 3, 15, 14, 7, 318906), '대구시 구매주선 백신에 화이자 측 \"진위여부 의심\"…정부, 도입 않기로', 'https://news.naver.com/main/read.nhn?mode=LSD&mid=shm&sid1=102&oid=018&aid=0004946426'), (datetime.datetime(2021, 6, 3, 15, 14, 7, 318906), '수학 공통과목 난도 높아...\"문과생 불리할 듯\"[6월 모의평가]', 'https://news.naver.com/main/read.nhn?mode=LSD&mid=shm&sid1=102&oid=011&aid=0003918635'), (datetime.datetime(2021, 6, 3, 15, 14, 7, 318906), \"[속보] 화이자 접종 완료 후 확진→ '돌파감염' 5명 추가… 누적 9명\", 'https://news.naver.com/main/read.nhn?mode=LSD&mid=shm&sid1=102&oid=082&aid=0001095866'), (datetime.datetime(2021, 6, 3, 15, 14, 7, 318906), '문 대통령, 여부사관 사건에 \"가슴 아파\"…엄정 수사 지시', 'https://news.naver.com/main/read.nhn?mode=LSD&mid=shm&sid1=100&oid=437&aid=0000267943'), (datetime.datetime(2021, 6, 3, 15, 14, 7, 319905), '女중사 유족 “다른 상관 성추행 피해 최소 2차례 더 있었다” 고소장 제출', 'https://news.naver.com/main/read.nhn?mode=LSD&mid=shm&sid1=102&oid=366&aid=0000727474')]\n",
      "200\n",
      "[(datetime.datetime(2021, 6, 3, 15, 14, 7, 458920), '대구시 구매주선 백신에 화이자 측 \"진위여부 의심\"…정부, 도입 않기로', 'https://news.naver.com/main/read.nhn?mode=LSD&mid=shm&sid1=102&oid=018&aid=0004946426'), (datetime.datetime(2021, 6, 3, 15, 14, 7, 459922), '수학 공통과목 난도 높아...\"문과생 불리할 듯\"[6월 모의평가]', 'https://news.naver.com/main/read.nhn?mode=LSD&mid=shm&sid1=102&oid=011&aid=0003918635'), (datetime.datetime(2021, 6, 3, 15, 14, 7, 459922), \"[속보] 화이자 접종 완료 후 확진→ '돌파감염' 5명 추가… 누적 9명\", 'https://news.naver.com/main/read.nhn?mode=LSD&mid=shm&sid1=102&oid=082&aid=0001095866'), (datetime.datetime(2021, 6, 3, 15, 14, 7, 459922), '문 대통령, 여부사관 사건에 \"가슴 아파\"…엄정 수사 지시', 'https://news.naver.com/main/read.nhn?mode=LSD&mid=shm&sid1=100&oid=437&aid=0000267943'), (datetime.datetime(2021, 6, 3, 15, 14, 7, 459922), '女중사 유족 “다른 상관 성추행 피해 최소 2차례 더 있었다” 고소장 제출', 'https://news.naver.com/main/read.nhn?mode=LSD&mid=shm&sid1=102&oid=366&aid=0000727474')]\n"
     ]
    },
    {
     "name": "stdout",
     "output_type": "stream",
     "text": [
      "200\n",
      "[(datetime.datetime(2021, 6, 3, 15, 14, 7, 609905), '대법 \"사옥 햇빛 반사로 주민 피해, 네이버 배상책임\"', 'https://news.naver.com/main/read.nhn?mode=LSD&mid=shm&sid1=102&oid=052&aid=0001596438'), (datetime.datetime(2021, 6, 3, 15, 14, 7, 609905), '‘공군 성추행’ 피의자 구속…군검찰·민간참여 수사심의위 구성', 'https://news.naver.com/main/read.nhn?mode=LSD&mid=shm&sid1=100&oid=056&aid=0011056583'), (datetime.datetime(2021, 6, 3, 15, 14, 7, 609905), 'SK, 美청록수소 생산기업 투자...수소 생태계 확장', 'https://news.naver.com/main/read.nhn?mode=LSD&mid=shm&sid1=101&oid=014&aid=0004650533'), (datetime.datetime(2021, 6, 3, 15, 14, 7, 610905), '하정우 프로포폴 불법 투약, 벌금형 약식 기소', 'https://news.naver.com/main/read.nhn?mode=LSD&mid=shm&sid1=102&oid=023&aid=0003617958'), (datetime.datetime(2021, 6, 3, 15, 14, 7, 610905), '이용구 “택시기사에 1천만원 합의금, 영상삭제 대가 아냐”', 'https://news.naver.com/main/read.nhn?mode=LSD&mid=shm&sid1=102&oid=028&aid=0002547015')]\n",
      "200\n",
      "[(datetime.datetime(2021, 6, 3, 15, 14, 12, 841109), '공군 부사관 유족측 \"부사관 3명 추가 고소…추가 피해도 포함\"', 'https://news.naver.com/main/read.nhn?mode=LSD&mid=shm&sid1=100&oid=001&aid=0012435473'), (datetime.datetime(2021, 6, 3, 15, 14, 12, 841109), '‘보복운전’ 범LG가 3세 구본성 부회장 1심서 집행유예', 'https://news.naver.com/main/read.nhn?mode=LSD&mid=shm&sid1=102&oid=056&aid=0011056645'), (datetime.datetime(2021, 6, 3, 15, 14, 12, 841109), '초선들 만난 문 대통령 “내부 단합하고 외연 확장할 때 지지 만들어져”', 'https://news.naver.com/main/read.nhn?mode=LSD&mid=shm&sid1=100&oid=032&aid=0003077992'), (datetime.datetime(2021, 6, 3, 15, 14, 12, 841109), \"범여권 132명 ‘日 독도영토 표기' 규탄… 일각선 “올림픽 보이콧”\", 'https://news.naver.com/main/read.nhn?mode=LSD&mid=shm&sid1=100&oid=023&aid=0003617957'), (datetime.datetime(2021, 6, 3, 15, 14, 12, 842110), '금융당국 \"공매도 재개 따른 시장불안심리?이상징후 없어\"', 'https://news.naver.com/main/read.nhn?mode=LSD&mid=shm&sid1=101&oid=014&aid=0004650671')]\n",
      "200\n",
      "[(datetime.datetime(2021, 6, 3, 15, 14, 12, 980125), '공군 부사관 유족측 \"부사관 3명 추가 고소…추가 피해도 포함\"', 'https://news.naver.com/main/read.nhn?mode=LSD&mid=shm&sid1=100&oid=001&aid=0012435473'), (datetime.datetime(2021, 6, 3, 15, 14, 12, 980125), '‘보복운전’ 범LG가 3세 구본성 부회장 1심서 집행유예', 'https://news.naver.com/main/read.nhn?mode=LSD&mid=shm&sid1=102&oid=056&aid=0011056645'), (datetime.datetime(2021, 6, 3, 15, 14, 12, 980125), '초선들 만난 문 대통령 “내부 단합하고 외연 확장할 때 지지 만들어져”', 'https://news.naver.com/main/read.nhn?mode=LSD&mid=shm&sid1=100&oid=032&aid=0003077992'), (datetime.datetime(2021, 6, 3, 15, 14, 12, 980125), \"범여권 132명 ‘日 독도영토 표기' 규탄… 일각선 “올림픽 보이콧”\", 'https://news.naver.com/main/read.nhn?mode=LSD&mid=shm&sid1=100&oid=023&aid=0003617957'), (datetime.datetime(2021, 6, 3, 15, 14, 12, 980125), '금융당국 \"공매도 재개 따른 시장불안심리?이상징후 없어\"', 'https://news.naver.com/main/read.nhn?mode=LSD&mid=shm&sid1=101&oid=014&aid=0004650671')]\n",
      "200\n",
      "[(datetime.datetime(2021, 6, 3, 15, 14, 18, 117121), '국회의원 132명, 일본 올림픽 페이지 독도 표기 규탄 성명', 'https://news.naver.com/main/read.nhn?mode=LSD&mid=shm&sid1=100&oid=025&aid=0003106781'), (datetime.datetime(2021, 6, 3, 15, 14, 18, 117121), \"'범LG家 3세' 아워홈 구본성, 보복운전으로 1심 집행유예\", 'https://news.naver.com/main/read.nhn?mode=LSD&mid=shm&sid1=102&oid=001&aid=0012435881'), (datetime.datetime(2021, 6, 3, 15, 14, 18, 117121), '전국 곳곳에 벼락·강풍 동반한 요란한 비...언제 그칠까[날씨]', 'https://news.naver.com/main/read.nhn?mode=LSD&mid=shm&sid1=103&oid=052&aid=0001596413'), (datetime.datetime(2021, 6, 3, 15, 14, 18, 117121), '尹측 “무리한 가족 수사 1년 3개월 째, 정치인들 언행 도 넘어”', 'https://news.naver.com/main/read.nhn?mode=LSD&mid=shm&sid1=102&oid=023&aid=0003617946'), (datetime.datetime(2021, 6, 3, 15, 14, 18, 117121), '복지부 \"대구시, 화이자 구매 협의? 사실 아냐\" 반박', 'https://news.naver.com/main/read.nhn?mode=LSD&mid=shm&sid1=102&oid=047&aid=0002315066')]\n",
      "200\n",
      "[(datetime.datetime(2021, 6, 3, 15, 14, 18, 258105), '국회의원 132명, 일본 올림픽 페이지 독도 표기 규탄 성명', 'https://news.naver.com/main/read.nhn?mode=LSD&mid=shm&sid1=100&oid=025&aid=0003106781'), (datetime.datetime(2021, 6, 3, 15, 14, 18, 258105), \"'범LG家 3세' 아워홈 구본성, 보복운전으로 1심 집행유예\", 'https://news.naver.com/main/read.nhn?mode=LSD&mid=shm&sid1=102&oid=001&aid=0012435881'), (datetime.datetime(2021, 6, 3, 15, 14, 18, 258105), '전국 곳곳에 벼락·강풍 동반한 요란한 비...언제 그칠까[날씨]', 'https://news.naver.com/main/read.nhn?mode=LSD&mid=shm&sid1=103&oid=052&aid=0001596413'), (datetime.datetime(2021, 6, 3, 15, 14, 18, 258105), '尹측 “무리한 가족 수사 1년 3개월 째, 정치인들 언행 도 넘어”', 'https://news.naver.com/main/read.nhn?mode=LSD&mid=shm&sid1=102&oid=023&aid=0003617946'), (datetime.datetime(2021, 6, 3, 15, 14, 18, 258105), '복지부 \"대구시, 화이자 구매 협의? 사실 아냐\" 반박', 'https://news.naver.com/main/read.nhn?mode=LSD&mid=shm&sid1=102&oid=047&aid=0002315066')]\n",
      "200\n",
      "[(datetime.datetime(2021, 6, 3, 15, 14, 18, 401326), '국회의원 132명, 일본 올림픽 페이지 독도 표기 규탄 성명', 'https://news.naver.com/main/read.nhn?mode=LSD&mid=shm&sid1=100&oid=025&aid=0003106781'), (datetime.datetime(2021, 6, 3, 15, 14, 18, 401326), '‘보복운전’ 범LG가 3세 구본성 부회장 1심서 집행유예', 'https://news.naver.com/main/read.nhn?mode=LSD&mid=shm&sid1=102&oid=056&aid=0011056645'), (datetime.datetime(2021, 6, 3, 15, 14, 18, 402327), '전국 곳곳에 벼락·강풍 동반한 요란한 비...언제 그칠까[날씨]', 'https://news.naver.com/main/read.nhn?mode=LSD&mid=shm&sid1=103&oid=052&aid=0001596413'), (datetime.datetime(2021, 6, 3, 15, 14, 18, 402327), '尹측 “무리한 가족 수사 1년 3개월 째, 정치인들 언행 도 넘어”', 'https://news.naver.com/main/read.nhn?mode=LSD&mid=shm&sid1=102&oid=023&aid=0003617946'), (datetime.datetime(2021, 6, 3, 15, 14, 18, 402327), '복지부 \"대구시, 화이자 구매 협의? 사실 아냐\" 반박', 'https://news.naver.com/main/read.nhn?mode=LSD&mid=shm&sid1=102&oid=047&aid=0002315066')]\n",
      "200\n",
      "[(datetime.datetime(2021, 6, 3, 15, 14, 18, 555923), '문대통령 만난 ‘더민초’...재정확대 적극 요청, 부동산 쓴소리는 없었다', 'https://news.naver.com/main/read.nhn?mode=LSD&mid=shm&sid1=100&oid=119&aid=0002498706'), (datetime.datetime(2021, 6, 3, 15, 14, 18, 555923), '대법 \"통유리 네이버 사옥, 태양반사광 생활 방해 인정\"', 'https://news.naver.com/main/read.nhn?mode=LSD&mid=shm&sid1=102&oid=032&aid=0003077959'), (datetime.datetime(2021, 6, 3, 15, 14, 18, 555923), '\"日, 올림픽 정신 부정\"…의원 132명 규탄 결의안 발의', 'https://news.naver.com/main/read.nhn?mode=LSD&mid=shm&sid1=100&oid=003&aid=0010531370'), (datetime.datetime(2021, 6, 3, 15, 14, 18, 555923), '문대통령, 女부사관 사건 엄정수사 지시…\"최상급자까지\"(종합2보)', 'https://news.naver.com/main/read.nhn?mode=LSD&mid=shm&sid1=100&oid=001&aid=0012435504'), (datetime.datetime(2021, 6, 3, 15, 14, 18, 556922), '문 대통령, 與 지도부에도 초선들에도 \"단합\"', 'https://news.naver.com/main/read.nhn?mode=LSD&mid=shm&sid1=100&oid=215&aid=0000962326')]\n",
      "200\n",
      "[(datetime.datetime(2021, 6, 3, 15, 14, 23, 731238), '문대통령 \"진보, 단합할 때 지지 만들어져\"…내부 결속 강조(종합)', 'https://news.naver.com/main/read.nhn?mode=LSD&mid=shm&sid1=100&oid=421&aid=0005391618'), (datetime.datetime(2021, 6, 3, 15, 14, 23, 731238), \"'수소사업 속도' SK, 세계 첫 청록수소 생산기업에 투자\", 'https://news.naver.com/main/read.nhn?mode=LSD&mid=shm&sid1=101&oid=015&aid=0004556725'), (datetime.datetime(2021, 6, 3, 15, 14, 23, 731238), '문 대통령, 공군 부사관 성폭력·사망 사건에 “가슴 아파…엄정하게 처리”', 'https://news.naver.com/main/read.nhn?mode=LSD&mid=shm&sid1=100&oid=032&aid=0003077951'), (datetime.datetime(2021, 6, 3, 15, 14, 23, 731238), '이용구 “1000만원 합의금, 폭행영상 삭제 대가 아냐”', 'https://news.naver.com/main/read.nhn?mode=LSD&mid=shm&sid1=102&oid=005&aid=0001444533'), (datetime.datetime(2021, 6, 3, 15, 14, 23, 731238), '문대통령 \"국민 고통 마음아파\"…與초선 \"곳간 더 열어야\"', 'https://news.naver.com/main/read.nhn?mode=LSD&mid=shm&sid1=100&oid=422&aid=0000488200')]\n",
      "200\n",
      "[(datetime.datetime(2021, 6, 3, 15, 14, 23, 876233), '문대통령 \"진보, 단합할 때 지지 만들어져\"…내부 결속 강조(종합)', 'https://news.naver.com/main/read.nhn?mode=LSD&mid=shm&sid1=100&oid=421&aid=0005391618'), (datetime.datetime(2021, 6, 3, 15, 14, 23, 876233), \"'수소사업 속도' SK, 세계 첫 청록수소 생산기업에 투자\", 'https://news.naver.com/main/read.nhn?mode=LSD&mid=shm&sid1=101&oid=015&aid=0004556725'), (datetime.datetime(2021, 6, 3, 15, 14, 23, 876233), '문 대통령, 공군 부사관 성폭력·사망 사건에 “가슴 아파…엄정하게 처리”', 'https://news.naver.com/main/read.nhn?mode=LSD&mid=shm&sid1=100&oid=032&aid=0003077951'), (datetime.datetime(2021, 6, 3, 15, 14, 23, 876233), '이용구 “1000만원 합의금, 폭행영상 삭제 대가 아냐”', 'https://news.naver.com/main/read.nhn?mode=LSD&mid=shm&sid1=102&oid=005&aid=0001444533'), (datetime.datetime(2021, 6, 3, 15, 14, 23, 876233), '문대통령 \"국민 고통 마음아파\"…與초선 \"곳간 더 열어야\"', 'https://news.naver.com/main/read.nhn?mode=LSD&mid=shm&sid1=100&oid=422&aid=0000488200')]\n",
      "200\n",
      "[(datetime.datetime(2021, 6, 3, 15, 14, 29, 130934), '이용구 “공수처장 거론될 때라 통상보다 많은 1000만원 드려”', 'https://news.naver.com/main/read.nhn?mode=LSD&mid=shm&sid1=102&oid=023&aid=0003617907'), (datetime.datetime(2021, 6, 3, 15, 14, 29, 130934), \"'네이버 통유리' 놓고 10년 법정싸움…결국 네이버가 졌다\", 'https://news.naver.com/main/read.nhn?mode=LSD&mid=shm&sid1=102&oid=025&aid=0003106798'), (datetime.datetime(2021, 6, 3, 15, 14, 29, 130934), '하정우, 프로포폴 벌금형…“겸허히 받아들이겠다” 사과 [전문]', 'https://news.naver.com/main/read.nhn?mode=LSD&mid=shm&sid1=102&oid=057&aid=0001581700'), (datetime.datetime(2021, 6, 3, 15, 14, 29, 130934), '전국 곳곳에 벼락·강풍 동반한 요란한 비...언제 그칠까[날씨]', 'https://news.naver.com/main/read.nhn?mode=LSD&mid=shm&sid1=103&oid=052&aid=0001596471'), (datetime.datetime(2021, 6, 3, 15, 14, 29, 130934), '일본 도쿄올림픽조직위원회의 규탄 기자회견', 'https://news.naver.com/main/read.nhn?mode=LSD&mid=shm&sid1=100&oid=015&aid=0004556534')]\n"
     ]
    },
    {
     "name": "stdout",
     "output_type": "stream",
     "text": [
      "200\n",
      "[(datetime.datetime(2021, 6, 3, 15, 14, 29, 264095), '이용구 “공수처장 거론될 때라 통상보다 많은 1000만원 드려”', 'https://news.naver.com/main/read.nhn?mode=LSD&mid=shm&sid1=102&oid=023&aid=0003617907'), (datetime.datetime(2021, 6, 3, 15, 14, 29, 264095), \"'네이버 통유리' 놓고 10년 법정싸움…결국 네이버가 졌다\", 'https://news.naver.com/main/read.nhn?mode=LSD&mid=shm&sid1=102&oid=025&aid=0003106798'), (datetime.datetime(2021, 6, 3, 15, 14, 29, 265094), '하정우, 프로포폴 벌금형…“겸허히 받아들이겠다” 사과 [전문]', 'https://news.naver.com/main/read.nhn?mode=LSD&mid=shm&sid1=102&oid=057&aid=0001581700'), (datetime.datetime(2021, 6, 3, 15, 14, 29, 265094), '전국 곳곳에 벼락·강풍 동반한 요란한 비...언제 그칠까[날씨]', 'https://news.naver.com/main/read.nhn?mode=LSD&mid=shm&sid1=103&oid=052&aid=0001596471'), (datetime.datetime(2021, 6, 3, 15, 14, 29, 265094), '일본 도쿄올림픽조직위원회의 규탄 기자회견', 'https://news.naver.com/main/read.nhn?mode=LSD&mid=shm&sid1=100&oid=015&aid=0004556534')]\n",
      "200\n",
      "[(datetime.datetime(2021, 6, 3, 15, 14, 29, 422094), '이용구 “공수처장 거론될 때라 통상보다 많은 1000만원 드려”', 'https://news.naver.com/main/read.nhn?mode=LSD&mid=shm&sid1=102&oid=023&aid=0003617907'), (datetime.datetime(2021, 6, 3, 15, 14, 29, 422094), \"'네이버 통유리' 놓고 10년 법정싸움…결국 네이버가 졌다\", 'https://news.naver.com/main/read.nhn?mode=LSD&mid=shm&sid1=102&oid=025&aid=0003106798'), (datetime.datetime(2021, 6, 3, 15, 14, 29, 422094), '하정우, 프로포폴 벌금형…“겸허히 받아들이겠다” 사과 [전문]', 'https://news.naver.com/main/read.nhn?mode=LSD&mid=shm&sid1=102&oid=057&aid=0001581700'), (datetime.datetime(2021, 6, 3, 15, 14, 29, 422094), '전국 곳곳에 벼락·강풍 동반한 요란한 비...언제 그칠까[날씨]', 'https://news.naver.com/main/read.nhn?mode=LSD&mid=shm&sid1=103&oid=052&aid=0001596471'), (datetime.datetime(2021, 6, 3, 15, 14, 29, 422094), '일본 도쿄올림픽조직위원회의 규탄 기자회견', 'https://news.naver.com/main/read.nhn?mode=LSD&mid=shm&sid1=100&oid=015&aid=0004556534')]\n",
      "200\n",
      "[(datetime.datetime(2021, 6, 3, 15, 14, 29, 579868), '금융위 \"공매도-주가와 상관관계 없었다…개인 차입기간 연장 검토\"', 'https://news.naver.com/main/read.nhn?mode=LSD&mid=shm&sid1=101&oid=421&aid=0005391472'), (datetime.datetime(2021, 6, 3, 15, 14, 29, 579868), 'SK㈜, \\'청록수소\\' 생산 회사에 투자…\"수소사업 확장 가속\"', 'https://news.naver.com/main/read.nhn?mode=LSD&mid=shm&sid1=101&oid=421&aid=0005390870'), (datetime.datetime(2021, 6, 3, 15, 14, 29, 579868), '올림픽 앞두고 한일 갈등 재점화...앞으로의 전망은?', 'https://news.naver.com/main/read.nhn?mode=LSD&mid=shm&sid1=104&oid=052&aid=0001596407'), (datetime.datetime(2021, 6, 3, 15, 14, 29, 579868), '[영상]당국 \"대구시 주선 화이자, 공식 유통 아냐…도입 않기로\"', 'https://news.naver.com/main/read.nhn?mode=LSD&mid=shm&sid1=102&oid=079&aid=0003511545'), (datetime.datetime(2021, 6, 3, 15, 14, 29, 579868), '[속보] 문 대통령, 공군 부사관 사망에 “엄중한 조치 있어야”', 'https://news.naver.com/main/read.nhn?mode=LSD&mid=shm&sid1=100&oid=005&aid=0001444569')]\n",
      "200\n",
      "[(datetime.datetime(2021, 6, 3, 15, 14, 34, 792383), '더불어민주당, “도쿄 올림픽 조직위 ‘독도 표기’ 규탄” 성명', 'https://news.naver.com/main/read.nhn?mode=LSD&mid=shm&sid1=100&oid=056&aid=0011056597'), (datetime.datetime(2021, 6, 3, 15, 14, 34, 792383), '\\'뜨거운 감자\\' 공매도…금융위 \"원활하게 안착했다\"', 'https://news.naver.com/main/read.nhn?mode=LSD&mid=shm&sid1=101&oid=008&aid=0004596729'), (datetime.datetime(2021, 6, 3, 15, 14, 34, 792383), '[영상]대구 주선 화이자 구매 안한다···권영진 시장 사과 청원', 'https://news.naver.com/main/read.nhn?mode=LSD&mid=shm&sid1=102&oid=079&aid=0003511620'), (datetime.datetime(2021, 6, 3, 15, 14, 34, 792383), '고령층 예약률 77%…\"상반기 1300만+α 1차접종 가능\"', 'https://news.naver.com/main/read.nhn?mode=LSD&mid=shm&sid1=102&oid=079&aid=0003511552'), (datetime.datetime(2021, 6, 3, 15, 14, 34, 792383), '이용구 “택시기사에 1천만원 합의금, 영상삭제 대가 아냐”', 'https://news.naver.com/main/read.nhn?mode=LSD&mid=shm&sid1=102&oid=028&aid=0002547015')]\n",
      "200\n",
      "[(datetime.datetime(2021, 6, 3, 15, 14, 34, 930382), '더불어민주당, “도쿄 올림픽 조직위 ‘독도 표기’ 규탄” 성명', 'https://news.naver.com/main/read.nhn?mode=LSD&mid=shm&sid1=100&oid=056&aid=0011056597'), (datetime.datetime(2021, 6, 3, 15, 14, 34, 930382), '\\'뜨거운 감자\\' 공매도…금융위 \"원활하게 안착했다\"', 'https://news.naver.com/main/read.nhn?mode=LSD&mid=shm&sid1=101&oid=008&aid=0004596729'), (datetime.datetime(2021, 6, 3, 15, 14, 34, 930382), '[영상]대구 주선 화이자 구매 안한다···권영진 시장 사과 청원', 'https://news.naver.com/main/read.nhn?mode=LSD&mid=shm&sid1=102&oid=079&aid=0003511620'), (datetime.datetime(2021, 6, 3, 15, 14, 34, 930382), '고령층 예약률 77%…\"상반기 1300만+α 1차접종 가능\"', 'https://news.naver.com/main/read.nhn?mode=LSD&mid=shm&sid1=102&oid=079&aid=0003511552'), (datetime.datetime(2021, 6, 3, 15, 14, 34, 931384), '이용구 “택시기사에 1천만원 합의금, 영상삭제 대가 아냐”', 'https://news.naver.com/main/read.nhn?mode=LSD&mid=shm&sid1=102&oid=028&aid=0002547015')]\n",
      "200\n",
      "[(datetime.datetime(2021, 6, 3, 15, 14, 40, 113183), '재개 한 달 맞은 공매도, 외국인 쏠림 심화', 'https://news.naver.com/main/read.nhn?mode=LSD&mid=shm&sid1=101&oid=011&aid=0003918660'), (datetime.datetime(2021, 6, 3, 15, 14, 40, 113183), '이용구 \"택시기사, 억울하게 증거인멸죄로 입건돼 죄송\"', 'https://news.naver.com/main/read.nhn?mode=LSD&mid=shm&sid1=102&oid=055&aid=0000898333'), (datetime.datetime(2021, 6, 3, 15, 14, 40, 113183), '\"어젠 그냥 여름이던데 오늘은 시원하려나\"[날씨톡톡]', 'https://news.naver.com/main/read.nhn?mode=LSD&mid=shm&sid1=103&oid=422&aid=0000488170'), (datetime.datetime(2021, 6, 3, 15, 14, 40, 113183), '日 도쿄올림픽 홈피에 \\'독도 표기\\'... 백혜련 \"영유권 침해, 삭제하라\"', 'https://news.naver.com/main/read.nhn?mode=LSD&mid=shm&sid1=100&oid=469&aid=0000608498'), (datetime.datetime(2021, 6, 3, 15, 14, 40, 113183), '네이버 사옥 태양반사광에 주민피해…대법 \"배상하라\"', 'https://news.naver.com/main/read.nhn?mode=LSD&mid=shm&sid1=102&oid=003&aid=0010531517')]\n",
      "200\n",
      "[(datetime.datetime(2021, 6, 3, 15, 14, 40, 267299), '재개 한 달 맞은 공매도, 외국인 쏠림 심화', 'https://news.naver.com/main/read.nhn?mode=LSD&mid=shm&sid1=101&oid=011&aid=0003918660'), (datetime.datetime(2021, 6, 3, 15, 14, 40, 267299), '이용구 \"택시기사, 억울하게 증거인멸죄로 입건돼 죄송\"', 'https://news.naver.com/main/read.nhn?mode=LSD&mid=shm&sid1=102&oid=055&aid=0000898333'), (datetime.datetime(2021, 6, 3, 15, 14, 40, 267299), '\"어젠 그냥 여름이던데 오늘은 시원하려나\"[날씨톡톡]', 'https://news.naver.com/main/read.nhn?mode=LSD&mid=shm&sid1=103&oid=422&aid=0000488170'), (datetime.datetime(2021, 6, 3, 15, 14, 40, 268297), '日 도쿄올림픽 홈피에 \\'독도 표기\\'... 백혜련 \"영유권 침해, 삭제하라\"', 'https://news.naver.com/main/read.nhn?mode=LSD&mid=shm&sid1=100&oid=469&aid=0000608498'), (datetime.datetime(2021, 6, 3, 15, 14, 40, 268297), '네이버 사옥 태양반사광에 주민피해…대법 \"배상하라\"', 'https://news.naver.com/main/read.nhn?mode=LSD&mid=shm&sid1=102&oid=003&aid=0010531517')]\n",
      "200\n",
      "[(datetime.datetime(2021, 6, 3, 15, 14, 40, 485891), '재개 한 달 맞은 공매도, 외국인 쏠림 심화', 'https://news.naver.com/main/read.nhn?mode=LSD&mid=shm&sid1=101&oid=011&aid=0003918660'), (datetime.datetime(2021, 6, 3, 15, 14, 40, 485891), '이용구 \"택시기사, 억울하게 증거인멸죄로 입건돼 죄송\"', 'https://news.naver.com/main/read.nhn?mode=LSD&mid=shm&sid1=102&oid=055&aid=0000898333'), (datetime.datetime(2021, 6, 3, 15, 14, 40, 486891), '\"어젠 그냥 여름이던데 오늘은 시원하려나\"[날씨톡톡]', 'https://news.naver.com/main/read.nhn?mode=LSD&mid=shm&sid1=103&oid=422&aid=0000488170'), (datetime.datetime(2021, 6, 3, 15, 14, 40, 486891), '日 도쿄올림픽 홈피에 \\'독도 표기\\'... 백혜련 \"영유권 침해, 삭제하라\"', 'https://news.naver.com/main/read.nhn?mode=LSD&mid=shm&sid1=100&oid=469&aid=0000608498'), (datetime.datetime(2021, 6, 3, 15, 14, 40, 486891), '네이버 사옥 태양반사광에 주민피해…대법 \"배상하라\"', 'https://news.naver.com/main/read.nhn?mode=LSD&mid=shm&sid1=102&oid=003&aid=0010531517')]\n",
      "200\n",
      "[(datetime.datetime(2021, 6, 3, 15, 14, 40, 628631), '이용구 법무차관 “택시기사 준 1000만원, 영상 삭제 대가 아닌 합의금”', 'https://news.naver.com/main/read.nhn?mode=LSD&mid=shm&sid1=102&oid=015&aid=0004556629'), (datetime.datetime(2021, 6, 3, 15, 14, 40, 628631), '금융위 \"공매도 원활하게 안착\"…외국인 거래 비중 85%', 'https://news.naver.com/main/read.nhn?mode=LSD&mid=shm&sid1=101&oid=079&aid=0003511629'), (datetime.datetime(2021, 6, 3, 15, 14, 40, 628631), 'SK㈜, \\'청록수소\\' 생산 회사에 투자…\"수소사업 확장 가속\"', 'https://news.naver.com/main/read.nhn?mode=LSD&mid=shm&sid1=101&oid=421&aid=0005390870'), (datetime.datetime(2021, 6, 3, 15, 14, 40, 628631), '\"네이버 \\'통유리 사옥\\' 반사광 피해\"…주민들 손 들어준 대법원', 'https://news.naver.com/main/read.nhn?mode=LSD&mid=shm&sid1=102&oid=057&aid=0001581715'), (datetime.datetime(2021, 6, 3, 15, 14, 40, 628631), '\\'보복운전\\' 구본성 1심 집유… 선고 뒤 \"빨리 가자\" 재촉', 'https://news.naver.com/main/read.nhn?mode=LSD&mid=shm&sid1=102&oid=277&aid=0004914105')]\n",
      "200\n",
      "[(datetime.datetime(2021, 6, 3, 15, 14, 45, 827524), '주식 열풍에 증권사 1분기 순익 3조…사상 최대 경신', 'https://news.naver.com/main/read.nhn?mode=LSD&mid=shm&sid1=101&oid=001&aid=0012435461'), (datetime.datetime(2021, 6, 3, 15, 14, 45, 827524), \"오늘 전국 '최대 40mm' 비…한낮에도 서늘[날씨]\", 'https://news.naver.com/main/read.nhn?mode=LSD&mid=shm&sid1=103&oid=055&aid=0000898383'), (datetime.datetime(2021, 6, 3, 15, 14, 45, 827524), '\"2850% 폭등한 AMC처럼\"…한국판 \\'공매도 전쟁\\' 가능할까?', 'https://news.naver.com/main/read.nhn?mode=LSD&mid=shm&sid1=101&oid=015&aid=0004556640'), (datetime.datetime(2021, 6, 3, 15, 14, 45, 827524), '코로나19 대응 중앙방역대책본부 브리핑', 'https://news.naver.com/main/read.nhn?mode=LSD&mid=shm&sid1=102&oid=214&aid=0001122865'), (datetime.datetime(2021, 6, 3, 15, 14, 45, 828523), '공정위, 벤처지주회사 요건 완화…CVC 외부자금 상한은 40%로', 'https://news.naver.com/main/read.nhn?mode=LSD&mid=shm&sid1=101&oid=014&aid=0004650601')]\n"
     ]
    },
    {
     "name": "stdout",
     "output_type": "stream",
     "text": [
      "200\n",
      "[(datetime.datetime(2021, 6, 3, 15, 14, 46, 106493), '주식 열풍에 증권사 1분기 순익 3조…사상 최대 경신', 'https://news.naver.com/main/read.nhn?mode=LSD&mid=shm&sid1=101&oid=001&aid=0012435461'), (datetime.datetime(2021, 6, 3, 15, 14, 46, 106493), \"오늘 전국 '최대 40mm' 비…한낮에도 서늘[날씨]\", 'https://news.naver.com/main/read.nhn?mode=LSD&mid=shm&sid1=103&oid=055&aid=0000898383'), (datetime.datetime(2021, 6, 3, 15, 14, 46, 106493), '\"2850% 폭등한 AMC처럼\"…한국판 \\'공매도 전쟁\\' 가능할까?', 'https://news.naver.com/main/read.nhn?mode=LSD&mid=shm&sid1=101&oid=015&aid=0004556640'), (datetime.datetime(2021, 6, 3, 15, 14, 46, 107493), '코로나19 대응 중앙방역대책본부 브리핑', 'https://news.naver.com/main/read.nhn?mode=LSD&mid=shm&sid1=102&oid=214&aid=0001122865'), (datetime.datetime(2021, 6, 3, 15, 14, 46, 107493), '공정위, 벤처지주회사 요건 완화…CVC 외부자금 상한은 40%로', 'https://news.naver.com/main/read.nhn?mode=LSD&mid=shm&sid1=101&oid=014&aid=0004650601')]\n",
      "200\n",
      "[(datetime.datetime(2021, 6, 3, 15, 14, 51, 300136), \"SK 이번엔 '청록수소' 투자, 韓 수소 선택지 늘어난다\", 'https://news.naver.com/main/read.nhn?mode=LSD&mid=shm&sid1=101&oid=008&aid=0004596584'), (datetime.datetime(2021, 6, 3, 15, 14, 51, 300136), '공군 중사 유족 측 \"성추행 피해 최소 2차례 더 있다\"', 'https://news.naver.com/main/read.nhn?mode=LSD&mid=shm&sid1=100&oid=055&aid=0000898386'), (datetime.datetime(2021, 6, 3, 15, 14, 51, 300136), '전국 곳곳에 벼락·강풍 동반한 요란한 비...언제 그칠까[날씨]', 'https://news.naver.com/main/read.nhn?mode=LSD&mid=shm&sid1=103&oid=052&aid=0001596471'), (datetime.datetime(2021, 6, 3, 15, 14, 51, 300136), '“6월 모의평가, 국·수 공통과목이 더 어려웠다”', 'https://news.naver.com/main/read.nhn?mode=LSD&mid=shm&sid1=102&oid=016&aid=0001843843'), (datetime.datetime(2021, 6, 3, 15, 14, 51, 300136), '문대통령, 공군 부사관 성폭력 사망 엄정처리 지시…\"가슴 아파\"(종합)', 'https://news.naver.com/main/read.nhn?mode=LSD&mid=shm&sid1=100&oid=421&aid=0005391324')]\n",
      "200\n",
      "[(datetime.datetime(2021, 6, 3, 15, 14, 51, 434550), \"SK 이번엔 '청록수소' 투자, 韓 수소 선택지 늘어난다\", 'https://news.naver.com/main/read.nhn?mode=LSD&mid=shm&sid1=101&oid=008&aid=0004596584'), (datetime.datetime(2021, 6, 3, 15, 14, 51, 435551), '공군 중사 유족 측 \"성추행 피해 최소 2차례 더 있다\"', 'https://news.naver.com/main/read.nhn?mode=LSD&mid=shm&sid1=100&oid=055&aid=0000898386'), (datetime.datetime(2021, 6, 3, 15, 14, 51, 435551), '전국 곳곳에 벼락·강풍 동반한 요란한 비...언제 그칠까[날씨]', 'https://news.naver.com/main/read.nhn?mode=LSD&mid=shm&sid1=103&oid=052&aid=0001596471'), (datetime.datetime(2021, 6, 3, 15, 14, 51, 435551), '“6월 모의평가, 국·수 공통과목이 더 어려웠다”', 'https://news.naver.com/main/read.nhn?mode=LSD&mid=shm&sid1=102&oid=016&aid=0001843843'), (datetime.datetime(2021, 6, 3, 15, 14, 51, 435551), '문대통령, 공군 부사관 성폭력 사망 엄정처리 지시…\"가슴 아파\"(종합)', 'https://news.naver.com/main/read.nhn?mode=LSD&mid=shm&sid1=100&oid=421&aid=0005391324')]\n",
      "200\n",
      "[(datetime.datetime(2021, 6, 3, 15, 14, 51, 573951), \"'부사관 성추행' 수사 팔 걷었다…軍 최초 '수사심의위' 설치\", 'https://news.naver.com/main/read.nhn?mode=LSD&mid=shm&sid1=102&oid=025&aid=0003106766'), (datetime.datetime(2021, 6, 3, 15, 14, 51, 574950), \"'보복운전 혐의' 구본성 아워홈 부회장 1심서 집행유예\", 'https://news.naver.com/main/read.nhn?mode=LSD&mid=shm&sid1=102&oid=014&aid=0004650728'), (datetime.datetime(2021, 6, 3, 15, 14, 51, 574950), '대법 \"네이버 사옥 통유리 반사광 주민 피해 배상하라\"', 'https://news.naver.com/main/read.nhn?mode=LSD&mid=shm&sid1=102&oid=001&aid=0012435326'), (datetime.datetime(2021, 6, 3, 15, 14, 51, 574950), '중수본 \"대구시 화이자 백신 진위 의심돼, 화이자 법적조치 예정\"', 'https://news.naver.com/main/read.nhn?mode=LSD&mid=shm&sid1=102&oid=421&aid=0005391147'), (datetime.datetime(2021, 6, 3, 15, 14, 51, 574950), '국회의원 132명, 일본 올림픽 페이지 독도 표기 규탄 성명', 'https://news.naver.com/main/read.nhn?mode=LSD&mid=shm&sid1=100&oid=025&aid=0003106781')]\n",
      "200\n",
      "[(datetime.datetime(2021, 6, 3, 15, 14, 51, 713952), \"'부사관 성추행' 수사 팔 걷었다…軍 최초 '수사심의위' 설치\", 'https://news.naver.com/main/read.nhn?mode=LSD&mid=shm&sid1=102&oid=025&aid=0003106766'), (datetime.datetime(2021, 6, 3, 15, 14, 51, 713952), \"'보복운전 혐의' 구본성 아워홈 부회장 1심서 집행유예\", 'https://news.naver.com/main/read.nhn?mode=LSD&mid=shm&sid1=102&oid=014&aid=0004650728'), (datetime.datetime(2021, 6, 3, 15, 14, 51, 713952), '대법 \"네이버 사옥 통유리 반사광 주민 피해 배상하라\"', 'https://news.naver.com/main/read.nhn?mode=LSD&mid=shm&sid1=102&oid=001&aid=0012435326'), (datetime.datetime(2021, 6, 3, 15, 14, 51, 713952), '중수본 \"대구시 화이자 백신 진위 의심돼, 화이자 법적조치 예정\"', 'https://news.naver.com/main/read.nhn?mode=LSD&mid=shm&sid1=102&oid=421&aid=0005391147'), (datetime.datetime(2021, 6, 3, 15, 14, 51, 713952), '국회의원 132명, 일본 올림픽 페이지 독도 표기 규탄 성명', 'https://news.naver.com/main/read.nhn?mode=LSD&mid=shm&sid1=100&oid=025&aid=0003106781')]\n",
      "200\n",
      "[(datetime.datetime(2021, 6, 3, 15, 14, 56, 952614), '“상반기 1300만명+α 백신 1차 접종’ 목표 충분히 달성 가능”', 'https://news.naver.com/main/read.nhn?mode=LSD&mid=shm&sid1=102&oid=032&aid=0003077970'), (datetime.datetime(2021, 6, 3, 15, 14, 56, 952614), '대법 “네이버 사옥 통유리 빛 반사 多…주민에 배상하라”', 'https://news.naver.com/main/read.nhn?mode=LSD&mid=shm&sid1=102&oid=020&aid=0003361622'), (datetime.datetime(2021, 6, 3, 15, 14, 56, 952614), '문 대통령 “공군 부사관 사망 건, 최고상급자까지 지휘부도 살펴라”', 'https://news.naver.com/main/read.nhn?mode=LSD&mid=shm&sid1=100&oid=028&aid=0002547034'), (datetime.datetime(2021, 6, 3, 15, 14, 56, 952614), '윤석열측, 송영길·정세균 겨냥해 “도 넘은 언행···무분별한 비방 지속시 적극 대응”', 'https://news.naver.com/main/read.nhn?mode=LSD&mid=shm&sid1=100&oid=011&aid=0003918520'), (datetime.datetime(2021, 6, 3, 15, 14, 56, 953614), '백혜련 등 민주당 의원 132명, 도쿄올림픽 독도 日영토 표기 규탄', 'https://news.naver.com/main/read.nhn?mode=LSD&mid=shm&sid1=100&oid=119&aid=0002498649')]\n",
      "200\n",
      "[(datetime.datetime(2021, 6, 3, 15, 14, 57, 91555), '“상반기 1300만명+α 백신 1차 접종’ 목표 충분히 달성 가능”', 'https://news.naver.com/main/read.nhn?mode=LSD&mid=shm&sid1=102&oid=032&aid=0003077970'), (datetime.datetime(2021, 6, 3, 15, 14, 57, 91555), '대법 “네이버 사옥 통유리 빛 반사 多…주민에 배상하라”', 'https://news.naver.com/main/read.nhn?mode=LSD&mid=shm&sid1=102&oid=020&aid=0003361622'), (datetime.datetime(2021, 6, 3, 15, 14, 57, 91555), '문 대통령 “공군 부사관 사망 건, 최고상급자까지 지휘부도 살펴라”', 'https://news.naver.com/main/read.nhn?mode=LSD&mid=shm&sid1=100&oid=028&aid=0002547034'), (datetime.datetime(2021, 6, 3, 15, 14, 57, 91555), '윤석열측, 송영길·정세균 겨냥해 “도 넘은 언행···무분별한 비방 지속시 적극 대응”', 'https://news.naver.com/main/read.nhn?mode=LSD&mid=shm&sid1=100&oid=011&aid=0003918520'), (datetime.datetime(2021, 6, 3, 15, 14, 57, 92553), '백혜련 등 민주당 의원 132명, 도쿄올림픽 독도 日영토 표기 규탄', 'https://news.naver.com/main/read.nhn?mode=LSD&mid=shm&sid1=100&oid=119&aid=0002498649')]\n",
      "200\n",
      "[(datetime.datetime(2021, 6, 3, 15, 15, 2, 270162), '文 \"성추행 피해 부사관의 절망, 가슴 아파… 엄정 수사·조치하라\"', 'https://news.naver.com/main/read.nhn?mode=LSD&mid=shm&sid1=100&oid=469&aid=0000608514'), (datetime.datetime(2021, 6, 3, 15, 15, 2, 270162), '출제기관 \"수학, 복잡한 계산·공식 단순적용은 지양\"[6월 모평]', 'https://news.naver.com/main/read.nhn?mode=LSD&mid=shm&sid1=102&oid=421&aid=0005391466'), (datetime.datetime(2021, 6, 3, 15, 15, 2, 270162), '文대통령 \"내부 단합, 외연 확장할 때 지지 만들어져\" (종합)', 'https://news.naver.com/main/read.nhn?mode=LSD&mid=shm&sid1=100&oid=277&aid=0004914087'), (datetime.datetime(2021, 6, 3, 15, 15, 2, 271164), \"'수소사업 속도' SK, 세계 첫 청록수소 생산기업에 투자\", 'https://news.naver.com/main/read.nhn?mode=LSD&mid=shm&sid1=101&oid=015&aid=0004556725'), (datetime.datetime(2021, 6, 3, 15, 15, 2, 271164), '정부 \"현재 속도면 상반기 내 \\'1300만명+α\\' 접종 가능\"', 'https://news.naver.com/main/read.nhn?mode=LSD&mid=shm&sid1=102&oid=015&aid=0004556653')]\n",
      "200\n",
      "[(datetime.datetime(2021, 6, 3, 15, 15, 2, 407403), '文 \"성추행 피해 부사관의 절망, 가슴 아파… 엄정 수사·조치하라\"', 'https://news.naver.com/main/read.nhn?mode=LSD&mid=shm&sid1=100&oid=469&aid=0000608514'), (datetime.datetime(2021, 6, 3, 15, 15, 2, 407403), '출제기관 \"수학, 복잡한 계산·공식 단순적용은 지양\"[6월 모평]', 'https://news.naver.com/main/read.nhn?mode=LSD&mid=shm&sid1=102&oid=421&aid=0005391466'), (datetime.datetime(2021, 6, 3, 15, 15, 2, 407403), '文대통령 \"내부 단합, 외연 확장할 때 지지 만들어져\" (종합)', 'https://news.naver.com/main/read.nhn?mode=LSD&mid=shm&sid1=100&oid=277&aid=0004914087'), (datetime.datetime(2021, 6, 3, 15, 15, 2, 407403), \"'수소사업 속도' SK, 세계 첫 청록수소 생산기업에 투자\", 'https://news.naver.com/main/read.nhn?mode=LSD&mid=shm&sid1=101&oid=015&aid=0004556725'), (datetime.datetime(2021, 6, 3, 15, 15, 2, 407403), '정부 \"현재 속도면 상반기 내 \\'1300만명+α\\' 접종 가능\"', 'https://news.naver.com/main/read.nhn?mode=LSD&mid=shm&sid1=102&oid=015&aid=0004556653')]\n",
      "200\n",
      "[(datetime.datetime(2021, 6, 3, 15, 15, 2, 572254), '민주당 “도쿄올림픽 ‘독도 표기’ 규탄”…일각에선 ‘보이콧’ 주장도', 'https://news.naver.com/main/read.nhn?mode=LSD&mid=shm&sid1=100&oid=056&aid=0011056473'), (datetime.datetime(2021, 6, 3, 15, 15, 2, 573252), '\\'뜨거운 감자\\' 공매도…금융위 \"원활하게 안착했다\"', 'https://news.naver.com/main/read.nhn?mode=LSD&mid=shm&sid1=101&oid=008&aid=0004596729'), (datetime.datetime(2021, 6, 3, 15, 15, 2, 573252), \"예약 하루 남긴 60~74세 백신 예약률 77.6%…'오늘 밤 12시 마감'\", 'https://news.naver.com/main/read.nhn?mode=LSD&mid=shm&sid1=102&oid=018&aid=0004946428'), (datetime.datetime(2021, 6, 3, 15, 15, 2, 573252), '대법 \"네이버 사옥 통유리 반사광…피해 주민에 배상하라\"', 'https://news.naver.com/main/read.nhn?mode=LSD&mid=shm&sid1=102&oid=055&aid=0000898370'), (datetime.datetime(2021, 6, 3, 15, 15, 2, 573252), '하정우, 프로포폴 불법투약 벌금형 “겸허한 마음으로 받아들인다”', 'https://news.naver.com/main/read.nhn?mode=LSD&mid=shm&sid1=102&oid=020&aid=0003361620')]\n",
      "200\n"
     ]
    },
    {
     "name": "stdout",
     "output_type": "stream",
     "text": [
      "[(datetime.datetime(2021, 6, 3, 15, 15, 2, 729381), '민주당 “도쿄올림픽 ‘독도 표기’ 규탄”…일각에선 ‘보이콧’ 주장도', 'https://news.naver.com/main/read.nhn?mode=LSD&mid=shm&sid1=100&oid=056&aid=0011056473'), (datetime.datetime(2021, 6, 3, 15, 15, 2, 729381), '\\'뜨거운 감자\\' 공매도…금융위 \"원활하게 안착했다\"', 'https://news.naver.com/main/read.nhn?mode=LSD&mid=shm&sid1=101&oid=008&aid=0004596729'), (datetime.datetime(2021, 6, 3, 15, 15, 2, 729381), \"예약 하루 남긴 60~74세 백신 예약률 77.6%…'오늘 밤 12시 마감'\", 'https://news.naver.com/main/read.nhn?mode=LSD&mid=shm&sid1=102&oid=018&aid=0004946428'), (datetime.datetime(2021, 6, 3, 15, 15, 2, 729381), '대법 \"네이버 사옥 통유리 반사광…피해 주민에 배상하라\"', 'https://news.naver.com/main/read.nhn?mode=LSD&mid=shm&sid1=102&oid=055&aid=0000898370'), (datetime.datetime(2021, 6, 3, 15, 15, 2, 729381), '하정우, 프로포폴 불법투약 벌금형 “겸허한 마음으로 받아들인다”', 'https://news.naver.com/main/read.nhn?mode=LSD&mid=shm&sid1=102&oid=020&aid=0003361620')]\n",
      "200\n",
      "[(datetime.datetime(2021, 6, 3, 15, 15, 7, 916043), '[속보] 이용구 \"택시기사에 거듭 사과...영상 유포 우려해 삭제 요청\"', 'https://news.naver.com/main/read.nhn?mode=LSD&mid=shm&sid1=102&oid=052&aid=0001596275'), (datetime.datetime(2021, 6, 3, 15, 15, 7, 916043), '코로나로 식어버린 성장엔진, 작년 기업 매출 ‘역대 최악’…3곳 중 1곳은 이자도 못낸다', 'https://news.naver.com/main/read.nhn?mode=LSD&mid=shm&sid1=101&oid=025&aid=0003106813'), (datetime.datetime(2021, 6, 3, 15, 15, 7, 916043), '대구시 화이자백신 사기당할 뻔? 정부 \"정품 아니다. 국제수사 협력\"', 'https://news.naver.com/main/read.nhn?mode=LSD&mid=shm&sid1=102&oid=469&aid=0000608522'), (datetime.datetime(2021, 6, 3, 15, 15, 7, 916043), '윤석열 쪽, 여권 처가 수사 언급에 “도 넘은 언행”', 'https://news.naver.com/main/read.nhn?mode=LSD&mid=shm&sid1=100&oid=028&aid=0002547041'), (datetime.datetime(2021, 6, 3, 15, 15, 7, 916043), '문 대통령, 여부사관 사건에 \"가슴 아파\"…엄정 수사 지시', 'https://news.naver.com/main/read.nhn?mode=LSD&mid=shm&sid1=100&oid=437&aid=0000267943')]\n",
      "200\n",
      "[(datetime.datetime(2021, 6, 3, 15, 15, 8, 54611), '[속보] 이용구 \"택시기사에 거듭 사과...영상 유포 우려해 삭제 요청\"', 'https://news.naver.com/main/read.nhn?mode=LSD&mid=shm&sid1=102&oid=052&aid=0001596275'), (datetime.datetime(2021, 6, 3, 15, 15, 8, 54611), '코로나로 식어버린 성장엔진, 작년 기업 매출 ‘역대 최악’…3곳 중 1곳은 이자도 못낸다', 'https://news.naver.com/main/read.nhn?mode=LSD&mid=shm&sid1=101&oid=025&aid=0003106813'), (datetime.datetime(2021, 6, 3, 15, 15, 8, 54611), '대구시 화이자백신 사기당할 뻔? 정부 \"정품 아니다. 국제수사 협력\"', 'https://news.naver.com/main/read.nhn?mode=LSD&mid=shm&sid1=102&oid=469&aid=0000608522'), (datetime.datetime(2021, 6, 3, 15, 15, 8, 54611), '윤석열 쪽, 여권 처가 수사 언급에 “도 넘은 언행”', 'https://news.naver.com/main/read.nhn?mode=LSD&mid=shm&sid1=100&oid=028&aid=0002547041'), (datetime.datetime(2021, 6, 3, 15, 15, 8, 54611), '문 대통령, 여부사관 사건에 \"가슴 아파\"…엄정 수사 지시', 'https://news.naver.com/main/read.nhn?mode=LSD&mid=shm&sid1=100&oid=437&aid=0000267943')]\n",
      "200\n",
      "[(datetime.datetime(2021, 6, 3, 15, 15, 13, 301777), '文대통령, 與 초선들과 간담회 “국민 고통 마음 아파…혁신과 역동성 발휘해야”', 'https://news.naver.com/main/read.nhn?mode=LSD&mid=shm&sid1=100&oid=277&aid=0004914066'), (datetime.datetime(2021, 6, 3, 15, 15, 13, 301777), '평창 땐 독도 빼라던 IOC, 日 \"독도는 일본 땅\" 억지에도 \\'침묵\\'', 'https://news.naver.com/main/read.nhn?mode=LSD&mid=shm&sid1=104&oid=277&aid=0004914029'), (datetime.datetime(2021, 6, 3, 15, 15, 13, 301777), '\"가슴 아파\" 文대통령, 공군 성폭력 사건 엄중 수사 지시', 'https://news.naver.com/main/read.nhn?mode=LSD&mid=shm&sid1=100&oid=215&aid=0000962258'), (datetime.datetime(2021, 6, 3, 15, 15, 13, 301777), \"'보복운전' 구본성 아워홈 부회장 1심 집행유예\", 'https://news.naver.com/main/read.nhn?mode=LSD&mid=shm&sid1=102&oid=629&aid=0000086995'), (datetime.datetime(2021, 6, 3, 15, 15, 13, 301777), \"검찰, '프로포폴 불법투약' 하정우 벌금1000만원 약식기소\", 'https://news.naver.com/main/read.nhn?mode=LSD&mid=shm&sid1=102&oid=421&aid=0005391396')]\n",
      "200\n",
      "[(datetime.datetime(2021, 6, 3, 15, 15, 13, 431558), '文대통령, 與 초선들과 간담회 “국민 고통 마음 아파…혁신과 역동성 발휘해야”', 'https://news.naver.com/main/read.nhn?mode=LSD&mid=shm&sid1=100&oid=277&aid=0004914066'), (datetime.datetime(2021, 6, 3, 15, 15, 13, 431558), '평창 땐 독도 빼라던 IOC, 日 \"독도는 일본 땅\" 억지에도 \\'침묵\\'', 'https://news.naver.com/main/read.nhn?mode=LSD&mid=shm&sid1=104&oid=277&aid=0004914029'), (datetime.datetime(2021, 6, 3, 15, 15, 13, 431558), '\"가슴 아파\" 文대통령, 공군 성폭력 사건 엄중 수사 지시', 'https://news.naver.com/main/read.nhn?mode=LSD&mid=shm&sid1=100&oid=215&aid=0000962258'), (datetime.datetime(2021, 6, 3, 15, 15, 13, 431558), \"'보복운전' 구본성 아워홈 부회장 1심 집행유예\", 'https://news.naver.com/main/read.nhn?mode=LSD&mid=shm&sid1=102&oid=629&aid=0000086995'), (datetime.datetime(2021, 6, 3, 15, 15, 13, 431558), \"검찰, '프로포폴 불법투약' 하정우 벌금1000만원 약식기소\", 'https://news.naver.com/main/read.nhn?mode=LSD&mid=shm&sid1=102&oid=421&aid=0005391396')]\n",
      "200\n",
      "[(datetime.datetime(2021, 6, 3, 15, 15, 13, 586098), '이용구 “공수처장 거론될 때라 통상보다 많은 1000만원 드려”', 'https://news.naver.com/main/read.nhn?mode=LSD&mid=shm&sid1=102&oid=023&aid=0003617907'), (datetime.datetime(2021, 6, 3, 15, 15, 13, 586098), '하정우, 프로포폴 투약 벌금형...\"안일한 판단 반성[종합]', 'https://news.naver.com/main/read.nhn?mode=LSD&mid=shm&sid1=102&oid=009&aid=0004803591'), (datetime.datetime(2021, 6, 3, 15, 15, 13, 586098), '文대통령 \"절망스러웠을 피해자 생각하면 가슴 아프다\"', 'https://news.naver.com/main/read.nhn?mode=LSD&mid=shm&sid1=100&oid=079&aid=0003511504'), (datetime.datetime(2021, 6, 3, 15, 15, 13, 586098), '韓 IOC 위원 만난 정세균…“독도 표기, 결코 양보할 수 없어”', 'https://news.naver.com/main/read.nhn?mode=LSD&mid=shm&sid1=100&oid=016&aid=0001843839'), (datetime.datetime(2021, 6, 3, 15, 15, 13, 586098), '\"2850% 폭등한 AMC처럼\"…한국판 \\'공매도 전쟁\\' 가능할까?', 'https://news.naver.com/main/read.nhn?mode=LSD&mid=shm&sid1=101&oid=015&aid=0004556640')]\n",
      "200\n",
      "[(datetime.datetime(2021, 6, 3, 15, 15, 13, 749545), '이용구 “공수처장 거론될 때라 통상보다 많은 1000만원 드려”', 'https://news.naver.com/main/read.nhn?mode=LSD&mid=shm&sid1=102&oid=023&aid=0003617907'), (datetime.datetime(2021, 6, 3, 15, 15, 13, 750545), '하정우, 프로포폴 투약 벌금형...\"안일한 판단 반성[종합]', 'https://news.naver.com/main/read.nhn?mode=LSD&mid=shm&sid1=102&oid=009&aid=0004803591'), (datetime.datetime(2021, 6, 3, 15, 15, 13, 750545), '文대통령 \"절망스러웠을 피해자 생각하면 가슴 아프다\"', 'https://news.naver.com/main/read.nhn?mode=LSD&mid=shm&sid1=100&oid=079&aid=0003511504'), (datetime.datetime(2021, 6, 3, 15, 15, 13, 750545), '韓 IOC 위원 만난 정세균…“독도 표기, 결코 양보할 수 없어”', 'https://news.naver.com/main/read.nhn?mode=LSD&mid=shm&sid1=100&oid=016&aid=0001843839'), (datetime.datetime(2021, 6, 3, 15, 15, 13, 750545), '\"2850% 폭등한 AMC처럼\"…한국판 \\'공매도 전쟁\\' 가능할까?', 'https://news.naver.com/main/read.nhn?mode=LSD&mid=shm&sid1=101&oid=015&aid=0004556640')]\n",
      "200\n",
      "[(datetime.datetime(2021, 6, 3, 15, 15, 18, 948884), \"'수소사업 속도' SK, 세계 첫 청록수소 생산기업에 투자\", 'https://news.naver.com/main/read.nhn?mode=LSD&mid=shm&sid1=101&oid=015&aid=0004556725'), (datetime.datetime(2021, 6, 3, 15, 15, 18, 948884), \"'택시기사 폭행' 이용구 차관을 둘러싼 '4갈래 수사'\", 'https://news.naver.com/main/read.nhn?mode=LSD&mid=shm&sid1=102&oid=052&aid=0001596442'), (datetime.datetime(2021, 6, 3, 15, 15, 18, 948884), \"범여권 132명 ‘日 독도영토 표기' 규탄… 일각선 “올림픽 보이콧”\", 'https://news.naver.com/main/read.nhn?mode=LSD&mid=shm&sid1=100&oid=023&aid=0003617957'), (datetime.datetime(2021, 6, 3, 15, 15, 18, 948884), '하정우 프로포폴 불법 투약, 벌금형 약식 기소', 'https://news.naver.com/main/read.nhn?mode=LSD&mid=shm&sid1=102&oid=023&aid=0003617958'), (datetime.datetime(2021, 6, 3, 15, 15, 18, 948884), '국방부, ‘女부사관 사망사건 수사’ 민간 전문가 투입한다', 'https://news.naver.com/main/read.nhn?mode=LSD&mid=shm&sid1=100&oid=018&aid=0004946401')]\n",
      "200\n",
      "[(datetime.datetime(2021, 6, 3, 15, 15, 19, 183075), \"'수소사업 속도' SK, 세계 첫 청록수소 생산기업에 투자\", 'https://news.naver.com/main/read.nhn?mode=LSD&mid=shm&sid1=101&oid=015&aid=0004556725'), (datetime.datetime(2021, 6, 3, 15, 15, 19, 184075), \"'택시기사 폭행' 이용구 차관을 둘러싼 '4갈래 수사'\", 'https://news.naver.com/main/read.nhn?mode=LSD&mid=shm&sid1=102&oid=052&aid=0001596442'), (datetime.datetime(2021, 6, 3, 15, 15, 19, 184075), \"범여권 132명 ‘日 독도영토 표기' 규탄… 일각선 “올림픽 보이콧”\", 'https://news.naver.com/main/read.nhn?mode=LSD&mid=shm&sid1=100&oid=023&aid=0003617957'), (datetime.datetime(2021, 6, 3, 15, 15, 19, 184075), '하정우 프로포폴 불법 투약, 벌금형 약식 기소', 'https://news.naver.com/main/read.nhn?mode=LSD&mid=shm&sid1=102&oid=023&aid=0003617958'), (datetime.datetime(2021, 6, 3, 15, 15, 19, 184075), '국방부, ‘女부사관 사망사건 수사’ 민간 전문가 투입한다', 'https://news.naver.com/main/read.nhn?mode=LSD&mid=shm&sid1=100&oid=018&aid=0004946401')]\n",
      "200\n",
      "[(datetime.datetime(2021, 6, 3, 15, 15, 24, 337578), \"'범LG家 3세' 아워홈 구본성, 보복운전으로 1심 집행유예\", 'https://news.naver.com/main/read.nhn?mode=LSD&mid=shm&sid1=102&oid=001&aid=0012435881'), (datetime.datetime(2021, 6, 3, 15, 15, 24, 338578), '이용구 \"택시기사에 1000만 원, 영상 삭제 대가 아냐\" [전문]', 'https://news.naver.com/main/read.nhn?mode=LSD&mid=shm&sid1=102&oid=437&aid=0000267930'), (datetime.datetime(2021, 6, 3, 15, 15, 24, 338578), \"이자도 못갚는 좀비기업 '역대 최대'...코로나19 매출악화\", 'https://news.naver.com/main/read.nhn?mode=LSD&mid=shm&sid1=101&oid=014&aid=0004650593'), (datetime.datetime(2021, 6, 3, 15, 15, 24, 338578), '尹 측, 송영길에 \"도 넘은 언행…사법제도에 대한 예의 아냐\"', 'https://news.naver.com/main/read.nhn?mode=LSD&mid=shm&sid1=100&oid=055&aid=0000898331'), (datetime.datetime(2021, 6, 3, 15, 15, 24, 338578), '정부 “대구시 주선 화이자 백신 진위 의심…구매 안해”', 'https://news.naver.com/main/read.nhn?mode=LSD&mid=shm&sid1=102&oid=005&aid=0001444595')]\n",
      "200\n"
     ]
    },
    {
     "name": "stdout",
     "output_type": "stream",
     "text": [
      "[(datetime.datetime(2021, 6, 3, 15, 15, 24, 484094), \"'범LG家 3세' 아워홈 구본성, 보복운전으로 1심 집행유예\", 'https://news.naver.com/main/read.nhn?mode=LSD&mid=shm&sid1=102&oid=001&aid=0012435881'), (datetime.datetime(2021, 6, 3, 15, 15, 24, 484094), '이용구 \"택시기사에 1000만 원, 영상 삭제 대가 아냐\" [전문]', 'https://news.naver.com/main/read.nhn?mode=LSD&mid=shm&sid1=102&oid=437&aid=0000267930'), (datetime.datetime(2021, 6, 3, 15, 15, 24, 484094), \"이자도 못갚는 좀비기업 '역대 최대'...코로나19 매출악화\", 'https://news.naver.com/main/read.nhn?mode=LSD&mid=shm&sid1=101&oid=014&aid=0004650593'), (datetime.datetime(2021, 6, 3, 15, 15, 24, 484094), '尹 측, 송영길에 \"도 넘은 언행…사법제도에 대한 예의 아냐\"', 'https://news.naver.com/main/read.nhn?mode=LSD&mid=shm&sid1=100&oid=055&aid=0000898331'), (datetime.datetime(2021, 6, 3, 15, 15, 24, 484094), '정부 “대구시 주선 화이자 백신 진위 의심…구매 안해”', 'https://news.naver.com/main/read.nhn?mode=LSD&mid=shm&sid1=102&oid=005&aid=0001444595')]\n",
      "200\n",
      "[(datetime.datetime(2021, 6, 3, 15, 15, 24, 701894), '[단독]\"이용구 폭행 피해자인데 입건…거짓말탐지기도 요구\"', 'https://news.naver.com/main/read.nhn?mode=LSD&mid=shm&sid1=102&oid=025&aid=0003106754'), (datetime.datetime(2021, 6, 3, 15, 15, 24, 701894), '국방부 “은폐·무마·회유 등 모든 의혹 원점서 재수사할 것”', 'https://news.naver.com/main/read.nhn?mode=LSD&mid=shm&sid1=100&oid=028&aid=0002547018'), (datetime.datetime(2021, 6, 3, 15, 15, 24, 701894), '여당 초선들 만난 문 대통령 “경제 성과 있지만 국민 고통 마음 아프다”···초선들은 “재정 확대 요청”', 'https://news.naver.com/main/read.nhn?mode=LSD&mid=shm&sid1=100&oid=032&aid=0003077977'), (datetime.datetime(2021, 6, 3, 15, 15, 24, 701894), '60~74세 고령층 백신접종 예약 3일 마감…예약률 80% 육박', 'https://news.naver.com/main/read.nhn?mode=LSD&mid=shm&sid1=102&oid=277&aid=0004914014'), (datetime.datetime(2021, 6, 3, 15, 15, 24, 701894), \"지난해 기업 3곳 중 1곳 이자도 못 갚아…좀비기업 '역대 최고'\", 'https://news.naver.com/main/read.nhn?mode=LSD&mid=shm&sid1=101&oid=215&aid=0000962288')]\n",
      "200\n",
      "[(datetime.datetime(2021, 6, 3, 15, 15, 24, 884629), '[단독]\"이용구 폭행 피해자인데 입건…거짓말탐지기도 요구\"', 'https://news.naver.com/main/read.nhn?mode=LSD&mid=shm&sid1=102&oid=025&aid=0003106754'), (datetime.datetime(2021, 6, 3, 15, 15, 24, 884629), '국방부 “은폐·무마·회유 등 모든 의혹 원점서 재수사할 것”', 'https://news.naver.com/main/read.nhn?mode=LSD&mid=shm&sid1=100&oid=028&aid=0002547018'), (datetime.datetime(2021, 6, 3, 15, 15, 24, 885630), '여당 초선들 만난 문 대통령 “경제 성과 있지만 국민 고통 마음 아프다”···초선들은 “재정 확대 요청”', 'https://news.naver.com/main/read.nhn?mode=LSD&mid=shm&sid1=100&oid=032&aid=0003077977'), (datetime.datetime(2021, 6, 3, 15, 15, 24, 885630), '60~74세 고령층 백신접종 예약 3일 마감…예약률 80% 육박', 'https://news.naver.com/main/read.nhn?mode=LSD&mid=shm&sid1=102&oid=277&aid=0004914014'), (datetime.datetime(2021, 6, 3, 15, 15, 24, 885630), \"지난해 기업 3곳 중 1곳 이자도 못 갚아…좀비기업 '역대 최고'\", 'https://news.naver.com/main/read.nhn?mode=LSD&mid=shm&sid1=101&oid=215&aid=0000962288')]\n",
      "200\n",
      "[(datetime.datetime(2021, 6, 3, 15, 15, 30, 95031), '尹측 \"조국 수사 3개월, 부인 사건 1년3개월···檢 무모하다\"', 'https://news.naver.com/main/read.nhn?mode=LSD&mid=shm&sid1=102&oid=025&aid=0003106775'), (datetime.datetime(2021, 6, 3, 15, 15, 30, 95031), '구본성 부회장 보복운전 선고…아워홈 ‘남매의 난’ 다시?', 'https://news.naver.com/main/read.nhn?mode=LSD&mid=shm&sid1=101&oid=374&aid=0000246406'), (datetime.datetime(2021, 6, 3, 15, 15, 30, 95031), 'SK㈜, \\'청록수소\\' 생산 회사에 투자 \"수소 사업 확장 속도\"', 'https://news.naver.com/main/read.nhn?mode=LSD&mid=shm&sid1=101&oid=629&aid=0000086940'), (datetime.datetime(2021, 6, 3, 15, 15, 30, 96031), '대법 “네이버, 통유리 사옥 반사광 피해 주민에 배상하라”', 'https://news.naver.com/main/read.nhn?mode=LSD&mid=shm&sid1=102&oid=023&aid=0003617938'), (datetime.datetime(2021, 6, 3, 15, 15, 30, 96031), '문대통령, 女부사관 사건 엄정수사 지시…\"최상급자까지\"(종합2보)', 'https://news.naver.com/main/read.nhn?mode=LSD&mid=shm&sid1=100&oid=001&aid=0012435504')]\n",
      "200\n",
      "[(datetime.datetime(2021, 6, 3, 15, 15, 30, 237239), '尹측 \"조국 수사 3개월, 부인 사건 1년3개월···檢 무모하다\"', 'https://news.naver.com/main/read.nhn?mode=LSD&mid=shm&sid1=102&oid=025&aid=0003106775'), (datetime.datetime(2021, 6, 3, 15, 15, 30, 237239), '구본성 부회장 보복운전 선고…아워홈 ‘남매의 난’ 다시?', 'https://news.naver.com/main/read.nhn?mode=LSD&mid=shm&sid1=101&oid=374&aid=0000246406'), (datetime.datetime(2021, 6, 3, 15, 15, 30, 237239), 'SK㈜, \\'청록수소\\' 생산 회사에 투자 \"수소 사업 확장 속도\"', 'https://news.naver.com/main/read.nhn?mode=LSD&mid=shm&sid1=101&oid=629&aid=0000086940'), (datetime.datetime(2021, 6, 3, 15, 15, 30, 238240), '대법 “네이버, 통유리 사옥 반사광 피해 주민에 배상하라”', 'https://news.naver.com/main/read.nhn?mode=LSD&mid=shm&sid1=102&oid=023&aid=0003617938'), (datetime.datetime(2021, 6, 3, 15, 15, 30, 238240), '문대통령, 女부사관 사건 엄정수사 지시…\"최상급자까지\"(종합2보)', 'https://news.naver.com/main/read.nhn?mode=LSD&mid=shm&sid1=100&oid=001&aid=0012435504')]\n",
      "200\n",
      "[(datetime.datetime(2021, 6, 3, 15, 15, 35, 427383), '與초선, 文에 재정 확대 요청…쓴소리는 못 꺼내', 'https://news.naver.com/main/read.nhn?mode=LSD&mid=shm&sid1=100&oid=018&aid=0004946589'), (datetime.datetime(2021, 6, 3, 15, 15, 35, 427383), '중앙방역대책본부 브리핑 (6월 3일)', 'https://news.naver.com/main/read.nhn?mode=LSD&mid=shm&sid1=100&oid=052&aid=0001596472'), (datetime.datetime(2021, 6, 3, 15, 15, 35, 427383), '정부 \"대구시 주선 화이자 백신 진위 의심…구매 안 해\"', 'https://news.naver.com/main/read.nhn?mode=LSD&mid=shm&sid1=100&oid=055&aid=0000898374'), (datetime.datetime(2021, 6, 3, 15, 15, 35, 427383), '일본 도쿄올림픽조직위원회의 규탄 기자회견', 'https://news.naver.com/main/read.nhn?mode=LSD&mid=shm&sid1=100&oid=015&aid=0004556534'), (datetime.datetime(2021, 6, 3, 15, 15, 35, 427383), \"네이버 통유리 사옥 10년 '반사광' 소송…주민들이 이겼다\", 'https://news.naver.com/main/read.nhn?mode=LSD&mid=shm&sid1=102&oid=009&aid=0004803625')]\n",
      "200\n",
      "[(datetime.datetime(2021, 6, 3, 15, 15, 35, 558614), '네이버 \\'통유리 사옥\\' 태양광 피해... 대법 \"판단 다시\"', 'https://news.naver.com/main/read.nhn?mode=LSD&mid=shm&sid1=102&oid=014&aid=0004650582'), (datetime.datetime(2021, 6, 3, 15, 15, 35, 558614), '\"1천만 원은 합의금…영상 삭제 대가 아니야\"', 'https://news.naver.com/main/read.nhn?mode=LSD&mid=shm&sid1=102&oid=214&aid=0001122831'), (datetime.datetime(2021, 6, 3, 15, 15, 35, 558614), '文대통령 \"내부 단합, 외연 확장할 때 지지 만들어져\" (종합)', 'https://news.naver.com/main/read.nhn?mode=LSD&mid=shm&sid1=100&oid=277&aid=0004914087'), (datetime.datetime(2021, 6, 3, 15, 15, 35, 558614), 'SK㈜, 세계 최초 청록수소 생산 회사 투자…수소사업 확장 `속도`', 'https://news.naver.com/main/read.nhn?mode=LSD&mid=shm&sid1=101&oid=029&aid=0002678026'), (datetime.datetime(2021, 6, 3, 15, 15, 35, 559613), '공군 부사관 유족측, 3명 추가 고소…“성추행 피해 더있다”', 'https://news.naver.com/main/read.nhn?mode=LSD&mid=shm&sid1=100&oid=032&aid=0003077969')]\n",
      "200\n",
      "[(datetime.datetime(2021, 6, 3, 15, 15, 35, 729664), '네이버 \\'통유리 사옥\\' 태양광 피해... 대법 \"판단 다시\"', 'https://news.naver.com/main/read.nhn?mode=LSD&mid=shm&sid1=102&oid=014&aid=0004650582'), (datetime.datetime(2021, 6, 3, 15, 15, 35, 729664), '\"1천만 원은 합의금…영상 삭제 대가 아니야\"', 'https://news.naver.com/main/read.nhn?mode=LSD&mid=shm&sid1=102&oid=214&aid=0001122831'), (datetime.datetime(2021, 6, 3, 15, 15, 35, 729664), '文대통령 \"내부 단합, 외연 확장할 때 지지 만들어져\" (종합)', 'https://news.naver.com/main/read.nhn?mode=LSD&mid=shm&sid1=100&oid=277&aid=0004914087'), (datetime.datetime(2021, 6, 3, 15, 15, 35, 729664), 'SK㈜, 세계 최초 청록수소 생산 회사 투자…수소사업 확장 `속도`', 'https://news.naver.com/main/read.nhn?mode=LSD&mid=shm&sid1=101&oid=029&aid=0002678026'), (datetime.datetime(2021, 6, 3, 15, 15, 35, 729664), '공군 부사관 유족측, 3명 추가 고소…“성추행 피해 더있다”', 'https://news.naver.com/main/read.nhn?mode=LSD&mid=shm&sid1=100&oid=032&aid=0003077969')]\n",
      "200\n",
      "[(datetime.datetime(2021, 6, 3, 15, 15, 35, 948716), '네이버 \\'통유리 사옥\\' 태양광 피해... 대법 \"판단 다시\"', 'https://news.naver.com/main/read.nhn?mode=LSD&mid=shm&sid1=102&oid=014&aid=0004650582'), (datetime.datetime(2021, 6, 3, 15, 15, 35, 948716), '\"1천만 원은 합의금…영상 삭제 대가 아니야\"', 'https://news.naver.com/main/read.nhn?mode=LSD&mid=shm&sid1=102&oid=214&aid=0001122831'), (datetime.datetime(2021, 6, 3, 15, 15, 35, 948716), '文대통령 \"내부 단합, 외연 확장할 때 지지 만들어져\" (종합)', 'https://news.naver.com/main/read.nhn?mode=LSD&mid=shm&sid1=100&oid=277&aid=0004914087'), (datetime.datetime(2021, 6, 3, 15, 15, 35, 948716), 'SK㈜, 세계 최초 청록수소 생산 회사 투자…수소사업 확장 `속도`', 'https://news.naver.com/main/read.nhn?mode=LSD&mid=shm&sid1=101&oid=029&aid=0002678026'), (datetime.datetime(2021, 6, 3, 15, 15, 35, 948716), '공군 부사관 유족측, 3명 추가 고소…“성추행 피해 더있다”', 'https://news.naver.com/main/read.nhn?mode=LSD&mid=shm&sid1=100&oid=032&aid=0003077969')]\n",
      "200\n",
      "[(datetime.datetime(2021, 6, 3, 15, 15, 41, 164727), 'SK㈜, 美 청록수소 기업 투자… 수소사업 확장 가속화', 'https://news.naver.com/main/read.nhn?mode=LSD&mid=shm&sid1=101&oid=366&aid=0000727335'), (datetime.datetime(2021, 6, 3, 15, 15, 41, 165727), '정부 \"대구시 주선 화이자 백신 진위 의심…구매 안한다\"', 'https://news.naver.com/main/read.nhn?mode=LSD&mid=shm&sid1=102&oid=001&aid=0012435457'), (datetime.datetime(2021, 6, 3, 15, 15, 41, 165727), '\\'보복운전\\' 구본성 1심 집유… 선고 뒤 \"빨리 가자\" 재촉', 'https://news.naver.com/main/read.nhn?mode=LSD&mid=shm&sid1=102&oid=277&aid=0004914105'), (datetime.datetime(2021, 6, 3, 15, 15, 41, 165727), '韓 IOC 위원 만난 정세균…“독도 표기, 결코 양보할 수 없어”', 'https://news.naver.com/main/read.nhn?mode=LSD&mid=shm&sid1=100&oid=016&aid=0001843839'), (datetime.datetime(2021, 6, 3, 15, 15, 41, 165727), '배우 하정우, 프로포폴 벌금형에 \"안일했다. 더 신중히\"', 'https://news.naver.com/main/read.nhn?mode=LSD&mid=shm&sid1=102&oid=014&aid=0004650718')]\n",
      "200\n"
     ]
    },
    {
     "name": "stdout",
     "output_type": "stream",
     "text": [
      "[(datetime.datetime(2021, 6, 3, 15, 15, 41, 349079), 'SK㈜, 美 청록수소 기업 투자… 수소사업 확장 가속화', 'https://news.naver.com/main/read.nhn?mode=LSD&mid=shm&sid1=101&oid=366&aid=0000727335'), (datetime.datetime(2021, 6, 3, 15, 15, 41, 350079), '정부 \"대구시 주선 화이자 백신 진위 의심…구매 안한다\"', 'https://news.naver.com/main/read.nhn?mode=LSD&mid=shm&sid1=102&oid=001&aid=0012435457'), (datetime.datetime(2021, 6, 3, 15, 15, 41, 350079), '\\'보복운전\\' 구본성 1심 집유… 선고 뒤 \"빨리 가자\" 재촉', 'https://news.naver.com/main/read.nhn?mode=LSD&mid=shm&sid1=102&oid=277&aid=0004914105'), (datetime.datetime(2021, 6, 3, 15, 15, 41, 350079), '韓 IOC 위원 만난 정세균…“독도 표기, 결코 양보할 수 없어”', 'https://news.naver.com/main/read.nhn?mode=LSD&mid=shm&sid1=100&oid=016&aid=0001843839'), (datetime.datetime(2021, 6, 3, 15, 15, 41, 350079), '배우 하정우, 프로포폴 벌금형에 \"안일했다. 더 신중히\"', 'https://news.naver.com/main/read.nhn?mode=LSD&mid=shm&sid1=102&oid=014&aid=0004650718')]\n",
      "200\n",
      "[(datetime.datetime(2021, 6, 3, 15, 15, 46, 500006), '이용구 “합의금 1천만 원…영상 삭제 대가성 아냐”', 'https://news.naver.com/main/read.nhn?mode=LSD&mid=shm&sid1=115&oid=449&aid=0000209703'), (datetime.datetime(2021, 6, 3, 15, 15, 46, 500006), '[영상]민주당 \"日올림픽조직위, 독도 영유권 침해…특단 조치 생각\"', 'https://news.naver.com/main/read.nhn?mode=LSD&mid=shm&sid1=100&oid=079&aid=0003511485'), (datetime.datetime(2021, 6, 3, 15, 15, 46, 501006), '대구시 독자 백신 확보 추진에...정부 \"사기 가능성 있다\"', 'https://news.naver.com/main/read.nhn?mode=LSD&mid=shm&sid1=102&oid=469&aid=0000608528'), (datetime.datetime(2021, 6, 3, 15, 15, 46, 501006), '文대통령, 공군 성폭력피해사건 “최고 상급자 등 지휘라인 문제 살펴야”', 'https://news.naver.com/main/read.nhn?mode=LSD&mid=shm&sid1=100&oid=016&aid=0001843860'), (datetime.datetime(2021, 6, 3, 15, 15, 46, 501006), '“6월 모의평가, 국·수 공통과목이 더 어려웠다”', 'https://news.naver.com/main/read.nhn?mode=LSD&mid=shm&sid1=102&oid=016&aid=0001843843')]\n",
      "200\n",
      "[(datetime.datetime(2021, 6, 3, 15, 15, 46, 664659), '대법 \"네이버, 인근 아파트 주민들에 \\'햇빛 반사광\\' 피해 배상해야\"', 'https://news.naver.com/main/read.nhn?mode=LSD&mid=shm&sid1=102&oid=469&aid=0000608534'), (datetime.datetime(2021, 6, 3, 15, 15, 46, 664659), '“6월 모의평가, 국·수 공통과목이 더 어려웠다”', 'https://news.naver.com/main/read.nhn?mode=LSD&mid=shm&sid1=102&oid=016&aid=0001843843'), (datetime.datetime(2021, 6, 3, 15, 15, 46, 665659), '평창 땐 독도 빼라던 IOC, 日 \"독도는 일본 땅\" 억지에도 \\'침묵\\'', 'https://news.naver.com/main/read.nhn?mode=LSD&mid=shm&sid1=104&oid=277&aid=0004914029'), (datetime.datetime(2021, 6, 3, 15, 15, 46, 665659), \"올 1분기 증권사 순이익 '3조'…수수료수익 9000억↑\", 'https://news.naver.com/main/read.nhn?mode=LSD&mid=shm&sid1=101&oid=008&aid=0004596640'), (datetime.datetime(2021, 6, 3, 15, 15, 46, 665659), '\"2850% 폭등한 AMC처럼\"…한국판 \\'공매도 전쟁\\' 가능할까?', 'https://news.naver.com/main/read.nhn?mode=LSD&mid=shm&sid1=101&oid=015&aid=0004556640')]\n",
      "200\n",
      "[(datetime.datetime(2021, 6, 3, 15, 15, 46, 805849), '대법 \"네이버, 인근 아파트 주민들에 \\'햇빛 반사광\\' 피해 배상해야\"', 'https://news.naver.com/main/read.nhn?mode=LSD&mid=shm&sid1=102&oid=469&aid=0000608534'), (datetime.datetime(2021, 6, 3, 15, 15, 46, 805849), '“6월 모의평가, 국·수 공통과목이 더 어려웠다”', 'https://news.naver.com/main/read.nhn?mode=LSD&mid=shm&sid1=102&oid=016&aid=0001843843'), (datetime.datetime(2021, 6, 3, 15, 15, 46, 805849), '평창 땐 독도 빼라던 IOC, 日 \"독도는 일본 땅\" 억지에도 \\'침묵\\'', 'https://news.naver.com/main/read.nhn?mode=LSD&mid=shm&sid1=104&oid=277&aid=0004914029'), (datetime.datetime(2021, 6, 3, 15, 15, 46, 805849), \"올 1분기 증권사 순이익 '3조'…수수료수익 9000억↑\", 'https://news.naver.com/main/read.nhn?mode=LSD&mid=shm&sid1=101&oid=008&aid=0004596640'), (datetime.datetime(2021, 6, 3, 15, 15, 46, 805849), '\"2850% 폭등한 AMC처럼\"…한국판 \\'공매도 전쟁\\' 가능할까?', 'https://news.naver.com/main/read.nhn?mode=LSD&mid=shm&sid1=101&oid=015&aid=0004556640')]\n",
      "200\n",
      "[(datetime.datetime(2021, 6, 3, 15, 15, 46, 946326), '대법 \"네이버, 인근 아파트 주민들에 \\'햇빛 반사광\\' 피해 배상해야\"', 'https://news.naver.com/main/read.nhn?mode=LSD&mid=shm&sid1=102&oid=469&aid=0000608534'), (datetime.datetime(2021, 6, 3, 15, 15, 46, 947328), '“6월 모의평가, 국·수 공통과목이 더 어려웠다”', 'https://news.naver.com/main/read.nhn?mode=LSD&mid=shm&sid1=102&oid=016&aid=0001843843'), (datetime.datetime(2021, 6, 3, 15, 15, 46, 947328), '평창 땐 독도 빼라던 IOC, 日 \"독도는 일본 땅\" 억지에도 \\'침묵\\'', 'https://news.naver.com/main/read.nhn?mode=LSD&mid=shm&sid1=104&oid=277&aid=0004914029'), (datetime.datetime(2021, 6, 3, 15, 15, 46, 947328), \"올 1분기 증권사 순이익 '3조'…수수료수익 9000억↑\", 'https://news.naver.com/main/read.nhn?mode=LSD&mid=shm&sid1=101&oid=008&aid=0004596640'), (datetime.datetime(2021, 6, 3, 15, 15, 46, 947328), '\"2850% 폭등한 AMC처럼\"…한국판 \\'공매도 전쟁\\' 가능할까?', 'https://news.naver.com/main/read.nhn?mode=LSD&mid=shm&sid1=101&oid=015&aid=0004556640')]\n",
      "200\n",
      "[(datetime.datetime(2021, 6, 3, 15, 15, 52, 145845), '文 “성추행 사망 사건 가슴 아파…최상급자까지 엄정수사”', 'https://news.naver.com/main/read.nhn?mode=LSD&mid=shm&sid1=102&oid=449&aid=0000209704'), (datetime.datetime(2021, 6, 3, 15, 15, 52, 145845), '공군 부사관 유족 “3명 더 고소…강제추행 추가피해도”', 'https://news.naver.com/main/read.nhn?mode=LSD&mid=shm&sid1=102&oid=005&aid=0001444592'), (datetime.datetime(2021, 6, 3, 15, 15, 52, 145845), 'SK㈜, 美모놀리스에 투자…수소사업 확장 가속화', 'https://news.naver.com/main/read.nhn?mode=LSD&mid=shm&sid1=101&oid=031&aid=0000602249'), (datetime.datetime(2021, 6, 3, 15, 15, 52, 145845), '\"日, 올림픽 정신 부정\"…의원 132명 규탄 결의안 발의', 'https://news.naver.com/main/read.nhn?mode=LSD&mid=shm&sid1=100&oid=003&aid=0010531370'), (datetime.datetime(2021, 6, 3, 15, 15, 52, 145845), '윤석열 측 \"일부 정치인 언행 도 넘었다…대응할 것\"', 'https://news.naver.com/main/read.nhn?mode=LSD&mid=shm&sid1=100&oid=437&aid=0000267939')]\n",
      "200\n",
      "[(datetime.datetime(2021, 6, 3, 15, 15, 52, 377228), '文 “성추행 사망 사건 가슴 아파…최상급자까지 엄정수사”', 'https://news.naver.com/main/read.nhn?mode=LSD&mid=shm&sid1=102&oid=449&aid=0000209704'), (datetime.datetime(2021, 6, 3, 15, 15, 52, 377228), '공군 부사관 유족 “3명 더 고소…강제추행 추가피해도”', 'https://news.naver.com/main/read.nhn?mode=LSD&mid=shm&sid1=102&oid=005&aid=0001444592'), (datetime.datetime(2021, 6, 3, 15, 15, 52, 377228), 'SK㈜, 美모놀리스에 투자…수소사업 확장 가속화', 'https://news.naver.com/main/read.nhn?mode=LSD&mid=shm&sid1=101&oid=031&aid=0000602249'), (datetime.datetime(2021, 6, 3, 15, 15, 52, 378226), '\"日, 올림픽 정신 부정\"…의원 132명 규탄 결의안 발의', 'https://news.naver.com/main/read.nhn?mode=LSD&mid=shm&sid1=100&oid=003&aid=0010531370'), (datetime.datetime(2021, 6, 3, 15, 15, 52, 378226), '윤석열 측 \"일부 정치인 언행 도 넘었다…대응할 것\"', 'https://news.naver.com/main/read.nhn?mode=LSD&mid=shm&sid1=100&oid=437&aid=0000267939')]\n",
      "200\n",
      "[(datetime.datetime(2021, 6, 3, 15, 15, 57, 557423), '文대통령 \"내부 단합, 외연 확장할 때 지지 만들어져\" (종합)', 'https://news.naver.com/main/read.nhn?mode=LSD&mid=shm&sid1=100&oid=277&aid=0004914087'), (datetime.datetime(2021, 6, 3, 15, 15, 57, 557423), '성추행 피해 중사 유족 “다른 성추행 2차례 더 있어”…고소장 제출', 'https://news.naver.com/main/read.nhn?mode=LSD&mid=shm&sid1=100&oid=056&aid=0011056624'), (datetime.datetime(2021, 6, 3, 15, 15, 57, 557423), '대법 \"네이버 통유리 반사광 피해, 다시 판단하라\"', 'https://news.naver.com/main/read.nhn?mode=LSD&mid=shm&sid1=102&oid=277&aid=0004913900'), (datetime.datetime(2021, 6, 3, 15, 15, 57, 558423), \"일반지주사 소유 CVC, '외부자금 최대 40%' 조달 허용키로\", 'https://news.naver.com/main/read.nhn?mode=LSD&mid=shm&sid1=101&oid=277&aid=0004913998'), (datetime.datetime(2021, 6, 3, 15, 15, 57, 558423), '정부 \"대구 주선 화이자 백신 \\'직구\\' 추진 안해\" (종합)', 'https://news.naver.com/main/read.nhn?mode=LSD&mid=shm&sid1=102&oid=011&aid=0003918587')]\n",
      "200\n",
      "[(datetime.datetime(2021, 6, 3, 15, 15, 57, 689392), '[2보] 이용구 \"1천만원은 합의금…영상 삭제 대가 아냐\"', 'https://news.naver.com/main/read.nhn?mode=LSD&mid=shm&sid1=102&oid=001&aid=0012434692'), (datetime.datetime(2021, 6, 3, 15, 15, 57, 689392), '日 도쿄올림픽 홈피에 \\'독도 표기\\'... 백혜련 \"영유권 침해, 삭제하라\"', 'https://news.naver.com/main/read.nhn?mode=LSD&mid=shm&sid1=100&oid=469&aid=0000608498'), (datetime.datetime(2021, 6, 3, 15, 15, 57, 690391), '\"국어영역, 독서 까다로워…EBS 체감 연계율 높아\"[6월 모평]', 'https://news.naver.com/main/read.nhn?mode=LSD&mid=shm&sid1=102&oid=421&aid=0005391122'), (datetime.datetime(2021, 6, 3, 15, 15, 57, 690391), '하정우, 프로포폴 벌금형…“겸허히 받아들이겠다” 사과 [전문]', 'https://news.naver.com/main/read.nhn?mode=LSD&mid=shm&sid1=102&oid=057&aid=0001581700'), (datetime.datetime(2021, 6, 3, 15, 15, 57, 690391), '중앙방역대책본부 브리핑 (6월 3일)', 'https://news.naver.com/main/read.nhn?mode=LSD&mid=shm&sid1=100&oid=052&aid=0001596472')]\n",
      "200\n",
      "[(datetime.datetime(2021, 6, 3, 15, 15, 57, 848389), '[2보] 이용구 \"1천만원은 합의금…영상 삭제 대가 아냐\"', 'https://news.naver.com/main/read.nhn?mode=LSD&mid=shm&sid1=102&oid=001&aid=0012434692'), (datetime.datetime(2021, 6, 3, 15, 15, 57, 848389), '日 도쿄올림픽 홈피에 \\'독도 표기\\'... 백혜련 \"영유권 침해, 삭제하라\"', 'https://news.naver.com/main/read.nhn?mode=LSD&mid=shm&sid1=100&oid=469&aid=0000608498'), (datetime.datetime(2021, 6, 3, 15, 15, 57, 849389), '\"국어영역, 독서 까다로워…EBS 체감 연계율 높아\"[6월 모평]', 'https://news.naver.com/main/read.nhn?mode=LSD&mid=shm&sid1=102&oid=421&aid=0005391122'), (datetime.datetime(2021, 6, 3, 15, 15, 57, 849389), '하정우, 프로포폴 벌금형…“겸허히 받아들이겠다” 사과 [전문]', 'https://news.naver.com/main/read.nhn?mode=LSD&mid=shm&sid1=102&oid=057&aid=0001581700'), (datetime.datetime(2021, 6, 3, 15, 15, 57, 849389), '중앙방역대책본부 브리핑 (6월 3일)', 'https://news.naver.com/main/read.nhn?mode=LSD&mid=shm&sid1=100&oid=052&aid=0001596472')]\n",
      "200\n"
     ]
    },
    {
     "name": "stdout",
     "output_type": "stream",
     "text": [
      "[(datetime.datetime(2021, 6, 3, 15, 15, 57, 992811), '[2보] 이용구 \"1천만원은 합의금…영상 삭제 대가 아냐\"', 'https://news.naver.com/main/read.nhn?mode=LSD&mid=shm&sid1=102&oid=001&aid=0012434692'), (datetime.datetime(2021, 6, 3, 15, 15, 57, 992811), '日 도쿄올림픽 홈피에 \\'독도 표기\\'... 백혜련 \"영유권 침해, 삭제하라\"', 'https://news.naver.com/main/read.nhn?mode=LSD&mid=shm&sid1=100&oid=469&aid=0000608498'), (datetime.datetime(2021, 6, 3, 15, 15, 57, 992811), '\"국어영역, 독서 까다로워…EBS 체감 연계율 높아\"[6월 모평]', 'https://news.naver.com/main/read.nhn?mode=LSD&mid=shm&sid1=102&oid=421&aid=0005391122'), (datetime.datetime(2021, 6, 3, 15, 15, 57, 993810), '하정우, 프로포폴 벌금형…“겸허히 받아들이겠다” 사과 [전문]', 'https://news.naver.com/main/read.nhn?mode=LSD&mid=shm&sid1=102&oid=057&aid=0001581700'), (datetime.datetime(2021, 6, 3, 15, 15, 57, 993810), '중앙방역대책본부 브리핑 (6월 3일)', 'https://news.naver.com/main/read.nhn?mode=LSD&mid=shm&sid1=100&oid=052&aid=0001596472')]\n",
      "200\n",
      "[(datetime.datetime(2021, 6, 3, 15, 16, 3, 201686), \"국방부, '성추행 사망' 사건 수사심의위 설치…군 검·경과 합동수사\", 'https://news.naver.com/main/read.nhn?mode=LSD&mid=shm&sid1=102&oid=082&aid=0001095798'), (datetime.datetime(2021, 6, 3, 15, 16, 3, 201686), '전국 차츰 비…더위 누그러져[날씨]', 'https://news.naver.com/main/read.nhn?mode=LSD&mid=shm&sid1=103&oid=214&aid=0001122791'), (datetime.datetime(2021, 6, 3, 15, 16, 3, 201686), '이용구 \"1천만원은 합의금…영상 삭제 대가 아냐\"(종합)', 'https://news.naver.com/main/read.nhn?mode=LSD&mid=shm&sid1=102&oid=001&aid=0012434926'), (datetime.datetime(2021, 6, 3, 15, 16, 3, 201686), 'SK㈜, 美 수소기업 모놀리스에 투자…청록수소 사업 진출', 'https://news.naver.com/main/read.nhn?mode=LSD&mid=shm&sid1=101&oid=025&aid=0003106829'), (datetime.datetime(2021, 6, 3, 15, 16, 3, 201686), '증권사 1분기 순익 3조…종전 최대치 대비 38.6%↑', 'https://news.naver.com/main/read.nhn?mode=LSD&mid=shm&sid1=101&oid=016&aid=0001843812')]\n",
      "200\n",
      "[(datetime.datetime(2021, 6, 3, 15, 16, 3, 336920), \"국방부, '성추행 사망' 사건 수사심의위 설치…군 검·경과 합동수사\", 'https://news.naver.com/main/read.nhn?mode=LSD&mid=shm&sid1=102&oid=082&aid=0001095798'), (datetime.datetime(2021, 6, 3, 15, 16, 3, 336920), '전국 차츰 비…더위 누그러져[날씨]', 'https://news.naver.com/main/read.nhn?mode=LSD&mid=shm&sid1=103&oid=214&aid=0001122791'), (datetime.datetime(2021, 6, 3, 15, 16, 3, 336920), '이용구 \"1천만원은 합의금…영상 삭제 대가 아냐\"(종합)', 'https://news.naver.com/main/read.nhn?mode=LSD&mid=shm&sid1=102&oid=001&aid=0012434926'), (datetime.datetime(2021, 6, 3, 15, 16, 3, 336920), 'SK㈜, 美 수소기업 모놀리스에 투자…청록수소 사업 진출', 'https://news.naver.com/main/read.nhn?mode=LSD&mid=shm&sid1=101&oid=025&aid=0003106829'), (datetime.datetime(2021, 6, 3, 15, 16, 3, 337918), '증권사 1분기 순익 3조…종전 최대치 대비 38.6%↑', 'https://news.naver.com/main/read.nhn?mode=LSD&mid=shm&sid1=101&oid=016&aid=0001843812')]\n",
      "200\n",
      "[(datetime.datetime(2021, 6, 3, 15, 16, 8, 530993), \"'택시기사 폭행' 이용구 차관을 둘러싼 '4갈래 수사'\", 'https://news.naver.com/main/read.nhn?mode=LSD&mid=shm&sid1=102&oid=052&aid=0001596442'), (datetime.datetime(2021, 6, 3, 15, 16, 8, 530993), '女 중사 유족, “다른 상관에 의해 성추행 피해 최소 2차례 더 있었다” 고소장 제출', 'https://news.naver.com/main/read.nhn?mode=LSD&mid=shm&sid1=100&oid=022&aid=0003587154'), (datetime.datetime(2021, 6, 3, 15, 16, 8, 530993), '[단독]검찰, ‘프로포폴 투약’ 하정우 벌금형 약식기소', 'https://news.naver.com/main/read.nhn?mode=LSD&mid=shm&sid1=102&oid=449&aid=0000209702'), (datetime.datetime(2021, 6, 3, 15, 16, 8, 530993), '정부 \"대구시 주선 화이자 백신 진위 의심…구매 안 해\"', 'https://news.naver.com/main/read.nhn?mode=LSD&mid=shm&sid1=100&oid=055&aid=0000898374'), (datetime.datetime(2021, 6, 3, 15, 16, 8, 531991), \"공정위, 삼성그룹 급식 몰아주기 의혹 관련 '자진시정' 성격 동의의결 기각\", 'https://news.naver.com/main/read.nhn?mode=LSD&mid=shm&sid1=101&oid=214&aid=0001122873')]\n",
      "200\n",
      "[(datetime.datetime(2021, 6, 3, 15, 16, 8, 748562), \"'택시기사 폭행' 이용구 차관을 둘러싼 '4갈래 수사'\", 'https://news.naver.com/main/read.nhn?mode=LSD&mid=shm&sid1=102&oid=052&aid=0001596442'), (datetime.datetime(2021, 6, 3, 15, 16, 8, 748562), '‘급식 몰아주기’ 삼성 자진시정 신청 기각…공정위, 본안 다투기로', 'https://news.naver.com/main/read.nhn?mode=LSD&mid=shm&sid1=101&oid=028&aid=0002547059'), (datetime.datetime(2021, 6, 3, 15, 16, 8, 748562), \"'아워홈' 구본성 부회장, 보복운전으로 1심 집행유예\", 'https://news.naver.com/main/read.nhn?mode=LSD&mid=shm&sid1=102&oid=055&aid=0000898401'), (datetime.datetime(2021, 6, 3, 15, 16, 8, 748562), \"국회의원 132명 '도쿄올림픽 지도 독도 삭제' 규탄결의안 발의\", 'https://news.naver.com/main/read.nhn?mode=LSD&mid=shm&sid1=100&oid=011&aid=0003918697'), (datetime.datetime(2021, 6, 3, 15, 16, 8, 748562), '공정위, 벤처지주회사 요건 완화…CVC 외부자금 상한은 40%로', 'https://news.naver.com/main/read.nhn?mode=LSD&mid=shm&sid1=101&oid=014&aid=0004650601')]\n",
      "200\n",
      "[(datetime.datetime(2021, 6, 3, 15, 16, 8, 884338), \"'택시기사 폭행' 이용구 차관을 둘러싼 '4갈래 수사'\", 'https://news.naver.com/main/read.nhn?mode=LSD&mid=shm&sid1=102&oid=052&aid=0001596442'), (datetime.datetime(2021, 6, 3, 15, 16, 8, 884338), '‘급식 몰아주기’ 삼성 자진시정 신청 기각…공정위, 본안 다투기로', 'https://news.naver.com/main/read.nhn?mode=LSD&mid=shm&sid1=101&oid=028&aid=0002547059'), (datetime.datetime(2021, 6, 3, 15, 16, 8, 885348), \"'아워홈' 구본성 부회장, 보복운전으로 1심 집행유예\", 'https://news.naver.com/main/read.nhn?mode=LSD&mid=shm&sid1=102&oid=055&aid=0000898401'), (datetime.datetime(2021, 6, 3, 15, 16, 8, 885348), \"국회의원 132명 '도쿄올림픽 지도 독도 삭제' 규탄결의안 발의\", 'https://news.naver.com/main/read.nhn?mode=LSD&mid=shm&sid1=100&oid=011&aid=0003918697'), (datetime.datetime(2021, 6, 3, 15, 16, 8, 885348), '공정위, 벤처지주회사 요건 완화…CVC 외부자금 상한은 40%로', 'https://news.naver.com/main/read.nhn?mode=LSD&mid=shm&sid1=101&oid=014&aid=0004650601')]\n",
      "200\n",
      "[(datetime.datetime(2021, 6, 3, 15, 16, 9, 54911), \"'택시기사 폭행' 이용구 차관을 둘러싼 '4갈래 수사'\", 'https://news.naver.com/main/read.nhn?mode=LSD&mid=shm&sid1=102&oid=052&aid=0001596442'), (datetime.datetime(2021, 6, 3, 15, 16, 9, 54911), '‘급식 몰아주기’ 삼성 자진시정 신청 기각…공정위, 본안 다투기로', 'https://news.naver.com/main/read.nhn?mode=LSD&mid=shm&sid1=101&oid=028&aid=0002547059'), (datetime.datetime(2021, 6, 3, 15, 16, 9, 54911), \"'아워홈' 구본성 부회장, 보복운전으로 1심 집행유예\", 'https://news.naver.com/main/read.nhn?mode=LSD&mid=shm&sid1=102&oid=055&aid=0000898401'), (datetime.datetime(2021, 6, 3, 15, 16, 9, 55910), \"국회의원 132명 '도쿄올림픽 지도 독도 삭제' 규탄결의안 발의\", 'https://news.naver.com/main/read.nhn?mode=LSD&mid=shm&sid1=100&oid=011&aid=0003918697'), (datetime.datetime(2021, 6, 3, 15, 16, 9, 55910), '공정위, 벤처지주회사 요건 완화…CVC 외부자금 상한은 40%로', 'https://news.naver.com/main/read.nhn?mode=LSD&mid=shm&sid1=101&oid=014&aid=0004650601')]\n",
      "200\n",
      "[(datetime.datetime(2021, 6, 3, 15, 16, 14, 268090), '무차입 공매도 의심거래 720건 감리…금융위 \"11일 공매도 종목 변경 주의\"', 'https://news.naver.com/main/read.nhn?mode=LSD&mid=shm&sid1=101&oid=277&aid=0004914075'), (datetime.datetime(2021, 6, 3, 15, 16, 14, 268090), '\\'택시기사 폭행\\' 이용구 \"1000만 원은 합의금…영상 삭제 대가 아냐\"', 'https://news.naver.com/main/read.nhn?mode=LSD&mid=shm&sid1=102&oid=018&aid=0004946237'), (datetime.datetime(2021, 6, 3, 15, 16, 14, 268090), '文대통령 \"민주당에 자부심...내부 단합·외연 확장 때 지지 생겨\"', 'https://news.naver.com/main/read.nhn?mode=LSD&mid=shm&sid1=100&oid=011&aid=0003918640'), (datetime.datetime(2021, 6, 3, 15, 16, 14, 269089), '여당 초선들 만난 문 대통령 “경제 성과 있지만 국민 고통 마음 아프다”···초선들은 “재정 확대 요청”', 'https://news.naver.com/main/read.nhn?mode=LSD&mid=shm&sid1=100&oid=032&aid=0003077977'), (datetime.datetime(2021, 6, 3, 15, 16, 14, 269089), '정부 “대구시 주선 화이자, 도입 않기로”…화이자 “고발 검토”', 'https://news.naver.com/main/read.nhn?mode=LSD&mid=shm&sid1=102&oid=449&aid=0000209722')]\n",
      "200\n",
      "[(datetime.datetime(2021, 6, 3, 15, 16, 14, 479747), '무차입 공매도 의심거래 720건 감리…금융위 \"11일 공매도 종목 변경 주의\"', 'https://news.naver.com/main/read.nhn?mode=LSD&mid=shm&sid1=101&oid=277&aid=0004914075'), (datetime.datetime(2021, 6, 3, 15, 16, 14, 479747), '\\'택시기사 폭행\\' 이용구 \"1000만 원은 합의금…영상 삭제 대가 아냐\"', 'https://news.naver.com/main/read.nhn?mode=LSD&mid=shm&sid1=102&oid=018&aid=0004946237'), (datetime.datetime(2021, 6, 3, 15, 16, 14, 479747), '文대통령 \"민주당에 자부심...내부 단합·외연 확장 때 지지 생겨\"', 'https://news.naver.com/main/read.nhn?mode=LSD&mid=shm&sid1=100&oid=011&aid=0003918640'), (datetime.datetime(2021, 6, 3, 15, 16, 14, 479747), '여당 초선들 만난 문 대통령 “경제 성과 있지만 국민 고통 마음 아프다”···초선들은 “재정 확대 요청”', 'https://news.naver.com/main/read.nhn?mode=LSD&mid=shm&sid1=100&oid=032&aid=0003077977'), (datetime.datetime(2021, 6, 3, 15, 16, 14, 479747), '정부 “대구시 주선 화이자, 도입 않기로”…화이자 “고발 검토”', 'https://news.naver.com/main/read.nhn?mode=LSD&mid=shm&sid1=102&oid=449&aid=0000209722')]\n",
      "200\n",
      "[(datetime.datetime(2021, 6, 3, 15, 16, 19, 794029), '문 대통령, 여부사관 사건에 \"가슴 아파\"…엄정 수사 지시', 'https://news.naver.com/main/read.nhn?mode=LSD&mid=shm&sid1=100&oid=437&aid=0000267943'), (datetime.datetime(2021, 6, 3, 15, 16, 19, 794029), 'SK㈜, 세계 최초 청록수소 생산 회사 투자…수소사업 확장 `속도`', 'https://news.naver.com/main/read.nhn?mode=LSD&mid=shm&sid1=101&oid=029&aid=0002678026'), (datetime.datetime(2021, 6, 3, 15, 16, 19, 794029), '60세 이상 고령층 등 사전예약률 77.7%…오늘 접수 마감', 'https://news.naver.com/main/read.nhn?mode=LSD&mid=shm&sid1=102&oid=056&aid=0011056636'), (datetime.datetime(2021, 6, 3, 15, 16, 19, 794029), '‘공군 부사관 성추행’ 사건 ‘뒷북’ 국방부, 수사심의위 설치', 'https://news.naver.com/main/read.nhn?mode=LSD&mid=shm&sid1=100&oid=005&aid=0001444582'), (datetime.datetime(2021, 6, 3, 15, 16, 19, 794029), '이용구 “택시기사 준 1000만 원 합의금…영상삭제 대가 아냐”', 'https://news.naver.com/main/read.nhn?mode=LSD&mid=shm&sid1=102&oid=020&aid=0003361584')]\n",
      "200\n"
     ]
    },
    {
     "name": "stdout",
     "output_type": "stream",
     "text": [
      "[(datetime.datetime(2021, 6, 3, 15, 16, 19, 924502), '문 대통령, 여부사관 사건에 \"가슴 아파\"…엄정 수사 지시', 'https://news.naver.com/main/read.nhn?mode=LSD&mid=shm&sid1=100&oid=437&aid=0000267943'), (datetime.datetime(2021, 6, 3, 15, 16, 19, 924502), 'SK㈜, 세계 최초 청록수소 생산 회사 투자…수소사업 확장 `속도`', 'https://news.naver.com/main/read.nhn?mode=LSD&mid=shm&sid1=101&oid=029&aid=0002678026'), (datetime.datetime(2021, 6, 3, 15, 16, 19, 924502), '60세 이상 고령층 등 사전예약률 77.7%…오늘 접수 마감', 'https://news.naver.com/main/read.nhn?mode=LSD&mid=shm&sid1=102&oid=056&aid=0011056636'), (datetime.datetime(2021, 6, 3, 15, 16, 19, 924502), '‘공군 부사관 성추행’ 사건 ‘뒷북’ 국방부, 수사심의위 설치', 'https://news.naver.com/main/read.nhn?mode=LSD&mid=shm&sid1=100&oid=005&aid=0001444582'), (datetime.datetime(2021, 6, 3, 15, 16, 19, 924502), '이용구 “택시기사 준 1000만 원 합의금…영상삭제 대가 아냐”', 'https://news.naver.com/main/read.nhn?mode=LSD&mid=shm&sid1=102&oid=020&aid=0003361584')]\n",
      "200\n",
      "[(datetime.datetime(2021, 6, 3, 15, 16, 20, 63869), '문 대통령, 여부사관 사건에 \"가슴 아파\"…엄정 수사 지시', 'https://news.naver.com/main/read.nhn?mode=LSD&mid=shm&sid1=100&oid=437&aid=0000267943'), (datetime.datetime(2021, 6, 3, 15, 16, 20, 64869), 'SK㈜, 세계 최초 청록수소 생산 회사 투자…수소사업 확장 `속도`', 'https://news.naver.com/main/read.nhn?mode=LSD&mid=shm&sid1=101&oid=029&aid=0002678026'), (datetime.datetime(2021, 6, 3, 15, 16, 20, 64869), '60세 이상 고령층 등 사전예약률 77.7%…오늘 접수 마감', 'https://news.naver.com/main/read.nhn?mode=LSD&mid=shm&sid1=102&oid=056&aid=0011056636'), (datetime.datetime(2021, 6, 3, 15, 16, 20, 64869), '‘공군 부사관 성추행’ 사건 ‘뒷북’ 국방부, 수사심의위 설치', 'https://news.naver.com/main/read.nhn?mode=LSD&mid=shm&sid1=100&oid=005&aid=0001444582'), (datetime.datetime(2021, 6, 3, 15, 16, 20, 64869), '이용구 “택시기사 준 1000만 원 합의금…영상삭제 대가 아냐”', 'https://news.naver.com/main/read.nhn?mode=LSD&mid=shm&sid1=102&oid=020&aid=0003361584')]\n",
      "200\n",
      "[(datetime.datetime(2021, 6, 3, 15, 16, 20, 271881), '문 대통령, 여부사관 사건에 \"가슴 아파\"…엄정 수사 지시', 'https://news.naver.com/main/read.nhn?mode=LSD&mid=shm&sid1=100&oid=437&aid=0000267943'), (datetime.datetime(2021, 6, 3, 15, 16, 20, 271881), 'SK㈜, 세계 최초 청록수소 생산 회사 투자…수소사업 확장 `속도`', 'https://news.naver.com/main/read.nhn?mode=LSD&mid=shm&sid1=101&oid=029&aid=0002678026'), (datetime.datetime(2021, 6, 3, 15, 16, 20, 271881), '60세 이상 고령층 등 사전예약률 77.7%…오늘 접수 마감', 'https://news.naver.com/main/read.nhn?mode=LSD&mid=shm&sid1=102&oid=056&aid=0011056636'), (datetime.datetime(2021, 6, 3, 15, 16, 20, 271881), '‘공군 부사관 성추행’ 사건 ‘뒷북’ 국방부, 수사심의위 설치', 'https://news.naver.com/main/read.nhn?mode=LSD&mid=shm&sid1=100&oid=005&aid=0001444582'), (datetime.datetime(2021, 6, 3, 15, 16, 20, 272881), '이용구 “택시기사 준 1000만 원 합의금…영상삭제 대가 아냐”', 'https://news.naver.com/main/read.nhn?mode=LSD&mid=shm&sid1=102&oid=020&aid=0003361584')]\n",
      "200\n",
      "[(datetime.datetime(2021, 6, 3, 15, 16, 25, 504182), '이용구 “합의금, 블랙박스 영상 삭제 대가 아냐”', 'https://news.naver.com/main/read.nhn?mode=LSD&mid=shm&sid1=115&oid=449&aid=0000209710'), (datetime.datetime(2021, 6, 3, 15, 16, 25, 504182), '6월 모평, 수학도 공통과목이 어려웠다… 문과 불리할 듯', 'https://news.naver.com/main/read.nhn?mode=LSD&mid=shm&sid1=102&oid=008&aid=0004596698'), (datetime.datetime(2021, 6, 3, 15, 16, 25, 504182), '軍, 성추행 사망 사건 수사심의위 구성…부대 관계자 줄소환 예정', 'https://news.naver.com/main/read.nhn?mode=LSD&mid=shm&sid1=100&oid=079&aid=0003511505'), (datetime.datetime(2021, 6, 3, 15, 16, 25, 504182), \"국회의원 132명, 도쿄올림픽 '독도 표기' 규탄\", 'https://news.naver.com/main/read.nhn?mode=LSD&mid=shm&sid1=100&oid=214&aid=0001122836'), (datetime.datetime(2021, 6, 3, 15, 16, 25, 504182), '화이자 백신 접종하는 어르신들', 'https://news.naver.com/main/read.nhn?mode=LSD&mid=shm&sid1=102&oid=421&aid=0005391556')]\n",
      "200\n",
      "[(datetime.datetime(2021, 6, 3, 15, 16, 25, 646470), '‘급식 몰아주기’ 삼성 자진시정 신청 기각…공정위, 본안 다투기로', 'https://news.naver.com/main/read.nhn?mode=LSD&mid=shm&sid1=101&oid=028&aid=0002547059'), (datetime.datetime(2021, 6, 3, 15, 16, 25, 646470), '금융위 \"공매도 원활히 정착...주가와 상관관계 없어\"', 'https://news.naver.com/main/read.nhn?mode=LSD&mid=shm&sid1=101&oid=215&aid=0000962339'), (datetime.datetime(2021, 6, 3, 15, 16, 25, 646470), '\"대구에 화이자 백신 제안한 업체...플로리다 주소, 포르투갈 전화\"', 'https://news.naver.com/main/read.nhn?mode=LSD&mid=shm&sid1=102&oid=018&aid=0004946598'), (datetime.datetime(2021, 6, 3, 15, 16, 25, 647470), '“국어 선택과목, 언어와 매체가 더 어려웠다”', 'https://news.naver.com/main/read.nhn?mode=LSD&mid=shm&sid1=102&oid=018&aid=0004946417'), (datetime.datetime(2021, 6, 3, 15, 16, 25, 647470), '군검찰 `부사관 성추행` 원점서 수사…“회유·은폐 가담자 모두 소환”', 'https://news.naver.com/main/read.nhn?mode=LSD&mid=shm&sid1=100&oid=018&aid=0004946285')]\n",
      "200\n",
      "[(datetime.datetime(2021, 6, 3, 15, 16, 30, 854284), '문대통령, 女부사관 사건에 \"가슴 아파\"…엄정 수사 지시(종합)', 'https://news.naver.com/main/read.nhn?mode=LSD&mid=shm&sid1=100&oid=001&aid=0012435327'), (datetime.datetime(2021, 6, 3, 15, 16, 30, 854284), '코로나19 대응 중앙방역대책본부 브리핑', 'https://news.naver.com/main/read.nhn?mode=LSD&mid=shm&sid1=102&oid=214&aid=0001122865'), (datetime.datetime(2021, 6, 3, 15, 16, 30, 854284), '민주·정의 132명 의원들 \"도쿄올림픽 \\'독도 표기\\' 규탄\"', 'https://news.naver.com/main/read.nhn?mode=LSD&mid=shm&sid1=100&oid=448&aid=0000329976'), (datetime.datetime(2021, 6, 3, 15, 16, 30, 854284), '공매도 거래대금 3월 대비 소폭 증가…전체 거래대금 비중은 40%↓', 'https://news.naver.com/main/read.nhn?mode=LSD&mid=shm&sid1=101&oid=016&aid=0001843874'), (datetime.datetime(2021, 6, 3, 15, 16, 30, 854284), '尹측, 장모 겨눈 송영길·정세균에 \"정치인 도 넘은 비방…적극 대응\"', 'https://news.naver.com/main/read.nhn?mode=LSD&mid=shm&sid1=100&oid=421&aid=0005391022')]\n",
      "200\n",
      "[(datetime.datetime(2021, 6, 3, 15, 16, 31, 33111), '문대통령, 女부사관 사건에 \"가슴 아파\"…엄정 수사 지시(종합)', 'https://news.naver.com/main/read.nhn?mode=LSD&mid=shm&sid1=100&oid=001&aid=0012435327'), (datetime.datetime(2021, 6, 3, 15, 16, 31, 33111), '코로나19 대응 중앙방역대책본부 브리핑', 'https://news.naver.com/main/read.nhn?mode=LSD&mid=shm&sid1=102&oid=214&aid=0001122865'), (datetime.datetime(2021, 6, 3, 15, 16, 31, 33111), '민주·정의 132명 의원들 \"도쿄올림픽 \\'독도 표기\\' 규탄\"', 'https://news.naver.com/main/read.nhn?mode=LSD&mid=shm&sid1=100&oid=448&aid=0000329976'), (datetime.datetime(2021, 6, 3, 15, 16, 31, 33111), '공매도 거래대금 3월 대비 소폭 증가…전체 거래대금 비중은 40%↓', 'https://news.naver.com/main/read.nhn?mode=LSD&mid=shm&sid1=101&oid=016&aid=0001843874'), (datetime.datetime(2021, 6, 3, 15, 16, 31, 33111), '尹측, 장모 겨눈 송영길·정세균에 \"정치인 도 넘은 비방…적극 대응\"', 'https://news.naver.com/main/read.nhn?mode=LSD&mid=shm&sid1=100&oid=421&aid=0005391022')]\n",
      "200\n",
      "[(datetime.datetime(2021, 6, 3, 15, 16, 31, 170720), '문대통령, 女부사관 사건에 \"가슴 아파\"…엄정 수사 지시(종합)', 'https://news.naver.com/main/read.nhn?mode=LSD&mid=shm&sid1=100&oid=001&aid=0012435327'), (datetime.datetime(2021, 6, 3, 15, 16, 31, 170720), '코로나19 대응 중앙방역대책본부 브리핑', 'https://news.naver.com/main/read.nhn?mode=LSD&mid=shm&sid1=102&oid=214&aid=0001122865'), (datetime.datetime(2021, 6, 3, 15, 16, 31, 170720), '민주·정의 132명 의원들 \"도쿄올림픽 \\'독도 표기\\' 규탄\"', 'https://news.naver.com/main/read.nhn?mode=LSD&mid=shm&sid1=100&oid=448&aid=0000329976'), (datetime.datetime(2021, 6, 3, 15, 16, 31, 170720), '공매도 거래대금 3월 대비 소폭 증가…전체 거래대금 비중은 40%↓', 'https://news.naver.com/main/read.nhn?mode=LSD&mid=shm&sid1=101&oid=016&aid=0001843874'), (datetime.datetime(2021, 6, 3, 15, 16, 31, 171721), '尹측, 장모 겨눈 송영길·정세균에 \"정치인 도 넘은 비방…적극 대응\"', 'https://news.naver.com/main/read.nhn?mode=LSD&mid=shm&sid1=100&oid=421&aid=0005391022')]\n",
      "200\n",
      "[(datetime.datetime(2021, 6, 3, 15, 16, 31, 379085), '문대통령, 女부사관 사건에 \"가슴 아파\"…엄정 수사 지시(종합)', 'https://news.naver.com/main/read.nhn?mode=LSD&mid=shm&sid1=100&oid=001&aid=0012435327'), (datetime.datetime(2021, 6, 3, 15, 16, 31, 379085), '코로나19 대응 중앙방역대책본부 브리핑', 'https://news.naver.com/main/read.nhn?mode=LSD&mid=shm&sid1=102&oid=214&aid=0001122865'), (datetime.datetime(2021, 6, 3, 15, 16, 31, 379085), '민주·정의 132명 의원들 \"도쿄올림픽 \\'독도 표기\\' 규탄\"', 'https://news.naver.com/main/read.nhn?mode=LSD&mid=shm&sid1=100&oid=448&aid=0000329976'), (datetime.datetime(2021, 6, 3, 15, 16, 31, 379085), '공매도 거래대금 3월 대비 소폭 증가…전체 거래대금 비중은 40%↓', 'https://news.naver.com/main/read.nhn?mode=LSD&mid=shm&sid1=101&oid=016&aid=0001843874'), (datetime.datetime(2021, 6, 3, 15, 16, 31, 379085), '尹측, 장모 겨눈 송영길·정세균에 \"정치인 도 넘은 비방…적극 대응\"', 'https://news.naver.com/main/read.nhn?mode=LSD&mid=shm&sid1=100&oid=421&aid=0005391022')]\n",
      "200\n",
      "[(datetime.datetime(2021, 6, 3, 15, 16, 36, 590963), \"접종후 확진 '돌파감염' 5명 늘어 누적 9명…모두 화이자 접종\", 'https://news.naver.com/main/read.nhn?mode=LSD&mid=shm&sid1=102&oid=001&aid=0012435912'), (datetime.datetime(2021, 6, 3, 15, 16, 36, 591962), '윤석열 측, \\'尹 가족 엄정수사\\' 촉구한 송영길 발언에 \"도를 넘었다\"', 'https://news.naver.com/main/read.nhn?mode=LSD&mid=shm&sid1=100&oid=011&aid=0003918512'), (datetime.datetime(2021, 6, 3, 15, 16, 36, 591962), '이용구 \"택시기사 준 1000만원은 합의금\"... \\'영상 삭제 대가\\' 부인', 'https://news.naver.com/main/read.nhn?mode=LSD&mid=shm&sid1=102&oid=469&aid=0000608489'), (datetime.datetime(2021, 6, 3, 15, 16, 36, 591962), \"수학, 공통과목서 변별력·선택과목 평이…15·22번 '킬러문항'[6월 모평]\", 'https://news.naver.com/main/read.nhn?mode=LSD&mid=shm&sid1=102&oid=421&aid=0005391323'), (datetime.datetime(2021, 6, 3, 15, 16, 36, 591962), '文대통령 “공군 女부사관 사건, 가슴 아파”…엄정 수사 지시', 'https://news.naver.com/main/read.nhn?mode=LSD&mid=shm&sid1=100&oid=020&aid=0003361610')]\n",
      "200\n"
     ]
    },
    {
     "name": "stdout",
     "output_type": "stream",
     "text": [
      "[(datetime.datetime(2021, 6, 3, 15, 16, 36, 830982), \"접종후 확진 '돌파감염' 5명 늘어 누적 9명…모두 화이자 접종\", 'https://news.naver.com/main/read.nhn?mode=LSD&mid=shm&sid1=102&oid=001&aid=0012435912'), (datetime.datetime(2021, 6, 3, 15, 16, 36, 830982), '윤석열 측, \\'尹 가족 엄정수사\\' 촉구한 송영길 발언에 \"도를 넘었다\"', 'https://news.naver.com/main/read.nhn?mode=LSD&mid=shm&sid1=100&oid=011&aid=0003918512'), (datetime.datetime(2021, 6, 3, 15, 16, 36, 831984), '이용구 \"택시기사 준 1000만원은 합의금\"... \\'영상 삭제 대가\\' 부인', 'https://news.naver.com/main/read.nhn?mode=LSD&mid=shm&sid1=102&oid=469&aid=0000608489'), (datetime.datetime(2021, 6, 3, 15, 16, 36, 831984), \"수학, 공통과목서 변별력·선택과목 평이…15·22번 '킬러문항'[6월 모평]\", 'https://news.naver.com/main/read.nhn?mode=LSD&mid=shm&sid1=102&oid=421&aid=0005391323'), (datetime.datetime(2021, 6, 3, 15, 16, 36, 831984), '文대통령 “공군 女부사관 사건, 가슴 아파”…엄정 수사 지시', 'https://news.naver.com/main/read.nhn?mode=LSD&mid=shm&sid1=100&oid=020&aid=0003361610')]\n",
      "200\n",
      "[(datetime.datetime(2021, 6, 3, 15, 16, 42, 9800), '文 \"공군 성폭력 사망건, 지휘라인도 살펴야\"…책임론 언급(종합2보)', 'https://news.naver.com/main/read.nhn?mode=LSD&mid=shm&sid1=100&oid=421&aid=0005391781'), (datetime.datetime(2021, 6, 3, 15, 16, 42, 9800), \"'보복운전' 구본성 아워홈 부회장, 1심 집행유예… 취재진 질문에 '침묵'\", 'https://news.naver.com/main/read.nhn?mode=LSD&mid=shm&sid1=102&oid=417&aid=0000700583'), (datetime.datetime(2021, 6, 3, 15, 16, 42, 9800), '하정우, \\'프로포폴 불법 투약\\' 벌금형… \"안일한 판단 반성\"', 'https://news.naver.com/main/read.nhn?mode=LSD&mid=shm&sid1=102&oid=082&aid=0001095849'), (datetime.datetime(2021, 6, 3, 15, 16, 42, 9800), '전국 곳곳에 벼락·강풍 동반한 요란한 비...언제 그칠까[날씨]', 'https://news.naver.com/main/read.nhn?mode=LSD&mid=shm&sid1=103&oid=052&aid=0001596413'), (datetime.datetime(2021, 6, 3, 15, 16, 42, 9800), '[영상]대구 주선 화이자 구매 안한다···권영진 시장 사과 청원', 'https://news.naver.com/main/read.nhn?mode=LSD&mid=shm&sid1=102&oid=079&aid=0003511620')]\n",
      "200\n",
      "[(datetime.datetime(2021, 6, 3, 15, 16, 42, 145600), '文 \"공군 성폭력 사망건, 지휘라인도 살펴야\"…책임론 언급(종합2보)', 'https://news.naver.com/main/read.nhn?mode=LSD&mid=shm&sid1=100&oid=421&aid=0005391781'), (datetime.datetime(2021, 6, 3, 15, 16, 42, 145600), \"'보복운전' 구본성 아워홈 부회장, 1심 집행유예… 취재진 질문에 '침묵'\", 'https://news.naver.com/main/read.nhn?mode=LSD&mid=shm&sid1=102&oid=417&aid=0000700583'), (datetime.datetime(2021, 6, 3, 15, 16, 42, 146599), '하정우, \\'프로포폴 불법 투약\\' 벌금형… \"안일한 판단 반성\"', 'https://news.naver.com/main/read.nhn?mode=LSD&mid=shm&sid1=102&oid=082&aid=0001095849'), (datetime.datetime(2021, 6, 3, 15, 16, 42, 146599), '전국 곳곳에 벼락·강풍 동반한 요란한 비...언제 그칠까[날씨]', 'https://news.naver.com/main/read.nhn?mode=LSD&mid=shm&sid1=103&oid=052&aid=0001596413'), (datetime.datetime(2021, 6, 3, 15, 16, 42, 146599), '[영상]대구 주선 화이자 구매 안한다···권영진 시장 사과 청원', 'https://news.naver.com/main/read.nhn?mode=LSD&mid=shm&sid1=102&oid=079&aid=0003511620')]\n",
      "200\n",
      "[(datetime.datetime(2021, 6, 3, 15, 16, 42, 298828), '文 \"공군 성폭력 사망건, 지휘라인도 살펴야\"…책임론 언급(종합2보)', 'https://news.naver.com/main/read.nhn?mode=LSD&mid=shm&sid1=100&oid=421&aid=0005391781'), (datetime.datetime(2021, 6, 3, 15, 16, 42, 298828), \"'보복운전' 구본성 아워홈 부회장, 1심 집행유예… 취재진 질문에 '침묵'\", 'https://news.naver.com/main/read.nhn?mode=LSD&mid=shm&sid1=102&oid=417&aid=0000700583'), (datetime.datetime(2021, 6, 3, 15, 16, 42, 298828), '하정우, \\'프로포폴 불법 투약\\' 벌금형… \"안일한 판단 반성\"', 'https://news.naver.com/main/read.nhn?mode=LSD&mid=shm&sid1=102&oid=082&aid=0001095849'), (datetime.datetime(2021, 6, 3, 15, 16, 42, 298828), '전국 곳곳에 벼락·강풍 동반한 요란한 비...언제 그칠까[날씨]', 'https://news.naver.com/main/read.nhn?mode=LSD&mid=shm&sid1=103&oid=052&aid=0001596413'), (datetime.datetime(2021, 6, 3, 15, 16, 42, 298828), '[영상]대구 주선 화이자 구매 안한다···권영진 시장 사과 청원', 'https://news.naver.com/main/read.nhn?mode=LSD&mid=shm&sid1=102&oid=079&aid=0003511620')]\n",
      "200\n",
      "[(datetime.datetime(2021, 6, 3, 15, 16, 42, 438695), '文 \"공군 성폭력 사망건, 지휘라인도 살펴야\"…책임론 언급(종합2보)', 'https://news.naver.com/main/read.nhn?mode=LSD&mid=shm&sid1=100&oid=421&aid=0005391781'), (datetime.datetime(2021, 6, 3, 15, 16, 42, 438695), \"'보복운전' 구본성 아워홈 부회장, 1심 집행유예… 취재진 질문에 '침묵'\", 'https://news.naver.com/main/read.nhn?mode=LSD&mid=shm&sid1=102&oid=417&aid=0000700583'), (datetime.datetime(2021, 6, 3, 15, 16, 42, 438695), '하정우, \\'프로포폴 불법 투약\\' 벌금형… \"안일한 판단 반성\"', 'https://news.naver.com/main/read.nhn?mode=LSD&mid=shm&sid1=102&oid=082&aid=0001095849'), (datetime.datetime(2021, 6, 3, 15, 16, 42, 439695), '전국 곳곳에 벼락·강풍 동반한 요란한 비...언제 그칠까[날씨]', 'https://news.naver.com/main/read.nhn?mode=LSD&mid=shm&sid1=103&oid=052&aid=0001596413'), (datetime.datetime(2021, 6, 3, 15, 16, 42, 439695), '[영상]대구 주선 화이자 구매 안한다···권영진 시장 사과 청원', 'https://news.naver.com/main/read.nhn?mode=LSD&mid=shm&sid1=102&oid=079&aid=0003511620')]\n",
      "200\n",
      "[(datetime.datetime(2021, 6, 3, 15, 16, 47, 638601), '[2보] 이용구 \"1천만원은 합의금…영상 삭제 대가 아냐\"', 'https://news.naver.com/main/read.nhn?mode=LSD&mid=shm&sid1=102&oid=001&aid=0012434692'), (datetime.datetime(2021, 6, 3, 15, 16, 47, 638601), '공군 중사 유족 측 \"성추행 피해 최소 2차례 더 있다\"', 'https://news.naver.com/main/read.nhn?mode=LSD&mid=shm&sid1=100&oid=055&aid=0000898386'), (datetime.datetime(2021, 6, 3, 15, 16, 47, 638601), '日 \"독도는 우리 영토…韓 항의 절대 받아들일 수 없다\"', 'https://news.naver.com/main/read.nhn?mode=LSD&mid=shm&sid1=102&oid=015&aid=0004556578'), (datetime.datetime(2021, 6, 3, 15, 16, 47, 638601), '하정우의 프로포폴 반성문 “여드름 흉터 치료받다가… 안일한 판단”[전문]', 'https://news.naver.com/main/read.nhn?mode=LSD&mid=shm&sid1=102&oid=023&aid=0003617967'), (datetime.datetime(2021, 6, 3, 15, 16, 47, 638601), \"6월 모평 국어 작년 수능과 난이도 비슷…'언어와매체' 더 어려워\", 'https://news.naver.com/main/read.nhn?mode=LSD&mid=shm&sid1=102&oid=277&aid=0004913993')]\n",
      "200\n",
      "[(datetime.datetime(2021, 6, 3, 15, 16, 47, 776289), '[2보] 이용구 \"1천만원은 합의금…영상 삭제 대가 아냐\"', 'https://news.naver.com/main/read.nhn?mode=LSD&mid=shm&sid1=102&oid=001&aid=0012434692'), (datetime.datetime(2021, 6, 3, 15, 16, 47, 776289), '공군 중사 유족 측 \"성추행 피해 최소 2차례 더 있다\"', 'https://news.naver.com/main/read.nhn?mode=LSD&mid=shm&sid1=100&oid=055&aid=0000898386'), (datetime.datetime(2021, 6, 3, 15, 16, 47, 777291), '日 \"독도는 우리 영토…韓 항의 절대 받아들일 수 없다\"', 'https://news.naver.com/main/read.nhn?mode=LSD&mid=shm&sid1=102&oid=015&aid=0004556578'), (datetime.datetime(2021, 6, 3, 15, 16, 47, 777291), '하정우의 프로포폴 반성문 “여드름 흉터 치료받다가… 안일한 판단”[전문]', 'https://news.naver.com/main/read.nhn?mode=LSD&mid=shm&sid1=102&oid=023&aid=0003617967'), (datetime.datetime(2021, 6, 3, 15, 16, 47, 777291), \"6월 모평 국어 작년 수능과 난이도 비슷…'언어와매체' 더 어려워\", 'https://news.naver.com/main/read.nhn?mode=LSD&mid=shm&sid1=102&oid=277&aid=0004913993')]\n",
      "200\n",
      "[(datetime.datetime(2021, 6, 3, 15, 16, 52, 971169), '6월 모평, 수학도 공통과목이 어려웠다… 문과 불리할 듯', 'https://news.naver.com/main/read.nhn?mode=LSD&mid=shm&sid1=102&oid=008&aid=0004596698'), (datetime.datetime(2021, 6, 3, 15, 16, 52, 972171), '日 도쿄올림픽 홈피에 \\'독도 표기\\'... 백혜련 \"영유권 침해, 삭제하라\"', 'https://news.naver.com/main/read.nhn?mode=LSD&mid=shm&sid1=100&oid=469&aid=0000608498'), (datetime.datetime(2021, 6, 3, 15, 16, 52, 972171), \"지난해 '코로나 불황'에 좀비기업 34.5%…'역대 최고'\", 'https://news.naver.com/main/read.nhn?mode=LSD&mid=shm&sid1=101&oid=079&aid=0003511542'), (datetime.datetime(2021, 6, 3, 15, 16, 52, 972171), '\\'이용구 폭행 영상\\' 본 법조인들 \"단순폭행 아닌 특가법 적용해야\"', 'https://news.naver.com/main/read.nhn?mode=LSD&mid=shm&sid1=102&oid=008&aid=0004596748'), (datetime.datetime(2021, 6, 3, 15, 16, 52, 972171), '공정위 M&A 심사대상 개정…\"인수금액 6천억 + 월 100만명 이용\"', 'https://news.naver.com/main/read.nhn?mode=LSD&mid=shm&sid1=101&oid=001&aid=0012435455')]\n",
      "200\n",
      "[(datetime.datetime(2021, 6, 3, 15, 16, 53, 205448), '6월 모평, 수학도 공통과목이 어려웠다… 문과 불리할 듯', 'https://news.naver.com/main/read.nhn?mode=LSD&mid=shm&sid1=102&oid=008&aid=0004596698'), (datetime.datetime(2021, 6, 3, 15, 16, 53, 205448), '日 도쿄올림픽 홈피에 \\'독도 표기\\'... 백혜련 \"영유권 침해, 삭제하라\"', 'https://news.naver.com/main/read.nhn?mode=LSD&mid=shm&sid1=100&oid=469&aid=0000608498'), (datetime.datetime(2021, 6, 3, 15, 16, 53, 205448), \"지난해 '코로나 불황'에 좀비기업 34.5%…'역대 최고'\", 'https://news.naver.com/main/read.nhn?mode=LSD&mid=shm&sid1=101&oid=079&aid=0003511542'), (datetime.datetime(2021, 6, 3, 15, 16, 53, 205448), '\\'이용구 폭행 영상\\' 본 법조인들 \"단순폭행 아닌 특가법 적용해야\"', 'https://news.naver.com/main/read.nhn?mode=LSD&mid=shm&sid1=102&oid=008&aid=0004596748'), (datetime.datetime(2021, 6, 3, 15, 16, 53, 205448), '공정위 M&A 심사대상 개정…\"인수금액 6천억 + 월 100만명 이용\"', 'https://news.naver.com/main/read.nhn?mode=LSD&mid=shm&sid1=101&oid=001&aid=0012435455')]\n",
      "200\n",
      "[(datetime.datetime(2021, 6, 3, 15, 16, 53, 339458), '6월 모평, 수학도 공통과목이 어려웠다… 문과 불리할 듯', 'https://news.naver.com/main/read.nhn?mode=LSD&mid=shm&sid1=102&oid=008&aid=0004596698'), (datetime.datetime(2021, 6, 3, 15, 16, 53, 339458), '日 도쿄올림픽 홈피에 \\'독도 표기\\'... 백혜련 \"영유권 침해, 삭제하라\"', 'https://news.naver.com/main/read.nhn?mode=LSD&mid=shm&sid1=100&oid=469&aid=0000608498'), (datetime.datetime(2021, 6, 3, 15, 16, 53, 339458), \"지난해 '코로나 불황'에 좀비기업 34.5%…'역대 최고'\", 'https://news.naver.com/main/read.nhn?mode=LSD&mid=shm&sid1=101&oid=079&aid=0003511542'), (datetime.datetime(2021, 6, 3, 15, 16, 53, 339458), '\\'이용구 폭행 영상\\' 본 법조인들 \"단순폭행 아닌 특가법 적용해야\"', 'https://news.naver.com/main/read.nhn?mode=LSD&mid=shm&sid1=102&oid=008&aid=0004596748'), (datetime.datetime(2021, 6, 3, 15, 16, 53, 339458), '공정위 M&A 심사대상 개정…\"인수금액 6천억 + 월 100만명 이용\"', 'https://news.naver.com/main/read.nhn?mode=LSD&mid=shm&sid1=101&oid=001&aid=0012435455')]\n"
     ]
    },
    {
     "name": "stdout",
     "output_type": "stream",
     "text": [
      "200\n",
      "[(datetime.datetime(2021, 6, 3, 15, 16, 53, 480904), '6월 모평, 수학도 공통과목이 어려웠다… 문과 불리할 듯', 'https://news.naver.com/main/read.nhn?mode=LSD&mid=shm&sid1=102&oid=008&aid=0004596698'), (datetime.datetime(2021, 6, 3, 15, 16, 53, 481905), '日 도쿄올림픽 홈피에 \\'독도 표기\\'... 백혜련 \"영유권 침해, 삭제하라\"', 'https://news.naver.com/main/read.nhn?mode=LSD&mid=shm&sid1=100&oid=469&aid=0000608498'), (datetime.datetime(2021, 6, 3, 15, 16, 53, 481905), \"지난해 '코로나 불황'에 좀비기업 34.5%…'역대 최고'\", 'https://news.naver.com/main/read.nhn?mode=LSD&mid=shm&sid1=101&oid=079&aid=0003511542'), (datetime.datetime(2021, 6, 3, 15, 16, 53, 481905), '\\'이용구 폭행 영상\\' 본 법조인들 \"단순폭행 아닌 특가법 적용해야\"', 'https://news.naver.com/main/read.nhn?mode=LSD&mid=shm&sid1=102&oid=008&aid=0004596748'), (datetime.datetime(2021, 6, 3, 15, 16, 53, 481905), '공정위 M&A 심사대상 개정…\"인수금액 6천억 + 월 100만명 이용\"', 'https://news.naver.com/main/read.nhn?mode=LSD&mid=shm&sid1=101&oid=001&aid=0012435455')]\n",
      "200\n",
      "[(datetime.datetime(2021, 6, 3, 15, 16, 58, 671975), '韓 IOC 위원 만난 정세균…“독도 표기, 결코 양보할 수 없어”', 'https://news.naver.com/main/read.nhn?mode=LSD&mid=shm&sid1=100&oid=016&aid=0001843839'), (datetime.datetime(2021, 6, 3, 15, 16, 58, 672974), '‘좀비기업’ 34.5%, 2013년 이후 최대', 'https://news.naver.com/main/read.nhn?mode=LSD&mid=shm&sid1=101&oid=032&aid=0003077980'), (datetime.datetime(2021, 6, 3, 15, 16, 58, 672974), '윤석열 측, 송영길 겨냥 \"법조인 출신 정치인들 언행 도 넘어\"', 'https://news.naver.com/main/read.nhn?mode=LSD&mid=shm&sid1=100&oid=008&aid=0004596647'), (datetime.datetime(2021, 6, 3, 15, 16, 58, 672974), '방역당국 \"상반기 1300만명+α 접종 충분히 가능\"', 'https://news.naver.com/main/read.nhn?mode=LSD&mid=shm&sid1=102&oid=421&aid=0005391557'), (datetime.datetime(2021, 6, 3, 15, 16, 58, 672974), '공군 부사관 유족측 \"부사관 3명 추가 고소…추가 피해도 포함\"', 'https://news.naver.com/main/read.nhn?mode=LSD&mid=shm&sid1=100&oid=001&aid=0012435473')]\n",
      "200\n",
      "[(datetime.datetime(2021, 6, 3, 15, 16, 58, 808841), '韓 IOC 위원 만난 정세균…“독도 표기, 결코 양보할 수 없어”', 'https://news.naver.com/main/read.nhn?mode=LSD&mid=shm&sid1=100&oid=016&aid=0001843839'), (datetime.datetime(2021, 6, 3, 15, 16, 58, 808841), '‘좀비기업’ 34.5%, 2013년 이후 최대', 'https://news.naver.com/main/read.nhn?mode=LSD&mid=shm&sid1=101&oid=032&aid=0003077980'), (datetime.datetime(2021, 6, 3, 15, 16, 58, 809841), '윤석열 측, 송영길 겨냥 \"법조인 출신 정치인들 언행 도 넘어\"', 'https://news.naver.com/main/read.nhn?mode=LSD&mid=shm&sid1=100&oid=008&aid=0004596647'), (datetime.datetime(2021, 6, 3, 15, 16, 58, 809841), '방역당국 \"상반기 1300만명+α 접종 충분히 가능\"', 'https://news.naver.com/main/read.nhn?mode=LSD&mid=shm&sid1=102&oid=421&aid=0005391557'), (datetime.datetime(2021, 6, 3, 15, 16, 58, 809841), '공군 부사관 유족측 \"부사관 3명 추가 고소…추가 피해도 포함\"', 'https://news.naver.com/main/read.nhn?mode=LSD&mid=shm&sid1=100&oid=001&aid=0012435473')]\n",
      "200\n",
      "[(datetime.datetime(2021, 6, 3, 15, 17, 4, 21625), '“보이콧도 검토해야”…의원 132명, ‘日지도 독도 표기’ 규탄결의 발의', 'https://news.naver.com/main/read.nhn?mode=LSD&mid=shm&sid1=100&oid=081&aid=0003191352'), (datetime.datetime(2021, 6, 3, 15, 17, 4, 21625), '작년 기업 10곳 중 3곳, 영업 이익으로 대출 이자도 못 내', 'https://news.naver.com/main/read.nhn?mode=LSD&mid=shm&sid1=101&oid=028&aid=0002547037'), (datetime.datetime(2021, 6, 3, 15, 17, 4, 21625), '‘인수금액 6000억 + 월 100만명 이용’ 공정위 M&A 심사 대상', 'https://news.naver.com/main/read.nhn?mode=LSD&mid=shm&sid1=101&oid=016&aid=0001843841'), (datetime.datetime(2021, 6, 3, 15, 17, 4, 22625), '이용구 \"택시기사에 1천만원은 합의금…영상 삭제 대가 아냐\"', 'https://news.naver.com/main/read.nhn?mode=LSD&mid=shm&sid1=102&oid=215&aid=0000962195'), (datetime.datetime(2021, 6, 3, 15, 17, 4, 22625), '文대통령 \"절망스러웠을 피해자 생각하면 가슴 아프다\"', 'https://news.naver.com/main/read.nhn?mode=LSD&mid=shm&sid1=100&oid=079&aid=0003511504')]\n",
      "200\n",
      "[(datetime.datetime(2021, 6, 3, 15, 17, 4, 194480), '“보이콧도 검토해야”…의원 132명, ‘日지도 독도 표기’ 규탄결의 발의', 'https://news.naver.com/main/read.nhn?mode=LSD&mid=shm&sid1=100&oid=081&aid=0003191352'), (datetime.datetime(2021, 6, 3, 15, 17, 4, 194480), '작년 기업 10곳 중 3곳, 영업 이익으로 대출 이자도 못 내', 'https://news.naver.com/main/read.nhn?mode=LSD&mid=shm&sid1=101&oid=028&aid=0002547037'), (datetime.datetime(2021, 6, 3, 15, 17, 4, 194480), '‘인수금액 6000억 + 월 100만명 이용’ 공정위 M&A 심사 대상', 'https://news.naver.com/main/read.nhn?mode=LSD&mid=shm&sid1=101&oid=016&aid=0001843841'), (datetime.datetime(2021, 6, 3, 15, 17, 4, 194480), '이용구 \"택시기사에 1천만원은 합의금…영상 삭제 대가 아냐\"', 'https://news.naver.com/main/read.nhn?mode=LSD&mid=shm&sid1=102&oid=215&aid=0000962195'), (datetime.datetime(2021, 6, 3, 15, 17, 4, 194480), '文대통령 \"절망스러웠을 피해자 생각하면 가슴 아프다\"', 'https://news.naver.com/main/read.nhn?mode=LSD&mid=shm&sid1=100&oid=079&aid=0003511504')]\n",
      "200\n",
      "[(datetime.datetime(2021, 6, 3, 15, 17, 4, 408871), '“보이콧도 검토해야”…의원 132명, ‘日지도 독도 표기’ 규탄결의 발의', 'https://news.naver.com/main/read.nhn?mode=LSD&mid=shm&sid1=100&oid=081&aid=0003191352'), (datetime.datetime(2021, 6, 3, 15, 17, 4, 408871), '작년 기업 10곳 중 3곳, 영업 이익으로 대출 이자도 못 내', 'https://news.naver.com/main/read.nhn?mode=LSD&mid=shm&sid1=101&oid=028&aid=0002547037'), (datetime.datetime(2021, 6, 3, 15, 17, 4, 408871), '‘인수금액 6000억 + 월 100만명 이용’ 공정위 M&A 심사 대상', 'https://news.naver.com/main/read.nhn?mode=LSD&mid=shm&sid1=101&oid=016&aid=0001843841'), (datetime.datetime(2021, 6, 3, 15, 17, 4, 408871), '이용구 \"택시기사에 1천만원은 합의금…영상 삭제 대가 아냐\"', 'https://news.naver.com/main/read.nhn?mode=LSD&mid=shm&sid1=102&oid=215&aid=0000962195'), (datetime.datetime(2021, 6, 3, 15, 17, 4, 408871), '文대통령 \"절망스러웠을 피해자 생각하면 가슴 아프다\"', 'https://news.naver.com/main/read.nhn?mode=LSD&mid=shm&sid1=100&oid=079&aid=0003511504')]\n",
      "200\n",
      "[(datetime.datetime(2021, 6, 3, 15, 17, 4, 649463), '공매도 재개 한달…금융당국 \"주가와 유의미한 관계 안 나타나\"', 'https://news.naver.com/main/read.nhn?mode=LSD&mid=shm&sid1=101&oid=001&aid=0012435681'), (datetime.datetime(2021, 6, 3, 15, 17, 4, 649463), '“돌파감염 추정사례 9명…신규 5명 화이자 접종”', 'https://news.naver.com/main/read.nhn?mode=LSD&mid=shm&sid1=101&oid=374&aid=0000246422'), (datetime.datetime(2021, 6, 3, 15, 17, 4, 649463), '이용구 “거짓 진술 요구는 사실…합의금은 영상 삭제 대가 아냐”', 'https://news.naver.com/main/read.nhn?mode=LSD&mid=shm&sid1=102&oid=056&aid=0011056577'), (datetime.datetime(2021, 6, 3, 15, 17, 4, 649463), '벤처지주회사 자산요건 5천억→3백억…6천억이상 거래시 M&A신고', 'https://news.naver.com/main/read.nhn?mode=LSD&mid=shm&sid1=101&oid=421&aid=0005391201'), (datetime.datetime(2021, 6, 3, 15, 17, 4, 649463), '백혜련 등 민주당 의원 132명, 日도쿄올림픽조직위 독도 표기 규탄 결의안 제출', 'https://news.naver.com/main/read.nhn?mode=LSD&mid=shm&sid1=100&oid=032&aid=0003077917')]\n",
      "200\n",
      "[(datetime.datetime(2021, 6, 3, 15, 17, 9, 855576), '정부 “대구시 주선 화이자 백신 진위 의심…도입 안 해”', 'https://news.naver.com/main/read.nhn?mode=LSD&mid=shm&sid1=102&oid=056&aid=0011056614'), (datetime.datetime(2021, 6, 3, 15, 17, 9, 855576), '공정위, 개정 공정거래법 시행 위한 시행령 발표', 'https://news.naver.com/main/read.nhn?mode=LSD&mid=shm&sid1=101&oid=214&aid=0001122843'), (datetime.datetime(2021, 6, 3, 15, 17, 9, 855576), \"검찰, '프로포폴 불법투약' 하정우 벌금1000만원 약식기소\", 'https://news.naver.com/main/read.nhn?mode=LSD&mid=shm&sid1=102&oid=421&aid=0005391396'), (datetime.datetime(2021, 6, 3, 15, 17, 9, 855576), '백혜련 등 민주당 의원 132명, 日도쿄올림픽조직위 독도 표기 규탄 결의안 제출', 'https://news.naver.com/main/read.nhn?mode=LSD&mid=shm&sid1=100&oid=032&aid=0003077917'), (datetime.datetime(2021, 6, 3, 15, 17, 9, 856577), '與 초선의원들 \"文대통령에 \\'기재부 적극적 재정확대 필요\\' 요청\"', 'https://news.naver.com/main/read.nhn?mode=LSD&mid=shm&sid1=100&oid=421&aid=0005391406')]\n",
      "200\n",
      "[(datetime.datetime(2021, 6, 3, 15, 17, 9, 994758), '정부 “대구시 주선 화이자 백신 진위 의심…도입 안 해”', 'https://news.naver.com/main/read.nhn?mode=LSD&mid=shm&sid1=102&oid=056&aid=0011056614'), (datetime.datetime(2021, 6, 3, 15, 17, 9, 994758), '공정위, 개정 공정거래법 시행 위한 시행령 발표', 'https://news.naver.com/main/read.nhn?mode=LSD&mid=shm&sid1=101&oid=214&aid=0001122843'), (datetime.datetime(2021, 6, 3, 15, 17, 9, 994758), \"검찰, '프로포폴 불법투약' 하정우 벌금1000만원 약식기소\", 'https://news.naver.com/main/read.nhn?mode=LSD&mid=shm&sid1=102&oid=421&aid=0005391396'), (datetime.datetime(2021, 6, 3, 15, 17, 9, 994758), '백혜련 등 민주당 의원 132명, 日도쿄올림픽조직위 독도 표기 규탄 결의안 제출', 'https://news.naver.com/main/read.nhn?mode=LSD&mid=shm&sid1=100&oid=032&aid=0003077917'), (datetime.datetime(2021, 6, 3, 15, 17, 9, 994758), '與 초선의원들 \"文대통령에 \\'기재부 적극적 재정확대 필요\\' 요청\"', 'https://news.naver.com/main/read.nhn?mode=LSD&mid=shm&sid1=100&oid=421&aid=0005391406')]\n",
      "200\n",
      "[(datetime.datetime(2021, 6, 3, 15, 17, 15, 220214), \"국회의원 132명, 도쿄올림픽 '독도 표기' 규탄\", 'https://news.naver.com/main/read.nhn?mode=LSD&mid=shm&sid1=100&oid=214&aid=0001122836'), (datetime.datetime(2021, 6, 3, 15, 17, 15, 220214), '중수본 \"대구시 화이자 백신 진위 의심돼, 화이자 법적조치 예정\"', 'https://news.naver.com/main/read.nhn?mode=LSD&mid=shm&sid1=102&oid=421&aid=0005391147'), (datetime.datetime(2021, 6, 3, 15, 17, 15, 221214), \"'보복운전'하고 운전자 친 구본성 아워홈 부회장 '집행유예'\", 'https://news.naver.com/main/read.nhn?mode=LSD&mid=shm&sid1=102&oid=015&aid=0004556750'), (datetime.datetime(2021, 6, 3, 15, 17, 15, 221214), '文대통령, \\'극단 선택\\' 女중사 사건에 \"가슴 아파\"···유족 측 \"성추행 피해 더 있어\"', 'https://news.naver.com/main/read.nhn?mode=LSD&mid=shm&sid1=102&oid=011&aid=0003918657'), (datetime.datetime(2021, 6, 3, 15, 17, 15, 221214), '60세 이상 어르신 백신 접종 사전예약률 77.6%', 'https://news.naver.com/main/read.nhn?mode=LSD&mid=shm&sid1=101&oid=422&aid=0000488194')]\n",
      "200\n"
     ]
    },
    {
     "name": "stdout",
     "output_type": "stream",
     "text": [
      "[(datetime.datetime(2021, 6, 3, 15, 17, 15, 407430), \"국회의원 132명, 도쿄올림픽 '독도 표기' 규탄\", 'https://news.naver.com/main/read.nhn?mode=LSD&mid=shm&sid1=100&oid=214&aid=0001122836'), (datetime.datetime(2021, 6, 3, 15, 17, 15, 407430), '중수본 \"대구시 화이자 백신 진위 의심돼, 화이자 법적조치 예정\"', 'https://news.naver.com/main/read.nhn?mode=LSD&mid=shm&sid1=102&oid=421&aid=0005391147'), (datetime.datetime(2021, 6, 3, 15, 17, 15, 407430), \"'보복운전'하고 운전자 친 구본성 아워홈 부회장 '집행유예'\", 'https://news.naver.com/main/read.nhn?mode=LSD&mid=shm&sid1=102&oid=015&aid=0004556750'), (datetime.datetime(2021, 6, 3, 15, 17, 15, 407430), '文대통령, \\'극단 선택\\' 女중사 사건에 \"가슴 아파\"···유족 측 \"성추행 피해 더 있어\"', 'https://news.naver.com/main/read.nhn?mode=LSD&mid=shm&sid1=102&oid=011&aid=0003918657'), (datetime.datetime(2021, 6, 3, 15, 17, 15, 407430), '60세 이상 어르신 백신 접종 사전예약률 77.6%', 'https://news.naver.com/main/read.nhn?mode=LSD&mid=shm&sid1=101&oid=422&aid=0000488194')]\n",
      "200\n",
      "[(datetime.datetime(2021, 6, 3, 15, 17, 15, 545976), '벤처지주회사 자산요건 5천억→3백억…6천억이상 거래시 M&A신고', 'https://news.naver.com/main/read.nhn?mode=LSD&mid=shm&sid1=101&oid=421&aid=0005391201'), (datetime.datetime(2021, 6, 3, 15, 17, 15, 545976), '전국 곳곳에 벼락·강풍 동반한 요란한 비...언제 그칠까[날씨]', 'https://news.naver.com/main/read.nhn?mode=LSD&mid=shm&sid1=103&oid=052&aid=0001596413'), (datetime.datetime(2021, 6, 3, 15, 17, 15, 545976), \"'네이버 통유리' 놓고 10년 법정싸움…결국 네이버가 졌다\", 'https://news.naver.com/main/read.nhn?mode=LSD&mid=shm&sid1=102&oid=025&aid=0003106798'), (datetime.datetime(2021, 6, 3, 15, 17, 15, 545976), \"대구시 화이자 백신 '짝퉁' 의심… 화이자, 국제 공조 통해 단속\", 'https://news.naver.com/main/read.nhn?mode=LSD&mid=shm&sid1=101&oid=417&aid=0000700570'), (datetime.datetime(2021, 6, 3, 15, 17, 15, 545976), '방역당국 \"상반기 1300만명+α 접종 충분히 가능\"', 'https://news.naver.com/main/read.nhn?mode=LSD&mid=shm&sid1=102&oid=421&aid=0005391557')]\n",
      "200\n",
      "[(datetime.datetime(2021, 6, 3, 15, 17, 15, 707929), '벤처지주회사 자산요건 5천억→3백억…6천억이상 거래시 M&A신고', 'https://news.naver.com/main/read.nhn?mode=LSD&mid=shm&sid1=101&oid=421&aid=0005391201'), (datetime.datetime(2021, 6, 3, 15, 17, 15, 707929), '전국 곳곳에 벼락·강풍 동반한 요란한 비...언제 그칠까[날씨]', 'https://news.naver.com/main/read.nhn?mode=LSD&mid=shm&sid1=103&oid=052&aid=0001596413'), (datetime.datetime(2021, 6, 3, 15, 17, 15, 708928), \"'네이버 통유리' 놓고 10년 법정싸움…결국 네이버가 졌다\", 'https://news.naver.com/main/read.nhn?mode=LSD&mid=shm&sid1=102&oid=025&aid=0003106798'), (datetime.datetime(2021, 6, 3, 15, 17, 15, 708928), \"대구시 화이자 백신 '짝퉁' 의심… 화이자, 국제 공조 통해 단속\", 'https://news.naver.com/main/read.nhn?mode=LSD&mid=shm&sid1=101&oid=417&aid=0000700570'), (datetime.datetime(2021, 6, 3, 15, 17, 15, 708928), '방역당국 \"상반기 1300만명+α 접종 충분히 가능\"', 'https://news.naver.com/main/read.nhn?mode=LSD&mid=shm&sid1=102&oid=421&aid=0005391557')]\n",
      "200\n",
      "[(datetime.datetime(2021, 6, 3, 15, 17, 20, 899540), '문대통령 \"피해자 생각하면 가슴 아파\"…공군 부사관 성폭력 엄정 수사 지시', 'https://news.naver.com/main/read.nhn?mode=LSD&mid=shm&sid1=100&oid=119&aid=0002498635'), (datetime.datetime(2021, 6, 3, 15, 17, 20, 899540), '백신 접종 후 이상반응 모니터링', 'https://news.naver.com/main/read.nhn?mode=LSD&mid=shm&sid1=102&oid=421&aid=0005391554'), (datetime.datetime(2021, 6, 3, 15, 17, 20, 899540), '극단 선택 女중사 유족, \"다른 상관도 성추행 했다\"', 'https://news.naver.com/main/read.nhn?mode=LSD&mid=shm&sid1=102&oid=215&aid=0000962290'), (datetime.datetime(2021, 6, 3, 15, 17, 20, 900539), \"'동학·서학개미 생큐'…증권사 1분기 순익 3조 '사상 최대'\", 'https://news.naver.com/main/read.nhn?mode=LSD&mid=shm&sid1=101&oid=421&aid=0005391189'), (datetime.datetime(2021, 6, 3, 15, 17, 20, 900539), '文대통령, 與 초선들과 간담회 “국민 고통 마음 아파…혁신과 역동성 발휘해야”', 'https://news.naver.com/main/read.nhn?mode=LSD&mid=shm&sid1=100&oid=277&aid=0004914066')]\n",
      "200\n",
      "[(datetime.datetime(2021, 6, 3, 15, 17, 21, 112248), '문대통령 \"피해자 생각하면 가슴 아파\"…공군 부사관 성폭력 엄정 수사 지시', 'https://news.naver.com/main/read.nhn?mode=LSD&mid=shm&sid1=100&oid=119&aid=0002498635'), (datetime.datetime(2021, 6, 3, 15, 17, 21, 112248), '백신 접종 후 이상반응 모니터링', 'https://news.naver.com/main/read.nhn?mode=LSD&mid=shm&sid1=102&oid=421&aid=0005391554'), (datetime.datetime(2021, 6, 3, 15, 17, 21, 112248), '극단 선택 女중사 유족, \"다른 상관도 성추행 했다\"', 'https://news.naver.com/main/read.nhn?mode=LSD&mid=shm&sid1=102&oid=215&aid=0000962290'), (datetime.datetime(2021, 6, 3, 15, 17, 21, 112248), \"'동학·서학개미 생큐'…증권사 1분기 순익 3조 '사상 최대'\", 'https://news.naver.com/main/read.nhn?mode=LSD&mid=shm&sid1=101&oid=421&aid=0005391189'), (datetime.datetime(2021, 6, 3, 15, 17, 21, 112248), '文대통령, 與 초선들과 간담회 “국민 고통 마음 아파…혁신과 역동성 발휘해야”', 'https://news.naver.com/main/read.nhn?mode=LSD&mid=shm&sid1=100&oid=277&aid=0004914066')]\n",
      "200\n",
      "[(datetime.datetime(2021, 6, 3, 15, 17, 26, 325784), '수소사업 속도내는 SK, 세계 최초 청록수소 생산회사 투자', 'https://news.naver.com/main/read.nhn?mode=LSD&mid=shm&sid1=101&oid=277&aid=0004913914'), (datetime.datetime(2021, 6, 3, 15, 17, 26, 325784), '女중사 유족 “다른 상관 성추행 피해 최소 2차례 더 있었다” 고소장 제출', 'https://news.naver.com/main/read.nhn?mode=LSD&mid=shm&sid1=102&oid=366&aid=0000727474'), (datetime.datetime(2021, 6, 3, 15, 17, 26, 325784), '“도쿄올림픽 독도표기 국제법 위반, 역사퇴행”…민주당 132명,  규탄 결의안 발의', 'https://news.naver.com/main/read.nhn?mode=LSD&mid=shm&sid1=100&oid=029&aid=0002678021'), (datetime.datetime(2021, 6, 3, 15, 17, 26, 325784), '전국에 비…밤에 대부분 그쳐요[오후날씨 꿀팁]', 'https://news.naver.com/main/read.nhn?mode=LSD&mid=shm&sid1=103&oid=056&aid=0011056586'), (datetime.datetime(2021, 6, 3, 15, 17, 26, 325784), '증권사 1분기 순익 3조 육박...역대 분기 실적 또 경신', 'https://news.naver.com/main/read.nhn?mode=LSD&mid=shm&sid1=101&oid=277&aid=0004913997')]\n",
      "200\n",
      "[(datetime.datetime(2021, 6, 3, 15, 17, 26, 515075), '수소사업 속도내는 SK, 세계 최초 청록수소 생산회사 투자', 'https://news.naver.com/main/read.nhn?mode=LSD&mid=shm&sid1=101&oid=277&aid=0004913914'), (datetime.datetime(2021, 6, 3, 15, 17, 26, 515075), '女중사 유족 “다른 상관 성추행 피해 최소 2차례 더 있었다” 고소장 제출', 'https://news.naver.com/main/read.nhn?mode=LSD&mid=shm&sid1=102&oid=366&aid=0000727474'), (datetime.datetime(2021, 6, 3, 15, 17, 26, 515075), '“도쿄올림픽 독도표기 국제법 위반, 역사퇴행”…민주당 132명,  규탄 결의안 발의', 'https://news.naver.com/main/read.nhn?mode=LSD&mid=shm&sid1=100&oid=029&aid=0002678021'), (datetime.datetime(2021, 6, 3, 15, 17, 26, 516074), '전국에 비…밤에 대부분 그쳐요[오후날씨 꿀팁]', 'https://news.naver.com/main/read.nhn?mode=LSD&mid=shm&sid1=103&oid=056&aid=0011056586'), (datetime.datetime(2021, 6, 3, 15, 17, 26, 516074), '증권사 1분기 순익 3조 육박...역대 분기 실적 또 경신', 'https://news.naver.com/main/read.nhn?mode=LSD&mid=shm&sid1=101&oid=277&aid=0004913997')]\n",
      "200\n",
      "[(datetime.datetime(2021, 6, 3, 15, 17, 26, 655054), '네이버 사옥 태양반사광에 주민피해…대법 \"배상하라\"', 'https://news.naver.com/main/read.nhn?mode=LSD&mid=shm&sid1=102&oid=003&aid=0010531517'), (datetime.datetime(2021, 6, 3, 15, 17, 26, 655054), '이용구, 택시기사 폭행 인정…“1000만원은 영상 삭제 대가 아냐”', 'https://news.naver.com/main/read.nhn?mode=LSD&mid=shm&sid1=102&oid=032&aid=0003077922'), (datetime.datetime(2021, 6, 3, 15, 17, 26, 655054), '접종 후 ‘돌파감염’ 5명 추가, 모두 화이자…누적 9명', 'https://news.naver.com/main/read.nhn?mode=LSD&mid=shm&sid1=102&oid=005&aid=0001444625'), (datetime.datetime(2021, 6, 3, 15, 17, 26, 655054), 'SK㈜, 세계 첫 청록수소 생산 美모놀리스에 투자…수소사업 확장', 'https://news.naver.com/main/read.nhn?mode=LSD&mid=shm&sid1=101&oid=001&aid=0012435130'), (datetime.datetime(2021, 6, 3, 15, 17, 26, 655054), \"국회의원 132명, 도쿄올림픽 '독도 표기' 규탄\", 'https://news.naver.com/main/read.nhn?mode=LSD&mid=shm&sid1=100&oid=214&aid=0001122836')]\n",
      "200\n",
      "[(datetime.datetime(2021, 6, 3, 15, 17, 26, 830510), '네이버 사옥 태양반사광에 주민피해…대법 \"배상하라\"', 'https://news.naver.com/main/read.nhn?mode=LSD&mid=shm&sid1=102&oid=003&aid=0010531517'), (datetime.datetime(2021, 6, 3, 15, 17, 26, 830510), '이용구, 택시기사 폭행 인정…“1000만원은 영상 삭제 대가 아냐”', 'https://news.naver.com/main/read.nhn?mode=LSD&mid=shm&sid1=102&oid=032&aid=0003077922'), (datetime.datetime(2021, 6, 3, 15, 17, 26, 830510), '접종 후 ‘돌파감염’ 5명 추가, 모두 화이자…누적 9명', 'https://news.naver.com/main/read.nhn?mode=LSD&mid=shm&sid1=102&oid=005&aid=0001444625'), (datetime.datetime(2021, 6, 3, 15, 17, 26, 830510), 'SK㈜, 세계 첫 청록수소 생산 美모놀리스에 투자…수소사업 확장', 'https://news.naver.com/main/read.nhn?mode=LSD&mid=shm&sid1=101&oid=001&aid=0012435130'), (datetime.datetime(2021, 6, 3, 15, 17, 26, 831512), \"국회의원 132명, 도쿄올림픽 '독도 표기' 규탄\", 'https://news.naver.com/main/read.nhn?mode=LSD&mid=shm&sid1=100&oid=214&aid=0001122836')]\n",
      "200\n",
      "[(datetime.datetime(2021, 6, 3, 15, 17, 32, 47336), '하정우 \\'프로포폴 투약\\' 약식기소…\"안일한 판단 반성한다\"', 'https://news.naver.com/main/read.nhn?mode=LSD&mid=shm&sid1=102&oid=025&aid=0003106820'), (datetime.datetime(2021, 6, 3, 15, 17, 32, 47336), \"국방부, '성추행 사망' 사건 수사심의위 설치…군 검·경과 합동수사\", 'https://news.naver.com/main/read.nhn?mode=LSD&mid=shm&sid1=102&oid=082&aid=0001095798'), (datetime.datetime(2021, 6, 3, 15, 17, 32, 48337), '日 도쿄올림픽 홈피에 \\'독도 표기\\'... 백혜련 \"영유권 침해, 삭제하라\"', 'https://news.naver.com/main/read.nhn?mode=LSD&mid=shm&sid1=100&oid=469&aid=0000608498'), (datetime.datetime(2021, 6, 3, 15, 17, 32, 48337), '이용구 법무차관 “택시기사 준 1000만원, 영상 삭제 대가 아닌 합의금”', 'https://news.naver.com/main/read.nhn?mode=LSD&mid=shm&sid1=102&oid=015&aid=0004556629'), (datetime.datetime(2021, 6, 3, 15, 17, 32, 48337), \"'보복운전 혐의' 구본성 아워홈 부회장 1심서 집행유예\", 'https://news.naver.com/main/read.nhn?mode=LSD&mid=shm&sid1=102&oid=014&aid=0004650728')]\n",
      "200\n"
     ]
    },
    {
     "name": "stdout",
     "output_type": "stream",
     "text": [
      "[(datetime.datetime(2021, 6, 3, 15, 17, 32, 201952), '하정우 \\'프로포폴 투약\\' 약식기소…\"안일한 판단 반성한다\"', 'https://news.naver.com/main/read.nhn?mode=LSD&mid=shm&sid1=102&oid=025&aid=0003106820'), (datetime.datetime(2021, 6, 3, 15, 17, 32, 201952), \"국방부, '성추행 사망' 사건 수사심의위 설치…군 검·경과 합동수사\", 'https://news.naver.com/main/read.nhn?mode=LSD&mid=shm&sid1=102&oid=082&aid=0001095798'), (datetime.datetime(2021, 6, 3, 15, 17, 32, 201952), '日 도쿄올림픽 홈피에 \\'독도 표기\\'... 백혜련 \"영유권 침해, 삭제하라\"', 'https://news.naver.com/main/read.nhn?mode=LSD&mid=shm&sid1=100&oid=469&aid=0000608498'), (datetime.datetime(2021, 6, 3, 15, 17, 32, 201952), '이용구 법무차관 “택시기사 준 1000만원, 영상 삭제 대가 아닌 합의금”', 'https://news.naver.com/main/read.nhn?mode=LSD&mid=shm&sid1=102&oid=015&aid=0004556629'), (datetime.datetime(2021, 6, 3, 15, 17, 32, 201952), \"'보복운전 혐의' 구본성 아워홈 부회장 1심서 집행유예\", 'https://news.naver.com/main/read.nhn?mode=LSD&mid=shm&sid1=102&oid=014&aid=0004650728')]\n",
      "200\n",
      "[(datetime.datetime(2021, 6, 3, 15, 17, 37, 375755), '이용구 \"택시기사에 건넨 1천만원, 영상 삭제 대가 아냐\"', 'https://news.naver.com/main/read.nhn?mode=LSD&mid=shm&sid1=102&oid=031&aid=0000602254'), (datetime.datetime(2021, 6, 3, 15, 17, 37, 376755), 'SK㈜, 세계 첫 청록수소 생산 美모놀리스에 투자…수소사업 확장', 'https://news.naver.com/main/read.nhn?mode=LSD&mid=shm&sid1=101&oid=001&aid=0012435130'), (datetime.datetime(2021, 6, 3, 15, 17, 37, 376755), '중앙방역대책본부 브리핑 (6월 3일)', 'https://news.naver.com/main/read.nhn?mode=LSD&mid=shm&sid1=100&oid=052&aid=0001596472'), (datetime.datetime(2021, 6, 3, 15, 17, 37, 376755), '\"어젠 그냥 여름이던데 오늘은 시원하려나\"[날씨톡톡]', 'https://news.naver.com/main/read.nhn?mode=LSD&mid=shm&sid1=103&oid=422&aid=0000488170'), (datetime.datetime(2021, 6, 3, 15, 17, 37, 376755), '화이자사 \"대구시 제안한 화이자 백신 가짜 의심···법적 조치 취할 예정\"', 'https://news.naver.com/main/read.nhn?mode=LSD&mid=shm&sid1=102&oid=032&aid=0003077966')]\n",
      "200\n",
      "[(datetime.datetime(2021, 6, 3, 15, 17, 37, 619442), '정부 \"대구시 주선 화이자 백신 진위 의심…구매 안 해\"', 'https://news.naver.com/main/read.nhn?mode=LSD&mid=shm&sid1=100&oid=055&aid=0000898374'), (datetime.datetime(2021, 6, 3, 15, 17, 37, 619442), 'PEF 전업집단 대기업집단 지정에서 제외, 공정법 시행령 개정', 'https://news.naver.com/main/read.nhn?mode=LSD&mid=shm&sid1=101&oid=079&aid=0003511539'), (datetime.datetime(2021, 6, 3, 15, 17, 37, 619442), '오후에 강한 비…여름 더위 한풀 꺾여[날씨]', 'https://news.naver.com/main/read.nhn?mode=LSD&mid=shm&sid1=115&oid=449&aid=0000209721'), (datetime.datetime(2021, 6, 3, 15, 17, 37, 619442), '주식 열풍에 증권사 1분기 순익 3조…사상 최대 경신', 'https://news.naver.com/main/read.nhn?mode=LSD&mid=shm&sid1=101&oid=214&aid=0001122864'), (datetime.datetime(2021, 6, 3, 15, 17, 37, 619442), '윤석열 장모 변호인, 송영길에 \"도 넘은 언행…사법제도 대한 예의 아냐\"', 'https://news.naver.com/main/read.nhn?mode=LSD&mid=shm&sid1=100&oid=214&aid=0001122842')]\n",
      "200\n",
      "[(datetime.datetime(2021, 6, 3, 15, 17, 37, 797352), '정부 \"대구시 주선 화이자 백신 진위 의심…구매 안 해\"', 'https://news.naver.com/main/read.nhn?mode=LSD&mid=shm&sid1=100&oid=055&aid=0000898374'), (datetime.datetime(2021, 6, 3, 15, 17, 37, 797352), 'PEF 전업집단 대기업집단 지정에서 제외, 공정법 시행령 개정', 'https://news.naver.com/main/read.nhn?mode=LSD&mid=shm&sid1=101&oid=079&aid=0003511539'), (datetime.datetime(2021, 6, 3, 15, 17, 37, 797352), '오후에 강한 비…여름 더위 한풀 꺾여[날씨]', 'https://news.naver.com/main/read.nhn?mode=LSD&mid=shm&sid1=115&oid=449&aid=0000209721'), (datetime.datetime(2021, 6, 3, 15, 17, 37, 797352), '주식 열풍에 증권사 1분기 순익 3조…사상 최대 경신', 'https://news.naver.com/main/read.nhn?mode=LSD&mid=shm&sid1=101&oid=214&aid=0001122864'), (datetime.datetime(2021, 6, 3, 15, 17, 37, 797352), '윤석열 장모 변호인, 송영길에 \"도 넘은 언행…사법제도 대한 예의 아냐\"', 'https://news.naver.com/main/read.nhn?mode=LSD&mid=shm&sid1=100&oid=214&aid=0001122842')]\n",
      "200\n",
      "[(datetime.datetime(2021, 6, 3, 15, 17, 37, 931128), '정부 \"대구시 주선 화이자 백신 진위 의심…구매 안 해\"', 'https://news.naver.com/main/read.nhn?mode=LSD&mid=shm&sid1=100&oid=055&aid=0000898374'), (datetime.datetime(2021, 6, 3, 15, 17, 37, 931128), 'PEF 전업집단 대기업집단 지정에서 제외, 공정법 시행령 개정', 'https://news.naver.com/main/read.nhn?mode=LSD&mid=shm&sid1=101&oid=079&aid=0003511539'), (datetime.datetime(2021, 6, 3, 15, 17, 37, 931128), '오후에 강한 비…여름 더위 한풀 꺾여[날씨]', 'https://news.naver.com/main/read.nhn?mode=LSD&mid=shm&sid1=115&oid=449&aid=0000209721'), (datetime.datetime(2021, 6, 3, 15, 17, 37, 932126), '주식 열풍에 증권사 1분기 순익 3조…사상 최대 경신', 'https://news.naver.com/main/read.nhn?mode=LSD&mid=shm&sid1=101&oid=214&aid=0001122864'), (datetime.datetime(2021, 6, 3, 15, 17, 37, 932126), '윤석열 장모 변호인, 송영길에 \"도 넘은 언행…사법제도 대한 예의 아냐\"', 'https://news.naver.com/main/read.nhn?mode=LSD&mid=shm&sid1=100&oid=214&aid=0001122842')]\n",
      "200\n",
      "[(datetime.datetime(2021, 6, 3, 15, 17, 43, 153218), '전국에 비…밤에 대부분 그쳐요[오후날씨 꿀팁]', 'https://news.naver.com/main/read.nhn?mode=LSD&mid=shm&sid1=103&oid=056&aid=0011056586'), (datetime.datetime(2021, 6, 3, 15, 17, 43, 153218), '정세균 반일 마케팅에 올인…도쿄올림픽 불참 주도', 'https://news.naver.com/main/read.nhn?mode=LSD&mid=shm&sid1=100&oid=009&aid=0004803665'), (datetime.datetime(2021, 6, 3, 15, 17, 43, 153218), '하정우, 프로포폴 투약 벌금형...\"안일한 판단 반성[종합]', 'https://news.naver.com/main/read.nhn?mode=LSD&mid=shm&sid1=102&oid=009&aid=0004803591'), (datetime.datetime(2021, 6, 3, 15, 17, 43, 153218), '文만난 초선의원들 \"기재부 곳간 잠그지 않아야\"…\\'조국\\' 거론은 없었다', 'https://news.naver.com/main/read.nhn?mode=LSD&mid=shm&sid1=100&oid=079&aid=0003511644'), (datetime.datetime(2021, 6, 3, 15, 17, 43, 153218), \"코로나로 기업 성장성 '직격탄'…작년 매출 3.2% 줄어 '역대 최저'\", 'https://news.naver.com/main/read.nhn?mode=LSD&mid=shm&sid1=101&oid=015&aid=0004556639')]\n",
      "200\n",
      "[(datetime.datetime(2021, 6, 3, 15, 17, 43, 324534), '전국에 비…밤에 대부분 그쳐요[오후날씨 꿀팁]', 'https://news.naver.com/main/read.nhn?mode=LSD&mid=shm&sid1=103&oid=056&aid=0011056586'), (datetime.datetime(2021, 6, 3, 15, 17, 43, 325534), '정세균 반일 마케팅에 올인…도쿄올림픽 불참 주도', 'https://news.naver.com/main/read.nhn?mode=LSD&mid=shm&sid1=100&oid=009&aid=0004803665'), (datetime.datetime(2021, 6, 3, 15, 17, 43, 325534), '하정우, 프로포폴 투약 벌금형...\"안일한 판단 반성[종합]', 'https://news.naver.com/main/read.nhn?mode=LSD&mid=shm&sid1=102&oid=009&aid=0004803591'), (datetime.datetime(2021, 6, 3, 15, 17, 43, 325534), '文만난 초선의원들 \"기재부 곳간 잠그지 않아야\"…\\'조국\\' 거론은 없었다', 'https://news.naver.com/main/read.nhn?mode=LSD&mid=shm&sid1=100&oid=079&aid=0003511644'), (datetime.datetime(2021, 6, 3, 15, 17, 43, 325534), \"코로나로 기업 성장성 '직격탄'…작년 매출 3.2% 줄어 '역대 최저'\", 'https://news.naver.com/main/read.nhn?mode=LSD&mid=shm&sid1=101&oid=015&aid=0004556639')]\n",
      "200\n",
      "[(datetime.datetime(2021, 6, 3, 15, 17, 48, 503558), 'SK㈜, 세계 첫 청록수소 생산 美모놀리스에 투자…수소사업 확장', 'https://news.naver.com/main/read.nhn?mode=LSD&mid=shm&sid1=101&oid=001&aid=0012435130'), (datetime.datetime(2021, 6, 3, 15, 17, 48, 503558), '문대통령 \"경제 성과 있으나 국민 고통…마음 아프다\"[현장연결]', 'https://news.naver.com/main/read.nhn?mode=LSD&mid=shm&sid1=100&oid=422&aid=0000488195'), (datetime.datetime(2021, 6, 3, 15, 17, 48, 503558), '공정위, 삼성웰스토리 동의의결 기각', 'https://news.naver.com/main/read.nhn?mode=LSD&mid=shm&sid1=101&oid=011&aid=0003918630'), (datetime.datetime(2021, 6, 3, 15, 17, 48, 503558), '전국 대부분에 비…더위는 한풀 꺾여', 'https://news.naver.com/main/read.nhn?mode=LSD&mid=shm&sid1=102&oid=018&aid=0004946534'), (datetime.datetime(2021, 6, 3, 15, 17, 48, 504559), '文대통령 “절망스러웠을 女부사관 생각하면 가슴 아파”', 'https://news.naver.com/main/read.nhn?mode=LSD&mid=shm&sid1=100&oid=081&aid=0003191315')]\n",
      "200\n",
      "[(datetime.datetime(2021, 6, 3, 15, 17, 48, 633008), '文대통령, 공군 성폭력피해사건 “최고 상급자 등 지휘라인 문제 살펴야”', 'https://news.naver.com/main/read.nhn?mode=LSD&mid=shm&sid1=100&oid=016&aid=0001843860'), (datetime.datetime(2021, 6, 3, 15, 17, 48, 633008), '尹 측, 송영길에 \"도 넘은 언행…사법제도에 대한 예의 아냐\"', 'https://news.naver.com/main/read.nhn?mode=LSD&mid=shm&sid1=100&oid=055&aid=0000898352'), (datetime.datetime(2021, 6, 3, 15, 17, 48, 633008), \"국회의원 132명, 도쿄올림픽 '독도 표기' 규탄\", 'https://news.naver.com/main/read.nhn?mode=LSD&mid=shm&sid1=100&oid=214&aid=0001122836'), (datetime.datetime(2021, 6, 3, 15, 17, 48, 634008), \"산업통상자원부 첫 '수소전문기업'…경남 3곳 선정\", 'https://news.naver.com/main/read.nhn?mode=LSD&mid=shm&sid1=102&oid=079&aid=0003511412'), (datetime.datetime(2021, 6, 3, 15, 17, 48, 634008), '전국 곳곳에 벼락·강풍 동반한 요란한 비...언제 그칠까[날씨]', 'https://news.naver.com/main/read.nhn?mode=LSD&mid=shm&sid1=103&oid=052&aid=0001596471')]\n",
      "200\n",
      "[(datetime.datetime(2021, 6, 3, 15, 17, 48, 774363), '文대통령, 공군 성폭력피해사건 “최고 상급자 등 지휘라인 문제 살펴야”', 'https://news.naver.com/main/read.nhn?mode=LSD&mid=shm&sid1=100&oid=016&aid=0001843860'), (datetime.datetime(2021, 6, 3, 15, 17, 48, 774363), '尹 측, 송영길에 \"도 넘은 언행…사법제도에 대한 예의 아냐\"', 'https://news.naver.com/main/read.nhn?mode=LSD&mid=shm&sid1=100&oid=055&aid=0000898352'), (datetime.datetime(2021, 6, 3, 15, 17, 48, 774363), \"국회의원 132명, 도쿄올림픽 '독도 표기' 규탄\", 'https://news.naver.com/main/read.nhn?mode=LSD&mid=shm&sid1=100&oid=214&aid=0001122836'), (datetime.datetime(2021, 6, 3, 15, 17, 48, 774363), \"산업통상자원부 첫 '수소전문기업'…경남 3곳 선정\", 'https://news.naver.com/main/read.nhn?mode=LSD&mid=shm&sid1=102&oid=079&aid=0003511412'), (datetime.datetime(2021, 6, 3, 15, 17, 48, 775363), '전국 곳곳에 벼락·강풍 동반한 요란한 비...언제 그칠까[날씨]', 'https://news.naver.com/main/read.nhn?mode=LSD&mid=shm&sid1=103&oid=052&aid=0001596471')]\n",
      "200\n"
     ]
    },
    {
     "name": "stdout",
     "output_type": "stream",
     "text": [
      "[(datetime.datetime(2021, 6, 3, 15, 17, 48, 987299), '文대통령, 공군 성폭력피해사건 “최고 상급자 등 지휘라인 문제 살펴야”', 'https://news.naver.com/main/read.nhn?mode=LSD&mid=shm&sid1=100&oid=016&aid=0001843860'), (datetime.datetime(2021, 6, 3, 15, 17, 48, 987299), '尹 측, 송영길에 \"도 넘은 언행…사법제도에 대한 예의 아냐\"', 'https://news.naver.com/main/read.nhn?mode=LSD&mid=shm&sid1=100&oid=055&aid=0000898352'), (datetime.datetime(2021, 6, 3, 15, 17, 48, 987299), \"국회의원 132명, 도쿄올림픽 '독도 표기' 규탄\", 'https://news.naver.com/main/read.nhn?mode=LSD&mid=shm&sid1=100&oid=214&aid=0001122836'), (datetime.datetime(2021, 6, 3, 15, 17, 48, 987299), \"산업통상자원부 첫 '수소전문기업'…경남 3곳 선정\", 'https://news.naver.com/main/read.nhn?mode=LSD&mid=shm&sid1=102&oid=079&aid=0003511412'), (datetime.datetime(2021, 6, 3, 15, 17, 48, 988301), '전국 곳곳에 벼락·강풍 동반한 요란한 비...언제 그칠까[날씨]', 'https://news.naver.com/main/read.nhn?mode=LSD&mid=shm&sid1=103&oid=052&aid=0001596471')]\n",
      "200\n",
      "[(datetime.datetime(2021, 6, 3, 15, 17, 54, 197365), '이용구, 택시기사 폭행 인정…“1000만원은 영상 삭제 대가 아냐”', 'https://news.naver.com/main/read.nhn?mode=LSD&mid=shm&sid1=102&oid=032&aid=0003077922'), (datetime.datetime(2021, 6, 3, 15, 17, 54, 198360), \"국회의원 132명, 도쿄올림픽 '독도 표기' 규탄\", 'https://news.naver.com/main/read.nhn?mode=LSD&mid=shm&sid1=100&oid=214&aid=0001122836'), (datetime.datetime(2021, 6, 3, 15, 17, 54, 198360), '‘급식 몰아주기’ 삼성 자진시정 신청 기각…공정위, 본안 다투기로', 'https://news.naver.com/main/read.nhn?mode=LSD&mid=shm&sid1=101&oid=028&aid=0002547059'), (datetime.datetime(2021, 6, 3, 15, 17, 54, 198360), \"'보복운전·특수상해' 구본성 아워홈 부회장, 징역형 집행유예\", 'https://news.naver.com/main/read.nhn?mode=LSD&mid=shm&sid1=102&oid=119&aid=0002498724'), (datetime.datetime(2021, 6, 3, 15, 17, 54, 198360), '문 대통령, ‘공군 성폭력 피해자 사망사건’ 엄정 처리 강력 지시', 'https://news.naver.com/main/read.nhn?mode=LSD&mid=shm&sid1=100&oid=056&aid=0011056555')]\n",
      "200\n",
      "[(datetime.datetime(2021, 6, 3, 15, 17, 54, 330361), '이용구, 택시기사 폭행 인정…“1000만원은 영상 삭제 대가 아냐”', 'https://news.naver.com/main/read.nhn?mode=LSD&mid=shm&sid1=102&oid=032&aid=0003077922'), (datetime.datetime(2021, 6, 3, 15, 17, 54, 330361), \"국회의원 132명, 도쿄올림픽 '독도 표기' 규탄\", 'https://news.naver.com/main/read.nhn?mode=LSD&mid=shm&sid1=100&oid=214&aid=0001122836'), (datetime.datetime(2021, 6, 3, 15, 17, 54, 330361), '‘급식 몰아주기’ 삼성 자진시정 신청 기각…공정위, 본안 다투기로', 'https://news.naver.com/main/read.nhn?mode=LSD&mid=shm&sid1=101&oid=028&aid=0002547059'), (datetime.datetime(2021, 6, 3, 15, 17, 54, 330361), \"'보복운전·특수상해' 구본성 아워홈 부회장, 징역형 집행유예\", 'https://news.naver.com/main/read.nhn?mode=LSD&mid=shm&sid1=102&oid=119&aid=0002498724'), (datetime.datetime(2021, 6, 3, 15, 17, 54, 330361), '문 대통령, ‘공군 성폭력 피해자 사망사건’ 엄정 처리 강력 지시', 'https://news.naver.com/main/read.nhn?mode=LSD&mid=shm&sid1=100&oid=056&aid=0011056555')]\n",
      "200\n",
      "[(datetime.datetime(2021, 6, 3, 15, 17, 59, 525417), '6월 모평, 국어 다소 쉬워…·수학 공통과목 까다로워', 'https://news.naver.com/main/read.nhn?mode=LSD&mid=shm&sid1=102&oid=079&aid=0003511593'), (datetime.datetime(2021, 6, 3, 15, 17, 59, 525417), '이용구 \"택시기사에 1000만 원, 영상 삭제 대가 아냐\" [전문]', 'https://news.naver.com/main/read.nhn?mode=LSD&mid=shm&sid1=102&oid=437&aid=0000267930'), (datetime.datetime(2021, 6, 3, 15, 17, 59, 525417), '日 도쿄올림픽 홈피에 \\'독도 표기\\'... 백혜련 \"영유권 침해, 삭제하라\"', 'https://news.naver.com/main/read.nhn?mode=LSD&mid=shm&sid1=100&oid=469&aid=0000608498'), (datetime.datetime(2021, 6, 3, 15, 17, 59, 525417), '\"가슴 아파\" 文대통령, 공군 성폭력 사건 엄중 수사 지시', 'https://news.naver.com/main/read.nhn?mode=LSD&mid=shm&sid1=100&oid=215&aid=0000962258'), (datetime.datetime(2021, 6, 3, 15, 17, 59, 525417), '오늘 또 비 소식…더위 주춤[굿모닝 날씨]', 'https://news.naver.com/main/read.nhn?mode=LSD&mid=shm&sid1=103&oid=056&aid=0011056458')]\n",
      "200\n",
      "[(datetime.datetime(2021, 6, 3, 15, 17, 59, 656418), '6월 모평, 국어 다소 쉬워…·수학 공통과목 까다로워', 'https://news.naver.com/main/read.nhn?mode=LSD&mid=shm&sid1=102&oid=079&aid=0003511593'), (datetime.datetime(2021, 6, 3, 15, 17, 59, 656418), '이용구 \"택시기사에 1000만 원, 영상 삭제 대가 아냐\" [전문]', 'https://news.naver.com/main/read.nhn?mode=LSD&mid=shm&sid1=102&oid=437&aid=0000267930'), (datetime.datetime(2021, 6, 3, 15, 17, 59, 656418), '日 도쿄올림픽 홈피에 \\'독도 표기\\'... 백혜련 \"영유권 침해, 삭제하라\"', 'https://news.naver.com/main/read.nhn?mode=LSD&mid=shm&sid1=100&oid=469&aid=0000608498'), (datetime.datetime(2021, 6, 3, 15, 17, 59, 656418), '\"가슴 아파\" 文대통령, 공군 성폭력 사건 엄중 수사 지시', 'https://news.naver.com/main/read.nhn?mode=LSD&mid=shm&sid1=100&oid=215&aid=0000962258'), (datetime.datetime(2021, 6, 3, 15, 17, 59, 656418), '오늘 또 비 소식…더위 주춤[굿모닝 날씨]', 'https://news.naver.com/main/read.nhn?mode=LSD&mid=shm&sid1=103&oid=056&aid=0011056458')]\n",
      "200\n",
      "[(datetime.datetime(2021, 6, 3, 15, 17, 59, 816780), '6월 모평, 국어 다소 쉬워…·수학 공통과목 까다로워', 'https://news.naver.com/main/read.nhn?mode=LSD&mid=shm&sid1=102&oid=079&aid=0003511593'), (datetime.datetime(2021, 6, 3, 15, 17, 59, 816780), '이용구 \"택시기사에 1000만 원, 영상 삭제 대가 아냐\" [전문]', 'https://news.naver.com/main/read.nhn?mode=LSD&mid=shm&sid1=102&oid=437&aid=0000267930'), (datetime.datetime(2021, 6, 3, 15, 17, 59, 817781), '日 도쿄올림픽 홈피에 \\'독도 표기\\'... 백혜련 \"영유권 침해, 삭제하라\"', 'https://news.naver.com/main/read.nhn?mode=LSD&mid=shm&sid1=100&oid=469&aid=0000608498'), (datetime.datetime(2021, 6, 3, 15, 17, 59, 817781), '\"가슴 아파\" 文대통령, 공군 성폭력 사건 엄중 수사 지시', 'https://news.naver.com/main/read.nhn?mode=LSD&mid=shm&sid1=100&oid=215&aid=0000962258'), (datetime.datetime(2021, 6, 3, 15, 17, 59, 817781), '오늘 또 비 소식…더위 주춤[굿모닝 날씨]', 'https://news.naver.com/main/read.nhn?mode=LSD&mid=shm&sid1=103&oid=056&aid=0011056458')]\n",
      "200\n",
      "[(datetime.datetime(2021, 6, 3, 15, 17, 59, 954022), '6월 모평, 국어 다소 쉬워…·수학 공통과목 까다로워', 'https://news.naver.com/main/read.nhn?mode=LSD&mid=shm&sid1=102&oid=079&aid=0003511593'), (datetime.datetime(2021, 6, 3, 15, 17, 59, 954022), '이용구 \"택시기사에 1000만 원, 영상 삭제 대가 아냐\" [전문]', 'https://news.naver.com/main/read.nhn?mode=LSD&mid=shm&sid1=102&oid=437&aid=0000267930'), (datetime.datetime(2021, 6, 3, 15, 17, 59, 954022), '日 도쿄올림픽 홈피에 \\'독도 표기\\'... 백혜련 \"영유권 침해, 삭제하라\"', 'https://news.naver.com/main/read.nhn?mode=LSD&mid=shm&sid1=100&oid=469&aid=0000608498'), (datetime.datetime(2021, 6, 3, 15, 17, 59, 954022), '\"가슴 아파\" 文대통령, 공군 성폭력 사건 엄중 수사 지시', 'https://news.naver.com/main/read.nhn?mode=LSD&mid=shm&sid1=100&oid=215&aid=0000962258'), (datetime.datetime(2021, 6, 3, 15, 17, 59, 954022), '오늘 또 비 소식…더위 주춤[굿모닝 날씨]', 'https://news.naver.com/main/read.nhn?mode=LSD&mid=shm&sid1=103&oid=056&aid=0011056458')]\n",
      "200\n",
      "[(datetime.datetime(2021, 6, 3, 15, 18, 5, 150339), '대법 \"사옥 햇빛 반사로 주민 피해, 네이버 배상책임\"', 'https://news.naver.com/main/read.nhn?mode=LSD&mid=shm&sid1=102&oid=052&aid=0001596438'), (datetime.datetime(2021, 6, 3, 15, 18, 5, 150339), '공군 부사관 유족측, 3명 추가 고소…“성추행 피해 더있다”', 'https://news.naver.com/main/read.nhn?mode=LSD&mid=shm&sid1=100&oid=032&aid=0003077969'), (datetime.datetime(2021, 6, 3, 15, 18, 5, 150339), '공매도 재개 한달…금융당국 \"주가와 연관성 없었다\"', 'https://news.naver.com/main/read.nhn?mode=LSD&mid=shm&sid1=101&oid=018&aid=0004946533'), (datetime.datetime(2021, 6, 3, 15, 18, 5, 150339), '공정위, 삼성 웰스토리 부당지원 자진시정 기각...`요건 미흡`', 'https://news.naver.com/main/read.nhn?mode=LSD&mid=shm&sid1=101&oid=029&aid=0002678098'), (datetime.datetime(2021, 6, 3, 15, 18, 5, 150339), '민주당 “도쿄올림픽 ‘독도 표기’ 규탄”…일각에선 ‘보이콧’ 주장도', 'https://news.naver.com/main/read.nhn?mode=LSD&mid=shm&sid1=100&oid=056&aid=0011056473')]\n",
      "200\n",
      "[(datetime.datetime(2021, 6, 3, 15, 18, 5, 369577), '대법 \"사옥 햇빛 반사로 주민 피해, 네이버 배상책임\"', 'https://news.naver.com/main/read.nhn?mode=LSD&mid=shm&sid1=102&oid=052&aid=0001596438'), (datetime.datetime(2021, 6, 3, 15, 18, 5, 369577), '공군 부사관 유족측, 3명 추가 고소…“성추행 피해 더있다”', 'https://news.naver.com/main/read.nhn?mode=LSD&mid=shm&sid1=100&oid=032&aid=0003077969'), (datetime.datetime(2021, 6, 3, 15, 18, 5, 369577), '공매도 재개 한달…금융당국 \"주가와 연관성 없었다\"', 'https://news.naver.com/main/read.nhn?mode=LSD&mid=shm&sid1=101&oid=018&aid=0004946533'), (datetime.datetime(2021, 6, 3, 15, 18, 5, 369577), '공정위, 삼성 웰스토리 부당지원 자진시정 기각...`요건 미흡`', 'https://news.naver.com/main/read.nhn?mode=LSD&mid=shm&sid1=101&oid=029&aid=0002678098'), (datetime.datetime(2021, 6, 3, 15, 18, 5, 369577), '민주당 “도쿄올림픽 ‘독도 표기’ 규탄”…일각에선 ‘보이콧’ 주장도', 'https://news.naver.com/main/read.nhn?mode=LSD&mid=shm&sid1=100&oid=056&aid=0011056473')]\n",
      "200\n",
      "[(datetime.datetime(2021, 6, 3, 15, 18, 10, 554572), '정부 \"대구시 주선 화이자 백신 진위 의심…구매 안한다\"', 'https://news.naver.com/main/read.nhn?mode=LSD&mid=shm&sid1=102&oid=001&aid=0012435457'), (datetime.datetime(2021, 6, 3, 15, 18, 10, 554572), \"군, '공군 성추행' 사상 최초 수사심의위 설치…유족 오늘 추가 고소\", 'https://news.naver.com/main/read.nhn?mode=LSD&mid=shm&sid1=100&oid=214&aid=0001122811'), (datetime.datetime(2021, 6, 3, 15, 18, 10, 554572), '대법 \"통유리 네이버 사옥, 태양반사광 생활 방해 인정\"', 'https://news.naver.com/main/read.nhn?mode=LSD&mid=shm&sid1=102&oid=032&aid=0003077959'), (datetime.datetime(2021, 6, 3, 15, 18, 10, 554572), '택시기사 \"이용구, 차량 멈춘 뒤 폭행한 걸로 해달라 요청\"', 'https://news.naver.com/main/read.nhn?mode=LSD&mid=shm&sid1=102&oid=052&aid=0001596307'), (datetime.datetime(2021, 6, 3, 15, 18, 10, 555572), '수소사업 속도내는 SK, 세계 최초 청록수소 생산회사 투자', 'https://news.naver.com/main/read.nhn?mode=LSD&mid=shm&sid1=101&oid=277&aid=0004913914')]\n",
      "200\n",
      "[(datetime.datetime(2021, 6, 3, 15, 18, 10, 687117), '정부 \"대구시 주선 화이자 백신 진위 의심…구매 안한다\"', 'https://news.naver.com/main/read.nhn?mode=LSD&mid=shm&sid1=102&oid=001&aid=0012435457'), (datetime.datetime(2021, 6, 3, 15, 18, 10, 687117), \"군, '공군 성추행' 사상 최초 수사심의위 설치…유족 오늘 추가 고소\", 'https://news.naver.com/main/read.nhn?mode=LSD&mid=shm&sid1=100&oid=214&aid=0001122811'), (datetime.datetime(2021, 6, 3, 15, 18, 10, 687117), '대법 \"통유리 네이버 사옥, 태양반사광 생활 방해 인정\"', 'https://news.naver.com/main/read.nhn?mode=LSD&mid=shm&sid1=102&oid=032&aid=0003077959'), (datetime.datetime(2021, 6, 3, 15, 18, 10, 687117), '택시기사 \"이용구, 차량 멈춘 뒤 폭행한 걸로 해달라 요청\"', 'https://news.naver.com/main/read.nhn?mode=LSD&mid=shm&sid1=102&oid=052&aid=0001596307'), (datetime.datetime(2021, 6, 3, 15, 18, 10, 687117), '수소사업 속도내는 SK, 세계 최초 청록수소 생산회사 투자', 'https://news.naver.com/main/read.nhn?mode=LSD&mid=shm&sid1=101&oid=277&aid=0004913914')]\n"
     ]
    },
    {
     "name": "stdout",
     "output_type": "stream",
     "text": [
      "200\n",
      "[(datetime.datetime(2021, 6, 3, 15, 18, 10, 853835), '정부 \"대구시 주선 화이자 백신 진위 의심…구매 안한다\"', 'https://news.naver.com/main/read.nhn?mode=LSD&mid=shm&sid1=102&oid=001&aid=0012435457'), (datetime.datetime(2021, 6, 3, 15, 18, 10, 853835), \"군, '공군 성추행' 사상 최초 수사심의위 설치…유족 오늘 추가 고소\", 'https://news.naver.com/main/read.nhn?mode=LSD&mid=shm&sid1=100&oid=214&aid=0001122811'), (datetime.datetime(2021, 6, 3, 15, 18, 10, 853835), '대법 \"통유리 네이버 사옥, 태양반사광 생활 방해 인정\"', 'https://news.naver.com/main/read.nhn?mode=LSD&mid=shm&sid1=102&oid=032&aid=0003077959'), (datetime.datetime(2021, 6, 3, 15, 18, 10, 853835), '택시기사 \"이용구, 차량 멈춘 뒤 폭행한 걸로 해달라 요청\"', 'https://news.naver.com/main/read.nhn?mode=LSD&mid=shm&sid1=102&oid=052&aid=0001596307'), (datetime.datetime(2021, 6, 3, 15, 18, 10, 853835), '수소사업 속도내는 SK, 세계 최초 청록수소 생산회사 투자', 'https://news.naver.com/main/read.nhn?mode=LSD&mid=shm&sid1=101&oid=277&aid=0004913914')]\n",
      "200\n",
      "[(datetime.datetime(2021, 6, 3, 15, 18, 11, 6926), '정부 \"대구시 주선 화이자 백신 진위 의심…구매 안한다\"', 'https://news.naver.com/main/read.nhn?mode=LSD&mid=shm&sid1=102&oid=001&aid=0012435457'), (datetime.datetime(2021, 6, 3, 15, 18, 11, 6926), \"군, '공군 성추행' 사상 최초 수사심의위 설치…유족 오늘 추가 고소\", 'https://news.naver.com/main/read.nhn?mode=LSD&mid=shm&sid1=100&oid=214&aid=0001122811'), (datetime.datetime(2021, 6, 3, 15, 18, 11, 6926), '대법 \"통유리 네이버 사옥, 태양반사광 생활 방해 인정\"', 'https://news.naver.com/main/read.nhn?mode=LSD&mid=shm&sid1=102&oid=032&aid=0003077959'), (datetime.datetime(2021, 6, 3, 15, 18, 11, 6926), '택시기사 \"이용구, 차량 멈춘 뒤 폭행한 걸로 해달라 요청\"', 'https://news.naver.com/main/read.nhn?mode=LSD&mid=shm&sid1=102&oid=052&aid=0001596307'), (datetime.datetime(2021, 6, 3, 15, 18, 11, 6926), '수소사업 속도내는 SK, 세계 최초 청록수소 생산회사 투자', 'https://news.naver.com/main/read.nhn?mode=LSD&mid=shm&sid1=101&oid=277&aid=0004913914')]\n",
      "200\n",
      "[(datetime.datetime(2021, 6, 3, 15, 18, 16, 192337), '스카이에듀, \"22학년도 6월 모평 수학, EBS 체감 연계율 낮아\"', 'https://news.naver.com/main/read.nhn?mode=LSD&mid=shm&sid1=102&oid=417&aid=0000700572'), (datetime.datetime(2021, 6, 3, 15, 18, 16, 192337), \"국방부, '부사관 성추행 사건'에 軍 최초 수사심의위···민간 전문가 투입\", 'https://news.naver.com/main/read.nhn?mode=LSD&mid=shm&sid1=102&oid=011&aid=0003918613'), (datetime.datetime(2021, 6, 3, 15, 18, 16, 192337), '문대통령 \"국민 고통 마음아파\"…與초선 \"곳간 더 열어야\"', 'https://news.naver.com/main/read.nhn?mode=LSD&mid=shm&sid1=100&oid=422&aid=0000488200'), (datetime.datetime(2021, 6, 3, 15, 18, 16, 192337), '문 대통령 \"최고 상급자 포함 지휘 문제 점검 엄중 처리\"', 'https://news.naver.com/main/read.nhn?mode=LSD&mid=shm&sid1=100&oid=214&aid=0001122818'), (datetime.datetime(2021, 6, 3, 15, 18, 16, 192337), '韓 IOC 위원 만난 정세균…“독도 표기, 결코 양보할 수 없어”', 'https://news.naver.com/main/read.nhn?mode=LSD&mid=shm&sid1=100&oid=016&aid=0001843839')]\n",
      "200\n",
      "[(datetime.datetime(2021, 6, 3, 15, 18, 16, 328963), '스카이에듀, \"22학년도 6월 모평 수학, EBS 체감 연계율 낮아\"', 'https://news.naver.com/main/read.nhn?mode=LSD&mid=shm&sid1=102&oid=417&aid=0000700572'), (datetime.datetime(2021, 6, 3, 15, 18, 16, 328963), \"국방부, '부사관 성추행 사건'에 軍 최초 수사심의위···민간 전문가 투입\", 'https://news.naver.com/main/read.nhn?mode=LSD&mid=shm&sid1=102&oid=011&aid=0003918613'), (datetime.datetime(2021, 6, 3, 15, 18, 16, 329974), '문대통령 \"국민 고통 마음아파\"…與초선 \"곳간 더 열어야\"', 'https://news.naver.com/main/read.nhn?mode=LSD&mid=shm&sid1=100&oid=422&aid=0000488200'), (datetime.datetime(2021, 6, 3, 15, 18, 16, 329974), '문 대통령 \"최고 상급자 포함 지휘 문제 점검 엄중 처리\"', 'https://news.naver.com/main/read.nhn?mode=LSD&mid=shm&sid1=100&oid=214&aid=0001122818'), (datetime.datetime(2021, 6, 3, 15, 18, 16, 329974), '韓 IOC 위원 만난 정세균…“독도 표기, 결코 양보할 수 없어”', 'https://news.naver.com/main/read.nhn?mode=LSD&mid=shm&sid1=100&oid=016&aid=0001843839')]\n",
      "200\n",
      "[(datetime.datetime(2021, 6, 3, 15, 18, 21, 502145), '윤석열, 여권 공세에 “무리한 부인 수사… 정치 공작”', 'https://news.naver.com/main/read.nhn?mode=LSD&mid=shm&sid1=100&oid=005&aid=0001444604'), (datetime.datetime(2021, 6, 3, 15, 18, 21, 502145), 'SK㈜, 美 모놀리스 투자...친환경 수소사업 확장', 'https://news.naver.com/main/read.nhn?mode=LSD&mid=shm&sid1=101&oid=030&aid=0002948592'), (datetime.datetime(2021, 6, 3, 15, 18, 21, 503144), '[속보] 이용구 \"1,000만원은 삭제대가 아냐···택시기사분 입건 송구\"', 'https://news.naver.com/main/read.nhn?mode=LSD&mid=shm&sid1=102&oid=011&aid=0003918404'), (datetime.datetime(2021, 6, 3, 15, 18, 21, 503144), \"'범LG家 3세' 아워홈 구본성, 보복운전으로 1심 집행유예\", 'https://news.naver.com/main/read.nhn?mode=LSD&mid=shm&sid1=102&oid=001&aid=0012435881'), (datetime.datetime(2021, 6, 3, 15, 18, 21, 503144), '‘네이버 사옥’ 반사광 소송 재판 계속된다…대법, 파기환송', 'https://news.naver.com/main/read.nhn?mode=LSD&mid=shm&sid1=102&oid=016&aid=0001843605')]\n",
      "200\n",
      "[(datetime.datetime(2021, 6, 3, 15, 18, 21, 731236), '하정우 \"프로포폴 투약 벌금형, 안일한 판단 반성한다\"', 'https://news.naver.com/main/read.nhn?mode=LSD&mid=shm&sid1=102&oid=011&aid=0003918611'), (datetime.datetime(2021, 6, 3, 15, 18, 21, 731236), '이용구 \"택시기사에 1000만 원, 영상 삭제 대가 아냐\" [전문]', 'https://news.naver.com/main/read.nhn?mode=LSD&mid=shm&sid1=102&oid=437&aid=0000267930'), (datetime.datetime(2021, 6, 3, 15, 18, 21, 731236), \"의원 132명, '日올림픽지도 독도 표기' 규탄결의 발의\", 'https://news.naver.com/main/read.nhn?mode=LSD&mid=shm&sid1=100&oid=001&aid=0012435652'), (datetime.datetime(2021, 6, 3, 15, 18, 21, 731236), '문 대통령, 與 지도부에도 초선들에도 \"단합\"', 'https://news.naver.com/main/read.nhn?mode=LSD&mid=shm&sid1=100&oid=215&aid=0000962326'), (datetime.datetime(2021, 6, 3, 15, 18, 21, 732236), '전국 곳곳에 벼락·강풍 동반한 요란한 비...언제 그칠까[날씨]', 'https://news.naver.com/main/read.nhn?mode=LSD&mid=shm&sid1=103&oid=052&aid=0001596413')]\n",
      "200\n",
      "[(datetime.datetime(2021, 6, 3, 15, 18, 21, 927376), '하정우 \"프로포폴 투약 벌금형, 안일한 판단 반성한다\"', 'https://news.naver.com/main/read.nhn?mode=LSD&mid=shm&sid1=102&oid=011&aid=0003918611'), (datetime.datetime(2021, 6, 3, 15, 18, 21, 927376), '이용구 \"택시기사에 1000만 원, 영상 삭제 대가 아냐\" [전문]', 'https://news.naver.com/main/read.nhn?mode=LSD&mid=shm&sid1=102&oid=437&aid=0000267930'), (datetime.datetime(2021, 6, 3, 15, 18, 21, 928375), \"의원 132명, '日올림픽지도 독도 표기' 규탄결의 발의\", 'https://news.naver.com/main/read.nhn?mode=LSD&mid=shm&sid1=100&oid=001&aid=0012435652'), (datetime.datetime(2021, 6, 3, 15, 18, 21, 928375), '문 대통령, 與 지도부에도 초선들에도 \"단합\"', 'https://news.naver.com/main/read.nhn?mode=LSD&mid=shm&sid1=100&oid=215&aid=0000962326'), (datetime.datetime(2021, 6, 3, 15, 18, 21, 928375), '전국 곳곳에 벼락·강풍 동반한 요란한 비...언제 그칠까[날씨]', 'https://news.naver.com/main/read.nhn?mode=LSD&mid=shm&sid1=103&oid=052&aid=0001596413')]\n",
      "200\n",
      "[(datetime.datetime(2021, 6, 3, 15, 18, 22, 66509), '하정우 \"프로포폴 투약 벌금형, 안일한 판단 반성한다\"', 'https://news.naver.com/main/read.nhn?mode=LSD&mid=shm&sid1=102&oid=011&aid=0003918611'), (datetime.datetime(2021, 6, 3, 15, 18, 22, 66509), '이용구 \"택시기사에 1000만 원, 영상 삭제 대가 아냐\" [전문]', 'https://news.naver.com/main/read.nhn?mode=LSD&mid=shm&sid1=102&oid=437&aid=0000267930'), (datetime.datetime(2021, 6, 3, 15, 18, 22, 66509), \"의원 132명, '日올림픽지도 독도 표기' 규탄결의 발의\", 'https://news.naver.com/main/read.nhn?mode=LSD&mid=shm&sid1=100&oid=001&aid=0012435652'), (datetime.datetime(2021, 6, 3, 15, 18, 22, 66509), '문 대통령, 與 지도부에도 초선들에도 \"단합\"', 'https://news.naver.com/main/read.nhn?mode=LSD&mid=shm&sid1=100&oid=215&aid=0000962326'), (datetime.datetime(2021, 6, 3, 15, 18, 22, 67509), '전국 곳곳에 벼락·강풍 동반한 요란한 비...언제 그칠까[날씨]', 'https://news.naver.com/main/read.nhn?mode=LSD&mid=shm&sid1=103&oid=052&aid=0001596413')]\n",
      "200\n",
      "[(datetime.datetime(2021, 6, 3, 15, 18, 27, 259100), '이용구 “거짓 진술 요구는 사실…합의금은 영상 삭제 대가 아냐”', 'https://news.naver.com/main/read.nhn?mode=LSD&mid=shm&sid1=102&oid=056&aid=0011056577'), (datetime.datetime(2021, 6, 3, 15, 18, 27, 259100), '‘공군 부사관 성추행’ 사건 ‘뒷북’ 국방부, 수사심의위 설치', 'https://news.naver.com/main/read.nhn?mode=LSD&mid=shm&sid1=100&oid=005&aid=0001444582'), (datetime.datetime(2021, 6, 3, 15, 18, 27, 259100), '윤석열측 \"與 일방적인 비방, 도를 넘어…이제 대응 나서겠다\"', 'https://news.naver.com/main/read.nhn?mode=LSD&mid=shm&sid1=100&oid=119&aid=0002498698'), (datetime.datetime(2021, 6, 3, 15, 18, 27, 259100), '공매도 재개 한달…금융당국 \"주가와 유의미한 관계 안 나타나\"', 'https://news.naver.com/main/read.nhn?mode=LSD&mid=shm&sid1=101&oid=001&aid=0012435681'), (datetime.datetime(2021, 6, 3, 15, 18, 27, 260099), \"증권사 순익 또 '껑충'…1분기 3조원 벌었다\", 'https://news.naver.com/main/read.nhn?mode=LSD&mid=shm&sid1=101&oid=374&aid=0000246412')]\n",
      "200\n",
      "[(datetime.datetime(2021, 6, 3, 15, 18, 27, 401044), '이용구 “거짓 진술 요구는 사실…합의금은 영상 삭제 대가 아냐”', 'https://news.naver.com/main/read.nhn?mode=LSD&mid=shm&sid1=102&oid=056&aid=0011056577'), (datetime.datetime(2021, 6, 3, 15, 18, 27, 401044), '‘공군 부사관 성추행’ 사건 ‘뒷북’ 국방부, 수사심의위 설치', 'https://news.naver.com/main/read.nhn?mode=LSD&mid=shm&sid1=100&oid=005&aid=0001444582'), (datetime.datetime(2021, 6, 3, 15, 18, 27, 401044), '윤석열측 \"與 일방적인 비방, 도를 넘어…이제 대응 나서겠다\"', 'https://news.naver.com/main/read.nhn?mode=LSD&mid=shm&sid1=100&oid=119&aid=0002498698'), (datetime.datetime(2021, 6, 3, 15, 18, 27, 401044), '공매도 재개 한달…금융당국 \"주가와 유의미한 관계 안 나타나\"', 'https://news.naver.com/main/read.nhn?mode=LSD&mid=shm&sid1=101&oid=001&aid=0012435681'), (datetime.datetime(2021, 6, 3, 15, 18, 27, 401044), \"증권사 순익 또 '껑충'…1분기 3조원 벌었다\", 'https://news.naver.com/main/read.nhn?mode=LSD&mid=shm&sid1=101&oid=374&aid=0000246412')]\n"
     ]
    },
    {
     "name": "stdout",
     "output_type": "stream",
     "text": [
      "200\n",
      "[(datetime.datetime(2021, 6, 3, 15, 18, 32, 604246), '주식시장 투자 수요 급증에, 증권사 1분기 순이익 3조 육박', 'https://news.naver.com/main/read.nhn?mode=LSD&mid=shm&sid1=101&oid=011&aid=0003918586'), (datetime.datetime(2021, 6, 3, 15, 18, 32, 604246), 'SK㈜, 美 수소기업 모놀리스에 투자…청록수소 사업 진출', 'https://news.naver.com/main/read.nhn?mode=LSD&mid=shm&sid1=101&oid=025&aid=0003106829'), (datetime.datetime(2021, 6, 3, 15, 18, 32, 604246), '이용구 “공수처장 거론될 때라 통상보다 많은 1000만원 드려”', 'https://news.naver.com/main/read.nhn?mode=LSD&mid=shm&sid1=102&oid=023&aid=0003617907'), (datetime.datetime(2021, 6, 3, 15, 18, 32, 605246), '대구시 독자 백신 확보 추진에...정부 \"사기 가능성 있다\"', 'https://news.naver.com/main/read.nhn?mode=LSD&mid=shm&sid1=102&oid=469&aid=0000608528'), (datetime.datetime(2021, 6, 3, 15, 18, 32, 605246), '[속보] 文, 여성 부사관 사건에 \"가슴 아파\"…엄정수사 지시', 'https://news.naver.com/main/read.nhn?mode=LSD&mid=shm&sid1=100&oid=015&aid=0004556621')]\n",
      "200\n",
      "[(datetime.datetime(2021, 6, 3, 15, 18, 32, 737497), '주식시장 투자 수요 급증에, 증권사 1분기 순이익 3조 육박', 'https://news.naver.com/main/read.nhn?mode=LSD&mid=shm&sid1=101&oid=011&aid=0003918586'), (datetime.datetime(2021, 6, 3, 15, 18, 32, 737497), 'SK㈜, 美 수소기업 모놀리스에 투자…청록수소 사업 진출', 'https://news.naver.com/main/read.nhn?mode=LSD&mid=shm&sid1=101&oid=025&aid=0003106829'), (datetime.datetime(2021, 6, 3, 15, 18, 32, 737497), '이용구 “공수처장 거론될 때라 통상보다 많은 1000만원 드려”', 'https://news.naver.com/main/read.nhn?mode=LSD&mid=shm&sid1=102&oid=023&aid=0003617907'), (datetime.datetime(2021, 6, 3, 15, 18, 32, 737497), '대구시 독자 백신 확보 추진에...정부 \"사기 가능성 있다\"', 'https://news.naver.com/main/read.nhn?mode=LSD&mid=shm&sid1=102&oid=469&aid=0000608528'), (datetime.datetime(2021, 6, 3, 15, 18, 32, 737497), '[속보] 文, 여성 부사관 사건에 \"가슴 아파\"…엄정수사 지시', 'https://news.naver.com/main/read.nhn?mode=LSD&mid=shm&sid1=100&oid=015&aid=0004556621')]\n",
      "200\n",
      "[(datetime.datetime(2021, 6, 3, 15, 18, 32, 900648), '주식시장 투자 수요 급증에, 증권사 1분기 순이익 3조 육박', 'https://news.naver.com/main/read.nhn?mode=LSD&mid=shm&sid1=101&oid=011&aid=0003918586'), (datetime.datetime(2021, 6, 3, 15, 18, 32, 900648), 'SK㈜, 美 수소기업 모놀리스에 투자…청록수소 사업 진출', 'https://news.naver.com/main/read.nhn?mode=LSD&mid=shm&sid1=101&oid=025&aid=0003106829'), (datetime.datetime(2021, 6, 3, 15, 18, 32, 900648), '이용구 “공수처장 거론될 때라 통상보다 많은 1000만원 드려”', 'https://news.naver.com/main/read.nhn?mode=LSD&mid=shm&sid1=102&oid=023&aid=0003617907'), (datetime.datetime(2021, 6, 3, 15, 18, 32, 900648), '대구시 독자 백신 확보 추진에...정부 \"사기 가능성 있다\"', 'https://news.naver.com/main/read.nhn?mode=LSD&mid=shm&sid1=102&oid=469&aid=0000608528'), (datetime.datetime(2021, 6, 3, 15, 18, 32, 900648), '[속보] 文, 여성 부사관 사건에 \"가슴 아파\"…엄정수사 지시', 'https://news.naver.com/main/read.nhn?mode=LSD&mid=shm&sid1=100&oid=015&aid=0004556621')]\n",
      "200\n",
      "[(datetime.datetime(2021, 6, 3, 15, 18, 33, 130669), '주식시장 투자 수요 급증에, 증권사 1분기 순이익 3조 육박', 'https://news.naver.com/main/read.nhn?mode=LSD&mid=shm&sid1=101&oid=011&aid=0003918586'), (datetime.datetime(2021, 6, 3, 15, 18, 33, 130669), 'SK㈜, 美 수소기업 모놀리스에 투자…청록수소 사업 진출', 'https://news.naver.com/main/read.nhn?mode=LSD&mid=shm&sid1=101&oid=025&aid=0003106829'), (datetime.datetime(2021, 6, 3, 15, 18, 33, 131669), '이용구 “공수처장 거론될 때라 통상보다 많은 1000만원 드려”', 'https://news.naver.com/main/read.nhn?mode=LSD&mid=shm&sid1=102&oid=023&aid=0003617907'), (datetime.datetime(2021, 6, 3, 15, 18, 33, 131669), '대구시 독자 백신 확보 추진에...정부 \"사기 가능성 있다\"', 'https://news.naver.com/main/read.nhn?mode=LSD&mid=shm&sid1=102&oid=469&aid=0000608528'), (datetime.datetime(2021, 6, 3, 15, 18, 33, 131669), '[속보] 文, 여성 부사관 사건에 \"가슴 아파\"…엄정수사 지시', 'https://news.naver.com/main/read.nhn?mode=LSD&mid=shm&sid1=100&oid=015&aid=0004556621')]\n",
      "200\n",
      "[(datetime.datetime(2021, 6, 3, 15, 18, 38, 360254), '문대통령, 與초선과 1시간 30분간 간담회…조국 언급은 없었다', 'https://news.naver.com/main/read.nhn?mode=LSD&mid=shm&sid1=100&oid=119&aid=0002498701'), (datetime.datetime(2021, 6, 3, 15, 18, 38, 360254), '이용구 \"택시기사에 건넨 1천만원, 영상 삭제 대가 아냐\"', 'https://news.naver.com/main/read.nhn?mode=LSD&mid=shm&sid1=102&oid=031&aid=0000602254'), (datetime.datetime(2021, 6, 3, 15, 18, 38, 361244), '민주·정의 132명 의원들 \"도쿄올림픽 \\'독도 표기\\' 규탄\"', 'https://news.naver.com/main/read.nhn?mode=LSD&mid=shm&sid1=100&oid=448&aid=0000329976'), (datetime.datetime(2021, 6, 3, 15, 18, 38, 361244), 'SK㈜, 세계 첫 청록수소 생산 美모놀리스에 투자…수소사업 확장', 'https://news.naver.com/main/read.nhn?mode=LSD&mid=shm&sid1=101&oid=001&aid=0012435130'), (datetime.datetime(2021, 6, 3, 15, 18, 38, 361244), '[현장영상] 與 초선의원 68명, 대통령과 간담회...어떤 이야기 오갔나', 'https://news.naver.com/main/read.nhn?mode=LSD&mid=shm&sid1=100&oid=052&aid=0001596403')]\n",
      "200\n",
      "[(datetime.datetime(2021, 6, 3, 15, 18, 38, 534509), '문 대통령, 여부사관 사건에 \"가슴 아파\"…엄정 수사 지시', 'https://news.naver.com/main/read.nhn?mode=LSD&mid=shm&sid1=100&oid=437&aid=0000267943'), (datetime.datetime(2021, 6, 3, 15, 18, 38, 535508), '정부 \"대구 주선 화이자 백신 \\'직구\\' 추진 안해\" (종합)', 'https://news.naver.com/main/read.nhn?mode=LSD&mid=shm&sid1=102&oid=011&aid=0003918587'), (datetime.datetime(2021, 6, 3, 15, 18, 38, 535508), 'SK㈜, 세계 최초 청록수소 제조사 투자...수소사업 영토확장', 'https://news.naver.com/main/read.nhn?mode=LSD&mid=shm&sid1=101&oid=016&aid=0001843818'), (datetime.datetime(2021, 6, 3, 15, 18, 38, 535508), '벌어서 이자도 못내는 기업 비중 34.5%…통계작성 후 최대', 'https://news.naver.com/main/read.nhn?mode=LSD&mid=shm&sid1=101&oid=016&aid=0001843831'), (datetime.datetime(2021, 6, 3, 15, 18, 38, 535508), '공군 부사관 유족 측 \"부사관 3명 추가 고소…추가 피해도 포함\"', 'https://news.naver.com/main/read.nhn?mode=LSD&mid=shm&sid1=100&oid=055&aid=0000898385')]\n",
      "200\n",
      "[(datetime.datetime(2021, 6, 3, 15, 18, 43, 704239), '\"거래금액 6,000억 넘는 M&A...공정위 신고해야\"', 'https://news.naver.com/main/read.nhn?mode=LSD&mid=shm&sid1=101&oid=011&aid=0003918589'), (datetime.datetime(2021, 6, 3, 15, 18, 43, 705239), '전국 흐리고 비…낮 더위 누그러져, 서울 22도[날씨]', 'https://news.naver.com/main/read.nhn?mode=LSD&mid=shm&sid1=103&oid=422&aid=0000488188'), (datetime.datetime(2021, 6, 3, 15, 18, 43, 705239), '靑 “문 대통령, 女부사관 사건에 ‘가슴 아파’… 엄정수사 지시”', 'https://news.naver.com/main/read.nhn?mode=LSD&mid=shm&sid1=100&oid=022&aid=0003587137'), (datetime.datetime(2021, 6, 3, 15, 18, 43, 705239), '이용구 “택시기사 준 1000만 원 합의금…영상삭제 대가 아냐”', 'https://news.naver.com/main/read.nhn?mode=LSD&mid=shm&sid1=102&oid=020&aid=0003361584'), (datetime.datetime(2021, 6, 3, 15, 18, 43, 705239), 'SK㈜, 세계 최초 청록수소 제조사 투자...수소사업 영토확장', 'https://news.naver.com/main/read.nhn?mode=LSD&mid=shm&sid1=101&oid=016&aid=0001843818')]\n",
      "200\n",
      "[(datetime.datetime(2021, 6, 3, 15, 18, 43, 833793), '\"거래금액 6,000억 넘는 M&A...공정위 신고해야\"', 'https://news.naver.com/main/read.nhn?mode=LSD&mid=shm&sid1=101&oid=011&aid=0003918589'), (datetime.datetime(2021, 6, 3, 15, 18, 43, 834793), '전국 흐리고 비…낮 더위 누그러져, 서울 22도[날씨]', 'https://news.naver.com/main/read.nhn?mode=LSD&mid=shm&sid1=103&oid=422&aid=0000488188'), (datetime.datetime(2021, 6, 3, 15, 18, 43, 834793), '靑 “문 대통령, 女부사관 사건에 ‘가슴 아파’… 엄정수사 지시”', 'https://news.naver.com/main/read.nhn?mode=LSD&mid=shm&sid1=100&oid=022&aid=0003587137'), (datetime.datetime(2021, 6, 3, 15, 18, 43, 834793), '이용구 “택시기사 준 1000만 원 합의금…영상삭제 대가 아냐”', 'https://news.naver.com/main/read.nhn?mode=LSD&mid=shm&sid1=102&oid=020&aid=0003361584'), (datetime.datetime(2021, 6, 3, 15, 18, 43, 834793), 'SK㈜, 세계 최초 청록수소 제조사 투자...수소사업 영토확장', 'https://news.naver.com/main/read.nhn?mode=LSD&mid=shm&sid1=101&oid=016&aid=0001843818')]\n",
      "200\n",
      "[(datetime.datetime(2021, 6, 3, 15, 18, 43, 972605), '\"거래금액 6,000억 넘는 M&A...공정위 신고해야\"', 'https://news.naver.com/main/read.nhn?mode=LSD&mid=shm&sid1=101&oid=011&aid=0003918589'), (datetime.datetime(2021, 6, 3, 15, 18, 43, 972605), '전국 흐리고 비…낮 더위 누그러져, 서울 22도[날씨]', 'https://news.naver.com/main/read.nhn?mode=LSD&mid=shm&sid1=103&oid=422&aid=0000488188'), (datetime.datetime(2021, 6, 3, 15, 18, 43, 973605), '靑 “문 대통령, 女부사관 사건에 ‘가슴 아파’… 엄정수사 지시”', 'https://news.naver.com/main/read.nhn?mode=LSD&mid=shm&sid1=100&oid=022&aid=0003587137'), (datetime.datetime(2021, 6, 3, 15, 18, 43, 973605), '이용구 “택시기사 준 1000만 원 합의금…영상삭제 대가 아냐”', 'https://news.naver.com/main/read.nhn?mode=LSD&mid=shm&sid1=102&oid=020&aid=0003361584'), (datetime.datetime(2021, 6, 3, 15, 18, 43, 973605), 'SK㈜, 세계 최초 청록수소 제조사 투자...수소사업 영토확장', 'https://news.naver.com/main/read.nhn?mode=LSD&mid=shm&sid1=101&oid=016&aid=0001843818')]\n",
      "200\n",
      "[(datetime.datetime(2021, 6, 3, 15, 18, 44, 126604), '\"거래금액 6,000억 넘는 M&A...공정위 신고해야\"', 'https://news.naver.com/main/read.nhn?mode=LSD&mid=shm&sid1=101&oid=011&aid=0003918589'), (datetime.datetime(2021, 6, 3, 15, 18, 44, 126604), '전국 흐리고 비…낮 더위 누그러져, 서울 22도[날씨]', 'https://news.naver.com/main/read.nhn?mode=LSD&mid=shm&sid1=103&oid=422&aid=0000488188'), (datetime.datetime(2021, 6, 3, 15, 18, 44, 127603), '靑 “문 대통령, 女부사관 사건에 ‘가슴 아파’… 엄정수사 지시”', 'https://news.naver.com/main/read.nhn?mode=LSD&mid=shm&sid1=100&oid=022&aid=0003587137'), (datetime.datetime(2021, 6, 3, 15, 18, 44, 127603), '이용구 “택시기사 준 1000만 원 합의금…영상삭제 대가 아냐”', 'https://news.naver.com/main/read.nhn?mode=LSD&mid=shm&sid1=102&oid=020&aid=0003361584'), (datetime.datetime(2021, 6, 3, 15, 18, 44, 127603), 'SK㈜, 세계 최초 청록수소 제조사 투자...수소사업 영토확장', 'https://news.naver.com/main/read.nhn?mode=LSD&mid=shm&sid1=101&oid=016&aid=0001843818')]\n"
     ]
    },
    {
     "name": "stdout",
     "output_type": "stream",
     "text": [
      "200\n",
      "[(datetime.datetime(2021, 6, 3, 15, 18, 49, 310032), \"'보복운전 혐의' 구본성 아워홈 부회장 1심서 집행유예\", 'https://news.naver.com/main/read.nhn?mode=LSD&mid=shm&sid1=102&oid=014&aid=0004650728'), (datetime.datetime(2021, 6, 3, 15, 18, 49, 310032), '[단독]\"이용구 폭행 피해자인데 입건…거짓말탐지기도 요구\"', 'https://news.naver.com/main/read.nhn?mode=LSD&mid=shm&sid1=102&oid=025&aid=0003106754'), (datetime.datetime(2021, 6, 3, 15, 18, 49, 310032), '文 대통령 만난 민주당 초선들…”LH, 더 혁신적으로 개편해야”', 'https://news.naver.com/main/read.nhn?mode=LSD&mid=shm&sid1=100&oid=016&aid=0001843875'), (datetime.datetime(2021, 6, 3, 15, 18, 49, 310032), \"국방부, '부사관 성추행 사건'에 軍 최초 수사심의위···민간 전문가 투입\", 'https://news.naver.com/main/read.nhn?mode=LSD&mid=shm&sid1=102&oid=011&aid=0003918613'), (datetime.datetime(2021, 6, 3, 15, 18, 49, 311034), '공매도 재개 한달…금융당국 \"주가와 유의미한 관계 안 나타나\"', 'https://news.naver.com/main/read.nhn?mode=LSD&mid=shm&sid1=101&oid=001&aid=0012435681')]\n",
      "200\n",
      "[(datetime.datetime(2021, 6, 3, 15, 18, 49, 527558), \"'보복운전 혐의' 구본성 아워홈 부회장 1심서 집행유예\", 'https://news.naver.com/main/read.nhn?mode=LSD&mid=shm&sid1=102&oid=014&aid=0004650728'), (datetime.datetime(2021, 6, 3, 15, 18, 49, 527558), '[단독]\"이용구 폭행 피해자인데 입건…거짓말탐지기도 요구\"', 'https://news.naver.com/main/read.nhn?mode=LSD&mid=shm&sid1=102&oid=025&aid=0003106754'), (datetime.datetime(2021, 6, 3, 15, 18, 49, 527558), '文 대통령 만난 민주당 초선들…”LH, 더 혁신적으로 개편해야”', 'https://news.naver.com/main/read.nhn?mode=LSD&mid=shm&sid1=100&oid=016&aid=0001843875'), (datetime.datetime(2021, 6, 3, 15, 18, 49, 527558), \"국방부, '부사관 성추행 사건'에 軍 최초 수사심의위···민간 전문가 투입\", 'https://news.naver.com/main/read.nhn?mode=LSD&mid=shm&sid1=102&oid=011&aid=0003918613'), (datetime.datetime(2021, 6, 3, 15, 18, 49, 528556), '공매도 재개 한달…금융당국 \"주가와 유의미한 관계 안 나타나\"', 'https://news.naver.com/main/read.nhn?mode=LSD&mid=shm&sid1=101&oid=001&aid=0012435681')]\n",
      "200\n",
      "[(datetime.datetime(2021, 6, 3, 15, 18, 54, 765831), '공정위, 벤처지주회사 요건 완화…CVC 외부자금 상한은 40%로', 'https://news.naver.com/main/read.nhn?mode=LSD&mid=shm&sid1=101&oid=014&aid=0004650601'), (datetime.datetime(2021, 6, 3, 15, 18, 54, 765831), '윤석열 측, \\'장모 의혹\\' 송영길 겨냥해 \"정치인들 언행 도 넘어\"', 'https://news.naver.com/main/read.nhn?mode=LSD&mid=shm&sid1=100&oid=469&aid=0000608521'), (datetime.datetime(2021, 6, 3, 15, 18, 54, 765831), '文대통령, \\'공군 성폭력 사망\\' 사건에 \"가슴 아프다…엄중 수사·조치\"', 'https://news.naver.com/main/read.nhn?mode=LSD&mid=shm&sid1=100&oid=448&aid=0000329990'), (datetime.datetime(2021, 6, 3, 15, 18, 54, 765831), \"'범LG家 3세' 아워홈 구본성, 보복운전으로 1심 집행유예\", 'https://news.naver.com/main/read.nhn?mode=LSD&mid=shm&sid1=102&oid=001&aid=0012435881'), (datetime.datetime(2021, 6, 3, 15, 18, 54, 765831), '오늘 또 비 소식…더위 주춤[굿모닝 날씨]', 'https://news.naver.com/main/read.nhn?mode=LSD&mid=shm&sid1=103&oid=056&aid=0011056458')]\n",
      "200\n",
      "[(datetime.datetime(2021, 6, 3, 15, 18, 54, 954858), '공정위, 벤처지주회사 요건 완화…CVC 외부자금 상한은 40%로', 'https://news.naver.com/main/read.nhn?mode=LSD&mid=shm&sid1=101&oid=014&aid=0004650601'), (datetime.datetime(2021, 6, 3, 15, 18, 54, 954858), '윤석열 측, \\'장모 의혹\\' 송영길 겨냥해 \"정치인들 언행 도 넘어\"', 'https://news.naver.com/main/read.nhn?mode=LSD&mid=shm&sid1=100&oid=469&aid=0000608521'), (datetime.datetime(2021, 6, 3, 15, 18, 54, 954858), '文대통령, \\'공군 성폭력 사망\\' 사건에 \"가슴 아프다…엄중 수사·조치\"', 'https://news.naver.com/main/read.nhn?mode=LSD&mid=shm&sid1=100&oid=448&aid=0000329990'), (datetime.datetime(2021, 6, 3, 15, 18, 54, 954858), \"'범LG家 3세' 아워홈 구본성, 보복운전으로 1심 집행유예\", 'https://news.naver.com/main/read.nhn?mode=LSD&mid=shm&sid1=102&oid=001&aid=0012435881'), (datetime.datetime(2021, 6, 3, 15, 18, 54, 954858), '오늘 또 비 소식…더위 주춤[굿모닝 날씨]', 'https://news.naver.com/main/read.nhn?mode=LSD&mid=shm&sid1=103&oid=056&aid=0011056458')]\n",
      "200\n",
      "[(datetime.datetime(2021, 6, 3, 15, 18, 55, 107016), '공정위, 벤처지주회사 요건 완화…CVC 외부자금 상한은 40%로', 'https://news.naver.com/main/read.nhn?mode=LSD&mid=shm&sid1=101&oid=014&aid=0004650601'), (datetime.datetime(2021, 6, 3, 15, 18, 55, 108017), '윤석열 측, \\'장모 의혹\\' 송영길 겨냥해 \"정치인들 언행 도 넘어\"', 'https://news.naver.com/main/read.nhn?mode=LSD&mid=shm&sid1=100&oid=469&aid=0000608521'), (datetime.datetime(2021, 6, 3, 15, 18, 55, 108017), '文대통령, \\'공군 성폭력 사망\\' 사건에 \"가슴 아프다…엄중 수사·조치\"', 'https://news.naver.com/main/read.nhn?mode=LSD&mid=shm&sid1=100&oid=448&aid=0000329990'), (datetime.datetime(2021, 6, 3, 15, 18, 55, 108017), \"'범LG家 3세' 아워홈 구본성, 보복운전으로 1심 집행유예\", 'https://news.naver.com/main/read.nhn?mode=LSD&mid=shm&sid1=102&oid=001&aid=0012435881'), (datetime.datetime(2021, 6, 3, 15, 18, 55, 108017), '오늘 또 비 소식…더위 주춤[굿모닝 날씨]', 'https://news.naver.com/main/read.nhn?mode=LSD&mid=shm&sid1=103&oid=056&aid=0011056458')]\n",
      "200\n",
      "[(datetime.datetime(2021, 6, 3, 15, 18, 55, 250008), '공정위, 벤처지주회사 요건 완화…CVC 외부자금 상한은 40%로', 'https://news.naver.com/main/read.nhn?mode=LSD&mid=shm&sid1=101&oid=014&aid=0004650601'), (datetime.datetime(2021, 6, 3, 15, 18, 55, 250008), '윤석열 측, \\'장모 의혹\\' 송영길 겨냥해 \"정치인들 언행 도 넘어\"', 'https://news.naver.com/main/read.nhn?mode=LSD&mid=shm&sid1=100&oid=469&aid=0000608521'), (datetime.datetime(2021, 6, 3, 15, 18, 55, 250008), '文대통령, \\'공군 성폭력 사망\\' 사건에 \"가슴 아프다…엄중 수사·조치\"', 'https://news.naver.com/main/read.nhn?mode=LSD&mid=shm&sid1=100&oid=448&aid=0000329990'), (datetime.datetime(2021, 6, 3, 15, 18, 55, 251022), \"'범LG家 3세' 아워홈 구본성, 보복운전으로 1심 집행유예\", 'https://news.naver.com/main/read.nhn?mode=LSD&mid=shm&sid1=102&oid=001&aid=0012435881'), (datetime.datetime(2021, 6, 3, 15, 18, 55, 251022), '오늘 또 비 소식…더위 주춤[굿모닝 날씨]', 'https://news.naver.com/main/read.nhn?mode=LSD&mid=shm&sid1=103&oid=056&aid=0011056458')]\n",
      "200\n",
      "[(datetime.datetime(2021, 6, 3, 15, 19, 0, 459545), '文 \"성추행 피해 부사관의 절망, 가슴 아파… 엄정 수사·조치하라\"', 'https://news.naver.com/main/read.nhn?mode=LSD&mid=shm&sid1=100&oid=469&aid=0000608514'), (datetime.datetime(2021, 6, 3, 15, 19, 0, 459545), '주식 열풍에 증권사 1분기 순익 3조…사상 최대 경신', 'https://news.naver.com/main/read.nhn?mode=LSD&mid=shm&sid1=101&oid=214&aid=0001122864'), (datetime.datetime(2021, 6, 3, 15, 19, 0, 459545), 'SK㈜, 美 수소기업 모놀리스에 투자…청록수소 사업 진출', 'https://news.naver.com/main/read.nhn?mode=LSD&mid=shm&sid1=101&oid=025&aid=0003106829'), (datetime.datetime(2021, 6, 3, 15, 19, 0, 459545), '\\'뜨거운 감자\\' 공매도…금융위 \"원활하게 안착했다\"', 'https://news.naver.com/main/read.nhn?mode=LSD&mid=shm&sid1=101&oid=008&aid=0004596729'), (datetime.datetime(2021, 6, 3, 15, 19, 0, 459545), '정부 “대구시 주선 화이자 백신 진위 의심…도입 안 해”', 'https://news.naver.com/main/read.nhn?mode=LSD&mid=shm&sid1=102&oid=056&aid=0011056614')]\n",
      "200\n",
      "[(datetime.datetime(2021, 6, 3, 15, 19, 0, 645040), '女중사 유족 \"성추행 피해 최소 2차례 더 있다\"…고소장 제출(종합)', 'https://news.naver.com/main/read.nhn?mode=LSD&mid=shm&sid1=100&oid=001&aid=0012435542'), (datetime.datetime(2021, 6, 3, 15, 19, 0, 646039), '기업 3곳 중 1곳 돈 벌어 이자도 못 갚아…매출액 2년째 뒷걸음질', 'https://news.naver.com/main/read.nhn?mode=LSD&mid=shm&sid1=101&oid=056&aid=0011056569'), (datetime.datetime(2021, 6, 3, 15, 19, 0, 646039), '2000억 규모 상생지원안 내놨지만…삼성웰스토리 부당지원, 동의의결 실패', 'https://news.naver.com/main/read.nhn?mode=LSD&mid=shm&sid1=101&oid=016&aid=0001843835'), (datetime.datetime(2021, 6, 3, 15, 19, 0, 646039), '日 \"독도는 우리 영토…韓 항의 절대 받아들일 수 없다\"', 'https://news.naver.com/main/read.nhn?mode=LSD&mid=shm&sid1=102&oid=015&aid=0004556578'), (datetime.datetime(2021, 6, 3, 15, 19, 0, 646039), \"올 1분기 증권사 순이익 '3조'…수수료수익 9000억↑\", 'https://news.naver.com/main/read.nhn?mode=LSD&mid=shm&sid1=101&oid=008&aid=0004596640')]\n",
      "200\n",
      "[(datetime.datetime(2021, 6, 3, 15, 19, 5, 817711), '이용구, 허위진술 요구 의혹…\"특가법일수도\" 알았나', 'https://news.naver.com/main/read.nhn?mode=LSD&mid=shm&sid1=102&oid=003&aid=0010531939'), (datetime.datetime(2021, 6, 3, 15, 19, 5, 817711), '작년 기업 10곳 중 3곳, 영업 이익으로 대출 이자도 못 내', 'https://news.naver.com/main/read.nhn?mode=LSD&mid=shm&sid1=101&oid=028&aid=0002547037'), (datetime.datetime(2021, 6, 3, 15, 19, 5, 817711), '백혜련 등 민주당 의원 132명, 도쿄올림픽 독도 日영토 표기 규탄', 'https://news.naver.com/main/read.nhn?mode=LSD&mid=shm&sid1=100&oid=119&aid=0002498649'), (datetime.datetime(2021, 6, 3, 15, 19, 5, 817711), '문대통령 \"초선 자신감으로 위기극복에 지지자들이 참여하도록\" 당부', 'https://news.naver.com/main/read.nhn?mode=LSD&mid=shm&sid1=100&oid=421&aid=0005391493'), (datetime.datetime(2021, 6, 3, 15, 19, 5, 817711), '윤석열 측, 宋에 “도 넘은 언행…사법제도 대한 예의 아냐”', 'https://news.naver.com/main/read.nhn?mode=LSD&mid=shm&sid1=100&oid=018&aid=0004946347')]\n",
      "200\n",
      "[(datetime.datetime(2021, 6, 3, 15, 19, 6, 22052), '이용구, 허위진술 요구 의혹…\"특가법일수도\" 알았나', 'https://news.naver.com/main/read.nhn?mode=LSD&mid=shm&sid1=102&oid=003&aid=0010531939'), (datetime.datetime(2021, 6, 3, 15, 19, 6, 22052), '작년 기업 10곳 중 3곳, 영업 이익으로 대출 이자도 못 내', 'https://news.naver.com/main/read.nhn?mode=LSD&mid=shm&sid1=101&oid=028&aid=0002547037'), (datetime.datetime(2021, 6, 3, 15, 19, 6, 22052), '백혜련 등 민주당 의원 132명, 도쿄올림픽 독도 日영토 표기 규탄', 'https://news.naver.com/main/read.nhn?mode=LSD&mid=shm&sid1=100&oid=119&aid=0002498649'), (datetime.datetime(2021, 6, 3, 15, 19, 6, 22052), '문대통령 \"초선 자신감으로 위기극복에 지지자들이 참여하도록\" 당부', 'https://news.naver.com/main/read.nhn?mode=LSD&mid=shm&sid1=100&oid=421&aid=0005391493'), (datetime.datetime(2021, 6, 3, 15, 19, 6, 22052), '윤석열 측, 宋에 “도 넘은 언행…사법제도 대한 예의 아냐”', 'https://news.naver.com/main/read.nhn?mode=LSD&mid=shm&sid1=100&oid=018&aid=0004946347')]\n",
      "200\n",
      "[(datetime.datetime(2021, 6, 3, 15, 19, 6, 166031), '이용구, 허위진술 요구 의혹…\"특가법일수도\" 알았나', 'https://news.naver.com/main/read.nhn?mode=LSD&mid=shm&sid1=102&oid=003&aid=0010531939'), (datetime.datetime(2021, 6, 3, 15, 19, 6, 166031), '작년 기업 10곳 중 3곳, 영업 이익으로 대출 이자도 못 내', 'https://news.naver.com/main/read.nhn?mode=LSD&mid=shm&sid1=101&oid=028&aid=0002547037'), (datetime.datetime(2021, 6, 3, 15, 19, 6, 166031), '백혜련 등 민주당 의원 132명, 도쿄올림픽 독도 日영토 표기 규탄', 'https://news.naver.com/main/read.nhn?mode=LSD&mid=shm&sid1=100&oid=119&aid=0002498649'), (datetime.datetime(2021, 6, 3, 15, 19, 6, 166031), '문대통령 \"초선 자신감으로 위기극복에 지지자들이 참여하도록\" 당부', 'https://news.naver.com/main/read.nhn?mode=LSD&mid=shm&sid1=100&oid=421&aid=0005391493'), (datetime.datetime(2021, 6, 3, 15, 19, 6, 166031), '윤석열 측, 宋에 “도 넘은 언행…사법제도 대한 예의 아냐”', 'https://news.naver.com/main/read.nhn?mode=LSD&mid=shm&sid1=100&oid=018&aid=0004946347')]\n"
     ]
    },
    {
     "name": "stdout",
     "output_type": "stream",
     "text": [
      "200\n",
      "[(datetime.datetime(2021, 6, 3, 15, 19, 6, 307453), '이용구, 허위진술 요구 의혹…\"특가법일수도\" 알았나', 'https://news.naver.com/main/read.nhn?mode=LSD&mid=shm&sid1=102&oid=003&aid=0010531939'), (datetime.datetime(2021, 6, 3, 15, 19, 6, 307453), '작년 기업 10곳 중 3곳, 영업 이익으로 대출 이자도 못 내', 'https://news.naver.com/main/read.nhn?mode=LSD&mid=shm&sid1=101&oid=028&aid=0002547037'), (datetime.datetime(2021, 6, 3, 15, 19, 6, 307453), '백혜련 등 민주당 의원 132명, 도쿄올림픽 독도 日영토 표기 규탄', 'https://news.naver.com/main/read.nhn?mode=LSD&mid=shm&sid1=100&oid=119&aid=0002498649'), (datetime.datetime(2021, 6, 3, 15, 19, 6, 307453), '문대통령 \"초선 자신감으로 위기극복에 지지자들이 참여하도록\" 당부', 'https://news.naver.com/main/read.nhn?mode=LSD&mid=shm&sid1=100&oid=421&aid=0005391493'), (datetime.datetime(2021, 6, 3, 15, 19, 6, 307453), '윤석열 측, 宋에 “도 넘은 언행…사법제도 대한 예의 아냐”', 'https://news.naver.com/main/read.nhn?mode=LSD&mid=shm&sid1=100&oid=018&aid=0004946347')]\n",
      "200\n",
      "[(datetime.datetime(2021, 6, 3, 15, 19, 11, 516203), '기업 100곳 중 35곳은 이자도 못 내···코로나19에 역대 최대', 'https://news.naver.com/main/read.nhn?mode=LSD&mid=shm&sid1=101&oid=011&aid=0003918585'), (datetime.datetime(2021, 6, 3, 15, 19, 11, 516203), '이용구 \"폭행 사과…1천만원은 영상 삭제 대가 아냐\"', 'https://news.naver.com/main/read.nhn?mode=LSD&mid=shm&sid1=102&oid=422&aid=0000488176'), (datetime.datetime(2021, 6, 3, 15, 19, 11, 516203), '文대통령, 공군 부사관 성추행 사망사건 엄정 처리 강력지시(상보)', 'https://news.naver.com/main/read.nhn?mode=LSD&mid=shm&sid1=100&oid=018&aid=0004946410'), (datetime.datetime(2021, 6, 3, 15, 19, 11, 516203), 'SK㈜, \\'청록수소\\' 생산 회사에 투자…\"수소사업 확장 가속\"', 'https://news.naver.com/main/read.nhn?mode=LSD&mid=shm&sid1=101&oid=421&aid=0005390870'), (datetime.datetime(2021, 6, 3, 15, 19, 11, 516203), \"국회의원 132명 '도쿄올림픽 지도 독도 삭제' 규탄결의안 발의\", 'https://news.naver.com/main/read.nhn?mode=LSD&mid=shm&sid1=100&oid=011&aid=0003918697')]\n",
      "200\n",
      "[(datetime.datetime(2021, 6, 3, 15, 19, 11, 688412), '이용구 \"1천만 원은 합의금…영상 삭제 대가 아냐\"', 'https://news.naver.com/main/read.nhn?mode=LSD&mid=shm&sid1=102&oid=214&aid=0001122797'), (datetime.datetime(2021, 6, 3, 15, 19, 11, 688412), '‘급식 몰아주기’ 삼성 자진시정 신청 기각…공정위, 본안 다투기로', 'https://news.naver.com/main/read.nhn?mode=LSD&mid=shm&sid1=101&oid=028&aid=0002547059'), (datetime.datetime(2021, 6, 3, 15, 19, 11, 688412), '‘인수금액 6000억 + 월 100만명 이용’ 공정위 M&A 심사 대상', 'https://news.naver.com/main/read.nhn?mode=LSD&mid=shm&sid1=101&oid=016&aid=0001843841'), (datetime.datetime(2021, 6, 3, 15, 19, 11, 688412), \"지난해 이자도 못 낸 ‘좀비기업' 34.5% 사상 최대\", 'https://news.naver.com/main/read.nhn?mode=LSD&mid=shm&sid1=101&oid=366&aid=0000727407'), (datetime.datetime(2021, 6, 3, 15, 19, 11, 688412), '수소 핵심 기술 확보 박차...SK㈜, 청록수소 생산 美 업체 투자', 'https://news.naver.com/main/read.nhn?mode=LSD&mid=shm&sid1=101&oid=011&aid=0003918526')]\n",
      "200\n",
      "[(datetime.datetime(2021, 6, 3, 15, 19, 16, 884051), '문 대통령 \"공군 성폭력 사건 가슴 아프다…엄정 처리\"', 'https://news.naver.com/main/read.nhn?mode=LSD&mid=shm&sid1=100&oid=055&aid=0000898362'), (datetime.datetime(2021, 6, 3, 15, 19, 16, 885053), '하정우, 프로포폴 불법투약 벌금형 “겸허한 마음으로 받아들인다”', 'https://news.naver.com/main/read.nhn?mode=LSD&mid=shm&sid1=102&oid=020&aid=0003361620'), (datetime.datetime(2021, 6, 3, 15, 19, 16, 885053), '문대통령 \"내부단합·외연확장할 때 지지 만들어져\"(종합)', 'https://news.naver.com/main/read.nhn?mode=LSD&mid=shm&sid1=100&oid=001&aid=0012435841'), (datetime.datetime(2021, 6, 3, 15, 19, 16, 885053), \"코스피 3,000 돌파에 증권사도 '돈방석'…1분기 순익 '역대 최대'\", 'https://news.naver.com/main/read.nhn?mode=LSD&mid=shm&sid1=101&oid=469&aid=0000608529'), (datetime.datetime(2021, 6, 3, 15, 19, 16, 885053), '[속보] 이용구 \"택시기사에 거듭 사과...영상 유포 우려해 삭제 요청\"', 'https://news.naver.com/main/read.nhn?mode=LSD&mid=shm&sid1=102&oid=052&aid=0001596275')]\n",
      "200\n",
      "[(datetime.datetime(2021, 6, 3, 15, 19, 17, 19161), '문 대통령 \"공군 성폭력 사건 가슴 아프다…엄정 처리\"', 'https://news.naver.com/main/read.nhn?mode=LSD&mid=shm&sid1=100&oid=055&aid=0000898362'), (datetime.datetime(2021, 6, 3, 15, 19, 17, 19161), '하정우, 프로포폴 불법투약 벌금형 “겸허한 마음으로 받아들인다”', 'https://news.naver.com/main/read.nhn?mode=LSD&mid=shm&sid1=102&oid=020&aid=0003361620'), (datetime.datetime(2021, 6, 3, 15, 19, 17, 19161), '문대통령 \"내부단합·외연확장할 때 지지 만들어져\"(종합)', 'https://news.naver.com/main/read.nhn?mode=LSD&mid=shm&sid1=100&oid=001&aid=0012435841'), (datetime.datetime(2021, 6, 3, 15, 19, 17, 19161), \"코스피 3,000 돌파에 증권사도 '돈방석'…1분기 순익 '역대 최대'\", 'https://news.naver.com/main/read.nhn?mode=LSD&mid=shm&sid1=101&oid=469&aid=0000608529'), (datetime.datetime(2021, 6, 3, 15, 19, 17, 20161), '[속보] 이용구 \"택시기사에 거듭 사과...영상 유포 우려해 삭제 요청\"', 'https://news.naver.com/main/read.nhn?mode=LSD&mid=shm&sid1=102&oid=052&aid=0001596275')]\n",
      "200\n",
      "[(datetime.datetime(2021, 6, 3, 15, 19, 17, 205156), '문 대통령 \"공군 성폭력 사건 가슴 아프다…엄정 처리\"', 'https://news.naver.com/main/read.nhn?mode=LSD&mid=shm&sid1=100&oid=055&aid=0000898362'), (datetime.datetime(2021, 6, 3, 15, 19, 17, 205156), '하정우, 프로포폴 불법투약 벌금형 “겸허한 마음으로 받아들인다”', 'https://news.naver.com/main/read.nhn?mode=LSD&mid=shm&sid1=102&oid=020&aid=0003361620'), (datetime.datetime(2021, 6, 3, 15, 19, 17, 206156), '문대통령 \"내부단합·외연확장할 때 지지 만들어져\"(종합)', 'https://news.naver.com/main/read.nhn?mode=LSD&mid=shm&sid1=100&oid=001&aid=0012435841'), (datetime.datetime(2021, 6, 3, 15, 19, 17, 206156), \"코스피 3,000 돌파에 증권사도 '돈방석'…1분기 순익 '역대 최대'\", 'https://news.naver.com/main/read.nhn?mode=LSD&mid=shm&sid1=101&oid=469&aid=0000608529'), (datetime.datetime(2021, 6, 3, 15, 19, 17, 206156), '[속보] 이용구 \"택시기사에 거듭 사과...영상 유포 우려해 삭제 요청\"', 'https://news.naver.com/main/read.nhn?mode=LSD&mid=shm&sid1=102&oid=052&aid=0001596275')]\n",
      "200\n",
      "[(datetime.datetime(2021, 6, 3, 15, 19, 17, 437239), '문 대통령 \"공군 성폭력 사건 가슴 아프다…엄정 처리\"', 'https://news.naver.com/main/read.nhn?mode=LSD&mid=shm&sid1=100&oid=055&aid=0000898362'), (datetime.datetime(2021, 6, 3, 15, 19, 17, 438239), '하정우, 프로포폴 불법투약 벌금형 “겸허한 마음으로 받아들인다”', 'https://news.naver.com/main/read.nhn?mode=LSD&mid=shm&sid1=102&oid=020&aid=0003361620'), (datetime.datetime(2021, 6, 3, 15, 19, 17, 438239), '문대통령 \"내부단합·외연확장할 때 지지 만들어져\"(종합)', 'https://news.naver.com/main/read.nhn?mode=LSD&mid=shm&sid1=100&oid=001&aid=0012435841'), (datetime.datetime(2021, 6, 3, 15, 19, 17, 438239), \"코스피 3,000 돌파에 증권사도 '돈방석'…1분기 순익 '역대 최대'\", 'https://news.naver.com/main/read.nhn?mode=LSD&mid=shm&sid1=101&oid=469&aid=0000608529'), (datetime.datetime(2021, 6, 3, 15, 19, 17, 438239), '[속보] 이용구 \"택시기사에 거듭 사과...영상 유포 우려해 삭제 요청\"', 'https://news.naver.com/main/read.nhn?mode=LSD&mid=shm&sid1=102&oid=052&aid=0001596275')]\n",
      "200\n",
      "[(datetime.datetime(2021, 6, 3, 15, 19, 22, 615393), '평창 땐 독도 빼라던 IOC, 日 \"독도는 일본 땅\" 억지에도 \\'침묵\\'', 'https://news.naver.com/main/read.nhn?mode=LSD&mid=shm&sid1=104&oid=277&aid=0004914029'), (datetime.datetime(2021, 6, 3, 15, 19, 22, 615393), '文대통령 \"진보, 내부 단합하고 외연 확장할때 지지 만들어져\"', 'https://news.naver.com/main/read.nhn?mode=LSD&mid=shm&sid1=100&oid=016&aid=0001843882'), (datetime.datetime(2021, 6, 3, 15, 19, 22, 616394), '문대통령 만난 與 초선 의원들…간담회 브리핑[현장연결]', 'https://news.naver.com/main/read.nhn?mode=LSD&mid=shm&sid1=100&oid=422&aid=0000488190'), (datetime.datetime(2021, 6, 3, 15, 19, 22, 616394), '이용구 법무차관 “택시기사 준 1000만원, 영상 삭제 대가 아닌 합의금”', 'https://news.naver.com/main/read.nhn?mode=LSD&mid=shm&sid1=102&oid=015&aid=0004556629'), (datetime.datetime(2021, 6, 3, 15, 19, 22, 616394), '\\'뜨거운 감자\\' 공매도…금융위 \"원활하게 안착했다\"', 'https://news.naver.com/main/read.nhn?mode=LSD&mid=shm&sid1=101&oid=008&aid=0004596729')]\n",
      "200\n",
      "[(datetime.datetime(2021, 6, 3, 15, 19, 22, 754498), '평창 땐 독도 빼라던 IOC, 日 \"독도는 일본 땅\" 억지에도 \\'침묵\\'', 'https://news.naver.com/main/read.nhn?mode=LSD&mid=shm&sid1=104&oid=277&aid=0004914029'), (datetime.datetime(2021, 6, 3, 15, 19, 22, 754498), '文대통령 \"진보, 내부 단합하고 외연 확장할때 지지 만들어져\"', 'https://news.naver.com/main/read.nhn?mode=LSD&mid=shm&sid1=100&oid=016&aid=0001843882'), (datetime.datetime(2021, 6, 3, 15, 19, 22, 754498), '문대통령 만난 與 초선 의원들…간담회 브리핑[현장연결]', 'https://news.naver.com/main/read.nhn?mode=LSD&mid=shm&sid1=100&oid=422&aid=0000488190'), (datetime.datetime(2021, 6, 3, 15, 19, 22, 755498), '이용구 법무차관 “택시기사 준 1000만원, 영상 삭제 대가 아닌 합의금”', 'https://news.naver.com/main/read.nhn?mode=LSD&mid=shm&sid1=102&oid=015&aid=0004556629'), (datetime.datetime(2021, 6, 3, 15, 19, 22, 755498), '\\'뜨거운 감자\\' 공매도…금융위 \"원활하게 안착했다\"', 'https://news.naver.com/main/read.nhn?mode=LSD&mid=shm&sid1=101&oid=008&aid=0004596729')]\n",
      "200\n",
      "[(datetime.datetime(2021, 6, 3, 15, 19, 27, 931276), '정부 “대구시 주선 화이자, 도입 않기로”…화이자 “고발 검토”', 'https://news.naver.com/main/read.nhn?mode=LSD&mid=shm&sid1=102&oid=449&aid=0000209722'), (datetime.datetime(2021, 6, 3, 15, 19, 27, 931276), '민주당 “도쿄올림픽 ‘독도 표기’ 규탄”…일각에선 ‘보이콧’ 주장도', 'https://news.naver.com/main/read.nhn?mode=LSD&mid=shm&sid1=100&oid=056&aid=0011056473'), (datetime.datetime(2021, 6, 3, 15, 19, 27, 931276), \"'보복운전' 구본성 아워홈 부회장 1심서 집행유예 2년\", 'https://news.naver.com/main/read.nhn?mode=LSD&mid=shm&sid1=102&oid=009&aid=0004803679'), (datetime.datetime(2021, 6, 3, 15, 19, 27, 931276), '하정우 \\'프로포폴 투약\\' 약식기소…\"안일한 판단 반성한다\"', 'https://news.naver.com/main/read.nhn?mode=LSD&mid=shm&sid1=102&oid=025&aid=0003106820'), (datetime.datetime(2021, 6, 3, 15, 19, 27, 931276), '증권사 1분기 순이익 3조원 육박…증시 활황 수혜', 'https://news.naver.com/main/read.nhn?mode=LSD&mid=shm&sid1=101&oid=015&aid=0004556636')]\n",
      "200\n",
      "[(datetime.datetime(2021, 6, 3, 15, 19, 28, 65427), '정부 “대구시 주선 화이자, 도입 않기로”…화이자 “고발 검토”', 'https://news.naver.com/main/read.nhn?mode=LSD&mid=shm&sid1=102&oid=449&aid=0000209722'), (datetime.datetime(2021, 6, 3, 15, 19, 28, 65427), '민주당 “도쿄올림픽 ‘독도 표기’ 규탄”…일각에선 ‘보이콧’ 주장도', 'https://news.naver.com/main/read.nhn?mode=LSD&mid=shm&sid1=100&oid=056&aid=0011056473'), (datetime.datetime(2021, 6, 3, 15, 19, 28, 65427), \"'보복운전' 구본성 아워홈 부회장 1심서 집행유예 2년\", 'https://news.naver.com/main/read.nhn?mode=LSD&mid=shm&sid1=102&oid=009&aid=0004803679'), (datetime.datetime(2021, 6, 3, 15, 19, 28, 65427), '하정우 \\'프로포폴 투약\\' 약식기소…\"안일한 판단 반성한다\"', 'https://news.naver.com/main/read.nhn?mode=LSD&mid=shm&sid1=102&oid=025&aid=0003106820'), (datetime.datetime(2021, 6, 3, 15, 19, 28, 66427), '증권사 1분기 순이익 3조원 육박…증시 활황 수혜', 'https://news.naver.com/main/read.nhn?mode=LSD&mid=shm&sid1=101&oid=015&aid=0004556636')]\n"
     ]
    },
    {
     "name": "stdout",
     "output_type": "stream",
     "text": [
      "200\n",
      "[(datetime.datetime(2021, 6, 3, 15, 19, 28, 203155), '정부 “대구시 주선 화이자, 도입 않기로”…화이자 “고발 검토”', 'https://news.naver.com/main/read.nhn?mode=LSD&mid=shm&sid1=102&oid=449&aid=0000209722'), (datetime.datetime(2021, 6, 3, 15, 19, 28, 203155), '민주당 “도쿄올림픽 ‘독도 표기’ 규탄”…일각에선 ‘보이콧’ 주장도', 'https://news.naver.com/main/read.nhn?mode=LSD&mid=shm&sid1=100&oid=056&aid=0011056473'), (datetime.datetime(2021, 6, 3, 15, 19, 28, 203155), \"'보복운전' 구본성 아워홈 부회장 1심서 집행유예 2년\", 'https://news.naver.com/main/read.nhn?mode=LSD&mid=shm&sid1=102&oid=009&aid=0004803679'), (datetime.datetime(2021, 6, 3, 15, 19, 28, 204155), '하정우 \\'프로포폴 투약\\' 약식기소…\"안일한 판단 반성한다\"', 'https://news.naver.com/main/read.nhn?mode=LSD&mid=shm&sid1=102&oid=025&aid=0003106820'), (datetime.datetime(2021, 6, 3, 15, 19, 28, 204155), '증권사 1분기 순이익 3조원 육박…증시 활황 수혜', 'https://news.naver.com/main/read.nhn?mode=LSD&mid=shm&sid1=101&oid=015&aid=0004556636')]\n",
      "200\n",
      "[(datetime.datetime(2021, 6, 3, 15, 19, 28, 359689), '정부 “대구시 주선 화이자, 도입 않기로”…화이자 “고발 검토”', 'https://news.naver.com/main/read.nhn?mode=LSD&mid=shm&sid1=102&oid=449&aid=0000209722'), (datetime.datetime(2021, 6, 3, 15, 19, 28, 359689), '민주당 “도쿄올림픽 ‘독도 표기’ 규탄”…일각에선 ‘보이콧’ 주장도', 'https://news.naver.com/main/read.nhn?mode=LSD&mid=shm&sid1=100&oid=056&aid=0011056473'), (datetime.datetime(2021, 6, 3, 15, 19, 28, 359689), \"'보복운전' 구본성 아워홈 부회장 1심서 집행유예 2년\", 'https://news.naver.com/main/read.nhn?mode=LSD&mid=shm&sid1=102&oid=009&aid=0004803679'), (datetime.datetime(2021, 6, 3, 15, 19, 28, 359689), '하정우 \\'프로포폴 투약\\' 약식기소…\"안일한 판단 반성한다\"', 'https://news.naver.com/main/read.nhn?mode=LSD&mid=shm&sid1=102&oid=025&aid=0003106820'), (datetime.datetime(2021, 6, 3, 15, 19, 28, 360687), '증권사 1분기 순이익 3조원 육박…증시 활황 수혜', 'https://news.naver.com/main/read.nhn?mode=LSD&mid=shm&sid1=101&oid=015&aid=0004556636')]\n",
      "200\n",
      "[(datetime.datetime(2021, 6, 3, 15, 19, 33, 534204), '대구시 구매주선 백신에 화이자 측 \"진위여부 의심\"…정부, 도입 않기로', 'https://news.naver.com/main/read.nhn?mode=LSD&mid=shm&sid1=102&oid=018&aid=0004946426'), (datetime.datetime(2021, 6, 3, 15, 19, 33, 534204), '문대통령, 공군 부사관 성폭력 사망 엄정처리 지시…\"가슴 아파\"(종합)', 'https://news.naver.com/main/read.nhn?mode=LSD&mid=shm&sid1=100&oid=421&aid=0005391324'), (datetime.datetime(2021, 6, 3, 15, 19, 33, 534204), '대법 “네이버, 통유리 사옥 반사광 피해 주민에 배상하라”', 'https://news.naver.com/main/read.nhn?mode=LSD&mid=shm&sid1=102&oid=023&aid=0003617938'), (datetime.datetime(2021, 6, 3, 15, 19, 33, 534204), '부사관 유족측 \"성추행 피해 더 있다\"…2차가해 등 3명 추가고소', 'https://news.naver.com/main/read.nhn?mode=LSD&mid=shm&sid1=100&oid=421&aid=0005391727'), (datetime.datetime(2021, 6, 3, 15, 19, 33, 535202), '전국 흐리고 차츰 비…30도 안팎 더위 꺾여[날씨]', 'https://news.naver.com/main/read.nhn?mode=LSD&mid=shm&sid1=103&oid=422&aid=0000488193')]\n",
      "200\n",
      "[(datetime.datetime(2021, 6, 3, 15, 19, 33, 744368), '대구시 구매주선 백신에 화이자 측 \"진위여부 의심\"…정부, 도입 않기로', 'https://news.naver.com/main/read.nhn?mode=LSD&mid=shm&sid1=102&oid=018&aid=0004946426'), (datetime.datetime(2021, 6, 3, 15, 19, 33, 744368), '문대통령, 공군 부사관 성폭력 사망 엄정처리 지시…\"가슴 아파\"(종합)', 'https://news.naver.com/main/read.nhn?mode=LSD&mid=shm&sid1=100&oid=421&aid=0005391324'), (datetime.datetime(2021, 6, 3, 15, 19, 33, 744368), '대법 “네이버, 통유리 사옥 반사광 피해 주민에 배상하라”', 'https://news.naver.com/main/read.nhn?mode=LSD&mid=shm&sid1=102&oid=023&aid=0003617938'), (datetime.datetime(2021, 6, 3, 15, 19, 33, 744368), '부사관 유족측 \"성추행 피해 더 있다\"…2차가해 등 3명 추가고소', 'https://news.naver.com/main/read.nhn?mode=LSD&mid=shm&sid1=100&oid=421&aid=0005391727'), (datetime.datetime(2021, 6, 3, 15, 19, 33, 744368), '전국 흐리고 차츰 비…30도 안팎 더위 꺾여[날씨]', 'https://news.naver.com/main/read.nhn?mode=LSD&mid=shm&sid1=103&oid=422&aid=0000488193')]\n",
      "200\n",
      "[(datetime.datetime(2021, 6, 3, 15, 19, 38, 951301), '이용구 \"합의금 1천만원, 블랙박스 영상삭제 대가 아냐\"', 'https://news.naver.com/main/read.nhn?mode=LSD&mid=shm&sid1=102&oid=003&aid=0010531199'), (datetime.datetime(2021, 6, 3, 15, 19, 38, 951301), '문대통령 \"내부단합·외연확장할 때 지지 만들어져\"(종합)', 'https://news.naver.com/main/read.nhn?mode=LSD&mid=shm&sid1=100&oid=001&aid=0012435841'), (datetime.datetime(2021, 6, 3, 15, 19, 38, 951301), '대법 \"네이버 사옥 통유리 반사광 주민 피해 배상하라\"', 'https://news.naver.com/main/read.nhn?mode=LSD&mid=shm&sid1=102&oid=001&aid=0012435326'), (datetime.datetime(2021, 6, 3, 15, 19, 38, 951301), '복지부 \"대구시, 화이자 구매 협의? 사실 아냐\" 반박', 'https://news.naver.com/main/read.nhn?mode=LSD&mid=shm&sid1=102&oid=047&aid=0002315066'), (datetime.datetime(2021, 6, 3, 15, 19, 38, 952302), '하정우 \\'프로포폴 투약\\' 약식기소…\"안일한 판단 반성한다\"', 'https://news.naver.com/main/read.nhn?mode=LSD&mid=shm&sid1=102&oid=025&aid=0003106820')]\n",
      "200\n",
      "[(datetime.datetime(2021, 6, 3, 15, 19, 39, 121493), '이용구 \"합의금 1천만원, 블랙박스 영상삭제 대가 아냐\"', 'https://news.naver.com/main/read.nhn?mode=LSD&mid=shm&sid1=102&oid=003&aid=0010531199'), (datetime.datetime(2021, 6, 3, 15, 19, 39, 121493), '문대통령 \"내부단합·외연확장할 때 지지 만들어져\"(종합)', 'https://news.naver.com/main/read.nhn?mode=LSD&mid=shm&sid1=100&oid=001&aid=0012435841'), (datetime.datetime(2021, 6, 3, 15, 19, 39, 121493), '대법 \"네이버 사옥 통유리 반사광 주민 피해 배상하라\"', 'https://news.naver.com/main/read.nhn?mode=LSD&mid=shm&sid1=102&oid=001&aid=0012435326'), (datetime.datetime(2021, 6, 3, 15, 19, 39, 121493), '복지부 \"대구시, 화이자 구매 협의? 사실 아냐\" 반박', 'https://news.naver.com/main/read.nhn?mode=LSD&mid=shm&sid1=102&oid=047&aid=0002315066'), (datetime.datetime(2021, 6, 3, 15, 19, 39, 121493), '하정우 \\'프로포폴 투약\\' 약식기소…\"안일한 판단 반성한다\"', 'https://news.naver.com/main/read.nhn?mode=LSD&mid=shm&sid1=102&oid=025&aid=0003106820')]\n",
      "200\n",
      "[(datetime.datetime(2021, 6, 3, 15, 19, 39, 259920), '이용구 \"합의금 1천만원, 블랙박스 영상삭제 대가 아냐\"', 'https://news.naver.com/main/read.nhn?mode=LSD&mid=shm&sid1=102&oid=003&aid=0010531199'), (datetime.datetime(2021, 6, 3, 15, 19, 39, 259920), '문대통령 \"내부단합·외연확장할 때 지지 만들어져\"(종합)', 'https://news.naver.com/main/read.nhn?mode=LSD&mid=shm&sid1=100&oid=001&aid=0012435841'), (datetime.datetime(2021, 6, 3, 15, 19, 39, 259920), '대법 \"네이버 사옥 통유리 반사광 주민 피해 배상하라\"', 'https://news.naver.com/main/read.nhn?mode=LSD&mid=shm&sid1=102&oid=001&aid=0012435326'), (datetime.datetime(2021, 6, 3, 15, 19, 39, 259920), '복지부 \"대구시, 화이자 구매 협의? 사실 아냐\" 반박', 'https://news.naver.com/main/read.nhn?mode=LSD&mid=shm&sid1=102&oid=047&aid=0002315066'), (datetime.datetime(2021, 6, 3, 15, 19, 39, 259920), '하정우 \\'프로포폴 투약\\' 약식기소…\"안일한 판단 반성한다\"', 'https://news.naver.com/main/read.nhn?mode=LSD&mid=shm&sid1=102&oid=025&aid=0003106820')]\n",
      "200\n",
      "[(datetime.datetime(2021, 6, 3, 15, 19, 39, 414423), '이용구 \"합의금 1천만원, 블랙박스 영상삭제 대가 아냐\"', 'https://news.naver.com/main/read.nhn?mode=LSD&mid=shm&sid1=102&oid=003&aid=0010531199'), (datetime.datetime(2021, 6, 3, 15, 19, 39, 415423), '문대통령 \"내부단합·외연확장할 때 지지 만들어져\"(종합)', 'https://news.naver.com/main/read.nhn?mode=LSD&mid=shm&sid1=100&oid=001&aid=0012435841'), (datetime.datetime(2021, 6, 3, 15, 19, 39, 415423), '대법 \"네이버 사옥 통유리 반사광 주민 피해 배상하라\"', 'https://news.naver.com/main/read.nhn?mode=LSD&mid=shm&sid1=102&oid=001&aid=0012435326'), (datetime.datetime(2021, 6, 3, 15, 19, 39, 415423), '복지부 \"대구시, 화이자 구매 협의? 사실 아냐\" 반박', 'https://news.naver.com/main/read.nhn?mode=LSD&mid=shm&sid1=102&oid=047&aid=0002315066'), (datetime.datetime(2021, 6, 3, 15, 19, 39, 415423), '하정우 \\'프로포폴 투약\\' 약식기소…\"안일한 판단 반성한다\"', 'https://news.naver.com/main/read.nhn?mode=LSD&mid=shm&sid1=102&oid=025&aid=0003106820')]\n",
      "200\n",
      "[(datetime.datetime(2021, 6, 3, 15, 19, 44, 606647), '[현장영상] 與 초선의원 68명, 대통령과 간담회...어떤 이야기 오갔나', 'https://news.naver.com/main/read.nhn?mode=LSD&mid=shm&sid1=100&oid=052&aid=0001596403'), (datetime.datetime(2021, 6, 3, 15, 19, 44, 606647), '“6월 모의평가, 국·수 공통과목이 더 어려웠다”', 'https://news.naver.com/main/read.nhn?mode=LSD&mid=shm&sid1=102&oid=016&aid=0001843843'), (datetime.datetime(2021, 6, 3, 15, 19, 44, 606647), '文대통령, 공군 성폭력피해사건 “최고 상급자 등 지휘라인 문제 살펴야”', 'https://news.naver.com/main/read.nhn?mode=LSD&mid=shm&sid1=100&oid=016&aid=0001843860'), (datetime.datetime(2021, 6, 3, 15, 19, 44, 607647), '더불어민주당, “도쿄 올림픽 조직위 ‘독도 표기’ 규탄” 성명', 'https://news.naver.com/main/read.nhn?mode=LSD&mid=shm&sid1=100&oid=056&aid=0011056597'), (datetime.datetime(2021, 6, 3, 15, 19, 44, 607647), '‘접종 뒤 확진’ 돌파감염 5건 추가…총 9건·모두 화이자', 'https://news.naver.com/main/read.nhn?mode=LSD&mid=shm&sid1=102&oid=056&aid=0011056640')]\n",
      "200\n",
      "[(datetime.datetime(2021, 6, 3, 15, 19, 44, 757293), '[현장영상] 與 초선의원 68명, 대통령과 간담회...어떤 이야기 오갔나', 'https://news.naver.com/main/read.nhn?mode=LSD&mid=shm&sid1=100&oid=052&aid=0001596403'), (datetime.datetime(2021, 6, 3, 15, 19, 44, 757293), '“6월 모의평가, 국·수 공통과목이 더 어려웠다”', 'https://news.naver.com/main/read.nhn?mode=LSD&mid=shm&sid1=102&oid=016&aid=0001843843'), (datetime.datetime(2021, 6, 3, 15, 19, 44, 757293), '文대통령, 공군 성폭력피해사건 “최고 상급자 등 지휘라인 문제 살펴야”', 'https://news.naver.com/main/read.nhn?mode=LSD&mid=shm&sid1=100&oid=016&aid=0001843860'), (datetime.datetime(2021, 6, 3, 15, 19, 44, 757293), '더불어민주당, “도쿄 올림픽 조직위 ‘독도 표기’ 규탄” 성명', 'https://news.naver.com/main/read.nhn?mode=LSD&mid=shm&sid1=100&oid=056&aid=0011056597'), (datetime.datetime(2021, 6, 3, 15, 19, 44, 757293), '‘접종 뒤 확진’ 돌파감염 5건 추가…총 9건·모두 화이자', 'https://news.naver.com/main/read.nhn?mode=LSD&mid=shm&sid1=102&oid=056&aid=0011056640')]\n"
     ]
    },
    {
     "name": "stdout",
     "output_type": "stream",
     "text": [
      "200\n",
      "[(datetime.datetime(2021, 6, 3, 15, 19, 49, 996767), '공정위, 개정 공정거래법 시행 위한 시행령 발표', 'https://news.naver.com/main/read.nhn?mode=LSD&mid=shm&sid1=101&oid=214&aid=0001122843'), (datetime.datetime(2021, 6, 3, 15, 19, 49, 996767), 'SK㈜, 美 수소기업 모놀리스에 투자…청록수소 사업 진출', 'https://news.naver.com/main/read.nhn?mode=LSD&mid=shm&sid1=101&oid=025&aid=0003106829'), (datetime.datetime(2021, 6, 3, 15, 19, 49, 996767), '정부 \"대구시 주선 화이자 백신 진위 의심…구매 안한다\"', 'https://news.naver.com/main/read.nhn?mode=LSD&mid=shm&sid1=102&oid=001&aid=0012435457'), (datetime.datetime(2021, 6, 3, 15, 19, 49, 997767), \"공정위, '일감 몰아주기' 삼성웰스토리 동의의결 기각\", 'https://news.naver.com/main/read.nhn?mode=LSD&mid=shm&sid1=101&oid=215&aid=0000962308'), (datetime.datetime(2021, 6, 3, 15, 19, 49, 997767), '“도쿄올림픽 독도표기 국제법 위반, 역사퇴행”…민주당 132명,  규탄 결의안 발의', 'https://news.naver.com/main/read.nhn?mode=LSD&mid=shm&sid1=100&oid=029&aid=0002678021')]\n",
      "200\n",
      "[(datetime.datetime(2021, 6, 3, 15, 19, 50, 233195), '공정위, 개정 공정거래법 시행 위한 시행령 발표', 'https://news.naver.com/main/read.nhn?mode=LSD&mid=shm&sid1=101&oid=214&aid=0001122843'), (datetime.datetime(2021, 6, 3, 15, 19, 50, 233195), 'SK㈜, 美 수소기업 모놀리스에 투자…청록수소 사업 진출', 'https://news.naver.com/main/read.nhn?mode=LSD&mid=shm&sid1=101&oid=025&aid=0003106829'), (datetime.datetime(2021, 6, 3, 15, 19, 50, 233195), '정부 \"대구시 주선 화이자 백신 진위 의심…구매 안한다\"', 'https://news.naver.com/main/read.nhn?mode=LSD&mid=shm&sid1=102&oid=001&aid=0012435457'), (datetime.datetime(2021, 6, 3, 15, 19, 50, 233195), \"공정위, '일감 몰아주기' 삼성웰스토리 동의의결 기각\", 'https://news.naver.com/main/read.nhn?mode=LSD&mid=shm&sid1=101&oid=215&aid=0000962308'), (datetime.datetime(2021, 6, 3, 15, 19, 50, 233195), '“도쿄올림픽 독도표기 국제법 위반, 역사퇴행”…민주당 132명,  규탄 결의안 발의', 'https://news.naver.com/main/read.nhn?mode=LSD&mid=shm&sid1=100&oid=029&aid=0002678021')]\n",
      "200\n",
      "[(datetime.datetime(2021, 6, 3, 15, 19, 50, 394108), '공정위, 개정 공정거래법 시행 위한 시행령 발표', 'https://news.naver.com/main/read.nhn?mode=LSD&mid=shm&sid1=101&oid=214&aid=0001122843'), (datetime.datetime(2021, 6, 3, 15, 19, 50, 394108), 'SK㈜, 美 수소기업 모놀리스에 투자…청록수소 사업 진출', 'https://news.naver.com/main/read.nhn?mode=LSD&mid=shm&sid1=101&oid=025&aid=0003106829'), (datetime.datetime(2021, 6, 3, 15, 19, 50, 394108), '정부 \"대구시 주선 화이자 백신 진위 의심…구매 안한다\"', 'https://news.naver.com/main/read.nhn?mode=LSD&mid=shm&sid1=102&oid=001&aid=0012435457'), (datetime.datetime(2021, 6, 3, 15, 19, 50, 394108), \"공정위, '일감 몰아주기' 삼성웰스토리 동의의결 기각\", 'https://news.naver.com/main/read.nhn?mode=LSD&mid=shm&sid1=101&oid=215&aid=0000962308'), (datetime.datetime(2021, 6, 3, 15, 19, 50, 394108), '“도쿄올림픽 독도표기 국제법 위반, 역사퇴행”…민주당 132명,  규탄 결의안 발의', 'https://news.naver.com/main/read.nhn?mode=LSD&mid=shm&sid1=100&oid=029&aid=0002678021')]\n",
      "200\n",
      "[(datetime.datetime(2021, 6, 3, 15, 19, 50, 528036), \"국회의원 132명, 도쿄올림픽 '독도 표기' 규탄\", 'https://news.naver.com/main/read.nhn?mode=LSD&mid=shm&sid1=100&oid=214&aid=0001122836'), (datetime.datetime(2021, 6, 3, 15, 19, 50, 529037), '전국 곳곳에 벼락·강풍 동반한 요란한 비...언제 그칠까[날씨]', 'https://news.naver.com/main/read.nhn?mode=LSD&mid=shm&sid1=103&oid=052&aid=0001596413'), (datetime.datetime(2021, 6, 3, 15, 19, 50, 529037), '文대통령, \\'극단 선택\\' 女중사 사건에 \"가슴 아파\"···유족 측 \"성추행 피해 더 있어\"', 'https://news.naver.com/main/read.nhn?mode=LSD&mid=shm&sid1=102&oid=011&aid=0003918657'), (datetime.datetime(2021, 6, 3, 15, 19, 50, 529037), 'SK㈜, 세계 첫 청록수소 생산 美모놀리스에 투자…수소사업 확장', 'https://news.naver.com/main/read.nhn?mode=LSD&mid=shm&sid1=101&oid=001&aid=0012435130'), (datetime.datetime(2021, 6, 3, 15, 19, 50, 529037), '이용구 \"택시기사에 건넨 1천만원, 영상 삭제 대가 아냐\"', 'https://news.naver.com/main/read.nhn?mode=LSD&mid=shm&sid1=102&oid=031&aid=0000602254')]\n",
      "200\n",
      "[(datetime.datetime(2021, 6, 3, 15, 19, 55, 714482), '‘여 부사관 사망’ 성난 여론에…국방부, 부랴부랴 수사심의위원회 설치', 'https://news.naver.com/main/read.nhn?mode=LSD&mid=shm&sid1=100&oid=005&aid=0001444554'), (datetime.datetime(2021, 6, 3, 15, 19, 55, 714482), '이용구 \"택시기사에 1천만원은 합의금…영상 삭제 대가 아냐\"', 'https://news.naver.com/main/read.nhn?mode=LSD&mid=shm&sid1=102&oid=215&aid=0000962195'), (datetime.datetime(2021, 6, 3, 15, 19, 55, 714482), '증권회사 1분기 영업실적 3조 원 육박…사상 최고', 'https://news.naver.com/main/read.nhn?mode=LSD&mid=shm&sid1=101&oid=056&aid=0011056573'), (datetime.datetime(2021, 6, 3, 15, 19, 55, 714482), '문대통령 \"경제 성과 있으나 국민 고통…마음 아프다\"', 'https://news.naver.com/main/read.nhn?mode=LSD&mid=shm&sid1=100&oid=001&aid=0012435548'), (datetime.datetime(2021, 6, 3, 15, 19, 55, 714482), '국민의힘 경북도당 “독도 일본 영토 표기 즉각 삭제하라”', 'https://news.naver.com/main/read.nhn?mode=LSD&mid=shm&sid1=102&oid=003&aid=0010532052')]\n",
      "200\n",
      "[(datetime.datetime(2021, 6, 3, 15, 19, 55, 848350), '‘여 부사관 사망’ 성난 여론에…국방부, 부랴부랴 수사심의위원회 설치', 'https://news.naver.com/main/read.nhn?mode=LSD&mid=shm&sid1=100&oid=005&aid=0001444554'), (datetime.datetime(2021, 6, 3, 15, 19, 55, 848350), '이용구 \"택시기사에 1천만원은 합의금…영상 삭제 대가 아냐\"', 'https://news.naver.com/main/read.nhn?mode=LSD&mid=shm&sid1=102&oid=215&aid=0000962195'), (datetime.datetime(2021, 6, 3, 15, 19, 55, 848350), '증권회사 1분기 영업실적 3조 원 육박…사상 최고', 'https://news.naver.com/main/read.nhn?mode=LSD&mid=shm&sid1=101&oid=056&aid=0011056573'), (datetime.datetime(2021, 6, 3, 15, 19, 55, 848350), '문대통령 \"경제 성과 있으나 국민 고통…마음 아프다\"', 'https://news.naver.com/main/read.nhn?mode=LSD&mid=shm&sid1=100&oid=001&aid=0012435548'), (datetime.datetime(2021, 6, 3, 15, 19, 55, 849349), '국민의힘 경북도당 “독도 일본 영토 표기 즉각 삭제하라”', 'https://news.naver.com/main/read.nhn?mode=LSD&mid=shm&sid1=102&oid=003&aid=0010532052')]\n",
      "200\n",
      "[(datetime.datetime(2021, 6, 3, 15, 20, 1, 69346), '이자도 못 갚는 한계기업 100곳 중 34곳…역대 최대', 'https://news.naver.com/main/read.nhn?mode=LSD&mid=shm&sid1=101&oid=003&aid=0010531774'), (datetime.datetime(2021, 6, 3, 15, 20, 1, 70346), \"끝없는 '독도 도발' 일본에…국회의원 130여명 규탄결의[노컷브이]\", 'https://news.naver.com/main/read.nhn?mode=LSD&mid=shm&sid1=104&oid=079&aid=0003511649'), (datetime.datetime(2021, 6, 3, 15, 20, 1, 70346), '\\'뜨거운 감자\\' 공매도…금융위 \"원활하게 안착했다\"', 'https://news.naver.com/main/read.nhn?mode=LSD&mid=shm&sid1=101&oid=008&aid=0004596729'), (datetime.datetime(2021, 6, 3, 15, 20, 1, 70346), \"백신 접종후 '돌파감염'…누적 추정사례 9명\", 'https://news.naver.com/main/read.nhn?mode=LSD&mid=shm&sid1=101&oid=008&aid=0004596722'), (datetime.datetime(2021, 6, 3, 15, 20, 1, 70346), '정부 \"대구 주선 화이자 백신 \\'직구\\' 추진 안해\" (종합)', 'https://news.naver.com/main/read.nhn?mode=LSD&mid=shm&sid1=102&oid=011&aid=0003918587')]\n",
      "200\n",
      "[(datetime.datetime(2021, 6, 3, 15, 20, 1, 222802), '이자도 못 갚는 한계기업 100곳 중 34곳…역대 최대', 'https://news.naver.com/main/read.nhn?mode=LSD&mid=shm&sid1=101&oid=003&aid=0010531774'), (datetime.datetime(2021, 6, 3, 15, 20, 1, 222802), \"끝없는 '독도 도발' 일본에…국회의원 130여명 규탄결의[노컷브이]\", 'https://news.naver.com/main/read.nhn?mode=LSD&mid=shm&sid1=104&oid=079&aid=0003511649'), (datetime.datetime(2021, 6, 3, 15, 20, 1, 223819), '\\'뜨거운 감자\\' 공매도…금융위 \"원활하게 안착했다\"', 'https://news.naver.com/main/read.nhn?mode=LSD&mid=shm&sid1=101&oid=008&aid=0004596729'), (datetime.datetime(2021, 6, 3, 15, 20, 1, 223819), \"백신 접종후 '돌파감염'…누적 추정사례 9명\", 'https://news.naver.com/main/read.nhn?mode=LSD&mid=shm&sid1=101&oid=008&aid=0004596722'), (datetime.datetime(2021, 6, 3, 15, 20, 1, 223819), '정부 \"대구 주선 화이자 백신 \\'직구\\' 추진 안해\" (종합)', 'https://news.naver.com/main/read.nhn?mode=LSD&mid=shm&sid1=102&oid=011&aid=0003918587')]\n",
      "200\n",
      "[(datetime.datetime(2021, 6, 3, 15, 20, 1, 360206), '이자도 못 갚는 한계기업 100곳 중 34곳…역대 최대', 'https://news.naver.com/main/read.nhn?mode=LSD&mid=shm&sid1=101&oid=003&aid=0010531774'), (datetime.datetime(2021, 6, 3, 15, 20, 1, 360206), \"끝없는 '독도 도발' 일본에…국회의원 130여명 규탄결의[노컷브이]\", 'https://news.naver.com/main/read.nhn?mode=LSD&mid=shm&sid1=104&oid=079&aid=0003511649'), (datetime.datetime(2021, 6, 3, 15, 20, 1, 360206), '\\'뜨거운 감자\\' 공매도…금융위 \"원활하게 안착했다\"', 'https://news.naver.com/main/read.nhn?mode=LSD&mid=shm&sid1=101&oid=008&aid=0004596729'), (datetime.datetime(2021, 6, 3, 15, 20, 1, 361206), \"백신 접종후 '돌파감염'…누적 추정사례 9명\", 'https://news.naver.com/main/read.nhn?mode=LSD&mid=shm&sid1=101&oid=008&aid=0004596722'), (datetime.datetime(2021, 6, 3, 15, 20, 1, 361206), '정부 \"대구 주선 화이자 백신 \\'직구\\' 추진 안해\" (종합)', 'https://news.naver.com/main/read.nhn?mode=LSD&mid=shm&sid1=102&oid=011&aid=0003918587')]\n",
      "200\n",
      "[(datetime.datetime(2021, 6, 3, 15, 20, 1, 612306), '이자도 못 갚는 한계기업 100곳 중 34곳…역대 최대', 'https://news.naver.com/main/read.nhn?mode=LSD&mid=shm&sid1=101&oid=003&aid=0010531774'), (datetime.datetime(2021, 6, 3, 15, 20, 1, 612306), \"끝없는 '독도 도발' 일본에…국회의원 130여명 규탄결의[노컷브이]\", 'https://news.naver.com/main/read.nhn?mode=LSD&mid=shm&sid1=104&oid=079&aid=0003511649'), (datetime.datetime(2021, 6, 3, 15, 20, 1, 612306), '\\'뜨거운 감자\\' 공매도…금융위 \"원활하게 안착했다\"', 'https://news.naver.com/main/read.nhn?mode=LSD&mid=shm&sid1=101&oid=008&aid=0004596729'), (datetime.datetime(2021, 6, 3, 15, 20, 1, 612306), \"백신 접종후 '돌파감염'…누적 추정사례 9명\", 'https://news.naver.com/main/read.nhn?mode=LSD&mid=shm&sid1=101&oid=008&aid=0004596722'), (datetime.datetime(2021, 6, 3, 15, 20, 1, 612306), '정부 \"대구 주선 화이자 백신 \\'직구\\' 추진 안해\" (종합)', 'https://news.naver.com/main/read.nhn?mode=LSD&mid=shm&sid1=102&oid=011&aid=0003918587')]\n"
     ]
    },
    {
     "name": "stdout",
     "output_type": "stream",
     "text": [
      "200\n",
      "[(datetime.datetime(2021, 6, 3, 15, 20, 6, 840512), '정부 \"현재 속도면 상반기 내 \\'1300만명+α\\' 접종 가능\"', 'https://news.naver.com/main/read.nhn?mode=LSD&mid=shm&sid1=102&oid=015&aid=0004556653'), (datetime.datetime(2021, 6, 3, 15, 20, 6, 840512), '공정위 “벤처지주회사 기준 완화·6천억 넘는 M&A 심사”…입법예고', 'https://news.naver.com/main/read.nhn?mode=LSD&mid=shm&sid1=101&oid=056&aid=0011056613'), (datetime.datetime(2021, 6, 3, 15, 20, 6, 841510), '“뒷문 열고 깨우다 멱살잡힌 걸로” 이용구, 거짓진술 요구 인정', 'https://news.naver.com/main/read.nhn?mode=LSD&mid=shm&sid1=102&oid=005&aid=0001444544'), (datetime.datetime(2021, 6, 3, 15, 20, 6, 841510), 'SK, 세계 최초 청록수소 생산회사 투자…수소사업 확장 가속화', 'https://news.naver.com/main/read.nhn?mode=LSD&mid=shm&sid1=101&oid=003&aid=0010531496'), (datetime.datetime(2021, 6, 3, 15, 20, 6, 841510), '전국에 비…밤에 대부분 그쳐요[오후날씨 꿀팁]', 'https://news.naver.com/main/read.nhn?mode=LSD&mid=shm&sid1=103&oid=056&aid=0011056586')]\n",
      "200\n",
      "[(datetime.datetime(2021, 6, 3, 15, 20, 6, 981622), '정부 \"현재 속도면 상반기 내 \\'1300만명+α\\' 접종 가능\"', 'https://news.naver.com/main/read.nhn?mode=LSD&mid=shm&sid1=102&oid=015&aid=0004556653'), (datetime.datetime(2021, 6, 3, 15, 20, 6, 981622), '공정위 “벤처지주회사 기준 완화·6천억 넘는 M&A 심사”…입법예고', 'https://news.naver.com/main/read.nhn?mode=LSD&mid=shm&sid1=101&oid=056&aid=0011056613'), (datetime.datetime(2021, 6, 3, 15, 20, 6, 981622), '“뒷문 열고 깨우다 멱살잡힌 걸로” 이용구, 거짓진술 요구 인정', 'https://news.naver.com/main/read.nhn?mode=LSD&mid=shm&sid1=102&oid=005&aid=0001444544'), (datetime.datetime(2021, 6, 3, 15, 20, 6, 981622), 'SK, 세계 최초 청록수소 생산회사 투자…수소사업 확장 가속화', 'https://news.naver.com/main/read.nhn?mode=LSD&mid=shm&sid1=101&oid=003&aid=0010531496'), (datetime.datetime(2021, 6, 3, 15, 20, 6, 981622), '전국에 비…밤에 대부분 그쳐요[오후날씨 꿀팁]', 'https://news.naver.com/main/read.nhn?mode=LSD&mid=shm&sid1=103&oid=056&aid=0011056586')]\n",
      "200\n",
      "[(datetime.datetime(2021, 6, 3, 15, 20, 12, 201093), '하정우, 프로포폴 벌금형…“겸허히 받아들이겠다” 사과 [전문]', 'https://news.naver.com/main/read.nhn?mode=LSD&mid=shm&sid1=102&oid=057&aid=0001581700'), (datetime.datetime(2021, 6, 3, 15, 20, 12, 201093), '백혜련 \"日 도쿄올림픽 독도 표기, 명백한 영유권 침해\"', 'https://news.naver.com/main/read.nhn?mode=LSD&mid=shm&sid1=100&oid=421&aid=0005390594'), (datetime.datetime(2021, 6, 3, 15, 20, 12, 201093), '중수본 \"대구시 화이자 백신 진위 의심돼, 화이자 법적조치 예정\"', 'https://news.naver.com/main/read.nhn?mode=LSD&mid=shm&sid1=102&oid=421&aid=0005391147'), (datetime.datetime(2021, 6, 3, 15, 20, 12, 201093), '문 대통령, ‘공군 성폭력 피해자 사망사건’ 엄정 처리 강력 지시', 'https://news.naver.com/main/read.nhn?mode=LSD&mid=shm&sid1=100&oid=056&aid=0011056555'), (datetime.datetime(2021, 6, 3, 15, 20, 12, 202093), '민주당 초선의원 만난 文 \"나도 초선 출신, 동지의식 느낀다\"', 'https://news.naver.com/main/read.nhn?mode=LSD&mid=shm&sid1=100&oid=031&aid=0000602318')]\n",
      "200\n",
      "[(datetime.datetime(2021, 6, 3, 15, 20, 12, 354762), '하정우, 프로포폴 벌금형…“겸허히 받아들이겠다” 사과 [전문]', 'https://news.naver.com/main/read.nhn?mode=LSD&mid=shm&sid1=102&oid=057&aid=0001581700'), (datetime.datetime(2021, 6, 3, 15, 20, 12, 354762), '백혜련 \"日 도쿄올림픽 독도 표기, 명백한 영유권 침해\"', 'https://news.naver.com/main/read.nhn?mode=LSD&mid=shm&sid1=100&oid=421&aid=0005390594'), (datetime.datetime(2021, 6, 3, 15, 20, 12, 354762), '중수본 \"대구시 화이자 백신 진위 의심돼, 화이자 법적조치 예정\"', 'https://news.naver.com/main/read.nhn?mode=LSD&mid=shm&sid1=102&oid=421&aid=0005391147'), (datetime.datetime(2021, 6, 3, 15, 20, 12, 354762), '문 대통령, ‘공군 성폭력 피해자 사망사건’ 엄정 처리 강력 지시', 'https://news.naver.com/main/read.nhn?mode=LSD&mid=shm&sid1=100&oid=056&aid=0011056555'), (datetime.datetime(2021, 6, 3, 15, 20, 12, 354762), '민주당 초선의원 만난 文 \"나도 초선 출신, 동지의식 느낀다\"', 'https://news.naver.com/main/read.nhn?mode=LSD&mid=shm&sid1=100&oid=031&aid=0000602318')]\n",
      "200\n",
      "[(datetime.datetime(2021, 6, 3, 15, 20, 12, 488530), '하정우, 프로포폴 벌금형…“겸허히 받아들이겠다” 사과 [전문]', 'https://news.naver.com/main/read.nhn?mode=LSD&mid=shm&sid1=102&oid=057&aid=0001581700'), (datetime.datetime(2021, 6, 3, 15, 20, 12, 488530), '백혜련 \"日 도쿄올림픽 독도 표기, 명백한 영유권 침해\"', 'https://news.naver.com/main/read.nhn?mode=LSD&mid=shm&sid1=100&oid=421&aid=0005390594'), (datetime.datetime(2021, 6, 3, 15, 20, 12, 488530), '중수본 \"대구시 화이자 백신 진위 의심돼, 화이자 법적조치 예정\"', 'https://news.naver.com/main/read.nhn?mode=LSD&mid=shm&sid1=102&oid=421&aid=0005391147'), (datetime.datetime(2021, 6, 3, 15, 20, 12, 488530), '문 대통령, ‘공군 성폭력 피해자 사망사건’ 엄정 처리 강력 지시', 'https://news.naver.com/main/read.nhn?mode=LSD&mid=shm&sid1=100&oid=056&aid=0011056555'), (datetime.datetime(2021, 6, 3, 15, 20, 12, 488530), '민주당 초선의원 만난 文 \"나도 초선 출신, 동지의식 느낀다\"', 'https://news.naver.com/main/read.nhn?mode=LSD&mid=shm&sid1=100&oid=031&aid=0000602318')]\n",
      "200\n",
      "[(datetime.datetime(2021, 6, 3, 15, 20, 12, 652704), '정세균 반일 마케팅에 올인…도쿄올림픽 불참 주도', 'https://news.naver.com/main/read.nhn?mode=LSD&mid=shm&sid1=100&oid=009&aid=0004803665'), (datetime.datetime(2021, 6, 3, 15, 20, 12, 652704), \"SK 이번엔 '청록수소' 투자, 韓 수소 선택지 늘어난다\", 'https://news.naver.com/main/read.nhn?mode=LSD&mid=shm&sid1=101&oid=008&aid=0004596584'), (datetime.datetime(2021, 6, 3, 15, 20, 12, 652704), \"삼성·하이닉스 빼면 1000원 팔아 46원 남겨..3곳 중 1곳 좀비기업 '역대 최대'\", 'https://news.naver.com/main/read.nhn?mode=LSD&mid=shm&sid1=101&oid=018&aid=0004946448'), (datetime.datetime(2021, 6, 3, 15, 20, 12, 652704), \"검찰, '프로포폴 불법투약' 하정우 벌금1000만원 약식기소\", 'https://news.naver.com/main/read.nhn?mode=LSD&mid=shm&sid1=102&oid=421&aid=0005391396'), (datetime.datetime(2021, 6, 3, 15, 20, 12, 652704), '정부 \"현재 속도면 상반기 내 \\'1300만명+α\\' 접종 가능\"', 'https://news.naver.com/main/read.nhn?mode=LSD&mid=shm&sid1=102&oid=015&aid=0004556653')]\n",
      "200\n",
      "[(datetime.datetime(2021, 6, 3, 15, 20, 17, 833849), '‘이XX놈’ 이용구 영상 반년간 뭉갠 檢…“靑·이성윤도 뭉갰다”', 'https://news.naver.com/main/read.nhn?mode=LSD&mid=shm&sid1=102&oid=025&aid=0003106835'), (datetime.datetime(2021, 6, 3, 15, 20, 17, 833849), '與 초선, 文대통령에 \"적극적 재정 확대정책 촉구\"', 'https://news.naver.com/main/read.nhn?mode=LSD&mid=shm&sid1=100&oid=629&aid=0000086980'), (datetime.datetime(2021, 6, 3, 15, 20, 17, 833849), '군검찰 `부사관 성추행` 원점서 수사…“회유·은폐 가담자 모두 소환”', 'https://news.naver.com/main/read.nhn?mode=LSD&mid=shm&sid1=100&oid=018&aid=0004946285'), (datetime.datetime(2021, 6, 3, 15, 20, 17, 833849), '초선들 만난 문 대통령 “내부 단합하고 외연 확장할 때 지지 만들어져”', 'https://news.naver.com/main/read.nhn?mode=LSD&mid=shm&sid1=100&oid=032&aid=0003077992'), (datetime.datetime(2021, 6, 3, 15, 20, 17, 834846), '공매도 재개 한달…금융당국 \"주가와 연관성 없었다\"', 'https://news.naver.com/main/read.nhn?mode=LSD&mid=shm&sid1=101&oid=018&aid=0004946533')]\n",
      "200\n",
      "[(datetime.datetime(2021, 6, 3, 15, 20, 18, 73316), '‘이XX놈’ 이용구 영상 반년간 뭉갠 檢…“靑·이성윤도 뭉갰다”', 'https://news.naver.com/main/read.nhn?mode=LSD&mid=shm&sid1=102&oid=025&aid=0003106835'), (datetime.datetime(2021, 6, 3, 15, 20, 18, 73316), '與 초선, 文대통령에 \"적극적 재정 확대정책 촉구\"', 'https://news.naver.com/main/read.nhn?mode=LSD&mid=shm&sid1=100&oid=629&aid=0000086980'), (datetime.datetime(2021, 6, 3, 15, 20, 18, 73316), '군검찰 `부사관 성추행` 원점서 수사…“회유·은폐 가담자 모두 소환”', 'https://news.naver.com/main/read.nhn?mode=LSD&mid=shm&sid1=100&oid=018&aid=0004946285'), (datetime.datetime(2021, 6, 3, 15, 20, 18, 73316), '초선들 만난 문 대통령 “내부 단합하고 외연 확장할 때 지지 만들어져”', 'https://news.naver.com/main/read.nhn?mode=LSD&mid=shm&sid1=100&oid=032&aid=0003077992'), (datetime.datetime(2021, 6, 3, 15, 20, 18, 74316), '공매도 재개 한달…금융당국 \"주가와 연관성 없었다\"', 'https://news.naver.com/main/read.nhn?mode=LSD&mid=shm&sid1=101&oid=018&aid=0004946533')]\n",
      "200\n",
      "[(datetime.datetime(2021, 6, 3, 15, 20, 23, 230358), '6천억 넘는 M&A, 공정위 심사 받는다…공정법 시행령 개정안', 'https://news.naver.com/main/read.nhn?mode=LSD&mid=shm&sid1=101&oid=003&aid=0010531762'), (datetime.datetime(2021, 6, 3, 15, 20, 23, 231359), '공군 부사관 유족 측 \"부사관 3명 추가 고소…추가 피해도 포함\"', 'https://news.naver.com/main/read.nhn?mode=LSD&mid=shm&sid1=100&oid=055&aid=0000898385'), (datetime.datetime(2021, 6, 3, 15, 20, 23, 231359), '하정우 \\'프로포폴 투약\\' 약식기소…\"안일한 판단 반성한다\"', 'https://news.naver.com/main/read.nhn?mode=LSD&mid=shm&sid1=102&oid=025&aid=0003106820'), (datetime.datetime(2021, 6, 3, 15, 20, 23, 231359), '화이자 백신 접종하는 어르신들', 'https://news.naver.com/main/read.nhn?mode=LSD&mid=shm&sid1=102&oid=421&aid=0005391556'), (datetime.datetime(2021, 6, 3, 15, 20, 23, 231359), '국민의힘 경북도당 “독도 일본 영토 표기 즉각 삭제하라”', 'https://news.naver.com/main/read.nhn?mode=LSD&mid=shm&sid1=102&oid=003&aid=0010532052')]\n",
      "200\n",
      "[(datetime.datetime(2021, 6, 3, 15, 20, 23, 357401), '6천억 넘는 M&A, 공정위 심사 받는다…공정법 시행령 개정안', 'https://news.naver.com/main/read.nhn?mode=LSD&mid=shm&sid1=101&oid=003&aid=0010531762'), (datetime.datetime(2021, 6, 3, 15, 20, 23, 357401), '공군 부사관 유족 측 \"부사관 3명 추가 고소…추가 피해도 포함\"', 'https://news.naver.com/main/read.nhn?mode=LSD&mid=shm&sid1=100&oid=055&aid=0000898385'), (datetime.datetime(2021, 6, 3, 15, 20, 23, 357401), '하정우 \\'프로포폴 투약\\' 약식기소…\"안일한 판단 반성한다\"', 'https://news.naver.com/main/read.nhn?mode=LSD&mid=shm&sid1=102&oid=025&aid=0003106820'), (datetime.datetime(2021, 6, 3, 15, 20, 23, 357401), '화이자 백신 접종하는 어르신들', 'https://news.naver.com/main/read.nhn?mode=LSD&mid=shm&sid1=102&oid=421&aid=0005391556'), (datetime.datetime(2021, 6, 3, 15, 20, 23, 357401), '국민의힘 경북도당 “독도 일본 영토 표기 즉각 삭제하라”', 'https://news.naver.com/main/read.nhn?mode=LSD&mid=shm&sid1=102&oid=003&aid=0010532052')]\n"
     ]
    },
    {
     "name": "stdout",
     "output_type": "stream",
     "text": [
      "200\n",
      "[(datetime.datetime(2021, 6, 3, 15, 20, 23, 495471), '6천억 넘는 M&A, 공정위 심사 받는다…공정법 시행령 개정안', 'https://news.naver.com/main/read.nhn?mode=LSD&mid=shm&sid1=101&oid=003&aid=0010531762'), (datetime.datetime(2021, 6, 3, 15, 20, 23, 495471), '공군 부사관 유족 측 \"부사관 3명 추가 고소…추가 피해도 포함\"', 'https://news.naver.com/main/read.nhn?mode=LSD&mid=shm&sid1=100&oid=055&aid=0000898385'), (datetime.datetime(2021, 6, 3, 15, 20, 23, 495471), '하정우 \\'프로포폴 투약\\' 약식기소…\"안일한 판단 반성한다\"', 'https://news.naver.com/main/read.nhn?mode=LSD&mid=shm&sid1=102&oid=025&aid=0003106820'), (datetime.datetime(2021, 6, 3, 15, 20, 23, 496472), '화이자 백신 접종하는 어르신들', 'https://news.naver.com/main/read.nhn?mode=LSD&mid=shm&sid1=102&oid=421&aid=0005391556'), (datetime.datetime(2021, 6, 3, 15, 20, 23, 496472), '국민의힘 경북도당 “독도 일본 영토 표기 즉각 삭제하라”', 'https://news.naver.com/main/read.nhn?mode=LSD&mid=shm&sid1=102&oid=003&aid=0010532052')]\n",
      "200\n",
      "[(datetime.datetime(2021, 6, 3, 15, 20, 23, 661821), '금융위 \"공매도 원활히 정착...주가와 상관관계 없어\"', 'https://news.naver.com/main/read.nhn?mode=LSD&mid=shm&sid1=101&oid=215&aid=0000962339'), (datetime.datetime(2021, 6, 3, 15, 20, 23, 661821), '더불어민주당, “도쿄 올림픽 조직위 ‘독도 표기’ 규탄” 성명', 'https://news.naver.com/main/read.nhn?mode=LSD&mid=shm&sid1=100&oid=056&aid=0011056597'), (datetime.datetime(2021, 6, 3, 15, 20, 23, 661821), \"전국 흐리고 비…한낮 '선선'\", 'https://news.naver.com/main/read.nhn?mode=LSD&mid=shm&sid1=103&oid=214&aid=0001122815'), (datetime.datetime(2021, 6, 3, 15, 20, 23, 661821), '유웨이 \"6월 모평 수학, 공통과목 지난해 수능보다 어려워\"', 'https://news.naver.com/main/read.nhn?mode=LSD&mid=shm&sid1=102&oid=008&aid=0004596672'), (datetime.datetime(2021, 6, 3, 15, 20, 23, 661821), '윤석열 측, \\'尹 가족 엄정수사\\' 촉구한 송영길 발언에 \"도를 넘었다\"', 'https://news.naver.com/main/read.nhn?mode=LSD&mid=shm&sid1=100&oid=011&aid=0003918512')]\n",
      "200\n",
      "[(datetime.datetime(2021, 6, 3, 15, 20, 28, 864146), '68명 \\'더민초\\' 만난 文대통령 \"지지자들과 손 맞잡아달라\" 강조', 'https://news.naver.com/main/read.nhn?mode=LSD&mid=shm&sid1=100&oid=008&aid=0004596712'), (datetime.datetime(2021, 6, 3, 15, 20, 28, 865146), '문대통령, 女부사관 사건에 \"가슴 아파\"…엄정 수사 지시(종합)', 'https://news.naver.com/main/read.nhn?mode=LSD&mid=shm&sid1=100&oid=001&aid=0012435327'), (datetime.datetime(2021, 6, 3, 15, 20, 28, 865146), \"'수소사업 속도' SK, 세계 첫 청록수소 생산기업에 투자\", 'https://news.naver.com/main/read.nhn?mode=LSD&mid=shm&sid1=101&oid=015&aid=0004556725'), (datetime.datetime(2021, 6, 3, 15, 20, 28, 865146), '대법 \"네이버, 사옥 외벽 반사광 피해주민에 손해 배상해야\"', 'https://news.naver.com/main/read.nhn?mode=LSD&mid=shm&sid1=102&oid=214&aid=0001122867'), (datetime.datetime(2021, 6, 3, 15, 20, 28, 865146), '文대통령, \\'극단 선택\\' 女중사 사건에 \"가슴 아파\"···유족 측 \"성추행 피해 더 있어\"', 'https://news.naver.com/main/read.nhn?mode=LSD&mid=shm&sid1=102&oid=011&aid=0003918657')]\n",
      "200\n",
      "[(datetime.datetime(2021, 6, 3, 15, 20, 29, 18683), '68명 \\'더민초\\' 만난 文대통령 \"지지자들과 손 맞잡아달라\" 강조', 'https://news.naver.com/main/read.nhn?mode=LSD&mid=shm&sid1=100&oid=008&aid=0004596712'), (datetime.datetime(2021, 6, 3, 15, 20, 29, 18683), '문대통령, 女부사관 사건에 \"가슴 아파\"…엄정 수사 지시(종합)', 'https://news.naver.com/main/read.nhn?mode=LSD&mid=shm&sid1=100&oid=001&aid=0012435327'), (datetime.datetime(2021, 6, 3, 15, 20, 29, 18683), \"'수소사업 속도' SK, 세계 첫 청록수소 생산기업에 투자\", 'https://news.naver.com/main/read.nhn?mode=LSD&mid=shm&sid1=101&oid=015&aid=0004556725'), (datetime.datetime(2021, 6, 3, 15, 20, 29, 18683), '대법 \"네이버, 사옥 외벽 반사광 피해주민에 손해 배상해야\"', 'https://news.naver.com/main/read.nhn?mode=LSD&mid=shm&sid1=102&oid=214&aid=0001122867'), (datetime.datetime(2021, 6, 3, 15, 20, 29, 18683), '文대통령, \\'극단 선택\\' 女중사 사건에 \"가슴 아파\"···유족 측 \"성추행 피해 더 있어\"', 'https://news.naver.com/main/read.nhn?mode=LSD&mid=shm&sid1=102&oid=011&aid=0003918657')]\n",
      "200\n",
      "[(datetime.datetime(2021, 6, 3, 15, 20, 34, 248766), '문대통령, 女부사관 사건에 \"가슴 아파\"…엄정 수사 지시(종합)', 'https://news.naver.com/main/read.nhn?mode=LSD&mid=shm&sid1=100&oid=001&aid=0012435327'), (datetime.datetime(2021, 6, 3, 15, 20, 34, 248766), '검찰, ‘프로포폴 불법투약’ 하정우 약식기소…“안일한 판단 반성”', 'https://news.naver.com/main/read.nhn?mode=LSD&mid=shm&sid1=102&oid=081&aid=0003191369'), (datetime.datetime(2021, 6, 3, 15, 20, 34, 248766), '코로나로 식어버린 성장엔진, 작년 기업 매출 ‘역대 최악’…3곳 중 1곳은 이자도 못낸다', 'https://news.naver.com/main/read.nhn?mode=LSD&mid=shm&sid1=101&oid=025&aid=0003106813'), (datetime.datetime(2021, 6, 3, 15, 20, 34, 248766), '오늘 또 비 소식…더위 주춤[굿모닝 날씨]', 'https://news.naver.com/main/read.nhn?mode=LSD&mid=shm&sid1=103&oid=056&aid=0011056458'), (datetime.datetime(2021, 6, 3, 15, 20, 34, 248766), '공매도 재개 한 달...금융위 “주가와 관계 없다”', 'https://news.naver.com/main/read.nhn?mode=LSD&mid=shm&sid1=101&oid=366&aid=0000727538')]\n",
      "200\n",
      "[(datetime.datetime(2021, 6, 3, 15, 20, 34, 479331), '문대통령, 女부사관 사건에 \"가슴 아파\"…엄정 수사 지시(종합)', 'https://news.naver.com/main/read.nhn?mode=LSD&mid=shm&sid1=100&oid=001&aid=0012435327'), (datetime.datetime(2021, 6, 3, 15, 20, 34, 479331), '검찰, ‘프로포폴 불법투약’ 하정우 약식기소…“안일한 판단 반성”', 'https://news.naver.com/main/read.nhn?mode=LSD&mid=shm&sid1=102&oid=081&aid=0003191369'), (datetime.datetime(2021, 6, 3, 15, 20, 34, 479331), '코로나로 식어버린 성장엔진, 작년 기업 매출 ‘역대 최악’…3곳 중 1곳은 이자도 못낸다', 'https://news.naver.com/main/read.nhn?mode=LSD&mid=shm&sid1=101&oid=025&aid=0003106813'), (datetime.datetime(2021, 6, 3, 15, 20, 34, 479331), '오늘 또 비 소식…더위 주춤[굿모닝 날씨]', 'https://news.naver.com/main/read.nhn?mode=LSD&mid=shm&sid1=103&oid=056&aid=0011056458'), (datetime.datetime(2021, 6, 3, 15, 20, 34, 479331), '공매도 재개 한 달...금융위 “주가와 관계 없다”', 'https://news.naver.com/main/read.nhn?mode=LSD&mid=shm&sid1=101&oid=366&aid=0000727538')]\n",
      "200\n",
      "[(datetime.datetime(2021, 6, 3, 15, 20, 34, 624330), '文대통령 \"공군 성폭력 2차 가해·피해호소 묵살 엄중 수사하라\"', 'https://news.naver.com/main/read.nhn?mode=LSD&mid=shm&sid1=100&oid=002&aid=0002192389'), (datetime.datetime(2021, 6, 3, 15, 20, 34, 624330), \"'네이버 통유리' 놓고 10년 법정싸움…결국 네이버가 졌다\", 'https://news.naver.com/main/read.nhn?mode=LSD&mid=shm&sid1=102&oid=025&aid=0003106798'), (datetime.datetime(2021, 6, 3, 15, 20, 34, 624330), '‘LG家 3세’ 아워홈 구본성 부회장, 보복운전 1심 집행유예', 'https://news.naver.com/main/read.nhn?mode=LSD&mid=shm&sid1=102&oid=081&aid=0003191368'), (datetime.datetime(2021, 6, 3, 15, 20, 34, 624330), '日 \"독도는 우리 영토…韓 항의 절대 받아들일 수 없다\"', 'https://news.naver.com/main/read.nhn?mode=LSD&mid=shm&sid1=102&oid=015&aid=0004556578'), (datetime.datetime(2021, 6, 3, 15, 20, 34, 624330), '오늘 또 비 소식…더위 주춤[굿모닝 날씨]', 'https://news.naver.com/main/read.nhn?mode=LSD&mid=shm&sid1=103&oid=056&aid=0011056458')]\n",
      "200\n",
      "[(datetime.datetime(2021, 6, 3, 15, 20, 34, 777328), '文대통령 \"공군 성폭력 2차 가해·피해호소 묵살 엄중 수사하라\"', 'https://news.naver.com/main/read.nhn?mode=LSD&mid=shm&sid1=100&oid=002&aid=0002192389'), (datetime.datetime(2021, 6, 3, 15, 20, 34, 777328), \"'네이버 통유리' 놓고 10년 법정싸움…결국 네이버가 졌다\", 'https://news.naver.com/main/read.nhn?mode=LSD&mid=shm&sid1=102&oid=025&aid=0003106798'), (datetime.datetime(2021, 6, 3, 15, 20, 34, 777328), '‘LG家 3세’ 아워홈 구본성 부회장, 보복운전 1심 집행유예', 'https://news.naver.com/main/read.nhn?mode=LSD&mid=shm&sid1=102&oid=081&aid=0003191368'), (datetime.datetime(2021, 6, 3, 15, 20, 34, 777328), '日 \"독도는 우리 영토…韓 항의 절대 받아들일 수 없다\"', 'https://news.naver.com/main/read.nhn?mode=LSD&mid=shm&sid1=102&oid=015&aid=0004556578'), (datetime.datetime(2021, 6, 3, 15, 20, 34, 777328), '오늘 또 비 소식…더위 주춤[굿모닝 날씨]', 'https://news.naver.com/main/read.nhn?mode=LSD&mid=shm&sid1=103&oid=056&aid=0011056458')]\n",
      "200\n",
      "[(datetime.datetime(2021, 6, 3, 15, 20, 39, 984063), 'SK, 세계 최초 청록수소 생산회사 투자…수소사업 확장 가속화', 'https://news.naver.com/main/read.nhn?mode=LSD&mid=shm&sid1=101&oid=003&aid=0010531496'), (datetime.datetime(2021, 6, 3, 15, 20, 39, 984063), '화이자사 \"대구시 제안한 화이자 백신 가짜 의심···법적 조치 취할 예정\"', 'https://news.naver.com/main/read.nhn?mode=LSD&mid=shm&sid1=102&oid=032&aid=0003077966'), (datetime.datetime(2021, 6, 3, 15, 20, 39, 984063), '이용구 “1000만원 합의금, 폭행영상 삭제 대가 아냐”', 'https://news.naver.com/main/read.nhn?mode=LSD&mid=shm&sid1=102&oid=005&aid=0001444533'), (datetime.datetime(2021, 6, 3, 15, 20, 39, 984063), '코로나19 대응 중앙방역대책본부 브리핑', 'https://news.naver.com/main/read.nhn?mode=LSD&mid=shm&sid1=102&oid=214&aid=0001122865'), (datetime.datetime(2021, 6, 3, 15, 20, 39, 985063), \"국방부, 이재용도 요청했던 '수사심의위' 군검찰에 도입한다\", 'https://news.naver.com/main/read.nhn?mode=LSD&mid=shm&sid1=100&oid=015&aid=0004556541')]\n",
      "200\n",
      "[(datetime.datetime(2021, 6, 3, 15, 20, 40, 122077), 'SK, 세계 최초 청록수소 생산회사 투자…수소사업 확장 가속화', 'https://news.naver.com/main/read.nhn?mode=LSD&mid=shm&sid1=101&oid=003&aid=0010531496'), (datetime.datetime(2021, 6, 3, 15, 20, 40, 122077), '화이자사 \"대구시 제안한 화이자 백신 가짜 의심···법적 조치 취할 예정\"', 'https://news.naver.com/main/read.nhn?mode=LSD&mid=shm&sid1=102&oid=032&aid=0003077966'), (datetime.datetime(2021, 6, 3, 15, 20, 40, 122077), '이용구 “1000만원 합의금, 폭행영상 삭제 대가 아냐”', 'https://news.naver.com/main/read.nhn?mode=LSD&mid=shm&sid1=102&oid=005&aid=0001444533'), (datetime.datetime(2021, 6, 3, 15, 20, 40, 122077), '코로나19 대응 중앙방역대책본부 브리핑', 'https://news.naver.com/main/read.nhn?mode=LSD&mid=shm&sid1=102&oid=214&aid=0001122865'), (datetime.datetime(2021, 6, 3, 15, 20, 40, 122077), \"국방부, 이재용도 요청했던 '수사심의위' 군검찰에 도입한다\", 'https://news.naver.com/main/read.nhn?mode=LSD&mid=shm&sid1=100&oid=015&aid=0004556541')]\n"
     ]
    },
    {
     "name": "stdout",
     "output_type": "stream",
     "text": [
      "200\n",
      "[(datetime.datetime(2021, 6, 3, 15, 20, 45, 343993), '공군 부사관 유족 “3명 더 고소…강제추행 추가피해도”', 'https://news.naver.com/main/read.nhn?mode=LSD&mid=shm&sid1=102&oid=005&aid=0001444592'), (datetime.datetime(2021, 6, 3, 15, 20, 45, 344994), 'SK㈜, \\'청록수소\\' 생산 회사에 투자…\"수소사업 확장 가속\"', 'https://news.naver.com/main/read.nhn?mode=LSD&mid=shm&sid1=101&oid=421&aid=0005390870'), (datetime.datetime(2021, 6, 3, 15, 20, 45, 344994), '[속보] 文, 여성 부사관 사건에 \"가슴 아파\"…엄정수사 지시', 'https://news.naver.com/main/read.nhn?mode=LSD&mid=shm&sid1=100&oid=015&aid=0004556621'), (datetime.datetime(2021, 6, 3, 15, 20, 45, 344994), '민주당 “도쿄올림픽 ‘독도 표기’ 규탄”…일각에선 ‘보이콧’ 주장도', 'https://news.naver.com/main/read.nhn?mode=LSD&mid=shm&sid1=100&oid=056&aid=0011056473'), (datetime.datetime(2021, 6, 3, 15, 20, 45, 344994), \"국방부 '군검찰 수사심의위' 설치…부사관 사망 사건부터 적용\", 'https://news.naver.com/main/read.nhn?mode=LSD&mid=shm&sid1=100&oid=421&aid=0005391225')]\n",
      "200\n",
      "[(datetime.datetime(2021, 6, 3, 15, 20, 45, 479400), '공군 부사관 유족 “3명 더 고소…강제추행 추가피해도”', 'https://news.naver.com/main/read.nhn?mode=LSD&mid=shm&sid1=102&oid=005&aid=0001444592'), (datetime.datetime(2021, 6, 3, 15, 20, 45, 479400), 'SK㈜, \\'청록수소\\' 생산 회사에 투자…\"수소사업 확장 가속\"', 'https://news.naver.com/main/read.nhn?mode=LSD&mid=shm&sid1=101&oid=421&aid=0005390870'), (datetime.datetime(2021, 6, 3, 15, 20, 45, 479400), '[속보] 文, 여성 부사관 사건에 \"가슴 아파\"…엄정수사 지시', 'https://news.naver.com/main/read.nhn?mode=LSD&mid=shm&sid1=100&oid=015&aid=0004556621'), (datetime.datetime(2021, 6, 3, 15, 20, 45, 479400), '민주당 “도쿄올림픽 ‘독도 표기’ 규탄”…일각에선 ‘보이콧’ 주장도', 'https://news.naver.com/main/read.nhn?mode=LSD&mid=shm&sid1=100&oid=056&aid=0011056473'), (datetime.datetime(2021, 6, 3, 15, 20, 45, 479400), \"국방부 '군검찰 수사심의위' 설치…부사관 사망 사건부터 적용\", 'https://news.naver.com/main/read.nhn?mode=LSD&mid=shm&sid1=100&oid=421&aid=0005391225')]\n",
      "200\n",
      "[(datetime.datetime(2021, 6, 3, 15, 20, 45, 624981), '\"日, 올림픽 정신 부정\"…의원 132명 규탄 결의안 발의', 'https://news.naver.com/main/read.nhn?mode=LSD&mid=shm&sid1=100&oid=003&aid=0010531370'), (datetime.datetime(2021, 6, 3, 15, 20, 45, 624981), '하정우, 프로포폴 투약 벌금형...\"안일한 판단 반성[종합]', 'https://news.naver.com/main/read.nhn?mode=LSD&mid=shm&sid1=102&oid=009&aid=0004803591'), (datetime.datetime(2021, 6, 3, 15, 20, 45, 624981), \"'보복운전 혐의' 아워홈 구본성, 1심서 징역형 집행유예\", 'https://news.naver.com/main/read.nhn?mode=LSD&mid=shm&sid1=102&oid=018&aid=0004946591'), (datetime.datetime(2021, 6, 3, 15, 20, 45, 624981), '이용구 \"합의금 1000만원, 영상 삭제 대가 아냐\"(종합)', 'https://news.naver.com/main/read.nhn?mode=LSD&mid=shm&sid1=102&oid=421&aid=0005390528'), (datetime.datetime(2021, 6, 3, 15, 20, 45, 624981), '‘공군 성추행’ 피의자 구속…군검찰·민간참여 수사심의위 구성', 'https://news.naver.com/main/read.nhn?mode=LSD&mid=shm&sid1=100&oid=056&aid=0011056583')]\n",
      "200\n",
      "[(datetime.datetime(2021, 6, 3, 15, 20, 45, 830003), '\"日, 올림픽 정신 부정\"…의원 132명 규탄 결의안 발의', 'https://news.naver.com/main/read.nhn?mode=LSD&mid=shm&sid1=100&oid=003&aid=0010531370'), (datetime.datetime(2021, 6, 3, 15, 20, 45, 831005), '하정우, 프로포폴 투약 벌금형...\"안일한 판단 반성[종합]', 'https://news.naver.com/main/read.nhn?mode=LSD&mid=shm&sid1=102&oid=009&aid=0004803591'), (datetime.datetime(2021, 6, 3, 15, 20, 45, 831005), \"'보복운전 혐의' 아워홈 구본성, 1심서 징역형 집행유예\", 'https://news.naver.com/main/read.nhn?mode=LSD&mid=shm&sid1=102&oid=018&aid=0004946591'), (datetime.datetime(2021, 6, 3, 15, 20, 45, 831005), '이용구 \"합의금 1000만원, 영상 삭제 대가 아냐\"(종합)', 'https://news.naver.com/main/read.nhn?mode=LSD&mid=shm&sid1=102&oid=421&aid=0005390528'), (datetime.datetime(2021, 6, 3, 15, 20, 45, 831005), '‘공군 성추행’ 피의자 구속…군검찰·민간참여 수사심의위 구성', 'https://news.naver.com/main/read.nhn?mode=LSD&mid=shm&sid1=100&oid=056&aid=0011056583')]\n",
      "200\n",
      "[(datetime.datetime(2021, 6, 3, 15, 20, 51, 43403), '입시업계 \"6월 모의평가 국어 \\'독서\\' 어려워…\\'킬러\\'는 PCR 17번\"', 'https://news.naver.com/main/read.nhn?mode=LSD&mid=shm&sid1=102&oid=003&aid=0010531674'), (datetime.datetime(2021, 6, 3, 15, 20, 51, 43403), '문대통령 \"내부단합·외연확장할 때 지지 만들어져\"(종합)', 'https://news.naver.com/main/read.nhn?mode=LSD&mid=shm&sid1=100&oid=001&aid=0012435841'), (datetime.datetime(2021, 6, 3, 15, 20, 51, 43403), \"산업통상자원부 첫 '수소전문기업'…경남 3곳 선정\", 'https://news.naver.com/main/read.nhn?mode=LSD&mid=shm&sid1=102&oid=079&aid=0003511412'), (datetime.datetime(2021, 6, 3, 15, 20, 51, 43403), '윤석열 측, 공개적 맞대응...송영길·정세균 겨냥 \"도 넘은 언행\"', 'https://news.naver.com/main/read.nhn?mode=LSD&mid=shm&sid1=100&oid=057&aid=0001581719'), (datetime.datetime(2021, 6, 3, 15, 20, 51, 43403), '코로나19 대응 중앙방역대책본부 브리핑', 'https://news.naver.com/main/read.nhn?mode=LSD&mid=shm&sid1=102&oid=214&aid=0001122865')]\n",
      "200\n",
      "[(datetime.datetime(2021, 6, 3, 15, 20, 51, 206077), '입시업계 \"6월 모의평가 국어 \\'독서\\' 어려워…\\'킬러\\'는 PCR 17번\"', 'https://news.naver.com/main/read.nhn?mode=LSD&mid=shm&sid1=102&oid=003&aid=0010531674'), (datetime.datetime(2021, 6, 3, 15, 20, 51, 206077), '문대통령 \"내부단합·외연확장할 때 지지 만들어져\"(종합)', 'https://news.naver.com/main/read.nhn?mode=LSD&mid=shm&sid1=100&oid=001&aid=0012435841'), (datetime.datetime(2021, 6, 3, 15, 20, 51, 207076), \"산업통상자원부 첫 '수소전문기업'…경남 3곳 선정\", 'https://news.naver.com/main/read.nhn?mode=LSD&mid=shm&sid1=102&oid=079&aid=0003511412'), (datetime.datetime(2021, 6, 3, 15, 20, 51, 207076), '윤석열 측, 공개적 맞대응...송영길·정세균 겨냥 \"도 넘은 언행\"', 'https://news.naver.com/main/read.nhn?mode=LSD&mid=shm&sid1=100&oid=057&aid=0001581719'), (datetime.datetime(2021, 6, 3, 15, 20, 51, 207076), '코로나19 대응 중앙방역대책본부 브리핑', 'https://news.naver.com/main/read.nhn?mode=LSD&mid=shm&sid1=102&oid=214&aid=0001122865')]\n",
      "200\n",
      "[(datetime.datetime(2021, 6, 3, 15, 20, 56, 417345), '日 도쿄올림픽 홈피에 \\'독도 표기\\'... 백혜련 \"영유권 침해, 삭제하라\"', 'https://news.naver.com/main/read.nhn?mode=LSD&mid=shm&sid1=100&oid=469&aid=0000608498'), (datetime.datetime(2021, 6, 3, 15, 20, 56, 417345), \"지난해 '코로나 불황'에 좀비기업 34.5%…'역대 최고'\", 'https://news.naver.com/main/read.nhn?mode=LSD&mid=shm&sid1=101&oid=079&aid=0003511542'), (datetime.datetime(2021, 6, 3, 15, 20, 56, 417345), '증권회사 1분기 영업실적 3조 원 육박…사상 최고', 'https://news.naver.com/main/read.nhn?mode=LSD&mid=shm&sid1=101&oid=056&aid=0011056573'), (datetime.datetime(2021, 6, 3, 15, 20, 56, 417345), '입시업계 \"6월 모의평가 국어 \\'독서\\' 어려워…\\'킬러\\'는 PCR 17번\"', 'https://news.naver.com/main/read.nhn?mode=LSD&mid=shm&sid1=102&oid=003&aid=0010531674'), (datetime.datetime(2021, 6, 3, 15, 20, 56, 417345), '정부 “대구시 도입하려는 화이자 백신 진위 의심… 추진 않기로”', 'https://news.naver.com/main/read.nhn?mode=LSD&mid=shm&sid1=102&oid=022&aid=0003587149')]\n",
      "200\n",
      "[(datetime.datetime(2021, 6, 3, 15, 20, 56, 557159), '전국 곳곳에 벼락·강풍 동반한 요란한 비...언제 그칠까[날씨]', 'https://news.naver.com/main/read.nhn?mode=LSD&mid=shm&sid1=103&oid=052&aid=0001596471'), (datetime.datetime(2021, 6, 3, 15, 20, 56, 557159), '문 대통령 “내부단합·외연확장 때 지지 만들어져”', 'https://news.naver.com/main/read.nhn?mode=LSD&mid=shm&sid1=100&oid=056&aid=0011056643'), (datetime.datetime(2021, 6, 3, 15, 20, 56, 557159), '군 검경·국방부, 합동 수사…첫 수사심의위', 'https://news.naver.com/main/read.nhn?mode=LSD&mid=shm&sid1=100&oid=214&aid=0001122857'), (datetime.datetime(2021, 6, 3, 15, 20, 56, 557159), '이용구 \"택시기사에 1000만 원, 영상 삭제 대가 아냐\" [전문]', 'https://news.naver.com/main/read.nhn?mode=LSD&mid=shm&sid1=102&oid=437&aid=0000267930'), (datetime.datetime(2021, 6, 3, 15, 20, 56, 558158), '윤석열 측 “일부 정치인 도 넘은 언행…적절한 대응 나설 것”', 'https://news.naver.com/main/read.nhn?mode=LSD&mid=shm&sid1=100&oid=056&aid=0011056498')]\n",
      "200\n",
      "[(datetime.datetime(2021, 6, 3, 15, 20, 56, 740989), '전국 곳곳에 벼락·강풍 동반한 요란한 비...언제 그칠까[날씨]', 'https://news.naver.com/main/read.nhn?mode=LSD&mid=shm&sid1=103&oid=052&aid=0001596471'), (datetime.datetime(2021, 6, 3, 15, 20, 56, 740989), '문 대통령 “내부단합·외연확장 때 지지 만들어져”', 'https://news.naver.com/main/read.nhn?mode=LSD&mid=shm&sid1=100&oid=056&aid=0011056643'), (datetime.datetime(2021, 6, 3, 15, 20, 56, 740989), '군 검경·국방부, 합동 수사…첫 수사심의위', 'https://news.naver.com/main/read.nhn?mode=LSD&mid=shm&sid1=100&oid=214&aid=0001122857'), (datetime.datetime(2021, 6, 3, 15, 20, 56, 741983), '이용구 \"택시기사에 1000만 원, 영상 삭제 대가 아냐\" [전문]', 'https://news.naver.com/main/read.nhn?mode=LSD&mid=shm&sid1=102&oid=437&aid=0000267930'), (datetime.datetime(2021, 6, 3, 15, 20, 56, 741983), '윤석열 측 “일부 정치인 도 넘은 언행…적절한 대응 나설 것”', 'https://news.naver.com/main/read.nhn?mode=LSD&mid=shm&sid1=100&oid=056&aid=0011056498')]\n",
      "200\n",
      "[(datetime.datetime(2021, 6, 3, 15, 20, 56, 945736), '전국 곳곳에 벼락·강풍 동반한 요란한 비...언제 그칠까[날씨]', 'https://news.naver.com/main/read.nhn?mode=LSD&mid=shm&sid1=103&oid=052&aid=0001596471'), (datetime.datetime(2021, 6, 3, 15, 20, 56, 945736), '문 대통령 “내부단합·외연확장 때 지지 만들어져”', 'https://news.naver.com/main/read.nhn?mode=LSD&mid=shm&sid1=100&oid=056&aid=0011056643'), (datetime.datetime(2021, 6, 3, 15, 20, 56, 945736), '군 검경·국방부, 합동 수사…첫 수사심의위', 'https://news.naver.com/main/read.nhn?mode=LSD&mid=shm&sid1=100&oid=214&aid=0001122857'), (datetime.datetime(2021, 6, 3, 15, 20, 56, 945736), '이용구 \"택시기사에 1000만 원, 영상 삭제 대가 아냐\" [전문]', 'https://news.naver.com/main/read.nhn?mode=LSD&mid=shm&sid1=102&oid=437&aid=0000267930'), (datetime.datetime(2021, 6, 3, 15, 20, 56, 945736), '윤석열 측 “일부 정치인 도 넘은 언행…적절한 대응 나설 것”', 'https://news.naver.com/main/read.nhn?mode=LSD&mid=shm&sid1=100&oid=056&aid=0011056498')]\n"
     ]
    },
    {
     "name": "stdout",
     "output_type": "stream",
     "text": [
      "200\n",
      "[(datetime.datetime(2021, 6, 3, 15, 21, 2, 178112), '코로나로 식어버린 성장엔진, 작년 기업 매출 ‘역대 최악’…3곳 중 1곳은 이자도 못낸다', 'https://news.naver.com/main/read.nhn?mode=LSD&mid=shm&sid1=101&oid=025&aid=0003106813'), (datetime.datetime(2021, 6, 3, 15, 21, 2, 178112), '공매도 재개 한달…금융당국 \"주가와 유의미한 관계 안 나타나\"', 'https://news.naver.com/main/read.nhn?mode=LSD&mid=shm&sid1=101&oid=001&aid=0012435681'), (datetime.datetime(2021, 6, 3, 15, 21, 2, 178112), '정부 \"대구시 제안 화이자 진위 불분명...계약 추진 안 할 것\"', 'https://news.naver.com/main/read.nhn?mode=LSD&mid=shm&sid1=102&oid=025&aid=0003106805'), (datetime.datetime(2021, 6, 3, 15, 21, 2, 178112), '이용구 법무차관 “택시기사 준 1000만원, 영상 삭제 대가 아닌 합의금”', 'https://news.naver.com/main/read.nhn?mode=LSD&mid=shm&sid1=102&oid=015&aid=0004556629'), (datetime.datetime(2021, 6, 3, 15, 21, 2, 178112), '文대통령 “초선의원들이 지지자들과 손 맞잡아달라”(상보)', 'https://news.naver.com/main/read.nhn?mode=LSD&mid=shm&sid1=100&oid=018&aid=0004946579')]\n",
      "200\n",
      "[(datetime.datetime(2021, 6, 3, 15, 21, 2, 424298), '코로나로 식어버린 성장엔진, 작년 기업 매출 ‘역대 최악’…3곳 중 1곳은 이자도 못낸다', 'https://news.naver.com/main/read.nhn?mode=LSD&mid=shm&sid1=101&oid=025&aid=0003106813'), (datetime.datetime(2021, 6, 3, 15, 21, 2, 424298), '공매도 재개 한달…금융당국 \"주가와 유의미한 관계 안 나타나\"', 'https://news.naver.com/main/read.nhn?mode=LSD&mid=shm&sid1=101&oid=001&aid=0012435681'), (datetime.datetime(2021, 6, 3, 15, 21, 2, 424298), '정부 \"대구시 제안 화이자 진위 불분명...계약 추진 안 할 것\"', 'https://news.naver.com/main/read.nhn?mode=LSD&mid=shm&sid1=102&oid=025&aid=0003106805'), (datetime.datetime(2021, 6, 3, 15, 21, 2, 424298), '이용구 법무차관 “택시기사 준 1000만원, 영상 삭제 대가 아닌 합의금”', 'https://news.naver.com/main/read.nhn?mode=LSD&mid=shm&sid1=102&oid=015&aid=0004556629'), (datetime.datetime(2021, 6, 3, 15, 21, 2, 424298), '文대통령 “초선의원들이 지지자들과 손 맞잡아달라”(상보)', 'https://news.naver.com/main/read.nhn?mode=LSD&mid=shm&sid1=100&oid=018&aid=0004946579')]\n",
      "200\n",
      "[(datetime.datetime(2021, 6, 3, 15, 21, 7, 612692), \"의원 132명, '日올림픽지도 독도 표기' 규탄결의 발의\", 'https://news.naver.com/main/read.nhn?mode=LSD&mid=shm&sid1=100&oid=001&aid=0012435652'), (datetime.datetime(2021, 6, 3, 15, 21, 7, 612692), \"기업 원가정보 주고받아도 '담합'...롯데등 해외계열사 '공시 의무'\", 'https://news.naver.com/main/read.nhn?mode=LSD&mid=shm&sid1=101&oid=008&aid=0004596637'), (datetime.datetime(2021, 6, 3, 15, 21, 7, 612692), \"국방부, '부사관 성추행' 수사심의위원회 설치…군 사건 최초\", 'https://news.naver.com/main/read.nhn?mode=LSD&mid=shm&sid1=102&oid=055&aid=0000898343'), (datetime.datetime(2021, 6, 3, 15, 21, 7, 612692), '정부 \"대구시 주선 화이자 백신 진위 의심…구매 안한다\"', 'https://news.naver.com/main/read.nhn?mode=LSD&mid=shm&sid1=102&oid=001&aid=0012435457'), (datetime.datetime(2021, 6, 3, 15, 21, 7, 612692), '국내 돌파감염 5명 추가 총 9명…10만명당 0.87명꼴', 'https://news.naver.com/main/read.nhn?mode=LSD&mid=shm&sid1=102&oid=421&aid=0005391762')]\n",
      "200\n",
      "[(datetime.datetime(2021, 6, 3, 15, 21, 7, 749837), \"의원 132명, '日올림픽지도 독도 표기' 규탄결의 발의\", 'https://news.naver.com/main/read.nhn?mode=LSD&mid=shm&sid1=100&oid=001&aid=0012435652'), (datetime.datetime(2021, 6, 3, 15, 21, 7, 749837), \"기업 원가정보 주고받아도 '담합'...롯데등 해외계열사 '공시 의무'\", 'https://news.naver.com/main/read.nhn?mode=LSD&mid=shm&sid1=101&oid=008&aid=0004596637'), (datetime.datetime(2021, 6, 3, 15, 21, 7, 749837), \"국방부, '부사관 성추행' 수사심의위원회 설치…군 사건 최초\", 'https://news.naver.com/main/read.nhn?mode=LSD&mid=shm&sid1=102&oid=055&aid=0000898343'), (datetime.datetime(2021, 6, 3, 15, 21, 7, 749837), '정부 \"대구시 주선 화이자 백신 진위 의심…구매 안한다\"', 'https://news.naver.com/main/read.nhn?mode=LSD&mid=shm&sid1=102&oid=001&aid=0012435457'), (datetime.datetime(2021, 6, 3, 15, 21, 7, 749837), '국내 돌파감염 5명 추가 총 9명…10만명당 0.87명꼴', 'https://news.naver.com/main/read.nhn?mode=LSD&mid=shm&sid1=102&oid=421&aid=0005391762')]\n",
      "200\n",
      "[(datetime.datetime(2021, 6, 3, 15, 21, 7, 908331), \"의원 132명, '日올림픽지도 독도 표기' 규탄결의 발의\", 'https://news.naver.com/main/read.nhn?mode=LSD&mid=shm&sid1=100&oid=001&aid=0012435652'), (datetime.datetime(2021, 6, 3, 15, 21, 7, 908331), \"기업 원가정보 주고받아도 '담합'...롯데등 해외계열사 '공시 의무'\", 'https://news.naver.com/main/read.nhn?mode=LSD&mid=shm&sid1=101&oid=008&aid=0004596637'), (datetime.datetime(2021, 6, 3, 15, 21, 7, 909331), \"국방부, '부사관 성추행' 수사심의위원회 설치…군 사건 최초\", 'https://news.naver.com/main/read.nhn?mode=LSD&mid=shm&sid1=102&oid=055&aid=0000898343'), (datetime.datetime(2021, 6, 3, 15, 21, 7, 909331), '정부 \"대구시 주선 화이자 백신 진위 의심…구매 안한다\"', 'https://news.naver.com/main/read.nhn?mode=LSD&mid=shm&sid1=102&oid=001&aid=0012435457'), (datetime.datetime(2021, 6, 3, 15, 21, 7, 909331), '국내 돌파감염 5명 추가 총 9명…10만명당 0.87명꼴', 'https://news.naver.com/main/read.nhn?mode=LSD&mid=shm&sid1=102&oid=421&aid=0005391762')]\n",
      "200\n",
      "[(datetime.datetime(2021, 6, 3, 15, 21, 8, 44220), \"의원 132명, '日올림픽지도 독도 표기' 규탄결의 발의\", 'https://news.naver.com/main/read.nhn?mode=LSD&mid=shm&sid1=100&oid=001&aid=0012435652'), (datetime.datetime(2021, 6, 3, 15, 21, 8, 45219), \"기업 원가정보 주고받아도 '담합'...롯데등 해외계열사 '공시 의무'\", 'https://news.naver.com/main/read.nhn?mode=LSD&mid=shm&sid1=101&oid=008&aid=0004596637'), (datetime.datetime(2021, 6, 3, 15, 21, 8, 45219), \"국방부, '부사관 성추행' 수사심의위원회 설치…군 사건 최초\", 'https://news.naver.com/main/read.nhn?mode=LSD&mid=shm&sid1=102&oid=055&aid=0000898343'), (datetime.datetime(2021, 6, 3, 15, 21, 8, 45219), '정부 \"대구시 주선 화이자 백신 진위 의심…구매 안한다\"', 'https://news.naver.com/main/read.nhn?mode=LSD&mid=shm&sid1=102&oid=001&aid=0012435457'), (datetime.datetime(2021, 6, 3, 15, 21, 8, 45219), '국내 돌파감염 5명 추가 총 9명…10만명당 0.87명꼴', 'https://news.naver.com/main/read.nhn?mode=LSD&mid=shm&sid1=102&oid=421&aid=0005391762')]\n",
      "200\n",
      "[(datetime.datetime(2021, 6, 3, 15, 21, 13, 276363), '軍 검찰 수사심의위 설치·운영...민간 전문가 참여', 'https://news.naver.com/main/read.nhn?mode=LSD&mid=shm&sid1=100&oid=052&aid=0001596318'), (datetime.datetime(2021, 6, 3, 15, 21, 13, 276363), '공매도 거래대금 3월 대비 소폭 증가…전체 거래대금 비중은 40%↓', 'https://news.naver.com/main/read.nhn?mode=LSD&mid=shm&sid1=101&oid=016&aid=0001843874'), (datetime.datetime(2021, 6, 3, 15, 21, 13, 276363), '공군 유족측 \"3명 추가고소, 2차가해와 2건의 추가 강제추행\"', 'https://news.naver.com/main/read.nhn?mode=LSD&mid=shm&sid1=100&oid=214&aid=0001122840'), (datetime.datetime(2021, 6, 3, 15, 21, 13, 277362), '김해시 하이에어코리아(주), 수소전문기업 선정', 'https://news.naver.com/main/read.nhn?mode=LSD&mid=shm&sid1=102&oid=082&aid=0001095891'), (datetime.datetime(2021, 6, 3, 15, 21, 13, 277362), '이용구 법무차관 “택시기사 준 1000만원, 영상 삭제 대가 아닌 합의금”', 'https://news.naver.com/main/read.nhn?mode=LSD&mid=shm&sid1=102&oid=015&aid=0004556629')]\n",
      "200\n",
      "[(datetime.datetime(2021, 6, 3, 15, 21, 13, 442301), '軍 검찰 수사심의위 설치·운영...민간 전문가 참여', 'https://news.naver.com/main/read.nhn?mode=LSD&mid=shm&sid1=100&oid=052&aid=0001596318'), (datetime.datetime(2021, 6, 3, 15, 21, 13, 442301), '공매도 거래대금 3월 대비 소폭 증가…전체 거래대금 비중은 40%↓', 'https://news.naver.com/main/read.nhn?mode=LSD&mid=shm&sid1=101&oid=016&aid=0001843874'), (datetime.datetime(2021, 6, 3, 15, 21, 13, 442301), '공군 유족측 \"3명 추가고소, 2차가해와 2건의 추가 강제추행\"', 'https://news.naver.com/main/read.nhn?mode=LSD&mid=shm&sid1=100&oid=214&aid=0001122840'), (datetime.datetime(2021, 6, 3, 15, 21, 13, 442301), '김해시 하이에어코리아(주), 수소전문기업 선정', 'https://news.naver.com/main/read.nhn?mode=LSD&mid=shm&sid1=102&oid=082&aid=0001095891'), (datetime.datetime(2021, 6, 3, 15, 21, 13, 443301), '이용구 법무차관 “택시기사 준 1000만원, 영상 삭제 대가 아닌 합의금”', 'https://news.naver.com/main/read.nhn?mode=LSD&mid=shm&sid1=102&oid=015&aid=0004556629')]\n",
      "200\n",
      "[(datetime.datetime(2021, 6, 3, 15, 21, 18, 662157), '日 \"독도는 우리 영토…韓 항의 절대 받아들일 수 없다\"', 'https://news.naver.com/main/read.nhn?mode=LSD&mid=shm&sid1=102&oid=015&aid=0004556578'), (datetime.datetime(2021, 6, 3, 15, 21, 18, 662157), '군 검경·국방부, 합동 수사…첫 수사심의위', 'https://news.naver.com/main/read.nhn?mode=LSD&mid=shm&sid1=100&oid=214&aid=0001122857'), (datetime.datetime(2021, 6, 3, 15, 21, 18, 662157), '수학 공통과목 난도 높아...\"문과생 불리할 듯\"[6월 모의평가]', 'https://news.naver.com/main/read.nhn?mode=LSD&mid=shm&sid1=102&oid=011&aid=0003918635'), (datetime.datetime(2021, 6, 3, 15, 21, 18, 662157), '與 초선들, 文 대통령에 LH 개혁 촉구…\"주택공급 확대해야\"', 'https://news.naver.com/main/read.nhn?mode=LSD&mid=shm&sid1=100&oid=008&aid=0004596726'), (datetime.datetime(2021, 6, 3, 15, 21, 18, 663156), '증권사 1분기 순익 3조…종전 최대치 대비 38.6%↑', 'https://news.naver.com/main/read.nhn?mode=LSD&mid=shm&sid1=101&oid=016&aid=0001843812')]\n",
      "200\n",
      "[(datetime.datetime(2021, 6, 3, 15, 21, 18, 889989), '日 \"독도는 우리 영토…韓 항의 절대 받아들일 수 없다\"', 'https://news.naver.com/main/read.nhn?mode=LSD&mid=shm&sid1=102&oid=015&aid=0004556578'), (datetime.datetime(2021, 6, 3, 15, 21, 18, 889989), '군 검경·국방부, 합동 수사…첫 수사심의위', 'https://news.naver.com/main/read.nhn?mode=LSD&mid=shm&sid1=100&oid=214&aid=0001122857'), (datetime.datetime(2021, 6, 3, 15, 21, 18, 889989), '수학 공통과목 난도 높아...\"문과생 불리할 듯\"[6월 모의평가]', 'https://news.naver.com/main/read.nhn?mode=LSD&mid=shm&sid1=102&oid=011&aid=0003918635'), (datetime.datetime(2021, 6, 3, 15, 21, 18, 889989), '與 초선들, 文 대통령에 LH 개혁 촉구…\"주택공급 확대해야\"', 'https://news.naver.com/main/read.nhn?mode=LSD&mid=shm&sid1=100&oid=008&aid=0004596726'), (datetime.datetime(2021, 6, 3, 15, 21, 18, 889989), '증권사 1분기 순익 3조…종전 최대치 대비 38.6%↑', 'https://news.naver.com/main/read.nhn?mode=LSD&mid=shm&sid1=101&oid=016&aid=0001843812')]\n",
      "200\n",
      "[(datetime.datetime(2021, 6, 3, 15, 21, 19, 26624), '日 \"독도는 우리 영토…韓 항의 절대 받아들일 수 없다\"', 'https://news.naver.com/main/read.nhn?mode=LSD&mid=shm&sid1=102&oid=015&aid=0004556578'), (datetime.datetime(2021, 6, 3, 15, 21, 19, 26624), '군 검경·국방부, 합동 수사…첫 수사심의위', 'https://news.naver.com/main/read.nhn?mode=LSD&mid=shm&sid1=100&oid=214&aid=0001122857'), (datetime.datetime(2021, 6, 3, 15, 21, 19, 26624), '수학 공통과목 난도 높아...\"문과생 불리할 듯\"[6월 모의평가]', 'https://news.naver.com/main/read.nhn?mode=LSD&mid=shm&sid1=102&oid=011&aid=0003918635'), (datetime.datetime(2021, 6, 3, 15, 21, 19, 27624), '與 초선들, 文 대통령에 LH 개혁 촉구…\"주택공급 확대해야\"', 'https://news.naver.com/main/read.nhn?mode=LSD&mid=shm&sid1=100&oid=008&aid=0004596726'), (datetime.datetime(2021, 6, 3, 15, 21, 19, 27624), '증권사 1분기 순익 3조…종전 최대치 대비 38.6%↑', 'https://news.naver.com/main/read.nhn?mode=LSD&mid=shm&sid1=101&oid=016&aid=0001843812')]\n"
     ]
    },
    {
     "name": "stdout",
     "output_type": "stream",
     "text": [
      "200\n",
      "[(datetime.datetime(2021, 6, 3, 15, 21, 19, 299744), '韓 IOC 위원 만난 정세균…“독도 표기, 결코 양보할 수 없어”', 'https://news.naver.com/main/read.nhn?mode=LSD&mid=shm&sid1=100&oid=016&aid=0001843839'), (datetime.datetime(2021, 6, 3, 15, 21, 19, 299744), \"국방부, 이재용도 요청했던 '수사심의위' 군검찰에 도입한다\", 'https://news.naver.com/main/read.nhn?mode=LSD&mid=shm&sid1=100&oid=015&aid=0004556541'), (datetime.datetime(2021, 6, 3, 15, 21, 19, 299744), \"6월 모평 국어 작년 수능과 난이도 비슷…'언어와매체' 더 어려워\", 'https://news.naver.com/main/read.nhn?mode=LSD&mid=shm&sid1=102&oid=277&aid=0004913993'), (datetime.datetime(2021, 6, 3, 15, 21, 19, 299744), '與 초선들, 文 대통령에 LH 개혁 촉구…\"주택공급 확대해야\"', 'https://news.naver.com/main/read.nhn?mode=LSD&mid=shm&sid1=100&oid=008&aid=0004596726'), (datetime.datetime(2021, 6, 3, 15, 21, 19, 299744), '증권사 1분기 순익 3조…종전 최대치 대비 38.6%↑', 'https://news.naver.com/main/read.nhn?mode=LSD&mid=shm&sid1=101&oid=016&aid=0001843812')]\n",
      "200\n",
      "[(datetime.datetime(2021, 6, 3, 15, 21, 24, 522770), '배우 하정우, 프로포폴 벌금형에 \"안일했다. 더 신중히\"', 'https://news.naver.com/main/read.nhn?mode=LSD&mid=shm&sid1=102&oid=014&aid=0004650718'), (datetime.datetime(2021, 6, 3, 15, 21, 24, 522770), '백혜련 \"日 도쿄올림픽 독도 표기, 명백한 영유권 침해\"', 'https://news.naver.com/main/read.nhn?mode=LSD&mid=shm&sid1=100&oid=421&aid=0005390594'), (datetime.datetime(2021, 6, 3, 15, 21, 24, 522770), '문대통령 \"국민 고통 마음아파\"…與초선 \"곳간 더 열어야\"', 'https://news.naver.com/main/read.nhn?mode=LSD&mid=shm&sid1=100&oid=422&aid=0000488200'), (datetime.datetime(2021, 6, 3, 15, 21, 24, 522770), '\"대구에 화이자 백신 제안한 업체...플로리다 주소, 포르투갈 전화\"', 'https://news.naver.com/main/read.nhn?mode=LSD&mid=shm&sid1=102&oid=018&aid=0004946598'), (datetime.datetime(2021, 6, 3, 15, 21, 24, 522770), '벤처지주회사 규제 완화된다…공정위 \"혁신성장 기반 마련\"', 'https://news.naver.com/main/read.nhn?mode=LSD&mid=shm&sid1=101&oid=031&aid=0000602274')]\n",
      "200\n",
      "[(datetime.datetime(2021, 6, 3, 15, 21, 24, 660789), \"의원 132명, '日올림픽지도 독도 표기' 규탄결의 발의\", 'https://news.naver.com/main/read.nhn?mode=LSD&mid=shm&sid1=100&oid=001&aid=0012435652'), (datetime.datetime(2021, 6, 3, 15, 21, 24, 660789), '이용구 \"택시기사, 억울하게 증거인멸죄로 입건돼 죄송\"', 'https://news.naver.com/main/read.nhn?mode=LSD&mid=shm&sid1=102&oid=055&aid=0000898333'), (datetime.datetime(2021, 6, 3, 15, 21, 24, 660789), \"SK, '세계 첫 청록수소 생산' 美모놀리스에 투자\", 'https://news.naver.com/main/read.nhn?mode=LSD&mid=shm&sid1=101&oid=417&aid=0000700555'), (datetime.datetime(2021, 6, 3, 15, 21, 24, 660789), '\"가슴 아파\" 文대통령, 공군 성폭력 사건 엄중 수사 지시', 'https://news.naver.com/main/read.nhn?mode=LSD&mid=shm&sid1=100&oid=215&aid=0000962258'), (datetime.datetime(2021, 6, 3, 15, 21, 24, 660789), '文대통령 \"백신 접종 속도 내고 있어, 집단면역시기 당겨질 것\"', 'https://news.naver.com/main/read.nhn?mode=LSD&mid=shm&sid1=100&oid=016&aid=0001843873')]\n",
      "200\n",
      "[(datetime.datetime(2021, 6, 3, 15, 21, 29, 888105), '이용구 \"1000만원, 영상 삭제 대가 아니다\"', 'https://news.naver.com/main/read.nhn?mode=LSD&mid=shm&sid1=102&oid=448&aid=0000329966'), (datetime.datetime(2021, 6, 3, 15, 21, 29, 889106), '문대통령, 女부사관 사건 엄정수사 지시…\"최상급자까지\"(종합2보)', 'https://news.naver.com/main/read.nhn?mode=LSD&mid=shm&sid1=100&oid=001&aid=0012435504'), (datetime.datetime(2021, 6, 3, 15, 21, 29, 889106), '정부 \"대구시 주선 화이자 백신 진위 의심…구매 안 해\"', 'https://news.naver.com/main/read.nhn?mode=LSD&mid=shm&sid1=100&oid=055&aid=0000898374'), (datetime.datetime(2021, 6, 3, 15, 21, 29, 889106), '尹측 “무리한 가족 수사 1년 3개월 째, 정치인들 언행 도 넘어”', 'https://news.naver.com/main/read.nhn?mode=LSD&mid=shm&sid1=102&oid=023&aid=0003617946'), (datetime.datetime(2021, 6, 3, 15, 21, 29, 889106), '백신 접종 완료한 뒤 돌파감염 5건 추가 발생…누적 9건', 'https://news.naver.com/main/read.nhn?mode=LSD&mid=shm&sid1=102&oid=015&aid=0004556754')]\n",
      "200\n",
      "[(datetime.datetime(2021, 6, 3, 15, 21, 30, 17376), '이용구 \"1000만원, 영상 삭제 대가 아니다\"', 'https://news.naver.com/main/read.nhn?mode=LSD&mid=shm&sid1=102&oid=448&aid=0000329966'), (datetime.datetime(2021, 6, 3, 15, 21, 30, 17376), '문대통령, 女부사관 사건 엄정수사 지시…\"최상급자까지\"(종합2보)', 'https://news.naver.com/main/read.nhn?mode=LSD&mid=shm&sid1=100&oid=001&aid=0012435504'), (datetime.datetime(2021, 6, 3, 15, 21, 30, 17376), '정부 \"대구시 주선 화이자 백신 진위 의심…구매 안 해\"', 'https://news.naver.com/main/read.nhn?mode=LSD&mid=shm&sid1=100&oid=055&aid=0000898374'), (datetime.datetime(2021, 6, 3, 15, 21, 30, 17376), '尹측 “무리한 가족 수사 1년 3개월 째, 정치인들 언행 도 넘어”', 'https://news.naver.com/main/read.nhn?mode=LSD&mid=shm&sid1=102&oid=023&aid=0003617946'), (datetime.datetime(2021, 6, 3, 15, 21, 30, 17376), '백신 접종 완료한 뒤 돌파감염 5건 추가 발생…누적 9건', 'https://news.naver.com/main/read.nhn?mode=LSD&mid=shm&sid1=102&oid=015&aid=0004556754')]\n",
      "200\n",
      "[(datetime.datetime(2021, 6, 3, 15, 21, 30, 153150), '이용구 \"1000만원, 영상 삭제 대가 아니다\"', 'https://news.naver.com/main/read.nhn?mode=LSD&mid=shm&sid1=102&oid=448&aid=0000329966'), (datetime.datetime(2021, 6, 3, 15, 21, 30, 153150), '문대통령, 女부사관 사건 엄정수사 지시…\"최상급자까지\"(종합2보)', 'https://news.naver.com/main/read.nhn?mode=LSD&mid=shm&sid1=100&oid=001&aid=0012435504'), (datetime.datetime(2021, 6, 3, 15, 21, 30, 154152), '정부 \"대구시 주선 화이자 백신 진위 의심…구매 안 해\"', 'https://news.naver.com/main/read.nhn?mode=LSD&mid=shm&sid1=100&oid=055&aid=0000898374'), (datetime.datetime(2021, 6, 3, 15, 21, 30, 154152), '尹측 “무리한 가족 수사 1년 3개월 째, 정치인들 언행 도 넘어”', 'https://news.naver.com/main/read.nhn?mode=LSD&mid=shm&sid1=102&oid=023&aid=0003617946'), (datetime.datetime(2021, 6, 3, 15, 21, 30, 154152), '백신 접종 완료한 뒤 돌파감염 5건 추가 발생…누적 9건', 'https://news.naver.com/main/read.nhn?mode=LSD&mid=shm&sid1=102&oid=015&aid=0004556754')]\n",
      "200\n",
      "[(datetime.datetime(2021, 6, 3, 15, 21, 30, 362689), '이용구 \"1000만원, 영상 삭제 대가 아니다\"', 'https://news.naver.com/main/read.nhn?mode=LSD&mid=shm&sid1=102&oid=448&aid=0000329966'), (datetime.datetime(2021, 6, 3, 15, 21, 30, 362689), '문대통령, 女부사관 사건 엄정수사 지시…\"최상급자까지\"(종합2보)', 'https://news.naver.com/main/read.nhn?mode=LSD&mid=shm&sid1=100&oid=001&aid=0012435504'), (datetime.datetime(2021, 6, 3, 15, 21, 30, 363689), '정부 \"대구시 주선 화이자 백신 진위 의심…구매 안 해\"', 'https://news.naver.com/main/read.nhn?mode=LSD&mid=shm&sid1=100&oid=055&aid=0000898374'), (datetime.datetime(2021, 6, 3, 15, 21, 30, 363689), '尹측 “무리한 가족 수사 1년 3개월 째, 정치인들 언행 도 넘어”', 'https://news.naver.com/main/read.nhn?mode=LSD&mid=shm&sid1=102&oid=023&aid=0003617946'), (datetime.datetime(2021, 6, 3, 15, 21, 30, 363689), '백신 접종 완료한 뒤 돌파감염 5건 추가 발생…누적 9건', 'https://news.naver.com/main/read.nhn?mode=LSD&mid=shm&sid1=102&oid=015&aid=0004556754')]\n",
      "200\n",
      "[(datetime.datetime(2021, 6, 3, 15, 21, 35, 567660), '비 내리며 더위 주춤...곳곳 돌풍·벼락 동반[날씨]', 'https://news.naver.com/main/read.nhn?mode=LSD&mid=shm&sid1=103&oid=052&aid=0001596353'), (datetime.datetime(2021, 6, 3, 15, 21, 35, 567660), 'SK㈜, 美 청록수소 기업 투자… 수소사업 확장 가속화', 'https://news.naver.com/main/read.nhn?mode=LSD&mid=shm&sid1=101&oid=366&aid=0000727335'), (datetime.datetime(2021, 6, 3, 15, 21, 35, 567660), '수학 공통과목 난도 높아...\"문과생 불리할 듯\"[6월 모의평가]', 'https://news.naver.com/main/read.nhn?mode=LSD&mid=shm&sid1=102&oid=011&aid=0003918635'), (datetime.datetime(2021, 6, 3, 15, 21, 35, 567660), '백혜련 \"日 도쿄올림픽 독도 표기, 명백한 영유권 침해\"', 'https://news.naver.com/main/read.nhn?mode=LSD&mid=shm&sid1=100&oid=421&aid=0005390594'), (datetime.datetime(2021, 6, 3, 15, 21, 35, 567660), '배우 하정우, 프로포폴 벌금형에 \"안일했다. 더 신중히\"', 'https://news.naver.com/main/read.nhn?mode=LSD&mid=shm&sid1=102&oid=014&aid=0004650718')]\n",
      "200\n",
      "[(datetime.datetime(2021, 6, 3, 15, 21, 35, 711186), '비 내리며 더위 주춤...곳곳 돌풍·벼락 동반[날씨]', 'https://news.naver.com/main/read.nhn?mode=LSD&mid=shm&sid1=103&oid=052&aid=0001596353'), (datetime.datetime(2021, 6, 3, 15, 21, 35, 711186), 'SK㈜, 美 청록수소 기업 투자… 수소사업 확장 가속화', 'https://news.naver.com/main/read.nhn?mode=LSD&mid=shm&sid1=101&oid=366&aid=0000727335'), (datetime.datetime(2021, 6, 3, 15, 21, 35, 711186), '수학 공통과목 난도 높아...\"문과생 불리할 듯\"[6월 모의평가]', 'https://news.naver.com/main/read.nhn?mode=LSD&mid=shm&sid1=102&oid=011&aid=0003918635'), (datetime.datetime(2021, 6, 3, 15, 21, 35, 711186), '백혜련 \"日 도쿄올림픽 독도 표기, 명백한 영유권 침해\"', 'https://news.naver.com/main/read.nhn?mode=LSD&mid=shm&sid1=100&oid=421&aid=0005390594'), (datetime.datetime(2021, 6, 3, 15, 21, 35, 711186), '배우 하정우, 프로포폴 벌금형에 \"안일했다. 더 신중히\"', 'https://news.naver.com/main/read.nhn?mode=LSD&mid=shm&sid1=102&oid=014&aid=0004650718')]\n",
      "200\n",
      "[(datetime.datetime(2021, 6, 3, 15, 21, 40, 923835), '文대통령, 與 초선들 만나 \"역동성 살려 민주당 선도하길\"', 'https://news.naver.com/main/read.nhn?mode=LSD&mid=shm&sid1=100&oid=003&aid=0010532061'), (datetime.datetime(2021, 6, 3, 15, 21, 40, 923835), \"국회의원 132명 '도쿄올림픽 지도 독도 삭제' 규탄결의안 발의\", 'https://news.naver.com/main/read.nhn?mode=LSD&mid=shm&sid1=100&oid=011&aid=0003918697'), (datetime.datetime(2021, 6, 3, 15, 21, 40, 923835), '[속보] 이용구 \"1000만원은 합의금…영상 삭제 대가 아니다\"', 'https://news.naver.com/main/read.nhn?mode=LSD&mid=shm&sid1=102&oid=029&aid=0002677991'), (datetime.datetime(2021, 6, 3, 15, 21, 40, 923835), '코로나로 식어버린 성장엔진, 작년 기업 매출 ‘역대 최악’…3곳 중 1곳은 이자도 못낸다', 'https://news.naver.com/main/read.nhn?mode=LSD&mid=shm&sid1=101&oid=025&aid=0003106813'), (datetime.datetime(2021, 6, 3, 15, 21, 40, 923835), '문 대통령, ‘공군 성폭력 피해자 사망’ 엄정 처리 지시', 'https://news.naver.com/main/read.nhn?mode=LSD&mid=shm&sid1=100&oid=056&aid=0011056584')]\n",
      "200\n",
      "[(datetime.datetime(2021, 6, 3, 15, 21, 41, 52900), '文대통령, 與 초선들 만나 \"역동성 살려 민주당 선도하길\"', 'https://news.naver.com/main/read.nhn?mode=LSD&mid=shm&sid1=100&oid=003&aid=0010532061'), (datetime.datetime(2021, 6, 3, 15, 21, 41, 53899), \"국회의원 132명 '도쿄올림픽 지도 독도 삭제' 규탄결의안 발의\", 'https://news.naver.com/main/read.nhn?mode=LSD&mid=shm&sid1=100&oid=011&aid=0003918697'), (datetime.datetime(2021, 6, 3, 15, 21, 41, 53899), '[속보] 이용구 \"1000만원은 합의금…영상 삭제 대가 아니다\"', 'https://news.naver.com/main/read.nhn?mode=LSD&mid=shm&sid1=102&oid=029&aid=0002677991'), (datetime.datetime(2021, 6, 3, 15, 21, 41, 53899), '코로나로 식어버린 성장엔진, 작년 기업 매출 ‘역대 최악’…3곳 중 1곳은 이자도 못낸다', 'https://news.naver.com/main/read.nhn?mode=LSD&mid=shm&sid1=101&oid=025&aid=0003106813'), (datetime.datetime(2021, 6, 3, 15, 21, 41, 53899), '문 대통령, ‘공군 성폭력 피해자 사망’ 엄정 처리 지시', 'https://news.naver.com/main/read.nhn?mode=LSD&mid=shm&sid1=100&oid=056&aid=0011056584')]\n"
     ]
    },
    {
     "name": "stdout",
     "output_type": "stream",
     "text": [
      "200\n",
      "[(datetime.datetime(2021, 6, 3, 15, 21, 41, 189182), '文대통령, 與 초선들 만나 \"역동성 살려 민주당 선도하길\"', 'https://news.naver.com/main/read.nhn?mode=LSD&mid=shm&sid1=100&oid=003&aid=0010532061'), (datetime.datetime(2021, 6, 3, 15, 21, 41, 189182), \"국회의원 132명 '도쿄올림픽 지도 독도 삭제' 규탄결의안 발의\", 'https://news.naver.com/main/read.nhn?mode=LSD&mid=shm&sid1=100&oid=011&aid=0003918697'), (datetime.datetime(2021, 6, 3, 15, 21, 41, 189182), '[속보] 이용구 \"1000만원은 합의금…영상 삭제 대가 아니다\"', 'https://news.naver.com/main/read.nhn?mode=LSD&mid=shm&sid1=102&oid=029&aid=0002677991'), (datetime.datetime(2021, 6, 3, 15, 21, 41, 189182), '코로나로 식어버린 성장엔진, 작년 기업 매출 ‘역대 최악’…3곳 중 1곳은 이자도 못낸다', 'https://news.naver.com/main/read.nhn?mode=LSD&mid=shm&sid1=101&oid=025&aid=0003106813'), (datetime.datetime(2021, 6, 3, 15, 21, 41, 189182), '문 대통령, ‘공군 성폭력 피해자 사망’ 엄정 처리 지시', 'https://news.naver.com/main/read.nhn?mode=LSD&mid=shm&sid1=100&oid=056&aid=0011056584')]\n",
      "200\n",
      "[(datetime.datetime(2021, 6, 3, 15, 21, 41, 345970), '文대통령, 與 초선들 만나 \"역동성 살려 민주당 선도하길\"', 'https://news.naver.com/main/read.nhn?mode=LSD&mid=shm&sid1=100&oid=003&aid=0010532061'), (datetime.datetime(2021, 6, 3, 15, 21, 41, 345970), \"국회의원 132명 '도쿄올림픽 지도 독도 삭제' 규탄결의안 발의\", 'https://news.naver.com/main/read.nhn?mode=LSD&mid=shm&sid1=100&oid=011&aid=0003918697'), (datetime.datetime(2021, 6, 3, 15, 21, 41, 345970), '[속보] 이용구 \"1000만원은 합의금…영상 삭제 대가 아니다\"', 'https://news.naver.com/main/read.nhn?mode=LSD&mid=shm&sid1=102&oid=029&aid=0002677991'), (datetime.datetime(2021, 6, 3, 15, 21, 41, 345970), '코로나로 식어버린 성장엔진, 작년 기업 매출 ‘역대 최악’…3곳 중 1곳은 이자도 못낸다', 'https://news.naver.com/main/read.nhn?mode=LSD&mid=shm&sid1=101&oid=025&aid=0003106813'), (datetime.datetime(2021, 6, 3, 15, 21, 41, 345970), '문 대통령, ‘공군 성폭력 피해자 사망’ 엄정 처리 지시', 'https://news.naver.com/main/read.nhn?mode=LSD&mid=shm&sid1=100&oid=056&aid=0011056584')]\n",
      "200\n",
      "[(datetime.datetime(2021, 6, 3, 15, 21, 46, 606496), '문 대통령 \"공군 성폭력 사건 가슴 아프다…엄정 처리\"', 'https://news.naver.com/main/read.nhn?mode=LSD&mid=shm&sid1=100&oid=055&aid=0000898362'), (datetime.datetime(2021, 6, 3, 15, 21, 46, 607496), '이용구 \"공수처장 후보 거론돼 합의금 1천만 원 줬다\"', 'https://news.naver.com/main/read.nhn?mode=LSD&mid=shm&sid1=102&oid=079&aid=0003511408'), (datetime.datetime(2021, 6, 3, 15, 21, 46, 607496), '국내 접종완료자 104만명 중 돌파감염 9명…\"외국보다 드물어\"', 'https://news.naver.com/main/read.nhn?mode=LSD&mid=shm&sid1=102&oid=003&aid=0010532096'), (datetime.datetime(2021, 6, 3, 15, 21, 46, 607496), '정부 “대구시 주선 화이자, 도입 않기로”…화이자 “고발 검토”', 'https://news.naver.com/main/read.nhn?mode=LSD&mid=shm&sid1=102&oid=449&aid=0000209722'), (datetime.datetime(2021, 6, 3, 15, 21, 46, 607496), \"기업 34.5% 영업익으로 이자도 못내…작년 부실기업 비중 '사상 최대'\", 'https://news.naver.com/main/read.nhn?mode=LSD&mid=shm&sid1=101&oid=421&aid=0005391187')]\n",
      "200\n",
      "[(datetime.datetime(2021, 6, 3, 15, 21, 46, 835916), '문 대통령 \"공군 성폭력 사건 가슴 아프다…엄정 처리\"', 'https://news.naver.com/main/read.nhn?mode=LSD&mid=shm&sid1=100&oid=055&aid=0000898362'), (datetime.datetime(2021, 6, 3, 15, 21, 46, 835916), '이용구 \"공수처장 후보 거론돼 합의금 1천만 원 줬다\"', 'https://news.naver.com/main/read.nhn?mode=LSD&mid=shm&sid1=102&oid=079&aid=0003511408'), (datetime.datetime(2021, 6, 3, 15, 21, 46, 835916), '국내 접종완료자 104만명 중 돌파감염 9명…\"외국보다 드물어\"', 'https://news.naver.com/main/read.nhn?mode=LSD&mid=shm&sid1=102&oid=003&aid=0010532096'), (datetime.datetime(2021, 6, 3, 15, 21, 46, 835916), '정부 “대구시 주선 화이자, 도입 않기로”…화이자 “고발 검토”', 'https://news.naver.com/main/read.nhn?mode=LSD&mid=shm&sid1=102&oid=449&aid=0000209722'), (datetime.datetime(2021, 6, 3, 15, 21, 46, 836916), \"기업 34.5% 영업익으로 이자도 못내…작년 부실기업 비중 '사상 최대'\", 'https://news.naver.com/main/read.nhn?mode=LSD&mid=shm&sid1=101&oid=421&aid=0005391187')]\n",
      "200\n",
      "[(datetime.datetime(2021, 6, 3, 15, 21, 52, 63319), '[영상]대구 주선 화이자 구매 안한다···권영진 시장 사과 청원', 'https://news.naver.com/main/read.nhn?mode=LSD&mid=shm&sid1=102&oid=079&aid=0003511620'), (datetime.datetime(2021, 6, 3, 15, 21, 52, 63319), '이용구, 허위진술 요구 의혹…\"특가법일수도\" 알았나', 'https://news.naver.com/main/read.nhn?mode=LSD&mid=shm&sid1=102&oid=003&aid=0010531939'), (datetime.datetime(2021, 6, 3, 15, 21, 52, 64320), 'SK㈜, 세계 최초 청록수소 생산 회사 투자…수소사업 확장 가속화', 'https://news.naver.com/main/read.nhn?mode=LSD&mid=shm&sid1=101&oid=018&aid=0004946378'), (datetime.datetime(2021, 6, 3, 15, 21, 52, 64320), '文대통령, \\'극단 선택\\' 女중사 사건에 \"가슴 아파\"···유족 측 \"성추행 피해 더 있어\"', 'https://news.naver.com/main/read.nhn?mode=LSD&mid=shm&sid1=102&oid=011&aid=0003918657'), (datetime.datetime(2021, 6, 3, 15, 21, 52, 64320), '문대통령 \"부사관 성폭력 사건 가슴아파…범행 엄정히 처리하라\"', 'https://news.naver.com/main/read.nhn?mode=LSD&mid=shm&sid1=100&oid=029&aid=0002678041')]\n",
      "200\n",
      "[(datetime.datetime(2021, 6, 3, 15, 21, 52, 250285), '[영상]대구 주선 화이자 구매 안한다···권영진 시장 사과 청원', 'https://news.naver.com/main/read.nhn?mode=LSD&mid=shm&sid1=102&oid=079&aid=0003511620'), (datetime.datetime(2021, 6, 3, 15, 21, 52, 250285), '이용구, 허위진술 요구 의혹…\"특가법일수도\" 알았나', 'https://news.naver.com/main/read.nhn?mode=LSD&mid=shm&sid1=102&oid=003&aid=0010531939'), (datetime.datetime(2021, 6, 3, 15, 21, 52, 250285), 'SK㈜, 세계 최초 청록수소 생산 회사 투자…수소사업 확장 가속화', 'https://news.naver.com/main/read.nhn?mode=LSD&mid=shm&sid1=101&oid=018&aid=0004946378'), (datetime.datetime(2021, 6, 3, 15, 21, 52, 250285), '文대통령, \\'극단 선택\\' 女중사 사건에 \"가슴 아파\"···유족 측 \"성추행 피해 더 있어\"', 'https://news.naver.com/main/read.nhn?mode=LSD&mid=shm&sid1=102&oid=011&aid=0003918657'), (datetime.datetime(2021, 6, 3, 15, 21, 52, 251287), '문대통령 \"부사관 성폭력 사건 가슴아파…범행 엄정히 처리하라\"', 'https://news.naver.com/main/read.nhn?mode=LSD&mid=shm&sid1=100&oid=029&aid=0002678041')]\n",
      "200\n",
      "[(datetime.datetime(2021, 6, 3, 15, 21, 52, 389556), '[영상]대구 주선 화이자 구매 안한다···권영진 시장 사과 청원', 'https://news.naver.com/main/read.nhn?mode=LSD&mid=shm&sid1=102&oid=079&aid=0003511620'), (datetime.datetime(2021, 6, 3, 15, 21, 52, 389556), '이용구, 허위진술 요구 의혹…\"특가법일수도\" 알았나', 'https://news.naver.com/main/read.nhn?mode=LSD&mid=shm&sid1=102&oid=003&aid=0010531939'), (datetime.datetime(2021, 6, 3, 15, 21, 52, 389556), 'SK㈜, 세계 최초 청록수소 생산 회사 투자…수소사업 확장 가속화', 'https://news.naver.com/main/read.nhn?mode=LSD&mid=shm&sid1=101&oid=018&aid=0004946378'), (datetime.datetime(2021, 6, 3, 15, 21, 52, 389556), '文대통령, \\'극단 선택\\' 女중사 사건에 \"가슴 아파\"···유족 측 \"성추행 피해 더 있어\"', 'https://news.naver.com/main/read.nhn?mode=LSD&mid=shm&sid1=102&oid=011&aid=0003918657'), (datetime.datetime(2021, 6, 3, 15, 21, 52, 389556), '문대통령 \"부사관 성폭력 사건 가슴아파…범행 엄정히 처리하라\"', 'https://news.naver.com/main/read.nhn?mode=LSD&mid=shm&sid1=100&oid=029&aid=0002678041')]\n",
      "200\n",
      "[(datetime.datetime(2021, 6, 3, 15, 21, 52, 539740), '백혜련 \"日 도쿄올림픽 독도 표기, 명백한 영유권 침해\"', 'https://news.naver.com/main/read.nhn?mode=LSD&mid=shm&sid1=100&oid=421&aid=0005390594'), (datetime.datetime(2021, 6, 3, 15, 21, 52, 539740), '文 \"성추행 피해 부사관의 절망, 가슴 아파… 엄정 수사·조치하라\"', 'https://news.naver.com/main/read.nhn?mode=LSD&mid=shm&sid1=100&oid=469&aid=0000608514'), (datetime.datetime(2021, 6, 3, 15, 21, 52, 539740), '尹 측, 송영길에 \"도 넘은 언행…사법제도에 대한 예의 아냐\"', 'https://news.naver.com/main/read.nhn?mode=LSD&mid=shm&sid1=100&oid=055&aid=0000898331'), (datetime.datetime(2021, 6, 3, 15, 21, 52, 539740), \"'수소사업 속도' SK, 세계 첫 청록수소 생산기업에 투자\", 'https://news.naver.com/main/read.nhn?mode=LSD&mid=shm&sid1=101&oid=015&aid=0004556725'), (datetime.datetime(2021, 6, 3, 15, 21, 52, 540738), '문대통령 \"내부단합·외연확장할 때 지지 만들어져\"(종합)', 'https://news.naver.com/main/read.nhn?mode=LSD&mid=shm&sid1=100&oid=001&aid=0012435841')]\n",
      "200\n",
      "[(datetime.datetime(2021, 6, 3, 15, 21, 57, 775781), '작년 기업 10곳 중 3곳, 영업 이익으로 대출 이자도 못 내', 'https://news.naver.com/main/read.nhn?mode=LSD&mid=shm&sid1=101&oid=028&aid=0002547037'), (datetime.datetime(2021, 6, 3, 15, 21, 57, 775781), \"6월 모평 수학 '공통과목' 난이도 높아…선택과목은 평이\", 'https://news.naver.com/main/read.nhn?mode=LSD&mid=shm&sid1=102&oid=277&aid=0004914101'), (datetime.datetime(2021, 6, 3, 15, 21, 57, 776779), '전국 대부분에 비…더위는 한풀 꺾여', 'https://news.naver.com/main/read.nhn?mode=LSD&mid=shm&sid1=102&oid=018&aid=0004946534'), (datetime.datetime(2021, 6, 3, 15, 21, 57, 776779), '“도쿄올림픽 독도표기 국제법 위반, 역사퇴행”…민주당 132명,  규탄 결의안 발의', 'https://news.naver.com/main/read.nhn?mode=LSD&mid=shm&sid1=100&oid=029&aid=0002678021'), (datetime.datetime(2021, 6, 3, 15, 21, 57, 776779), '\\'뜨거운 감자\\' 공매도…금융위 \"원활하게 안착했다\"', 'https://news.naver.com/main/read.nhn?mode=LSD&mid=shm&sid1=101&oid=008&aid=0004596729')]\n",
      "200\n"
     ]
    },
    {
     "name": "stdout",
     "output_type": "stream",
     "text": [
      "[(datetime.datetime(2021, 6, 3, 15, 21, 57, 917827), '작년 기업 10곳 중 3곳, 영업 이익으로 대출 이자도 못 내', 'https://news.naver.com/main/read.nhn?mode=LSD&mid=shm&sid1=101&oid=028&aid=0002547037'), (datetime.datetime(2021, 6, 3, 15, 21, 57, 918827), \"6월 모평 수학 '공통과목' 난이도 높아…선택과목은 평이\", 'https://news.naver.com/main/read.nhn?mode=LSD&mid=shm&sid1=102&oid=277&aid=0004914101'), (datetime.datetime(2021, 6, 3, 15, 21, 57, 918827), '전국 대부분에 비…더위는 한풀 꺾여', 'https://news.naver.com/main/read.nhn?mode=LSD&mid=shm&sid1=102&oid=018&aid=0004946534'), (datetime.datetime(2021, 6, 3, 15, 21, 57, 918827), '“도쿄올림픽 독도표기 국제법 위반, 역사퇴행”…민주당 132명,  규탄 결의안 발의', 'https://news.naver.com/main/read.nhn?mode=LSD&mid=shm&sid1=100&oid=029&aid=0002678021'), (datetime.datetime(2021, 6, 3, 15, 21, 57, 918827), '\\'뜨거운 감자\\' 공매도…금융위 \"원활하게 안착했다\"', 'https://news.naver.com/main/read.nhn?mode=LSD&mid=shm&sid1=101&oid=008&aid=0004596729')]\n",
      "200\n",
      "[(datetime.datetime(2021, 6, 3, 15, 22, 3, 151630), '韓 IOC 위원 만난 정세균…“독도 표기, 결코 양보할 수 없어”', 'https://news.naver.com/main/read.nhn?mode=LSD&mid=shm&sid1=100&oid=016&aid=0001843839'), (datetime.datetime(2021, 6, 3, 15, 22, 3, 151630), '입시업계 \"6월 모의평가 국어 \\'독서\\' 어려워…\\'킬러\\'는 PCR 17번\"', 'https://news.naver.com/main/read.nhn?mode=LSD&mid=shm&sid1=102&oid=003&aid=0010531674'), (datetime.datetime(2021, 6, 3, 15, 22, 3, 151630), '[영상]당국 \"대구시 주선 화이자, 공식 유통 아냐…도입 않기로\"', 'https://news.naver.com/main/read.nhn?mode=LSD&mid=shm&sid1=102&oid=079&aid=0003511545'), (datetime.datetime(2021, 6, 3, 15, 22, 3, 152630), '文 \"성추행 피해 부사관의 절망, 가슴 아파… 엄정 수사·조치하라\"', 'https://news.naver.com/main/read.nhn?mode=LSD&mid=shm&sid1=100&oid=469&aid=0000608514'), (datetime.datetime(2021, 6, 3, 15, 22, 3, 152630), '대법 \"네이버 통유리 사옥, 태양반사광 생활 방해 인정돼\"', 'https://news.naver.com/main/read.nhn?mode=LSD&mid=shm&sid1=102&oid=011&aid=0003918547')]\n",
      "200\n",
      "[(datetime.datetime(2021, 6, 3, 15, 22, 3, 370098), '韓 IOC 위원 만난 정세균…“독도 표기, 결코 양보할 수 없어”', 'https://news.naver.com/main/read.nhn?mode=LSD&mid=shm&sid1=100&oid=016&aid=0001843839'), (datetime.datetime(2021, 6, 3, 15, 22, 3, 370098), '입시업계 \"6월 모의평가 국어 \\'독서\\' 어려워…\\'킬러\\'는 PCR 17번\"', 'https://news.naver.com/main/read.nhn?mode=LSD&mid=shm&sid1=102&oid=003&aid=0010531674'), (datetime.datetime(2021, 6, 3, 15, 22, 3, 370098), '[영상]당국 \"대구시 주선 화이자, 공식 유통 아냐…도입 않기로\"', 'https://news.naver.com/main/read.nhn?mode=LSD&mid=shm&sid1=102&oid=079&aid=0003511545'), (datetime.datetime(2021, 6, 3, 15, 22, 3, 370098), '文 \"성추행 피해 부사관의 절망, 가슴 아파… 엄정 수사·조치하라\"', 'https://news.naver.com/main/read.nhn?mode=LSD&mid=shm&sid1=100&oid=469&aid=0000608514'), (datetime.datetime(2021, 6, 3, 15, 22, 3, 370098), '대법 \"네이버 통유리 사옥, 태양반사광 생활 방해 인정돼\"', 'https://news.naver.com/main/read.nhn?mode=LSD&mid=shm&sid1=102&oid=011&aid=0003918547')]\n",
      "200\n",
      "[(datetime.datetime(2021, 6, 3, 15, 22, 3, 552233), '韓 IOC 위원 만난 정세균…“독도 표기, 결코 양보할 수 없어”', 'https://news.naver.com/main/read.nhn?mode=LSD&mid=shm&sid1=100&oid=016&aid=0001843839'), (datetime.datetime(2021, 6, 3, 15, 22, 3, 552233), '입시업계 \"6월 모의평가 국어 \\'독서\\' 어려워…\\'킬러\\'는 PCR 17번\"', 'https://news.naver.com/main/read.nhn?mode=LSD&mid=shm&sid1=102&oid=003&aid=0010531674'), (datetime.datetime(2021, 6, 3, 15, 22, 3, 552233), '[영상]당국 \"대구시 주선 화이자, 공식 유통 아냐…도입 않기로\"', 'https://news.naver.com/main/read.nhn?mode=LSD&mid=shm&sid1=102&oid=079&aid=0003511545'), (datetime.datetime(2021, 6, 3, 15, 22, 3, 552233), '文 \"성추행 피해 부사관의 절망, 가슴 아파… 엄정 수사·조치하라\"', 'https://news.naver.com/main/read.nhn?mode=LSD&mid=shm&sid1=100&oid=469&aid=0000608514'), (datetime.datetime(2021, 6, 3, 15, 22, 3, 552233), '대법 \"네이버 통유리 사옥, 태양반사광 생활 방해 인정돼\"', 'https://news.naver.com/main/read.nhn?mode=LSD&mid=shm&sid1=102&oid=011&aid=0003918547')]\n",
      "200\n",
      "[(datetime.datetime(2021, 6, 3, 15, 22, 3, 687295), '국민의힘 경북도당 “독도 일본 영토 표기 즉각 삭제하라”', 'https://news.naver.com/main/read.nhn?mode=LSD&mid=shm&sid1=102&oid=003&aid=0010532052'), (datetime.datetime(2021, 6, 3, 15, 22, 3, 687295), '‘이XX놈’ 이용구 영상 반년간 뭉갠 檢…“靑·이성윤도 뭉갰다”', 'https://news.naver.com/main/read.nhn?mode=LSD&mid=shm&sid1=102&oid=025&aid=0003106835'), (datetime.datetime(2021, 6, 3, 15, 22, 3, 687295), '경남도 기업 3곳 ‘수소전문기업’에 지정돼', 'https://news.naver.com/main/read.nhn?mode=LSD&mid=shm&sid1=102&oid=277&aid=0004913860'), (datetime.datetime(2021, 6, 3, 15, 22, 3, 687295), '\"2850% 폭등한 AMC처럼\"…한국판 \\'공매도 전쟁\\' 가능할까?', 'https://news.naver.com/main/read.nhn?mode=LSD&mid=shm&sid1=101&oid=015&aid=0004556640'), (datetime.datetime(2021, 6, 3, 15, 22, 3, 687295), '하정우, 프로포폴 불법투약 벌금형 “겸허한 마음으로 받아들인다”', 'https://news.naver.com/main/read.nhn?mode=LSD&mid=shm&sid1=102&oid=020&aid=0003361620')]\n",
      "200\n",
      "[(datetime.datetime(2021, 6, 3, 15, 22, 8, 884848), '일본 도쿄올림픽조직위원회의 규탄 기자회견', 'https://news.naver.com/main/read.nhn?mode=LSD&mid=shm&sid1=100&oid=015&aid=0004556534'), (datetime.datetime(2021, 6, 3, 15, 22, 8, 884848), '[속보] 文 대통령, 공군 부사관 성폭력 \\'엄정 처리\\' 지시…\"가슴이 아프다\"', 'https://news.naver.com/main/read.nhn?mode=LSD&mid=shm&sid1=100&oid=277&aid=0004913957'), (datetime.datetime(2021, 6, 3, 15, 22, 8, 884848), \"'동학·서학개미 생큐'…증권사 1분기 순익 3조 '사상 최대'\", 'https://news.naver.com/main/read.nhn?mode=LSD&mid=shm&sid1=101&oid=421&aid=0005391189'), (datetime.datetime(2021, 6, 3, 15, 22, 8, 884848), '공군 부사관 유족 측 \"부사관 3명 추가 고소…추가 피해 포함\"', 'https://news.naver.com/main/read.nhn?mode=LSD&mid=shm&sid1=102&oid=025&aid=0003106812'), (datetime.datetime(2021, 6, 3, 15, 22, 8, 884848), '정부 \"대구 주선 화이자 백신 \\'직구\\' 추진 안해\" (종합)', 'https://news.naver.com/main/read.nhn?mode=LSD&mid=shm&sid1=102&oid=011&aid=0003918587')]\n",
      "200\n",
      "[(datetime.datetime(2021, 6, 3, 15, 22, 9, 51305), '일본 도쿄올림픽조직위원회의 규탄 기자회견', 'https://news.naver.com/main/read.nhn?mode=LSD&mid=shm&sid1=100&oid=015&aid=0004556534'), (datetime.datetime(2021, 6, 3, 15, 22, 9, 51305), '[속보] 文 대통령, 공군 부사관 성폭력 \\'엄정 처리\\' 지시…\"가슴이 아프다\"', 'https://news.naver.com/main/read.nhn?mode=LSD&mid=shm&sid1=100&oid=277&aid=0004913957'), (datetime.datetime(2021, 6, 3, 15, 22, 9, 51305), \"'동학·서학개미 생큐'…증권사 1분기 순익 3조 '사상 최대'\", 'https://news.naver.com/main/read.nhn?mode=LSD&mid=shm&sid1=101&oid=421&aid=0005391189'), (datetime.datetime(2021, 6, 3, 15, 22, 9, 51305), '공군 부사관 유족 측 \"부사관 3명 추가 고소…추가 피해 포함\"', 'https://news.naver.com/main/read.nhn?mode=LSD&mid=shm&sid1=102&oid=025&aid=0003106812'), (datetime.datetime(2021, 6, 3, 15, 22, 9, 51305), '정부 \"대구 주선 화이자 백신 \\'직구\\' 추진 안해\" (종합)', 'https://news.naver.com/main/read.nhn?mode=LSD&mid=shm&sid1=102&oid=011&aid=0003918587')]\n",
      "200\n",
      "[(datetime.datetime(2021, 6, 3, 15, 22, 14, 277476), '대법 \"네이버 사옥 \\'빛반사 피해\\', 2심서 다시 판단하라\"', 'https://news.naver.com/main/read.nhn?mode=LSD&mid=shm&sid1=102&oid=018&aid=0004946369'), (datetime.datetime(2021, 6, 3, 15, 22, 14, 277476), '김해시 하이에어코리아(주), 수소전문기업 선정', 'https://news.naver.com/main/read.nhn?mode=LSD&mid=shm&sid1=102&oid=082&aid=0001095891'), (datetime.datetime(2021, 6, 3, 15, 22, 14, 277476), '공매도 재개 한달…금융당국 \"주가와 유의미한 관계 안 나타나\"', 'https://news.naver.com/main/read.nhn?mode=LSD&mid=shm&sid1=101&oid=001&aid=0012435681'), (datetime.datetime(2021, 6, 3, 15, 22, 14, 277476), '공군 부사관 유족 측 \"부사관 3명 추가 고소…추가 피해도 포함\"', 'https://news.naver.com/main/read.nhn?mode=LSD&mid=shm&sid1=100&oid=055&aid=0000898385'), (datetime.datetime(2021, 6, 3, 15, 22, 14, 277476), '與 초선 만난 文 \"경제 성과 있으나 국민 고통 마음 아프다\"', 'https://news.naver.com/main/read.nhn?mode=LSD&mid=shm&sid1=100&oid=025&aid=0003106825')]\n",
      "200\n",
      "[(datetime.datetime(2021, 6, 3, 15, 22, 14, 414383), '대법 \"네이버 사옥 \\'빛반사 피해\\', 2심서 다시 판단하라\"', 'https://news.naver.com/main/read.nhn?mode=LSD&mid=shm&sid1=102&oid=018&aid=0004946369'), (datetime.datetime(2021, 6, 3, 15, 22, 14, 414383), '김해시 하이에어코리아(주), 수소전문기업 선정', 'https://news.naver.com/main/read.nhn?mode=LSD&mid=shm&sid1=102&oid=082&aid=0001095891'), (datetime.datetime(2021, 6, 3, 15, 22, 14, 414383), '공매도 재개 한달…금융당국 \"주가와 유의미한 관계 안 나타나\"', 'https://news.naver.com/main/read.nhn?mode=LSD&mid=shm&sid1=101&oid=001&aid=0012435681'), (datetime.datetime(2021, 6, 3, 15, 22, 14, 414383), '공군 부사관 유족 측 \"부사관 3명 추가 고소…추가 피해도 포함\"', 'https://news.naver.com/main/read.nhn?mode=LSD&mid=shm&sid1=100&oid=055&aid=0000898385'), (datetime.datetime(2021, 6, 3, 15, 22, 14, 414383), '與 초선 만난 文 \"경제 성과 있으나 국민 고통 마음 아프다\"', 'https://news.naver.com/main/read.nhn?mode=LSD&mid=shm&sid1=100&oid=025&aid=0003106825')]\n",
      "200\n",
      "[(datetime.datetime(2021, 6, 3, 15, 22, 14, 552230), '女중사 유족 \"성추행 피해 최소 2차례 더 있다\"…고소장 제출(종합)', 'https://news.naver.com/main/read.nhn?mode=LSD&mid=shm&sid1=100&oid=001&aid=0012435542'), (datetime.datetime(2021, 6, 3, 15, 22, 14, 552230), '이용구 “합의금 줬지만, 영상 삭제 대가 아니야”', 'https://news.naver.com/main/read.nhn?mode=LSD&mid=shm&sid1=102&oid=056&aid=0011056441'), (datetime.datetime(2021, 6, 3, 15, 22, 14, 552230), '윤석열 측, \\'장모 의혹\\' 송영길 겨냥해 \"정치인들 언행 도 넘어\"', 'https://news.naver.com/main/read.nhn?mode=LSD&mid=shm&sid1=100&oid=469&aid=0000608521'), (datetime.datetime(2021, 6, 3, 15, 22, 14, 552230), '문대통령 만난 與 초선 의원들…간담회 브리핑[현장연결]', 'https://news.naver.com/main/read.nhn?mode=LSD&mid=shm&sid1=100&oid=422&aid=0000488190'), (datetime.datetime(2021, 6, 3, 15, 22, 14, 552230), '금융위 \"공매도 원활히 정착...주가와 상관관계 없어\"', 'https://news.naver.com/main/read.nhn?mode=LSD&mid=shm&sid1=101&oid=215&aid=0000962339')]\n"
     ]
    },
    {
     "name": "stdout",
     "output_type": "stream",
     "text": [
      "200\n",
      "[(datetime.datetime(2021, 6, 3, 15, 22, 14, 762689), '女중사 유족 \"성추행 피해 최소 2차례 더 있다\"…고소장 제출(종합)', 'https://news.naver.com/main/read.nhn?mode=LSD&mid=shm&sid1=100&oid=001&aid=0012435542'), (datetime.datetime(2021, 6, 3, 15, 22, 14, 762689), '이용구 “합의금 줬지만, 영상 삭제 대가 아니야”', 'https://news.naver.com/main/read.nhn?mode=LSD&mid=shm&sid1=102&oid=056&aid=0011056441'), (datetime.datetime(2021, 6, 3, 15, 22, 14, 762689), '윤석열 측, \\'장모 의혹\\' 송영길 겨냥해 \"정치인들 언행 도 넘어\"', 'https://news.naver.com/main/read.nhn?mode=LSD&mid=shm&sid1=100&oid=469&aid=0000608521'), (datetime.datetime(2021, 6, 3, 15, 22, 14, 763679), '문대통령 만난 與 초선 의원들…간담회 브리핑[현장연결]', 'https://news.naver.com/main/read.nhn?mode=LSD&mid=shm&sid1=100&oid=422&aid=0000488190'), (datetime.datetime(2021, 6, 3, 15, 22, 14, 763679), '금융위 \"공매도 원활히 정착...주가와 상관관계 없어\"', 'https://news.naver.com/main/read.nhn?mode=LSD&mid=shm&sid1=101&oid=215&aid=0000962339')]\n",
      "200\n",
      "[(datetime.datetime(2021, 6, 3, 15, 22, 19, 971908), '“하지마세요” 블랙박스 속 女부사관 절규 무시한 공군…수사심의위 열린다', 'https://news.naver.com/main/read.nhn?mode=LSD&mid=shm&sid1=102&oid=016&aid=0001843693'), (datetime.datetime(2021, 6, 3, 15, 22, 19, 971908), \"'수소사업 속도' SK, 세계 첫 청록수소 생산기업에 투자\", 'https://news.naver.com/main/read.nhn?mode=LSD&mid=shm&sid1=101&oid=015&aid=0004556725'), (datetime.datetime(2021, 6, 3, 15, 22, 19, 971908), '60~74세 등 예약률 77.7%…\"상반기 1300만+α 1차 접종\"(종합)', 'https://news.naver.com/main/read.nhn?mode=LSD&mid=shm&sid1=102&oid=003&aid=0010532118'), (datetime.datetime(2021, 6, 3, 15, 22, 19, 971908), '\"2850% 폭등한 AMC처럼\"…한국판 \\'공매도 전쟁\\' 가능할까?', 'https://news.naver.com/main/read.nhn?mode=LSD&mid=shm&sid1=101&oid=015&aid=0004556640'), (datetime.datetime(2021, 6, 3, 15, 22, 19, 971908), '벤처지주회사 자산요건 5천억→3백억…6천억이상 거래시 M&A신고', 'https://news.naver.com/main/read.nhn?mode=LSD&mid=shm&sid1=101&oid=421&aid=0005391201')]\n",
      "200\n",
      "[(datetime.datetime(2021, 6, 3, 15, 22, 20, 142674), '“하지마세요” 블랙박스 속 女부사관 절규 무시한 공군…수사심의위 열린다', 'https://news.naver.com/main/read.nhn?mode=LSD&mid=shm&sid1=102&oid=016&aid=0001843693'), (datetime.datetime(2021, 6, 3, 15, 22, 20, 142674), \"'수소사업 속도' SK, 세계 첫 청록수소 생산기업에 투자\", 'https://news.naver.com/main/read.nhn?mode=LSD&mid=shm&sid1=101&oid=015&aid=0004556725'), (datetime.datetime(2021, 6, 3, 15, 22, 20, 143674), '60~74세 등 예약률 77.7%…\"상반기 1300만+α 1차 접종\"(종합)', 'https://news.naver.com/main/read.nhn?mode=LSD&mid=shm&sid1=102&oid=003&aid=0010532118'), (datetime.datetime(2021, 6, 3, 15, 22, 20, 143674), '\"2850% 폭등한 AMC처럼\"…한국판 \\'공매도 전쟁\\' 가능할까?', 'https://news.naver.com/main/read.nhn?mode=LSD&mid=shm&sid1=101&oid=015&aid=0004556640'), (datetime.datetime(2021, 6, 3, 15, 22, 20, 143674), '벤처지주회사 자산요건 5천억→3백억…6천억이상 거래시 M&A신고', 'https://news.naver.com/main/read.nhn?mode=LSD&mid=shm&sid1=101&oid=421&aid=0005391201')]\n",
      "200\n",
      "[(datetime.datetime(2021, 6, 3, 15, 22, 25, 368239), \"'범LG家 3세' 아워홈 구본성, 보복운전으로 1심 집행유예\", 'https://news.naver.com/main/read.nhn?mode=LSD&mid=shm&sid1=102&oid=001&aid=0012435881'), (datetime.datetime(2021, 6, 3, 15, 22, 25, 368239), '文대통령 “초선의원들이 지지자들과 손 맞잡아달라”(상보)', 'https://news.naver.com/main/read.nhn?mode=LSD&mid=shm&sid1=100&oid=018&aid=0004946579'), (datetime.datetime(2021, 6, 3, 15, 22, 25, 369238), '이용구 \"택시기사, 억울하게 증거인멸죄로 입건돼 죄송\"', 'https://news.naver.com/main/read.nhn?mode=LSD&mid=shm&sid1=102&oid=055&aid=0000898333'), (datetime.datetime(2021, 6, 3, 15, 22, 25, 369238), '2000억 규모 상생지원안 내놨지만…삼성웰스토리 부당지원, 동의의결 실패', 'https://news.naver.com/main/read.nhn?mode=LSD&mid=shm&sid1=101&oid=016&aid=0001843835'), (datetime.datetime(2021, 6, 3, 15, 22, 25, 369238), '수소 핵심 기술 확보 박차...SK㈜, 청록수소 생산 美 업체 투자', 'https://news.naver.com/main/read.nhn?mode=LSD&mid=shm&sid1=101&oid=011&aid=0003918526')]\n",
      "200\n",
      "[(datetime.datetime(2021, 6, 3, 15, 22, 25, 535364), \"'범LG家 3세' 아워홈 구본성, 보복운전으로 1심 집행유예\", 'https://news.naver.com/main/read.nhn?mode=LSD&mid=shm&sid1=102&oid=001&aid=0012435881'), (datetime.datetime(2021, 6, 3, 15, 22, 25, 535364), '文대통령 “초선의원들이 지지자들과 손 맞잡아달라”(상보)', 'https://news.naver.com/main/read.nhn?mode=LSD&mid=shm&sid1=100&oid=018&aid=0004946579'), (datetime.datetime(2021, 6, 3, 15, 22, 25, 535364), '이용구 \"택시기사, 억울하게 증거인멸죄로 입건돼 죄송\"', 'https://news.naver.com/main/read.nhn?mode=LSD&mid=shm&sid1=102&oid=055&aid=0000898333'), (datetime.datetime(2021, 6, 3, 15, 22, 25, 535364), '2000억 규모 상생지원안 내놨지만…삼성웰스토리 부당지원, 동의의결 실패', 'https://news.naver.com/main/read.nhn?mode=LSD&mid=shm&sid1=101&oid=016&aid=0001843835'), (datetime.datetime(2021, 6, 3, 15, 22, 25, 535364), '수소 핵심 기술 확보 박차...SK㈜, 청록수소 생산 美 업체 투자', 'https://news.naver.com/main/read.nhn?mode=LSD&mid=shm&sid1=101&oid=011&aid=0003918526')]\n",
      "200\n",
      "[(datetime.datetime(2021, 6, 3, 15, 22, 25, 676541), \"국방부, 이재용도 요청했던 '수사심의위' 군검찰에 도입한다\", 'https://news.naver.com/main/read.nhn?mode=LSD&mid=shm&sid1=100&oid=015&aid=0004556541'), (datetime.datetime(2021, 6, 3, 15, 22, 25, 676541), '전국에 비…밤에 대부분 그쳐요[오후날씨 꿀팁]', 'https://news.naver.com/main/read.nhn?mode=LSD&mid=shm&sid1=103&oid=056&aid=0011056586'), (datetime.datetime(2021, 6, 3, 15, 22, 25, 677541), '입시업계 \"6월 모의평가 국어 \\'독서\\' 어려워…\\'킬러\\'는 PCR 17번\"', 'https://news.naver.com/main/read.nhn?mode=LSD&mid=shm&sid1=102&oid=003&aid=0010531674'), (datetime.datetime(2021, 6, 3, 15, 22, 25, 677541), '\"1천만 원은 합의금…영상 삭제 대가 아니야\"', 'https://news.naver.com/main/read.nhn?mode=LSD&mid=shm&sid1=102&oid=214&aid=0001122831'), (datetime.datetime(2021, 6, 3, 15, 22, 25, 677541), '대구시 연락한 무역사는 가짜?…화이자, 법적조치도 검토', 'https://news.naver.com/main/read.nhn?mode=LSD&mid=shm&sid1=101&oid=008&aid=0004596625')]\n",
      "200\n",
      "[(datetime.datetime(2021, 6, 3, 15, 22, 25, 878274), \"국방부, 이재용도 요청했던 '수사심의위' 군검찰에 도입한다\", 'https://news.naver.com/main/read.nhn?mode=LSD&mid=shm&sid1=100&oid=015&aid=0004556541'), (datetime.datetime(2021, 6, 3, 15, 22, 25, 878274), '전국에 비…밤에 대부분 그쳐요[오후날씨 꿀팁]', 'https://news.naver.com/main/read.nhn?mode=LSD&mid=shm&sid1=103&oid=056&aid=0011056586'), (datetime.datetime(2021, 6, 3, 15, 22, 25, 878274), '입시업계 \"6월 모의평가 국어 \\'독서\\' 어려워…\\'킬러\\'는 PCR 17번\"', 'https://news.naver.com/main/read.nhn?mode=LSD&mid=shm&sid1=102&oid=003&aid=0010531674'), (datetime.datetime(2021, 6, 3, 15, 22, 25, 878274), '\"1천만 원은 합의금…영상 삭제 대가 아니야\"', 'https://news.naver.com/main/read.nhn?mode=LSD&mid=shm&sid1=102&oid=214&aid=0001122831'), (datetime.datetime(2021, 6, 3, 15, 22, 25, 878274), '대구시 연락한 무역사는 가짜?…화이자, 법적조치도 검토', 'https://news.naver.com/main/read.nhn?mode=LSD&mid=shm&sid1=101&oid=008&aid=0004596625')]\n",
      "200\n",
      "[(datetime.datetime(2021, 6, 3, 15, 22, 31, 73676), '정세균 반일 마케팅에 올인…도쿄올림픽 불참 주도', 'https://news.naver.com/main/read.nhn?mode=LSD&mid=shm&sid1=100&oid=009&aid=0004803665'), (datetime.datetime(2021, 6, 3, 15, 22, 31, 73676), '이용구 vs 택시기사 \"거짓말, 상대가 먼저 제안\" 상반된 주장', 'https://news.naver.com/main/read.nhn?mode=LSD&mid=shm&sid1=102&oid=008&aid=0004596542'), (datetime.datetime(2021, 6, 3, 15, 22, 31, 74676), '복지부 \"대구시, 화이자 구매 협의? 사실 아냐\" 반박', 'https://news.naver.com/main/read.nhn?mode=LSD&mid=shm&sid1=102&oid=047&aid=0002315066'), (datetime.datetime(2021, 6, 3, 15, 22, 31, 74676), \"국방부, '부사관 성추행' 수사심의위원회 설치…군 사건 최초\", 'https://news.naver.com/main/read.nhn?mode=LSD&mid=shm&sid1=100&oid=001&aid=0012434901'), (datetime.datetime(2021, 6, 3, 15, 22, 31, 74676), \"기업 34.5% 영업익으로 이자도 못내…작년 부실기업 비중 '사상 최대'\", 'https://news.naver.com/main/read.nhn?mode=LSD&mid=shm&sid1=101&oid=421&aid=0005391187')]\n",
      "200\n",
      "[(datetime.datetime(2021, 6, 3, 15, 22, 31, 295674), '정세균 반일 마케팅에 올인…도쿄올림픽 불참 주도', 'https://news.naver.com/main/read.nhn?mode=LSD&mid=shm&sid1=100&oid=009&aid=0004803665'), (datetime.datetime(2021, 6, 3, 15, 22, 31, 295674), '이용구 vs 택시기사 \"거짓말, 상대가 먼저 제안\" 상반된 주장', 'https://news.naver.com/main/read.nhn?mode=LSD&mid=shm&sid1=102&oid=008&aid=0004596542'), (datetime.datetime(2021, 6, 3, 15, 22, 31, 295674), '복지부 \"대구시, 화이자 구매 협의? 사실 아냐\" 반박', 'https://news.naver.com/main/read.nhn?mode=LSD&mid=shm&sid1=102&oid=047&aid=0002315066'), (datetime.datetime(2021, 6, 3, 15, 22, 31, 295674), \"국방부, '부사관 성추행' 수사심의위원회 설치…군 사건 최초\", 'https://news.naver.com/main/read.nhn?mode=LSD&mid=shm&sid1=100&oid=001&aid=0012434901'), (datetime.datetime(2021, 6, 3, 15, 22, 31, 295674), \"기업 34.5% 영업익으로 이자도 못내…작년 부실기업 비중 '사상 최대'\", 'https://news.naver.com/main/read.nhn?mode=LSD&mid=shm&sid1=101&oid=421&aid=0005391187')]\n",
      "200\n",
      "[(datetime.datetime(2021, 6, 3, 15, 22, 36, 462449), '‘여 부사관 사망’ 성난 여론에…국방부, 부랴부랴 수사심의위원회 설치', 'https://news.naver.com/main/read.nhn?mode=LSD&mid=shm&sid1=100&oid=005&aid=0001444554'), (datetime.datetime(2021, 6, 3, 15, 22, 36, 462449), '‘이XX놈’ 이용구 영상 반년간 뭉갠 檢…“靑·이성윤도 뭉갰다”', 'https://news.naver.com/main/read.nhn?mode=LSD&mid=shm&sid1=102&oid=025&aid=0003106835'), (datetime.datetime(2021, 6, 3, 15, 22, 36, 462449), '화이자 백신 접종하는 어르신들', 'https://news.naver.com/main/read.nhn?mode=LSD&mid=shm&sid1=102&oid=421&aid=0005391556'), (datetime.datetime(2021, 6, 3, 15, 22, 36, 462449), '여당 초선들 만난 문 대통령 “경제 성과 있지만 국민 고통 마음 아프다”···초선들은 “재정 확대 요청”', 'https://news.naver.com/main/read.nhn?mode=LSD&mid=shm&sid1=100&oid=032&aid=0003077977'), (datetime.datetime(2021, 6, 3, 15, 22, 36, 462449), \"코로나로 기업 성장성 '직격탄'…작년 매출 3.2% 줄어 '역대 최저'\", 'https://news.naver.com/main/read.nhn?mode=LSD&mid=shm&sid1=101&oid=015&aid=0004556639')]\n",
      "200\n",
      "[(datetime.datetime(2021, 6, 3, 15, 22, 36, 603808), '\"대구에 화이자 백신 제안한 업체...플로리다 주소, 포르투갈 전화\"', 'https://news.naver.com/main/read.nhn?mode=LSD&mid=shm&sid1=102&oid=018&aid=0004946598'), (datetime.datetime(2021, 6, 3, 15, 22, 36, 603808), 'SK㈜, 세계 최초 청록수소 제조사 투자...수소사업 영토확장', 'https://news.naver.com/main/read.nhn?mode=LSD&mid=shm&sid1=101&oid=016&aid=0001843818'), (datetime.datetime(2021, 6, 3, 15, 22, 36, 603808), '文대통령 \"진보, 내부 단합하고 외연 확장할때 지지 만들어져\"', 'https://news.naver.com/main/read.nhn?mode=LSD&mid=shm&sid1=100&oid=016&aid=0001843882'), (datetime.datetime(2021, 6, 3, 15, 22, 36, 603808), '여당 초선들 만난 문 대통령 “경제 성과 있지만 국민 고통 마음 아프다”···초선들은 “재정 확대 요청”', 'https://news.naver.com/main/read.nhn?mode=LSD&mid=shm&sid1=100&oid=032&aid=0003077977'), (datetime.datetime(2021, 6, 3, 15, 22, 36, 604808), '軍 검찰 수사심의위 설치·운영...민간 전문가 참여', 'https://news.naver.com/main/read.nhn?mode=LSD&mid=shm&sid1=100&oid=052&aid=0001596318')]\n"
     ]
    },
    {
     "name": "stdout",
     "output_type": "stream",
     "text": [
      "200\n",
      "[(datetime.datetime(2021, 6, 3, 15, 22, 36, 751064), '\"대구에 화이자 백신 제안한 업체...플로리다 주소, 포르투갈 전화\"', 'https://news.naver.com/main/read.nhn?mode=LSD&mid=shm&sid1=102&oid=018&aid=0004946598'), (datetime.datetime(2021, 6, 3, 15, 22, 36, 751064), 'SK㈜, 세계 최초 청록수소 제조사 투자...수소사업 영토확장', 'https://news.naver.com/main/read.nhn?mode=LSD&mid=shm&sid1=101&oid=016&aid=0001843818'), (datetime.datetime(2021, 6, 3, 15, 22, 36, 751064), '文대통령 \"진보, 내부 단합하고 외연 확장할때 지지 만들어져\"', 'https://news.naver.com/main/read.nhn?mode=LSD&mid=shm&sid1=100&oid=016&aid=0001843882'), (datetime.datetime(2021, 6, 3, 15, 22, 36, 751064), '여당 초선들 만난 문 대통령 “경제 성과 있지만 국민 고통 마음 아프다”···초선들은 “재정 확대 요청”', 'https://news.naver.com/main/read.nhn?mode=LSD&mid=shm&sid1=100&oid=032&aid=0003077977'), (datetime.datetime(2021, 6, 3, 15, 22, 36, 751064), '軍 검찰 수사심의위 설치·운영...민간 전문가 참여', 'https://news.naver.com/main/read.nhn?mode=LSD&mid=shm&sid1=100&oid=052&aid=0001596318')]\n",
      "200\n",
      "[(datetime.datetime(2021, 6, 3, 15, 22, 36, 886660), '\"대구에 화이자 백신 제안한 업체...플로리다 주소, 포르투갈 전화\"', 'https://news.naver.com/main/read.nhn?mode=LSD&mid=shm&sid1=102&oid=018&aid=0004946598'), (datetime.datetime(2021, 6, 3, 15, 22, 36, 886660), 'SK㈜, 세계 최초 청록수소 제조사 투자...수소사업 영토확장', 'https://news.naver.com/main/read.nhn?mode=LSD&mid=shm&sid1=101&oid=016&aid=0001843818'), (datetime.datetime(2021, 6, 3, 15, 22, 36, 886660), '文대통령 \"진보, 내부 단합하고 외연 확장할때 지지 만들어져\"', 'https://news.naver.com/main/read.nhn?mode=LSD&mid=shm&sid1=100&oid=016&aid=0001843882'), (datetime.datetime(2021, 6, 3, 15, 22, 36, 886660), '여당 초선들 만난 문 대통령 “경제 성과 있지만 국민 고통 마음 아프다”···초선들은 “재정 확대 요청”', 'https://news.naver.com/main/read.nhn?mode=LSD&mid=shm&sid1=100&oid=032&aid=0003077977'), (datetime.datetime(2021, 6, 3, 15, 22, 36, 886660), '軍 검찰 수사심의위 설치·운영...민간 전문가 참여', 'https://news.naver.com/main/read.nhn?mode=LSD&mid=shm&sid1=100&oid=052&aid=0001596318')]\n",
      "200\n",
      "[(datetime.datetime(2021, 6, 3, 15, 22, 42, 90521), '이용구 “거짓 진술 요구는 사실…합의금은 영상 삭제 대가 아냐”', 'https://news.naver.com/main/read.nhn?mode=LSD&mid=shm&sid1=102&oid=056&aid=0011056577'), (datetime.datetime(2021, 6, 3, 15, 22, 42, 90521), \"'아워홈' 구본성 부회장, 보복운전으로 1심 집행유예\", 'https://news.naver.com/main/read.nhn?mode=LSD&mid=shm&sid1=102&oid=055&aid=0000898401'), (datetime.datetime(2021, 6, 3, 15, 22, 42, 91521), 'SK㈜, 美 모놀리스 투자...친환경 수소사업 확장', 'https://news.naver.com/main/read.nhn?mode=LSD&mid=shm&sid1=101&oid=030&aid=0002948592'), (datetime.datetime(2021, 6, 3, 15, 22, 42, 91521), '더불어민주당, “도쿄 올림픽 조직위 ‘독도 표기’ 규탄” 성명', 'https://news.naver.com/main/read.nhn?mode=LSD&mid=shm&sid1=100&oid=056&aid=0011056597'), (datetime.datetime(2021, 6, 3, 15, 22, 42, 91521), \"기업 원가정보 주고받아도 '담합'...롯데등 해외계열사 '공시 의무'\", 'https://news.naver.com/main/read.nhn?mode=LSD&mid=shm&sid1=101&oid=008&aid=0004596637')]\n",
      "200\n",
      "[(datetime.datetime(2021, 6, 3, 15, 22, 42, 252250), '이용구 “거짓 진술 요구는 사실…합의금은 영상 삭제 대가 아냐”', 'https://news.naver.com/main/read.nhn?mode=LSD&mid=shm&sid1=102&oid=056&aid=0011056577'), (datetime.datetime(2021, 6, 3, 15, 22, 42, 252250), \"'아워홈' 구본성 부회장, 보복운전으로 1심 집행유예\", 'https://news.naver.com/main/read.nhn?mode=LSD&mid=shm&sid1=102&oid=055&aid=0000898401'), (datetime.datetime(2021, 6, 3, 15, 22, 42, 252250), 'SK㈜, 美 모놀리스 투자...친환경 수소사업 확장', 'https://news.naver.com/main/read.nhn?mode=LSD&mid=shm&sid1=101&oid=030&aid=0002948592'), (datetime.datetime(2021, 6, 3, 15, 22, 42, 252250), '더불어민주당, “도쿄 올림픽 조직위 ‘독도 표기’ 규탄” 성명', 'https://news.naver.com/main/read.nhn?mode=LSD&mid=shm&sid1=100&oid=056&aid=0011056597'), (datetime.datetime(2021, 6, 3, 15, 22, 42, 252250), \"기업 원가정보 주고받아도 '담합'...롯데등 해외계열사 '공시 의무'\", 'https://news.naver.com/main/read.nhn?mode=LSD&mid=shm&sid1=101&oid=008&aid=0004596637')]\n",
      "200\n",
      "[(datetime.datetime(2021, 6, 3, 15, 22, 47, 479174), '전국 곳곳에 벼락·강풍 동반한 요란한 비...언제 그칠까[날씨]', 'https://news.naver.com/main/read.nhn?mode=LSD&mid=shm&sid1=103&oid=052&aid=0001596471'), (datetime.datetime(2021, 6, 3, 15, 22, 47, 479174), '“상반기 1300만명+α 백신 1차 접종’ 목표 충분히 달성 가능”', 'https://news.naver.com/main/read.nhn?mode=LSD&mid=shm&sid1=102&oid=032&aid=0003077970'), (datetime.datetime(2021, 6, 3, 15, 22, 47, 479174), \"국방부, 이재용도 요청했던 '수사심의위' 군검찰에 도입한다\", 'https://news.naver.com/main/read.nhn?mode=LSD&mid=shm&sid1=100&oid=015&aid=0004556541'), (datetime.datetime(2021, 6, 3, 15, 22, 47, 479174), '[영상]민주당 \"日올림픽조직위, 독도 영유권 침해…특단 조치 생각\"', 'https://news.naver.com/main/read.nhn?mode=LSD&mid=shm&sid1=100&oid=079&aid=0003511485'), (datetime.datetime(2021, 6, 3, 15, 22, 47, 479174), '\\'택시기사 폭행\\' 이용구 \"1000만 원은 합의금…영상 삭제 대가 아냐\"', 'https://news.naver.com/main/read.nhn?mode=LSD&mid=shm&sid1=102&oid=018&aid=0004946237')]\n",
      "200\n",
      "[(datetime.datetime(2021, 6, 3, 15, 22, 47, 639084), '이용구 “공수처장 후보로 거론됐기 때문에 합의금 지급… 택시기사께 사과”', 'https://news.naver.com/main/read.nhn?mode=LSD&mid=shm&sid1=102&oid=022&aid=0003587048'), (datetime.datetime(2021, 6, 3, 15, 22, 47, 639084), '\"상반기 \\'1천300만명+α\\' 1차접종 가능…70∼74세 예약률 80.7%\"', 'https://news.naver.com/main/read.nhn?mode=LSD&mid=shm&sid1=100&oid=001&aid=0012435460'), (datetime.datetime(2021, 6, 3, 15, 22, 47, 639084), 'SK㈜, 美 수소기업 모놀리스에 투자…청록수소 사업 진출', 'https://news.naver.com/main/read.nhn?mode=LSD&mid=shm&sid1=101&oid=025&aid=0003106829'), (datetime.datetime(2021, 6, 3, 15, 22, 47, 639084), \"코로나에 엇갈린 희비…지난해 기업, IT·의료 '웃고' 석유·운송 '울고'\", 'https://news.naver.com/main/read.nhn?mode=LSD&mid=shm&sid1=101&oid=031&aid=0000602275'), (datetime.datetime(2021, 6, 3, 15, 22, 47, 639084), '문대통령 \"국민 고통 마음아파\"…與초선 \"곳간 더 열어야\"', 'https://news.naver.com/main/read.nhn?mode=LSD&mid=shm&sid1=100&oid=422&aid=0000488200')]\n",
      "200\n",
      "[(datetime.datetime(2021, 6, 3, 15, 22, 47, 788776), '이용구 “공수처장 후보로 거론됐기 때문에 합의금 지급… 택시기사께 사과”', 'https://news.naver.com/main/read.nhn?mode=LSD&mid=shm&sid1=102&oid=022&aid=0003587048'), (datetime.datetime(2021, 6, 3, 15, 22, 47, 788776), '\"상반기 \\'1천300만명+α\\' 1차접종 가능…70∼74세 예약률 80.7%\"', 'https://news.naver.com/main/read.nhn?mode=LSD&mid=shm&sid1=100&oid=001&aid=0012435460'), (datetime.datetime(2021, 6, 3, 15, 22, 47, 788776), 'SK㈜, 美 수소기업 모놀리스에 투자…청록수소 사업 진출', 'https://news.naver.com/main/read.nhn?mode=LSD&mid=shm&sid1=101&oid=025&aid=0003106829'), (datetime.datetime(2021, 6, 3, 15, 22, 47, 789776), \"코로나에 엇갈린 희비…지난해 기업, IT·의료 '웃고' 석유·운송 '울고'\", 'https://news.naver.com/main/read.nhn?mode=LSD&mid=shm&sid1=101&oid=031&aid=0000602275'), (datetime.datetime(2021, 6, 3, 15, 22, 47, 789776), '문대통령 \"국민 고통 마음아파\"…與초선 \"곳간 더 열어야\"', 'https://news.naver.com/main/read.nhn?mode=LSD&mid=shm&sid1=100&oid=422&aid=0000488200')]\n",
      "200\n",
      "[(datetime.datetime(2021, 6, 3, 15, 22, 47, 932062), '이용구 “공수처장 후보로 거론됐기 때문에 합의금 지급… 택시기사께 사과”', 'https://news.naver.com/main/read.nhn?mode=LSD&mid=shm&sid1=102&oid=022&aid=0003587048'), (datetime.datetime(2021, 6, 3, 15, 22, 47, 932062), '\"상반기 \\'1천300만명+α\\' 1차접종 가능…70∼74세 예약률 80.7%\"', 'https://news.naver.com/main/read.nhn?mode=LSD&mid=shm&sid1=100&oid=001&aid=0012435460'), (datetime.datetime(2021, 6, 3, 15, 22, 47, 933048), 'SK㈜, 美 수소기업 모놀리스에 투자…청록수소 사업 진출', 'https://news.naver.com/main/read.nhn?mode=LSD&mid=shm&sid1=101&oid=025&aid=0003106829'), (datetime.datetime(2021, 6, 3, 15, 22, 47, 933048), \"코로나에 엇갈린 희비…지난해 기업, IT·의료 '웃고' 석유·운송 '울고'\", 'https://news.naver.com/main/read.nhn?mode=LSD&mid=shm&sid1=101&oid=031&aid=0000602275'), (datetime.datetime(2021, 6, 3, 15, 22, 47, 933048), '문대통령 \"국민 고통 마음아파\"…與초선 \"곳간 더 열어야\"', 'https://news.naver.com/main/read.nhn?mode=LSD&mid=shm&sid1=100&oid=422&aid=0000488200')]\n",
      "200\n",
      "[(datetime.datetime(2021, 6, 3, 15, 22, 53, 126776), '입시업계 \"6월 모의평가 국어 \\'독서\\' 어려워…\\'킬러\\'는 PCR 17번\"', 'https://news.naver.com/main/read.nhn?mode=LSD&mid=shm&sid1=102&oid=003&aid=0010531674'), (datetime.datetime(2021, 6, 3, 15, 22, 53, 126776), \"기업 34.5% 영업익으로 이자도 못내…작년 부실기업 비중 '사상 최대'\", 'https://news.naver.com/main/read.nhn?mode=LSD&mid=shm&sid1=101&oid=421&aid=0005391187'), (datetime.datetime(2021, 6, 3, 15, 22, 53, 126776), \"의원 132명, '日올림픽지도 독도 표기' 규탄결의 발의\", 'https://news.naver.com/main/read.nhn?mode=LSD&mid=shm&sid1=100&oid=001&aid=0012435652'), (datetime.datetime(2021, 6, 3, 15, 22, 53, 127776), \"국방부 '군검찰 수사심의위' 설치…부사관 사망 사건부터 적용\", 'https://news.naver.com/main/read.nhn?mode=LSD&mid=shm&sid1=100&oid=421&aid=0005391225'), (datetime.datetime(2021, 6, 3, 15, 22, 53, 127776), '이용구 택시 기사 폭행…‘블랙박스 영상’ 공개', 'https://news.naver.com/main/read.nhn?mode=LSD&mid=shm&sid1=115&oid=449&aid=0000209709')]\n",
      "200\n"
     ]
    },
    {
     "name": "stdout",
     "output_type": "stream",
     "text": [
      "[(datetime.datetime(2021, 6, 3, 15, 22, 53, 356031), '입시업계 \"6월 모의평가 국어 \\'독서\\' 어려워…\\'킬러\\'는 PCR 17번\"', 'https://news.naver.com/main/read.nhn?mode=LSD&mid=shm&sid1=102&oid=003&aid=0010531674'), (datetime.datetime(2021, 6, 3, 15, 22, 53, 356031), \"기업 34.5% 영업익으로 이자도 못내…작년 부실기업 비중 '사상 최대'\", 'https://news.naver.com/main/read.nhn?mode=LSD&mid=shm&sid1=101&oid=421&aid=0005391187'), (datetime.datetime(2021, 6, 3, 15, 22, 53, 356031), \"의원 132명, '日올림픽지도 독도 표기' 규탄결의 발의\", 'https://news.naver.com/main/read.nhn?mode=LSD&mid=shm&sid1=100&oid=001&aid=0012435652'), (datetime.datetime(2021, 6, 3, 15, 22, 53, 356031), \"국방부 '군검찰 수사심의위' 설치…부사관 사망 사건부터 적용\", 'https://news.naver.com/main/read.nhn?mode=LSD&mid=shm&sid1=100&oid=421&aid=0005391225'), (datetime.datetime(2021, 6, 3, 15, 22, 53, 357032), '이용구 택시 기사 폭행…‘블랙박스 영상’ 공개', 'https://news.naver.com/main/read.nhn?mode=LSD&mid=shm&sid1=115&oid=449&aid=0000209709')]\n",
      "200\n",
      "[(datetime.datetime(2021, 6, 3, 15, 22, 58, 545157), '日 도쿄올림픽 홈피에 \\'독도 표기\\'... 백혜련 \"영유권 침해, 삭제하라\"', 'https://news.naver.com/main/read.nhn?mode=LSD&mid=shm&sid1=100&oid=469&aid=0000608498'), (datetime.datetime(2021, 6, 3, 15, 22, 58, 546156), '극단 선택 女중사 유족, \"다른 상관도 성추행 했다\"', 'https://news.naver.com/main/read.nhn?mode=LSD&mid=shm&sid1=102&oid=215&aid=0000962290'), (datetime.datetime(2021, 6, 3, 15, 22, 58, 546156), \"국방부, 여성 부사관 성추행·사망 사건에 '군검찰 수사심의위' 설치\", 'https://news.naver.com/main/read.nhn?mode=LSD&mid=shm&sid1=100&oid=047&aid=0002315027'), (datetime.datetime(2021, 6, 3, 15, 22, 58, 546156), '정부 \"대구시 주선 화이자 백신 진위 의심…구매 안 해\"', 'https://news.naver.com/main/read.nhn?mode=LSD&mid=shm&sid1=100&oid=055&aid=0000898374'), (datetime.datetime(2021, 6, 3, 15, 22, 58, 546156), '윤석열 측 \"언행 도 넘었다\"…정세균·송영길·최강욱 싸잡아 비판', 'https://news.naver.com/main/read.nhn?mode=LSD&mid=shm&sid1=100&oid=016&aid=0001843813')]\n",
      "200\n",
      "[(datetime.datetime(2021, 6, 3, 15, 22, 58, 692146), '日 도쿄올림픽 홈피에 \\'독도 표기\\'... 백혜련 \"영유권 침해, 삭제하라\"', 'https://news.naver.com/main/read.nhn?mode=LSD&mid=shm&sid1=100&oid=469&aid=0000608498'), (datetime.datetime(2021, 6, 3, 15, 22, 58, 693156), '극단 선택 女중사 유족, \"다른 상관도 성추행 했다\"', 'https://news.naver.com/main/read.nhn?mode=LSD&mid=shm&sid1=102&oid=215&aid=0000962290'), (datetime.datetime(2021, 6, 3, 15, 22, 58, 693156), \"국방부, 여성 부사관 성추행·사망 사건에 '군검찰 수사심의위' 설치\", 'https://news.naver.com/main/read.nhn?mode=LSD&mid=shm&sid1=100&oid=047&aid=0002315027'), (datetime.datetime(2021, 6, 3, 15, 22, 58, 693156), '정부 \"대구시 주선 화이자 백신 진위 의심…구매 안 해\"', 'https://news.naver.com/main/read.nhn?mode=LSD&mid=shm&sid1=100&oid=055&aid=0000898374'), (datetime.datetime(2021, 6, 3, 15, 22, 58, 693156), '윤석열 측 \"언행 도 넘었다\"…정세균·송영길·최강욱 싸잡아 비판', 'https://news.naver.com/main/read.nhn?mode=LSD&mid=shm&sid1=100&oid=016&aid=0001843813')]\n",
      "200\n",
      "[(datetime.datetime(2021, 6, 3, 15, 22, 58, 925911), '日 도쿄올림픽 홈피에 \\'독도 표기\\'... 백혜련 \"영유권 침해, 삭제하라\"', 'https://news.naver.com/main/read.nhn?mode=LSD&mid=shm&sid1=100&oid=469&aid=0000608498'), (datetime.datetime(2021, 6, 3, 15, 22, 58, 926909), '극단 선택 女중사 유족, \"다른 상관도 성추행 했다\"', 'https://news.naver.com/main/read.nhn?mode=LSD&mid=shm&sid1=102&oid=215&aid=0000962290'), (datetime.datetime(2021, 6, 3, 15, 22, 58, 926909), \"국방부, 여성 부사관 성추행·사망 사건에 '군검찰 수사심의위' 설치\", 'https://news.naver.com/main/read.nhn?mode=LSD&mid=shm&sid1=100&oid=047&aid=0002315027'), (datetime.datetime(2021, 6, 3, 15, 22, 58, 926909), '정부 \"대구시 주선 화이자 백신 진위 의심…구매 안 해\"', 'https://news.naver.com/main/read.nhn?mode=LSD&mid=shm&sid1=100&oid=055&aid=0000898374'), (datetime.datetime(2021, 6, 3, 15, 22, 58, 926909), '윤석열 측 \"언행 도 넘었다\"…정세균·송영길·최강욱 싸잡아 비판', 'https://news.naver.com/main/read.nhn?mode=LSD&mid=shm&sid1=100&oid=016&aid=0001843813')]\n",
      "200\n",
      "[(datetime.datetime(2021, 6, 3, 15, 22, 59, 64836), '日 도쿄올림픽 홈피에 \\'독도 표기\\'... 백혜련 \"영유권 침해, 삭제하라\"', 'https://news.naver.com/main/read.nhn?mode=LSD&mid=shm&sid1=100&oid=469&aid=0000608498'), (datetime.datetime(2021, 6, 3, 15, 22, 59, 64836), '극단 선택 女중사 유족, \"다른 상관도 성추행 했다\"', 'https://news.naver.com/main/read.nhn?mode=LSD&mid=shm&sid1=102&oid=215&aid=0000962290'), (datetime.datetime(2021, 6, 3, 15, 22, 59, 64836), \"국방부, 여성 부사관 성추행·사망 사건에 '군검찰 수사심의위' 설치\", 'https://news.naver.com/main/read.nhn?mode=LSD&mid=shm&sid1=100&oid=047&aid=0002315027'), (datetime.datetime(2021, 6, 3, 15, 22, 59, 64836), '정부 \"대구시 주선 화이자 백신 진위 의심…구매 안 해\"', 'https://news.naver.com/main/read.nhn?mode=LSD&mid=shm&sid1=100&oid=055&aid=0000898374'), (datetime.datetime(2021, 6, 3, 15, 22, 59, 65836), '윤석열 측 \"언행 도 넘었다\"…정세균·송영길·최강욱 싸잡아 비판', 'https://news.naver.com/main/read.nhn?mode=LSD&mid=shm&sid1=100&oid=016&aid=0001843813')]\n",
      "200\n",
      "[(datetime.datetime(2021, 6, 3, 15, 23, 4, 246640), '주식시장 투자 수요 급증에, 증권사 1분기 순이익 3조 육박', 'https://news.naver.com/main/read.nhn?mode=LSD&mid=shm&sid1=101&oid=011&aid=0003918586'), (datetime.datetime(2021, 6, 3, 15, 23, 4, 246640), '국회의원 132명, 일본 올림픽 페이지 독도 표기 규탄 성명', 'https://news.naver.com/main/read.nhn?mode=LSD&mid=shm&sid1=100&oid=025&aid=0003106781'), (datetime.datetime(2021, 6, 3, 15, 23, 4, 246640), \"'아워홈' 구본성 부회장, 보복운전으로 1심 집행유예\", 'https://news.naver.com/main/read.nhn?mode=LSD&mid=shm&sid1=102&oid=055&aid=0000898401'), (datetime.datetime(2021, 6, 3, 15, 23, 4, 246640), '문 대통령, ‘공군 성폭력 피해자 사망사건’ 엄정 처리 강력 지시', 'https://news.naver.com/main/read.nhn?mode=LSD&mid=shm&sid1=100&oid=056&aid=0011056555'), (datetime.datetime(2021, 6, 3, 15, 23, 4, 246640), '대법 \"네이버, 인근 아파트 주민들에 \\'햇빛 반사광\\' 피해 배상해야\"', 'https://news.naver.com/main/read.nhn?mode=LSD&mid=shm&sid1=102&oid=469&aid=0000608534')]\n",
      "200\n",
      "[(datetime.datetime(2021, 6, 3, 15, 23, 4, 399386), '주식시장 투자 수요 급증에, 증권사 1분기 순이익 3조 육박', 'https://news.naver.com/main/read.nhn?mode=LSD&mid=shm&sid1=101&oid=011&aid=0003918586'), (datetime.datetime(2021, 6, 3, 15, 23, 4, 399386), '국회의원 132명, 일본 올림픽 페이지 독도 표기 규탄 성명', 'https://news.naver.com/main/read.nhn?mode=LSD&mid=shm&sid1=100&oid=025&aid=0003106781'), (datetime.datetime(2021, 6, 3, 15, 23, 4, 399386), \"'아워홈' 구본성 부회장, 보복운전으로 1심 집행유예\", 'https://news.naver.com/main/read.nhn?mode=LSD&mid=shm&sid1=102&oid=055&aid=0000898401'), (datetime.datetime(2021, 6, 3, 15, 23, 4, 400386), '문 대통령, ‘공군 성폭력 피해자 사망사건’ 엄정 처리 강력 지시', 'https://news.naver.com/main/read.nhn?mode=LSD&mid=shm&sid1=100&oid=056&aid=0011056555'), (datetime.datetime(2021, 6, 3, 15, 23, 4, 400386), '대법 \"네이버, 인근 아파트 주민들에 \\'햇빛 반사광\\' 피해 배상해야\"', 'https://news.naver.com/main/read.nhn?mode=LSD&mid=shm&sid1=102&oid=469&aid=0000608534')]\n",
      "200\n",
      "[(datetime.datetime(2021, 6, 3, 15, 23, 9, 595275), '문 대통령 “공군 부사관 사망 건, 최고상급자까지 지휘부도 살펴라”', 'https://news.naver.com/main/read.nhn?mode=LSD&mid=shm&sid1=100&oid=028&aid=0002547034'), (datetime.datetime(2021, 6, 3, 15, 23, 9, 595275), '국회의원 132명, 일본 올림픽 페이지 독도 표기 규탄 성명', 'https://news.naver.com/main/read.nhn?mode=LSD&mid=shm&sid1=100&oid=025&aid=0003106781'), (datetime.datetime(2021, 6, 3, 15, 23, 9, 595275), '코로나로 식어버린 성장엔진, 작년 기업 매출 ‘역대 최악’…3곳 중 1곳은 이자도 못낸다', 'https://news.naver.com/main/read.nhn?mode=LSD&mid=shm&sid1=101&oid=025&aid=0003106813'), (datetime.datetime(2021, 6, 3, 15, 23, 9, 595275), \"'부사관 성추행' 수사 팔 걷었다…軍 최초 '수사심의위' 설치\", 'https://news.naver.com/main/read.nhn?mode=LSD&mid=shm&sid1=102&oid=025&aid=0003106766'), (datetime.datetime(2021, 6, 3, 15, 23, 9, 595275), '‘네이버 통유리 사옥’ 빛 반사 피해 인정… 파기환송', 'https://news.naver.com/main/read.nhn?mode=LSD&mid=shm&sid1=102&oid=005&aid=0001444616')]\n",
      "200\n",
      "[(datetime.datetime(2021, 6, 3, 15, 23, 9, 730047), '문 대통령 “공군 부사관 사망 건, 최고상급자까지 지휘부도 살펴라”', 'https://news.naver.com/main/read.nhn?mode=LSD&mid=shm&sid1=100&oid=028&aid=0002547034'), (datetime.datetime(2021, 6, 3, 15, 23, 9, 730047), '국회의원 132명, 일본 올림픽 페이지 독도 표기 규탄 성명', 'https://news.naver.com/main/read.nhn?mode=LSD&mid=shm&sid1=100&oid=025&aid=0003106781'), (datetime.datetime(2021, 6, 3, 15, 23, 9, 730047), '코로나로 식어버린 성장엔진, 작년 기업 매출 ‘역대 최악’…3곳 중 1곳은 이자도 못낸다', 'https://news.naver.com/main/read.nhn?mode=LSD&mid=shm&sid1=101&oid=025&aid=0003106813'), (datetime.datetime(2021, 6, 3, 15, 23, 9, 730047), \"'부사관 성추행' 수사 팔 걷었다…軍 최초 '수사심의위' 설치\", 'https://news.naver.com/main/read.nhn?mode=LSD&mid=shm&sid1=102&oid=025&aid=0003106766'), (datetime.datetime(2021, 6, 3, 15, 23, 9, 730047), '‘네이버 통유리 사옥’ 빛 반사 피해 인정… 파기환송', 'https://news.naver.com/main/read.nhn?mode=LSD&mid=shm&sid1=102&oid=005&aid=0001444616')]\n",
      "200\n",
      "[(datetime.datetime(2021, 6, 3, 15, 23, 9, 908703), '문 대통령 “공군 부사관 사망 건, 최고상급자까지 지휘부도 살펴라”', 'https://news.naver.com/main/read.nhn?mode=LSD&mid=shm&sid1=100&oid=028&aid=0002547034'), (datetime.datetime(2021, 6, 3, 15, 23, 9, 908703), '국회의원 132명, 일본 올림픽 페이지 독도 표기 규탄 성명', 'https://news.naver.com/main/read.nhn?mode=LSD&mid=shm&sid1=100&oid=025&aid=0003106781'), (datetime.datetime(2021, 6, 3, 15, 23, 9, 908703), '코로나로 식어버린 성장엔진, 작년 기업 매출 ‘역대 최악’…3곳 중 1곳은 이자도 못낸다', 'https://news.naver.com/main/read.nhn?mode=LSD&mid=shm&sid1=101&oid=025&aid=0003106813'), (datetime.datetime(2021, 6, 3, 15, 23, 9, 908703), \"'부사관 성추행' 수사 팔 걷었다…軍 최초 '수사심의위' 설치\", 'https://news.naver.com/main/read.nhn?mode=LSD&mid=shm&sid1=102&oid=025&aid=0003106766'), (datetime.datetime(2021, 6, 3, 15, 23, 9, 908703), '‘네이버 통유리 사옥’ 빛 반사 피해 인정… 파기환송', 'https://news.naver.com/main/read.nhn?mode=LSD&mid=shm&sid1=102&oid=005&aid=0001444616')]\n",
      "200\n"
     ]
    },
    {
     "name": "stdout",
     "output_type": "stream",
     "text": [
      "[(datetime.datetime(2021, 6, 3, 15, 23, 10, 44778), '문 대통령 “공군 부사관 사망 건, 최고상급자까지 지휘부도 살펴라”', 'https://news.naver.com/main/read.nhn?mode=LSD&mid=shm&sid1=100&oid=028&aid=0002547034'), (datetime.datetime(2021, 6, 3, 15, 23, 10, 44778), '국회의원 132명, 일본 올림픽 페이지 독도 표기 규탄 성명', 'https://news.naver.com/main/read.nhn?mode=LSD&mid=shm&sid1=100&oid=025&aid=0003106781'), (datetime.datetime(2021, 6, 3, 15, 23, 10, 45777), '코로나로 식어버린 성장엔진, 작년 기업 매출 ‘역대 최악’…3곳 중 1곳은 이자도 못낸다', 'https://news.naver.com/main/read.nhn?mode=LSD&mid=shm&sid1=101&oid=025&aid=0003106813'), (datetime.datetime(2021, 6, 3, 15, 23, 10, 45777), \"'부사관 성추행' 수사 팔 걷었다…軍 최초 '수사심의위' 설치\", 'https://news.naver.com/main/read.nhn?mode=LSD&mid=shm&sid1=102&oid=025&aid=0003106766'), (datetime.datetime(2021, 6, 3, 15, 23, 10, 45777), '‘네이버 통유리 사옥’ 빛 반사 피해 인정… 파기환송', 'https://news.naver.com/main/read.nhn?mode=LSD&mid=shm&sid1=102&oid=005&aid=0001444616')]\n",
      "200\n",
      "[(datetime.datetime(2021, 6, 3, 15, 23, 15, 337414), '공매도 재개 한 달…“주식시장에 원활하게 안착”', 'https://news.naver.com/main/read.nhn?mode=LSD&mid=shm&sid1=101&oid=056&aid=0011056644'), (datetime.datetime(2021, 6, 3, 15, 23, 15, 338414), '부사관 유족측 \"성추행 피해 더 있다\"…2차가해 등 3명 추가고소', 'https://news.naver.com/main/read.nhn?mode=LSD&mid=shm&sid1=100&oid=421&aid=0005391727'), (datetime.datetime(2021, 6, 3, 15, 23, 15, 338414), '하정우의 프로포폴 반성문 “여드름 흉터 치료받다가… 안일한 판단”[전문]', 'https://news.naver.com/main/read.nhn?mode=LSD&mid=shm&sid1=102&oid=023&aid=0003617967'), (datetime.datetime(2021, 6, 3, 15, 23, 15, 338414), '대구시 독자 백신 확보 추진에...정부 \"사기 가능성 있다\"', 'https://news.naver.com/main/read.nhn?mode=LSD&mid=shm&sid1=102&oid=469&aid=0000608528'), (datetime.datetime(2021, 6, 3, 15, 23, 15, 338414), '이용구 \"택시기사, 억울하게 증거인멸죄로 입건돼 죄송\"', 'https://news.naver.com/main/read.nhn?mode=LSD&mid=shm&sid1=102&oid=055&aid=0000898333')]\n",
      "200\n",
      "[(datetime.datetime(2021, 6, 3, 15, 23, 15, 476928), '공매도 재개 한 달…“주식시장에 원활하게 안착”', 'https://news.naver.com/main/read.nhn?mode=LSD&mid=shm&sid1=101&oid=056&aid=0011056644'), (datetime.datetime(2021, 6, 3, 15, 23, 15, 476928), '부사관 유족측 \"성추행 피해 더 있다\"…2차가해 등 3명 추가고소', 'https://news.naver.com/main/read.nhn?mode=LSD&mid=shm&sid1=100&oid=421&aid=0005391727'), (datetime.datetime(2021, 6, 3, 15, 23, 15, 476928), '하정우의 프로포폴 반성문 “여드름 흉터 치료받다가… 안일한 판단”[전문]', 'https://news.naver.com/main/read.nhn?mode=LSD&mid=shm&sid1=102&oid=023&aid=0003617967'), (datetime.datetime(2021, 6, 3, 15, 23, 15, 477928), '대구시 독자 백신 확보 추진에...정부 \"사기 가능성 있다\"', 'https://news.naver.com/main/read.nhn?mode=LSD&mid=shm&sid1=102&oid=469&aid=0000608528'), (datetime.datetime(2021, 6, 3, 15, 23, 15, 477928), '이용구 \"택시기사, 억울하게 증거인멸죄로 입건돼 죄송\"', 'https://news.naver.com/main/read.nhn?mode=LSD&mid=shm&sid1=102&oid=055&aid=0000898333')]\n",
      "200\n",
      "[(datetime.datetime(2021, 6, 3, 15, 23, 20, 667943), \"삼성 2000억 '자진시정' 요청, 공정위서 퇴짜...결국 제재 수순\", 'https://news.naver.com/main/read.nhn?mode=LSD&mid=shm&sid1=101&oid=008&aid=0004596702'), (datetime.datetime(2021, 6, 3, 15, 23, 20, 668943), 'SK㈜, 美 수소기업 모놀리스에 투자…청록수소 사업 진출', 'https://news.naver.com/main/read.nhn?mode=LSD&mid=shm&sid1=101&oid=025&aid=0003106829'), (datetime.datetime(2021, 6, 3, 15, 23, 20, 668943), '하정우, 프로포폴 불법 투약 벌금형 \"신중히 행동하겠다\"', 'https://news.naver.com/main/read.nhn?mode=LSD&mid=shm&sid1=102&oid=008&aid=0004596683'), (datetime.datetime(2021, 6, 3, 15, 23, 20, 668943), '더불어민주당, “도쿄 올림픽 조직위 ‘독도 표기’ 규탄” 성명', 'https://news.naver.com/main/read.nhn?mode=LSD&mid=shm&sid1=100&oid=056&aid=0011056597'), (datetime.datetime(2021, 6, 3, 15, 23, 20, 668943), \"6월 모평 수학 '공통과목' 난이도 높아…선택과목은 평이\", 'https://news.naver.com/main/read.nhn?mode=LSD&mid=shm&sid1=102&oid=277&aid=0004914101')]\n",
      "200\n",
      "[(datetime.datetime(2021, 6, 3, 15, 23, 20, 812681), \"삼성 2000억 '자진시정' 요청, 공정위서 퇴짜...결국 제재 수순\", 'https://news.naver.com/main/read.nhn?mode=LSD&mid=shm&sid1=101&oid=008&aid=0004596702'), (datetime.datetime(2021, 6, 3, 15, 23, 20, 812681), 'SK㈜, 美 수소기업 모놀리스에 투자…청록수소 사업 진출', 'https://news.naver.com/main/read.nhn?mode=LSD&mid=shm&sid1=101&oid=025&aid=0003106829'), (datetime.datetime(2021, 6, 3, 15, 23, 20, 812681), '하정우, 프로포폴 불법 투약 벌금형 \"신중히 행동하겠다\"', 'https://news.naver.com/main/read.nhn?mode=LSD&mid=shm&sid1=102&oid=008&aid=0004596683'), (datetime.datetime(2021, 6, 3, 15, 23, 20, 813689), '더불어민주당, “도쿄 올림픽 조직위 ‘독도 표기’ 규탄” 성명', 'https://news.naver.com/main/read.nhn?mode=LSD&mid=shm&sid1=100&oid=056&aid=0011056597'), (datetime.datetime(2021, 6, 3, 15, 23, 20, 813689), \"6월 모평 수학 '공통과목' 난이도 높아…선택과목은 평이\", 'https://news.naver.com/main/read.nhn?mode=LSD&mid=shm&sid1=102&oid=277&aid=0004914101')]\n",
      "200\n",
      "[(datetime.datetime(2021, 6, 3, 15, 23, 21, 159385), \"삼성 2000억 '자진시정' 요청, 공정위서 퇴짜...결국 제재 수순\", 'https://news.naver.com/main/read.nhn?mode=LSD&mid=shm&sid1=101&oid=008&aid=0004596702'), (datetime.datetime(2021, 6, 3, 15, 23, 21, 159385), 'SK㈜, 美 수소기업 모놀리스에 투자…청록수소 사업 진출', 'https://news.naver.com/main/read.nhn?mode=LSD&mid=shm&sid1=101&oid=025&aid=0003106829'), (datetime.datetime(2021, 6, 3, 15, 23, 21, 160382), '하정우, 프로포폴 불법 투약 벌금형 \"신중히 행동하겠다\"', 'https://news.naver.com/main/read.nhn?mode=LSD&mid=shm&sid1=102&oid=008&aid=0004596683'), (datetime.datetime(2021, 6, 3, 15, 23, 21, 160382), '더불어민주당, “도쿄 올림픽 조직위 ‘독도 표기’ 규탄” 성명', 'https://news.naver.com/main/read.nhn?mode=LSD&mid=shm&sid1=100&oid=056&aid=0011056597'), (datetime.datetime(2021, 6, 3, 15, 23, 21, 160382), \"6월 모평 수학 '공통과목' 난이도 높아…선택과목은 평이\", 'https://news.naver.com/main/read.nhn?mode=LSD&mid=shm&sid1=102&oid=277&aid=0004914101')]\n",
      "200\n",
      "[(datetime.datetime(2021, 6, 3, 15, 23, 22, 476574), '공정위, 삼성그룹 일감몰아주기 ‘동의의결’ 신청 퇴짜…임·직원 檢 고발 수순 밟나', 'https://news.naver.com/main/read.nhn?mode=LSD&mid=shm&sid1=101&oid=366&aid=0000727495'), (datetime.datetime(2021, 6, 3, 15, 23, 22, 476574), '전국 차츰 비…더위 누그러져[날씨]', 'https://news.naver.com/main/read.nhn?mode=LSD&mid=shm&sid1=103&oid=214&aid=0001122791'), (datetime.datetime(2021, 6, 3, 15, 23, 22, 476574), '더불어민주당, “도쿄 올림픽 조직위 ‘독도 표기’ 규탄” 성명', 'https://news.naver.com/main/read.nhn?mode=LSD&mid=shm&sid1=100&oid=056&aid=0011056597'), (datetime.datetime(2021, 6, 3, 15, 23, 22, 476574), '6월 모평, 수학도 공통과목이 어려웠다… 문과 불리할 듯', 'https://news.naver.com/main/read.nhn?mode=LSD&mid=shm&sid1=102&oid=008&aid=0004596698'), (datetime.datetime(2021, 6, 3, 15, 23, 22, 476574), '문 대통령, ‘공군 성폭력 피해자 사망’ 엄정 처리 지시', 'https://news.naver.com/main/read.nhn?mode=LSD&mid=shm&sid1=100&oid=056&aid=0011056584')]\n",
      "200\n",
      "[(datetime.datetime(2021, 6, 3, 15, 23, 28, 203314), '택시기사 \"이용구, 차량 멈춘 뒤 폭행한 걸로 해달라 요청\"', 'https://news.naver.com/main/read.nhn?mode=LSD&mid=shm&sid1=102&oid=052&aid=0001596307'), (datetime.datetime(2021, 6, 3, 15, 23, 28, 203314), '백혜련 등 민주당 의원 132명, 日도쿄올림픽조직위 독도 표기 규탄 결의안 제출', 'https://news.naver.com/main/read.nhn?mode=LSD&mid=shm&sid1=100&oid=032&aid=0003077917'), (datetime.datetime(2021, 6, 3, 15, 23, 28, 203314), '\"상반기 \\'1천300만명+α\\' 1차접종 가능…70∼74세 예약률 80.7%\"', 'https://news.naver.com/main/read.nhn?mode=LSD&mid=shm&sid1=100&oid=001&aid=0012435460'), (datetime.datetime(2021, 6, 3, 15, 23, 28, 204313), '[속보] 文 대통령, 공군 부사관 성폭력 \\'엄정 처리\\' 지시…\"가슴이 아프다\"', 'https://news.naver.com/main/read.nhn?mode=LSD&mid=shm&sid1=100&oid=277&aid=0004913957'), (datetime.datetime(2021, 6, 3, 15, 23, 28, 204313), \"'보복운전' 구본성 아워홈 부회장 1심서 집행유예 2년\", 'https://news.naver.com/main/read.nhn?mode=LSD&mid=shm&sid1=102&oid=009&aid=0004803679')]\n",
      "200\n",
      "[(datetime.datetime(2021, 6, 3, 15, 23, 28, 353297), '택시기사 \"이용구, 차량 멈춘 뒤 폭행한 걸로 해달라 요청\"', 'https://news.naver.com/main/read.nhn?mode=LSD&mid=shm&sid1=102&oid=052&aid=0001596307'), (datetime.datetime(2021, 6, 3, 15, 23, 28, 353297), '백혜련 등 민주당 의원 132명, 日도쿄올림픽조직위 독도 표기 규탄 결의안 제출', 'https://news.naver.com/main/read.nhn?mode=LSD&mid=shm&sid1=100&oid=032&aid=0003077917'), (datetime.datetime(2021, 6, 3, 15, 23, 28, 353297), '\"상반기 \\'1천300만명+α\\' 1차접종 가능…70∼74세 예약률 80.7%\"', 'https://news.naver.com/main/read.nhn?mode=LSD&mid=shm&sid1=100&oid=001&aid=0012435460'), (datetime.datetime(2021, 6, 3, 15, 23, 28, 353297), '[속보] 文 대통령, 공군 부사관 성폭력 \\'엄정 처리\\' 지시…\"가슴이 아프다\"', 'https://news.naver.com/main/read.nhn?mode=LSD&mid=shm&sid1=100&oid=277&aid=0004913957'), (datetime.datetime(2021, 6, 3, 15, 23, 28, 353297), \"'보복운전' 구본성 아워홈 부회장 1심서 집행유예 2년\", 'https://news.naver.com/main/read.nhn?mode=LSD&mid=shm&sid1=102&oid=009&aid=0004803679')]\n",
      "200\n",
      "[(datetime.datetime(2021, 6, 3, 15, 23, 33, 659177), '[전문]이용구 \"천만원 영상 삭제 조건 아냐..사죄 의미\"', 'https://news.naver.com/main/read.nhn?mode=LSD&mid=shm&sid1=102&oid=014&aid=0004650438'), (datetime.datetime(2021, 6, 3, 15, 23, 33, 659177), '6000억 넘는 M&A, 공정위 심사 받는다… 벤처지주회사 규제도 완화', 'https://news.naver.com/main/read.nhn?mode=LSD&mid=shm&sid1=101&oid=417&aid=0000700539'), (datetime.datetime(2021, 6, 3, 15, 23, 33, 660176), '공매도 재개 한달…금융당국 \"주가와 유의미한 관계 안 나타나\"', 'https://news.naver.com/main/read.nhn?mode=LSD&mid=shm&sid1=101&oid=001&aid=0012435681'), (datetime.datetime(2021, 6, 3, 15, 23, 33, 660176), '하정우, \\'프로포폴 불법 투약\\' 벌금형… \"안일한 판단 반성\"', 'https://news.naver.com/main/read.nhn?mode=LSD&mid=shm&sid1=102&oid=082&aid=0001095849'), (datetime.datetime(2021, 6, 3, 15, 23, 33, 660176), '전국 곳곳에 벼락·강풍 동반한 요란한 비...언제 그칠까[날씨]', 'https://news.naver.com/main/read.nhn?mode=LSD&mid=shm&sid1=103&oid=052&aid=0001596413')]\n"
     ]
    },
    {
     "name": "stdout",
     "output_type": "stream",
     "text": [
      "200\n",
      "[(datetime.datetime(2021, 6, 3, 15, 23, 33, 874174), '[전문]이용구 \"천만원 영상 삭제 조건 아냐..사죄 의미\"', 'https://news.naver.com/main/read.nhn?mode=LSD&mid=shm&sid1=102&oid=014&aid=0004650438'), (datetime.datetime(2021, 6, 3, 15, 23, 33, 875175), '6000억 넘는 M&A, 공정위 심사 받는다… 벤처지주회사 규제도 완화', 'https://news.naver.com/main/read.nhn?mode=LSD&mid=shm&sid1=101&oid=417&aid=0000700539'), (datetime.datetime(2021, 6, 3, 15, 23, 33, 875175), '공매도 재개 한달…금융당국 \"주가와 유의미한 관계 안 나타나\"', 'https://news.naver.com/main/read.nhn?mode=LSD&mid=shm&sid1=101&oid=001&aid=0012435681'), (datetime.datetime(2021, 6, 3, 15, 23, 33, 875175), '하정우, \\'프로포폴 불법 투약\\' 벌금형… \"안일한 판단 반성\"', 'https://news.naver.com/main/read.nhn?mode=LSD&mid=shm&sid1=102&oid=082&aid=0001095849'), (datetime.datetime(2021, 6, 3, 15, 23, 33, 875175), '전국 곳곳에 벼락·강풍 동반한 요란한 비...언제 그칠까[날씨]', 'https://news.naver.com/main/read.nhn?mode=LSD&mid=shm&sid1=103&oid=052&aid=0001596413')]\n",
      "200\n",
      "[(datetime.datetime(2021, 6, 3, 15, 23, 34, 76125), '[전문]이용구 \"천만원 영상 삭제 조건 아냐..사죄 의미\"', 'https://news.naver.com/main/read.nhn?mode=LSD&mid=shm&sid1=102&oid=014&aid=0004650438'), (datetime.datetime(2021, 6, 3, 15, 23, 34, 76125), '6000억 넘는 M&A, 공정위 심사 받는다… 벤처지주회사 규제도 완화', 'https://news.naver.com/main/read.nhn?mode=LSD&mid=shm&sid1=101&oid=417&aid=0000700539'), (datetime.datetime(2021, 6, 3, 15, 23, 34, 77123), '공매도 재개 한달…금융당국 \"주가와 유의미한 관계 안 나타나\"', 'https://news.naver.com/main/read.nhn?mode=LSD&mid=shm&sid1=101&oid=001&aid=0012435681'), (datetime.datetime(2021, 6, 3, 15, 23, 34, 77123), '하정우, \\'프로포폴 불법 투약\\' 벌금형… \"안일한 판단 반성\"', 'https://news.naver.com/main/read.nhn?mode=LSD&mid=shm&sid1=102&oid=082&aid=0001095849'), (datetime.datetime(2021, 6, 3, 15, 23, 34, 77123), '전국 곳곳에 벼락·강풍 동반한 요란한 비...언제 그칠까[날씨]', 'https://news.naver.com/main/read.nhn?mode=LSD&mid=shm&sid1=103&oid=052&aid=0001596413')]\n",
      "200\n",
      "[(datetime.datetime(2021, 6, 3, 15, 23, 34, 222880), '[전문]이용구 \"천만원 영상 삭제 조건 아냐..사죄 의미\"', 'https://news.naver.com/main/read.nhn?mode=LSD&mid=shm&sid1=102&oid=014&aid=0004650438'), (datetime.datetime(2021, 6, 3, 15, 23, 34, 222880), '6000억 넘는 M&A, 공정위 심사 받는다… 벤처지주회사 규제도 완화', 'https://news.naver.com/main/read.nhn?mode=LSD&mid=shm&sid1=101&oid=417&aid=0000700539'), (datetime.datetime(2021, 6, 3, 15, 23, 34, 222880), '공매도 재개 한달…금융당국 \"주가와 유의미한 관계 안 나타나\"', 'https://news.naver.com/main/read.nhn?mode=LSD&mid=shm&sid1=101&oid=001&aid=0012435681'), (datetime.datetime(2021, 6, 3, 15, 23, 34, 222880), '하정우, \\'프로포폴 불법 투약\\' 벌금형… \"안일한 판단 반성\"', 'https://news.naver.com/main/read.nhn?mode=LSD&mid=shm&sid1=102&oid=082&aid=0001095849'), (datetime.datetime(2021, 6, 3, 15, 23, 34, 222880), '전국 곳곳에 벼락·강풍 동반한 요란한 비...언제 그칠까[날씨]', 'https://news.naver.com/main/read.nhn?mode=LSD&mid=shm&sid1=103&oid=052&aid=0001596413')]\n",
      "200\n",
      "[(datetime.datetime(2021, 6, 3, 15, 23, 39, 401342), '‘여 부사관 사망’ 성난 여론에…국방부, 부랴부랴 수사심의위원회 설치', 'https://news.naver.com/main/read.nhn?mode=LSD&mid=shm&sid1=100&oid=005&aid=0001444554'), (datetime.datetime(2021, 6, 3, 15, 23, 39, 401342), '文대통령, 與 초선들과 간담회 “국민 고통 마음 아파…혁신과 역동성 발휘해야”', 'https://news.naver.com/main/read.nhn?mode=LSD&mid=shm&sid1=100&oid=277&aid=0004914066'), (datetime.datetime(2021, 6, 3, 15, 23, 39, 401342), '화이자 \"대구시 제안받은 백신 정품 아닌 듯\"…정부 \"도입 협의 안 해\"', 'https://news.naver.com/main/read.nhn?mode=LSD&mid=shm&sid1=102&oid=003&aid=0010531759'), (datetime.datetime(2021, 6, 3, 15, 23, 39, 401342), '전국 흐리고 차츰 비…30도 안팎 더위 꺾여[날씨]', 'https://news.naver.com/main/read.nhn?mode=LSD&mid=shm&sid1=103&oid=422&aid=0000488193'), (datetime.datetime(2021, 6, 3, 15, 23, 39, 401342), '“뒷문 열고 깨우다 멱살잡힌 걸로” 이용구, 거짓진술 요구 인정', 'https://news.naver.com/main/read.nhn?mode=LSD&mid=shm&sid1=102&oid=005&aid=0001444544')]\n",
      "200\n",
      "[(datetime.datetime(2021, 6, 3, 15, 23, 39, 549569), '軍 합동 수사단·민간인 포함 檢 수사심의위 구성', 'https://news.naver.com/main/read.nhn?mode=LSD&mid=shm&sid1=100&oid=052&aid=0001596389'), (datetime.datetime(2021, 6, 3, 15, 23, 39, 549569), 'SK㈜, 美 수소기업 모놀리스에 투자…청록수소 사업 진출', 'https://news.naver.com/main/read.nhn?mode=LSD&mid=shm&sid1=101&oid=025&aid=0003106829'), (datetime.datetime(2021, 6, 3, 15, 23, 39, 549569), '전국 곳곳에 벼락·강풍 동반한 요란한 비...언제 그칠까[날씨]', 'https://news.naver.com/main/read.nhn?mode=LSD&mid=shm&sid1=103&oid=052&aid=0001596471'), (datetime.datetime(2021, 6, 3, 15, 23, 39, 549569), \"'범LG家 3세' 아워홈 구본성, 보복운전으로 1심 집행유예\", 'https://news.naver.com/main/read.nhn?mode=LSD&mid=shm&sid1=102&oid=001&aid=0012435881'), (datetime.datetime(2021, 6, 3, 15, 23, 39, 549569), '공매도 거래대금 3월 대비 소폭 증가…전체 거래대금 비중은 40%↓', 'https://news.naver.com/main/read.nhn?mode=LSD&mid=shm&sid1=101&oid=016&aid=0001843874')]\n",
      "200\n",
      "[(datetime.datetime(2021, 6, 3, 15, 23, 44, 750259), '이용구 “1000만원 합의금, 폭행영상 삭제 대가 아냐”', 'https://news.naver.com/main/read.nhn?mode=LSD&mid=shm&sid1=102&oid=005&aid=0001444533'), (datetime.datetime(2021, 6, 3, 15, 23, 44, 750259), '정부 “대구시 주선 화이자 백신 진위 의심…도입 안 해”', 'https://news.naver.com/main/read.nhn?mode=LSD&mid=shm&sid1=102&oid=056&aid=0011056614'), (datetime.datetime(2021, 6, 3, 15, 23, 44, 751259), '주식 열풍에 증권사 1분기 순익 3조…사상 최대 경신', 'https://news.naver.com/main/read.nhn?mode=LSD&mid=shm&sid1=101&oid=001&aid=0012435461'), (datetime.datetime(2021, 6, 3, 15, 23, 44, 751259), '\\'보복운전\\' 구본성 1심 집유… 선고 뒤 \"빨리 가자\" 재촉', 'https://news.naver.com/main/read.nhn?mode=LSD&mid=shm&sid1=102&oid=277&aid=0004914105'), (datetime.datetime(2021, 6, 3, 15, 23, 44, 751259), '제주도, 그린수소로 수소전기차 보급도 촉진[이슈분석]', 'https://news.naver.com/main/read.nhn?mode=LSD&mid=shm&sid1=103&oid=030&aid=0002948630')]\n",
      "200\n",
      "[(datetime.datetime(2021, 6, 3, 15, 23, 44, 884662), '이용구 “1000만원 합의금, 폭행영상 삭제 대가 아냐”', 'https://news.naver.com/main/read.nhn?mode=LSD&mid=shm&sid1=102&oid=005&aid=0001444533'), (datetime.datetime(2021, 6, 3, 15, 23, 44, 884662), '정부 “대구시 주선 화이자 백신 진위 의심…도입 안 해”', 'https://news.naver.com/main/read.nhn?mode=LSD&mid=shm&sid1=102&oid=056&aid=0011056614'), (datetime.datetime(2021, 6, 3, 15, 23, 44, 884662), '주식 열풍에 증권사 1분기 순익 3조…사상 최대 경신', 'https://news.naver.com/main/read.nhn?mode=LSD&mid=shm&sid1=101&oid=001&aid=0012435461'), (datetime.datetime(2021, 6, 3, 15, 23, 44, 885661), '\\'보복운전\\' 구본성 1심 집유… 선고 뒤 \"빨리 가자\" 재촉', 'https://news.naver.com/main/read.nhn?mode=LSD&mid=shm&sid1=102&oid=277&aid=0004914105'), (datetime.datetime(2021, 6, 3, 15, 23, 44, 885661), '제주도, 그린수소로 수소전기차 보급도 촉진[이슈분석]', 'https://news.naver.com/main/read.nhn?mode=LSD&mid=shm&sid1=103&oid=030&aid=0002948630')]\n",
      "200\n",
      "[(datetime.datetime(2021, 6, 3, 15, 23, 45, 100758), '이용구 “1000만원 합의금, 폭행영상 삭제 대가 아냐”', 'https://news.naver.com/main/read.nhn?mode=LSD&mid=shm&sid1=102&oid=005&aid=0001444533'), (datetime.datetime(2021, 6, 3, 15, 23, 45, 100758), '정부 “대구시 주선 화이자 백신 진위 의심…도입 안 해”', 'https://news.naver.com/main/read.nhn?mode=LSD&mid=shm&sid1=102&oid=056&aid=0011056614'), (datetime.datetime(2021, 6, 3, 15, 23, 45, 100758), '주식 열풍에 증권사 1분기 순익 3조…사상 최대 경신', 'https://news.naver.com/main/read.nhn?mode=LSD&mid=shm&sid1=101&oid=001&aid=0012435461'), (datetime.datetime(2021, 6, 3, 15, 23, 45, 101758), '\\'보복운전\\' 구본성 1심 집유… 선고 뒤 \"빨리 가자\" 재촉', 'https://news.naver.com/main/read.nhn?mode=LSD&mid=shm&sid1=102&oid=277&aid=0004914105'), (datetime.datetime(2021, 6, 3, 15, 23, 45, 101758), '제주도, 그린수소로 수소전기차 보급도 촉진[이슈분석]', 'https://news.naver.com/main/read.nhn?mode=LSD&mid=shm&sid1=103&oid=030&aid=0002948630')]\n",
      "200\n",
      "[(datetime.datetime(2021, 6, 3, 15, 23, 45, 266070), '이용구 “1000만원 합의금, 폭행영상 삭제 대가 아냐”', 'https://news.naver.com/main/read.nhn?mode=LSD&mid=shm&sid1=102&oid=005&aid=0001444533'), (datetime.datetime(2021, 6, 3, 15, 23, 45, 266070), '정부 “대구시 주선 화이자 백신 진위 의심…도입 안 해”', 'https://news.naver.com/main/read.nhn?mode=LSD&mid=shm&sid1=102&oid=056&aid=0011056614'), (datetime.datetime(2021, 6, 3, 15, 23, 45, 267073), '주식 열풍에 증권사 1분기 순익 3조…사상 최대 경신', 'https://news.naver.com/main/read.nhn?mode=LSD&mid=shm&sid1=101&oid=001&aid=0012435461'), (datetime.datetime(2021, 6, 3, 15, 23, 45, 267073), '\\'보복운전\\' 구본성 1심 집유… 선고 뒤 \"빨리 가자\" 재촉', 'https://news.naver.com/main/read.nhn?mode=LSD&mid=shm&sid1=102&oid=277&aid=0004914105'), (datetime.datetime(2021, 6, 3, 15, 23, 45, 267073), '제주도, 그린수소로 수소전기차 보급도 촉진[이슈분석]', 'https://news.naver.com/main/read.nhn?mode=LSD&mid=shm&sid1=103&oid=030&aid=0002948630')]\n",
      "200\n",
      "[(datetime.datetime(2021, 6, 3, 15, 23, 50, 453022), \"'아워홈' 구본성 부회장, 보복운전으로 1심 집행유예\", 'https://news.naver.com/main/read.nhn?mode=LSD&mid=shm&sid1=102&oid=055&aid=0000898401'), (datetime.datetime(2021, 6, 3, 15, 23, 50, 454022), '\"공매도 재개, 주가 영향 미미…기관 줄고 개인 늘어\"', 'https://news.naver.com/main/read.nhn?mode=LSD&mid=shm&sid1=101&oid=119&aid=0002498693'), (datetime.datetime(2021, 6, 3, 15, 23, 50, 454022), '대법 \"네이버 사옥 통유리 반사광 주민 피해 배상하라\"', 'https://news.naver.com/main/read.nhn?mode=LSD&mid=shm&sid1=102&oid=001&aid=0012435326'), (datetime.datetime(2021, 6, 3, 15, 23, 50, 454022), '[속보] 文 대통령, 공군 부사관 성폭력 \\'엄정 처리\\' 지시…\"가슴이 아프다\"', 'https://news.naver.com/main/read.nhn?mode=LSD&mid=shm&sid1=100&oid=277&aid=0004913957'), (datetime.datetime(2021, 6, 3, 15, 23, 50, 454022), '정부 \"대구 주선 화이자 백신 \\'직구\\' 추진 안해\" (종합)', 'https://news.naver.com/main/read.nhn?mode=LSD&mid=shm&sid1=102&oid=011&aid=0003918587')]\n",
      "200\n"
     ]
    },
    {
     "name": "stdout",
     "output_type": "stream",
     "text": [
      "[(datetime.datetime(2021, 6, 3, 15, 23, 50, 622315), '이용구 \"1천만 원 준 건 영상 삭제 대가 아닌 합의금\"', 'https://news.naver.com/main/read.nhn?mode=LSD&mid=shm&sid1=102&oid=055&aid=0000898373'), (datetime.datetime(2021, 6, 3, 15, 23, 50, 622315), '\"어젠 그냥 여름이던데 오늘은 시원하려나\"[날씨톡톡]', 'https://news.naver.com/main/read.nhn?mode=LSD&mid=shm&sid1=103&oid=422&aid=0000488170'), (datetime.datetime(2021, 6, 3, 15, 23, 50, 622315), '공정위, 삼성 부당급식 개방안 퇴짜…검찰 고발 수순 밟는다', 'https://news.naver.com/main/read.nhn?mode=LSD&mid=shm&sid1=101&oid=018&aid=0004946537'), (datetime.datetime(2021, 6, 3, 15, 23, 50, 622315), '주식 열풍에 증권사 1분기 순익 3조…사상 최대 경신', 'https://news.naver.com/main/read.nhn?mode=LSD&mid=shm&sid1=101&oid=001&aid=0012435461'), (datetime.datetime(2021, 6, 3, 15, 23, 50, 623315), '백신 접종 완료하고 감염…국내 돌파감염 총 9건 확인', 'https://news.naver.com/main/read.nhn?mode=LSD&mid=shm&sid1=102&oid=018&aid=0004946552')]\n",
      "200\n",
      "[(datetime.datetime(2021, 6, 3, 15, 23, 55, 851397), '軍 합동 수사단·민간인 포함 檢 수사심의위 구성', 'https://news.naver.com/main/read.nhn?mode=LSD&mid=shm&sid1=100&oid=052&aid=0001596389'), (datetime.datetime(2021, 6, 3, 15, 23, 55, 851397), \"검찰, '프로포폴 불법투약' 하정우 벌금1000만원 약식기소\", 'https://news.naver.com/main/read.nhn?mode=LSD&mid=shm&sid1=102&oid=421&aid=0005391396'), (datetime.datetime(2021, 6, 3, 15, 23, 55, 851397), '문대통령 \"경제 성과 있으나 국민 고통…마음 아프다\"[현장연결]', 'https://news.naver.com/main/read.nhn?mode=LSD&mid=shm&sid1=100&oid=422&aid=0000488195'), (datetime.datetime(2021, 6, 3, 15, 23, 55, 851397), '전국 대부분에 비…더위는 한풀 꺾여', 'https://news.naver.com/main/read.nhn?mode=LSD&mid=shm&sid1=102&oid=018&aid=0004946534'), (datetime.datetime(2021, 6, 3, 15, 23, 55, 851397), '[영상]대구 주선 화이자 구매 안한다···권영진 시장 사과 청원', 'https://news.naver.com/main/read.nhn?mode=LSD&mid=shm&sid1=102&oid=079&aid=0003511620')]\n",
      "200\n",
      "[(datetime.datetime(2021, 6, 3, 15, 23, 55, 987254), '軍 합동 수사단·민간인 포함 檢 수사심의위 구성', 'https://news.naver.com/main/read.nhn?mode=LSD&mid=shm&sid1=100&oid=052&aid=0001596389'), (datetime.datetime(2021, 6, 3, 15, 23, 55, 987254), \"검찰, '프로포폴 불법투약' 하정우 벌금1000만원 약식기소\", 'https://news.naver.com/main/read.nhn?mode=LSD&mid=shm&sid1=102&oid=421&aid=0005391396'), (datetime.datetime(2021, 6, 3, 15, 23, 55, 987254), '문대통령 \"경제 성과 있으나 국민 고통…마음 아프다\"[현장연결]', 'https://news.naver.com/main/read.nhn?mode=LSD&mid=shm&sid1=100&oid=422&aid=0000488195'), (datetime.datetime(2021, 6, 3, 15, 23, 55, 987254), '전국 대부분에 비…더위는 한풀 꺾여', 'https://news.naver.com/main/read.nhn?mode=LSD&mid=shm&sid1=102&oid=018&aid=0004946534'), (datetime.datetime(2021, 6, 3, 15, 23, 55, 987254), '[영상]대구 주선 화이자 구매 안한다···권영진 시장 사과 청원', 'https://news.naver.com/main/read.nhn?mode=LSD&mid=shm&sid1=102&oid=079&aid=0003511620')]\n",
      "200\n",
      "[(datetime.datetime(2021, 6, 3, 15, 23, 56, 124567), '軍 합동 수사단·민간인 포함 檢 수사심의위 구성', 'https://news.naver.com/main/read.nhn?mode=LSD&mid=shm&sid1=100&oid=052&aid=0001596389'), (datetime.datetime(2021, 6, 3, 15, 23, 56, 125567), \"검찰, '프로포폴 불법투약' 하정우 벌금1000만원 약식기소\", 'https://news.naver.com/main/read.nhn?mode=LSD&mid=shm&sid1=102&oid=421&aid=0005391396'), (datetime.datetime(2021, 6, 3, 15, 23, 56, 125567), '문대통령 \"경제 성과 있으나 국민 고통…마음 아프다\"[현장연결]', 'https://news.naver.com/main/read.nhn?mode=LSD&mid=shm&sid1=100&oid=422&aid=0000488195'), (datetime.datetime(2021, 6, 3, 15, 23, 56, 125567), '전국 대부분에 비…더위는 한풀 꺾여', 'https://news.naver.com/main/read.nhn?mode=LSD&mid=shm&sid1=102&oid=018&aid=0004946534'), (datetime.datetime(2021, 6, 3, 15, 23, 56, 125567), '[영상]대구 주선 화이자 구매 안한다···권영진 시장 사과 청원', 'https://news.naver.com/main/read.nhn?mode=LSD&mid=shm&sid1=102&oid=079&aid=0003511620')]\n",
      "200\n",
      "[(datetime.datetime(2021, 6, 3, 15, 23, 56, 264301), '軍 합동 수사단·민간인 포함 檢 수사심의위 구성', 'https://news.naver.com/main/read.nhn?mode=LSD&mid=shm&sid1=100&oid=052&aid=0001596389'), (datetime.datetime(2021, 6, 3, 15, 23, 56, 265300), \"검찰, '프로포폴 불법투약' 하정우 벌금1000만원 약식기소\", 'https://news.naver.com/main/read.nhn?mode=LSD&mid=shm&sid1=102&oid=421&aid=0005391396'), (datetime.datetime(2021, 6, 3, 15, 23, 56, 265300), '문대통령 \"경제 성과 있으나 국민 고통…마음 아프다\"[현장연결]', 'https://news.naver.com/main/read.nhn?mode=LSD&mid=shm&sid1=100&oid=422&aid=0000488195'), (datetime.datetime(2021, 6, 3, 15, 23, 56, 265300), '전국 대부분에 비…더위는 한풀 꺾여', 'https://news.naver.com/main/read.nhn?mode=LSD&mid=shm&sid1=102&oid=018&aid=0004946534'), (datetime.datetime(2021, 6, 3, 15, 23, 56, 265300), '[영상]대구 주선 화이자 구매 안한다···권영진 시장 사과 청원', 'https://news.naver.com/main/read.nhn?mode=LSD&mid=shm&sid1=102&oid=079&aid=0003511620')]\n",
      "200\n",
      "[(datetime.datetime(2021, 6, 3, 15, 24, 1, 478939), \"'부사관 성추행' 수사 속도…軍 최초 수사심의위 설치\", 'https://news.naver.com/main/read.nhn?mode=LSD&mid=shm&sid1=100&oid=422&aid=0000488174'), (datetime.datetime(2021, 6, 3, 15, 24, 1, 478939), \"화이자 2번 맞았는데…국내 '돌파감염' 총 9명\", 'https://news.naver.com/main/read.nhn?mode=LSD&mid=shm&sid1=102&oid=215&aid=0000962328'), (datetime.datetime(2021, 6, 3, 15, 24, 1, 478939), '수소 핵심 기술 확보 박차...SK㈜, 청록수소 생산 美 업체 투자', 'https://news.naver.com/main/read.nhn?mode=LSD&mid=shm&sid1=101&oid=011&aid=0003918526'), (datetime.datetime(2021, 6, 3, 15, 24, 1, 478939), '대법 \"사옥 햇빛 반사로 주민 피해, 네이버 배상책임\"', 'https://news.naver.com/main/read.nhn?mode=LSD&mid=shm&sid1=102&oid=052&aid=0001596438'), (datetime.datetime(2021, 6, 3, 15, 24, 1, 479940), \"'동학·서학개미 생큐'…증권사 1분기 순익 3조 '사상 최대'\", 'https://news.naver.com/main/read.nhn?mode=LSD&mid=shm&sid1=101&oid=421&aid=0005391189')]\n",
      "200\n",
      "[(datetime.datetime(2021, 6, 3, 15, 24, 1, 650250), '화이자사 \"대구시 제안한 화이자 백신 가짜 의심···법적 조치 취할 예정\"', 'https://news.naver.com/main/read.nhn?mode=LSD&mid=shm&sid1=102&oid=032&aid=0003077966'), (datetime.datetime(2021, 6, 3, 15, 24, 1, 650250), \"'보복운전 혐의' 아워홈 구본성, 1심서 징역형 집행유예\", 'https://news.naver.com/main/read.nhn?mode=LSD&mid=shm&sid1=102&oid=018&aid=0004946591'), (datetime.datetime(2021, 6, 3, 15, 24, 1, 650250), '文 대통령 만난 민주당 초선들…”LH, 더 혁신적으로 개편해야”', 'https://news.naver.com/main/read.nhn?mode=LSD&mid=shm&sid1=100&oid=016&aid=0001843875'), (datetime.datetime(2021, 6, 3, 15, 24, 1, 650250), '고령층 예약률 77%…\"상반기 1300만+α 1차접종 가능\"', 'https://news.naver.com/main/read.nhn?mode=LSD&mid=shm&sid1=102&oid=079&aid=0003511552'), (datetime.datetime(2021, 6, 3, 15, 24, 1, 650250), '[속보]文대통령 \"성추행 피해 부사관, 가슴 아파...엄중 수사하라\"', 'https://news.naver.com/main/read.nhn?mode=LSD&mid=shm&sid1=100&oid=014&aid=0004650564')]\n",
      "200\n",
      "[(datetime.datetime(2021, 6, 3, 15, 24, 6, 798564), '이용구 택시 기사 폭행…‘블랙박스 영상’ 공개', 'https://news.naver.com/main/read.nhn?mode=LSD&mid=shm&sid1=115&oid=449&aid=0000209709'), (datetime.datetime(2021, 6, 3, 15, 24, 6, 798792), \"아파트주민들, '통유리 사옥' 네이버 빛반사 피해 손배소 승소\", 'https://news.naver.com/main/read.nhn?mode=LSD&mid=shm&sid1=102&oid=015&aid=0004556612'), (datetime.datetime(2021, 6, 3, 15, 24, 6, 798792), '벤처지주회사 자산요건 5천억→3백억…6천억이상 거래시 M&A신고', 'https://news.naver.com/main/read.nhn?mode=LSD&mid=shm&sid1=101&oid=421&aid=0005391201'), (datetime.datetime(2021, 6, 3, 15, 24, 6, 798792), '문대통령 \"내부단합·외연확장할 때 지지 만들어져\"(종합)', 'https://news.naver.com/main/read.nhn?mode=LSD&mid=shm&sid1=100&oid=001&aid=0012435841'), (datetime.datetime(2021, 6, 3, 15, 24, 6, 798792), '[속보] 문대통령, 여성 부사관 사건에 \"가슴 아파\"…엄정수사 지시', 'https://news.naver.com/main/read.nhn?mode=LSD&mid=shm&sid1=100&oid=082&aid=0001095822')]\n",
      "200\n",
      "[(datetime.datetime(2021, 6, 3, 15, 24, 6, 930842), '이용구 택시 기사 폭행…‘블랙박스 영상’ 공개', 'https://news.naver.com/main/read.nhn?mode=LSD&mid=shm&sid1=115&oid=449&aid=0000209709'), (datetime.datetime(2021, 6, 3, 15, 24, 6, 930842), \"아파트주민들, '통유리 사옥' 네이버 빛반사 피해 손배소 승소\", 'https://news.naver.com/main/read.nhn?mode=LSD&mid=shm&sid1=102&oid=015&aid=0004556612'), (datetime.datetime(2021, 6, 3, 15, 24, 6, 930842), '벤처지주회사 자산요건 5천억→3백억…6천억이상 거래시 M&A신고', 'https://news.naver.com/main/read.nhn?mode=LSD&mid=shm&sid1=101&oid=421&aid=0005391201'), (datetime.datetime(2021, 6, 3, 15, 24, 6, 931551), '문대통령 \"내부단합·외연확장할 때 지지 만들어져\"(종합)', 'https://news.naver.com/main/read.nhn?mode=LSD&mid=shm&sid1=100&oid=001&aid=0012435841'), (datetime.datetime(2021, 6, 3, 15, 24, 6, 931551), '[속보] 문대통령, 여성 부사관 사건에 \"가슴 아파\"…엄정수사 지시', 'https://news.naver.com/main/read.nhn?mode=LSD&mid=shm&sid1=100&oid=082&aid=0001095822')]\n",
      "200\n",
      "[(datetime.datetime(2021, 6, 3, 15, 24, 7, 72562), '이용구 택시 기사 폭행…‘블랙박스 영상’ 공개', 'https://news.naver.com/main/read.nhn?mode=LSD&mid=shm&sid1=115&oid=449&aid=0000209709'), (datetime.datetime(2021, 6, 3, 15, 24, 7, 72562), \"아파트주민들, '통유리 사옥' 네이버 빛반사 피해 손배소 승소\", 'https://news.naver.com/main/read.nhn?mode=LSD&mid=shm&sid1=102&oid=015&aid=0004556612'), (datetime.datetime(2021, 6, 3, 15, 24, 7, 73562), '벤처지주회사 자산요건 5천억→3백억…6천억이상 거래시 M&A신고', 'https://news.naver.com/main/read.nhn?mode=LSD&mid=shm&sid1=101&oid=421&aid=0005391201'), (datetime.datetime(2021, 6, 3, 15, 24, 7, 73562), '문대통령 \"내부단합·외연확장할 때 지지 만들어져\"(종합)', 'https://news.naver.com/main/read.nhn?mode=LSD&mid=shm&sid1=100&oid=001&aid=0012435841'), (datetime.datetime(2021, 6, 3, 15, 24, 7, 73562), '[속보] 문대통령, 여성 부사관 사건에 \"가슴 아파\"…엄정수사 지시', 'https://news.naver.com/main/read.nhn?mode=LSD&mid=shm&sid1=100&oid=082&aid=0001095822')]\n",
      "200\n",
      "[(datetime.datetime(2021, 6, 3, 15, 24, 7, 212561), '이용구 택시 기사 폭행…‘블랙박스 영상’ 공개', 'https://news.naver.com/main/read.nhn?mode=LSD&mid=shm&sid1=115&oid=449&aid=0000209709'), (datetime.datetime(2021, 6, 3, 15, 24, 7, 212561), \"아파트주민들, '통유리 사옥' 네이버 빛반사 피해 손배소 승소\", 'https://news.naver.com/main/read.nhn?mode=LSD&mid=shm&sid1=102&oid=015&aid=0004556612'), (datetime.datetime(2021, 6, 3, 15, 24, 7, 212561), '벤처지주회사 자산요건 5천억→3백억…6천억이상 거래시 M&A신고', 'https://news.naver.com/main/read.nhn?mode=LSD&mid=shm&sid1=101&oid=421&aid=0005391201'), (datetime.datetime(2021, 6, 3, 15, 24, 7, 212561), '문대통령 \"내부단합·외연확장할 때 지지 만들어져\"(종합)', 'https://news.naver.com/main/read.nhn?mode=LSD&mid=shm&sid1=100&oid=001&aid=0012435841'), (datetime.datetime(2021, 6, 3, 15, 24, 7, 212561), '[속보] 문대통령, 여성 부사관 사건에 \"가슴 아파\"…엄정수사 지시', 'https://news.naver.com/main/read.nhn?mode=LSD&mid=shm&sid1=100&oid=082&aid=0001095822')]\n"
     ]
    },
    {
     "name": "stdout",
     "output_type": "stream",
     "text": [
      "200\n",
      "[(datetime.datetime(2021, 6, 3, 15, 24, 12, 358666), '文대통령, 공군 부사관 성추행 사망사건 엄정 처리 강력지시(상보)', 'https://news.naver.com/main/read.nhn?mode=LSD&mid=shm&sid1=100&oid=018&aid=0004946410'), (datetime.datetime(2021, 6, 3, 15, 24, 12, 358666), '文 대통령 만난 민주당 초선들…”LH, 더 혁신적으로 개편해야”', 'https://news.naver.com/main/read.nhn?mode=LSD&mid=shm&sid1=100&oid=016&aid=0001843875'), (datetime.datetime(2021, 6, 3, 15, 24, 12, 358666), '수소사업 속도내는 SK, 세계 최초 청록수소 생산회사 투자', 'https://news.naver.com/main/read.nhn?mode=LSD&mid=shm&sid1=101&oid=277&aid=0004913914'), (datetime.datetime(2021, 6, 3, 15, 24, 12, 358666), '대법 \"네이버 사옥 통유리 반사광 주민 피해 배상하라\"', 'https://news.naver.com/main/read.nhn?mode=LSD&mid=shm&sid1=102&oid=001&aid=0012435326'), (datetime.datetime(2021, 6, 3, 15, 24, 12, 358666), '증권사 1분기 순이익 3조원 육박…증시 활황 수혜', 'https://news.naver.com/main/read.nhn?mode=LSD&mid=shm&sid1=101&oid=015&aid=0004556636')]\n",
      "200\n",
      "[(datetime.datetime(2021, 6, 3, 15, 24, 12, 502874), '文대통령, 공군 부사관 성추행 사망사건 엄정 처리 강력지시(상보)', 'https://news.naver.com/main/read.nhn?mode=LSD&mid=shm&sid1=100&oid=018&aid=0004946410'), (datetime.datetime(2021, 6, 3, 15, 24, 12, 502874), '文 대통령 만난 민주당 초선들…”LH, 더 혁신적으로 개편해야”', 'https://news.naver.com/main/read.nhn?mode=LSD&mid=shm&sid1=100&oid=016&aid=0001843875'), (datetime.datetime(2021, 6, 3, 15, 24, 12, 502874), '수소사업 속도내는 SK, 세계 최초 청록수소 생산회사 투자', 'https://news.naver.com/main/read.nhn?mode=LSD&mid=shm&sid1=101&oid=277&aid=0004913914'), (datetime.datetime(2021, 6, 3, 15, 24, 12, 502874), '대법 \"네이버 사옥 통유리 반사광 주민 피해 배상하라\"', 'https://news.naver.com/main/read.nhn?mode=LSD&mid=shm&sid1=102&oid=001&aid=0012435326'), (datetime.datetime(2021, 6, 3, 15, 24, 12, 502874), '증권사 1분기 순이익 3조원 육박…증시 활황 수혜', 'https://news.naver.com/main/read.nhn?mode=LSD&mid=shm&sid1=101&oid=015&aid=0004556636')]\n",
      "200\n",
      "[(datetime.datetime(2021, 6, 3, 15, 24, 17, 729198), '문대통령, 女부사관 사건 엄정수사 지시…\"최상급자까지\"(종합2보)', 'https://news.naver.com/main/read.nhn?mode=LSD&mid=shm&sid1=100&oid=001&aid=0012435504'), (datetime.datetime(2021, 6, 3, 15, 24, 17, 729198), 'SK㈜, 美모놀리스에 투자…수소사업 확장 가속화', 'https://news.naver.com/main/read.nhn?mode=LSD&mid=shm&sid1=101&oid=031&aid=0000602249'), (datetime.datetime(2021, 6, 3, 15, 24, 17, 729198), '오후에 강한 비…여름 더위 한풀 꺾여[날씨]', 'https://news.naver.com/main/read.nhn?mode=LSD&mid=shm&sid1=115&oid=449&aid=0000209721'), (datetime.datetime(2021, 6, 3, 15, 24, 17, 729198), '공군 부사관 유족측, 3명 추가 고소…“성추행 피해 더있다”', 'https://news.naver.com/main/read.nhn?mode=LSD&mid=shm&sid1=100&oid=032&aid=0003077969'), (datetime.datetime(2021, 6, 3, 15, 24, 17, 729198), \"예약 하루 남긴 60~74세 백신 예약률 77.6%…'오늘 밤 12시 마감'\", 'https://news.naver.com/main/read.nhn?mode=LSD&mid=shm&sid1=102&oid=018&aid=0004946428')]\n",
      "200\n",
      "[(datetime.datetime(2021, 6, 3, 15, 24, 17, 862214), '문대통령, 女부사관 사건 엄정수사 지시…\"최상급자까지\"(종합2보)', 'https://news.naver.com/main/read.nhn?mode=LSD&mid=shm&sid1=100&oid=001&aid=0012435504'), (datetime.datetime(2021, 6, 3, 15, 24, 17, 862214), 'SK㈜, 美모놀리스에 투자…수소사업 확장 가속화', 'https://news.naver.com/main/read.nhn?mode=LSD&mid=shm&sid1=101&oid=031&aid=0000602249'), (datetime.datetime(2021, 6, 3, 15, 24, 17, 862214), '오후에 강한 비…여름 더위 한풀 꺾여[날씨]', 'https://news.naver.com/main/read.nhn?mode=LSD&mid=shm&sid1=115&oid=449&aid=0000209721'), (datetime.datetime(2021, 6, 3, 15, 24, 17, 862214), '공군 부사관 유족측, 3명 추가 고소…“성추행 피해 더있다”', 'https://news.naver.com/main/read.nhn?mode=LSD&mid=shm&sid1=100&oid=032&aid=0003077969'), (datetime.datetime(2021, 6, 3, 15, 24, 17, 862214), \"예약 하루 남긴 60~74세 백신 예약률 77.6%…'오늘 밤 12시 마감'\", 'https://news.naver.com/main/read.nhn?mode=LSD&mid=shm&sid1=102&oid=018&aid=0004946428')]\n",
      "200\n",
      "[(datetime.datetime(2021, 6, 3, 15, 24, 18, 3213), '문대통령, 女부사관 사건 엄정수사 지시…\"최상급자까지\"(종합2보)', 'https://news.naver.com/main/read.nhn?mode=LSD&mid=shm&sid1=100&oid=001&aid=0012435504'), (datetime.datetime(2021, 6, 3, 15, 24, 18, 3213), 'SK㈜, 美모놀리스에 투자…수소사업 확장 가속화', 'https://news.naver.com/main/read.nhn?mode=LSD&mid=shm&sid1=101&oid=031&aid=0000602249'), (datetime.datetime(2021, 6, 3, 15, 24, 18, 3213), '오후에 강한 비…여름 더위 한풀 꺾여[날씨]', 'https://news.naver.com/main/read.nhn?mode=LSD&mid=shm&sid1=115&oid=449&aid=0000209721'), (datetime.datetime(2021, 6, 3, 15, 24, 18, 3213), '공군 부사관 유족측, 3명 추가 고소…“성추행 피해 더있다”', 'https://news.naver.com/main/read.nhn?mode=LSD&mid=shm&sid1=100&oid=032&aid=0003077969'), (datetime.datetime(2021, 6, 3, 15, 24, 18, 3213), \"예약 하루 남긴 60~74세 백신 예약률 77.6%…'오늘 밤 12시 마감'\", 'https://news.naver.com/main/read.nhn?mode=LSD&mid=shm&sid1=102&oid=018&aid=0004946428')]\n",
      "200\n",
      "[(datetime.datetime(2021, 6, 3, 15, 24, 18, 143318), '문대통령, 女부사관 사건 엄정수사 지시…\"최상급자까지\"(종합2보)', 'https://news.naver.com/main/read.nhn?mode=LSD&mid=shm&sid1=100&oid=001&aid=0012435504'), (datetime.datetime(2021, 6, 3, 15, 24, 18, 144320), 'SK㈜, 美모놀리스에 투자…수소사업 확장 가속화', 'https://news.naver.com/main/read.nhn?mode=LSD&mid=shm&sid1=101&oid=031&aid=0000602249'), (datetime.datetime(2021, 6, 3, 15, 24, 18, 144320), '오후에 강한 비…여름 더위 한풀 꺾여[날씨]', 'https://news.naver.com/main/read.nhn?mode=LSD&mid=shm&sid1=115&oid=449&aid=0000209721'), (datetime.datetime(2021, 6, 3, 15, 24, 18, 144320), '공군 부사관 유족측, 3명 추가 고소…“성추행 피해 더있다”', 'https://news.naver.com/main/read.nhn?mode=LSD&mid=shm&sid1=100&oid=032&aid=0003077969'), (datetime.datetime(2021, 6, 3, 15, 24, 18, 144320), \"예약 하루 남긴 60~74세 백신 예약률 77.6%…'오늘 밤 12시 마감'\", 'https://news.naver.com/main/read.nhn?mode=LSD&mid=shm&sid1=102&oid=018&aid=0004946428')]\n",
      "200\n",
      "[(datetime.datetime(2021, 6, 3, 15, 24, 23, 293312), '문 대통령, 여부사관 사건에 \"가슴 아파\"…엄정 수사 지시', 'https://news.naver.com/main/read.nhn?mode=LSD&mid=shm&sid1=100&oid=437&aid=0000267943'), (datetime.datetime(2021, 6, 3, 15, 24, 23, 293312), \"수학, 공통과목서 변별력·선택과목 평이…15·22번 '킬러문항'[6월 모평]\", 'https://news.naver.com/main/read.nhn?mode=LSD&mid=shm&sid1=102&oid=421&aid=0005391323'), (datetime.datetime(2021, 6, 3, 15, 24, 23, 293312), '이용구 \"합의금 1천만원, 블랙박스 영상삭제 대가 아냐\"', 'https://news.naver.com/main/read.nhn?mode=LSD&mid=shm&sid1=102&oid=003&aid=0010531199'), (datetime.datetime(2021, 6, 3, 15, 24, 23, 293312), '문대통령 \"초선 자신감으로 위기극복에 지지자들이 참여하도록\" 당부', 'https://news.naver.com/main/read.nhn?mode=LSD&mid=shm&sid1=100&oid=421&aid=0005391493'), (datetime.datetime(2021, 6, 3, 15, 24, 23, 294314), '금융위, \"공매도 원활히 안착\"…무차입 의심거래 720건 감리(종합)', 'https://news.naver.com/main/read.nhn?mode=LSD&mid=shm&sid1=101&oid=277&aid=0004914092')]\n",
      "200\n",
      "[(datetime.datetime(2021, 6, 3, 15, 24, 23, 439312), '문 대통령, 여부사관 사건에 \"가슴 아파\"…엄정 수사 지시', 'https://news.naver.com/main/read.nhn?mode=LSD&mid=shm&sid1=100&oid=437&aid=0000267943'), (datetime.datetime(2021, 6, 3, 15, 24, 23, 439312), \"수학, 공통과목서 변별력·선택과목 평이…15·22번 '킬러문항'[6월 모평]\", 'https://news.naver.com/main/read.nhn?mode=LSD&mid=shm&sid1=102&oid=421&aid=0005391323'), (datetime.datetime(2021, 6, 3, 15, 24, 23, 439312), '이용구 \"합의금 1천만원, 블랙박스 영상삭제 대가 아냐\"', 'https://news.naver.com/main/read.nhn?mode=LSD&mid=shm&sid1=102&oid=003&aid=0010531199'), (datetime.datetime(2021, 6, 3, 15, 24, 23, 439312), '문대통령 \"초선 자신감으로 위기극복에 지지자들이 참여하도록\" 당부', 'https://news.naver.com/main/read.nhn?mode=LSD&mid=shm&sid1=100&oid=421&aid=0005391493'), (datetime.datetime(2021, 6, 3, 15, 24, 23, 440312), '금융위, \"공매도 원활히 안착\"…무차입 의심거래 720건 감리(종합)', 'https://news.naver.com/main/read.nhn?mode=LSD&mid=shm&sid1=101&oid=277&aid=0004914092')]\n",
      "200\n",
      "[(datetime.datetime(2021, 6, 3, 15, 24, 28, 601705), '정부 \"대구시 주선 화이자 백신 진위 의심…구매 않기로\"', 'https://news.naver.com/main/read.nhn?mode=LSD&mid=shm&sid1=102&oid=214&aid=0001122850'), (datetime.datetime(2021, 6, 3, 15, 24, 28, 601705), '공매도 재개 한달…금융당국 \"주가와 유의미한 관계 안 나타나\"', 'https://news.naver.com/main/read.nhn?mode=LSD&mid=shm&sid1=101&oid=001&aid=0012435681'), (datetime.datetime(2021, 6, 3, 15, 24, 28, 601705), \"군, '공군 성추행' 사상 최초 수사심의위 설치…유족 오늘 추가 고소\", 'https://news.naver.com/main/read.nhn?mode=LSD&mid=shm&sid1=100&oid=214&aid=0001122811'), (datetime.datetime(2021, 6, 3, 15, 24, 28, 602705), '공군 부사관 유족 측 “피해 사례 더 있어”…부사관 3명 추가 고소', 'https://news.naver.com/main/read.nhn?mode=LSD&mid=shm&sid1=100&oid=081&aid=0003191325'), (datetime.datetime(2021, 6, 3, 15, 24, 28, 602705), '‘보복운전·특수상해’ 구본성 아워홈 부회장 1심서 집유', 'https://news.naver.com/main/read.nhn?mode=LSD&mid=shm&sid1=102&oid=366&aid=0000727543')]\n",
      "200\n",
      "[(datetime.datetime(2021, 6, 3, 15, 24, 28, 741702), '정부 \"대구시 주선 화이자 백신 진위 의심…구매 않기로\"', 'https://news.naver.com/main/read.nhn?mode=LSD&mid=shm&sid1=102&oid=214&aid=0001122850'), (datetime.datetime(2021, 6, 3, 15, 24, 28, 742701), '공매도 재개 한달…금융당국 \"주가와 유의미한 관계 안 나타나\"', 'https://news.naver.com/main/read.nhn?mode=LSD&mid=shm&sid1=101&oid=001&aid=0012435681'), (datetime.datetime(2021, 6, 3, 15, 24, 28, 742701), \"군, '공군 성추행' 사상 최초 수사심의위 설치…유족 오늘 추가 고소\", 'https://news.naver.com/main/read.nhn?mode=LSD&mid=shm&sid1=100&oid=214&aid=0001122811'), (datetime.datetime(2021, 6, 3, 15, 24, 28, 742701), '공군 부사관 유족 측 “피해 사례 더 있어”…부사관 3명 추가 고소', 'https://news.naver.com/main/read.nhn?mode=LSD&mid=shm&sid1=100&oid=081&aid=0003191325'), (datetime.datetime(2021, 6, 3, 15, 24, 28, 742701), '‘보복운전·특수상해’ 구본성 아워홈 부회장 1심서 집유', 'https://news.naver.com/main/read.nhn?mode=LSD&mid=shm&sid1=102&oid=366&aid=0000727543')]\n",
      "200\n"
     ]
    },
    {
     "name": "stdout",
     "output_type": "stream",
     "text": [
      "[(datetime.datetime(2021, 6, 3, 15, 24, 28, 970494), '정부 \"대구시 주선 화이자 백신 진위 의심…구매 않기로\"', 'https://news.naver.com/main/read.nhn?mode=LSD&mid=shm&sid1=102&oid=214&aid=0001122850'), (datetime.datetime(2021, 6, 3, 15, 24, 28, 970494), '공매도 재개 한달…금융당국 \"주가와 유의미한 관계 안 나타나\"', 'https://news.naver.com/main/read.nhn?mode=LSD&mid=shm&sid1=101&oid=001&aid=0012435681'), (datetime.datetime(2021, 6, 3, 15, 24, 28, 970494), \"군, '공군 성추행' 사상 최초 수사심의위 설치…유족 오늘 추가 고소\", 'https://news.naver.com/main/read.nhn?mode=LSD&mid=shm&sid1=100&oid=214&aid=0001122811'), (datetime.datetime(2021, 6, 3, 15, 24, 28, 970494), '공군 부사관 유족 측 “피해 사례 더 있어”…부사관 3명 추가 고소', 'https://news.naver.com/main/read.nhn?mode=LSD&mid=shm&sid1=100&oid=081&aid=0003191325'), (datetime.datetime(2021, 6, 3, 15, 24, 28, 970494), '‘보복운전·특수상해’ 구본성 아워홈 부회장 1심서 집유', 'https://news.naver.com/main/read.nhn?mode=LSD&mid=shm&sid1=102&oid=366&aid=0000727543')]\n",
      "200\n",
      "[(datetime.datetime(2021, 6, 3, 15, 24, 29, 109384), '정부 \"대구시 주선 화이자 백신 진위 의심…구매 않기로\"', 'https://news.naver.com/main/read.nhn?mode=LSD&mid=shm&sid1=102&oid=214&aid=0001122850'), (datetime.datetime(2021, 6, 3, 15, 24, 29, 109384), '공매도 재개 한달…금융당국 \"주가와 유의미한 관계 안 나타나\"', 'https://news.naver.com/main/read.nhn?mode=LSD&mid=shm&sid1=101&oid=001&aid=0012435681'), (datetime.datetime(2021, 6, 3, 15, 24, 29, 109384), \"군, '공군 성추행' 사상 최초 수사심의위 설치…유족 오늘 추가 고소\", 'https://news.naver.com/main/read.nhn?mode=LSD&mid=shm&sid1=100&oid=214&aid=0001122811'), (datetime.datetime(2021, 6, 3, 15, 24, 29, 109384), '공군 부사관 유족 측 “피해 사례 더 있어”…부사관 3명 추가 고소', 'https://news.naver.com/main/read.nhn?mode=LSD&mid=shm&sid1=100&oid=081&aid=0003191325'), (datetime.datetime(2021, 6, 3, 15, 24, 29, 109384), '‘보복운전·특수상해’ 구본성 아워홈 부회장 1심서 집유', 'https://news.naver.com/main/read.nhn?mode=LSD&mid=shm&sid1=102&oid=366&aid=0000727543')]\n",
      "200\n",
      "[(datetime.datetime(2021, 6, 3, 15, 24, 34, 315214), '與초선, 文에 재정 확대 요청…쓴소리는 못 꺼내', 'https://news.naver.com/main/read.nhn?mode=LSD&mid=shm&sid1=100&oid=018&aid=0004946589'), (datetime.datetime(2021, 6, 3, 15, 24, 34, 315214), '백혜련 \"日 도쿄올림픽 독도 표기, 명백한 영유권 침해\"', 'https://news.naver.com/main/read.nhn?mode=LSD&mid=shm&sid1=100&oid=421&aid=0005390594'), (datetime.datetime(2021, 6, 3, 15, 24, 34, 315214), '文대통령, 공군 부사관 성추행 사망사건 엄정 처리 강력지시(상보)', 'https://news.naver.com/main/read.nhn?mode=LSD&mid=shm&sid1=100&oid=018&aid=0004946410'), (datetime.datetime(2021, 6, 3, 15, 24, 34, 315214), '이용구 택시 기사 폭행…‘블랙박스 영상’ 공개', 'https://news.naver.com/main/read.nhn?mode=LSD&mid=shm&sid1=115&oid=449&aid=0000209709'), (datetime.datetime(2021, 6, 3, 15, 24, 34, 315214), \"6월 모평 수학 '공통과목' 난이도 높아…선택과목은 평이\", 'https://news.naver.com/main/read.nhn?mode=LSD&mid=shm&sid1=102&oid=277&aid=0004914101')]\n",
      "200\n",
      "[(datetime.datetime(2021, 6, 3, 15, 24, 34, 466033), '與초선, 文에 재정 확대 요청…쓴소리는 못 꺼내', 'https://news.naver.com/main/read.nhn?mode=LSD&mid=shm&sid1=100&oid=018&aid=0004946589'), (datetime.datetime(2021, 6, 3, 15, 24, 34, 466033), '백혜련 \"日 도쿄올림픽 독도 표기, 명백한 영유권 침해\"', 'https://news.naver.com/main/read.nhn?mode=LSD&mid=shm&sid1=100&oid=421&aid=0005390594'), (datetime.datetime(2021, 6, 3, 15, 24, 34, 466033), '文대통령, 공군 부사관 성추행 사망사건 엄정 처리 강력지시(상보)', 'https://news.naver.com/main/read.nhn?mode=LSD&mid=shm&sid1=100&oid=018&aid=0004946410'), (datetime.datetime(2021, 6, 3, 15, 24, 34, 466033), '이용구 택시 기사 폭행…‘블랙박스 영상’ 공개', 'https://news.naver.com/main/read.nhn?mode=LSD&mid=shm&sid1=115&oid=449&aid=0000209709'), (datetime.datetime(2021, 6, 3, 15, 24, 34, 466033), \"6월 모평 수학 '공통과목' 난이도 높아…선택과목은 평이\", 'https://news.naver.com/main/read.nhn?mode=LSD&mid=shm&sid1=102&oid=277&aid=0004914101')]\n",
      "200\n",
      "[(datetime.datetime(2021, 6, 3, 15, 24, 39, 655068), '\"1천만 원은 합의금…영상 삭제 대가 아니야\"', 'https://news.naver.com/main/read.nhn?mode=LSD&mid=shm&sid1=102&oid=214&aid=0001122831'), (datetime.datetime(2021, 6, 3, 15, 24, 39, 655068), '민주당 “도쿄올림픽 ‘독도 표기’ 규탄”…일각에선 ‘보이콧’ 주장도', 'https://news.naver.com/main/read.nhn?mode=LSD&mid=shm&sid1=100&oid=056&aid=0011056473'), (datetime.datetime(2021, 6, 3, 15, 24, 39, 655068), '文대통령 \"민주당에 자부심...내부 단합·외연 확장 때 지지 생겨\"', 'https://news.naver.com/main/read.nhn?mode=LSD&mid=shm&sid1=100&oid=011&aid=0003918640'), (datetime.datetime(2021, 6, 3, 15, 24, 39, 655068), '금융당국 \"공매도 재개 원활히 정착…주가간 유의미한 관계 無\"', 'https://news.naver.com/main/read.nhn?mode=LSD&mid=shm&sid1=101&oid=003&aid=0010532024'), (datetime.datetime(2021, 6, 3, 15, 24, 39, 656068), \"코로나로 기업 성장성 '직격탄'…작년 매출 3.2% 줄어 '역대 최저'\", 'https://news.naver.com/main/read.nhn?mode=LSD&mid=shm&sid1=101&oid=015&aid=0004556639')]\n",
      "200\n",
      "[(datetime.datetime(2021, 6, 3, 15, 24, 39, 788056), '\"1천만 원은 합의금…영상 삭제 대가 아니야\"', 'https://news.naver.com/main/read.nhn?mode=LSD&mid=shm&sid1=102&oid=214&aid=0001122831'), (datetime.datetime(2021, 6, 3, 15, 24, 39, 789054), '민주당 “도쿄올림픽 ‘독도 표기’ 규탄”…일각에선 ‘보이콧’ 주장도', 'https://news.naver.com/main/read.nhn?mode=LSD&mid=shm&sid1=100&oid=056&aid=0011056473'), (datetime.datetime(2021, 6, 3, 15, 24, 39, 789054), '文대통령 \"민주당에 자부심...내부 단합·외연 확장 때 지지 생겨\"', 'https://news.naver.com/main/read.nhn?mode=LSD&mid=shm&sid1=100&oid=011&aid=0003918640'), (datetime.datetime(2021, 6, 3, 15, 24, 39, 789054), '금융당국 \"공매도 재개 원활히 정착…주가간 유의미한 관계 無\"', 'https://news.naver.com/main/read.nhn?mode=LSD&mid=shm&sid1=101&oid=003&aid=0010532024'), (datetime.datetime(2021, 6, 3, 15, 24, 39, 789054), \"코로나로 기업 성장성 '직격탄'…작년 매출 3.2% 줄어 '역대 최저'\", 'https://news.naver.com/main/read.nhn?mode=LSD&mid=shm&sid1=101&oid=015&aid=0004556639')]\n",
      "200\n",
      "[(datetime.datetime(2021, 6, 3, 15, 24, 39, 926042), '\"1천만 원은 합의금…영상 삭제 대가 아니야\"', 'https://news.naver.com/main/read.nhn?mode=LSD&mid=shm&sid1=102&oid=214&aid=0001122831'), (datetime.datetime(2021, 6, 3, 15, 24, 39, 926042), '민주당 “도쿄올림픽 ‘독도 표기’ 규탄”…일각에선 ‘보이콧’ 주장도', 'https://news.naver.com/main/read.nhn?mode=LSD&mid=shm&sid1=100&oid=056&aid=0011056473'), (datetime.datetime(2021, 6, 3, 15, 24, 39, 926042), '文대통령 \"민주당에 자부심...내부 단합·외연 확장 때 지지 생겨\"', 'https://news.naver.com/main/read.nhn?mode=LSD&mid=shm&sid1=100&oid=011&aid=0003918640'), (datetime.datetime(2021, 6, 3, 15, 24, 39, 926042), '금융당국 \"공매도 재개 원활히 정착…주가간 유의미한 관계 無\"', 'https://news.naver.com/main/read.nhn?mode=LSD&mid=shm&sid1=101&oid=003&aid=0010532024'), (datetime.datetime(2021, 6, 3, 15, 24, 39, 926042), \"코로나로 기업 성장성 '직격탄'…작년 매출 3.2% 줄어 '역대 최저'\", 'https://news.naver.com/main/read.nhn?mode=LSD&mid=shm&sid1=101&oid=015&aid=0004556639')]\n",
      "200\n",
      "[(datetime.datetime(2021, 6, 3, 15, 24, 40, 80435), '\"1천만 원은 합의금…영상 삭제 대가 아니야\"', 'https://news.naver.com/main/read.nhn?mode=LSD&mid=shm&sid1=102&oid=214&aid=0001122831'), (datetime.datetime(2021, 6, 3, 15, 24, 40, 80435), '민주당 “도쿄올림픽 ‘독도 표기’ 규탄”…일각에선 ‘보이콧’ 주장도', 'https://news.naver.com/main/read.nhn?mode=LSD&mid=shm&sid1=100&oid=056&aid=0011056473'), (datetime.datetime(2021, 6, 3, 15, 24, 40, 80435), '文대통령 \"민주당에 자부심...내부 단합·외연 확장 때 지지 생겨\"', 'https://news.naver.com/main/read.nhn?mode=LSD&mid=shm&sid1=100&oid=011&aid=0003918640'), (datetime.datetime(2021, 6, 3, 15, 24, 40, 80435), '금융당국 \"공매도 재개 원활히 정착…주가간 유의미한 관계 無\"', 'https://news.naver.com/main/read.nhn?mode=LSD&mid=shm&sid1=101&oid=003&aid=0010532024'), (datetime.datetime(2021, 6, 3, 15, 24, 40, 80435), \"코로나로 기업 성장성 '직격탄'…작년 매출 3.2% 줄어 '역대 최저'\", 'https://news.naver.com/main/read.nhn?mode=LSD&mid=shm&sid1=101&oid=015&aid=0004556639')]\n",
      "200\n",
      "[(datetime.datetime(2021, 6, 3, 15, 24, 45, 336492), '정부 \"대구시 주선 화이자 백신 진위 의심…구매 안 해\"', 'https://news.naver.com/main/read.nhn?mode=LSD&mid=shm&sid1=100&oid=055&aid=0000898374'), (datetime.datetime(2021, 6, 3, 15, 24, 45, 336492), '수소 핵심 기술 확보 박차...SK㈜, 청록수소 생산 美 업체 투자', 'https://news.naver.com/main/read.nhn?mode=LSD&mid=shm&sid1=101&oid=011&aid=0003918526'), (datetime.datetime(2021, 6, 3, 15, 24, 45, 336492), '윤석열 쪽, 여권 처가 수사 언급에 “도 넘은 언행”', 'https://news.naver.com/main/read.nhn?mode=LSD&mid=shm&sid1=100&oid=028&aid=0002547041'), (datetime.datetime(2021, 6, 3, 15, 24, 45, 336492), \"'택시기사 폭행' 인정 이용구…檢 특가법 적용해 조만간 기소할듯\", 'https://news.naver.com/main/read.nhn?mode=LSD&mid=shm&sid1=102&oid=421&aid=0005391070'), (datetime.datetime(2021, 6, 3, 15, 24, 45, 336492), '공매도 거래대금 3월 대비 소폭 증가…전체 거래대금 비중은 40%↓', 'https://news.naver.com/main/read.nhn?mode=LSD&mid=shm&sid1=101&oid=016&aid=0001843874')]\n",
      "200\n",
      "[(datetime.datetime(2021, 6, 3, 15, 24, 45, 496493), '정부 \"대구시 주선 화이자 백신 진위 의심…구매 안 해\"', 'https://news.naver.com/main/read.nhn?mode=LSD&mid=shm&sid1=100&oid=055&aid=0000898374'), (datetime.datetime(2021, 6, 3, 15, 24, 45, 496493), '수소 핵심 기술 확보 박차...SK㈜, 청록수소 생산 美 업체 투자', 'https://news.naver.com/main/read.nhn?mode=LSD&mid=shm&sid1=101&oid=011&aid=0003918526'), (datetime.datetime(2021, 6, 3, 15, 24, 45, 496493), '윤석열 쪽, 여권 처가 수사 언급에 “도 넘은 언행”', 'https://news.naver.com/main/read.nhn?mode=LSD&mid=shm&sid1=100&oid=028&aid=0002547041'), (datetime.datetime(2021, 6, 3, 15, 24, 45, 496493), \"'택시기사 폭행' 인정 이용구…檢 특가법 적용해 조만간 기소할듯\", 'https://news.naver.com/main/read.nhn?mode=LSD&mid=shm&sid1=102&oid=421&aid=0005391070'), (datetime.datetime(2021, 6, 3, 15, 24, 45, 497493), '공매도 거래대금 3월 대비 소폭 증가…전체 거래대금 비중은 40%↓', 'https://news.naver.com/main/read.nhn?mode=LSD&mid=shm&sid1=101&oid=016&aid=0001843874')]\n"
     ]
    },
    {
     "name": "stdout",
     "output_type": "stream",
     "text": [
      "200\n",
      "[(datetime.datetime(2021, 6, 3, 15, 24, 50, 714994), '공군 부사관 유족 “3명 더 고소…강제추행 추가피해도”', 'https://news.naver.com/main/read.nhn?mode=LSD&mid=shm&sid1=102&oid=005&aid=0001444592'), (datetime.datetime(2021, 6, 3, 15, 24, 50, 714994), '윤건영 “올림픽 보이콧 생각해야” VS 최문순 “日 전술에 말려드는 것”', 'https://news.naver.com/main/read.nhn?mode=LSD&mid=shm&sid1=100&oid=022&aid=0003587146'), (datetime.datetime(2021, 6, 3, 15, 24, 50, 714994), 'SK㈜, 세계 첫 청록수소 생산 美모놀리스에 투자…수소사업 확장', 'https://news.naver.com/main/read.nhn?mode=LSD&mid=shm&sid1=101&oid=001&aid=0012435130'), (datetime.datetime(2021, 6, 3, 15, 24, 50, 715994), '금융위, \"공매도 원활히 안착\"…무차입 의심거래 720건 감리(종합)', 'https://news.naver.com/main/read.nhn?mode=LSD&mid=shm&sid1=101&oid=277&aid=0004914092'), (datetime.datetime(2021, 6, 3, 15, 24, 50, 715994), '문대통령 \"진보, 단합할 때 지지 만들어져\"…내부 결속 강조(종합)', 'https://news.naver.com/main/read.nhn?mode=LSD&mid=shm&sid1=100&oid=421&aid=0005391618')]\n",
      "200\n",
      "[(datetime.datetime(2021, 6, 3, 15, 24, 50, 866584), '공군 부사관 유족 “3명 더 고소…강제추행 추가피해도”', 'https://news.naver.com/main/read.nhn?mode=LSD&mid=shm&sid1=102&oid=005&aid=0001444592'), (datetime.datetime(2021, 6, 3, 15, 24, 50, 866584), '윤건영 “올림픽 보이콧 생각해야” VS 최문순 “日 전술에 말려드는 것”', 'https://news.naver.com/main/read.nhn?mode=LSD&mid=shm&sid1=100&oid=022&aid=0003587146'), (datetime.datetime(2021, 6, 3, 15, 24, 50, 866584), 'SK㈜, 세계 첫 청록수소 생산 美모놀리스에 투자…수소사업 확장', 'https://news.naver.com/main/read.nhn?mode=LSD&mid=shm&sid1=101&oid=001&aid=0012435130'), (datetime.datetime(2021, 6, 3, 15, 24, 50, 866584), '금융위, \"공매도 원활히 안착\"…무차입 의심거래 720건 감리(종합)', 'https://news.naver.com/main/read.nhn?mode=LSD&mid=shm&sid1=101&oid=277&aid=0004914092'), (datetime.datetime(2021, 6, 3, 15, 24, 50, 866584), '문대통령 \"진보, 단합할 때 지지 만들어져\"…내부 결속 강조(종합)', 'https://news.naver.com/main/read.nhn?mode=LSD&mid=shm&sid1=100&oid=421&aid=0005391618')]\n",
      "200\n",
      "[(datetime.datetime(2021, 6, 3, 15, 24, 51, 11364), '공군 부사관 유족 “3명 더 고소…강제추행 추가피해도”', 'https://news.naver.com/main/read.nhn?mode=LSD&mid=shm&sid1=102&oid=005&aid=0001444592'), (datetime.datetime(2021, 6, 3, 15, 24, 51, 11364), '윤건영 “올림픽 보이콧 생각해야” VS 최문순 “日 전술에 말려드는 것”', 'https://news.naver.com/main/read.nhn?mode=LSD&mid=shm&sid1=100&oid=022&aid=0003587146'), (datetime.datetime(2021, 6, 3, 15, 24, 51, 11364), 'SK㈜, 세계 첫 청록수소 생산 美모놀리스에 투자…수소사업 확장', 'https://news.naver.com/main/read.nhn?mode=LSD&mid=shm&sid1=101&oid=001&aid=0012435130'), (datetime.datetime(2021, 6, 3, 15, 24, 51, 11364), '금융위, \"공매도 원활히 안착\"…무차입 의심거래 720건 감리(종합)', 'https://news.naver.com/main/read.nhn?mode=LSD&mid=shm&sid1=101&oid=277&aid=0004914092'), (datetime.datetime(2021, 6, 3, 15, 24, 51, 11364), '문대통령 \"진보, 단합할 때 지지 만들어져\"…내부 결속 강조(종합)', 'https://news.naver.com/main/read.nhn?mode=LSD&mid=shm&sid1=100&oid=421&aid=0005391618')]\n",
      "200\n",
      "[(datetime.datetime(2021, 6, 3, 15, 24, 51, 149364), '공군 부사관 유족 “3명 더 고소…강제추행 추가피해도”', 'https://news.naver.com/main/read.nhn?mode=LSD&mid=shm&sid1=102&oid=005&aid=0001444592'), (datetime.datetime(2021, 6, 3, 15, 24, 51, 149364), '윤건영 “올림픽 보이콧 생각해야” VS 최문순 “日 전술에 말려드는 것”', 'https://news.naver.com/main/read.nhn?mode=LSD&mid=shm&sid1=100&oid=022&aid=0003587146'), (datetime.datetime(2021, 6, 3, 15, 24, 51, 149364), 'SK㈜, 세계 첫 청록수소 생산 美모놀리스에 투자…수소사업 확장', 'https://news.naver.com/main/read.nhn?mode=LSD&mid=shm&sid1=101&oid=001&aid=0012435130'), (datetime.datetime(2021, 6, 3, 15, 24, 51, 149364), '금융위, \"공매도 원활히 안착\"…무차입 의심거래 720건 감리(종합)', 'https://news.naver.com/main/read.nhn?mode=LSD&mid=shm&sid1=101&oid=277&aid=0004914092'), (datetime.datetime(2021, 6, 3, 15, 24, 51, 149364), '문대통령 \"진보, 단합할 때 지지 만들어져\"…내부 결속 강조(종합)', 'https://news.naver.com/main/read.nhn?mode=LSD&mid=shm&sid1=100&oid=421&aid=0005391618')]\n",
      "200\n",
      "[(datetime.datetime(2021, 6, 3, 15, 24, 56, 315363), '국내 돌파감염 5명 추가 총 9명…10만명당 0.87명꼴', 'https://news.naver.com/main/read.nhn?mode=LSD&mid=shm&sid1=102&oid=421&aid=0005391762'), (datetime.datetime(2021, 6, 3, 15, 24, 56, 315363), 'SK(주), 세계 첫 ‘청록수소’ 생산 회사 투자', 'https://news.naver.com/main/read.nhn?mode=LSD&mid=shm&sid1=101&oid=028&aid=0002547027'), (datetime.datetime(2021, 6, 3, 15, 24, 56, 315363), '공매도 재개 한달…금융당국 \"주가와 유의미한 관계 안 나타나\"', 'https://news.naver.com/main/read.nhn?mode=LSD&mid=shm&sid1=101&oid=001&aid=0012435681'), (datetime.datetime(2021, 6, 3, 15, 24, 56, 315363), '백혜련 \"日 도쿄올림픽 독도 표기, 명백한 영유권 침해\"', 'https://news.naver.com/main/read.nhn?mode=LSD&mid=shm&sid1=100&oid=421&aid=0005390594'), (datetime.datetime(2021, 6, 3, 15, 24, 56, 316364), '복지부 \"대구시, 화이자 구매 협의? 사실 아냐\" 반박', 'https://news.naver.com/main/read.nhn?mode=LSD&mid=shm&sid1=102&oid=047&aid=0002315066')]\n",
      "200\n",
      "[(datetime.datetime(2021, 6, 3, 15, 24, 56, 460362), '국내 돌파감염 5명 추가 총 9명…10만명당 0.87명꼴', 'https://news.naver.com/main/read.nhn?mode=LSD&mid=shm&sid1=102&oid=421&aid=0005391762'), (datetime.datetime(2021, 6, 3, 15, 24, 56, 460362), 'SK(주), 세계 첫 ‘청록수소’ 생산 회사 투자', 'https://news.naver.com/main/read.nhn?mode=LSD&mid=shm&sid1=101&oid=028&aid=0002547027'), (datetime.datetime(2021, 6, 3, 15, 24, 56, 460362), '공매도 재개 한달…금융당국 \"주가와 유의미한 관계 안 나타나\"', 'https://news.naver.com/main/read.nhn?mode=LSD&mid=shm&sid1=101&oid=001&aid=0012435681'), (datetime.datetime(2021, 6, 3, 15, 24, 56, 460362), '백혜련 \"日 도쿄올림픽 독도 표기, 명백한 영유권 침해\"', 'https://news.naver.com/main/read.nhn?mode=LSD&mid=shm&sid1=100&oid=421&aid=0005390594'), (datetime.datetime(2021, 6, 3, 15, 24, 56, 461362), '복지부 \"대구시, 화이자 구매 협의? 사실 아냐\" 반박', 'https://news.naver.com/main/read.nhn?mode=LSD&mid=shm&sid1=102&oid=047&aid=0002315066')]\n",
      "200\n",
      "[(datetime.datetime(2021, 6, 3, 15, 25, 1, 717686), '‘접종 뒤 확진’ 돌파감염 5건 추가…총 9건·모두 화이자', 'https://news.naver.com/main/read.nhn?mode=LSD&mid=shm&sid1=102&oid=056&aid=0011056640'), (datetime.datetime(2021, 6, 3, 15, 25, 1, 718684), '‘공군 성추행’ 피의자 구속…군검찰·민간참여 수사심의위 구성', 'https://news.naver.com/main/read.nhn?mode=LSD&mid=shm&sid1=100&oid=056&aid=0011056583'), (datetime.datetime(2021, 6, 3, 15, 25, 1, 718684), '6000억 넘는 M&A, 공정위 심사 받는다…소규모 비상장사는 공시의무 면제', 'https://news.naver.com/main/read.nhn?mode=LSD&mid=shm&sid1=101&oid=366&aid=0000727404'), (datetime.datetime(2021, 6, 3, 15, 25, 1, 718684), \"'네이버 통유리' 놓고 10년 법정싸움…결국 네이버가 졌다\", 'https://news.naver.com/main/read.nhn?mode=LSD&mid=shm&sid1=102&oid=025&aid=0003106798'), (datetime.datetime(2021, 6, 3, 15, 25, 1, 718684), '이용구 \"1천만 원 준 건 영상 삭제 대가 아닌 합의금\"', 'https://news.naver.com/main/read.nhn?mode=LSD&mid=shm&sid1=102&oid=055&aid=0000898373')]\n",
      "200\n",
      "[(datetime.datetime(2021, 6, 3, 15, 25, 1, 859675), '‘접종 뒤 확진’ 돌파감염 5건 추가…총 9건·모두 화이자', 'https://news.naver.com/main/read.nhn?mode=LSD&mid=shm&sid1=102&oid=056&aid=0011056640'), (datetime.datetime(2021, 6, 3, 15, 25, 1, 859675), '‘공군 성추행’ 피의자 구속…군검찰·민간참여 수사심의위 구성', 'https://news.naver.com/main/read.nhn?mode=LSD&mid=shm&sid1=100&oid=056&aid=0011056583'), (datetime.datetime(2021, 6, 3, 15, 25, 1, 859675), '6000억 넘는 M&A, 공정위 심사 받는다…소규모 비상장사는 공시의무 면제', 'https://news.naver.com/main/read.nhn?mode=LSD&mid=shm&sid1=101&oid=366&aid=0000727404'), (datetime.datetime(2021, 6, 3, 15, 25, 1, 859675), \"'네이버 통유리' 놓고 10년 법정싸움…결국 네이버가 졌다\", 'https://news.naver.com/main/read.nhn?mode=LSD&mid=shm&sid1=102&oid=025&aid=0003106798'), (datetime.datetime(2021, 6, 3, 15, 25, 1, 859675), '이용구 \"1천만 원 준 건 영상 삭제 대가 아닌 합의금\"', 'https://news.naver.com/main/read.nhn?mode=LSD&mid=shm&sid1=102&oid=055&aid=0000898373')]\n",
      "200\n",
      "[(datetime.datetime(2021, 6, 3, 15, 25, 2, 19659), '‘접종 뒤 확진’ 돌파감염 5건 추가…총 9건·모두 화이자', 'https://news.naver.com/main/read.nhn?mode=LSD&mid=shm&sid1=102&oid=056&aid=0011056640'), (datetime.datetime(2021, 6, 3, 15, 25, 2, 19659), '‘공군 성추행’ 피의자 구속…군검찰·민간참여 수사심의위 구성', 'https://news.naver.com/main/read.nhn?mode=LSD&mid=shm&sid1=100&oid=056&aid=0011056583'), (datetime.datetime(2021, 6, 3, 15, 25, 2, 20659), '6000억 넘는 M&A, 공정위 심사 받는다…소규모 비상장사는 공시의무 면제', 'https://news.naver.com/main/read.nhn?mode=LSD&mid=shm&sid1=101&oid=366&aid=0000727404'), (datetime.datetime(2021, 6, 3, 15, 25, 2, 20659), \"'네이버 통유리' 놓고 10년 법정싸움…결국 네이버가 졌다\", 'https://news.naver.com/main/read.nhn?mode=LSD&mid=shm&sid1=102&oid=025&aid=0003106798'), (datetime.datetime(2021, 6, 3, 15, 25, 2, 20659), '이용구 \"1천만 원 준 건 영상 삭제 대가 아닌 합의금\"', 'https://news.naver.com/main/read.nhn?mode=LSD&mid=shm&sid1=102&oid=055&aid=0000898373')]\n",
      "200\n",
      "[(datetime.datetime(2021, 6, 3, 15, 25, 2, 166789), '‘접종 뒤 확진’ 돌파감염 5건 추가…총 9건·모두 화이자', 'https://news.naver.com/main/read.nhn?mode=LSD&mid=shm&sid1=102&oid=056&aid=0011056640'), (datetime.datetime(2021, 6, 3, 15, 25, 2, 166789), '‘공군 성추행’ 피의자 구속…군검찰·민간참여 수사심의위 구성', 'https://news.naver.com/main/read.nhn?mode=LSD&mid=shm&sid1=100&oid=056&aid=0011056583'), (datetime.datetime(2021, 6, 3, 15, 25, 2, 166789), '6000억 넘는 M&A, 공정위 심사 받는다…소규모 비상장사는 공시의무 면제', 'https://news.naver.com/main/read.nhn?mode=LSD&mid=shm&sid1=101&oid=366&aid=0000727404'), (datetime.datetime(2021, 6, 3, 15, 25, 2, 167793), \"'네이버 통유리' 놓고 10년 법정싸움…결국 네이버가 졌다\", 'https://news.naver.com/main/read.nhn?mode=LSD&mid=shm&sid1=102&oid=025&aid=0003106798'), (datetime.datetime(2021, 6, 3, 15, 25, 2, 167793), '이용구 \"1천만 원 준 건 영상 삭제 대가 아닌 합의금\"', 'https://news.naver.com/main/read.nhn?mode=LSD&mid=shm&sid1=102&oid=055&aid=0000898373')]\n"
     ]
    },
    {
     "name": "stdout",
     "output_type": "stream",
     "text": [
      "200\n",
      "[(datetime.datetime(2021, 6, 3, 15, 25, 7, 354006), '尹 측, 송영길에 \"도 넘은 언행…사법제도에 대한 예의 아냐\"', 'https://news.naver.com/main/read.nhn?mode=LSD&mid=shm&sid1=100&oid=055&aid=0000898331'), (datetime.datetime(2021, 6, 3, 15, 25, 7, 354006), '수소사업 속도내는 SK, 세계 최초 청록수소 생산회사 투자', 'https://news.naver.com/main/read.nhn?mode=LSD&mid=shm&sid1=101&oid=277&aid=0004913914'), (datetime.datetime(2021, 6, 3, 15, 25, 7, 354006), '정부 \"현재 속도면 상반기 내 \\'1300만명+α\\' 접종 가능\"', 'https://news.naver.com/main/read.nhn?mode=LSD&mid=shm&sid1=102&oid=015&aid=0004556653'), (datetime.datetime(2021, 6, 3, 15, 25, 7, 354006), '하정우 \\'프로포폴 투약\\' 약식기소…\"안일한 판단 반성한다\"', 'https://news.naver.com/main/read.nhn?mode=LSD&mid=shm&sid1=102&oid=025&aid=0003106820'), (datetime.datetime(2021, 6, 3, 15, 25, 7, 354006), \"'보복운전' 구본성 아워홈 부회장 1심서 집행유예 2년\", 'https://news.naver.com/main/read.nhn?mode=LSD&mid=shm&sid1=102&oid=009&aid=0004803679')]\n",
      "200\n",
      "[(datetime.datetime(2021, 6, 3, 15, 25, 7, 506095), '尹 측, 송영길에 \"도 넘은 언행…사법제도에 대한 예의 아냐\"', 'https://news.naver.com/main/read.nhn?mode=LSD&mid=shm&sid1=100&oid=055&aid=0000898331'), (datetime.datetime(2021, 6, 3, 15, 25, 7, 506095), '수소사업 속도내는 SK, 세계 최초 청록수소 생산회사 투자', 'https://news.naver.com/main/read.nhn?mode=LSD&mid=shm&sid1=101&oid=277&aid=0004913914'), (datetime.datetime(2021, 6, 3, 15, 25, 7, 506095), '정부 \"현재 속도면 상반기 내 \\'1300만명+α\\' 접종 가능\"', 'https://news.naver.com/main/read.nhn?mode=LSD&mid=shm&sid1=102&oid=015&aid=0004556653'), (datetime.datetime(2021, 6, 3, 15, 25, 7, 506095), '하정우 \\'프로포폴 투약\\' 약식기소…\"안일한 판단 반성한다\"', 'https://news.naver.com/main/read.nhn?mode=LSD&mid=shm&sid1=102&oid=025&aid=0003106820'), (datetime.datetime(2021, 6, 3, 15, 25, 7, 506095), \"'보복운전' 구본성 아워홈 부회장 1심서 집행유예 2년\", 'https://news.naver.com/main/read.nhn?mode=LSD&mid=shm&sid1=102&oid=009&aid=0004803679')]\n",
      "200\n",
      "[(datetime.datetime(2021, 6, 3, 15, 25, 12, 710308), '60세 이상 고령층 등 사전예약률 77.7%…오늘 접수 마감', 'https://news.naver.com/main/read.nhn?mode=LSD&mid=shm&sid1=102&oid=056&aid=0011056636'), (datetime.datetime(2021, 6, 3, 15, 25, 12, 710308), '문대통령, 與초선과 1시간 30분간 간담회…조국 언급은 없었다', 'https://news.naver.com/main/read.nhn?mode=LSD&mid=shm&sid1=100&oid=119&aid=0002498701'), (datetime.datetime(2021, 6, 3, 15, 25, 12, 710308), '모의평가 수학 \"선택과목 평이, 공통과목서 변별력 확보\"', 'https://news.naver.com/main/read.nhn?mode=LSD&mid=shm&sid1=102&oid=018&aid=0004946519'), (datetime.datetime(2021, 6, 3, 15, 25, 12, 710308), '평창 땐 독도 빼라던 IOC, 日 \"독도는 일본 땅\" 억지에도 \\'침묵\\'', 'https://news.naver.com/main/read.nhn?mode=LSD&mid=shm&sid1=104&oid=277&aid=0004914029'), (datetime.datetime(2021, 6, 3, 15, 25, 12, 710308), '전국 차츰 비…더위 누그러져[날씨]', 'https://news.naver.com/main/read.nhn?mode=LSD&mid=shm&sid1=103&oid=214&aid=0001122791')]\n",
      "200\n",
      "[(datetime.datetime(2021, 6, 3, 15, 25, 12, 848330), '60세 이상 고령층 등 사전예약률 77.7%…오늘 접수 마감', 'https://news.naver.com/main/read.nhn?mode=LSD&mid=shm&sid1=102&oid=056&aid=0011056636'), (datetime.datetime(2021, 6, 3, 15, 25, 12, 849329), '문대통령, 與초선과 1시간 30분간 간담회…조국 언급은 없었다', 'https://news.naver.com/main/read.nhn?mode=LSD&mid=shm&sid1=100&oid=119&aid=0002498701'), (datetime.datetime(2021, 6, 3, 15, 25, 12, 849329), '모의평가 수학 \"선택과목 평이, 공통과목서 변별력 확보\"', 'https://news.naver.com/main/read.nhn?mode=LSD&mid=shm&sid1=102&oid=018&aid=0004946519'), (datetime.datetime(2021, 6, 3, 15, 25, 12, 849329), '평창 땐 독도 빼라던 IOC, 日 \"독도는 일본 땅\" 억지에도 \\'침묵\\'', 'https://news.naver.com/main/read.nhn?mode=LSD&mid=shm&sid1=104&oid=277&aid=0004914029'), (datetime.datetime(2021, 6, 3, 15, 25, 12, 849329), '전국 차츰 비…더위 누그러져[날씨]', 'https://news.naver.com/main/read.nhn?mode=LSD&mid=shm&sid1=103&oid=214&aid=0001122791')]\n",
      "200\n",
      "[(datetime.datetime(2021, 6, 3, 15, 25, 13, 72147), '60세 이상 고령층 등 사전예약률 77.7%…오늘 접수 마감', 'https://news.naver.com/main/read.nhn?mode=LSD&mid=shm&sid1=102&oid=056&aid=0011056636'), (datetime.datetime(2021, 6, 3, 15, 25, 13, 72147), '문대통령, 與초선과 1시간 30분간 간담회…조국 언급은 없었다', 'https://news.naver.com/main/read.nhn?mode=LSD&mid=shm&sid1=100&oid=119&aid=0002498701'), (datetime.datetime(2021, 6, 3, 15, 25, 13, 72147), '모의평가 수학 \"선택과목 평이, 공통과목서 변별력 확보\"', 'https://news.naver.com/main/read.nhn?mode=LSD&mid=shm&sid1=102&oid=018&aid=0004946519'), (datetime.datetime(2021, 6, 3, 15, 25, 13, 73147), '평창 땐 독도 빼라던 IOC, 日 \"독도는 일본 땅\" 억지에도 \\'침묵\\'', 'https://news.naver.com/main/read.nhn?mode=LSD&mid=shm&sid1=104&oid=277&aid=0004914029'), (datetime.datetime(2021, 6, 3, 15, 25, 13, 73147), '전국 차츰 비…더위 누그러져[날씨]', 'https://news.naver.com/main/read.nhn?mode=LSD&mid=shm&sid1=103&oid=214&aid=0001122791')]\n",
      "200\n",
      "[(datetime.datetime(2021, 6, 3, 15, 25, 13, 216408), '60세 이상 고령층 등 사전예약률 77.7%…오늘 접수 마감', 'https://news.naver.com/main/read.nhn?mode=LSD&mid=shm&sid1=102&oid=056&aid=0011056636'), (datetime.datetime(2021, 6, 3, 15, 25, 13, 217434), '문대통령, 與초선과 1시간 30분간 간담회…조국 언급은 없었다', 'https://news.naver.com/main/read.nhn?mode=LSD&mid=shm&sid1=100&oid=119&aid=0002498701'), (datetime.datetime(2021, 6, 3, 15, 25, 13, 217434), '모의평가 수학 \"선택과목 평이, 공통과목서 변별력 확보\"', 'https://news.naver.com/main/read.nhn?mode=LSD&mid=shm&sid1=102&oid=018&aid=0004946519'), (datetime.datetime(2021, 6, 3, 15, 25, 13, 217434), '평창 땐 독도 빼라던 IOC, 日 \"독도는 일본 땅\" 억지에도 \\'침묵\\'', 'https://news.naver.com/main/read.nhn?mode=LSD&mid=shm&sid1=104&oid=277&aid=0004914029'), (datetime.datetime(2021, 6, 3, 15, 25, 13, 217434), '전국 차츰 비…더위 누그러져[날씨]', 'https://news.naver.com/main/read.nhn?mode=LSD&mid=shm&sid1=103&oid=214&aid=0001122791')]\n",
      "200\n",
      "[(datetime.datetime(2021, 6, 3, 15, 25, 18, 429026), '‘보복운전·특수상해’ 구본성 아워홈 부회장 1심서 집유', 'https://news.naver.com/main/read.nhn?mode=LSD&mid=shm&sid1=102&oid=366&aid=0000727543'), (datetime.datetime(2021, 6, 3, 15, 25, 18, 429026), '文 \"경제적 성과있지만 국민 고통에 매우 마음 아파\"', 'https://news.naver.com/main/read.nhn?mode=LSD&mid=shm&sid1=100&oid=014&aid=0004650649'), (datetime.datetime(2021, 6, 3, 15, 25, 18, 429026), '정부 “대구시 주선 화이자, 도입 않기로”…화이자 “고발 검토”', 'https://news.naver.com/main/read.nhn?mode=LSD&mid=shm&sid1=102&oid=449&aid=0000209722'), (datetime.datetime(2021, 6, 3, 15, 25, 18, 429026), '공정위, \\'부당지원\\' 삼성 자진시정 신청 기각…\"요건 안돼\"', 'https://news.naver.com/main/read.nhn?mode=LSD&mid=shm&sid1=101&oid=421&aid=0005391460'), (datetime.datetime(2021, 6, 3, 15, 25, 18, 429026), '日 \"독도는 우리 영토…韓 항의 절대 받아들일 수 없다\"', 'https://news.naver.com/main/read.nhn?mode=LSD&mid=shm&sid1=102&oid=015&aid=0004556578')]\n",
      "200\n",
      "[(datetime.datetime(2021, 6, 3, 15, 25, 18, 608850), '벌어서 이자도 못내는 기업 비중 34.5%…통계작성 후 최대', 'https://news.naver.com/main/read.nhn?mode=LSD&mid=shm&sid1=101&oid=016&aid=0001843831'), (datetime.datetime(2021, 6, 3, 15, 25, 18, 608850), \"대법원 10년 만에 '네이버 사옥 통유리 반사광 피해' 호소 주민들 손 들어줬다\", 'https://news.naver.com/main/read.nhn?mode=LSD&mid=shm&sid1=102&oid=022&aid=0003587139'), (datetime.datetime(2021, 6, 3, 15, 25, 18, 608850), '이용구 택시 기사 폭행…‘블랙박스 영상’ 공개', 'https://news.naver.com/main/read.nhn?mode=LSD&mid=shm&sid1=115&oid=449&aid=0000209709'), (datetime.datetime(2021, 6, 3, 15, 25, 18, 608850), '백신 접종 완료하고 감염…국내 돌파감염 총 9건 확인', 'https://news.naver.com/main/read.nhn?mode=LSD&mid=shm&sid1=102&oid=018&aid=0004946552'), (datetime.datetime(2021, 6, 3, 15, 25, 18, 609856), '윤석열측, 송영길·정세균 겨냥해 “도 넘은 언행···무분별한 비방 지속시 적극 대응”', 'https://news.naver.com/main/read.nhn?mode=LSD&mid=shm&sid1=100&oid=011&aid=0003918520')]\n",
      "200\n",
      "[(datetime.datetime(2021, 6, 3, 15, 25, 23, 753396), '‘공군 성추행’ 피의자 구속…군검찰·민간참여 수사심의위 구성', 'https://news.naver.com/main/read.nhn?mode=LSD&mid=shm&sid1=100&oid=056&aid=0011056583'), (datetime.datetime(2021, 6, 3, 15, 25, 23, 753396), '尹측 \"조국 수사 3개월, 부인 사건 1년3개월···檢 무모하다\"', 'https://news.naver.com/main/read.nhn?mode=LSD&mid=shm&sid1=102&oid=025&aid=0003106775'), (datetime.datetime(2021, 6, 3, 15, 25, 23, 753396), '대법, ‘네이버 통유리 사옥’ 빛 반사 배상책임 인정…파기환송', 'https://news.naver.com/main/read.nhn?mode=LSD&mid=shm&sid1=102&oid=056&aid=0011056567'), (datetime.datetime(2021, 6, 3, 15, 25, 23, 753396), '초선들 만난 문 대통령 “내부 단합하고 외연 확장할 때 지지 만들어져”', 'https://news.naver.com/main/read.nhn?mode=LSD&mid=shm&sid1=100&oid=032&aid=0003077992'), (datetime.datetime(2021, 6, 3, 15, 25, 23, 754395), '[속보] 공군 \\'성추행 피해자\\' 변호인 \"사건 은폐 부사관도 성추행\"', 'https://news.naver.com/main/read.nhn?mode=LSD&mid=shm&sid1=100&oid=014&aid=0004650616')]\n",
      "200\n",
      "[(datetime.datetime(2021, 6, 3, 15, 25, 23, 915849), '‘공군 성추행’ 피의자 구속…군검찰·민간참여 수사심의위 구성', 'https://news.naver.com/main/read.nhn?mode=LSD&mid=shm&sid1=100&oid=056&aid=0011056583'), (datetime.datetime(2021, 6, 3, 15, 25, 23, 915849), '尹측 \"조국 수사 3개월, 부인 사건 1년3개월···檢 무모하다\"', 'https://news.naver.com/main/read.nhn?mode=LSD&mid=shm&sid1=102&oid=025&aid=0003106775'), (datetime.datetime(2021, 6, 3, 15, 25, 23, 915849), '대법, ‘네이버 통유리 사옥’ 빛 반사 배상책임 인정…파기환송', 'https://news.naver.com/main/read.nhn?mode=LSD&mid=shm&sid1=102&oid=056&aid=0011056567'), (datetime.datetime(2021, 6, 3, 15, 25, 23, 915849), '초선들 만난 문 대통령 “내부 단합하고 외연 확장할 때 지지 만들어져”', 'https://news.naver.com/main/read.nhn?mode=LSD&mid=shm&sid1=100&oid=032&aid=0003077992'), (datetime.datetime(2021, 6, 3, 15, 25, 23, 916853), '[속보] 공군 \\'성추행 피해자\\' 변호인 \"사건 은폐 부사관도 성추행\"', 'https://news.naver.com/main/read.nhn?mode=LSD&mid=shm&sid1=100&oid=014&aid=0004650616')]\n",
      "200\n",
      "[(datetime.datetime(2021, 6, 3, 15, 25, 24, 102401), '‘공군 성추행’ 피의자 구속…군검찰·민간참여 수사심의위 구성', 'https://news.naver.com/main/read.nhn?mode=LSD&mid=shm&sid1=100&oid=056&aid=0011056583'), (datetime.datetime(2021, 6, 3, 15, 25, 24, 102401), '尹측 \"조국 수사 3개월, 부인 사건 1년3개월···檢 무모하다\"', 'https://news.naver.com/main/read.nhn?mode=LSD&mid=shm&sid1=102&oid=025&aid=0003106775'), (datetime.datetime(2021, 6, 3, 15, 25, 24, 102401), '대법, ‘네이버 통유리 사옥’ 빛 반사 배상책임 인정…파기환송', 'https://news.naver.com/main/read.nhn?mode=LSD&mid=shm&sid1=102&oid=056&aid=0011056567'), (datetime.datetime(2021, 6, 3, 15, 25, 24, 102401), '초선들 만난 문 대통령 “내부 단합하고 외연 확장할 때 지지 만들어져”', 'https://news.naver.com/main/read.nhn?mode=LSD&mid=shm&sid1=100&oid=032&aid=0003077992'), (datetime.datetime(2021, 6, 3, 15, 25, 24, 103401), '[속보] 공군 \\'성추행 피해자\\' 변호인 \"사건 은폐 부사관도 성추행\"', 'https://news.naver.com/main/read.nhn?mode=LSD&mid=shm&sid1=100&oid=014&aid=0004650616')]\n"
     ]
    },
    {
     "name": "stdout",
     "output_type": "stream",
     "text": [
      "200\n",
      "[(datetime.datetime(2021, 6, 3, 15, 25, 24, 250306), '‘공군 성추행’ 피의자 구속…군검찰·민간참여 수사심의위 구성', 'https://news.naver.com/main/read.nhn?mode=LSD&mid=shm&sid1=100&oid=056&aid=0011056583'), (datetime.datetime(2021, 6, 3, 15, 25, 24, 250306), '尹측 \"조국 수사 3개월, 부인 사건 1년3개월···檢 무모하다\"', 'https://news.naver.com/main/read.nhn?mode=LSD&mid=shm&sid1=102&oid=025&aid=0003106775'), (datetime.datetime(2021, 6, 3, 15, 25, 24, 250306), '대법, ‘네이버 통유리 사옥’ 빛 반사 배상책임 인정…파기환송', 'https://news.naver.com/main/read.nhn?mode=LSD&mid=shm&sid1=102&oid=056&aid=0011056567'), (datetime.datetime(2021, 6, 3, 15, 25, 24, 250306), '초선들 만난 문 대통령 “내부 단합하고 외연 확장할 때 지지 만들어져”', 'https://news.naver.com/main/read.nhn?mode=LSD&mid=shm&sid1=100&oid=032&aid=0003077992'), (datetime.datetime(2021, 6, 3, 15, 25, 24, 251290), '[속보] 공군 \\'성추행 피해자\\' 변호인 \"사건 은폐 부사관도 성추행\"', 'https://news.naver.com/main/read.nhn?mode=LSD&mid=shm&sid1=100&oid=014&aid=0004650616')]\n",
      "200\n",
      "[(datetime.datetime(2021, 6, 3, 15, 25, 29, 539011), '이용구 \"택시기사에 1000만 원, 영상 삭제 대가 아냐\" [전문]', 'https://news.naver.com/main/read.nhn?mode=LSD&mid=shm&sid1=102&oid=437&aid=0000267930'), (datetime.datetime(2021, 6, 3, 15, 25, 29, 540011), '일본 도쿄올림픽조직위원회의 규탄 기자회견', 'https://news.naver.com/main/read.nhn?mode=LSD&mid=shm&sid1=100&oid=015&aid=0004556534'), (datetime.datetime(2021, 6, 3, 15, 25, 29, 540011), \"'보복운전 혐의' 아워홈 구본성 부회장…1심서 집행유예\", 'https://news.naver.com/main/read.nhn?mode=LSD&mid=shm&sid1=102&oid=003&aid=0010532136'), (datetime.datetime(2021, 6, 3, 15, 25, 29, 540011), '[현장영상] 與 초선의원 68명, 대통령과 간담회...어떤 이야기 오갔나', 'https://news.naver.com/main/read.nhn?mode=LSD&mid=shm&sid1=100&oid=052&aid=0001596403'), (datetime.datetime(2021, 6, 3, 15, 25, 29, 540011), '尹측 \"조국 수사 3개월, 부인 사건 1년3개월···檢 무모하다\"', 'https://news.naver.com/main/read.nhn?mode=LSD&mid=shm&sid1=102&oid=025&aid=0003106775')]\n",
      "200\n",
      "[(datetime.datetime(2021, 6, 3, 15, 25, 29, 687062), '전국 대부분에 비…더위는 한풀 꺾여', 'https://news.naver.com/main/read.nhn?mode=LSD&mid=shm&sid1=102&oid=018&aid=0004946534'), (datetime.datetime(2021, 6, 3, 15, 25, 29, 688072), '대구 제안받은 화이자백신 정품 아니다?…정부 \"진위 여부 의심돼 도입 안 한다\"', 'https://news.naver.com/main/read.nhn?mode=LSD&mid=shm&sid1=102&oid=088&aid=0000705851'), (datetime.datetime(2021, 6, 3, 15, 25, 29, 688072), '이용구 \"택시기사에 거듭 사과...영상 유포 우려해 삭제 요청\"', 'https://news.naver.com/main/read.nhn?mode=LSD&mid=shm&sid1=102&oid=052&aid=0001596289'), (datetime.datetime(2021, 6, 3, 15, 25, 29, 688072), '문대통령, 女부사관 사건에 \"가슴 아파\"…엄정 수사 지시(종합)', 'https://news.naver.com/main/read.nhn?mode=LSD&mid=shm&sid1=100&oid=001&aid=0012435327'), (datetime.datetime(2021, 6, 3, 15, 25, 29, 688072), '尹 측, 송영길에 \"도 넘은 언행…사법제도에 대한 예의 아냐\"', 'https://news.naver.com/main/read.nhn?mode=LSD&mid=shm&sid1=100&oid=055&aid=0000898331')]\n",
      "200\n",
      "[(datetime.datetime(2021, 6, 3, 15, 25, 34, 881131), \"'보복운전' 구본성 아워홈 부회장 1심서 집행유예 2년\", 'https://news.naver.com/main/read.nhn?mode=LSD&mid=shm&sid1=102&oid=009&aid=0004803679'), (datetime.datetime(2021, 6, 3, 15, 25, 34, 882131), '文대통령, 與 초선들과 간담회 “국민 고통 마음 아파…혁신과 역동성 발휘해야”', 'https://news.naver.com/main/read.nhn?mode=LSD&mid=shm&sid1=100&oid=277&aid=0004914066'), (datetime.datetime(2021, 6, 3, 15, 25, 34, 882131), '이용구 \"1천만 원은 합의금…영상 삭제 대가 아냐\"', 'https://news.naver.com/main/read.nhn?mode=LSD&mid=shm&sid1=102&oid=214&aid=0001122797'), (datetime.datetime(2021, 6, 3, 15, 25, 34, 882131), '文대통령 \"백신 접종 속도 내고 있어, 집단면역시기 당겨질 것\"', 'https://news.naver.com/main/read.nhn?mode=LSD&mid=shm&sid1=100&oid=016&aid=0001843873'), (datetime.datetime(2021, 6, 3, 15, 25, 34, 882131), '與, 도쿄올림픽 독도 표기 규탄...\"영토주권 침해\"', 'https://news.naver.com/main/read.nhn?mode=LSD&mid=shm&sid1=100&oid=014&aid=0004650509')]\n",
      "200\n",
      "[(datetime.datetime(2021, 6, 3, 15, 25, 35, 19146), \"'보복운전' 구본성 아워홈 부회장 1심서 집행유예 2년\", 'https://news.naver.com/main/read.nhn?mode=LSD&mid=shm&sid1=102&oid=009&aid=0004803679'), (datetime.datetime(2021, 6, 3, 15, 25, 35, 19146), '文대통령, 與 초선들과 간담회 “국민 고통 마음 아파…혁신과 역동성 발휘해야”', 'https://news.naver.com/main/read.nhn?mode=LSD&mid=shm&sid1=100&oid=277&aid=0004914066'), (datetime.datetime(2021, 6, 3, 15, 25, 35, 20146), '이용구 \"1천만 원은 합의금…영상 삭제 대가 아냐\"', 'https://news.naver.com/main/read.nhn?mode=LSD&mid=shm&sid1=102&oid=214&aid=0001122797'), (datetime.datetime(2021, 6, 3, 15, 25, 35, 20146), '文대통령 \"백신 접종 속도 내고 있어, 집단면역시기 당겨질 것\"', 'https://news.naver.com/main/read.nhn?mode=LSD&mid=shm&sid1=100&oid=016&aid=0001843873'), (datetime.datetime(2021, 6, 3, 15, 25, 35, 20146), '與, 도쿄올림픽 독도 표기 규탄...\"영토주권 침해\"', 'https://news.naver.com/main/read.nhn?mode=LSD&mid=shm&sid1=100&oid=014&aid=0004650509')]\n",
      "200\n",
      "[(datetime.datetime(2021, 6, 3, 15, 25, 35, 170327), \"'보복운전' 구본성 아워홈 부회장 1심서 집행유예 2년\", 'https://news.naver.com/main/read.nhn?mode=LSD&mid=shm&sid1=102&oid=009&aid=0004803679'), (datetime.datetime(2021, 6, 3, 15, 25, 35, 170327), '文대통령, 與 초선들과 간담회 “국민 고통 마음 아파…혁신과 역동성 발휘해야”', 'https://news.naver.com/main/read.nhn?mode=LSD&mid=shm&sid1=100&oid=277&aid=0004914066'), (datetime.datetime(2021, 6, 3, 15, 25, 35, 170327), '이용구 \"1천만 원은 합의금…영상 삭제 대가 아냐\"', 'https://news.naver.com/main/read.nhn?mode=LSD&mid=shm&sid1=102&oid=214&aid=0001122797'), (datetime.datetime(2021, 6, 3, 15, 25, 35, 170327), '文대통령 \"백신 접종 속도 내고 있어, 집단면역시기 당겨질 것\"', 'https://news.naver.com/main/read.nhn?mode=LSD&mid=shm&sid1=100&oid=016&aid=0001843873'), (datetime.datetime(2021, 6, 3, 15, 25, 35, 170327), '與, 도쿄올림픽 독도 표기 규탄...\"영토주권 침해\"', 'https://news.naver.com/main/read.nhn?mode=LSD&mid=shm&sid1=100&oid=014&aid=0004650509')]\n",
      "200\n",
      "[(datetime.datetime(2021, 6, 3, 15, 25, 35, 337714), \"'보복운전' 구본성 아워홈 부회장 1심서 집행유예 2년\", 'https://news.naver.com/main/read.nhn?mode=LSD&mid=shm&sid1=102&oid=009&aid=0004803679'), (datetime.datetime(2021, 6, 3, 15, 25, 35, 337714), '文대통령, 與 초선들과 간담회 “국민 고통 마음 아파…혁신과 역동성 발휘해야”', 'https://news.naver.com/main/read.nhn?mode=LSD&mid=shm&sid1=100&oid=277&aid=0004914066'), (datetime.datetime(2021, 6, 3, 15, 25, 35, 337714), '이용구 \"1천만 원은 합의금…영상 삭제 대가 아냐\"', 'https://news.naver.com/main/read.nhn?mode=LSD&mid=shm&sid1=102&oid=214&aid=0001122797'), (datetime.datetime(2021, 6, 3, 15, 25, 35, 337714), '文대통령 \"백신 접종 속도 내고 있어, 집단면역시기 당겨질 것\"', 'https://news.naver.com/main/read.nhn?mode=LSD&mid=shm&sid1=100&oid=016&aid=0001843873'), (datetime.datetime(2021, 6, 3, 15, 25, 35, 337714), '與, 도쿄올림픽 독도 표기 규탄...\"영토주권 침해\"', 'https://news.naver.com/main/read.nhn?mode=LSD&mid=shm&sid1=100&oid=014&aid=0004650509')]\n",
      "200\n",
      "[(datetime.datetime(2021, 6, 3, 15, 25, 40, 516129), '이용구 \"택시기사에 거듭 사과...영상 유포 우려해 삭제 요청\"', 'https://news.naver.com/main/read.nhn?mode=LSD&mid=shm&sid1=102&oid=052&aid=0001596289'), (datetime.datetime(2021, 6, 3, 15, 25, 40, 516129), '백혜련 등 민주당 의원 132명, 도쿄올림픽 독도 日영토 표기 규탄', 'https://news.naver.com/main/read.nhn?mode=LSD&mid=shm&sid1=100&oid=119&aid=0002498649'), (datetime.datetime(2021, 6, 3, 15, 25, 40, 516129), '문대통령 \"절망스러웠을 피해자…엄중 수사해야\"', 'https://news.naver.com/main/read.nhn?mode=LSD&mid=shm&sid1=100&oid=422&aid=0000488189'), (datetime.datetime(2021, 6, 3, 15, 25, 40, 516129), '‘접종 뒤 확진’ 돌파감염 5건 추가…총 9건·모두 화이자', 'https://news.naver.com/main/read.nhn?mode=LSD&mid=shm&sid1=102&oid=056&aid=0011056640'), (datetime.datetime(2021, 6, 3, 15, 25, 40, 516129), \"'부사관 성추행' 수사 팔 걷었다…軍 최초 '수사심의위' 설치\", 'https://news.naver.com/main/read.nhn?mode=LSD&mid=shm&sid1=102&oid=025&aid=0003106766')]\n",
      "200\n",
      "[(datetime.datetime(2021, 6, 3, 15, 25, 40, 682395), '정부 \"대구시 주선 화이자 백신 진위 의심…구매 안한다\"', 'https://news.naver.com/main/read.nhn?mode=LSD&mid=shm&sid1=102&oid=001&aid=0012435457'), (datetime.datetime(2021, 6, 3, 15, 25, 40, 682395), '文대통령, 공군 성폭력피해사건 “최고 상급자 등 지휘라인 문제 살펴야”', 'https://news.naver.com/main/read.nhn?mode=LSD&mid=shm&sid1=100&oid=016&aid=0001843860'), (datetime.datetime(2021, 6, 3, 15, 25, 40, 683397), \"'범LG家 3세' 아워홈 구본성, 보복운전으로 1심 집행유예\", 'https://news.naver.com/main/read.nhn?mode=LSD&mid=shm&sid1=102&oid=001&aid=0012435881'), (datetime.datetime(2021, 6, 3, 15, 25, 40, 683397), \"국회의원 132명 '도쿄올림픽 지도 독도 삭제' 규탄결의안 발의\", 'https://news.naver.com/main/read.nhn?mode=LSD&mid=shm&sid1=100&oid=011&aid=0003918697'), (datetime.datetime(2021, 6, 3, 15, 25, 40, 683397), '부사관 유족측 \"성추행 피해 더 있다\"…2차가해 등 3명 추가고소', 'https://news.naver.com/main/read.nhn?mode=LSD&mid=shm&sid1=100&oid=421&aid=0005391727')]\n",
      "200\n",
      "[(datetime.datetime(2021, 6, 3, 15, 25, 45, 978866), '[단독]\"이용구 폭행 피해자인데 입건…거짓말탐지기도 요구\"', 'https://news.naver.com/main/read.nhn?mode=LSD&mid=shm&sid1=102&oid=025&aid=0003106754'), (datetime.datetime(2021, 6, 3, 15, 25, 45, 978866), \"삼성·하이닉스 빼면 1000원 팔아 46원 남겨..3곳 중 1곳 좀비기업 '역대 최대'\", 'https://news.naver.com/main/read.nhn?mode=LSD&mid=shm&sid1=101&oid=018&aid=0004946448'), (datetime.datetime(2021, 6, 3, 15, 25, 45, 978866), '공매도 재개 한달…금융당국 \"주가와 유의미한 관계 안 나타나\"', 'https://news.naver.com/main/read.nhn?mode=LSD&mid=shm&sid1=101&oid=001&aid=0012435681'), (datetime.datetime(2021, 6, 3, 15, 25, 45, 978866), \"네이버 통유리 사옥 10년 '반사광' 소송…주민들이 이겼다\", 'https://news.naver.com/main/read.nhn?mode=LSD&mid=shm&sid1=102&oid=009&aid=0004803625'), (datetime.datetime(2021, 6, 3, 15, 25, 45, 979866), '접종 후 ‘돌파감염’ 5명 추가, 모두 화이자…누적 9명', 'https://news.naver.com/main/read.nhn?mode=LSD&mid=shm&sid1=102&oid=005&aid=0001444625')]\n"
     ]
    },
    {
     "name": "stdout",
     "output_type": "stream",
     "text": [
      "200\n",
      "[(datetime.datetime(2021, 6, 3, 15, 25, 46, 109399), '[단독]\"이용구 폭행 피해자인데 입건…거짓말탐지기도 요구\"', 'https://news.naver.com/main/read.nhn?mode=LSD&mid=shm&sid1=102&oid=025&aid=0003106754'), (datetime.datetime(2021, 6, 3, 15, 25, 46, 109399), \"삼성·하이닉스 빼면 1000원 팔아 46원 남겨..3곳 중 1곳 좀비기업 '역대 최대'\", 'https://news.naver.com/main/read.nhn?mode=LSD&mid=shm&sid1=101&oid=018&aid=0004946448'), (datetime.datetime(2021, 6, 3, 15, 25, 46, 109399), '공매도 재개 한달…금융당국 \"주가와 유의미한 관계 안 나타나\"', 'https://news.naver.com/main/read.nhn?mode=LSD&mid=shm&sid1=101&oid=001&aid=0012435681'), (datetime.datetime(2021, 6, 3, 15, 25, 46, 109399), \"네이버 통유리 사옥 10년 '반사광' 소송…주민들이 이겼다\", 'https://news.naver.com/main/read.nhn?mode=LSD&mid=shm&sid1=102&oid=009&aid=0004803625'), (datetime.datetime(2021, 6, 3, 15, 25, 46, 110399), '접종 후 ‘돌파감염’ 5명 추가, 모두 화이자…누적 9명', 'https://news.naver.com/main/read.nhn?mode=LSD&mid=shm&sid1=102&oid=005&aid=0001444625')]\n",
      "200\n",
      "[(datetime.datetime(2021, 6, 3, 15, 25, 46, 252352), '[단독]\"이용구 폭행 피해자인데 입건…거짓말탐지기도 요구\"', 'https://news.naver.com/main/read.nhn?mode=LSD&mid=shm&sid1=102&oid=025&aid=0003106754'), (datetime.datetime(2021, 6, 3, 15, 25, 46, 252352), \"삼성·하이닉스 빼면 1000원 팔아 46원 남겨..3곳 중 1곳 좀비기업 '역대 최대'\", 'https://news.naver.com/main/read.nhn?mode=LSD&mid=shm&sid1=101&oid=018&aid=0004946448'), (datetime.datetime(2021, 6, 3, 15, 25, 46, 252352), '공매도 재개 한달…금융당국 \"주가와 유의미한 관계 안 나타나\"', 'https://news.naver.com/main/read.nhn?mode=LSD&mid=shm&sid1=101&oid=001&aid=0012435681'), (datetime.datetime(2021, 6, 3, 15, 25, 46, 253343), \"네이버 통유리 사옥 10년 '반사광' 소송…주민들이 이겼다\", 'https://news.naver.com/main/read.nhn?mode=LSD&mid=shm&sid1=102&oid=009&aid=0004803625'), (datetime.datetime(2021, 6, 3, 15, 25, 46, 253343), '접종 후 ‘돌파감염’ 5명 추가, 모두 화이자…누적 9명', 'https://news.naver.com/main/read.nhn?mode=LSD&mid=shm&sid1=102&oid=005&aid=0001444625')]\n",
      "200\n",
      "[(datetime.datetime(2021, 6, 3, 15, 25, 46, 398340), '[단독]\"이용구 폭행 피해자인데 입건…거짓말탐지기도 요구\"', 'https://news.naver.com/main/read.nhn?mode=LSD&mid=shm&sid1=102&oid=025&aid=0003106754'), (datetime.datetime(2021, 6, 3, 15, 25, 46, 398340), \"삼성·하이닉스 빼면 1000원 팔아 46원 남겨..3곳 중 1곳 좀비기업 '역대 최대'\", 'https://news.naver.com/main/read.nhn?mode=LSD&mid=shm&sid1=101&oid=018&aid=0004946448'), (datetime.datetime(2021, 6, 3, 15, 25, 46, 398340), '공매도 재개 한달…금융당국 \"주가와 유의미한 관계 안 나타나\"', 'https://news.naver.com/main/read.nhn?mode=LSD&mid=shm&sid1=101&oid=001&aid=0012435681'), (datetime.datetime(2021, 6, 3, 15, 25, 46, 398340), \"네이버 통유리 사옥 10년 '반사광' 소송…주민들이 이겼다\", 'https://news.naver.com/main/read.nhn?mode=LSD&mid=shm&sid1=102&oid=009&aid=0004803625'), (datetime.datetime(2021, 6, 3, 15, 25, 46, 399341), '접종 후 ‘돌파감염’ 5명 추가, 모두 화이자…누적 9명', 'https://news.naver.com/main/read.nhn?mode=LSD&mid=shm&sid1=102&oid=005&aid=0001444625')]\n",
      "200\n",
      "[(datetime.datetime(2021, 6, 3, 15, 25, 51, 599558), '정부 \"대구 주선 화이자 백신 \\'직구\\' 추진 안해\" (종합)', 'https://news.naver.com/main/read.nhn?mode=LSD&mid=shm&sid1=102&oid=011&aid=0003918587'), (datetime.datetime(2021, 6, 3, 15, 25, 51, 599558), '이용구 \"1천만 원 준 건 영상 삭제 대가 아닌 합의금\"', 'https://news.naver.com/main/read.nhn?mode=LSD&mid=shm&sid1=102&oid=055&aid=0000898373'), (datetime.datetime(2021, 6, 3, 15, 25, 51, 599558), \"'반사광 최대 2.9만배' 네이버 유리사옥 법정다툼, 주민들 이겼다\", 'https://news.naver.com/main/read.nhn?mode=LSD&mid=shm&sid1=102&oid=008&aid=0004596631'), (datetime.datetime(2021, 6, 3, 15, 25, 51, 600559), \"'범LG家 3세' 아워홈 구본성, 보복운전으로 1심 집행유예\", 'https://news.naver.com/main/read.nhn?mode=LSD&mid=shm&sid1=102&oid=001&aid=0012435881'), (datetime.datetime(2021, 6, 3, 15, 25, 51, 600559), '백혜련 등 민주당 의원 132명, 日도쿄올림픽조직위 독도 표기 규탄 결의안 제출', 'https://news.naver.com/main/read.nhn?mode=LSD&mid=shm&sid1=100&oid=032&aid=0003077917')]\n",
      "200\n",
      "[(datetime.datetime(2021, 6, 3, 15, 25, 51, 748208), '정부 \"대구 주선 화이자 백신 \\'직구\\' 추진 안해\" (종합)', 'https://news.naver.com/main/read.nhn?mode=LSD&mid=shm&sid1=102&oid=011&aid=0003918587'), (datetime.datetime(2021, 6, 3, 15, 25, 51, 748208), '이용구 \"1천만 원 준 건 영상 삭제 대가 아닌 합의금\"', 'https://news.naver.com/main/read.nhn?mode=LSD&mid=shm&sid1=102&oid=055&aid=0000898373'), (datetime.datetime(2021, 6, 3, 15, 25, 51, 748208), \"'반사광 최대 2.9만배' 네이버 유리사옥 법정다툼, 주민들 이겼다\", 'https://news.naver.com/main/read.nhn?mode=LSD&mid=shm&sid1=102&oid=008&aid=0004596631'), (datetime.datetime(2021, 6, 3, 15, 25, 51, 749208), \"'범LG家 3세' 아워홈 구본성, 보복운전으로 1심 집행유예\", 'https://news.naver.com/main/read.nhn?mode=LSD&mid=shm&sid1=102&oid=001&aid=0012435881'), (datetime.datetime(2021, 6, 3, 15, 25, 51, 749208), '백혜련 등 민주당 의원 132명, 日도쿄올림픽조직위 독도 표기 규탄 결의안 제출', 'https://news.naver.com/main/read.nhn?mode=LSD&mid=shm&sid1=100&oid=032&aid=0003077917')]\n",
      "200\n",
      "[(datetime.datetime(2021, 6, 3, 15, 25, 56, 944448), 'PEF 전업집단 대기업집단 지정에서 제외, 공정법 시행령 개정', 'https://news.naver.com/main/read.nhn?mode=LSD&mid=shm&sid1=101&oid=079&aid=0003511539'), (datetime.datetime(2021, 6, 3, 15, 25, 56, 944448), '이용구 \"택시기사에 1000만 원, 영상 삭제 대가 아냐\" [전문]', 'https://news.naver.com/main/read.nhn?mode=LSD&mid=shm&sid1=102&oid=437&aid=0000267930'), (datetime.datetime(2021, 6, 3, 15, 25, 56, 944448), '日 \"독도는 우리 영토…韓 항의 절대 받아들일 수 없다\"', 'https://news.naver.com/main/read.nhn?mode=LSD&mid=shm&sid1=102&oid=015&aid=0004556578'), (datetime.datetime(2021, 6, 3, 15, 25, 56, 944448), \"지난해 기업 3곳 중 1곳 이자도 못 갚아…좀비기업 '역대 최고'\", 'https://news.naver.com/main/read.nhn?mode=LSD&mid=shm&sid1=101&oid=215&aid=0000962288'), (datetime.datetime(2021, 6, 3, 15, 25, 56, 944448), '윤석열 측 \"일부 정치인 언행 도 넘었다…대응할 것\"', 'https://news.naver.com/main/read.nhn?mode=LSD&mid=shm&sid1=100&oid=437&aid=0000267939')]\n",
      "200\n",
      "[(datetime.datetime(2021, 6, 3, 15, 25, 57, 79976), 'PEF 전업집단 대기업집단 지정에서 제외, 공정법 시행령 개정', 'https://news.naver.com/main/read.nhn?mode=LSD&mid=shm&sid1=101&oid=079&aid=0003511539'), (datetime.datetime(2021, 6, 3, 15, 25, 57, 79976), '이용구 \"택시기사에 1000만 원, 영상 삭제 대가 아냐\" [전문]', 'https://news.naver.com/main/read.nhn?mode=LSD&mid=shm&sid1=102&oid=437&aid=0000267930'), (datetime.datetime(2021, 6, 3, 15, 25, 57, 79976), '日 \"독도는 우리 영토…韓 항의 절대 받아들일 수 없다\"', 'https://news.naver.com/main/read.nhn?mode=LSD&mid=shm&sid1=102&oid=015&aid=0004556578'), (datetime.datetime(2021, 6, 3, 15, 25, 57, 79976), \"지난해 기업 3곳 중 1곳 이자도 못 갚아…좀비기업 '역대 최고'\", 'https://news.naver.com/main/read.nhn?mode=LSD&mid=shm&sid1=101&oid=215&aid=0000962288'), (datetime.datetime(2021, 6, 3, 15, 25, 57, 79976), '윤석열 측 \"일부 정치인 언행 도 넘었다…대응할 것\"', 'https://news.naver.com/main/read.nhn?mode=LSD&mid=shm&sid1=100&oid=437&aid=0000267939')]\n",
      "200\n",
      "[(datetime.datetime(2021, 6, 3, 15, 25, 57, 299872), 'PEF 전업집단 대기업집단 지정에서 제외, 공정법 시행령 개정', 'https://news.naver.com/main/read.nhn?mode=LSD&mid=shm&sid1=101&oid=079&aid=0003511539'), (datetime.datetime(2021, 6, 3, 15, 25, 57, 299872), '이용구 \"택시기사에 1000만 원, 영상 삭제 대가 아냐\" [전문]', 'https://news.naver.com/main/read.nhn?mode=LSD&mid=shm&sid1=102&oid=437&aid=0000267930'), (datetime.datetime(2021, 6, 3, 15, 25, 57, 299872), '日 \"독도는 우리 영토…韓 항의 절대 받아들일 수 없다\"', 'https://news.naver.com/main/read.nhn?mode=LSD&mid=shm&sid1=102&oid=015&aid=0004556578'), (datetime.datetime(2021, 6, 3, 15, 25, 57, 299872), \"지난해 기업 3곳 중 1곳 이자도 못 갚아…좀비기업 '역대 최고'\", 'https://news.naver.com/main/read.nhn?mode=LSD&mid=shm&sid1=101&oid=215&aid=0000962288'), (datetime.datetime(2021, 6, 3, 15, 25, 57, 299872), '윤석열 측 \"일부 정치인 언행 도 넘었다…대응할 것\"', 'https://news.naver.com/main/read.nhn?mode=LSD&mid=shm&sid1=100&oid=437&aid=0000267939')]\n",
      "200\n",
      "[(datetime.datetime(2021, 6, 3, 15, 25, 57, 466030), 'PEF 전업집단 대기업집단 지정에서 제외, 공정법 시행령 개정', 'https://news.naver.com/main/read.nhn?mode=LSD&mid=shm&sid1=101&oid=079&aid=0003511539'), (datetime.datetime(2021, 6, 3, 15, 25, 57, 466030), '이용구 \"택시기사에 1000만 원, 영상 삭제 대가 아냐\" [전문]', 'https://news.naver.com/main/read.nhn?mode=LSD&mid=shm&sid1=102&oid=437&aid=0000267930'), (datetime.datetime(2021, 6, 3, 15, 25, 57, 466030), '日 \"독도는 우리 영토…韓 항의 절대 받아들일 수 없다\"', 'https://news.naver.com/main/read.nhn?mode=LSD&mid=shm&sid1=102&oid=015&aid=0004556578'), (datetime.datetime(2021, 6, 3, 15, 25, 57, 466030), \"지난해 기업 3곳 중 1곳 이자도 못 갚아…좀비기업 '역대 최고'\", 'https://news.naver.com/main/read.nhn?mode=LSD&mid=shm&sid1=101&oid=215&aid=0000962288'), (datetime.datetime(2021, 6, 3, 15, 25, 57, 466030), '윤석열 측 \"일부 정치인 언행 도 넘었다…대응할 것\"', 'https://news.naver.com/main/read.nhn?mode=LSD&mid=shm&sid1=100&oid=437&aid=0000267939')]\n",
      "200\n",
      "[(datetime.datetime(2021, 6, 3, 15, 26, 2, 700212), \"코스피 3,000 돌파에 증권사도 '돈방석'…1분기 순익 '역대 최대'\", 'https://news.naver.com/main/read.nhn?mode=LSD&mid=shm&sid1=101&oid=469&aid=0000608529'), (datetime.datetime(2021, 6, 3, 15, 26, 2, 700212), \"의원 132명, '日올림픽지도 독도 표기' 규탄결의 발의\", 'https://news.naver.com/main/read.nhn?mode=LSD&mid=shm&sid1=100&oid=001&aid=0012435652'), (datetime.datetime(2021, 6, 3, 15, 26, 2, 700212), '공정위 “벤처지주회사 기준 완화·6천억 넘는 M&A 심사”…입법예고', 'https://news.naver.com/main/read.nhn?mode=LSD&mid=shm&sid1=101&oid=056&aid=0011056613'), (datetime.datetime(2021, 6, 3, 15, 26, 2, 700212), \"'부사관 성추행' 수사 팔 걷었다…軍 최초 '수사심의위' 설치\", 'https://news.naver.com/main/read.nhn?mode=LSD&mid=shm&sid1=102&oid=025&aid=0003106766'), (datetime.datetime(2021, 6, 3, 15, 26, 2, 700212), '문 대통령, ‘공군 성폭력 피해자 사망사건’ 엄정 처리 강력 지시', 'https://news.naver.com/main/read.nhn?mode=LSD&mid=shm&sid1=100&oid=056&aid=0011056555')]\n",
      "200\n"
     ]
    },
    {
     "name": "stdout",
     "output_type": "stream",
     "text": [
      "[(datetime.datetime(2021, 6, 3, 15, 26, 2, 892807), \"코스피 3,000 돌파에 증권사도 '돈방석'…1분기 순익 '역대 최대'\", 'https://news.naver.com/main/read.nhn?mode=LSD&mid=shm&sid1=101&oid=469&aid=0000608529'), (datetime.datetime(2021, 6, 3, 15, 26, 2, 892807), \"의원 132명, '日올림픽지도 독도 표기' 규탄결의 발의\", 'https://news.naver.com/main/read.nhn?mode=LSD&mid=shm&sid1=100&oid=001&aid=0012435652'), (datetime.datetime(2021, 6, 3, 15, 26, 2, 892807), '공정위 “벤처지주회사 기준 완화·6천억 넘는 M&A 심사”…입법예고', 'https://news.naver.com/main/read.nhn?mode=LSD&mid=shm&sid1=101&oid=056&aid=0011056613'), (datetime.datetime(2021, 6, 3, 15, 26, 2, 892807), \"'부사관 성추행' 수사 팔 걷었다…軍 최초 '수사심의위' 설치\", 'https://news.naver.com/main/read.nhn?mode=LSD&mid=shm&sid1=102&oid=025&aid=0003106766'), (datetime.datetime(2021, 6, 3, 15, 26, 2, 892807), '문 대통령, ‘공군 성폭력 피해자 사망사건’ 엄정 처리 강력 지시', 'https://news.naver.com/main/read.nhn?mode=LSD&mid=shm&sid1=100&oid=056&aid=0011056555')]\n",
      "200\n",
      "[(datetime.datetime(2021, 6, 3, 15, 26, 8, 54384), '공정위 “벤처지주회사 기준 완화·6천억 넘는 M&A 심사”…입법예고', 'https://news.naver.com/main/read.nhn?mode=LSD&mid=shm&sid1=101&oid=056&aid=0011056613'), (datetime.datetime(2021, 6, 3, 15, 26, 8, 54384), 'SK㈜, 美 청록수소 기업 투자… 수소사업 확장 가속화', 'https://news.naver.com/main/read.nhn?mode=LSD&mid=shm&sid1=101&oid=366&aid=0000727335'), (datetime.datetime(2021, 6, 3, 15, 26, 8, 54384), \"삼성·하이닉스 빼면 1000원 팔아 46원 남겨..3곳 중 1곳 좀비기업 '역대 최대'\", 'https://news.naver.com/main/read.nhn?mode=LSD&mid=shm&sid1=101&oid=018&aid=0004946448'), (datetime.datetime(2021, 6, 3, 15, 26, 8, 55384), '文대통령 \"백신 접종 속도 내고 있어, 집단면역시기 당겨질 것\"', 'https://news.naver.com/main/read.nhn?mode=LSD&mid=shm&sid1=100&oid=016&aid=0001843873'), (datetime.datetime(2021, 6, 3, 15, 26, 8, 55384), '민주당 “도쿄올림픽 ‘독도 표기’ 규탄”…일각에선 ‘보이콧’ 주장도', 'https://news.naver.com/main/read.nhn?mode=LSD&mid=shm&sid1=100&oid=056&aid=0011056473')]\n",
      "200\n",
      "[(datetime.datetime(2021, 6, 3, 15, 26, 8, 193381), '공정위 “벤처지주회사 기준 완화·6천억 넘는 M&A 심사”…입법예고', 'https://news.naver.com/main/read.nhn?mode=LSD&mid=shm&sid1=101&oid=056&aid=0011056613'), (datetime.datetime(2021, 6, 3, 15, 26, 8, 193381), 'SK㈜, 美 청록수소 기업 투자… 수소사업 확장 가속화', 'https://news.naver.com/main/read.nhn?mode=LSD&mid=shm&sid1=101&oid=366&aid=0000727335'), (datetime.datetime(2021, 6, 3, 15, 26, 8, 193381), \"삼성·하이닉스 빼면 1000원 팔아 46원 남겨..3곳 중 1곳 좀비기업 '역대 최대'\", 'https://news.naver.com/main/read.nhn?mode=LSD&mid=shm&sid1=101&oid=018&aid=0004946448'), (datetime.datetime(2021, 6, 3, 15, 26, 8, 193381), '文대통령 \"백신 접종 속도 내고 있어, 집단면역시기 당겨질 것\"', 'https://news.naver.com/main/read.nhn?mode=LSD&mid=shm&sid1=100&oid=016&aid=0001843873'), (datetime.datetime(2021, 6, 3, 15, 26, 8, 193381), '민주당 “도쿄올림픽 ‘독도 표기’ 규탄”…일각에선 ‘보이콧’ 주장도', 'https://news.naver.com/main/read.nhn?mode=LSD&mid=shm&sid1=100&oid=056&aid=0011056473')]\n",
      "200\n",
      "[(datetime.datetime(2021, 6, 3, 15, 26, 8, 336624), '공정위 “벤처지주회사 기준 완화·6천억 넘는 M&A 심사”…입법예고', 'https://news.naver.com/main/read.nhn?mode=LSD&mid=shm&sid1=101&oid=056&aid=0011056613'), (datetime.datetime(2021, 6, 3, 15, 26, 8, 336624), 'SK㈜, 美 청록수소 기업 투자… 수소사업 확장 가속화', 'https://news.naver.com/main/read.nhn?mode=LSD&mid=shm&sid1=101&oid=366&aid=0000727335'), (datetime.datetime(2021, 6, 3, 15, 26, 8, 337624), \"삼성·하이닉스 빼면 1000원 팔아 46원 남겨..3곳 중 1곳 좀비기업 '역대 최대'\", 'https://news.naver.com/main/read.nhn?mode=LSD&mid=shm&sid1=101&oid=018&aid=0004946448'), (datetime.datetime(2021, 6, 3, 15, 26, 8, 337624), '文대통령 \"백신 접종 속도 내고 있어, 집단면역시기 당겨질 것\"', 'https://news.naver.com/main/read.nhn?mode=LSD&mid=shm&sid1=100&oid=016&aid=0001843873'), (datetime.datetime(2021, 6, 3, 15, 26, 8, 337624), '민주당 “도쿄올림픽 ‘독도 표기’ 규탄”…일각에선 ‘보이콧’ 주장도', 'https://news.naver.com/main/read.nhn?mode=LSD&mid=shm&sid1=100&oid=056&aid=0011056473')]\n",
      "200\n",
      "[(datetime.datetime(2021, 6, 3, 15, 26, 8, 543661), '공정위 “벤처지주회사 기준 완화·6천억 넘는 M&A 심사”…입법예고', 'https://news.naver.com/main/read.nhn?mode=LSD&mid=shm&sid1=101&oid=056&aid=0011056613'), (datetime.datetime(2021, 6, 3, 15, 26, 8, 543661), 'SK㈜, 美 청록수소 기업 투자… 수소사업 확장 가속화', 'https://news.naver.com/main/read.nhn?mode=LSD&mid=shm&sid1=101&oid=366&aid=0000727335'), (datetime.datetime(2021, 6, 3, 15, 26, 8, 543661), \"삼성·하이닉스 빼면 1000원 팔아 46원 남겨..3곳 중 1곳 좀비기업 '역대 최대'\", 'https://news.naver.com/main/read.nhn?mode=LSD&mid=shm&sid1=101&oid=018&aid=0004946448'), (datetime.datetime(2021, 6, 3, 15, 26, 8, 543661), '文대통령 \"백신 접종 속도 내고 있어, 집단면역시기 당겨질 것\"', 'https://news.naver.com/main/read.nhn?mode=LSD&mid=shm&sid1=100&oid=016&aid=0001843873'), (datetime.datetime(2021, 6, 3, 15, 26, 8, 543661), '민주당 “도쿄올림픽 ‘독도 표기’ 규탄”…일각에선 ‘보이콧’ 주장도', 'https://news.naver.com/main/read.nhn?mode=LSD&mid=shm&sid1=100&oid=056&aid=0011056473')]\n",
      "200\n",
      "[(datetime.datetime(2021, 6, 3, 15, 26, 13, 826904), '초선들 만난 문 대통령 “내부 단합하고 외연 확장할 때 지지 만들어져”', 'https://news.naver.com/main/read.nhn?mode=LSD&mid=shm&sid1=100&oid=032&aid=0003077992'), (datetime.datetime(2021, 6, 3, 15, 26, 13, 826904), '“도쿄올림픽 독도표기 국제법 위반, 역사퇴행”…민주당 132명,  규탄 결의안 발의', 'https://news.naver.com/main/read.nhn?mode=LSD&mid=shm&sid1=100&oid=029&aid=0002678021'), (datetime.datetime(2021, 6, 3, 15, 26, 13, 826904), '윤석열 측, 宋에 “도 넘은 언행…사법제도 대한 예의 아냐”', 'https://news.naver.com/main/read.nhn?mode=LSD&mid=shm&sid1=100&oid=018&aid=0004946347'), (datetime.datetime(2021, 6, 3, 15, 26, 13, 826904), '\"어젠 그냥 여름이던데 오늘은 시원하려나\"[날씨톡톡]', 'https://news.naver.com/main/read.nhn?mode=LSD&mid=shm&sid1=103&oid=422&aid=0000488170'), (datetime.datetime(2021, 6, 3, 15, 26, 13, 827904), '접종 후 ‘돌파감염’ 5명 추가, 모두 화이자…누적 9명', 'https://news.naver.com/main/read.nhn?mode=LSD&mid=shm&sid1=102&oid=005&aid=0001444625')]\n",
      "200\n",
      "[(datetime.datetime(2021, 6, 3, 15, 26, 13, 973986), '초선들 만난 문 대통령 “내부 단합하고 외연 확장할 때 지지 만들어져”', 'https://news.naver.com/main/read.nhn?mode=LSD&mid=shm&sid1=100&oid=032&aid=0003077992'), (datetime.datetime(2021, 6, 3, 15, 26, 13, 974984), '“도쿄올림픽 독도표기 국제법 위반, 역사퇴행”…민주당 132명,  규탄 결의안 발의', 'https://news.naver.com/main/read.nhn?mode=LSD&mid=shm&sid1=100&oid=029&aid=0002678021'), (datetime.datetime(2021, 6, 3, 15, 26, 13, 974984), '윤석열 측, 宋에 “도 넘은 언행…사법제도 대한 예의 아냐”', 'https://news.naver.com/main/read.nhn?mode=LSD&mid=shm&sid1=100&oid=018&aid=0004946347'), (datetime.datetime(2021, 6, 3, 15, 26, 13, 974984), '\"어젠 그냥 여름이던데 오늘은 시원하려나\"[날씨톡톡]', 'https://news.naver.com/main/read.nhn?mode=LSD&mid=shm&sid1=103&oid=422&aid=0000488170'), (datetime.datetime(2021, 6, 3, 15, 26, 13, 974984), '접종 후 ‘돌파감염’ 5명 추가, 모두 화이자…누적 9명', 'https://news.naver.com/main/read.nhn?mode=LSD&mid=shm&sid1=102&oid=005&aid=0001444625')]\n",
      "200\n",
      "[(datetime.datetime(2021, 6, 3, 15, 26, 19, 147773), \"'택시기사 폭행' 인정 이용구…檢 특가법 적용해 조만간 기소할듯\", 'https://news.naver.com/main/read.nhn?mode=LSD&mid=shm&sid1=102&oid=421&aid=0005391070'), (datetime.datetime(2021, 6, 3, 15, 26, 19, 147773), '\"2850% 폭등한 AMC처럼\"…한국판 \\'공매도 전쟁\\' 가능할까?', 'https://news.naver.com/main/read.nhn?mode=LSD&mid=shm&sid1=101&oid=015&aid=0004556640'), (datetime.datetime(2021, 6, 3, 15, 26, 19, 147773), '공군 중사 유족 측 \"성추행 피해 최소 2차례 더 있다\"', 'https://news.naver.com/main/read.nhn?mode=LSD&mid=shm&sid1=100&oid=055&aid=0000898386'), (datetime.datetime(2021, 6, 3, 15, 26, 19, 147773), '화이자사 \"대구시 제안한 화이자 백신 가짜 의심···법적 조치 취할 예정\"', 'https://news.naver.com/main/read.nhn?mode=LSD&mid=shm&sid1=102&oid=032&aid=0003077966'), (datetime.datetime(2021, 6, 3, 15, 26, 19, 147773), \"'부사관 성추행' 수사 팔 걷었다…軍 최초 '수사심의위' 설치\", 'https://news.naver.com/main/read.nhn?mode=LSD&mid=shm&sid1=102&oid=025&aid=0003106766')]\n",
      "200\n",
      "[(datetime.datetime(2021, 6, 3, 15, 26, 19, 296775), \"'택시기사 폭행' 인정 이용구…檢 특가법 적용해 조만간 기소할듯\", 'https://news.naver.com/main/read.nhn?mode=LSD&mid=shm&sid1=102&oid=421&aid=0005391070'), (datetime.datetime(2021, 6, 3, 15, 26, 19, 296775), '\"2850% 폭등한 AMC처럼\"…한국판 \\'공매도 전쟁\\' 가능할까?', 'https://news.naver.com/main/read.nhn?mode=LSD&mid=shm&sid1=101&oid=015&aid=0004556640'), (datetime.datetime(2021, 6, 3, 15, 26, 19, 297773), '공군 중사 유족 측 \"성추행 피해 최소 2차례 더 있다\"', 'https://news.naver.com/main/read.nhn?mode=LSD&mid=shm&sid1=100&oid=055&aid=0000898386'), (datetime.datetime(2021, 6, 3, 15, 26, 19, 297773), '화이자사 \"대구시 제안한 화이자 백신 가짜 의심···법적 조치 취할 예정\"', 'https://news.naver.com/main/read.nhn?mode=LSD&mid=shm&sid1=102&oid=032&aid=0003077966'), (datetime.datetime(2021, 6, 3, 15, 26, 19, 297773), \"'부사관 성추행' 수사 팔 걷었다…軍 최초 '수사심의위' 설치\", 'https://news.naver.com/main/read.nhn?mode=LSD&mid=shm&sid1=102&oid=025&aid=0003106766')]\n",
      "200\n",
      "[(datetime.datetime(2021, 6, 3, 15, 26, 19, 458784), \"'택시기사 폭행' 인정 이용구…檢 특가법 적용해 조만간 기소할듯\", 'https://news.naver.com/main/read.nhn?mode=LSD&mid=shm&sid1=102&oid=421&aid=0005391070'), (datetime.datetime(2021, 6, 3, 15, 26, 19, 458784), '\"2850% 폭등한 AMC처럼\"…한국판 \\'공매도 전쟁\\' 가능할까?', 'https://news.naver.com/main/read.nhn?mode=LSD&mid=shm&sid1=101&oid=015&aid=0004556640'), (datetime.datetime(2021, 6, 3, 15, 26, 19, 458784), '공군 중사 유족 측 \"성추행 피해 최소 2차례 더 있다\"', 'https://news.naver.com/main/read.nhn?mode=LSD&mid=shm&sid1=100&oid=055&aid=0000898386'), (datetime.datetime(2021, 6, 3, 15, 26, 19, 458784), '화이자사 \"대구시 제안한 화이자 백신 가짜 의심···법적 조치 취할 예정\"', 'https://news.naver.com/main/read.nhn?mode=LSD&mid=shm&sid1=102&oid=032&aid=0003077966'), (datetime.datetime(2021, 6, 3, 15, 26, 19, 458784), \"'부사관 성추행' 수사 팔 걷었다…軍 최초 '수사심의위' 설치\", 'https://news.naver.com/main/read.nhn?mode=LSD&mid=shm&sid1=102&oid=025&aid=0003106766')]\n"
     ]
    },
    {
     "name": "stdout",
     "output_type": "stream",
     "text": [
      "200\n",
      "[(datetime.datetime(2021, 6, 3, 15, 26, 19, 608117), '국민의힘 경북도당 “독도 일본 영토 표기 즉각 삭제하라”', 'https://news.naver.com/main/read.nhn?mode=LSD&mid=shm&sid1=102&oid=003&aid=0010532052'), (datetime.datetime(2021, 6, 3, 15, 26, 19, 608117), '6000억 넘는 M&A, 공정위 심사 받는다… 벤처지주회사 규제도 완화', 'https://news.naver.com/main/read.nhn?mode=LSD&mid=shm&sid1=101&oid=417&aid=0000700539'), (datetime.datetime(2021, 6, 3, 15, 26, 19, 608117), '오늘 또 비 소식…더위 주춤[굿모닝 날씨]', 'https://news.naver.com/main/read.nhn?mode=LSD&mid=shm&sid1=103&oid=056&aid=0011056458'), (datetime.datetime(2021, 6, 3, 15, 26, 19, 608117), '백신 접종 완료하고 감염…국내 돌파감염 총 9건 확인', 'https://news.naver.com/main/read.nhn?mode=LSD&mid=shm&sid1=102&oid=018&aid=0004946552'), (datetime.datetime(2021, 6, 3, 15, 26, 19, 608117), '정부 “대구시 도입하려는 화이자 백신 진위 의심… 추진 않기로”', 'https://news.naver.com/main/read.nhn?mode=LSD&mid=shm&sid1=102&oid=022&aid=0003587149')]\n",
      "200\n",
      "[(datetime.datetime(2021, 6, 3, 15, 26, 24, 796357), '수소 핵심 기술 확보 박차...SK㈜, 청록수소 생산 美 업체 투자', 'https://news.naver.com/main/read.nhn?mode=LSD&mid=shm&sid1=101&oid=011&aid=0003918526'), (datetime.datetime(2021, 6, 3, 15, 26, 24, 796357), '정부 “대구시 도입하려는 화이자 백신 진위 의심… 추진 않기로”', 'https://news.naver.com/main/read.nhn?mode=LSD&mid=shm&sid1=102&oid=022&aid=0003587149'), (datetime.datetime(2021, 6, 3, 15, 26, 24, 796357), '공정위 M&A 심사대상 개정…\"인수금액 6천억 + 월 100만명 이용\"', 'https://news.naver.com/main/read.nhn?mode=LSD&mid=shm&sid1=101&oid=001&aid=0012435455'), (datetime.datetime(2021, 6, 3, 15, 26, 24, 797356), '대법 \"네이버 사옥 통유리 반사광…피해 주민에 배상하라\"', 'https://news.naver.com/main/read.nhn?mode=LSD&mid=shm&sid1=102&oid=055&aid=0000898370'), (datetime.datetime(2021, 6, 3, 15, 26, 24, 797356), '문 대통령 \"공군 성폭력 사건 가슴 아프다…엄정 처리\"', 'https://news.naver.com/main/read.nhn?mode=LSD&mid=shm&sid1=100&oid=055&aid=0000898362')]\n",
      "200\n",
      "[(datetime.datetime(2021, 6, 3, 15, 26, 24, 987922), '수소 핵심 기술 확보 박차...SK㈜, 청록수소 생산 美 업체 투자', 'https://news.naver.com/main/read.nhn?mode=LSD&mid=shm&sid1=101&oid=011&aid=0003918526'), (datetime.datetime(2021, 6, 3, 15, 26, 24, 988925), '정부 “대구시 도입하려는 화이자 백신 진위 의심… 추진 않기로”', 'https://news.naver.com/main/read.nhn?mode=LSD&mid=shm&sid1=102&oid=022&aid=0003587149'), (datetime.datetime(2021, 6, 3, 15, 26, 24, 988925), '공정위 M&A 심사대상 개정…\"인수금액 6천억 + 월 100만명 이용\"', 'https://news.naver.com/main/read.nhn?mode=LSD&mid=shm&sid1=101&oid=001&aid=0012435455'), (datetime.datetime(2021, 6, 3, 15, 26, 24, 988925), '대법 \"네이버 사옥 통유리 반사광…피해 주민에 배상하라\"', 'https://news.naver.com/main/read.nhn?mode=LSD&mid=shm&sid1=102&oid=055&aid=0000898370'), (datetime.datetime(2021, 6, 3, 15, 26, 24, 988925), '문 대통령 \"공군 성폭력 사건 가슴 아프다…엄정 처리\"', 'https://news.naver.com/main/read.nhn?mode=LSD&mid=shm&sid1=100&oid=055&aid=0000898362')]\n",
      "200\n",
      "[(datetime.datetime(2021, 6, 3, 15, 26, 30, 238092), '文대통령, 與 초선들과 간담회 “국민 고통 마음 아파…혁신과 역동성 발휘해야”', 'https://news.naver.com/main/read.nhn?mode=LSD&mid=shm&sid1=100&oid=277&aid=0004914066'), (datetime.datetime(2021, 6, 3, 15, 26, 30, 238092), '공정위, 개정 공정거래법 시행 위한 시행령 발표', 'https://news.naver.com/main/read.nhn?mode=LSD&mid=shm&sid1=101&oid=214&aid=0001122843'), (datetime.datetime(2021, 6, 3, 15, 26, 30, 238092), '국방부 “은폐·무마·회유 등 모든 의혹 원점서 재수사할 것”', 'https://news.naver.com/main/read.nhn?mode=LSD&mid=shm&sid1=100&oid=028&aid=0002547018'), (datetime.datetime(2021, 6, 3, 15, 26, 30, 238092), '문 대통령 \"최고 상급자 포함 지휘 문제 점검 엄중 처리\"', 'https://news.naver.com/main/read.nhn?mode=LSD&mid=shm&sid1=100&oid=214&aid=0001122818'), (datetime.datetime(2021, 6, 3, 15, 26, 30, 238092), '정부 “대구시 주선 화이자 백신 진위 의심…구매 안해”', 'https://news.naver.com/main/read.nhn?mode=LSD&mid=shm&sid1=102&oid=005&aid=0001444595')]\n",
      "200\n",
      "[(datetime.datetime(2021, 6, 3, 15, 26, 30, 371169), '文대통령, 與 초선들과 간담회 “국민 고통 마음 아파…혁신과 역동성 발휘해야”', 'https://news.naver.com/main/read.nhn?mode=LSD&mid=shm&sid1=100&oid=277&aid=0004914066'), (datetime.datetime(2021, 6, 3, 15, 26, 30, 371169), '공정위, 개정 공정거래법 시행 위한 시행령 발표', 'https://news.naver.com/main/read.nhn?mode=LSD&mid=shm&sid1=101&oid=214&aid=0001122843'), (datetime.datetime(2021, 6, 3, 15, 26, 30, 371169), '국방부 “은폐·무마·회유 등 모든 의혹 원점서 재수사할 것”', 'https://news.naver.com/main/read.nhn?mode=LSD&mid=shm&sid1=100&oid=028&aid=0002547018'), (datetime.datetime(2021, 6, 3, 15, 26, 30, 371169), '문 대통령 \"최고 상급자 포함 지휘 문제 점검 엄중 처리\"', 'https://news.naver.com/main/read.nhn?mode=LSD&mid=shm&sid1=100&oid=214&aid=0001122818'), (datetime.datetime(2021, 6, 3, 15, 26, 30, 371169), '정부 “대구시 주선 화이자 백신 진위 의심…구매 안해”', 'https://news.naver.com/main/read.nhn?mode=LSD&mid=shm&sid1=102&oid=005&aid=0001444595')]\n",
      "200\n",
      "[(datetime.datetime(2021, 6, 3, 15, 26, 30, 509478), '文대통령, 與 초선들과 간담회 “국민 고통 마음 아파…혁신과 역동성 발휘해야”', 'https://news.naver.com/main/read.nhn?mode=LSD&mid=shm&sid1=100&oid=277&aid=0004914066'), (datetime.datetime(2021, 6, 3, 15, 26, 30, 509478), '공정위, 개정 공정거래법 시행 위한 시행령 발표', 'https://news.naver.com/main/read.nhn?mode=LSD&mid=shm&sid1=101&oid=214&aid=0001122843'), (datetime.datetime(2021, 6, 3, 15, 26, 30, 509478), '국방부 “은폐·무마·회유 등 모든 의혹 원점서 재수사할 것”', 'https://news.naver.com/main/read.nhn?mode=LSD&mid=shm&sid1=100&oid=028&aid=0002547018'), (datetime.datetime(2021, 6, 3, 15, 26, 30, 509478), '문 대통령 \"최고 상급자 포함 지휘 문제 점검 엄중 처리\"', 'https://news.naver.com/main/read.nhn?mode=LSD&mid=shm&sid1=100&oid=214&aid=0001122818'), (datetime.datetime(2021, 6, 3, 15, 26, 30, 510478), '정부 “대구시 주선 화이자 백신 진위 의심…구매 안해”', 'https://news.naver.com/main/read.nhn?mode=LSD&mid=shm&sid1=102&oid=005&aid=0001444595')]\n",
      "200\n",
      "[(datetime.datetime(2021, 6, 3, 15, 26, 30, 644439), '대구시 독자 백신 확보 추진에...정부 \"사기 가능성 있다\"', 'https://news.naver.com/main/read.nhn?mode=LSD&mid=shm&sid1=102&oid=469&aid=0000608528'), (datetime.datetime(2021, 6, 3, 15, 26, 30, 645438), '이용구 \"합의금 1000만원, 영상 삭제 대가 아냐\"(종합)', 'https://news.naver.com/main/read.nhn?mode=LSD&mid=shm&sid1=102&oid=421&aid=0005390528'), (datetime.datetime(2021, 6, 3, 15, 26, 30, 645438), \"국방부 '군검찰 수사심의위' 설치…부사관 사망 사건부터 적용\", 'https://news.naver.com/main/read.nhn?mode=LSD&mid=shm&sid1=100&oid=421&aid=0005391225'), (datetime.datetime(2021, 6, 3, 15, 26, 30, 645438), \"'네이버 통유리' 놓고 10년 법정싸움…결국 네이버가 졌다\", 'https://news.naver.com/main/read.nhn?mode=LSD&mid=shm&sid1=102&oid=025&aid=0003106798'), (datetime.datetime(2021, 6, 3, 15, 26, 30, 645438), '평창 땐 독도 빼라던 IOC, 日 \"독도는 일본 땅\" 억지에도 \\'침묵\\'', 'https://news.naver.com/main/read.nhn?mode=LSD&mid=shm&sid1=104&oid=277&aid=0004914029')]\n",
      "200\n",
      "[(datetime.datetime(2021, 6, 3, 15, 26, 35, 790490), \"접종후 확진 '돌파감염' 5명 늘어 누적 9명…모두 화이자 접종\", 'https://news.naver.com/main/read.nhn?mode=LSD&mid=shm&sid1=102&oid=001&aid=0012435912'), (datetime.datetime(2021, 6, 3, 15, 26, 35, 790490), '문 대통령, 여부사관 사건에 \"가슴 아파\"…엄정 수사 지시', 'https://news.naver.com/main/read.nhn?mode=LSD&mid=shm&sid1=100&oid=437&aid=0000267943'), (datetime.datetime(2021, 6, 3, 15, 26, 35, 791491), \"일반지주사 소유 CVC, '외부자금 최대 40%' 조달 허용키로\", 'https://news.naver.com/main/read.nhn?mode=LSD&mid=shm&sid1=101&oid=277&aid=0004913998'), (datetime.datetime(2021, 6, 3, 15, 26, 35, 791491), '문대통령 \"내부단합·외연확장할 때 지지 만들어져\"(종합)', 'https://news.naver.com/main/read.nhn?mode=LSD&mid=shm&sid1=100&oid=001&aid=0012435841'), (datetime.datetime(2021, 6, 3, 15, 26, 35, 791491), \"산업통상자원부 첫 '수소전문기업'…경남 3곳 선정\", 'https://news.naver.com/main/read.nhn?mode=LSD&mid=shm&sid1=102&oid=079&aid=0003511412')]\n",
      "200\n",
      "[(datetime.datetime(2021, 6, 3, 15, 26, 35, 934490), \"접종후 확진 '돌파감염' 5명 늘어 누적 9명…모두 화이자 접종\", 'https://news.naver.com/main/read.nhn?mode=LSD&mid=shm&sid1=102&oid=001&aid=0012435912'), (datetime.datetime(2021, 6, 3, 15, 26, 35, 934490), '문 대통령, 여부사관 사건에 \"가슴 아파\"…엄정 수사 지시', 'https://news.naver.com/main/read.nhn?mode=LSD&mid=shm&sid1=100&oid=437&aid=0000267943'), (datetime.datetime(2021, 6, 3, 15, 26, 35, 934490), \"일반지주사 소유 CVC, '외부자금 최대 40%' 조달 허용키로\", 'https://news.naver.com/main/read.nhn?mode=LSD&mid=shm&sid1=101&oid=277&aid=0004913998'), (datetime.datetime(2021, 6, 3, 15, 26, 35, 934490), '문대통령 \"내부단합·외연확장할 때 지지 만들어져\"(종합)', 'https://news.naver.com/main/read.nhn?mode=LSD&mid=shm&sid1=100&oid=001&aid=0012435841'), (datetime.datetime(2021, 6, 3, 15, 26, 35, 934490), \"산업통상자원부 첫 '수소전문기업'…경남 3곳 선정\", 'https://news.naver.com/main/read.nhn?mode=LSD&mid=shm&sid1=102&oid=079&aid=0003511412')]\n",
      "200\n",
      "[(datetime.datetime(2021, 6, 3, 15, 26, 41, 143294), '문대통령 \"진보, 단합할 때 지지 만들어져\"…내부 결속 강조(종합)', 'https://news.naver.com/main/read.nhn?mode=LSD&mid=shm&sid1=100&oid=421&aid=0005391618'), (datetime.datetime(2021, 6, 3, 15, 26, 41, 143294), '\\'폭행 혐의\\' 이용구 \"1000만원은 합의금, 영상삭제 대가 아냐\"', 'https://news.naver.com/main/read.nhn?mode=LSD&mid=shm&sid1=102&oid=015&aid=0004556555'), (datetime.datetime(2021, 6, 3, 15, 26, 41, 143294), '제주도, 그린수소로 수소전기차 보급도 촉진[이슈분석]', 'https://news.naver.com/main/read.nhn?mode=LSD&mid=shm&sid1=103&oid=030&aid=0002948630'), (datetime.datetime(2021, 6, 3, 15, 26, 41, 143294), '文대통령, 與 초선들과 간담회 “국민 고통 마음 아파…혁신과 역동성 발휘해야”', 'https://news.naver.com/main/read.nhn?mode=LSD&mid=shm&sid1=100&oid=277&aid=0004914066'), (datetime.datetime(2021, 6, 3, 15, 26, 41, 143294), \"[속보] 화이자 접종 완료 후 확진→ '돌파감염' 5명 추가… 누적 9명\", 'https://news.naver.com/main/read.nhn?mode=LSD&mid=shm&sid1=102&oid=082&aid=0001095866')]\n",
      "200\n",
      "[(datetime.datetime(2021, 6, 3, 15, 26, 41, 279497), '문대통령 \"진보, 단합할 때 지지 만들어져\"…내부 결속 강조(종합)', 'https://news.naver.com/main/read.nhn?mode=LSD&mid=shm&sid1=100&oid=421&aid=0005391618'), (datetime.datetime(2021, 6, 3, 15, 26, 41, 279497), '\\'폭행 혐의\\' 이용구 \"1000만원은 합의금, 영상삭제 대가 아냐\"', 'https://news.naver.com/main/read.nhn?mode=LSD&mid=shm&sid1=102&oid=015&aid=0004556555'), (datetime.datetime(2021, 6, 3, 15, 26, 41, 279497), '제주도, 그린수소로 수소전기차 보급도 촉진[이슈분석]', 'https://news.naver.com/main/read.nhn?mode=LSD&mid=shm&sid1=103&oid=030&aid=0002948630'), (datetime.datetime(2021, 6, 3, 15, 26, 41, 279497), '文대통령, 與 초선들과 간담회 “국민 고통 마음 아파…혁신과 역동성 발휘해야”', 'https://news.naver.com/main/read.nhn?mode=LSD&mid=shm&sid1=100&oid=277&aid=0004914066'), (datetime.datetime(2021, 6, 3, 15, 26, 41, 279497), \"[속보] 화이자 접종 완료 후 확진→ '돌파감염' 5명 추가… 누적 9명\", 'https://news.naver.com/main/read.nhn?mode=LSD&mid=shm&sid1=102&oid=082&aid=0001095866')]\n"
     ]
    },
    {
     "name": "stdout",
     "output_type": "stream",
     "text": [
      "200\n",
      "[(datetime.datetime(2021, 6, 3, 15, 26, 41, 493740), '문대통령 \"진보, 단합할 때 지지 만들어져\"…내부 결속 강조(종합)', 'https://news.naver.com/main/read.nhn?mode=LSD&mid=shm&sid1=100&oid=421&aid=0005391618'), (datetime.datetime(2021, 6, 3, 15, 26, 41, 493740), '\\'폭행 혐의\\' 이용구 \"1000만원은 합의금, 영상삭제 대가 아냐\"', 'https://news.naver.com/main/read.nhn?mode=LSD&mid=shm&sid1=102&oid=015&aid=0004556555'), (datetime.datetime(2021, 6, 3, 15, 26, 41, 493740), '제주도, 그린수소로 수소전기차 보급도 촉진[이슈분석]', 'https://news.naver.com/main/read.nhn?mode=LSD&mid=shm&sid1=103&oid=030&aid=0002948630'), (datetime.datetime(2021, 6, 3, 15, 26, 41, 493740), '文대통령, 與 초선들과 간담회 “국민 고통 마음 아파…혁신과 역동성 발휘해야”', 'https://news.naver.com/main/read.nhn?mode=LSD&mid=shm&sid1=100&oid=277&aid=0004914066'), (datetime.datetime(2021, 6, 3, 15, 26, 41, 493740), \"[속보] 화이자 접종 완료 후 확진→ '돌파감염' 5명 추가… 누적 9명\", 'https://news.naver.com/main/read.nhn?mode=LSD&mid=shm&sid1=102&oid=082&aid=0001095866')]\n",
      "200\n",
      "[(datetime.datetime(2021, 6, 3, 15, 26, 41, 631945), '靑 “문 대통령, 女부사관 사건에 ‘가슴 아파’… 엄정수사 지시”', 'https://news.naver.com/main/read.nhn?mode=LSD&mid=shm&sid1=100&oid=022&aid=0003587137'), (datetime.datetime(2021, 6, 3, 15, 26, 41, 631945), '금융위 \"공매도 원활히 정착...주가와 상관관계 없어\"', 'https://news.naver.com/main/read.nhn?mode=LSD&mid=shm&sid1=101&oid=215&aid=0000962339'), (datetime.datetime(2021, 6, 3, 15, 26, 41, 632940), \"6월 모평 수학 '공통과목' 난이도 높아…선택과목은 평이\", 'https://news.naver.com/main/read.nhn?mode=LSD&mid=shm&sid1=102&oid=277&aid=0004914101'), (datetime.datetime(2021, 6, 3, 15, 26, 41, 632940), '민주·정의 132명 의원들 \"도쿄올림픽 \\'독도 표기\\' 규탄\"', 'https://news.naver.com/main/read.nhn?mode=LSD&mid=shm&sid1=100&oid=448&aid=0000329976'), (datetime.datetime(2021, 6, 3, 15, 26, 41, 632940), '극단 선택 女중사 유족, \"다른 상관도 성추행 했다\"', 'https://news.naver.com/main/read.nhn?mode=LSD&mid=shm&sid1=102&oid=215&aid=0000962290')]\n",
      "200\n",
      "[(datetime.datetime(2021, 6, 3, 15, 26, 46, 822257), '이용구 \"택시기사, 억울하게 증거인멸죄로 입건돼 죄송\"', 'https://news.naver.com/main/read.nhn?mode=LSD&mid=shm&sid1=102&oid=055&aid=0000898333'), (datetime.datetime(2021, 6, 3, 15, 26, 46, 822257), '문대통령 \"경제 성과 있으나 국민 고통…마음 아프다\"[현장연결]', 'https://news.naver.com/main/read.nhn?mode=LSD&mid=shm&sid1=100&oid=422&aid=0000488195'), (datetime.datetime(2021, 6, 3, 15, 26, 46, 822257), '日 도쿄올림픽 홈피에 \\'독도 표기\\'... 백혜련 \"영유권 침해, 삭제하라\"', 'https://news.naver.com/main/read.nhn?mode=LSD&mid=shm&sid1=100&oid=469&aid=0000608498'), (datetime.datetime(2021, 6, 3, 15, 26, 46, 822257), 'SK, 美청록수소 생산기업 투자...수소 생태계 확장', 'https://news.naver.com/main/read.nhn?mode=LSD&mid=shm&sid1=101&oid=014&aid=0004650533'), (datetime.datetime(2021, 6, 3, 15, 26, 46, 822257), '벤처지주회사 자산요건 5천억→3백억…6천억이상 거래시 M&A신고', 'https://news.naver.com/main/read.nhn?mode=LSD&mid=shm&sid1=101&oid=421&aid=0005391201')]\n",
      "200\n",
      "[(datetime.datetime(2021, 6, 3, 15, 26, 46, 959594), '이용구 \"택시기사, 억울하게 증거인멸죄로 입건돼 죄송\"', 'https://news.naver.com/main/read.nhn?mode=LSD&mid=shm&sid1=102&oid=055&aid=0000898333'), (datetime.datetime(2021, 6, 3, 15, 26, 46, 959594), '문대통령 \"경제 성과 있으나 국민 고통…마음 아프다\"[현장연결]', 'https://news.naver.com/main/read.nhn?mode=LSD&mid=shm&sid1=100&oid=422&aid=0000488195'), (datetime.datetime(2021, 6, 3, 15, 26, 46, 960592), '日 도쿄올림픽 홈피에 \\'독도 표기\\'... 백혜련 \"영유권 침해, 삭제하라\"', 'https://news.naver.com/main/read.nhn?mode=LSD&mid=shm&sid1=100&oid=469&aid=0000608498'), (datetime.datetime(2021, 6, 3, 15, 26, 46, 960592), 'SK, 美청록수소 생산기업 투자...수소 생태계 확장', 'https://news.naver.com/main/read.nhn?mode=LSD&mid=shm&sid1=101&oid=014&aid=0004650533'), (datetime.datetime(2021, 6, 3, 15, 26, 46, 960592), '벤처지주회사 자산요건 5천억→3백억…6천억이상 거래시 M&A신고', 'https://news.naver.com/main/read.nhn?mode=LSD&mid=shm&sid1=101&oid=421&aid=0005391201')]\n",
      "200\n",
      "[(datetime.datetime(2021, 6, 3, 15, 26, 52, 150496), \"'택시기사 폭행' 이용구 차관을 둘러싼 '4갈래 수사'\", 'https://news.naver.com/main/read.nhn?mode=LSD&mid=shm&sid1=102&oid=052&aid=0001596442'), (datetime.datetime(2021, 6, 3, 15, 26, 52, 150496), '국민의힘 경북도당 “독도 일본 영토 표기 즉각 삭제하라”', 'https://news.naver.com/main/read.nhn?mode=LSD&mid=shm&sid1=102&oid=003&aid=0010532052'), (datetime.datetime(2021, 6, 3, 15, 26, 52, 150496), \"국방부, 여성 부사관 성추행·사망 사건에 '군검찰 수사심의위' 설치\", 'https://news.naver.com/main/read.nhn?mode=LSD&mid=shm&sid1=100&oid=047&aid=0002315027'), (datetime.datetime(2021, 6, 3, 15, 26, 52, 151496), '\"가슴 아파\" 文대통령, 공군 성폭력 사건 엄중 수사 지시', 'https://news.naver.com/main/read.nhn?mode=LSD&mid=shm&sid1=100&oid=215&aid=0000962258'), (datetime.datetime(2021, 6, 3, 15, 26, 52, 151496), '대법 \"네이버, 사옥 외벽 반사광 피해주민에 손해 배상해야\"', 'https://news.naver.com/main/read.nhn?mode=LSD&mid=shm&sid1=102&oid=214&aid=0001122867')]\n",
      "200\n",
      "[(datetime.datetime(2021, 6, 3, 15, 26, 52, 312496), \"'택시기사 폭행' 이용구 차관을 둘러싼 '4갈래 수사'\", 'https://news.naver.com/main/read.nhn?mode=LSD&mid=shm&sid1=102&oid=052&aid=0001596442'), (datetime.datetime(2021, 6, 3, 15, 26, 52, 312496), '국민의힘 경북도당 “독도 일본 영토 표기 즉각 삭제하라”', 'https://news.naver.com/main/read.nhn?mode=LSD&mid=shm&sid1=102&oid=003&aid=0010532052'), (datetime.datetime(2021, 6, 3, 15, 26, 52, 313498), \"국방부, 여성 부사관 성추행·사망 사건에 '군검찰 수사심의위' 설치\", 'https://news.naver.com/main/read.nhn?mode=LSD&mid=shm&sid1=100&oid=047&aid=0002315027'), (datetime.datetime(2021, 6, 3, 15, 26, 52, 313498), '\"가슴 아파\" 文대통령, 공군 성폭력 사건 엄중 수사 지시', 'https://news.naver.com/main/read.nhn?mode=LSD&mid=shm&sid1=100&oid=215&aid=0000962258'), (datetime.datetime(2021, 6, 3, 15, 26, 52, 313498), '대법 \"네이버, 사옥 외벽 반사광 피해주민에 손해 배상해야\"', 'https://news.naver.com/main/read.nhn?mode=LSD&mid=shm&sid1=102&oid=214&aid=0001122867')]\n",
      "200\n",
      "[(datetime.datetime(2021, 6, 3, 15, 26, 52, 458495), \"'택시기사 폭행' 이용구 차관을 둘러싼 '4갈래 수사'\", 'https://news.naver.com/main/read.nhn?mode=LSD&mid=shm&sid1=102&oid=052&aid=0001596442'), (datetime.datetime(2021, 6, 3, 15, 26, 52, 458495), '국민의힘 경북도당 “독도 일본 영토 표기 즉각 삭제하라”', 'https://news.naver.com/main/read.nhn?mode=LSD&mid=shm&sid1=102&oid=003&aid=0010532052'), (datetime.datetime(2021, 6, 3, 15, 26, 52, 458495), \"국방부, 여성 부사관 성추행·사망 사건에 '군검찰 수사심의위' 설치\", 'https://news.naver.com/main/read.nhn?mode=LSD&mid=shm&sid1=100&oid=047&aid=0002315027'), (datetime.datetime(2021, 6, 3, 15, 26, 52, 458495), '\"가슴 아파\" 文대통령, 공군 성폭력 사건 엄중 수사 지시', 'https://news.naver.com/main/read.nhn?mode=LSD&mid=shm&sid1=100&oid=215&aid=0000962258'), (datetime.datetime(2021, 6, 3, 15, 26, 52, 459493), '대법 \"네이버, 사옥 외벽 반사광 피해주민에 손해 배상해야\"', 'https://news.naver.com/main/read.nhn?mode=LSD&mid=shm&sid1=102&oid=214&aid=0001122867')]\n",
      "200\n",
      "[(datetime.datetime(2021, 6, 3, 15, 26, 52, 598003), '전국 곳곳에 벼락·강풍 동반한 요란한 비...언제 그칠까[날씨]', 'https://news.naver.com/main/read.nhn?mode=LSD&mid=shm&sid1=103&oid=052&aid=0001596471'), (datetime.datetime(2021, 6, 3, 15, 26, 52, 598003), '대법 \"네이버 사옥 통유리 반사광…피해 주민에 배상하라\"', 'https://news.naver.com/main/read.nhn?mode=LSD&mid=shm&sid1=102&oid=055&aid=0000898370'), (datetime.datetime(2021, 6, 3, 15, 26, 52, 598003), '문대통령 \"초선 자신감으로 위기극복에 지지자들이 참여하도록\" 당부', 'https://news.naver.com/main/read.nhn?mode=LSD&mid=shm&sid1=100&oid=421&aid=0005391493'), (datetime.datetime(2021, 6, 3, 15, 26, 52, 598003), '이용구 차관 \"1,000만원 줬지만 영상 삭제 대가 아냐\"', 'https://news.naver.com/main/read.nhn?mode=LSD&mid=shm&sid1=102&oid=011&aid=0003918423'), (datetime.datetime(2021, 6, 3, 15, 26, 52, 598003), '고령층 백신 예약 오늘 자정 마감…예약률 80% 넘을까', 'https://news.naver.com/main/read.nhn?mode=LSD&mid=shm&sid1=101&oid=008&aid=0004596643')]\n",
      "200\n",
      "[(datetime.datetime(2021, 6, 3, 15, 26, 57, 855764), 'SK, 세계 최초 청록수소 생산회사 투자…수소사업 확장 가속화', 'https://news.naver.com/main/read.nhn?mode=LSD&mid=shm&sid1=101&oid=003&aid=0010531496'), (datetime.datetime(2021, 6, 3, 15, 26, 57, 855764), '\"거래금액 6,000억 넘는 M&A...공정위 신고해야\"', 'https://news.naver.com/main/read.nhn?mode=LSD&mid=shm&sid1=101&oid=011&aid=0003918589'), (datetime.datetime(2021, 6, 3, 15, 26, 57, 856764), '공군 부사관 유족 측 \"부사관 3명 추가 고소…추가 피해도 포함\"', 'https://news.naver.com/main/read.nhn?mode=LSD&mid=shm&sid1=100&oid=055&aid=0000898385'), (datetime.datetime(2021, 6, 3, 15, 26, 57, 856764), '문 대통령 \"최고 상급자 포함 지휘 문제 점검 엄중 처리\"', 'https://news.naver.com/main/read.nhn?mode=LSD&mid=shm&sid1=100&oid=214&aid=0001122818'), (datetime.datetime(2021, 6, 3, 15, 26, 57, 856764), '‘유리궁전’ 네이버 반사광 피해 주민들, 배상 길 열리나', 'https://news.naver.com/main/read.nhn?mode=LSD&mid=shm&sid1=102&oid=028&aid=0002547035')]\n",
      "200\n",
      "[(datetime.datetime(2021, 6, 3, 15, 26, 57, 999763), 'SK, 세계 최초 청록수소 생산회사 투자…수소사업 확장 가속화', 'https://news.naver.com/main/read.nhn?mode=LSD&mid=shm&sid1=101&oid=003&aid=0010531496'), (datetime.datetime(2021, 6, 3, 15, 26, 57, 999763), '\"거래금액 6,000억 넘는 M&A...공정위 신고해야\"', 'https://news.naver.com/main/read.nhn?mode=LSD&mid=shm&sid1=101&oid=011&aid=0003918589'), (datetime.datetime(2021, 6, 3, 15, 26, 57, 999763), '공군 부사관 유족 측 \"부사관 3명 추가 고소…추가 피해도 포함\"', 'https://news.naver.com/main/read.nhn?mode=LSD&mid=shm&sid1=100&oid=055&aid=0000898385'), (datetime.datetime(2021, 6, 3, 15, 26, 57, 999763), '문 대통령 \"최고 상급자 포함 지휘 문제 점검 엄중 처리\"', 'https://news.naver.com/main/read.nhn?mode=LSD&mid=shm&sid1=100&oid=214&aid=0001122818'), (datetime.datetime(2021, 6, 3, 15, 26, 57, 999763), '‘유리궁전’ 네이버 반사광 피해 주민들, 배상 길 열리나', 'https://news.naver.com/main/read.nhn?mode=LSD&mid=shm&sid1=102&oid=028&aid=0002547035')]\n"
     ]
    },
    {
     "name": "stdout",
     "output_type": "stream",
     "text": [
      "200\n",
      "[(datetime.datetime(2021, 6, 3, 15, 27, 3, 169833), '\"동학개미가 먹여 살렸다\"…증권사, 증시 호황에 순익 \\'사상 최대\\'', 'https://news.naver.com/main/read.nhn?mode=LSD&mid=shm&sid1=101&oid=417&aid=0000700575'), (datetime.datetime(2021, 6, 3, 15, 27, 3, 169833), '문대통령 \"경제 성과 있으나 국민 고통…마음 아프다\"', 'https://news.naver.com/main/read.nhn?mode=LSD&mid=shm&sid1=100&oid=001&aid=0012435548'), (datetime.datetime(2021, 6, 3, 15, 27, 3, 169833), \"공정위, 삼성웰스토리 부당지원 '자진시정' 신청 기각\", 'https://news.naver.com/main/read.nhn?mode=LSD&mid=shm&sid1=101&oid=001&aid=0012435682'), (datetime.datetime(2021, 6, 3, 15, 27, 3, 169833), '화이자 \"대구시 제안받은 백신 정품 아닌 듯\"…정부 \"도입 협의 안 해\"', 'https://news.naver.com/main/read.nhn?mode=LSD&mid=shm&sid1=102&oid=003&aid=0010531759'), (datetime.datetime(2021, 6, 3, 15, 27, 3, 170839), '“국어 선택과목, 언어와 매체가 더 어려웠다”', 'https://news.naver.com/main/read.nhn?mode=LSD&mid=shm&sid1=102&oid=018&aid=0004946417')]\n",
      "200\n",
      "[(datetime.datetime(2021, 6, 3, 15, 27, 3, 312908), '\"동학개미가 먹여 살렸다\"…증권사, 증시 호황에 순익 \\'사상 최대\\'', 'https://news.naver.com/main/read.nhn?mode=LSD&mid=shm&sid1=101&oid=417&aid=0000700575'), (datetime.datetime(2021, 6, 3, 15, 27, 3, 312908), '문대통령 \"경제 성과 있으나 국민 고통…마음 아프다\"', 'https://news.naver.com/main/read.nhn?mode=LSD&mid=shm&sid1=100&oid=001&aid=0012435548'), (datetime.datetime(2021, 6, 3, 15, 27, 3, 312908), \"공정위, 삼성웰스토리 부당지원 '자진시정' 신청 기각\", 'https://news.naver.com/main/read.nhn?mode=LSD&mid=shm&sid1=101&oid=001&aid=0012435682'), (datetime.datetime(2021, 6, 3, 15, 27, 3, 312908), '화이자 \"대구시 제안받은 백신 정품 아닌 듯\"…정부 \"도입 협의 안 해\"', 'https://news.naver.com/main/read.nhn?mode=LSD&mid=shm&sid1=102&oid=003&aid=0010531759'), (datetime.datetime(2021, 6, 3, 15, 27, 3, 312908), '“국어 선택과목, 언어와 매체가 더 어려웠다”', 'https://news.naver.com/main/read.nhn?mode=LSD&mid=shm&sid1=102&oid=018&aid=0004946417')]\n",
      "200\n",
      "[(datetime.datetime(2021, 6, 3, 15, 27, 3, 504104), '\"동학개미가 먹여 살렸다\"…증권사, 증시 호황에 순익 \\'사상 최대\\'', 'https://news.naver.com/main/read.nhn?mode=LSD&mid=shm&sid1=101&oid=417&aid=0000700575'), (datetime.datetime(2021, 6, 3, 15, 27, 3, 505103), '문대통령 \"경제 성과 있으나 국민 고통…마음 아프다\"', 'https://news.naver.com/main/read.nhn?mode=LSD&mid=shm&sid1=100&oid=001&aid=0012435548'), (datetime.datetime(2021, 6, 3, 15, 27, 3, 505103), \"공정위, 삼성웰스토리 부당지원 '자진시정' 신청 기각\", 'https://news.naver.com/main/read.nhn?mode=LSD&mid=shm&sid1=101&oid=001&aid=0012435682'), (datetime.datetime(2021, 6, 3, 15, 27, 3, 505103), '화이자 \"대구시 제안받은 백신 정품 아닌 듯\"…정부 \"도입 협의 안 해\"', 'https://news.naver.com/main/read.nhn?mode=LSD&mid=shm&sid1=102&oid=003&aid=0010531759'), (datetime.datetime(2021, 6, 3, 15, 27, 3, 505103), '“국어 선택과목, 언어와 매체가 더 어려웠다”', 'https://news.naver.com/main/read.nhn?mode=LSD&mid=shm&sid1=102&oid=018&aid=0004946417')]\n",
      "200\n",
      "[(datetime.datetime(2021, 6, 3, 15, 27, 3, 679124), '文대통령 “초선의원들이 지지자들과 손 맞잡아달라”(상보)', 'https://news.naver.com/main/read.nhn?mode=LSD&mid=shm&sid1=100&oid=018&aid=0004946579'), (datetime.datetime(2021, 6, 3, 15, 27, 3, 680122), \"국방부, '부사관 성추행' 수사심의위원회 설치…군 사건 최초\", 'https://news.naver.com/main/read.nhn?mode=LSD&mid=shm&sid1=100&oid=001&aid=0012434901'), (datetime.datetime(2021, 6, 3, 15, 27, 3, 680122), '문 대통령, ‘공군 부사관 성추행’ 사건에 엄정 수사 지시…“가슴 아파”', 'https://news.naver.com/main/read.nhn?mode=LSD&mid=shm&sid1=100&oid=025&aid=0003106795'), (datetime.datetime(2021, 6, 3, 15, 27, 3, 680122), '백혜련 등 민주당 의원 132명, 日도쿄올림픽조직위 독도 표기 규탄 결의안 제출', 'https://news.naver.com/main/read.nhn?mode=LSD&mid=shm&sid1=100&oid=032&aid=0003077917'), (datetime.datetime(2021, 6, 3, 15, 27, 3, 680122), '방역당국 \"상반기 1300만명+α 접종 충분히 가능\"', 'https://news.naver.com/main/read.nhn?mode=LSD&mid=shm&sid1=102&oid=421&aid=0005391557')]\n",
      "200\n",
      "[(datetime.datetime(2021, 6, 3, 15, 27, 8, 893267), '\"대구에 화이자 백신 제안한 업체...플로리다 주소, 포르투갈 전화\"', 'https://news.naver.com/main/read.nhn?mode=LSD&mid=shm&sid1=102&oid=018&aid=0004946598'), (datetime.datetime(2021, 6, 3, 15, 27, 8, 893267), '증권사 1분기 순익 3조…종전 최대치 대비 38.6%↑', 'https://news.naver.com/main/read.nhn?mode=LSD&mid=shm&sid1=101&oid=016&aid=0001843812'), (datetime.datetime(2021, 6, 3, 15, 27, 8, 893267), \"전국 흐리고 비…한낮 '선선'\", 'https://news.naver.com/main/read.nhn?mode=LSD&mid=shm&sid1=103&oid=214&aid=0001122815'), (datetime.datetime(2021, 6, 3, 15, 27, 8, 893267), '대법 \"네이버 통유리 반사광 피해, 다시 판단하라\"', 'https://news.naver.com/main/read.nhn?mode=LSD&mid=shm&sid1=102&oid=277&aid=0004913900'), (datetime.datetime(2021, 6, 3, 15, 27, 8, 893267), '이용구 \"택시기사에 준 1천만원, 영상 삭제 대가 아냐\"', 'https://news.naver.com/main/read.nhn?mode=LSD&mid=shm&sid1=102&oid=629&aid=0000086865')]\n",
      "200\n",
      "[(datetime.datetime(2021, 6, 3, 15, 27, 9, 132724), '\"대구에 화이자 백신 제안한 업체...플로리다 주소, 포르투갈 전화\"', 'https://news.naver.com/main/read.nhn?mode=LSD&mid=shm&sid1=102&oid=018&aid=0004946598'), (datetime.datetime(2021, 6, 3, 15, 27, 9, 132724), '증권사 1분기 순익 3조…종전 최대치 대비 38.6%↑', 'https://news.naver.com/main/read.nhn?mode=LSD&mid=shm&sid1=101&oid=016&aid=0001843812'), (datetime.datetime(2021, 6, 3, 15, 27, 9, 132724), \"전국 흐리고 비…한낮 '선선'\", 'https://news.naver.com/main/read.nhn?mode=LSD&mid=shm&sid1=103&oid=214&aid=0001122815'), (datetime.datetime(2021, 6, 3, 15, 27, 9, 132724), '대법 \"네이버 통유리 반사광 피해, 다시 판단하라\"', 'https://news.naver.com/main/read.nhn?mode=LSD&mid=shm&sid1=102&oid=277&aid=0004913900'), (datetime.datetime(2021, 6, 3, 15, 27, 9, 132724), '이용구 \"택시기사에 준 1천만원, 영상 삭제 대가 아냐\"', 'https://news.naver.com/main/read.nhn?mode=LSD&mid=shm&sid1=102&oid=629&aid=0000086865')]\n",
      "200\n",
      "[(datetime.datetime(2021, 6, 3, 15, 27, 14, 382951), '\"대구에 화이자 백신 제안한 업체...플로리다 주소, 포르투갈 전화\"', 'https://news.naver.com/main/read.nhn?mode=LSD&mid=shm&sid1=102&oid=018&aid=0004946598'), (datetime.datetime(2021, 6, 3, 15, 27, 14, 382951), \"지난해 이자도 못 낸 ‘좀비기업' 34.5% 사상 최대\", 'https://news.naver.com/main/read.nhn?mode=LSD&mid=shm&sid1=101&oid=366&aid=0000727407'), (datetime.datetime(2021, 6, 3, 15, 27, 14, 382951), '‘인수금액 6000억 + 월 100만명 이용’ 공정위 M&A 심사 대상', 'https://news.naver.com/main/read.nhn?mode=LSD&mid=shm&sid1=101&oid=016&aid=0001843841'), (datetime.datetime(2021, 6, 3, 15, 27, 14, 383952), '윤석열 측 \"일부 정치인 언행 도 넘었다…대응할 것\"', 'https://news.naver.com/main/read.nhn?mode=LSD&mid=shm&sid1=100&oid=437&aid=0000267939'), (datetime.datetime(2021, 6, 3, 15, 27, 14, 383952), '\"보이콧도 검토\"…의원 132명, 도쿄올림픽 \\'독도 표기\\' 규탄', 'https://news.naver.com/main/read.nhn?mode=LSD&mid=shm&sid1=100&oid=215&aid=0000962312')]\n",
      "200\n",
      "[(datetime.datetime(2021, 6, 3, 15, 27, 14, 546627), '\"대구에 화이자 백신 제안한 업체...플로리다 주소, 포르투갈 전화\"', 'https://news.naver.com/main/read.nhn?mode=LSD&mid=shm&sid1=102&oid=018&aid=0004946598'), (datetime.datetime(2021, 6, 3, 15, 27, 14, 546627), \"지난해 이자도 못 낸 ‘좀비기업' 34.5% 사상 최대\", 'https://news.naver.com/main/read.nhn?mode=LSD&mid=shm&sid1=101&oid=366&aid=0000727407'), (datetime.datetime(2021, 6, 3, 15, 27, 14, 546627), '‘인수금액 6000억 + 월 100만명 이용’ 공정위 M&A 심사 대상', 'https://news.naver.com/main/read.nhn?mode=LSD&mid=shm&sid1=101&oid=016&aid=0001843841'), (datetime.datetime(2021, 6, 3, 15, 27, 14, 546627), '윤석열 측 \"일부 정치인 언행 도 넘었다…대응할 것\"', 'https://news.naver.com/main/read.nhn?mode=LSD&mid=shm&sid1=100&oid=437&aid=0000267939'), (datetime.datetime(2021, 6, 3, 15, 27, 14, 546627), '\"보이콧도 검토\"…의원 132명, 도쿄올림픽 \\'독도 표기\\' 규탄', 'https://news.naver.com/main/read.nhn?mode=LSD&mid=shm&sid1=100&oid=215&aid=0000962312')]\n",
      "200\n",
      "[(datetime.datetime(2021, 6, 3, 15, 27, 14, 682133), '이용구 \"택시기사, 억울하게 증거인멸죄로 입건돼 죄송\"', 'https://news.naver.com/main/read.nhn?mode=LSD&mid=shm&sid1=102&oid=055&aid=0000898333'), (datetime.datetime(2021, 6, 3, 15, 27, 14, 682133), '금융위, \"공매도 원활히 안착\"…무차입 의심거래 720건 감리(종합)', 'https://news.naver.com/main/read.nhn?mode=LSD&mid=shm&sid1=101&oid=277&aid=0004914092'), (datetime.datetime(2021, 6, 3, 15, 27, 14, 682133), '정부 \"대구시 주선 화이자 백신 진위 의심…구매 안한다\"', 'https://news.naver.com/main/read.nhn?mode=LSD&mid=shm&sid1=102&oid=001&aid=0012435457'), (datetime.datetime(2021, 6, 3, 15, 27, 14, 682133), \"국회의원 132명 '도쿄올림픽 지도 독도 삭제' 규탄결의안 발의\", 'https://news.naver.com/main/read.nhn?mode=LSD&mid=shm&sid1=100&oid=011&aid=0003918697'), (datetime.datetime(2021, 6, 3, 15, 27, 14, 683133), '부사관 유족측 \"성추행 피해 더 있다\"…2차가해 등 3명 추가고소', 'https://news.naver.com/main/read.nhn?mode=LSD&mid=shm&sid1=100&oid=421&aid=0005391727')]\n",
      "200\n",
      "[(datetime.datetime(2021, 6, 3, 15, 27, 14, 823724), '이용구 \"택시기사, 억울하게 증거인멸죄로 입건돼 죄송\"', 'https://news.naver.com/main/read.nhn?mode=LSD&mid=shm&sid1=102&oid=055&aid=0000898333'), (datetime.datetime(2021, 6, 3, 15, 27, 14, 823724), '금융위, \"공매도 원활히 안착\"…무차입 의심거래 720건 감리(종합)', 'https://news.naver.com/main/read.nhn?mode=LSD&mid=shm&sid1=101&oid=277&aid=0004914092'), (datetime.datetime(2021, 6, 3, 15, 27, 14, 823724), '정부 \"대구시 주선 화이자 백신 진위 의심…구매 안한다\"', 'https://news.naver.com/main/read.nhn?mode=LSD&mid=shm&sid1=102&oid=001&aid=0012435457'), (datetime.datetime(2021, 6, 3, 15, 27, 14, 823724), \"국회의원 132명 '도쿄올림픽 지도 독도 삭제' 규탄결의안 발의\", 'https://news.naver.com/main/read.nhn?mode=LSD&mid=shm&sid1=100&oid=011&aid=0003918697'), (datetime.datetime(2021, 6, 3, 15, 27, 14, 823724), '부사관 유족측 \"성추행 피해 더 있다\"…2차가해 등 3명 추가고소', 'https://news.naver.com/main/read.nhn?mode=LSD&mid=shm&sid1=100&oid=421&aid=0005391727')]\n"
     ]
    },
    {
     "name": "stdout",
     "output_type": "stream",
     "text": [
      "200\n",
      "[(datetime.datetime(2021, 6, 3, 15, 27, 20, 57112), \"文대통령, '공군 여부사관 성폭력 사망사건' 엄정수사 강력 지시\", 'https://news.naver.com/main/read.nhn?mode=LSD&mid=shm&sid1=100&oid=123&aid=0002247485'), (datetime.datetime(2021, 6, 3, 15, 27, 20, 57112), '이용구 \"택시기사에 거듭 사과...영상 유포 우려해 삭제 요청\"', 'https://news.naver.com/main/read.nhn?mode=LSD&mid=shm&sid1=102&oid=052&aid=0001596289'), (datetime.datetime(2021, 6, 3, 15, 27, 20, 57112), \"SK 이번엔 '청록수소' 투자, 韓 수소 선택지 늘어난다\", 'https://news.naver.com/main/read.nhn?mode=LSD&mid=shm&sid1=101&oid=008&aid=0004596584'), (datetime.datetime(2021, 6, 3, 15, 27, 20, 57112), \"국방부, 여성 부사관 성추행·사망 사건에 '군검찰 수사심의위' 설치\", 'https://news.naver.com/main/read.nhn?mode=LSD&mid=shm&sid1=100&oid=047&aid=0002315027'), (datetime.datetime(2021, 6, 3, 15, 27, 20, 57112), '1분기 증권사 순이익, 분기 사상 최대…3조 육박', 'https://news.naver.com/main/read.nhn?mode=LSD&mid=shm&sid1=101&oid=003&aid=0010531767')]\n",
      "200\n",
      "[(datetime.datetime(2021, 6, 3, 15, 27, 20, 245228), \"文대통령, '공군 여부사관 성폭력 사망사건' 엄정수사 강력 지시\", 'https://news.naver.com/main/read.nhn?mode=LSD&mid=shm&sid1=100&oid=123&aid=0002247485'), (datetime.datetime(2021, 6, 3, 15, 27, 20, 245228), '이용구 \"택시기사에 거듭 사과...영상 유포 우려해 삭제 요청\"', 'https://news.naver.com/main/read.nhn?mode=LSD&mid=shm&sid1=102&oid=052&aid=0001596289'), (datetime.datetime(2021, 6, 3, 15, 27, 20, 245228), \"SK 이번엔 '청록수소' 투자, 韓 수소 선택지 늘어난다\", 'https://news.naver.com/main/read.nhn?mode=LSD&mid=shm&sid1=101&oid=008&aid=0004596584'), (datetime.datetime(2021, 6, 3, 15, 27, 20, 245228), \"국방부, 여성 부사관 성추행·사망 사건에 '군검찰 수사심의위' 설치\", 'https://news.naver.com/main/read.nhn?mode=LSD&mid=shm&sid1=100&oid=047&aid=0002315027'), (datetime.datetime(2021, 6, 3, 15, 27, 20, 245228), '1분기 증권사 순이익, 분기 사상 최대…3조 육박', 'https://news.naver.com/main/read.nhn?mode=LSD&mid=shm&sid1=101&oid=003&aid=0010531767')]\n",
      "200\n",
      "[(datetime.datetime(2021, 6, 3, 15, 27, 25, 399383), '대법 \"사옥 햇빛 반사로 주민 피해, 네이버 배상책임\"', 'https://news.naver.com/main/read.nhn?mode=LSD&mid=shm&sid1=102&oid=052&aid=0001596438'), (datetime.datetime(2021, 6, 3, 15, 27, 25, 399383), '정부 \"대구시 주선 화이자 백신 진위 의심…구매 않기로\"', 'https://news.naver.com/main/read.nhn?mode=LSD&mid=shm&sid1=102&oid=214&aid=0001122850'), (datetime.datetime(2021, 6, 3, 15, 27, 25, 399383), 'SK㈜, 美 수소기업 모놀리스에 투자…청록수소 사업 진출', 'https://news.naver.com/main/read.nhn?mode=LSD&mid=shm&sid1=101&oid=025&aid=0003106829'), (datetime.datetime(2021, 6, 3, 15, 27, 25, 399383), '日 도쿄올림픽 홈피에 \\'독도 표기\\'... 백혜련 \"영유권 침해, 삭제하라\"', 'https://news.naver.com/main/read.nhn?mode=LSD&mid=shm&sid1=100&oid=469&aid=0000608498'), (datetime.datetime(2021, 6, 3, 15, 27, 25, 400400), '벌어서 이자도 못내는 기업 비중 34.5%…통계작성 후 최대', 'https://news.naver.com/main/read.nhn?mode=LSD&mid=shm&sid1=101&oid=016&aid=0001843831')]\n",
      "200\n",
      "[(datetime.datetime(2021, 6, 3, 15, 27, 25, 617607), '정부 “대구 화이자 신뢰성 문제… 도입 않기로”', 'https://news.naver.com/main/read.nhn?mode=LSD&mid=shm&sid1=102&oid=366&aid=0000727398'), (datetime.datetime(2021, 6, 3, 15, 27, 25, 617607), '국방부 “은폐·무마·회유 등 모든 의혹 원점서 재수사할 것”', 'https://news.naver.com/main/read.nhn?mode=LSD&mid=shm&sid1=100&oid=028&aid=0002547018'), (datetime.datetime(2021, 6, 3, 15, 27, 25, 618588), \"'범LG家 3세' 아워홈 구본성, 보복운전으로 1심 집행유예\", 'https://news.naver.com/main/read.nhn?mode=LSD&mid=shm&sid1=102&oid=001&aid=0012435881'), (datetime.datetime(2021, 6, 3, 15, 27, 25, 618588), '오늘 또 비 소식…더위 주춤[굿모닝 날씨]', 'https://news.naver.com/main/read.nhn?mode=LSD&mid=shm&sid1=103&oid=056&aid=0011056458'), (datetime.datetime(2021, 6, 3, 15, 27, 25, 618588), '文대통령 “초선의원들이 지지자들과 손 맞잡아달라”(상보)', 'https://news.naver.com/main/read.nhn?mode=LSD&mid=shm&sid1=100&oid=018&aid=0004946579')]\n",
      "200\n",
      "[(datetime.datetime(2021, 6, 3, 15, 27, 25, 765635), '정부 “대구 화이자 신뢰성 문제… 도입 않기로”', 'https://news.naver.com/main/read.nhn?mode=LSD&mid=shm&sid1=102&oid=366&aid=0000727398'), (datetime.datetime(2021, 6, 3, 15, 27, 25, 765635), '국방부 “은폐·무마·회유 등 모든 의혹 원점서 재수사할 것”', 'https://news.naver.com/main/read.nhn?mode=LSD&mid=shm&sid1=100&oid=028&aid=0002547018'), (datetime.datetime(2021, 6, 3, 15, 27, 25, 765635), \"'범LG家 3세' 아워홈 구본성, 보복운전으로 1심 집행유예\", 'https://news.naver.com/main/read.nhn?mode=LSD&mid=shm&sid1=102&oid=001&aid=0012435881'), (datetime.datetime(2021, 6, 3, 15, 27, 25, 765635), '오늘 또 비 소식…더위 주춤[굿모닝 날씨]', 'https://news.naver.com/main/read.nhn?mode=LSD&mid=shm&sid1=103&oid=056&aid=0011056458'), (datetime.datetime(2021, 6, 3, 15, 27, 25, 765635), '文대통령 “초선의원들이 지지자들과 손 맞잡아달라”(상보)', 'https://news.naver.com/main/read.nhn?mode=LSD&mid=shm&sid1=100&oid=018&aid=0004946579')]\n",
      "200\n",
      "[(datetime.datetime(2021, 6, 3, 15, 27, 25, 909297), '정부 “대구 화이자 신뢰성 문제… 도입 않기로”', 'https://news.naver.com/main/read.nhn?mode=LSD&mid=shm&sid1=102&oid=366&aid=0000727398'), (datetime.datetime(2021, 6, 3, 15, 27, 25, 909297), '국방부 “은폐·무마·회유 등 모든 의혹 원점서 재수사할 것”', 'https://news.naver.com/main/read.nhn?mode=LSD&mid=shm&sid1=100&oid=028&aid=0002547018'), (datetime.datetime(2021, 6, 3, 15, 27, 25, 909297), \"'범LG家 3세' 아워홈 구본성, 보복운전으로 1심 집행유예\", 'https://news.naver.com/main/read.nhn?mode=LSD&mid=shm&sid1=102&oid=001&aid=0012435881'), (datetime.datetime(2021, 6, 3, 15, 27, 25, 909297), '오늘 또 비 소식…더위 주춤[굿모닝 날씨]', 'https://news.naver.com/main/read.nhn?mode=LSD&mid=shm&sid1=103&oid=056&aid=0011056458'), (datetime.datetime(2021, 6, 3, 15, 27, 25, 909297), '文대통령 “초선의원들이 지지자들과 손 맞잡아달라”(상보)', 'https://news.naver.com/main/read.nhn?mode=LSD&mid=shm&sid1=100&oid=018&aid=0004946579')]\n",
      "200\n",
      "[(datetime.datetime(2021, 6, 3, 15, 27, 31, 74088), '공군 부사관 유족 측 “피해 사례 더 있어”…부사관 3명 추가 고소', 'https://news.naver.com/main/read.nhn?mode=LSD&mid=shm&sid1=100&oid=081&aid=0003191325'), (datetime.datetime(2021, 6, 3, 15, 27, 31, 74088), \"'아워홈' 구본성 부회장, 보복운전으로 1심 집행유예\", 'https://news.naver.com/main/read.nhn?mode=LSD&mid=shm&sid1=102&oid=055&aid=0000898401'), (datetime.datetime(2021, 6, 3, 15, 27, 31, 74088), '여당 초선들 만난 문 대통령 “경제 성과 있지만 국민 고통 마음 아프다”···초선들은 “재정 확대 요청”', 'https://news.naver.com/main/read.nhn?mode=LSD&mid=shm&sid1=100&oid=032&aid=0003077977'), (datetime.datetime(2021, 6, 3, 15, 27, 31, 74088), '전국 대부분에 비…더위는 한풀 꺾여', 'https://news.naver.com/main/read.nhn?mode=LSD&mid=shm&sid1=102&oid=018&aid=0004946534'), (datetime.datetime(2021, 6, 3, 15, 27, 31, 74088), '[속보] 문 대통령, 공군 부사관 사망에 “엄중한 조치 있어야”', 'https://news.naver.com/main/read.nhn?mode=LSD&mid=shm&sid1=100&oid=005&aid=0001444569')]\n",
      "200\n",
      "[(datetime.datetime(2021, 6, 3, 15, 27, 31, 225087), '공군 부사관 유족 측 “피해 사례 더 있어”…부사관 3명 추가 고소', 'https://news.naver.com/main/read.nhn?mode=LSD&mid=shm&sid1=100&oid=081&aid=0003191325'), (datetime.datetime(2021, 6, 3, 15, 27, 31, 225087), \"'아워홈' 구본성 부회장, 보복운전으로 1심 집행유예\", 'https://news.naver.com/main/read.nhn?mode=LSD&mid=shm&sid1=102&oid=055&aid=0000898401'), (datetime.datetime(2021, 6, 3, 15, 27, 31, 225087), '여당 초선들 만난 문 대통령 “경제 성과 있지만 국민 고통 마음 아프다”···초선들은 “재정 확대 요청”', 'https://news.naver.com/main/read.nhn?mode=LSD&mid=shm&sid1=100&oid=032&aid=0003077977'), (datetime.datetime(2021, 6, 3, 15, 27, 31, 225087), '전국 대부분에 비…더위는 한풀 꺾여', 'https://news.naver.com/main/read.nhn?mode=LSD&mid=shm&sid1=102&oid=018&aid=0004946534'), (datetime.datetime(2021, 6, 3, 15, 27, 31, 225087), '[속보] 문 대통령, 공군 부사관 사망에 “엄중한 조치 있어야”', 'https://news.naver.com/main/read.nhn?mode=LSD&mid=shm&sid1=100&oid=005&aid=0001444569')]\n",
      "200\n",
      "[(datetime.datetime(2021, 6, 3, 15, 27, 36, 460357), '문 대통령 \"최고 상급자 포함 지휘 문제 점검 엄중 처리\"', 'https://news.naver.com/main/read.nhn?mode=LSD&mid=shm&sid1=100&oid=214&aid=0001122818'), (datetime.datetime(2021, 6, 3, 15, 27, 36, 460357), '日 도쿄올림픽 홈피에 \\'독도 표기\\'... 백혜련 \"영유권 침해, 삭제하라\"', 'https://news.naver.com/main/read.nhn?mode=LSD&mid=shm&sid1=100&oid=469&aid=0000608498'), (datetime.datetime(2021, 6, 3, 15, 27, 36, 460357), '부담 던 정부…70~74세 백신 예약률 80% 돌파', 'https://news.naver.com/main/read.nhn?mode=LSD&mid=shm&sid1=102&oid=016&aid=0001843802'), (datetime.datetime(2021, 6, 3, 15, 27, 36, 460357), '軍 검찰 수사심의위 설치·운영...민간 전문가 참여', 'https://news.naver.com/main/read.nhn?mode=LSD&mid=shm&sid1=100&oid=052&aid=0001596318'), (datetime.datetime(2021, 6, 3, 15, 27, 36, 460357), '대구시 연락한 무역사는 가짜?…화이자, 법적조치도 검토', 'https://news.naver.com/main/read.nhn?mode=LSD&mid=shm&sid1=101&oid=008&aid=0004596625')]\n",
      "200\n",
      "[(datetime.datetime(2021, 6, 3, 15, 27, 36, 600371), '메가스터디 \"6월 모평 수학, 공통과목서 변별력·선택과목 평이\"', 'https://news.naver.com/main/read.nhn?mode=LSD&mid=shm&sid1=102&oid=008&aid=0004596670'), (datetime.datetime(2021, 6, 3, 15, 27, 36, 600371), '\"대구에 화이자 백신 제안한 업체...플로리다 주소, 포르투갈 전화\"', 'https://news.naver.com/main/read.nhn?mode=LSD&mid=shm&sid1=102&oid=018&aid=0004946598'), (datetime.datetime(2021, 6, 3, 15, 27, 36, 600371), '군 검경·국방부, 합동 수사…첫 수사심의위', 'https://news.naver.com/main/read.nhn?mode=LSD&mid=shm&sid1=100&oid=214&aid=0001122857'), (datetime.datetime(2021, 6, 3, 15, 27, 36, 600371), '文대통령 \"내부 단합과 외연 확장할 때 지지 만들어진다\"', 'https://news.naver.com/main/read.nhn?mode=LSD&mid=shm&sid1=100&oid=002&aid=0002192463'), (datetime.datetime(2021, 6, 3, 15, 27, 36, 600371), '이용구 \"1천만원은 합의금…영상 삭제 대가 아냐\"(종합)', 'https://news.naver.com/main/read.nhn?mode=LSD&mid=shm&sid1=102&oid=001&aid=0012434926')]\n",
      "200\n",
      "[(datetime.datetime(2021, 6, 3, 15, 27, 36, 746366), '메가스터디 \"6월 모평 수학, 공통과목서 변별력·선택과목 평이\"', 'https://news.naver.com/main/read.nhn?mode=LSD&mid=shm&sid1=102&oid=008&aid=0004596670'), (datetime.datetime(2021, 6, 3, 15, 27, 36, 747366), '\"대구에 화이자 백신 제안한 업체...플로리다 주소, 포르투갈 전화\"', 'https://news.naver.com/main/read.nhn?mode=LSD&mid=shm&sid1=102&oid=018&aid=0004946598'), (datetime.datetime(2021, 6, 3, 15, 27, 36, 747366), '군 검경·국방부, 합동 수사…첫 수사심의위', 'https://news.naver.com/main/read.nhn?mode=LSD&mid=shm&sid1=100&oid=214&aid=0001122857'), (datetime.datetime(2021, 6, 3, 15, 27, 36, 747366), '文대통령 \"내부 단합과 외연 확장할 때 지지 만들어진다\"', 'https://news.naver.com/main/read.nhn?mode=LSD&mid=shm&sid1=100&oid=002&aid=0002192463'), (datetime.datetime(2021, 6, 3, 15, 27, 36, 747366), '이용구 \"1천만원은 합의금…영상 삭제 대가 아냐\"(종합)', 'https://news.naver.com/main/read.nhn?mode=LSD&mid=shm&sid1=102&oid=001&aid=0012434926')]\n"
     ]
    },
    {
     "name": "stdout",
     "output_type": "stream",
     "text": [
      "200\n",
      "[(datetime.datetime(2021, 6, 3, 15, 27, 36, 986357), '대법 \"네이버 통유리 사옥, 태양반사광 생활 방해 인정돼\"', 'https://news.naver.com/main/read.nhn?mode=LSD&mid=shm&sid1=102&oid=011&aid=0003918547'), (datetime.datetime(2021, 6, 3, 15, 27, 36, 986357), '尹측 “무리한 가족 수사 1년 3개월 째, 정치인들 언행 도 넘어”', 'https://news.naver.com/main/read.nhn?mode=LSD&mid=shm&sid1=102&oid=023&aid=0003617946'), (datetime.datetime(2021, 6, 3, 15, 27, 36, 986357), '문대통령 \"국민 고통 마음아파\"…與초선 \"곳간 더 열어야\"', 'https://news.naver.com/main/read.nhn?mode=LSD&mid=shm&sid1=100&oid=422&aid=0000488200'), (datetime.datetime(2021, 6, 3, 15, 27, 36, 986357), \"'보복운전' 구본성 아워홈 부회장 1심서 집행유예 2년\", 'https://news.naver.com/main/read.nhn?mode=LSD&mid=shm&sid1=102&oid=009&aid=0004803679'), (datetime.datetime(2021, 6, 3, 15, 27, 36, 987356), '금융위, \"공매도 원활히 안착\"…무차입 의심거래 720건 감리(종합)', 'https://news.naver.com/main/read.nhn?mode=LSD&mid=shm&sid1=101&oid=277&aid=0004914092')]\n"
     ]
    },
    {
     "ename": "KeyboardInterrupt",
     "evalue": "",
     "output_type": "error",
     "traceback": [
      "\u001b[1;31m---------------------------------------------------------------------------\u001b[0m",
      "\u001b[1;31mKeyboardInterrupt\u001b[0m                         Traceback (most recent call last)",
      "\u001b[1;32m<ipython-input-28-b2ddd3e99481>\u001b[0m in \u001b[0;36m<module>\u001b[1;34m\u001b[0m\n\u001b[0;32m     61\u001b[0m \u001b[1;32mwhile\u001b[0m \u001b[1;32mTrue\u001b[0m\u001b[1;33m:\u001b[0m\u001b[1;33m\u001b[0m\u001b[1;33m\u001b[0m\u001b[0m\n\u001b[0;32m     62\u001b[0m     \u001b[0mschedule\u001b[0m\u001b[1;33m.\u001b[0m\u001b[0mrun_pending\u001b[0m\u001b[1;33m(\u001b[0m\u001b[1;33m)\u001b[0m\u001b[1;33m\u001b[0m\u001b[1;33m\u001b[0m\u001b[0m\n\u001b[1;32m---> 63\u001b[1;33m     \u001b[0mtime\u001b[0m\u001b[1;33m.\u001b[0m\u001b[0msleep\u001b[0m\u001b[1;33m(\u001b[0m\u001b[1;36m5\u001b[0m\u001b[1;33m)\u001b[0m\u001b[1;33m\u001b[0m\u001b[1;33m\u001b[0m\u001b[0m\n\u001b[0m\u001b[0;32m     64\u001b[0m \u001b[1;33m\u001b[0m\u001b[0m\n",
      "\u001b[1;31mKeyboardInterrupt\u001b[0m: "
     ]
    }
   ],
   "source": [
    "import requests\n",
    "from bs4 import BeautifulSoup\n",
    "import datetime\n",
    "import sqlite3 as sq\n",
    "import pandas as pd\n",
    "import schedule\n",
    "import time\n",
    "\n",
    "def scrap():\n",
    "    url = 'https://news.naver.com'\n",
    "\n",
    "    headers = {\n",
    "        'user-agent': 'Mozilla/5.0 (Windows NT 10.0; Win64; x64) AppleWebKit/537.36 (KHTML, like Gecko) Chrome/91.0.4472.77 Safari/537.36'\n",
    "    }\n",
    "\n",
    "    res = requests.get(url, headers=headers)\n",
    "    print(res.status_code)\n",
    "\n",
    "    bs = BeautifulSoup(res.text, 'lxml')\n",
    "\n",
    "    ul = bs.select_one('#today_main_news > div.hdline_news > ul')\n",
    "    lis = ul.select('li')\n",
    "    news_list = [] # 뉴스 기사를 담을 리스트\n",
    "    for li in lis:\n",
    "        title = li.select_one('div.hdline_article_tit > a').get_text().strip()\n",
    "        link = url + li.select_one('div.hdline_article_tit > a').get('href', '')\n",
    "    #     print(title, link)\n",
    "\n",
    "        news_list.append((datetime.datetime.now(),title, link))\n",
    "\n",
    "    print(news_list)\n",
    "    return news_list\n",
    "\n",
    "def insert_db(news):\n",
    "\n",
    "    con = sq.connect(\"naver_news.db\")\n",
    "    cur = con.cursor()\n",
    "\n",
    "    cur.executemany('''\n",
    "                    INSERT INTO NAVER_NEWS(REG_DATE, TITLE, LINK) VALUES(?,?,?)\n",
    "                    '''\n",
    "                   , news\n",
    "                   )\n",
    "\n",
    "    con.commit()\n",
    "    con.close()\n",
    "def create_table():\n",
    "    con = sq.connect(\"naver_news.db\")\n",
    "    cur = con.cursor()\n",
    "    cur.execute(\"CREATE TABLE IF NOT EXISTS NAVER_NEWS (REG_DATE TEXT, TITLE TEXT, LINK TEXT)\")\n",
    "\n",
    "con.close()\n",
    "def job():\n",
    "    news = scrap()\n",
    "    insert_db(news)\n",
    "    \n",
    "create_table()\n",
    "\n",
    "schedule.every(5).seconds.do(job)\n",
    "schedule.every(10).seconds.do(scrap)\n",
    "while True:\n",
    "    schedule.run_pending()\n",
    "    time.sleep(5)\n",
    "    "
   ]
  }
 ],
 "metadata": {
  "kernelspec": {
   "display_name": "Python 3",
   "language": "python",
   "name": "python3"
  },
  "language_info": {
   "codemirror_mode": {
    "name": "ipython",
    "version": 3
   },
   "file_extension": ".py",
   "mimetype": "text/x-python",
   "name": "python",
   "nbconvert_exporter": "python",
   "pygments_lexer": "ipython3",
   "version": "3.8.8"
  }
 },
 "nbformat": 4,
 "nbformat_minor": 4
}
